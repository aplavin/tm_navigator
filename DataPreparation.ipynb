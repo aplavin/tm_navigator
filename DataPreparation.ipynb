{
 "metadata": {
  "name": "",
  "signature": "sha256:e89b6a16396f40e88c3275992e3ab46e24d11bba9df80d462b120d880edc1f3e"
 },
 "nbformat": 3,
 "nbformat_minor": 0,
 "worksheets": [
  {
   "cells": [
    {
     "cell_type": "code",
     "collapsed": false,
     "input": [
      "import codecs\n",
      "import numpy as np\n",
      "import scipy.sparse\n",
      "from scipy.ndimage.filters import convolve1d\n",
      "import sys\n",
      "import comp_exp\n",
      "import py_artm\n",
      "import h5py\n",
      "sys.path.append('/home/alexander/strijov/MLAlgorithms/Group174/Plavin2014TopicsNumberOptimization/code')\n",
      "from utils import *\n",
      "from ggplot_utils import *\n",
      "from IPython.display import display\n",
      "from functools import partial\n",
      "from itertools import count, groupby\n",
      "from ipy_progressbar import ProgressBar\n",
      "from itertools import starmap\n",
      "import codecs\n",
      "from pprint import pprint\n",
      "from recordtype import recordtype\n",
      "import re\n",
      "from glob import glob\n",
      "\n",
      "from rpy2.robjects import pandas2ri\n",
      "pandas2ri.activate()\n",
      "import rpy2.robjects as robj\n",
      "from rpy2.robjects.lib import ggplot2 as gg\n",
      "from rpy2.ipython.ggplot import ggplot as iggplot\n",
      "from rpy2.robjects.packages import importr\n",
      "rbase = importr('base')\n",
      "\n",
      "%matplotlib inline\n",
      "%load_ext rpy2.ipython.rmagic\n",
      "\n",
      "from ggplot_utils import *\n",
      "MyGGPlot.latex_enabled = False"
     ],
     "language": "python",
     "metadata": {},
     "outputs": [
      {
       "output_type": "stream",
       "stream": "stderr",
       "text": [
        "/usr/lib/python2.7/distutils/dist.py:267: UserWarning: Unknown distribution option: 'library_dirs'\n",
        "  warnings.warn(msg)\n"
       ]
      }
     ],
     "prompt_number": 1
    },
    {
     "cell_type": "code",
     "collapsed": false,
     "input": [
      "ds = []\n",
      "ws = []\n",
      "cnts = []\n",
      "\n",
      "with open('MMRO_new.txt') as nwdf:\n",
      "    D = int(nwdf.readline())\n",
      "    W = int(nwdf.readline())\n",
      "    \n",
      "    for line in nwdf:\n",
      "        d, w, cnt = map(int, line.split())\n",
      "        ds.append(d)\n",
      "        ws.append(w)\n",
      "        cnts.append(cnt)\n",
      "        \n",
      "nwd = scipy.sparse.coo_matrix((cnts, (ws, ds))).astype(np.float32)"
     ],
     "language": "python",
     "metadata": {},
     "outputs": [],
     "prompt_number": 2
    },
    {
     "cell_type": "code",
     "collapsed": false,
     "input": [
      "nwd.shape, sum(nwd.sum(1).A1 == 0), sum(nwd.sum(0).A1 == 0), 13031-668"
     ],
     "language": "python",
     "metadata": {},
     "outputs": [
      {
       "metadata": {},
       "output_type": "pyout",
       "prompt_number": 3,
       "text": [
        "((12363, 1009), 0, 0, 12363)"
       ]
      }
     ],
     "prompt_number": 3
    },
    {
     "cell_type": "code",
     "collapsed": false,
     "input": [
      "with open('MMRO_new.txt', 'w') as nwdf:\n",
      "    new_nwd = nwd.tocsr()[np.nonzero(nwd.sum(1).A1)[0], :].tocoo()\n",
      "    \n",
      "    nwdf.write(str(new_nwd.shape[1]) + '\\n')\n",
      "    nwdf.write(str(new_nwd.shape[0]) + '\\n')\n",
      "    \n",
      "    for w, d, cnt in zip(new_nwd.row, new_nwd.col, new_nwd.data):\n",
      "        nwdf.write('%d %d %d' % (d, w, cnt) + '\\n')"
     ],
     "language": "python",
     "metadata": {},
     "outputs": [],
     "prompt_number": 4
    },
    {
     "cell_type": "code",
     "collapsed": false,
     "input": [
      "    A = np.random.randint(0, 10, size=(3,))\n",
      "    B = np.random.randint(0, 10, size=(5,))\n",
      "    I = np.random.randint(0, 5, size=(3,))\n",
      "\n",
      "    def f(a, i, b):\n",
      "        return (a, i, b)\n",
      "\n",
      "    print A, I, B\n",
      "    print list(starmap(f, zip(A, I, B[I])))\n",
      "    print np.vectorize(f)(A, I, B[I])"
     ],
     "language": "python",
     "metadata": {},
     "outputs": [
      {
       "output_type": "stream",
       "stream": "stdout",
       "text": [
        "[8 7 4] [4 0 1] [8 1 0 9 3]\n",
        "[(8, 4, 3), (7, 0, 8), (4, 1, 1)]\n",
        "(array([8, 7, 4]), array([4, 0, 1]), array([3, 8, 1]))\n"
       ]
      }
     ],
     "prompt_number": 25
    },
    {
     "cell_type": "code",
     "collapsed": false,
     "input": [
      "    A = np.random.randint(0, 10, size=(2, 3))\n",
      "    B = np.random.randint(0, 10, size=(2, 5))\n",
      "    I = np.random.randint(0, 5, size=(2, 3))\n",
      "\n",
      "    def f(a, i, b):\n",
      "        return (a, i, b)\n",
      "\n",
      "    print A\n",
      "    print I\n",
      "    print B\n",
      "    print [list(starmap(f, zip(A_row, I_row, B_row[I_row])))\n",
      "           for A_row, I_row, B_row in zip(A, I, B)]"
     ],
     "language": "python",
     "metadata": {},
     "outputs": [
      {
       "output_type": "stream",
       "stream": "stdout",
       "text": [
        "[[2 7 2]\n",
        " [8 9 2]]\n",
        "[[1 0 1]\n",
        " [1 1 3]]\n",
        "[[4 4 4 9 8]\n",
        " [9 2 9 3 3]]\n",
        "[[(2, 1, 4), (7, 0, 4), (2, 1, 4)], [(8, 1, 2), (9, 1, 2), (2, 3, 3)]]\n"
       ]
      }
     ],
     "prompt_number": 26
    },
    {
     "cell_type": "code",
     "collapsed": false,
     "input": [
      "tau = 0.2\n",
      "t_init = 50\n",
      "\n",
      "em = py_artm.plsa.PlsaEmRational(nwd,\n",
      "                                 t_init,\n",
      "                                 [py_artm.quantities.Perplexity(), py_artm.quantities.TopicsLeft(),\n",
      "                                  py_artm.stop_conditions.ValueBounds('topics_left', lo=2)])\n",
      "em.iterate(200, quiet=1)"
     ],
     "language": "python",
     "metadata": {},
     "outputs": []
    },
    {
     "cell_type": "code",
     "collapsed": false,
     "input": [
      "with codecs.open('authors.txt', encoding='utf-8') as authf:\n",
      "    lines = [line.strip() for line in authf]\n",
      "    docinfos = []\n",
      "    i = 0\n",
      "    while i < len(lines):\n",
      "        assert int(lines[i]) * 3 == i\n",
      "        assert int(lines[i]) == len(docinfos)\n",
      "        i += 1\n",
      "        docinfo = []\n",
      "        while i < len(lines) and not lines[i].isdigit():\n",
      "            docinfo.append(lines[i])\n",
      "            i += 1\n",
      "        assert len(docinfo) == 2\n",
      "        docinfos.append(tuple(docinfo))\n",
      "    docinfos = np.array(docinfos, dtype=h5py.special_dtype(vlen=unicode))"
     ],
     "language": "python",
     "metadata": {},
     "outputs": [],
     "prompt_number": 4
    },
    {
     "cell_type": "code",
     "collapsed": false,
     "input": [
      "with codecs.open('dictionary_new.txt', encoding='utf-8') as dictf:\n",
      "    assert nwd.shape[0] == int(dictf.readline().strip())\n",
      "    indwords = [line.strip().split(' ', 1) for line in dictf]\n",
      "    indwords[723] = ['723', '']\n",
      "    assert all(int(ind) == i for i, (ind, w) in enumerate(indwords))\n",
      "    words = [w.lower() for ind, w in indwords]\n",
      "    words = np.array(words, dtype=h5py.special_dtype(vlen=unicode))"
     ],
     "language": "python",
     "metadata": {},
     "outputs": [],
     "prompt_number": 5
    },
    {
     "cell_type": "code",
     "collapsed": false,
     "input": [
      "with codecs.open('dictionary_new.txt', mode='w', encoding='utf-8') as dictf:\n",
      "    words_new = words[np.nonzero(nwd.sum(1).A1)[0]]\n",
      "    dictf.write(str(words_new.shape[0]) + '\\n')\n",
      "    for i, word in enumerate(words_new):\n",
      "        dictf.write('%d %s\\n' % (i, word.upper()))"
     ],
     "language": "python",
     "metadata": {},
     "outputs": [],
     "prompt_number": 94
    },
    {
     "cell_type": "code",
     "collapsed": false,
     "input": [
      "words_dict = {word: w for w, word in enumerate(words)}"
     ],
     "language": "python",
     "metadata": {},
     "outputs": [],
     "prompt_number": 6
    },
    {
     "cell_type": "code",
     "collapsed": false,
     "input": [
      "with codecs.open('MMROwithOrder.txt', encoding='utf-8') as docsf:\n",
      "    lines = [line.strip() for line in docsf]\n",
      "    docs = []\n",
      "    i = 0\n",
      "    while i < len(lines):\n",
      "        assert int(lines[i]) == len(docs)\n",
      "        i += 1\n",
      "        d = len(docs)\n",
      "        \n",
      "        pwts = em.phi * em.theta[:, d].T\n",
      "        pwts /= pwts.sum(1)[:,np.newaxis]\n",
      "        \n",
      "        doc = []\n",
      "        while i < len(lines) and not lines[i].isdigit():\n",
      "            try:\n",
      "                word, word_norm = lines[i].lower().split(' ', 1)\n",
      "            except ValueError:\n",
      "                word = lines[i].lower().strip()\n",
      "                word_norm = word\n",
      "\n",
      "            # dictionary lookup\n",
      "            try:\n",
      "                w = words_dict[word_norm]\n",
      "            except KeyError:\n",
      "                w = -1\n",
      "                \n",
      "            # topics info\n",
      "            pts = pwts[w]\n",
      "            topics = pts.argsort()[::-1][:5]\n",
      "            pts = pts[topics]\n",
      "                \n",
      "            doc.append((word, w, topics, pts))\n",
      "            i += 1\n",
      "\n",
      "        docs.append(np.array(map(tuple, doc),\n",
      "                             dtype=[('word', h5py.special_dtype(vlen=unicode)),\n",
      "                                    ('w', np.int32),\n",
      "                                    ('topics', np.int32, 5),\n",
      "                                    ('pts', np.float32, 5)]))"
     ],
     "language": "python",
     "metadata": {},
     "outputs": [],
     "prompt_number": 7
    },
    {
     "cell_type": "code",
     "collapsed": false,
     "input": [
      "with open('filenames_new.txt') as fnamesf:\n",
      "    docfnames = [line.strip().split(' ', 1) for line in fnamesf]\n",
      "    docfnames = [(int(d), fname) for d, fname in docfnames]\n",
      "    filenames = np.zeros((max(d for d, fname in docfnames) + 1,), dtype=h5py.special_dtype(vlen=str))\n",
      "    for d, fname in docfnames:\n",
      "        filenames[d] = fname"
     ],
     "language": "python",
     "metadata": {},
     "outputs": [],
     "prompt_number": 8
    },
    {
     "cell_type": "code",
     "collapsed": false,
     "input": [
      "with h5py.File('data.hdf', mode='w') as f:\n",
      "    f.create_dataset('p_wt', data=em.phi)\n",
      "    f.create_dataset('p_td', data=em.theta)\n",
      "    f.create_dataset('p_wd', data=np.dot(em.phi, em.theta))\n",
      "    f.create_dataset('n_wd', data=em.nwd.A, dtype=np.int32)\n",
      "    f.create_dataset('dictionary', data=words)\n",
      "    f.create_dataset('docinfo', data=docinfos)\n",
      "    f.create_dataset('filenames', data=filenames)\n",
      "    \n",
      "    docs_group = f.create_group('documents')\n",
      "    for i, doc in enumerate(docs):\n",
      "        docs_group.create_dataset('%d' % i, data=doc)"
     ],
     "language": "python",
     "metadata": {},
     "outputs": [],
     "prompt_number": 9
    },
    {
     "cell_type": "code",
     "collapsed": false,
     "input": [
      "with open('filenames.txt') as fnamesf:\n",
      "    docfnames = [line.strip().split(' ', 1) for line in fnamesf]\n",
      "    docfnames = [(int(d), fname) for d, fname in docfnames]\n",
      "    d_to_fname = {d: fname for d, fname in docfnames}"
     ],
     "language": "python",
     "metadata": {},
     "outputs": [],
     "prompt_number": 27
    },
    {
     "cell_type": "code",
     "collapsed": false,
     "input": [
      "with open('filenames.txt') as fnamesf:\n",
      "    docfnames = [line.strip().split(' ', 1)[1] for line in fnamesf]\n",
      "    docfiles = [(fname, open('documents/' + fname).read()) for fname in docfnames]\n",
      "\n",
      "full_xml_files = [(fname, open(fname).read()) for fname in glob('documents/xml/*/*')]\n",
      "fname_to_xml = {}\n",
      "\n",
      "for fname, fcont in docfiles:\n",
      "    matches = [fn for fn, fc in full_xml_files if fc == fcont]\n",
      "    if len(matches) == 1:\n",
      "        fname_to_xml[fname] = matches[0].replace('documents/xml/XML_', '').replace('.xml', '')\n",
      "    else:\n",
      "        print fname, matches"
     ],
     "language": "python",
     "metadata": {},
     "outputs": [],
     "prompt_number": 28
    },
    {
     "cell_type": "code",
     "collapsed": false,
     "input": [
      "xml_to_tex = {}\n",
      "\n",
      "tex_fnames = glob('documents/tex/*/*')\n",
      "for xml_fname in glob('documents/xml/*/*'):\n",
      "    fname = xml_fname.replace('/xml/', '/tex/').replace('/XML_', '/').replace('.xml', '.tex').replace('unequated_', '')\n",
      "    matches = [tex_fname for tex_fname in tex_fnames if fname.lower() == tex_fname.lower()]\n",
      "    if len(matches) == 1:\n",
      "        xml_to_tex[xml_fname.replace('documents/xml/XML_', '').replace('.xml', '')] = matches[0].replace('documents/tex/', '')\n",
      "    else:\n",
      "        print xml_fname, matches"
     ],
     "language": "python",
     "metadata": {},
     "outputs": [
      {
       "output_type": "stream",
       "stream": "stdout",
       "text": [
        "documents/xml/XML_2007-MMRO13/unequated_DeWansa_SI_1 - copy.xml []\n"
       ]
      }
     ],
     "prompt_number": 29
    },
    {
     "cell_type": "code",
     "collapsed": false,
     "input": [
      "d_to_tex = {}\n",
      "\n",
      "for d in range(1009):\n",
      "    fname = d_to_fname.get(d, None)\n",
      "    full = fname_to_xml.get(fname, None)\n",
      "    tex = xml_to_tex.get(full, None)\n",
      "    if tex is None:\n",
      "        print d, fname, full, tex\n",
      "    else:\n",
      "        d_to_tex[d] = tex"
     ],
     "language": "python",
     "metadata": {},
     "outputs": [
      {
       "output_type": "stream",
       "stream": "stdout",
       "text": [
        "391 unequated_DeWansa_SI_1 - copy.xml 2007-MMRO13/unequated_DeWansa_SI_1 - copy None\n"
       ]
      }
     ],
     "prompt_number": 30
    },
    {
     "cell_type": "code",
     "collapsed": false,
     "input": [
      "d_to_html = {}\n",
      "\n",
      "for d, tex in d_to_tex.items():\n",
      "    d_to_html[d] = re.sub('.tex$', '', tex, flags=re.I)"
     ],
     "language": "python",
     "metadata": {},
     "outputs": [],
     "prompt_number": 31
    },
    {
     "cell_type": "code",
     "collapsed": false,
     "input": [
      "with open('filenames_new.txt', 'w') as f:\n",
      "    for d, tex in sorted(d_to_html.items()):\n",
      "        f.write('%d %s\\n' % (d, tex))"
     ],
     "language": "python",
     "metadata": {},
     "outputs": [],
     "prompt_number": 40
    },
    {
     "cell_type": "code",
     "collapsed": false,
     "input": [
      "for fname in ProgressBar(glob('documents/tex/*/*')):\n",
      "    outfname = fname.replace('/tex/', '/html/') + '.htex'\n",
      "    outdir = outfname[::-1].split('/', 1)[1][::-1]\n",
      "    print fname, '->', outfname\n",
      "    !mkdir -p {outdir}\n",
      "    !rm {outfname}\n",
      "    !iconv -f cp1251 -t utf-8 {fname} | perl -pe '/^[^%]*%%/ && next; /\\\\%/ && next; s/%.*\\n//g' | pandoc -f latex -t html5 -o {outfname} --standalone --gladtex"
     ],
     "language": "python",
     "metadata": {},
     "outputs": []
    },
    {
     "cell_type": "code",
     "collapsed": false,
     "input": [
      "for fname in ProgressBar(glob('documents/html/*/*.htex')):\n",
      "    outfname = re.sub('.tex.htex$', '.html', fname, flags=re.I)\n",
      "    print fname, '->', outfname\n",
      "    !gladtex -d {outfname.replace('.html', '')} {fname}"
     ],
     "language": "python",
     "metadata": {},
     "outputs": []
    },
    {
     "cell_type": "code",
     "collapsed": false,
     "input": [
      "htexs = glob('documents/html/*/*.htex')\n",
      "htmls = glob('documents/html/*/*.html')\n",
      "emptyfnames = !find documents -type f -empty\n",
      "\n",
      "for texfname in glob('documents/tex/*/*'):\n",
      "    htexfname = texfname.replace('/tex/', '/html/') + '.htex'\n",
      "    htmlfname = re.sub('.tex.htex$', '.html', htexfname, flags=re.I)\n",
      "    ishtex = htexfname in htexs\n",
      "    ishtml = htmlfname in htmls\n",
      "    isempty = (htexfname in emptyfnames) or (htmlfname in emptyfnames)\n",
      "\n",
      "    if not ishtex or not ishtml or isempty:\n",
      "        print '-+'[ishtex], '-+'[ishtml], '+-'[isempty], texfname\n",
      "#         !iconv -f cp1251 -t utf-8 '{texfname}' | sed 's/\\r$//g' | sed 's/\\r/\\n/g' | sed -e '/.$/a\\' | perl -pe '/\\\\%/ && next; s/%.*\\n//g' | pandoc -f latex -t html5 -o '{htexfname}' --standalone --gladtex\n",
      "#         !gladtex -v -d '{htmlfname.replace('.html', '')}' '{htexfname}'"
     ],
     "language": "python",
     "metadata": {},
     "outputs": [],
     "prompt_number": 51
    },
    {
     "cell_type": "code",
     "collapsed": false,
     "input": [
      "with h5py.File('data.hdf', mode='r') as h5f:    \n",
      "    d = 633\n",
      "    filename = h5f['filenames'][d]\n",
      "    content = h5f['documents'][str(d)][...]\n",
      "    if filename != '0':\n",
      "        with codecs.open('documents/html/%s.html' % filename, encoding='utf-8') as f:\n",
      "            html = f.read()\n",
      "        html = re.search(r'<body>.*</body>', html, re.DOTALL).group(0)\n",
      "        \n",
      "        html = re.sub(r'<h(\\d) id=\"[^\"]+\">', r'<h\\1>', html)\n",
      "\n",
      "        ws_were = set()\n",
      "        for word, w, topics, _ in content:\n",
      "            if w != -1 and w not in ws_were:\n",
      "                ws_were.add(w)\n",
      "                html = re.sub(ur'(\\W)(%s)(\\W)' % word, r'\\1<span data-word=\"%d\" data-color=\"%d\"><a href=\"#\">\\2</a></span>\\3' % (w, topics[0]), html, flags=re.I | re.U)\n",
      "\n",
      "        html = re.sub(r'<img class=\"(\\w+)\" src=\"\\w+/(eqn\\d+).png\".*?/>',\n",
      "                      r'<span class=\"sprite-\\2\"></span>',\n",
      "                      html, flags=re.DOTALL | re.MULTILINE)\n",
      "        print html"
     ],
     "language": "python",
     "metadata": {},
     "outputs": [
      {
       "output_type": "stream",
       "stream": "stdout",
       "text": [
        "<body>\n",
        "<header>\n",
        "<h1 class=\"title\"><span data-word=\"1154\" data-color=\"110\"><a href=\"#\">\u041a\u043e\u043c\u0431\u0438\u043d\u0438\u0440\u043e\u0432\u0430\u043d\u043d\u044b\u0435</a></span> <span data-word=\"18\" data-color=\"63\"><a href=\"#\">\u0441\u0438\u0441\u0442\u0435\u043c\u044b</a></span> <span data-word=\"26\" data-color=\"63\"><a href=\"#\">\u0440\u0430\u0441\u043f\u043e\u0437\u043d\u0430\u0432\u0430\u043d\u0438\u044f</a></span> <span data-word=\"25\" data-color=\"63\"><a href=\"#\">\u043e\u0431\u0440\u0430\u0437\u043e\u0432</a></span></h1>\n",
        "<h2 class=\"author\">\u041b\u0430\u043f\u043a\u043e\u00a0\u0410.\u0412., \u041b\u0430\u043f\u043a\u043e\u00a0\u0412.\u0410.</h2>\n",
        "</header>\n",
        "<p>\u0412\u00a0<span data-word=\"12\" data-color=\"63\"><a href=\"#\">\u0440\u0430\u0431\u043e\u0442\u0435</a></span> \u0441\u00a0<span data-word=\"528\" data-color=\"102\"><a href=\"#\">\u043f\u043e\u0437\u0438\u0446\u0438\u0438</a></span> <span data-word=\"336\" data-color=\"63\"><a href=\"#\">\u043f\u043e\u0441\u043b\u0435\u0434\u043e\u0432\u0430\u0442\u0435\u043b\u044c\u043d\u044b\u0445</a></span> <span data-word=\"84\" data-color=\"63\"><a href=\"#\">\u043f\u0440\u043e\u0446\u0435\u0434\u0443\u0440</a></span> <span data-word=\"447\" data-color=\"63\"><a href=\"#\">\u043f\u0440\u0438\u043d\u044f\u0442\u0438\u044f</a></span> <span data-word=\"10\" data-color=\"63\"><a href=\"#\">\u0440\u0435\u0448\u0435\u043d\u0438\u0439</a></span> \u0438\u00a0<span data-word=\"426\" data-color=\"108\"><a href=\"#\">\u043f\u0440\u0438\u043d\u0446\u0438\u043f\u043e\u0432</a></span> <span data-word=\"1159\" data-color=\"102\"><a href=\"#\">\u043a\u043e\u043b\u043b\u0435\u043a\u0442\u0438\u0432\u043d\u043e\u0433\u043e</a></span> <span data-word=\"356\" data-color=\"72\"><a href=\"#\">\u043e\u0446\u0435\u043d\u0438\u0432\u0430\u043d\u0438\u044f</a></span> <span data-word=\"181\" data-color=\"63\"><a href=\"#\">\u043f\u0440\u0435\u0434\u043b\u0430\u0433\u0430\u044e\u0442\u0441\u044f</a></span> <span data-word=\"212\" data-color=\"102\"><a href=\"#\">\u0441\u0442\u0430\u0442\u0438\u0441\u0442\u0438\u0447\u0435\u0441\u043a\u0438\u0435</a></span> <span data-word=\"11\" data-color=\"121\"><a href=\"#\">\u043c\u043e\u0434\u0435\u043b\u0438</a></span> <span data-word=\"26\" data-color=\"63\"><a href=\"#\">\u0440\u0430\u0441\u043f\u043e\u0437\u043d\u0430\u0432\u0430\u043d\u0438\u044f</a></span> <span data-word=\"25\" data-color=\"63\"><a href=\"#\">\u043e\u0431\u0440\u0430\u0437\u043e\u0432</a></span>, <span data-word=\"145\" data-color=\"80\"><a href=\"#\">\u043f\u0440\u0435\u0434\u0441\u0442\u0430\u0432\u043b\u044f\u044e\u0449\u0438\u0435</a></span> \u0441\u043e\u0431\u043e\u0439 <span data-word=\"176\" data-color=\"80\"><a href=\"#\">\u0441\u0435\u043c\u0435\u0439\u0441\u0442\u0432\u043e</a></span> <span data-word=\"470\" data-color=\"80\"><a href=\"#\">\u0447\u0430\u0441\u0442\u043d\u044b\u0445</a></span> <span data-word=\"100\" data-color=\"63\"><a href=\"#\">\u0440\u0435\u0448\u0430\u044e\u0449\u0438\u0445</a></span> <span data-word=\"7\" data-color=\"92\"><a href=\"#\">\u0444\u0443\u043d\u043a\u0446\u0438\u0439</a></span>, <span data-word=\"878\" data-color=\"136\"><a href=\"#\">\u043e\u0440\u0433\u0430\u043d\u0438\u0437\u0430\u0446\u0438\u044f</a></span> \u043a\u043e\u0442\u043e\u0440\u044b\u0445 \u0432 <span data-word=\"953\" data-color=\"63\"><a href=\"#\">\u043d\u0435\u043b\u0438\u043d\u0435\u0439\u043d\u043e\u043c</a></span> \u0440\u0435\u0448\u0430\u044e\u0449\u0435\u043c <span data-word=\"668\" data-color=\"63\"><a href=\"#\">\u043f\u0440\u0430\u0432\u0438\u043b\u0435</a></span> <span data-word=\"379\" data-color=\"63\"><a href=\"#\">\u043e\u0441\u0443\u0449\u0435\u0441\u0442\u0432\u043b\u044f\u0435\u0442\u0441\u044f</a></span> \u0441\u00a0<span data-word=\"68\" data-color=\"63\"><a href=\"#\">\u043f\u043e\u043c\u043e\u0449\u044c\u044e</a></span> <span data-word=\"4\" data-color=\"63\"><a href=\"#\">\u043c\u0435\u0442\u043e\u0434\u043e\u0432</a></span> <span data-word=\"1575\" data-color=\"63\"><a href=\"#\">\u043d\u0435\u043f\u0430\u0440\u0430\u043c\u0435\u0442\u0440\u0438\u0447\u0435\u0441\u043a\u043e\u0439</a></span> <span data-word=\"739\" data-color=\"10\"><a href=\"#\">\u0441\u0442\u0430\u0442\u0438\u0441\u0442\u0438\u043a\u0438</a></span>. \u0427\u0430\u0441\u0442\u043d\u044b\u0435 \u0440\u0435\u0448\u0430\u044e\u0449\u0438\u0435 \u0444\u0443\u043d\u043a\u0446\u0438\u0438 <span data-word=\"605\" data-color=\"63\"><a href=\"#\">\u0444\u043e\u0440\u043c\u0438\u0440\u0443\u044e\u0442\u0441\u044f</a></span> \u043d\u0430\u00a0<span data-word=\"48\" data-color=\"110\"><a href=\"#\">\u043e\u0441\u043d\u043e\u0432\u0435</a></span> <span data-word=\"989\" data-color=\"80\"><a href=\"#\">\u043e\u0434\u043d\u043e\u0440\u043e\u0434\u043d\u044b\u0445</a></span> <span data-word=\"215\" data-color=\"63\"><a href=\"#\">\u0447\u0430\u0441\u0442\u0435\u0439</a></span> <span data-word=\"53\" data-color=\"63\"><a href=\"#\">\u043e\u0431\u0443\u0447\u0430\u044e\u0449\u0435\u0439</a></span> <span data-word=\"29\" data-color=\"63\"><a href=\"#\">\u0432\u044b\u0431\u043e\u0440\u043a\u0438</a></span>, \u043a\u043e\u0442\u043e\u0440\u044b\u0435 <span data-word=\"282\" data-color=\"80\"><a href=\"#\">\u0443\u0434\u043e\u0432\u043b\u0435\u0442\u0432\u043e\u0440\u044f\u044e\u0442</a></span> \u043e\u0434\u043d\u043e\u043c\u0443 \u0438\u043b\u0438 \u043d\u0435\u0441\u043a\u043e\u043b\u044c\u043a\u0438\u043c <span data-word=\"348\" data-color=\"80\"><a href=\"#\">\u0442\u0440\u0435\u0431\u043e\u0432\u0430\u043d\u0438\u044f\u043c</a></span>: <span data-word=\"236\" data-color=\"63\"><a href=\"#\">\u043d\u0430\u043b\u0438\u0447\u0438\u0435</a></span> <span data-word=\"3653\" data-color=\"48\"><a href=\"#\">\u043e\u0434\u043d\u043e\u0442\u0438\u043f\u043d\u044b\u0445</a></span> <span data-word=\"13\" data-color=\"63\"><a href=\"#\">\u043f\u0440\u0438\u0437\u043d\u0430\u043a\u043e\u0432</a></span>, <span data-word=\"1252\" data-color=\"108\"><a href=\"#\">\u043f\u0440\u043e\u043f\u0443\u0441\u043a\u043e\u0432</a></span> <span data-word=\"3\" data-color=\"63\"><a href=\"#\">\u0434\u0430\u043d\u043d\u044b\u0445</a></span>, <span data-word=\"109\" data-color=\"121\"><a href=\"#\">\u0432\u043e\u0437\u043c\u043e\u0436\u043d\u043e\u0441\u0442\u044c</a></span> <span data-word=\"1100\" data-color=\"48\"><a href=\"#\">\u0434\u0435\u043a\u043e\u043c\u043f\u043e\u0437\u0438\u0446\u0438\u0438</a></span> <span data-word=\"65\" data-color=\"63\"><a href=\"#\">\u0438\u0441\u0445\u043e\u0434\u043d\u044b\u0445</a></span> <span data-word=\"13\" data-color=\"63\"><a href=\"#\">\u043f\u0440\u0438\u0437\u043d\u0430\u043a\u043e\u0432</a></span> \u043d\u0430\u00a0<span data-word=\"117\" data-color=\"63\"><a href=\"#\">\u0433\u0440\u0443\u043f\u043f\u044b</a></span> \u0432\u00a0<span data-word=\"198\" data-color=\"63\"><a href=\"#\">\u0441\u043e\u043e\u0442\u0432\u0435\u0442\u0441\u0442\u0432\u0438\u0438</a></span> \u0441\u043e\u00a0<span data-word=\"1327\" data-color=\"63\"><a href=\"#\">\u0441\u043f\u0435\u0446\u0438\u0444\u0438\u043a\u043e\u0439</a></span> \u0440\u0435\u0448\u0430\u0435\u043c\u043e\u0439 <span data-word=\"0\" data-color=\"63\"><a href=\"#\">\u0437\u0430\u0434\u0430\u0447\u0438</a></span>. \u042d\u0442\u043e <span data-word=\"498\" data-color=\"92\"><a href=\"#\">\u043f\u043e\u0440\u043e\u0436\u0434\u0430\u0435\u0442</a></span> <span data-word=\"463\" data-color=\"110\"><a href=\"#\">\u0448\u0438\u0440\u043e\u043a\u0438\u0439</a></span> <span data-word=\"456\" data-color=\"110\"><a href=\"#\">\u043a\u0440\u0443\u0433</a></span> <span data-word=\"251\" data-color=\"63\"><a href=\"#\">\u043f\u043e\u0441\u0442\u0430\u043d\u043e\u0432\u043e\u043a</a></span> \u0437\u0430\u0434\u0430\u0447 <span data-word=\"445\" data-color=\"130\"><a href=\"#\">\u0441\u0438\u043d\u0442\u0435\u0437\u0430</a></span> \u043d\u0435\u043f\u0430\u0440\u0430\u043c\u0435\u0442\u0440\u0438\u0447\u0435\u0441\u043a\u0438\u0445 <span data-word=\"100\" data-color=\"63\"><a href=\"#\">\u0440\u0435\u0448\u0430\u044e\u0449\u0438\u0445</a></span> <span data-word=\"73\" data-color=\"63\"><a href=\"#\">\u043f\u0440\u0430\u0432\u0438\u043b</a></span>. \u041f\u0440\u0438\u00a0<span data-word=\"2070\" data-color=\"48\"><a href=\"#\">\u0438\u043d\u0442\u0435\u0433\u0440\u0430\u0446\u0438\u0438</a></span> <span data-word=\"470\" data-color=\"80\"><a href=\"#\">\u0447\u0430\u0441\u0442\u043d\u044b\u0445</a></span> <span data-word=\"100\" data-color=\"63\"><a href=\"#\">\u0440\u0435\u0448\u0430\u044e\u0449\u0438\u0445</a></span> <span data-word=\"7\" data-color=\"92\"><a href=\"#\">\u0444\u0443\u043d\u043a\u0446\u0438\u0439</a></span> <span data-word=\"54\" data-color=\"63\"><a href=\"#\">\u0438\u0441\u043f\u043e\u043b\u044c\u0437\u0443\u044e\u0442\u0441\u044f</a></span> \u043d\u0435\u043f\u0430\u0440\u0430\u043c\u0435\u0442\u0440\u0438\u0447\u0435\u0441\u043a\u0438\u0435 <span data-word=\"14\" data-color=\"72\"><a href=\"#\">\u043e\u0446\u0435\u043d\u043a\u0438</a></span> <span data-word=\"80\" data-color=\"110\"><a href=\"#\">\u043e\u043f\u0442\u0438\u043c\u0430\u043b\u044c\u043d\u044b\u0445</a></span> <span data-word=\"814\" data-color=\"108\"><a href=\"#\">\u0431\u0430\u0439\u0435\u0441\u043e\u0432\u0441\u043a\u0438\u0445</a></span> <span data-word=\"100\" data-color=\"63\"><a href=\"#\">\u0440\u0435\u0448\u0430\u044e\u0449\u0438\u0445</a></span> <span data-word=\"73\" data-color=\"63\"><a href=\"#\">\u043f\u0440\u0430\u0432\u0438\u043b</a></span>.</p>\n",
        "<h1>\u0421\u0438\u043d\u0442\u0435\u0437 <span data-word=\"74\" data-color=\"48\"><a href=\"#\">\u0441\u0442\u0440\u0443\u043a\u0442\u0443\u0440\u044b</a></span> <span data-word=\"18\" data-color=\"63\"><a href=\"#\">\u0441\u0438\u0441\u0442\u0435\u043c\u044b</a></span></h1>\n",
        "<p>1. \u041f\u0443\u0441\u0442\u044c  <span class=\"sprite-eqn000\"></span> &quot;\u2014 \u043e\u0431\u0443\u0447\u0430\u044e\u0449\u0430\u044f \u0432\u044b\u0431\u043e\u0440\u043a\u0430 <span data-word=\"1511\" data-color=\"63\"><a href=\"#\">\u043e\u0431\u044a\u0451\u043c\u0430</a></span>\u00a0 <span class=\"sprite-eqn001\"></span>, <span data-word=\"831\" data-color=\"136\"><a href=\"#\">\u0441\u043e\u0441\u0442\u0430\u0432\u043b\u0435\u043d\u043d\u0430\u044f</a></span> \u0438\u0437\u00a0<span data-word=\"6\" data-color=\"92\"><a href=\"#\">\u0437\u043d\u0430\u0447\u0435\u043d\u0438\u0439</a></span> <span data-word=\"13\" data-color=\"63\"><a href=\"#\">\u043f\u0440\u0438\u0437\u043d\u0430\u043a\u043e\u0432</a></span> <span data-word=\"642\" data-color=\"63\"><a href=\"#\">\u043a\u043b\u0430\u0441\u0441\u0438\u0444\u0438\u0446\u0438\u0440\u0443\u0435\u043c\u044b\u0445</a></span> <span data-word=\"2\" data-color=\"63\"><a href=\"#\">\u043e\u0431\u044a\u0435\u043a\u0442\u043e\u0432</a></span> \u0438\u00a0<span data-word=\"33\" data-color=\"63\"><a href=\"#\">\u0441\u043e\u043e\u0442\u0432\u0435\u0442\u0441\u0442\u0432\u0443\u044e\u0449\u0438\u0445</a></span> &lt;&lt;<span data-word=\"1662\" data-color=\"63\"><a href=\"#\">\u0443\u043a\u0430\u0437\u0430\u043d\u0438\u0439</a></span> <span data-word=\"2550\" data-color=\"63\"><a href=\"#\">\u0443\u0447\u0438\u0442\u0435\u043b\u044f</a></span>&gt;&gt; \u043e\u0431 \u0438\u0445 <span data-word=\"418\" data-color=\"63\"><a href=\"#\">\u043f\u0440\u0438\u043d\u0430\u0434\u043b\u0435\u0436\u043d\u043e\u0441\u0442\u0438</a></span> \u043a\u00a0\u043e\u0434\u043d\u043e\u043c\u0443 \u0438\u0437\u00a0\u0434\u0432\u0443\u0445 <span data-word=\"16\" data-color=\"63\"><a href=\"#\">\u043a\u043b\u0430\u0441\u0441\u043e\u0432</a></span>, <span data-word=\"1181\" data-color=\"63\"><a href=\"#\">\u043f\u0440\u0438\u0447\u0451\u043c</a></span>  <span class=\"sprite-eqn002\"></span> \u0434\u043b\u044f \u0432\u0441\u0435\u0445  <span class=\"sprite-eqn003\"></span> \u0438  <span class=\"sprite-eqn004\"></span> \u0434\u043b\u044f \u0432\u0441\u0435\u0445  <span class=\"sprite-eqn005\"></span>.</p><p><span data-word=\"1565\" data-color=\"110\"><a href=\"#\">\u041e\u0441\u0443\u0449\u0435\u0441\u0442\u0432\u0438\u043c</a></span> \u0434\u0435\u043a\u043e\u043c\u043f\u043e\u0437\u0438\u0446\u0438\u044e \u0438\u0441\u0445\u043e\u0434\u043d\u043e\u0439 <span data-word=\"29\" data-color=\"63\"><a href=\"#\">\u0432\u044b\u0431\u043e\u0440\u043a\u0438</a></span>  <span class=\"sprite-eqn006\"></span> \u043d\u0430\u00a0 <span class=\"sprite-eqn007\"></span> <span data-word=\"989\" data-color=\"80\"><a href=\"#\">\u043e\u0434\u043d\u043e\u0440\u043e\u0434\u043d\u044b\u0445</a></span> \u0432\u044b\u0431\u043e\u0440\u043e\u043a \u0432\u00a0<span data-word=\"198\" data-color=\"63\"><a href=\"#\">\u0441\u043e\u043e\u0442\u0432\u0435\u0442\u0441\u0442\u0432\u0438\u0438</a></span> \u0441\u043e\u00a0<span data-word=\"1327\" data-color=\"63\"><a href=\"#\">\u0441\u043f\u0435\u0446\u0438\u0444\u0438\u043a\u043e\u0439</a></span> <span data-word=\"0\" data-color=\"63\"><a href=\"#\">\u0437\u0430\u0434\u0430\u0447\u0438</a></span></p><p> <span class=\"sprite-eqn008\"></span> \u0433\u0434\u0435  <span class=\"sprite-eqn009\"></span> <span data-word=\"34\" data-color=\"63\"><a href=\"#\">\u0438\u043c\u0435\u0435\u0442</a></span> <span data-word=\"164\" data-color=\"48\"><a href=\"#\">\u0440\u0430\u0437\u043c\u0435\u0440\u043d\u043e\u0441\u0442\u044c</a></span>  <span class=\"sprite-eqn010\"></span>, \u0430\u00a0 <span class=\"sprite-eqn011\"></span>.</p><p>2. \u041d\u0430 <span data-word=\"48\" data-color=\"110\"><a href=\"#\">\u043e\u0441\u043d\u043e\u0432\u0435</a></span> \u043a\u0430\u0436\u0434\u043e\u0439 <span data-word=\"29\" data-color=\"63\"><a href=\"#\">\u0432\u044b\u0431\u043e\u0440\u043a\u0438</a></span>  <span class=\"sprite-eqn012\"></span> <span data-word=\"92\" data-color=\"63\"><a href=\"#\">\u043f\u043e\u0441\u0442\u0440\u043e\u0438\u043c</a></span> \u043d\u0435\u043f\u0430\u0440\u0430\u043c\u0435\u0442\u0440\u0438\u0447\u0435\u0441\u043a\u043e\u0435 \u0440\u0435\u0448\u0430\u044e\u0449\u0435\u0435 \u043f\u0440\u0430\u0432\u0438\u043b\u043e</p><p> <span class=\"sprite-eqn013\"></span></p><p>\u0433\u0434\u0435  <span class=\"sprite-eqn014\"></span> &quot;\u2014 \u043d\u0435\u043f\u0430\u0440\u0430\u043c\u0435\u0442\u0440\u0438\u0447\u0435\u0441\u043a\u0438\u0435 <span data-word=\"14\" data-color=\"72\"><a href=\"#\">\u043e\u0446\u0435\u043d\u043a\u0438</a></span> <span data-word=\"100\" data-color=\"63\"><a href=\"#\">\u0440\u0435\u0448\u0430\u044e\u0449\u0438\u0445</a></span> <span data-word=\"7\" data-color=\"92\"><a href=\"#\">\u0444\u0443\u043d\u043a\u0446\u0438\u0439</a></span>  <span class=\"sprite-eqn015\"></span></p><p> <span class=\"sprite-eqn016\"></span> \u201c\u2014 <span data-word=\"8\" data-color=\"48\"><a href=\"#\">\u043c\u043d\u043e\u0436\u0435\u0441\u0442\u0432\u043e</a></span> <span data-word=\"242\" data-color=\"63\"><a href=\"#\">\u043d\u043e\u043c\u0435\u0440\u043e\u0432</a></span> <span data-word=\"13\" data-color=\"63\"><a href=\"#\">\u043f\u0440\u0438\u0437\u043d\u0430\u043a\u043e\u0432</a></span>, <span data-word=\"468\" data-color=\"63\"><a href=\"#\">\u0432\u0445\u043e\u0434\u044f\u0449\u0438\u0445</a></span> \u0432\u00a0\u0433\u0440\u0443\u043f\u043f\u0443\u00a0 <span class=\"sprite-eqn017\"></span>;  <span class=\"sprite-eqn018\"></span> \u201d\u2014 <span data-word=\"2280\" data-color=\"10\"><a href=\"#\">\u044f\u0434\u0435\u0440\u043d\u044b\u0435</a></span> \u0444\u0443\u043d\u043a\u0446\u0438\u0438, \u0443\u0434\u043e\u0432\u043b\u0435\u0442\u0432\u043e\u0440\u044f\u044e\u0449\u0438\u0435 <span data-word=\"46\" data-color=\"48\"><a href=\"#\">\u0443\u0441\u043b\u043e\u0432\u0438\u044f\u043c</a></span> <span data-word=\"6038\" data-color=\"63\"><a href=\"#\">\u043f\u043e\u043b\u043e\u0436\u0438\u0442\u0435\u043b\u044c\u043d\u043e\u0441\u0442\u0438</a></span>, <span data-word=\"2502\" data-color=\"63\"><a href=\"#\">\u0441\u0438\u043c\u043c\u0435\u0442\u0440\u0438\u0447\u043d\u043e\u0441\u0442\u0438</a></span>, <span data-word=\"8313\" data-color=\"63\"><a href=\"#\">\u043d\u043e\u0440\u043c\u0438\u0440\u043e\u0432\u0430\u043d\u043d\u043e\u0441\u0442\u0438</a></span>, \u0438\u00a0\u0438\u043c\u0435\u044e\u0449\u0438\u0435 <span data-word=\"179\" data-color=\"80\"><a href=\"#\">\u043a\u043e\u043d\u0435\u0447\u043d\u044b\u0435</a></span> <span data-word=\"1411\" data-color=\"63\"><a href=\"#\">\u0446\u0435\u043d\u0442\u0440\u0430\u043b\u044c\u043d\u044b\u0435</a></span> <span data-word=\"189\" data-color=\"136\"><a href=\"#\">\u043c\u043e\u043c\u0435\u043d\u0442\u044b</a></span>\u00a0<span class=\"citation\" data-cites=\"biblapk\"></span>.</p><p><span data-word=\"229\" data-color=\"48\"><a href=\"#\">\u041e\u043f\u0442\u0438\u043c\u0438\u0437\u0430\u0446\u0438\u044f</a></span> <span data-word=\"470\" data-color=\"80\"><a href=\"#\">\u0447\u0430\u0441\u0442\u043d\u044b\u0445</a></span> <span data-word=\"100\" data-color=\"63\"><a href=\"#\">\u0440\u0435\u0448\u0430\u044e\u0449\u0438\u0445</a></span> <span data-word=\"73\" data-color=\"63\"><a href=\"#\">\u043f\u0440\u0430\u0432\u0438\u043b</a></span> ([eq1]) \u043f\u043e\u00a0<span data-word=\"77\" data-color=\"92\"><a href=\"#\">\u043a\u043e\u044d\u0444\u0444\u0438\u0446\u0438\u0435\u043d\u0442\u0430\u043c</a></span> <span data-word=\"3525\" data-color=\"80\"><a href=\"#\">\u0440\u0430\u0437\u043c\u044b\u0442\u043e\u0441\u0442\u0438</a></span> \u044f\u0434\u0435\u0440\u043d\u044b\u0445 <span data-word=\"7\" data-color=\"92\"><a href=\"#\">\u0444\u0443\u043d\u043a\u0446\u0438\u0439</a></span>  <span class=\"sprite-eqn019\"></span>,  <span class=\"sprite-eqn020\"></span> <span data-word=\"379\" data-color=\"63\"><a href=\"#\">\u043e\u0441\u0443\u0449\u0435\u0441\u0442\u0432\u043b\u044f\u0435\u0442\u0441\u044f</a></span> \u0432\u00a0<span data-word=\"669\" data-color=\"110\"><a href=\"#\">\u0440\u0435\u0436\u0438\u043c\u0435</a></span> &lt;&lt;<span data-word=\"420\" data-color=\"63\"><a href=\"#\">\u0441\u043a\u043e\u043b\u044c\u0437\u044f\u0449\u0435\u0433\u043e</a></span> <span data-word=\"2730\" data-color=\"72\"><a href=\"#\">\u044d\u043a\u0437\u0430\u043c\u0435\u043d\u0430</a></span>&gt;&gt; \u0438\u0437\u00a0\u0443\u0441\u043b\u043e\u0432\u0438\u044f <span data-word=\"288\" data-color=\"148\"><a href=\"#\">\u043c\u0438\u043d\u0438\u043c\u0443\u043c\u0430</a></span> \u0441\u0442\u0430\u0442\u0438\u0441\u0442\u0438\u0447\u0435\u0441\u043a\u043e\u0439 <span data-word=\"14\" data-color=\"72\"><a href=\"#\">\u043e\u0446\u0435\u043d\u043a\u0438</a></span> <span data-word=\"55\" data-color=\"72\"><a href=\"#\">\u0432\u0435\u0440\u043e\u044f\u0442\u043d\u043e\u0441\u0442\u0438</a></span> <span data-word=\"56\" data-color=\"63\"><a href=\"#\">\u043e\u0448\u0438\u0431\u043a\u0438</a></span> <span data-word=\"26\" data-color=\"63\"><a href=\"#\">\u0440\u0430\u0441\u043f\u043e\u0437\u043d\u0430\u0432\u0430\u043d\u0438\u044f</a></span> <span data-word=\"25\" data-color=\"63\"><a href=\"#\">\u043e\u0431\u0440\u0430\u0437\u043e\u0432</a></span>.</p><p>3. <span data-word=\"35\" data-color=\"63\"><a href=\"#\">\u0418\u0441\u043f\u043e\u043b\u044c\u0437\u0443\u044f</a></span> \u043d\u0435\u043f\u0430\u0440\u0430\u043c\u0435\u0442\u0440\u0438\u0447\u0435\u0441\u043a\u0438\u0435 <span data-word=\"14\" data-color=\"72\"><a href=\"#\">\u043e\u0446\u0435\u043d\u043a\u0438</a></span> <span data-word=\"100\" data-color=\"63\"><a href=\"#\">\u0440\u0435\u0448\u0430\u044e\u0449\u0438\u0445</a></span> <span data-word=\"7\" data-color=\"92\"><a href=\"#\">\u0444\u0443\u043d\u043a\u0446\u0438\u0439</a></span>  <span class=\"sprite-eqn021\"></span>, <span data-word=\"732\" data-color=\"63\"><a href=\"#\">\u0441\u0444\u043e\u0440\u043c\u0438\u0440\u0443\u0435\u043c</a></span> \u043e\u0431\u0443\u0447\u0430\u044e\u0449\u0443\u044e \u0432\u044b\u0431\u043e\u0440\u043a\u0443  <span class=\"sprite-eqn022\"></span> \u0438\u00a0<span data-word=\"92\" data-color=\"63\"><a href=\"#\">\u043f\u043e\u0441\u0442\u0440\u043e\u0438\u043c</a></span> \u043a\u043e\u043c\u0431\u0438\u043d\u0438\u0440\u043e\u0432\u0430\u043d\u043d\u043e\u0435 \u0440\u0435\u0448\u0430\u044e\u0449\u0435\u0435 \u043f\u0440\u0430\u0432\u0438\u043b\u043e \u0432 <span data-word=\"37\" data-color=\"63\"><a href=\"#\">\u043f\u0440\u043e\u0441\u0442\u0440\u0430\u043d\u0441\u0442\u0432\u0435</a></span> <span data-word=\"6\" data-color=\"92\"><a href=\"#\">\u0437\u043d\u0430\u0447\u0435\u043d\u0438\u0439</a></span>  <span class=\"sprite-eqn023\"></span>  <span class=\"sprite-eqn024\"></span> \u0433\u0434\u0435 \u043d\u0435\u043f\u0430\u0440\u0430\u043c\u0435\u0442\u0440\u0438\u0447\u0435\u0441\u043a\u0430\u044f \u043e\u0446\u0435\u043d\u043a\u0430 <span data-word=\"1782\" data-color=\"63\"><a href=\"#\">\u043e\u0431\u043e\u0431\u0449\u0451\u043d\u043d\u043e\u0439</a></span> \u0440\u0435\u0448\u0430\u044e\u0449\u0435\u0439 \u0444\u0443\u043d\u043a\u0446\u0438\u0438 \u043c\u0435\u0436\u0434\u0443 \u043a\u043b\u0430\u0441\u0441\u0430\u043c\u0438 <span data-word=\"34\" data-color=\"63\"><a href=\"#\">\u0438\u043c\u0435\u0435\u0442</a></span> <span data-word=\"31\" data-color=\"63\"><a href=\"#\">\u0432\u0438\u0434</a></span>  <span class=\"sprite-eqn025\"></span></p><p>\u041d\u0430 <span data-word=\"126\" data-color=\"63\"><a href=\"#\">\u043f\u0435\u0440\u0432\u043e\u043c</a></span> <span data-word=\"91\" data-color=\"63\"><a href=\"#\">\u0443\u0440\u043e\u0432\u043d\u0435</a></span> <span data-word=\"74\" data-color=\"48\"><a href=\"#\">\u0441\u0442\u0440\u0443\u043a\u0442\u0443\u0440\u044b</a></span> <span data-word=\"129\" data-color=\"63\"><a href=\"#\">\u0440\u0430\u0441\u0441\u043c\u0430\u0442\u0440\u0438\u0432\u0430\u0435\u043c\u043e\u0439</a></span> <span data-word=\"18\" data-color=\"63\"><a href=\"#\">\u0441\u0438\u0441\u0442\u0435\u043c\u044b</a></span> \u043a\u043b\u0430\u0441\u0441\u0438\u0444\u0438\u0446\u0438\u0440\u0443\u0435\u043c\u0430\u044f <span data-word=\"257\" data-color=\"63\"><a href=\"#\">\u0441\u0438\u0442\u0443\u0430\u0446\u0438\u044f</a></span>  <span class=\"sprite-eqn026\"></span> <span data-word=\"2185\" data-color=\"80\"><a href=\"#\">\u043f\u0440\u0435\u043e\u0431\u0440\u0430\u0437\u0443\u0435\u0442\u0441\u044f</a></span> \u0432\u00a0\u0437\u043d\u0430\u0447\u0435\u043d\u0438\u044f \u043d\u0435\u043f\u0430\u0440\u0430\u043c\u0435\u0442\u0440\u0438\u0447\u0435\u0441\u043a\u0438\u0445 \u043e\u0446\u0435\u043d\u043e\u043a  <span class=\"sprite-eqn027\"></span>,  <span class=\"sprite-eqn028\"></span>, \u0432\u00a0<span data-word=\"37\" data-color=\"63\"><a href=\"#\">\u043f\u0440\u043e\u0441\u0442\u0440\u0430\u043d\u0441\u0442\u0432\u0435</a></span> \u043a\u043e\u0442\u043e\u0440\u044b\u0445 <span data-word=\"1133\" data-color=\"63\"><a href=\"#\">\u043f\u0440\u0438\u043d\u0438\u043c\u0430\u0435\u0442\u0441\u044f</a></span> \u0440\u0435\u0448\u0435\u043d\u0438\u0435  <span class=\"sprite-eqn029\"></span> \u043f\u0440\u0430\u0432\u0438\u043b\u043e\u043c  <span class=\"sprite-eqn030\"></span> \u043e\u00a0<span data-word=\"418\" data-color=\"63\"><a href=\"#\">\u043f\u0440\u0438\u043d\u0430\u0434\u043b\u0435\u0436\u043d\u043e\u0441\u0442\u0438</a></span> \u0441\u0438\u0442\u0443\u0430\u0446\u0438\u0438  <span class=\"sprite-eqn026\"></span> \u043a\u00a0\u0442\u043e\u043c\u0443 \u0438\u043b\u0438 \u0438\u043d\u043e\u043c\u0443 \u043a\u043b\u0430\u0441\u0441\u0443.</p><p><span data-word=\"284\" data-color=\"63\"><a href=\"#\">\u041f\u0440\u0435\u0434\u043b\u0430\u0433\u0430\u0435\u043c\u044b\u0439</a></span> <span data-word=\"1\" data-color=\"63\"><a href=\"#\">\u0430\u043b\u0433\u043e\u0440\u0438\u0442\u043c</a></span> <span data-word=\"47\" data-color=\"63\"><a href=\"#\">\u043a\u043b\u0430\u0441\u0441\u0438\u0444\u0438\u043a\u0430\u0446\u0438\u0438</a></span> <span data-word=\"408\" data-color=\"63\"><a href=\"#\">\u043e\u0431\u0435\u0441\u043f\u0435\u0447\u0438\u0432\u0430\u0435\u0442</a></span> \u043d\u0435\u00a0\u0442\u043e\u043b\u044c\u043a\u043e <span data-word=\"165\" data-color=\"80\"><a href=\"#\">\u044d\u0444\u0444\u0435\u043a\u0442\u0438\u0432\u043d\u043e\u0435</a></span> \u0440\u0435\u0448\u0435\u043d\u0438\u0435 \u0437\u0430\u0434\u0430\u0447 <span data-word=\"26\" data-color=\"63\"><a href=\"#\">\u0440\u0430\u0441\u043f\u043e\u0437\u043d\u0430\u0432\u0430\u043d\u0438\u044f</a></span> <span data-word=\"25\" data-color=\"63\"><a href=\"#\">\u043e\u0431\u0440\u0430\u0437\u043e\u0432</a></span> \u0432\u00a0\u0443\u0441\u043b\u043e\u0432\u0438\u044f\u0445 <span data-word=\"632\" data-color=\"72\"><a href=\"#\">\u043c\u0430\u043b\u044b\u0445</a></span> \u0432\u044b\u0431\u043e\u0440\u043e\u043a, \u043d\u043e \u0438\u00a0<span data-word=\"44\" data-color=\"63\"><a href=\"#\">\u043f\u043e\u0437\u0432\u043e\u043b\u044f\u0435\u0442</a></span> <span data-word=\"382\" data-color=\"63\"><a href=\"#\">\u0443\u0447\u0438\u0442\u044b\u0432\u0430\u0442\u044c</a></span> <span data-word=\"324\" data-color=\"136\"><a href=\"#\">\u0430\u043f\u0440\u0438\u043e\u0440\u043d\u044b\u0435</a></span> <span data-word=\"1221\" data-color=\"63\"><a href=\"#\">\u0441\u0432\u0435\u0434\u0435\u043d\u0438\u044f</a></span> \u043e \u0432\u0438\u0434\u0435\u00a0<span data-word=\"470\" data-color=\"80\"><a href=\"#\">\u0447\u0430\u0441\u0442\u043d\u044b\u0445</a></span> <span data-word=\"100\" data-color=\"63\"><a href=\"#\">\u0440\u0435\u0448\u0430\u044e\u0449\u0438\u0445</a></span> <span data-word=\"7\" data-color=\"92\"><a href=\"#\">\u0444\u0443\u043d\u043a\u0446\u0438\u0439</a></span>.</p>\n",
        "<h1><span data-word=\"27\" data-color=\"63\"><a href=\"#\">\u0410\u043d\u0430\u043b\u0438\u0437</a></span> <span data-word=\"19\" data-color=\"63\"><a href=\"#\">\u0440\u0435\u0437\u0443\u043b\u044c\u0442\u0430\u0442\u043e\u0432</a></span> <span data-word=\"144\" data-color=\"80\"><a href=\"#\">\u0432\u044b\u0447\u0438\u0441\u043b\u0438\u0442\u0435\u043b\u044c\u043d\u043e\u0433\u043e</a></span> <span data-word=\"78\" data-color=\"92\"><a href=\"#\">\u044d\u043a\u0441\u043f\u0435\u0440\u0438\u043c\u0435\u043d\u0442\u0430</a></span></h1>\n",
        "<p>\u041d\u0430 <span data-word=\"486\" data-color=\"63\"><a href=\"#\">\u043e\u0441\u043d\u043e\u0432\u0430\u043d\u0438\u0438</a></span> <span data-word=\"3\" data-color=\"63\"><a href=\"#\">\u0434\u0430\u043d\u043d\u044b\u0445</a></span> <span data-word=\"144\" data-color=\"80\"><a href=\"#\">\u0432\u044b\u0447\u0438\u0441\u043b\u0438\u0442\u0435\u043b\u044c\u043d\u043e\u0433\u043e</a></span> <span data-word=\"78\" data-color=\"92\"><a href=\"#\">\u044d\u043a\u0441\u043f\u0435\u0440\u0438\u043c\u0435\u043d\u0442\u0430</a></span> <span data-word=\"1205\" data-color=\"63\"><a href=\"#\">\u0441\u0440\u0430\u0432\u043d\u0438\u0432\u0430\u0435\u0442\u0441\u044f</a></span> <span data-word=\"311\" data-color=\"63\"><a href=\"#\">\u044d\u0444\u0444\u0435\u043a\u0442\u0438\u0432\u043d\u043e\u0441\u0442\u044c</a></span> \u043a\u043e\u043c\u0431\u0438\u043d\u0438\u0440\u043e\u0432\u0430\u043d\u043d\u044b\u0445 <span data-word=\"100\" data-color=\"63\"><a href=\"#\">\u0440\u0435\u0448\u0430\u044e\u0449\u0438\u0445</a></span> <span data-word=\"73\" data-color=\"63\"><a href=\"#\">\u043f\u0440\u0430\u0432\u0438\u043b</a></span> \u0441\u00a0<span data-word=\"102\" data-color=\"80\"><a href=\"#\">\u0445\u043e\u0440\u043e\u0448\u043e</a></span> <span data-word=\"3496\" data-color=\"63\"><a href=\"#\">\u0437\u0430\u0440\u0435\u043a\u043e\u043c\u0435\u043d\u0434\u043e\u0432\u0430\u0432\u0448\u0438\u043c</a></span> \u0441\u0435\u0431\u044f \u043d\u0430\u00a0<span data-word=\"639\" data-color=\"63\"><a href=\"#\">\u043f\u0440\u0430\u043a\u0442\u0438\u043a\u0435</a></span> <span data-word=\"839\" data-color=\"63\"><a href=\"#\">\u0442\u0440\u0430\u0434\u0438\u0446\u0438\u043e\u043d\u043d\u044b\u043c</a></span> \u043d\u0435\u043f\u0430\u0440\u0430\u043c\u0435\u0442\u0440\u0438\u0447\u0435\u0441\u043a\u0438\u043c \u0430\u043b\u0433\u043e\u0440\u0438\u0442\u043c\u043e\u043c <span data-word=\"26\" data-color=\"63\"><a href=\"#\">\u0440\u0430\u0441\u043f\u043e\u0437\u043d\u0430\u0432\u0430\u043d\u0438\u044f</a></span> <span data-word=\"25\" data-color=\"63\"><a href=\"#\">\u043e\u0431\u0440\u0430\u0437\u043e\u0432</a></span> \u0432\u00a0<span data-word=\"37\" data-color=\"63\"><a href=\"#\">\u043f\u0440\u043e\u0441\u0442\u0440\u0430\u043d\u0441\u0442\u0432\u0435</a></span> <span data-word=\"13\" data-color=\"63\"><a href=\"#\">\u043f\u0440\u0438\u0437\u043d\u0430\u043a\u043e\u0432</a></span>  <span class=\"sprite-eqn031\"></span>\u00a0<span class=\"citation\" data-cites=\"biblapko\"></span>.</p><p><span data-word=\"62\" data-color=\"63\"><a href=\"#\">\u0418\u0441\u0441\u043b\u0435\u0434\u043e\u0432\u0430\u043d\u0438\u044f</a></span> \u043e\u0441\u0443\u0449\u0435\u0441\u0442\u0432\u043b\u044f\u043b\u0438\u0441\u044c \u043f\u0440\u0438 \u0440\u0435\u0448\u0435\u043d\u0438\u0438 <span data-word=\"9251\" data-color=\"63\"><a href=\"#\">\u0434\u0432\u0443\u0445\u0430\u043b\u044c\u0442\u0435\u0440\u043d\u0430\u0442\u0438\u0432\u043d\u043e\u0439</a></span> <span data-word=\"0\" data-color=\"63\"><a href=\"#\">\u0437\u0430\u0434\u0430\u0447\u0438</a></span> <span data-word=\"26\" data-color=\"63\"><a href=\"#\">\u0440\u0430\u0441\u043f\u043e\u0437\u043d\u0430\u0432\u0430\u043d\u0438\u044f</a></span> <span data-word=\"25\" data-color=\"63\"><a href=\"#\">\u043e\u0431\u0440\u0430\u0437\u043e\u0432</a></span> \u0432\u00a0 <span class=\"sprite-eqn032\"></span>-<span data-word=\"699\" data-color=\"48\"><a href=\"#\">\u043c\u0435\u0440\u043d\u043e\u043c</a></span> <span data-word=\"37\" data-color=\"63\"><a href=\"#\">\u043f\u0440\u043e\u0441\u0442\u0440\u0430\u043d\u0441\u0442\u0432\u0435</a></span> <span data-word=\"13\" data-color=\"63\"><a href=\"#\">\u043f\u0440\u0438\u0437\u043d\u0430\u043a\u043e\u0432</a></span> \u0441\u043e\u00a0<span data-word=\"217\" data-color=\"130\"><a href=\"#\">\u0441\u043b\u043e\u0436\u043d\u043e\u0439</a></span> \u043d\u0435\u043b\u0438\u043d\u0435\u0439\u043d\u043e\u0439 <span data-word=\"134\" data-color=\"80\"><a href=\"#\">\u0433\u0440\u0430\u043d\u0438\u0446\u0435\u0439</a></span>,  <span class=\"sprite-eqn033\"></span>.</p><p><span data-word=\"988\" data-color=\"102\"><a href=\"#\">\u0414\u043e\u0441\u0442\u043e\u0432\u0435\u0440\u043d\u043e\u0441\u0442\u044c</a></span> <span data-word=\"555\" data-color=\"48\"><a href=\"#\">\u0440\u0430\u0437\u043b\u0438\u0447\u0438\u044f</a></span> <span data-word=\"319\" data-color=\"72\"><a href=\"#\">\u044d\u043c\u043f\u0438\u0440\u0438\u0447\u0435\u0441\u043a\u0438\u0445</a></span> \u043e\u0446\u0435\u043d\u043e\u043a <span data-word=\"55\" data-color=\"72\"><a href=\"#\">\u0432\u0435\u0440\u043e\u044f\u0442\u043d\u043e\u0441\u0442\u0438</a></span> <span data-word=\"56\" data-color=\"63\"><a href=\"#\">\u043e\u0448\u0438\u0431\u043a\u0438</a></span> <span data-word=\"26\" data-color=\"63\"><a href=\"#\">\u0440\u0430\u0441\u043f\u043e\u0437\u043d\u0430\u0432\u0430\u043d\u0438\u044f</a></span> <span data-word=\"25\" data-color=\"63\"><a href=\"#\">\u043e\u0431\u0440\u0430\u0437\u043e\u0432</a></span> <span data-word=\"1078\" data-color=\"72\"><a href=\"#\">\u0441\u0440\u0430\u0432\u043d\u0438\u0432\u0430\u0435\u043c\u044b\u0445</a></span> <span data-word=\"4\" data-color=\"63\"><a href=\"#\">\u043c\u0435\u0442\u043e\u0434\u043e\u0432</a></span> <span data-word=\"1489\" data-color=\"63\"><a href=\"#\">\u0440\u0430\u0441\u0441\u0447\u0438\u0442\u044b\u0432\u0430\u043b\u0430\u0441\u044c</a></span> \u0432\u00a0<span data-word=\"198\" data-color=\"63\"><a href=\"#\">\u0441\u043e\u043e\u0442\u0432\u0435\u0442\u0441\u0442\u0432\u0438\u0438</a></span> \u0441\u00a0<span data-word=\"61\" data-color=\"63\"><a href=\"#\">\u043a\u0440\u0438\u0442\u0435\u0440\u0438\u0435\u043c</a></span> <span data-word=\"10303\" data-color=\"63\"><a href=\"#\">\u0421\u043c\u0438\u0440\u043d\u043e\u0432\u0430</a></span>. \u041f\u0440\u0438 \u044d\u0442\u043e\u043c <span data-word=\"711\" data-color=\"110\"><a href=\"#\">\u0443\u0441\u0442\u0430\u043d\u043e\u0432\u043b\u0435\u043d\u043e</a></span> <span data-word=\"1356\" data-color=\"102\"><a href=\"#\">\u0434\u043e\u0441\u0442\u043e\u0432\u0435\u0440\u043d\u043e\u0435</a></span> <span data-word=\"910\" data-color=\"80\"><a href=\"#\">\u043f\u0440\u0435\u0438\u043c\u0443\u0449\u0435\u0441\u0442\u0432\u043e</a></span> \u043f\u0440\u0435\u0434\u043b\u0430\u0433\u0430\u0435\u043c\u043e\u0433\u043e \u0430\u043b\u0433\u043e\u0440\u0438\u0442\u043c\u0430 \u043d\u0430\u0434 <span data-word=\"839\" data-color=\"63\"><a href=\"#\">\u0442\u0440\u0430\u0434\u0438\u0446\u0438\u043e\u043d\u043d\u044b\u043c</a></span>. \u0414\u0430\u043d\u043d\u0430\u044f <span data-word=\"208\" data-color=\"102\"><a href=\"#\">\u0437\u0430\u043a\u043e\u043d\u043e\u043c\u0435\u0440\u043d\u043e\u0441\u0442\u044c</a></span> <span data-word=\"1369\" data-color=\"48\"><a href=\"#\">\u0441\u043e\u0445\u0440\u0430\u043d\u044f\u0435\u0442\u0441\u044f</a></span> \u0434\u043b\u044f <span data-word=\"57\" data-color=\"63\"><a href=\"#\">\u0440\u0430\u0437\u043b\u0438\u0447\u043d\u044b\u0445</a></span> <span data-word=\"583\" data-color=\"72\"><a href=\"#\">\u043e\u0431\u044a\u0435\u043c\u043e\u0432</a></span> \u043e\u0431\u0443\u0447\u0430\u044e\u0449\u0438\u0445 \u0432\u044b\u0431\u043e\u0440\u043e\u043a.</p>\n",
        "<p><span data-word=\"925\" data-color=\"136\"><a href=\"#\">\u041e\u0431\u043d\u0430\u0440\u0443\u0436\u0435\u043d</a></span> <span data-word=\"1023\" data-color=\"72\"><a href=\"#\">\u044d\u043a\u0441\u0442\u0440\u0435\u043c\u0430\u043b\u044c\u043d\u044b\u0439</a></span> <span data-word=\"651\" data-color=\"110\"><a href=\"#\">\u0445\u0430\u0440\u0430\u043a\u0442\u0435\u0440</a></span> <span data-word=\"153\" data-color=\"63\"><a href=\"#\">\u0437\u0430\u0432\u0438\u0441\u0438\u043c\u043e\u0441\u0442\u0438</a></span> <span data-word=\"210\" data-color=\"80\"><a href=\"#\">\u043f\u043e\u043a\u0430\u0437\u0430\u0442\u0435\u043b\u0435\u0439</a></span> \u044d\u0444\u0444\u0435\u043a\u0442\u0438\u0432\u043d\u043e\u0441\u0442\u0438 \u043a\u043e\u043c\u0431\u0438\u043d\u0438\u0440\u043e\u0432\u0430\u043d\u043d\u043e\u0433\u043e <span data-word=\"154\" data-color=\"72\"><a href=\"#\">\u043a\u043b\u0430\u0441\u0441\u0438\u0444\u0438\u043a\u0430\u0442\u043e\u0440\u0430</a></span> \u043e\u0442\u00a0<span data-word=\"106\" data-color=\"63\"><a href=\"#\">\u043a\u043e\u043b\u0438\u0447\u0435\u0441\u0442\u0432\u0430</a></span>\u00a0 <span class=\"sprite-eqn007\"></span> <span data-word=\"470\" data-color=\"80\"><a href=\"#\">\u0447\u0430\u0441\u0442\u043d\u044b\u0445</a></span> <span data-word=\"100\" data-color=\"63\"><a href=\"#\">\u0440\u0435\u0448\u0430\u044e\u0449\u0438\u0445</a></span> <span data-word=\"73\" data-color=\"63\"><a href=\"#\">\u043f\u0440\u0430\u0432\u0438\u043b</a></span>. <span data-word=\"1181\" data-color=\"63\"><a href=\"#\">\u041f\u0440\u0438\u0447\u0451\u043c</a></span> \u0441\u00a0<span data-word=\"752\" data-color=\"63\"><a href=\"#\">\u0440\u043e\u0441\u0442\u043e\u043c</a></span> \u0440\u0430\u0437\u043c\u0435\u0440\u043d\u043e\u0441\u0442\u0438\u00a0 <span class=\"sprite-eqn032\"></span> <span data-word=\"13\" data-color=\"63\"><a href=\"#\">\u043f\u0440\u0438\u0437\u043d\u0430\u043a\u043e\u0432</a></span> <span data-word=\"642\" data-color=\"63\"><a href=\"#\">\u043a\u043b\u0430\u0441\u0441\u0438\u0444\u0438\u0446\u0438\u0440\u0443\u0435\u043c\u044b\u0445</a></span> <span data-word=\"2\" data-color=\"63\"><a href=\"#\">\u043e\u0431\u044a\u0435\u043a\u0442\u043e\u0432</a></span> \u0435\u0433\u043e <span data-word=\"910\" data-color=\"80\"><a href=\"#\">\u043f\u0440\u0435\u0438\u043c\u0443\u0449\u0435\u0441\u0442\u0432\u043e</a></span> \u043f\u0440\u0438 <span data-word=\"80\" data-color=\"110\"><a href=\"#\">\u043e\u043f\u0442\u0438\u043c\u0430\u043b\u044c\u043d\u044b\u0445</a></span> \u0437\u043d\u0430\u0447\u0435\u043d\u0438\u044f\u0445\u00a0 <span class=\"sprite-eqn007\"></span> \u043d\u0430\u0434 <span data-word=\"839\" data-color=\"63\"><a href=\"#\">\u0442\u0440\u0430\u0434\u0438\u0446\u0438\u043e\u043d\u043d\u044b\u043c</a></span> \u043d\u0435\u043f\u0430\u0440\u0430\u043c\u0435\u0442\u0440\u0438\u0447\u0435\u0441\u043a\u0438\u043c \u0430\u043b\u0433\u043e\u0440\u0438\u0442\u043c\u043e\u043c <span data-word=\"1182\" data-color=\"63\"><a href=\"#\">\u0432\u043e\u0437\u0440\u0430\u0441\u0442\u0430\u0435\u0442</a></span>. <span data-word=\"180\" data-color=\"48\"><a href=\"#\">\u041e\u0442\u043d\u043e\u0448\u0435\u043d\u0438\u0435</a></span> <span data-word=\"172\" data-color=\"63\"><a href=\"#\">\u0441\u0440\u0435\u0434\u043d\u0438\u0445</a></span> <span data-word=\"6\" data-color=\"92\"><a href=\"#\">\u0437\u043d\u0430\u0447\u0435\u043d\u0438\u0439</a></span> \u0438\u0445 \u043e\u0446\u0435\u043d\u043e\u043a <span data-word=\"55\" data-color=\"72\"><a href=\"#\">\u0432\u0435\u0440\u043e\u044f\u0442\u043d\u043e\u0441\u0442\u0438</a></span> <span data-word=\"56\" data-color=\"63\"><a href=\"#\">\u043e\u0448\u0438\u0431\u043a\u0438</a></span> <span data-word=\"1473\" data-color=\"80\"><a href=\"#\">\u0434\u043e\u0441\u0442\u0438\u0433\u0430\u0435\u0442</a></span> <span data-word=\"6509\" data-color=\"109\"><a href=\"#\">\u0442\u0440\u0451\u0445</a></span> \u043d\u0430 <span data-word=\"283\" data-color=\"63\"><a href=\"#\">\u043a\u043e\u043d\u0442\u0440\u043e\u043b\u044c\u043d\u044b\u0445</a></span> \u0432\u044b\u0431\u043e\u0440\u043a\u0430\u0445, \u0447\u0442\u043e <span data-word=\"1140\" data-color=\"63\"><a href=\"#\">\u043e\u0441\u043e\u0431\u0435\u043d\u043d\u043e</a></span> <span data-word=\"1497\" data-color=\"63\"><a href=\"#\">\u043f\u0440\u043e\u044f\u0432\u043b\u044f\u0435\u0442\u0441\u044f</a></span> \u043f\u0440\u0438 <span data-word=\"632\" data-color=\"72\"><a href=\"#\">\u043c\u0430\u043b\u044b\u0445</a></span> <span data-word=\"6449\" data-color=\"63\"><a href=\"#\">\u043e\u0431\u044a\u0451\u043c\u0430\u0445</a></span> <span data-word=\"315\" data-color=\"63\"><a href=\"#\">\u044d\u043a\u0441\u043f\u0435\u0440\u0438\u043c\u0435\u043d\u0442\u0430\u043b\u044c\u043d\u044b\u0445</a></span> <span data-word=\"3\" data-color=\"63\"><a href=\"#\">\u0434\u0430\u043d\u043d\u044b\u0445</a></span>.</p><h1><span data-word=\"574\" data-color=\"110\"><a href=\"#\">\u0417\u0430\u043a\u043b\u044e\u0447\u0435\u043d\u0438\u0435</a></span></h1>\n",
        "<p>\u041d\u0435\u043b\u0438\u043d\u0435\u0439\u043d\u044b\u0435 \u043d\u0435\u043f\u0430\u0440\u0430\u043c\u0435\u0442\u0440\u0438\u0447\u0435\u0441\u043a\u0438\u0435 \u0430\u043b\u0433\u043e\u0440\u0438\u0442\u043c\u044b <span data-word=\"26\" data-color=\"63\"><a href=\"#\">\u0440\u0430\u0441\u043f\u043e\u0437\u043d\u0430\u0432\u0430\u043d\u0438\u044f</a></span> <span data-word=\"25\" data-color=\"63\"><a href=\"#\">\u043e\u0431\u0440\u0430\u0437\u043e\u0432</a></span> <span data-word=\"9\" data-color=\"63\"><a href=\"#\">\u044f\u0432\u043b\u044f\u044e\u0442\u0441\u044f</a></span> \u044d\u0444\u0444\u0435\u043a\u0442\u0438\u0432\u043d\u044b\u043c <span data-word=\"366\" data-color=\"110\"><a href=\"#\">\u0441\u0440\u0435\u0434\u0441\u0442\u0432\u043e\u043c</a></span> \u0440\u0435\u0448\u0435\u043d\u0438\u044f \u0437\u0430\u0434\u0430\u0447 <span data-word=\"47\" data-color=\"63\"><a href=\"#\">\u043a\u043b\u0430\u0441\u0441\u0438\u0444\u0438\u043a\u0430\u0446\u0438\u0438</a></span> \u0432\u00a0\u0443\u0441\u043b\u043e\u0432\u0438\u044f\u0445 <span data-word=\"632\" data-color=\"72\"><a href=\"#\">\u043c\u0430\u043b\u044b\u0445</a></span> \u043e\u0431\u0443\u0447\u0430\u044e\u0449\u0438\u0445 \u0432\u044b\u0431\u043e\u0440\u043e\u043a. \u0418\u0445\u00a0<span data-word=\"121\" data-color=\"63\"><a href=\"#\">\u043f\u0440\u0438\u043c\u0435\u043d\u0435\u043d\u0438\u0435</a></span> <span data-word=\"408\" data-color=\"63\"><a href=\"#\">\u043e\u0431\u0435\u0441\u043f\u0435\u0447\u0438\u0432\u0430\u0435\u0442</a></span> <span data-word=\"329\" data-color=\"80\"><a href=\"#\">\u0437\u043d\u0430\u0447\u0438\u0442\u0435\u043b\u044c\u043d\u043e\u0435</a></span> <span data-word=\"960\" data-color=\"48\"><a href=\"#\">\u0441\u043d\u0438\u0436\u0435\u043d\u0438\u0435</a></span> <span data-word=\"56\" data-color=\"63\"><a href=\"#\">\u043e\u0448\u0438\u0431\u043a\u0438</a></span> <span data-word=\"26\" data-color=\"63\"><a href=\"#\">\u0440\u0430\u0441\u043f\u043e\u0437\u043d\u0430\u0432\u0430\u043d\u0438\u044f</a></span> <span data-word=\"25\" data-color=\"63\"><a href=\"#\">\u043e\u0431\u0440\u0430\u0437\u043e\u0432</a></span> \u043d\u0430\u00a0<span data-word=\"283\" data-color=\"63\"><a href=\"#\">\u043a\u043e\u043d\u0442\u0440\u043e\u043b\u044c\u043d\u044b\u0445</a></span> \u0432\u044b\u0431\u043e\u0440\u043a\u0430\u0445 (\u0432\u00a01.5\u20133 <span data-word=\"1422\" data-color=\"63\"><a href=\"#\">\u0440\u0430\u0437\u0430</a></span>) \u043f\u043e <span data-word=\"89\" data-color=\"80\"><a href=\"#\">\u0441\u0440\u0430\u0432\u043d\u0435\u043d\u0438\u044e</a></span> \u0441 <span data-word=\"839\" data-color=\"63\"><a href=\"#\">\u0442\u0440\u0430\u0434\u0438\u0446\u0438\u043e\u043d\u043d\u044b\u043c</a></span> \u043d\u0435\u043f\u0430\u0440\u0430\u043c\u0435\u0442\u0440\u0438\u0447\u0435\u0441\u043a\u0438\u043c \u043a\u043b\u0430\u0441\u0441\u0438\u0444\u0438\u043a\u0430\u0442\u043e\u0440\u043e\u043c.</p>\n",
        "<p><span data-word=\"1815\" data-color=\"63\"><a href=\"#\">\u041f\u0435\u0440\u0441\u043f\u0435\u043a\u0442\u0438\u0432\u044b</a></span> <span data-word=\"440\" data-color=\"110\"><a href=\"#\">\u0440\u0430\u0437\u0432\u0438\u0442\u0438\u044f</a></span> \u043f\u0440\u0435\u0434\u043b\u0430\u0433\u0430\u0435\u043c\u043e\u0433\u043e <span data-word=\"42\" data-color=\"63\"><a href=\"#\">\u043f\u043e\u0434\u0445\u043e\u0434\u0430</a></span> <span data-word=\"171\" data-color=\"110\"><a href=\"#\">\u0441\u0432\u044f\u0437\u0430\u043d\u044b</a></span> \u0441\u00a0\u0435\u0433\u043e \u043f\u0440\u0438\u043c\u0435\u043d\u0435\u043d\u0438\u0435\u043c \u0432 \u0437\u0430\u0434\u0430\u0447\u0430\u0445 <span data-word=\"47\" data-color=\"63\"><a href=\"#\">\u043a\u043b\u0430\u0441\u0441\u0438\u0444\u0438\u043a\u0430\u0446\u0438\u0438</a></span> \u0432\u00a0\u0443\u0441\u043b\u043e\u0432\u0438\u044f\u0445 <span data-word=\"2340\" data-color=\"108\"><a href=\"#\">\u0440\u0430\u0437\u043d\u043e\u0442\u0438\u043f\u043d\u043e\u0439</a></span> <span data-word=\"58\" data-color=\"63\"><a href=\"#\">\u0438\u043d\u0444\u043e\u0440\u043c\u0430\u0446\u0438\u0438</a></span> \u0438\u00a0<span data-word=\"2361\" data-color=\"80\"><a href=\"#\">\u043d\u0435\u043e\u0434\u043d\u043e\u0440\u043e\u0434\u043d\u044b\u0445</a></span> \u0432\u044b\u0431\u043e\u0440\u043e\u043a, <span data-word=\"205\" data-color=\"63\"><a href=\"#\">\u043f\u043e\u043b\u0443\u0447\u0430\u0435\u043c\u044b\u0445</a></span> \u0432\u00a0\u0440\u0435\u0437\u0443\u043b\u044c\u0442\u0430\u0442\u0435 <span data-word=\"2420\" data-color=\"92\"><a href=\"#\">\u0437\u0430\u043f\u043e\u043b\u043d\u0435\u043d\u0438\u044f</a></span> <span data-word=\"1252\" data-color=\"108\"><a href=\"#\">\u043f\u0440\u043e\u043f\u0443\u0441\u043a\u043e\u0432</a></span> <span data-word=\"3\" data-color=\"63\"><a href=\"#\">\u0434\u0430\u043d\u043d\u044b\u0445</a></span>.</p>\n",
        "<p>\u0420\u0430\u0431\u043e\u0442\u0430 <span data-word=\"226\" data-color=\"63\"><a href=\"#\">\u0432\u044b\u043f\u043e\u043b\u043d\u0435\u043d\u0430</a></span> \u043f\u0440\u0438 <span data-word=\"460\" data-color=\"63\"><a href=\"#\">\u043f\u043e\u0434\u0434\u0435\u0440\u0436\u043a\u0435</a></span> <span data-word=\"582\" data-color=\"110\"><a href=\"#\">\u0420\u0424\u0424\u0418</a></span>, <span data-word=\"534\" data-color=\"110\"><a href=\"#\">\u043f\u0440\u043e\u0435\u043a\u0442</a></span> 07-01-00006.</p>\n",
        "<p><span>1</span> \u041d\u0435\u043f\u0430\u0440\u0430\u043c\u0435\u0442\u0440\u0438\u0447\u0435\u0441\u043a\u0438\u0435 <span data-word=\"18\" data-color=\"63\"><a href=\"#\">\u0441\u0438\u0441\u0442\u0435\u043c\u044b</a></span> <span data-word=\"47\" data-color=\"63\"><a href=\"#\">\u043a\u043b\u0430\u0441\u0441\u0438\u0444\u0438\u043a\u0430\u0446\u0438\u0438</a></span> / \u0410.\u0412.\u00a0\u041b\u0430\u043f\u043a\u043e, \u0412.\u0410.\u00a0\u041b\u0430\u043f\u043a\u043e, \u041c.\u0418.\u00a0\u0421\u043e\u043a\u043e\u043b\u043e\u0432, \u0421.\u0412.\u00a0\u0427\u0435\u043d\u0446\u043e\u0432. \u2014 \u041d\u043e\u0432\u043e\u0441\u0438\u0431\u0438\u0440\u0441\u043a:\u00a0\u041d\u0430\u0443\u043a\u0430, 2000. \u2014 240\u00a0\u0441. \u041e\u0431\u0443\u0447\u0430\u044e\u0449\u0438\u0435\u0441\u044f <span data-word=\"18\" data-color=\"63\"><a href=\"#\">\u0441\u0438\u0441\u0442\u0435\u043c\u044b</a></span> \u043e\u0431\u0440\u0430\u0431\u043e\u0442\u043a\u0438 <span data-word=\"58\" data-color=\"63\"><a href=\"#\">\u0438\u043d\u0444\u043e\u0440\u043c\u0430\u0446\u0438\u0438</a></span> \u0438 <span data-word=\"447\" data-color=\"63\"><a href=\"#\">\u043f\u0440\u0438\u043d\u044f\u0442\u0438\u044f</a></span> <span data-word=\"10\" data-color=\"63\"><a href=\"#\">\u0440\u0435\u0448\u0435\u043d\u0438\u0439</a></span> / \u0410.\u0412.\u00a0\u041b\u0430\u043f\u043a\u043e, \u0421.\u0412.\u00a0\u0427\u0435\u043d\u0446\u043e\u0432, \u0421.\u0418.\u00a0\u041a\u0440\u043e\u0445\u043e\u0432, \u041b.\u0410.\u00a0\u0424\u0435\u043b\u044c\u0434\u043c\u0430\u043d. \u201c\u2014 \u041d\u043e\u0432\u043e\u0441\u0438\u0431\u0438\u0440\u0441\u043a: \u041d\u0430\u0443\u043a\u0430, 1996. \u201d\u2014 296\u00a0\u0441.</p>\n",
        "</body>\n"
       ]
      }
     ],
     "prompt_number": 12
    },
    {
     "cell_type": "code",
     "collapsed": false,
     "input": [
      "csses = !ls web/static/docsdata/*/*.css\n",
      "for css in ProgressBar(csses):\n",
      "    parts = css.split('/')\n",
      "    repl = '/static/docsdata/%s/%s' % (parts[3], parts[4].replace('.css', '.png'))\n",
      "    !sed -i \"s|display: inline-block;||g\" '{css}'\n",
      "    !sed -i \"s|url('.*|url('{repl}');|g\" '{css}'\n",
      "    !sed -i \"s|background-image|display: inline-block; \\nbackground-image|g\" '{css}'\n",
      "#     !cat {css}\n",
      "#     break"
     ],
     "language": "python",
     "metadata": {},
     "outputs": []
    },
    {
     "cell_type": "code",
     "collapsed": false,
     "input": [
      "filename"
     ],
     "language": "python",
     "metadata": {},
     "outputs": [
      {
       "metadata": {},
       "output_type": "pyout",
       "prompt_number": 11,
       "text": [
        "'2007-MMRO13/lapko_MM_2'"
       ]
      }
     ],
     "prompt_number": 11
    }
   ],
   "metadata": {}
  }
 ]
}