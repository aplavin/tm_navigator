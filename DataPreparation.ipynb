{
 "metadata": {
  "name": "",
  "signature": "sha256:7fbab691d4a822ee0bb36f1ae8d9a5a670cb1580148a8eec55c7701472112f32"
 },
 "nbformat": 3,
 "nbformat_minor": 0,
 "worksheets": [
  {
   "cells": [
    {
     "cell_type": "code",
     "collapsed": false,
     "input": [
      "import codecs\n",
      "import numpy as np\n",
      "import scipy.sparse\n",
      "import sys\n",
      "import comp_exp\n",
      "import py_artm\n",
      "import h5py\n",
      "sys.path.append('/home/alexander/strijov/MLAlgorithms/Group174/Plavin2014TopicsNumberOptimization/code')\n",
      "from utils import *\n",
      "from ggplot_utils import *\n",
      "from IPython.display import display\n",
      "from functools import partial\n",
      "from itertools import count, groupby\n",
      "from ipy_progressbar import ProgressBar\n",
      "from itertools import starmap\n",
      "import codecs\n",
      "from pprint import pprint\n",
      "from recordtype import recordtype\n",
      "\n",
      "from rpy2.robjects import pandas2ri\n",
      "pandas2ri.activate()\n",
      "import rpy2.robjects as robj\n",
      "from rpy2.robjects.lib import ggplot2 as gg\n",
      "from rpy2.ipython.ggplot import ggplot as iggplot\n",
      "from rpy2.robjects.packages import importr\n",
      "rbase = importr('base')\n",
      "\n",
      "%matplotlib inline\n",
      "%load_ext rpy2.ipython.rmagic\n",
      "\n",
      "from ggplot_utils import *\n",
      "MyGGPlot.latex_enabled = False"
     ],
     "language": "python",
     "metadata": {},
     "outputs": [
      {
       "output_type": "stream",
       "stream": "stderr",
       "text": [
        "/usr/lib/python2.7/distutils/dist.py:267: UserWarning: Unknown distribution option: 'library_dirs'\n",
        "  warnings.warn(msg)\n"
       ]
      }
     ],
     "prompt_number": 1
    },
    {
     "cell_type": "code",
     "collapsed": false,
     "input": [
      "ds = []\n",
      "ws = []\n",
      "cnts = []\n",
      "\n",
      "with open('MMRO_new.txt') as nwdf:\n",
      "    D = int(nwdf.readline())\n",
      "    W = int(nwdf.readline())\n",
      "    \n",
      "    for line in nwdf:\n",
      "        d, w, cnt = map(int, line.split())\n",
      "        ds.append(d)\n",
      "        ws.append(w)\n",
      "        cnts.append(cnt)\n",
      "        \n",
      "nwd = scipy.sparse.coo_matrix((cnts, (ws, ds))).astype(np.float32)"
     ],
     "language": "python",
     "metadata": {},
     "outputs": [],
     "prompt_number": 96
    },
    {
     "cell_type": "code",
     "collapsed": false,
     "input": [
      "nwd.shape, sum(nwd.sum(1).A1 == 0), sum(nwd.sum(0).A1 == 0), 13031-668"
     ],
     "language": "python",
     "metadata": {},
     "outputs": [
      {
       "metadata": {},
       "output_type": "pyout",
       "prompt_number": 97,
       "text": [
        "((12363, 1009), 0, 0, 12363)"
       ]
      }
     ],
     "prompt_number": 97
    },
    {
     "cell_type": "code",
     "collapsed": false,
     "input": [
      "with open('MMRO_new.txt', 'w') as nwdf:\n",
      "    new_nwd = nwd.tocsr()[np.nonzero(nwd.sum(1).A1)[0], :].tocoo()\n",
      "    \n",
      "    nwdf.write(str(new_nwd.shape[1]) + '\\n')\n",
      "    nwdf.write(str(new_nwd.shape[0]) + '\\n')\n",
      "    \n",
      "    for w, d, cnt in zip(new_nwd.row, new_nwd.col, new_nwd.data):\n",
      "        nwdf.write('%d %d %d' % (d, w, cnt) + '\\n')"
     ],
     "language": "python",
     "metadata": {},
     "outputs": [],
     "prompt_number": 79
    },
    {
     "cell_type": "code",
     "collapsed": false,
     "input": [
      "tau = 0.2\n",
      "t_init = 150\n",
      "\n",
      "em = py_artm.plsa.PlsaEmRational(nwd,\n",
      "                                 t_init,\n",
      "                                 [py_artm.quantities.Perplexity(), py_artm.quantities.TopicsLeft(),\n",
      "                                  py_artm.stop_conditions.ValueBounds('topics_left', lo=2)])\n",
      "em.iterate(200, quiet=1)"
     ],
     "language": "python",
     "metadata": {},
     "outputs": [
      {
       "javascript": [
        "$(\"[data-key='plsa_em']\").parent().parent().remove()"
       ],
       "metadata": {},
       "output_type": "display_data"
      },
      {
       "html": [
        "\n",
        "            <style>\n",
        "                .progress {\n",
        "                    position: relative;\n",
        "                }\n",
        "\n",
        "                .progress > .text {\n",
        "                    position: absolute;\n",
        "                    left: 0;\n",
        "                    width: 100%;\n",
        "                    text-align: center;\n",
        "                }\n",
        "\n",
        "                .progress .bar {\n",
        "                    transition-property: none;\n",
        "                }\n",
        "            </style>\n",
        "\n",
        "            <h3>PLSA EM:</h3>\n",
        "            <div class=\"progress\" id=\"a6ca39a24-ff25-49ee-aebd-8a92e429f1d3\" data-key=plsa_em>\n",
        "                <div class=\"bar bar-success completed-part\" style=\"width: 0%;\"></div>\n",
        "                <div class=\"bar bar-warning running-part\" style=\"width: 100%;\"></div>\n",
        "                <div class=\"text\">\n",
        "                    <span class=\"main\">Starting...</span>\n",
        "                    <span class=\"extra\"></span>\n",
        "                </div>\n",
        "            </div>\n",
        "            "
       ],
       "metadata": {},
       "output_type": "display_data"
      },
      {
       "javascript": [
        "$(\"#a6ca39a24-ff25-49ee-aebd-8a92e429f1d3 > .completed-part\").css(\"width\", \"0.000000%\")"
       ],
       "metadata": {},
       "output_type": "display_data"
      },
      {
       "javascript": [
        "$(\"#a6ca39a24-ff25-49ee-aebd-8a92e429f1d3 > .running-part\").css(\"width\", \"0.500000%\")"
       ],
       "metadata": {},
       "output_type": "display_data"
      },
      {
       "javascript": [
        "$(\"#a6ca39a24-ff25-49ee-aebd-8a92e429f1d3 > .text > .main\").text(\"0/200 (0%) in 0.0 s, nan s last iter; eta nan+-nan s\")"
       ],
       "metadata": {},
       "output_type": "display_data"
      },
      {
       "javascript": [
        "$(\"#a6ca39a24-ff25-49ee-aebd-8a92e429f1d3 > .text > .extra\").text(\"|||| Perplexity: 1759.49627667; Topics_left: 150\")"
       ],
       "metadata": {},
       "output_type": "display_data"
      },
      {
       "javascript": [
        "$(\"#a6ca39a24-ff25-49ee-aebd-8a92e429f1d3 > .completed-part\").css(\"width\", \"0.500000%\")"
       ],
       "metadata": {},
       "output_type": "display_data"
      },
      {
       "javascript": [
        "$(\"#a6ca39a24-ff25-49ee-aebd-8a92e429f1d3 > .running-part\").css(\"width\", \"0.500000%\")"
       ],
       "metadata": {},
       "output_type": "display_data"
      },
      {
       "javascript": [
        "$(\"#a6ca39a24-ff25-49ee-aebd-8a92e429f1d3 > .text > .main\").text(\"1/200 (0%) in 0.3 s, 0.32 s last iter; eta 64+-0 s\")"
       ],
       "metadata": {},
       "output_type": "display_data"
      },
      {
       "javascript": [
        "$(\"#a6ca39a24-ff25-49ee-aebd-8a92e429f1d3 > .text > .extra\").text(\"|||| Perplexity: 1723.27116993; Topics_left: 150\")"
       ],
       "metadata": {},
       "output_type": "display_data"
      },
      {
       "javascript": [
        "$(\"#a6ca39a24-ff25-49ee-aebd-8a92e429f1d3 > .completed-part\").css(\"width\", \"1.000000%\")"
       ],
       "metadata": {},
       "output_type": "display_data"
      },
      {
       "javascript": [
        "$(\"#a6ca39a24-ff25-49ee-aebd-8a92e429f1d3 > .running-part\").css(\"width\", \"0.500000%\")"
       ],
       "metadata": {},
       "output_type": "display_data"
      },
      {
       "javascript": [
        "$(\"#a6ca39a24-ff25-49ee-aebd-8a92e429f1d3 > .text > .main\").text(\"2/200 (1%) in 0.5 s, 0.19 s last iter; eta 51+-13 s\")"
       ],
       "metadata": {},
       "output_type": "display_data"
      },
      {
       "javascript": [
        "$(\"#a6ca39a24-ff25-49ee-aebd-8a92e429f1d3 > .text > .extra\").text(\"|||| Perplexity: 1680.34408171; Topics_left: 150\")"
       ],
       "metadata": {},
       "output_type": "display_data"
      },
      {
       "javascript": [
        "$(\"#a6ca39a24-ff25-49ee-aebd-8a92e429f1d3 > .completed-part\").css(\"width\", \"1.500000%\")"
       ],
       "metadata": {},
       "output_type": "display_data"
      },
      {
       "javascript": [
        "$(\"#a6ca39a24-ff25-49ee-aebd-8a92e429f1d3 > .running-part\").css(\"width\", \"0.500000%\")"
       ],
       "metadata": {},
       "output_type": "display_data"
      },
      {
       "javascript": [
        "$(\"#a6ca39a24-ff25-49ee-aebd-8a92e429f1d3 > .text > .main\").text(\"3/200 (1%) in 0.7 s, 0.20 s last iter; eta 47+-12 s\")"
       ],
       "metadata": {},
       "output_type": "display_data"
      },
      {
       "javascript": [
        "$(\"#a6ca39a24-ff25-49ee-aebd-8a92e429f1d3 > .text > .extra\").text(\"|||| Perplexity: 1610.46646425; Topics_left: 150\")"
       ],
       "metadata": {},
       "output_type": "display_data"
      },
      {
       "javascript": [
        "$(\"#a6ca39a24-ff25-49ee-aebd-8a92e429f1d3 > .completed-part\").css(\"width\", \"2.000000%\")"
       ],
       "metadata": {},
       "output_type": "display_data"
      },
      {
       "javascript": [
        "$(\"#a6ca39a24-ff25-49ee-aebd-8a92e429f1d3 > .running-part\").css(\"width\", \"0.500000%\")"
       ],
       "metadata": {},
       "output_type": "display_data"
      },
      {
       "javascript": [
        "$(\"#a6ca39a24-ff25-49ee-aebd-8a92e429f1d3 > .text > .main\").text(\"4/200 (2%) in 0.9 s, 0.23 s last iter; eta 46+-10 s\")"
       ],
       "metadata": {},
       "output_type": "display_data"
      },
      {
       "javascript": [
        "$(\"#a6ca39a24-ff25-49ee-aebd-8a92e429f1d3 > .text > .extra\").text(\"|||| Perplexity: 1496.43872642; Topics_left: 150\")"
       ],
       "metadata": {},
       "output_type": "display_data"
      },
      {
       "javascript": [
        "$(\"#a6ca39a24-ff25-49ee-aebd-8a92e429f1d3 > .completed-part\").css(\"width\", \"2.500000%\")"
       ],
       "metadata": {},
       "output_type": "display_data"
      },
      {
       "javascript": [
        "$(\"#a6ca39a24-ff25-49ee-aebd-8a92e429f1d3 > .running-part\").css(\"width\", \"0.500000%\")"
       ],
       "metadata": {},
       "output_type": "display_data"
      },
      {
       "javascript": [
        "$(\"#a6ca39a24-ff25-49ee-aebd-8a92e429f1d3 > .text > .main\").text(\"5/200 (2%) in 1.1 s, 0.20 s last iter; eta 45+-10 s\")"
       ],
       "metadata": {},
       "output_type": "display_data"
      },
      {
       "javascript": [
        "$(\"#a6ca39a24-ff25-49ee-aebd-8a92e429f1d3 > .text > .extra\").text(\"|||| Perplexity: 1344.77052208; Topics_left: 150\")"
       ],
       "metadata": {},
       "output_type": "display_data"
      },
      {
       "javascript": [
        "$(\"#a6ca39a24-ff25-49ee-aebd-8a92e429f1d3 > .completed-part\").css(\"width\", \"3.000000%\")"
       ],
       "metadata": {},
       "output_type": "display_data"
      },
      {
       "javascript": [
        "$(\"#a6ca39a24-ff25-49ee-aebd-8a92e429f1d3 > .running-part\").css(\"width\", \"0.500000%\")"
       ],
       "metadata": {},
       "output_type": "display_data"
      },
      {
       "javascript": [
        "$(\"#a6ca39a24-ff25-49ee-aebd-8a92e429f1d3 > .text > .main\").text(\"6/200 (3%) in 1.3 s, 0.19 s last iter; eta 43+-9 s\")"
       ],
       "metadata": {},
       "output_type": "display_data"
      },
      {
       "javascript": [
        "$(\"#a6ca39a24-ff25-49ee-aebd-8a92e429f1d3 > .text > .extra\").text(\"|||| Perplexity: 1183.72044408; Topics_left: 150\")"
       ],
       "metadata": {},
       "output_type": "display_data"
      },
      {
       "javascript": [
        "$(\"#a6ca39a24-ff25-49ee-aebd-8a92e429f1d3 > .completed-part\").css(\"width\", \"3.500000%\")"
       ],
       "metadata": {},
       "output_type": "display_data"
      },
      {
       "javascript": [
        "$(\"#a6ca39a24-ff25-49ee-aebd-8a92e429f1d3 > .running-part\").css(\"width\", \"0.500000%\")"
       ],
       "metadata": {},
       "output_type": "display_data"
      },
      {
       "javascript": [
        "$(\"#a6ca39a24-ff25-49ee-aebd-8a92e429f1d3 > .text > .main\").text(\"7/200 (3%) in 1.5 s, 0.21 s last iter; eta 43+-8 s\")"
       ],
       "metadata": {},
       "output_type": "display_data"
      },
      {
       "javascript": [
        "$(\"#a6ca39a24-ff25-49ee-aebd-8a92e429f1d3 > .text > .extra\").text(\"|||| Perplexity: 1034.59233909; Topics_left: 150\")"
       ],
       "metadata": {},
       "output_type": "display_data"
      },
      {
       "javascript": [
        "$(\"#a6ca39a24-ff25-49ee-aebd-8a92e429f1d3 > .completed-part\").css(\"width\", \"4.000000%\")"
       ],
       "metadata": {},
       "output_type": "display_data"
      },
      {
       "javascript": [
        "$(\"#a6ca39a24-ff25-49ee-aebd-8a92e429f1d3 > .running-part\").css(\"width\", \"0.500000%\")"
       ],
       "metadata": {},
       "output_type": "display_data"
      },
      {
       "javascript": [
        "$(\"#a6ca39a24-ff25-49ee-aebd-8a92e429f1d3 > .text > .main\").text(\"8/200 (4%) in 1.8 s, 0.21 s last iter; eta 42+-8 s\")"
       ],
       "metadata": {},
       "output_type": "display_data"
      },
      {
       "javascript": [
        "$(\"#a6ca39a24-ff25-49ee-aebd-8a92e429f1d3 > .text > .extra\").text(\"|||| Perplexity: 909.691012869; Topics_left: 150\")"
       ],
       "metadata": {},
       "output_type": "display_data"
      },
      {
       "javascript": [
        "$(\"#a6ca39a24-ff25-49ee-aebd-8a92e429f1d3 > .completed-part\").css(\"width\", \"4.500000%\")"
       ],
       "metadata": {},
       "output_type": "display_data"
      },
      {
       "javascript": [
        "$(\"#a6ca39a24-ff25-49ee-aebd-8a92e429f1d3 > .running-part\").css(\"width\", \"0.500000%\")"
       ],
       "metadata": {},
       "output_type": "display_data"
      },
      {
       "javascript": [
        "$(\"#a6ca39a24-ff25-49ee-aebd-8a92e429f1d3 > .text > .main\").text(\"9/200 (4%) in 2.0 s, 0.19 s last iter; eta 41+-7 s\")"
       ],
       "metadata": {},
       "output_type": "display_data"
      },
      {
       "javascript": [
        "$(\"#a6ca39a24-ff25-49ee-aebd-8a92e429f1d3 > .text > .extra\").text(\"|||| Perplexity: 811.806763678; Topics_left: 150\")"
       ],
       "metadata": {},
       "output_type": "display_data"
      },
      {
       "javascript": [
        "$(\"#a6ca39a24-ff25-49ee-aebd-8a92e429f1d3 > .completed-part\").css(\"width\", \"5.000000%\")"
       ],
       "metadata": {},
       "output_type": "display_data"
      },
      {
       "javascript": [
        "$(\"#a6ca39a24-ff25-49ee-aebd-8a92e429f1d3 > .running-part\").css(\"width\", \"0.500000%\")"
       ],
       "metadata": {},
       "output_type": "display_data"
      },
      {
       "javascript": [
        "$(\"#a6ca39a24-ff25-49ee-aebd-8a92e429f1d3 > .text > .main\").text(\"10/200 (5%) in 2.2 s, 0.21 s last iter; eta 41+-7 s\")"
       ],
       "metadata": {},
       "output_type": "display_data"
      },
      {
       "javascript": [
        "$(\"#a6ca39a24-ff25-49ee-aebd-8a92e429f1d3 > .text > .extra\").text(\"|||| Perplexity: 737.604959689; Topics_left: 150\")"
       ],
       "metadata": {},
       "output_type": "display_data"
      },
      {
       "javascript": [
        "$(\"#a6ca39a24-ff25-49ee-aebd-8a92e429f1d3 > .completed-part\").css(\"width\", \"5.500000%\")"
       ],
       "metadata": {},
       "output_type": "display_data"
      },
      {
       "javascript": [
        "$(\"#a6ca39a24-ff25-49ee-aebd-8a92e429f1d3 > .running-part\").css(\"width\", \"0.500000%\")"
       ],
       "metadata": {},
       "output_type": "display_data"
      },
      {
       "javascript": [
        "$(\"#a6ca39a24-ff25-49ee-aebd-8a92e429f1d3 > .text > .main\").text(\"11/200 (5%) in 2.4 s, 0.20 s last iter; eta 40+-7 s\")"
       ],
       "metadata": {},
       "output_type": "display_data"
      },
      {
       "javascript": [
        "$(\"#a6ca39a24-ff25-49ee-aebd-8a92e429f1d3 > .text > .extra\").text(\"|||| Perplexity: 682.277797517; Topics_left: 150\")"
       ],
       "metadata": {},
       "output_type": "display_data"
      },
      {
       "javascript": [
        "$(\"#a6ca39a24-ff25-49ee-aebd-8a92e429f1d3 > .completed-part\").css(\"width\", \"6.000000%\")"
       ],
       "metadata": {},
       "output_type": "display_data"
      },
      {
       "javascript": [
        "$(\"#a6ca39a24-ff25-49ee-aebd-8a92e429f1d3 > .running-part\").css(\"width\", \"0.500000%\")"
       ],
       "metadata": {},
       "output_type": "display_data"
      },
      {
       "javascript": [
        "$(\"#a6ca39a24-ff25-49ee-aebd-8a92e429f1d3 > .text > .main\").text(\"12/200 (6%) in 2.6 s, 0.20 s last iter; eta 40+-7 s\")"
       ],
       "metadata": {},
       "output_type": "display_data"
      },
      {
       "javascript": [
        "$(\"#a6ca39a24-ff25-49ee-aebd-8a92e429f1d3 > .text > .extra\").text(\"|||| Perplexity: 641.0840448; Topics_left: 150\")"
       ],
       "metadata": {},
       "output_type": "display_data"
      },
      {
       "javascript": [
        "$(\"#a6ca39a24-ff25-49ee-aebd-8a92e429f1d3 > .completed-part\").css(\"width\", \"6.500000%\")"
       ],
       "metadata": {},
       "output_type": "display_data"
      },
      {
       "javascript": [
        "$(\"#a6ca39a24-ff25-49ee-aebd-8a92e429f1d3 > .running-part\").css(\"width\", \"0.500000%\")"
       ],
       "metadata": {},
       "output_type": "display_data"
      },
      {
       "javascript": [
        "$(\"#a6ca39a24-ff25-49ee-aebd-8a92e429f1d3 > .text > .main\").text(\"13/200 (6%) in 2.8 s, 0.21 s last iter; eta 40+-6 s\")"
       ],
       "metadata": {},
       "output_type": "display_data"
      },
      {
       "javascript": [
        "$(\"#a6ca39a24-ff25-49ee-aebd-8a92e429f1d3 > .text > .extra\").text(\"|||| Perplexity: 609.92645282; Topics_left: 150\")"
       ],
       "metadata": {},
       "output_type": "display_data"
      },
      {
       "javascript": [
        "$(\"#a6ca39a24-ff25-49ee-aebd-8a92e429f1d3 > .completed-part\").css(\"width\", \"7.000000%\")"
       ],
       "metadata": {},
       "output_type": "display_data"
      },
      {
       "javascript": [
        "$(\"#a6ca39a24-ff25-49ee-aebd-8a92e429f1d3 > .running-part\").css(\"width\", \"0.500000%\")"
       ],
       "metadata": {},
       "output_type": "display_data"
      },
      {
       "javascript": [
        "$(\"#a6ca39a24-ff25-49ee-aebd-8a92e429f1d3 > .text > .main\").text(\"14/200 (7%) in 3.0 s, 0.20 s last iter; eta 39+-6 s\")"
       ],
       "metadata": {},
       "output_type": "display_data"
      },
      {
       "javascript": [
        "$(\"#a6ca39a24-ff25-49ee-aebd-8a92e429f1d3 > .text > .extra\").text(\"|||| Perplexity: 585.870563093; Topics_left: 150\")"
       ],
       "metadata": {},
       "output_type": "display_data"
      },
      {
       "javascript": [
        "$(\"#a6ca39a24-ff25-49ee-aebd-8a92e429f1d3 > .completed-part\").css(\"width\", \"7.500000%\")"
       ],
       "metadata": {},
       "output_type": "display_data"
      },
      {
       "javascript": [
        "$(\"#a6ca39a24-ff25-49ee-aebd-8a92e429f1d3 > .running-part\").css(\"width\", \"0.500000%\")"
       ],
       "metadata": {},
       "output_type": "display_data"
      },
      {
       "javascript": [
        "$(\"#a6ca39a24-ff25-49ee-aebd-8a92e429f1d3 > .text > .main\").text(\"15/200 (7%) in 3.2 s, 0.20 s last iter; eta 39+-6 s\")"
       ],
       "metadata": {},
       "output_type": "display_data"
      },
      {
       "javascript": [
        "$(\"#a6ca39a24-ff25-49ee-aebd-8a92e429f1d3 > .text > .extra\").text(\"|||| Perplexity: 566.962002888; Topics_left: 150\")"
       ],
       "metadata": {},
       "output_type": "display_data"
      },
      {
       "javascript": [
        "$(\"#a6ca39a24-ff25-49ee-aebd-8a92e429f1d3 > .completed-part\").css(\"width\", \"8.000000%\")"
       ],
       "metadata": {},
       "output_type": "display_data"
      },
      {
       "javascript": [
        "$(\"#a6ca39a24-ff25-49ee-aebd-8a92e429f1d3 > .running-part\").css(\"width\", \"0.500000%\")"
       ],
       "metadata": {},
       "output_type": "display_data"
      },
      {
       "javascript": [
        "$(\"#a6ca39a24-ff25-49ee-aebd-8a92e429f1d3 > .text > .main\").text(\"16/200 (8%) in 3.4 s, 0.21 s last iter; eta 39+-6 s\")"
       ],
       "metadata": {},
       "output_type": "display_data"
      },
      {
       "javascript": [
        "$(\"#a6ca39a24-ff25-49ee-aebd-8a92e429f1d3 > .text > .extra\").text(\"|||| Perplexity: 551.774652938; Topics_left: 150\")"
       ],
       "metadata": {},
       "output_type": "display_data"
      },
      {
       "javascript": [
        "$(\"#a6ca39a24-ff25-49ee-aebd-8a92e429f1d3 > .completed-part\").css(\"width\", \"8.500000%\")"
       ],
       "metadata": {},
       "output_type": "display_data"
      },
      {
       "javascript": [
        "$(\"#a6ca39a24-ff25-49ee-aebd-8a92e429f1d3 > .running-part\").css(\"width\", \"0.500000%\")"
       ],
       "metadata": {},
       "output_type": "display_data"
      },
      {
       "javascript": [
        "$(\"#a6ca39a24-ff25-49ee-aebd-8a92e429f1d3 > .text > .main\").text(\"17/200 (8%) in 3.6 s, 0.20 s last iter; eta 38+-5 s\")"
       ],
       "metadata": {},
       "output_type": "display_data"
      },
      {
       "javascript": [
        "$(\"#a6ca39a24-ff25-49ee-aebd-8a92e429f1d3 > .text > .extra\").text(\"|||| Perplexity: 539.48141181; Topics_left: 150\")"
       ],
       "metadata": {},
       "output_type": "display_data"
      },
      {
       "javascript": [
        "$(\"#a6ca39a24-ff25-49ee-aebd-8a92e429f1d3 > .completed-part\").css(\"width\", \"9.000000%\")"
       ],
       "metadata": {},
       "output_type": "display_data"
      },
      {
       "javascript": [
        "$(\"#a6ca39a24-ff25-49ee-aebd-8a92e429f1d3 > .running-part\").css(\"width\", \"0.500000%\")"
       ],
       "metadata": {},
       "output_type": "display_data"
      },
      {
       "javascript": [
        "$(\"#a6ca39a24-ff25-49ee-aebd-8a92e429f1d3 > .text > .main\").text(\"18/200 (9%) in 3.8 s, 0.20 s last iter; eta 38+-5 s\")"
       ],
       "metadata": {},
       "output_type": "display_data"
      },
      {
       "javascript": [
        "$(\"#a6ca39a24-ff25-49ee-aebd-8a92e429f1d3 > .text > .extra\").text(\"|||| Perplexity: 529.497521451; Topics_left: 150\")"
       ],
       "metadata": {},
       "output_type": "display_data"
      },
      {
       "javascript": [
        "$(\"#a6ca39a24-ff25-49ee-aebd-8a92e429f1d3 > .completed-part\").css(\"width\", \"9.500000%\")"
       ],
       "metadata": {},
       "output_type": "display_data"
      },
      {
       "javascript": [
        "$(\"#a6ca39a24-ff25-49ee-aebd-8a92e429f1d3 > .running-part\").css(\"width\", \"0.500000%\")"
       ],
       "metadata": {},
       "output_type": "display_data"
      },
      {
       "javascript": [
        "$(\"#a6ca39a24-ff25-49ee-aebd-8a92e429f1d3 > .text > .main\").text(\"19/200 (9%) in 4.0 s, 0.21 s last iter; eta 38+-5 s\")"
       ],
       "metadata": {},
       "output_type": "display_data"
      },
      {
       "javascript": [
        "$(\"#a6ca39a24-ff25-49ee-aebd-8a92e429f1d3 > .text > .extra\").text(\"|||| Perplexity: 521.207322247; Topics_left: 150\")"
       ],
       "metadata": {},
       "output_type": "display_data"
      },
      {
       "javascript": [
        "$(\"#a6ca39a24-ff25-49ee-aebd-8a92e429f1d3 > .completed-part\").css(\"width\", \"10.000000%\")"
       ],
       "metadata": {},
       "output_type": "display_data"
      },
      {
       "javascript": [
        "$(\"#a6ca39a24-ff25-49ee-aebd-8a92e429f1d3 > .running-part\").css(\"width\", \"0.500000%\")"
       ],
       "metadata": {},
       "output_type": "display_data"
      },
      {
       "javascript": [
        "$(\"#a6ca39a24-ff25-49ee-aebd-8a92e429f1d3 > .text > .main\").text(\"20/200 (10%) in 4.2 s, 0.20 s last iter; eta 38+-5 s\")"
       ],
       "metadata": {},
       "output_type": "display_data"
      },
      {
       "javascript": [
        "$(\"#a6ca39a24-ff25-49ee-aebd-8a92e429f1d3 > .text > .extra\").text(\"|||| Perplexity: 514.225691847; Topics_left: 150\")"
       ],
       "metadata": {},
       "output_type": "display_data"
      },
      {
       "javascript": [
        "$(\"#a6ca39a24-ff25-49ee-aebd-8a92e429f1d3 > .completed-part\").css(\"width\", \"10.500000%\")"
       ],
       "metadata": {},
       "output_type": "display_data"
      },
      {
       "javascript": [
        "$(\"#a6ca39a24-ff25-49ee-aebd-8a92e429f1d3 > .running-part\").css(\"width\", \"0.500000%\")"
       ],
       "metadata": {},
       "output_type": "display_data"
      },
      {
       "javascript": [
        "$(\"#a6ca39a24-ff25-49ee-aebd-8a92e429f1d3 > .text > .main\").text(\"21/200 (10%) in 4.4 s, 0.19 s last iter; eta 37+-5 s\")"
       ],
       "metadata": {},
       "output_type": "display_data"
      },
      {
       "javascript": [
        "$(\"#a6ca39a24-ff25-49ee-aebd-8a92e429f1d3 > .text > .extra\").text(\"|||| Perplexity: 508.387043437; Topics_left: 150\")"
       ],
       "metadata": {},
       "output_type": "display_data"
      },
      {
       "javascript": [
        "$(\"#a6ca39a24-ff25-49ee-aebd-8a92e429f1d3 > .completed-part\").css(\"width\", \"11.000000%\")"
       ],
       "metadata": {},
       "output_type": "display_data"
      },
      {
       "javascript": [
        "$(\"#a6ca39a24-ff25-49ee-aebd-8a92e429f1d3 > .running-part\").css(\"width\", \"0.500000%\")"
       ],
       "metadata": {},
       "output_type": "display_data"
      },
      {
       "javascript": [
        "$(\"#a6ca39a24-ff25-49ee-aebd-8a92e429f1d3 > .text > .main\").text(\"22/200 (11%) in 4.6 s, 0.21 s last iter; eta 37+-5 s\")"
       ],
       "metadata": {},
       "output_type": "display_data"
      },
      {
       "javascript": [
        "$(\"#a6ca39a24-ff25-49ee-aebd-8a92e429f1d3 > .text > .extra\").text(\"|||| Perplexity: 503.209584096; Topics_left: 150\")"
       ],
       "metadata": {},
       "output_type": "display_data"
      },
      {
       "javascript": [
        "$(\"#a6ca39a24-ff25-49ee-aebd-8a92e429f1d3 > .completed-part\").css(\"width\", \"11.500000%\")"
       ],
       "metadata": {},
       "output_type": "display_data"
      },
      {
       "javascript": [
        "$(\"#a6ca39a24-ff25-49ee-aebd-8a92e429f1d3 > .running-part\").css(\"width\", \"0.500000%\")"
       ],
       "metadata": {},
       "output_type": "display_data"
      },
      {
       "javascript": [
        "$(\"#a6ca39a24-ff25-49ee-aebd-8a92e429f1d3 > .text > .main\").text(\"23/200 (11%) in 4.8 s, 0.20 s last iter; eta 37+-5 s\")"
       ],
       "metadata": {},
       "output_type": "display_data"
      },
      {
       "javascript": [
        "$(\"#a6ca39a24-ff25-49ee-aebd-8a92e429f1d3 > .text > .extra\").text(\"|||| Perplexity: 498.849338415; Topics_left: 150\")"
       ],
       "metadata": {},
       "output_type": "display_data"
      },
      {
       "javascript": [
        "$(\"#a6ca39a24-ff25-49ee-aebd-8a92e429f1d3 > .completed-part\").css(\"width\", \"12.000000%\")"
       ],
       "metadata": {},
       "output_type": "display_data"
      },
      {
       "javascript": [
        "$(\"#a6ca39a24-ff25-49ee-aebd-8a92e429f1d3 > .running-part\").css(\"width\", \"0.500000%\")"
       ],
       "metadata": {},
       "output_type": "display_data"
      },
      {
       "javascript": [
        "$(\"#a6ca39a24-ff25-49ee-aebd-8a92e429f1d3 > .text > .main\").text(\"24/200 (12%) in 5.0 s, 0.20 s last iter; eta 36+-5 s\")"
       ],
       "metadata": {},
       "output_type": "display_data"
      },
      {
       "javascript": [
        "$(\"#a6ca39a24-ff25-49ee-aebd-8a92e429f1d3 > .text > .extra\").text(\"|||| Perplexity: 495.014537326; Topics_left: 150\")"
       ],
       "metadata": {},
       "output_type": "display_data"
      },
      {
       "javascript": [
        "$(\"#a6ca39a24-ff25-49ee-aebd-8a92e429f1d3 > .completed-part\").css(\"width\", \"12.500000%\")"
       ],
       "metadata": {},
       "output_type": "display_data"
      },
      {
       "javascript": [
        "$(\"#a6ca39a24-ff25-49ee-aebd-8a92e429f1d3 > .running-part\").css(\"width\", \"0.500000%\")"
       ],
       "metadata": {},
       "output_type": "display_data"
      },
      {
       "javascript": [
        "$(\"#a6ca39a24-ff25-49ee-aebd-8a92e429f1d3 > .text > .main\").text(\"25/200 (12%) in 5.2 s, 0.21 s last iter; eta 36+-4 s\")"
       ],
       "metadata": {},
       "output_type": "display_data"
      },
      {
       "javascript": [
        "$(\"#a6ca39a24-ff25-49ee-aebd-8a92e429f1d3 > .text > .extra\").text(\"|||| Perplexity: 491.633160436; Topics_left: 150\")"
       ],
       "metadata": {},
       "output_type": "display_data"
      },
      {
       "javascript": [
        "$(\"#a6ca39a24-ff25-49ee-aebd-8a92e429f1d3 > .completed-part\").css(\"width\", \"13.000000%\")"
       ],
       "metadata": {},
       "output_type": "display_data"
      },
      {
       "javascript": [
        "$(\"#a6ca39a24-ff25-49ee-aebd-8a92e429f1d3 > .running-part\").css(\"width\", \"0.500000%\")"
       ],
       "metadata": {},
       "output_type": "display_data"
      },
      {
       "javascript": [
        "$(\"#a6ca39a24-ff25-49ee-aebd-8a92e429f1d3 > .text > .main\").text(\"26/200 (13%) in 5.4 s, 0.20 s last iter; eta 36+-4 s\")"
       ],
       "metadata": {},
       "output_type": "display_data"
      },
      {
       "javascript": [
        "$(\"#a6ca39a24-ff25-49ee-aebd-8a92e429f1d3 > .text > .extra\").text(\"|||| Perplexity: 488.670496354; Topics_left: 150\")"
       ],
       "metadata": {},
       "output_type": "display_data"
      },
      {
       "javascript": [
        "$(\"#a6ca39a24-ff25-49ee-aebd-8a92e429f1d3 > .completed-part\").css(\"width\", \"13.500000%\")"
       ],
       "metadata": {},
       "output_type": "display_data"
      },
      {
       "javascript": [
        "$(\"#a6ca39a24-ff25-49ee-aebd-8a92e429f1d3 > .running-part\").css(\"width\", \"0.500000%\")"
       ],
       "metadata": {},
       "output_type": "display_data"
      },
      {
       "javascript": [
        "$(\"#a6ca39a24-ff25-49ee-aebd-8a92e429f1d3 > .text > .main\").text(\"27/200 (13%) in 5.6 s, 0.19 s last iter; eta 36+-4 s\")"
       ],
       "metadata": {},
       "output_type": "display_data"
      },
      {
       "javascript": [
        "$(\"#a6ca39a24-ff25-49ee-aebd-8a92e429f1d3 > .text > .extra\").text(\"|||| Perplexity: 486.043605962; Topics_left: 150\")"
       ],
       "metadata": {},
       "output_type": "display_data"
      },
      {
       "javascript": [
        "$(\"#a6ca39a24-ff25-49ee-aebd-8a92e429f1d3 > .completed-part\").css(\"width\", \"14.000000%\")"
       ],
       "metadata": {},
       "output_type": "display_data"
      },
      {
       "javascript": [
        "$(\"#a6ca39a24-ff25-49ee-aebd-8a92e429f1d3 > .running-part\").css(\"width\", \"0.500000%\")"
       ],
       "metadata": {},
       "output_type": "display_data"
      },
      {
       "javascript": [
        "$(\"#a6ca39a24-ff25-49ee-aebd-8a92e429f1d3 > .text > .main\").text(\"28/200 (14%) in 5.8 s, 0.21 s last iter; eta 36+-4 s\")"
       ],
       "metadata": {},
       "output_type": "display_data"
      },
      {
       "javascript": [
        "$(\"#a6ca39a24-ff25-49ee-aebd-8a92e429f1d3 > .text > .extra\").text(\"|||| Perplexity: 483.629329556; Topics_left: 150\")"
       ],
       "metadata": {},
       "output_type": "display_data"
      },
      {
       "javascript": [
        "$(\"#a6ca39a24-ff25-49ee-aebd-8a92e429f1d3 > .completed-part\").css(\"width\", \"14.500000%\")"
       ],
       "metadata": {},
       "output_type": "display_data"
      },
      {
       "javascript": [
        "$(\"#a6ca39a24-ff25-49ee-aebd-8a92e429f1d3 > .running-part\").css(\"width\", \"0.500000%\")"
       ],
       "metadata": {},
       "output_type": "display_data"
      },
      {
       "javascript": [
        "$(\"#a6ca39a24-ff25-49ee-aebd-8a92e429f1d3 > .text > .main\").text(\"29/200 (14%) in 6.0 s, 0.20 s last iter; eta 35+-4 s\")"
       ],
       "metadata": {},
       "output_type": "display_data"
      },
      {
       "javascript": [
        "$(\"#a6ca39a24-ff25-49ee-aebd-8a92e429f1d3 > .text > .extra\").text(\"|||| Perplexity: 481.549045147; Topics_left: 150\")"
       ],
       "metadata": {},
       "output_type": "display_data"
      },
      {
       "javascript": [
        "$(\"#a6ca39a24-ff25-49ee-aebd-8a92e429f1d3 > .completed-part\").css(\"width\", \"15.000000%\")"
       ],
       "metadata": {},
       "output_type": "display_data"
      },
      {
       "javascript": [
        "$(\"#a6ca39a24-ff25-49ee-aebd-8a92e429f1d3 > .running-part\").css(\"width\", \"0.500000%\")"
       ],
       "metadata": {},
       "output_type": "display_data"
      },
      {
       "javascript": [
        "$(\"#a6ca39a24-ff25-49ee-aebd-8a92e429f1d3 > .text > .main\").text(\"30/200 (15%) in 6.2 s, 0.20 s last iter; eta 35+-4 s\")"
       ],
       "metadata": {},
       "output_type": "display_data"
      },
      {
       "javascript": [
        "$(\"#a6ca39a24-ff25-49ee-aebd-8a92e429f1d3 > .text > .extra\").text(\"|||| Perplexity: 479.638929582; Topics_left: 150\")"
       ],
       "metadata": {},
       "output_type": "display_data"
      },
      {
       "javascript": [
        "$(\"#a6ca39a24-ff25-49ee-aebd-8a92e429f1d3 > .completed-part\").css(\"width\", \"15.500000%\")"
       ],
       "metadata": {},
       "output_type": "display_data"
      },
      {
       "javascript": [
        "$(\"#a6ca39a24-ff25-49ee-aebd-8a92e429f1d3 > .running-part\").css(\"width\", \"0.500000%\")"
       ],
       "metadata": {},
       "output_type": "display_data"
      },
      {
       "javascript": [
        "$(\"#a6ca39a24-ff25-49ee-aebd-8a92e429f1d3 > .text > .main\").text(\"31/200 (15%) in 6.4 s, 0.21 s last iter; eta 35+-4 s\")"
       ],
       "metadata": {},
       "output_type": "display_data"
      },
      {
       "javascript": [
        "$(\"#a6ca39a24-ff25-49ee-aebd-8a92e429f1d3 > .text > .extra\").text(\"|||| Perplexity: 477.955452085; Topics_left: 150\")"
       ],
       "metadata": {},
       "output_type": "display_data"
      },
      {
       "javascript": [
        "$(\"#a6ca39a24-ff25-49ee-aebd-8a92e429f1d3 > .completed-part\").css(\"width\", \"16.000000%\")"
       ],
       "metadata": {},
       "output_type": "display_data"
      },
      {
       "javascript": [
        "$(\"#a6ca39a24-ff25-49ee-aebd-8a92e429f1d3 > .running-part\").css(\"width\", \"0.500000%\")"
       ],
       "metadata": {},
       "output_type": "display_data"
      },
      {
       "javascript": [
        "$(\"#a6ca39a24-ff25-49ee-aebd-8a92e429f1d3 > .text > .main\").text(\"32/200 (16%) in 6.6 s, 0.20 s last iter; eta 35+-4 s\")"
       ],
       "metadata": {},
       "output_type": "display_data"
      },
      {
       "javascript": [
        "$(\"#a6ca39a24-ff25-49ee-aebd-8a92e429f1d3 > .text > .extra\").text(\"|||| Perplexity: 476.420158126; Topics_left: 150\")"
       ],
       "metadata": {},
       "output_type": "display_data"
      },
      {
       "javascript": [
        "$(\"#a6ca39a24-ff25-49ee-aebd-8a92e429f1d3 > .completed-part\").css(\"width\", \"16.500000%\")"
       ],
       "metadata": {},
       "output_type": "display_data"
      },
      {
       "javascript": [
        "$(\"#a6ca39a24-ff25-49ee-aebd-8a92e429f1d3 > .running-part\").css(\"width\", \"0.500000%\")"
       ],
       "metadata": {},
       "output_type": "display_data"
      },
      {
       "javascript": [
        "$(\"#a6ca39a24-ff25-49ee-aebd-8a92e429f1d3 > .text > .main\").text(\"33/200 (16%) in 6.8 s, 0.19 s last iter; eta 34+-4 s\")"
       ],
       "metadata": {},
       "output_type": "display_data"
      },
      {
       "javascript": [
        "$(\"#a6ca39a24-ff25-49ee-aebd-8a92e429f1d3 > .text > .extra\").text(\"|||| Perplexity: 475.006249965; Topics_left: 150\")"
       ],
       "metadata": {},
       "output_type": "display_data"
      },
      {
       "javascript": [
        "$(\"#a6ca39a24-ff25-49ee-aebd-8a92e429f1d3 > .completed-part\").css(\"width\", \"17.000000%\")"
       ],
       "metadata": {},
       "output_type": "display_data"
      },
      {
       "javascript": [
        "$(\"#a6ca39a24-ff25-49ee-aebd-8a92e429f1d3 > .running-part\").css(\"width\", \"0.500000%\")"
       ],
       "metadata": {},
       "output_type": "display_data"
      },
      {
       "javascript": [
        "$(\"#a6ca39a24-ff25-49ee-aebd-8a92e429f1d3 > .text > .main\").text(\"34/200 (17%) in 7.0 s, 0.22 s last iter; eta 34+-4 s\")"
       ],
       "metadata": {},
       "output_type": "display_data"
      },
      {
       "javascript": [
        "$(\"#a6ca39a24-ff25-49ee-aebd-8a92e429f1d3 > .text > .extra\").text(\"|||| Perplexity: 473.66068943; Topics_left: 150\")"
       ],
       "metadata": {},
       "output_type": "display_data"
      },
      {
       "javascript": [
        "$(\"#a6ca39a24-ff25-49ee-aebd-8a92e429f1d3 > .completed-part\").css(\"width\", \"17.500000%\")"
       ],
       "metadata": {},
       "output_type": "display_data"
      },
      {
       "javascript": [
        "$(\"#a6ca39a24-ff25-49ee-aebd-8a92e429f1d3 > .running-part\").css(\"width\", \"0.500000%\")"
       ],
       "metadata": {},
       "output_type": "display_data"
      },
      {
       "javascript": [
        "$(\"#a6ca39a24-ff25-49ee-aebd-8a92e429f1d3 > .text > .main\").text(\"35/200 (17%) in 7.2 s, 0.20 s last iter; eta 34+-4 s\")"
       ],
       "metadata": {},
       "output_type": "display_data"
      },
      {
       "javascript": [
        "$(\"#a6ca39a24-ff25-49ee-aebd-8a92e429f1d3 > .text > .extra\").text(\"|||| Perplexity: 472.507619667; Topics_left: 150\")"
       ],
       "metadata": {},
       "output_type": "display_data"
      },
      {
       "javascript": [
        "$(\"#a6ca39a24-ff25-49ee-aebd-8a92e429f1d3 > .completed-part\").css(\"width\", \"18.000000%\")"
       ],
       "metadata": {},
       "output_type": "display_data"
      },
      {
       "javascript": [
        "$(\"#a6ca39a24-ff25-49ee-aebd-8a92e429f1d3 > .running-part\").css(\"width\", \"0.500000%\")"
       ],
       "metadata": {},
       "output_type": "display_data"
      },
      {
       "javascript": [
        "$(\"#a6ca39a24-ff25-49ee-aebd-8a92e429f1d3 > .text > .main\").text(\"36/200 (18%) in 7.4 s, 0.20 s last iter; eta 34+-4 s\")"
       ],
       "metadata": {},
       "output_type": "display_data"
      },
      {
       "javascript": [
        "$(\"#a6ca39a24-ff25-49ee-aebd-8a92e429f1d3 > .text > .extra\").text(\"|||| Perplexity: 471.391735613; Topics_left: 150\")"
       ],
       "metadata": {},
       "output_type": "display_data"
      },
      {
       "javascript": [
        "$(\"#a6ca39a24-ff25-49ee-aebd-8a92e429f1d3 > .completed-part\").css(\"width\", \"18.500000%\")"
       ],
       "metadata": {},
       "output_type": "display_data"
      },
      {
       "javascript": [
        "$(\"#a6ca39a24-ff25-49ee-aebd-8a92e429f1d3 > .running-part\").css(\"width\", \"0.500000%\")"
       ],
       "metadata": {},
       "output_type": "display_data"
      },
      {
       "javascript": [
        "$(\"#a6ca39a24-ff25-49ee-aebd-8a92e429f1d3 > .text > .main\").text(\"37/200 (18%) in 7.6 s, 0.21 s last iter; eta 34+-4 s\")"
       ],
       "metadata": {},
       "output_type": "display_data"
      },
      {
       "javascript": [
        "$(\"#a6ca39a24-ff25-49ee-aebd-8a92e429f1d3 > .text > .extra\").text(\"|||| Perplexity: 470.311153477; Topics_left: 150\")"
       ],
       "metadata": {},
       "output_type": "display_data"
      },
      {
       "javascript": [
        "$(\"#a6ca39a24-ff25-49ee-aebd-8a92e429f1d3 > .completed-part\").css(\"width\", \"19.000000%\")"
       ],
       "metadata": {},
       "output_type": "display_data"
      },
      {
       "javascript": [
        "$(\"#a6ca39a24-ff25-49ee-aebd-8a92e429f1d3 > .running-part\").css(\"width\", \"0.500000%\")"
       ],
       "metadata": {},
       "output_type": "display_data"
      },
      {
       "javascript": [
        "$(\"#a6ca39a24-ff25-49ee-aebd-8a92e429f1d3 > .text > .main\").text(\"38/200 (19%) in 7.8 s, 0.20 s last iter; eta 33+-3 s\")"
       ],
       "metadata": {},
       "output_type": "display_data"
      },
      {
       "javascript": [
        "$(\"#a6ca39a24-ff25-49ee-aebd-8a92e429f1d3 > .text > .extra\").text(\"|||| Perplexity: 469.314537637; Topics_left: 150\")"
       ],
       "metadata": {},
       "output_type": "display_data"
      },
      {
       "javascript": [
        "$(\"#a6ca39a24-ff25-49ee-aebd-8a92e429f1d3 > .completed-part\").css(\"width\", \"19.500000%\")"
       ],
       "metadata": {},
       "output_type": "display_data"
      },
      {
       "javascript": [
        "$(\"#a6ca39a24-ff25-49ee-aebd-8a92e429f1d3 > .running-part\").css(\"width\", \"0.500000%\")"
       ],
       "metadata": {},
       "output_type": "display_data"
      },
      {
       "javascript": [
        "$(\"#a6ca39a24-ff25-49ee-aebd-8a92e429f1d3 > .text > .main\").text(\"39/200 (19%) in 8.0 s, 0.20 s last iter; eta 33+-3 s\")"
       ],
       "metadata": {},
       "output_type": "display_data"
      },
      {
       "javascript": [
        "$(\"#a6ca39a24-ff25-49ee-aebd-8a92e429f1d3 > .text > .extra\").text(\"|||| Perplexity: 468.391278604; Topics_left: 150\")"
       ],
       "metadata": {},
       "output_type": "display_data"
      },
      {
       "javascript": [
        "$(\"#a6ca39a24-ff25-49ee-aebd-8a92e429f1d3 > .completed-part\").css(\"width\", \"20.000000%\")"
       ],
       "metadata": {},
       "output_type": "display_data"
      },
      {
       "javascript": [
        "$(\"#a6ca39a24-ff25-49ee-aebd-8a92e429f1d3 > .running-part\").css(\"width\", \"0.500000%\")"
       ],
       "metadata": {},
       "output_type": "display_data"
      },
      {
       "javascript": [
        "$(\"#a6ca39a24-ff25-49ee-aebd-8a92e429f1d3 > .text > .main\").text(\"40/200 (20%) in 8.2 s, 0.22 s last iter; eta 33+-3 s\")"
       ],
       "metadata": {},
       "output_type": "display_data"
      },
      {
       "javascript": [
        "$(\"#a6ca39a24-ff25-49ee-aebd-8a92e429f1d3 > .text > .extra\").text(\"|||| Perplexity: 467.479901784; Topics_left: 150\")"
       ],
       "metadata": {},
       "output_type": "display_data"
      },
      {
       "javascript": [
        "$(\"#a6ca39a24-ff25-49ee-aebd-8a92e429f1d3 > .completed-part\").css(\"width\", \"20.500000%\")"
       ],
       "metadata": {},
       "output_type": "display_data"
      },
      {
       "javascript": [
        "$(\"#a6ca39a24-ff25-49ee-aebd-8a92e429f1d3 > .running-part\").css(\"width\", \"0.500000%\")"
       ],
       "metadata": {},
       "output_type": "display_data"
      },
      {
       "javascript": [
        "$(\"#a6ca39a24-ff25-49ee-aebd-8a92e429f1d3 > .text > .main\").text(\"41/200 (20%) in 8.4 s, 0.20 s last iter; eta 33+-3 s\")"
       ],
       "metadata": {},
       "output_type": "display_data"
      },
      {
       "javascript": [
        "$(\"#a6ca39a24-ff25-49ee-aebd-8a92e429f1d3 > .text > .extra\").text(\"|||| Perplexity: 466.662345847; Topics_left: 150\")"
       ],
       "metadata": {},
       "output_type": "display_data"
      },
      {
       "javascript": [
        "$(\"#a6ca39a24-ff25-49ee-aebd-8a92e429f1d3 > .completed-part\").css(\"width\", \"21.000000%\")"
       ],
       "metadata": {},
       "output_type": "display_data"
      },
      {
       "javascript": [
        "$(\"#a6ca39a24-ff25-49ee-aebd-8a92e429f1d3 > .running-part\").css(\"width\", \"0.500000%\")"
       ],
       "metadata": {},
       "output_type": "display_data"
      },
      {
       "javascript": [
        "$(\"#a6ca39a24-ff25-49ee-aebd-8a92e429f1d3 > .text > .main\").text(\"42/200 (21%) in 8.6 s, 0.20 s last iter; eta 32+-3 s\")"
       ],
       "metadata": {},
       "output_type": "display_data"
      },
      {
       "javascript": [
        "$(\"#a6ca39a24-ff25-49ee-aebd-8a92e429f1d3 > .text > .extra\").text(\"|||| Perplexity: 465.904790678; Topics_left: 150\")"
       ],
       "metadata": {},
       "output_type": "display_data"
      },
      {
       "javascript": [
        "$(\"#a6ca39a24-ff25-49ee-aebd-8a92e429f1d3 > .completed-part\").css(\"width\", \"21.500000%\")"
       ],
       "metadata": {},
       "output_type": "display_data"
      },
      {
       "javascript": [
        "$(\"#a6ca39a24-ff25-49ee-aebd-8a92e429f1d3 > .running-part\").css(\"width\", \"0.500000%\")"
       ],
       "metadata": {},
       "output_type": "display_data"
      },
      {
       "javascript": [
        "$(\"#a6ca39a24-ff25-49ee-aebd-8a92e429f1d3 > .text > .main\").text(\"43/200 (21%) in 8.8 s, 0.21 s last iter; eta 32+-3 s\")"
       ],
       "metadata": {},
       "output_type": "display_data"
      },
      {
       "javascript": [
        "$(\"#a6ca39a24-ff25-49ee-aebd-8a92e429f1d3 > .text > .extra\").text(\"|||| Perplexity: 465.188530363; Topics_left: 150\")"
       ],
       "metadata": {},
       "output_type": "display_data"
      },
      {
       "javascript": [
        "$(\"#a6ca39a24-ff25-49ee-aebd-8a92e429f1d3 > .completed-part\").css(\"width\", \"22.000000%\")"
       ],
       "metadata": {},
       "output_type": "display_data"
      },
      {
       "javascript": [
        "$(\"#a6ca39a24-ff25-49ee-aebd-8a92e429f1d3 > .running-part\").css(\"width\", \"0.500000%\")"
       ],
       "metadata": {},
       "output_type": "display_data"
      },
      {
       "javascript": [
        "$(\"#a6ca39a24-ff25-49ee-aebd-8a92e429f1d3 > .text > .main\").text(\"44/200 (22%) in 9.0 s, 0.20 s last iter; eta 32+-3 s\")"
       ],
       "metadata": {},
       "output_type": "display_data"
      },
      {
       "javascript": [
        "$(\"#a6ca39a24-ff25-49ee-aebd-8a92e429f1d3 > .text > .extra\").text(\"|||| Perplexity: 464.566941185; Topics_left: 150\")"
       ],
       "metadata": {},
       "output_type": "display_data"
      },
      {
       "javascript": [
        "$(\"#a6ca39a24-ff25-49ee-aebd-8a92e429f1d3 > .completed-part\").css(\"width\", \"22.500000%\")"
       ],
       "metadata": {},
       "output_type": "display_data"
      },
      {
       "javascript": [
        "$(\"#a6ca39a24-ff25-49ee-aebd-8a92e429f1d3 > .running-part\").css(\"width\", \"0.500000%\")"
       ],
       "metadata": {},
       "output_type": "display_data"
      },
      {
       "javascript": [
        "$(\"#a6ca39a24-ff25-49ee-aebd-8a92e429f1d3 > .text > .main\").text(\"45/200 (22%) in 9.2 s, 0.20 s last iter; eta 32+-3 s\")"
       ],
       "metadata": {},
       "output_type": "display_data"
      },
      {
       "javascript": [
        "$(\"#a6ca39a24-ff25-49ee-aebd-8a92e429f1d3 > .text > .extra\").text(\"|||| Perplexity: 463.963907024; Topics_left: 150\")"
       ],
       "metadata": {},
       "output_type": "display_data"
      },
      {
       "javascript": [
        "$(\"#a6ca39a24-ff25-49ee-aebd-8a92e429f1d3 > .completed-part\").css(\"width\", \"23.000000%\")"
       ],
       "metadata": {},
       "output_type": "display_data"
      },
      {
       "javascript": [
        "$(\"#a6ca39a24-ff25-49ee-aebd-8a92e429f1d3 > .running-part\").css(\"width\", \"0.500000%\")"
       ],
       "metadata": {},
       "output_type": "display_data"
      },
      {
       "javascript": [
        "$(\"#a6ca39a24-ff25-49ee-aebd-8a92e429f1d3 > .text > .main\").text(\"46/200 (23%) in 9.4 s, 0.21 s last iter; eta 32+-3 s\")"
       ],
       "metadata": {},
       "output_type": "display_data"
      },
      {
       "javascript": [
        "$(\"#a6ca39a24-ff25-49ee-aebd-8a92e429f1d3 > .text > .extra\").text(\"|||| Perplexity: 463.358115294; Topics_left: 150\")"
       ],
       "metadata": {},
       "output_type": "display_data"
      },
      {
       "javascript": [
        "$(\"#a6ca39a24-ff25-49ee-aebd-8a92e429f1d3 > .completed-part\").css(\"width\", \"23.500000%\")"
       ],
       "metadata": {},
       "output_type": "display_data"
      },
      {
       "javascript": [
        "$(\"#a6ca39a24-ff25-49ee-aebd-8a92e429f1d3 > .running-part\").css(\"width\", \"0.500000%\")"
       ],
       "metadata": {},
       "output_type": "display_data"
      },
      {
       "javascript": [
        "$(\"#a6ca39a24-ff25-49ee-aebd-8a92e429f1d3 > .text > .main\").text(\"47/200 (23%) in 9.6 s, 0.20 s last iter; eta 31+-3 s\")"
       ],
       "metadata": {},
       "output_type": "display_data"
      },
      {
       "javascript": [
        "$(\"#a6ca39a24-ff25-49ee-aebd-8a92e429f1d3 > .text > .extra\").text(\"|||| Perplexity: 462.818368973; Topics_left: 150\")"
       ],
       "metadata": {},
       "output_type": "display_data"
      },
      {
       "javascript": [
        "$(\"#a6ca39a24-ff25-49ee-aebd-8a92e429f1d3 > .completed-part\").css(\"width\", \"24.000000%\")"
       ],
       "metadata": {},
       "output_type": "display_data"
      },
      {
       "javascript": [
        "$(\"#a6ca39a24-ff25-49ee-aebd-8a92e429f1d3 > .running-part\").css(\"width\", \"0.500000%\")"
       ],
       "metadata": {},
       "output_type": "display_data"
      },
      {
       "javascript": [
        "$(\"#a6ca39a24-ff25-49ee-aebd-8a92e429f1d3 > .text > .main\").text(\"48/200 (24%) in 9.8 s, 0.20 s last iter; eta 31+-3 s\")"
       ],
       "metadata": {},
       "output_type": "display_data"
      },
      {
       "javascript": [
        "$(\"#a6ca39a24-ff25-49ee-aebd-8a92e429f1d3 > .text > .extra\").text(\"|||| Perplexity: 462.299802149; Topics_left: 150\")"
       ],
       "metadata": {},
       "output_type": "display_data"
      },
      {
       "javascript": [
        "$(\"#a6ca39a24-ff25-49ee-aebd-8a92e429f1d3 > .completed-part\").css(\"width\", \"24.500000%\")"
       ],
       "metadata": {},
       "output_type": "display_data"
      },
      {
       "javascript": [
        "$(\"#a6ca39a24-ff25-49ee-aebd-8a92e429f1d3 > .running-part\").css(\"width\", \"0.500000%\")"
       ],
       "metadata": {},
       "output_type": "display_data"
      },
      {
       "javascript": [
        "$(\"#a6ca39a24-ff25-49ee-aebd-8a92e429f1d3 > .text > .main\").text(\"49/200 (24%) in 10.1 s, 0.21 s last iter; eta 31+-3 s\")"
       ],
       "metadata": {},
       "output_type": "display_data"
      },
      {
       "javascript": [
        "$(\"#a6ca39a24-ff25-49ee-aebd-8a92e429f1d3 > .text > .extra\").text(\"|||| Perplexity: 461.806835774; Topics_left: 150\")"
       ],
       "metadata": {},
       "output_type": "display_data"
      },
      {
       "javascript": [
        "$(\"#a6ca39a24-ff25-49ee-aebd-8a92e429f1d3 > .completed-part\").css(\"width\", \"25.000000%\")"
       ],
       "metadata": {},
       "output_type": "display_data"
      },
      {
       "javascript": [
        "$(\"#a6ca39a24-ff25-49ee-aebd-8a92e429f1d3 > .running-part\").css(\"width\", \"0.500000%\")"
       ],
       "metadata": {},
       "output_type": "display_data"
      },
      {
       "javascript": [
        "$(\"#a6ca39a24-ff25-49ee-aebd-8a92e429f1d3 > .text > .main\").text(\"50/200 (25%) in 10.2 s, 0.20 s last iter; eta 31+-3 s\")"
       ],
       "metadata": {},
       "output_type": "display_data"
      },
      {
       "javascript": [
        "$(\"#a6ca39a24-ff25-49ee-aebd-8a92e429f1d3 > .text > .extra\").text(\"|||| Perplexity: 461.333941614; Topics_left: 150\")"
       ],
       "metadata": {},
       "output_type": "display_data"
      },
      {
       "javascript": [
        "$(\"#a6ca39a24-ff25-49ee-aebd-8a92e429f1d3 > .completed-part\").css(\"width\", \"25.500000%\")"
       ],
       "metadata": {},
       "output_type": "display_data"
      },
      {
       "javascript": [
        "$(\"#a6ca39a24-ff25-49ee-aebd-8a92e429f1d3 > .running-part\").css(\"width\", \"0.500000%\")"
       ],
       "metadata": {},
       "output_type": "display_data"
      },
      {
       "javascript": [
        "$(\"#a6ca39a24-ff25-49ee-aebd-8a92e429f1d3 > .text > .main\").text(\"51/200 (25%) in 10.4 s, 0.19 s last iter; eta 31+-3 s\")"
       ],
       "metadata": {},
       "output_type": "display_data"
      },
      {
       "javascript": [
        "$(\"#a6ca39a24-ff25-49ee-aebd-8a92e429f1d3 > .text > .extra\").text(\"|||| Perplexity: 460.86889438; Topics_left: 150\")"
       ],
       "metadata": {},
       "output_type": "display_data"
      },
      {
       "javascript": [
        "$(\"#a6ca39a24-ff25-49ee-aebd-8a92e429f1d3 > .completed-part\").css(\"width\", \"26.000000%\")"
       ],
       "metadata": {},
       "output_type": "display_data"
      },
      {
       "javascript": [
        "$(\"#a6ca39a24-ff25-49ee-aebd-8a92e429f1d3 > .running-part\").css(\"width\", \"0.500000%\")"
       ],
       "metadata": {},
       "output_type": "display_data"
      },
      {
       "javascript": [
        "$(\"#a6ca39a24-ff25-49ee-aebd-8a92e429f1d3 > .text > .main\").text(\"52/200 (26%) in 10.7 s, 0.21 s last iter; eta 30+-3 s\")"
       ],
       "metadata": {},
       "output_type": "display_data"
      },
      {
       "javascript": [
        "$(\"#a6ca39a24-ff25-49ee-aebd-8a92e429f1d3 > .text > .extra\").text(\"|||| Perplexity: 460.434057951; Topics_left: 150\")"
       ],
       "metadata": {},
       "output_type": "display_data"
      },
      {
       "javascript": [
        "$(\"#a6ca39a24-ff25-49ee-aebd-8a92e429f1d3 > .completed-part\").css(\"width\", \"26.500000%\")"
       ],
       "metadata": {},
       "output_type": "display_data"
      },
      {
       "javascript": [
        "$(\"#a6ca39a24-ff25-49ee-aebd-8a92e429f1d3 > .running-part\").css(\"width\", \"0.500000%\")"
       ],
       "metadata": {},
       "output_type": "display_data"
      },
      {
       "javascript": [
        "$(\"#a6ca39a24-ff25-49ee-aebd-8a92e429f1d3 > .text > .main\").text(\"53/200 (26%) in 10.8 s, 0.20 s last iter; eta 30+-3 s\")"
       ],
       "metadata": {},
       "output_type": "display_data"
      },
      {
       "javascript": [
        "$(\"#a6ca39a24-ff25-49ee-aebd-8a92e429f1d3 > .text > .extra\").text(\"|||| Perplexity: 460.042768371; Topics_left: 150\")"
       ],
       "metadata": {},
       "output_type": "display_data"
      },
      {
       "javascript": [
        "$(\"#a6ca39a24-ff25-49ee-aebd-8a92e429f1d3 > .completed-part\").css(\"width\", \"27.000000%\")"
       ],
       "metadata": {},
       "output_type": "display_data"
      },
      {
       "javascript": [
        "$(\"#a6ca39a24-ff25-49ee-aebd-8a92e429f1d3 > .running-part\").css(\"width\", \"0.500000%\")"
       ],
       "metadata": {},
       "output_type": "display_data"
      },
      {
       "javascript": [
        "$(\"#a6ca39a24-ff25-49ee-aebd-8a92e429f1d3 > .text > .main\").text(\"54/200 (27%) in 11.0 s, 0.20 s last iter; eta 30+-3 s\")"
       ],
       "metadata": {},
       "output_type": "display_data"
      },
      {
       "javascript": [
        "$(\"#a6ca39a24-ff25-49ee-aebd-8a92e429f1d3 > .text > .extra\").text(\"|||| Perplexity: 459.674799592; Topics_left: 150\")"
       ],
       "metadata": {},
       "output_type": "display_data"
      },
      {
       "javascript": [
        "$(\"#a6ca39a24-ff25-49ee-aebd-8a92e429f1d3 > .completed-part\").css(\"width\", \"27.500000%\")"
       ],
       "metadata": {},
       "output_type": "display_data"
      },
      {
       "javascript": [
        "$(\"#a6ca39a24-ff25-49ee-aebd-8a92e429f1d3 > .running-part\").css(\"width\", \"0.500000%\")"
       ],
       "metadata": {},
       "output_type": "display_data"
      },
      {
       "javascript": [
        "$(\"#a6ca39a24-ff25-49ee-aebd-8a92e429f1d3 > .text > .main\").text(\"55/200 (27%) in 11.3 s, 0.21 s last iter; eta 30+-3 s\")"
       ],
       "metadata": {},
       "output_type": "display_data"
      },
      {
       "javascript": [
        "$(\"#a6ca39a24-ff25-49ee-aebd-8a92e429f1d3 > .text > .extra\").text(\"|||| Perplexity: 459.330096172; Topics_left: 150\")"
       ],
       "metadata": {},
       "output_type": "display_data"
      },
      {
       "javascript": [
        "$(\"#a6ca39a24-ff25-49ee-aebd-8a92e429f1d3 > .completed-part\").css(\"width\", \"28.000000%\")"
       ],
       "metadata": {},
       "output_type": "display_data"
      },
      {
       "javascript": [
        "$(\"#a6ca39a24-ff25-49ee-aebd-8a92e429f1d3 > .running-part\").css(\"width\", \"0.500000%\")"
       ],
       "metadata": {},
       "output_type": "display_data"
      },
      {
       "javascript": [
        "$(\"#a6ca39a24-ff25-49ee-aebd-8a92e429f1d3 > .text > .main\").text(\"56/200 (28%) in 11.5 s, 0.20 s last iter; eta 29+-3 s\")"
       ],
       "metadata": {},
       "output_type": "display_data"
      },
      {
       "javascript": [
        "$(\"#a6ca39a24-ff25-49ee-aebd-8a92e429f1d3 > .text > .extra\").text(\"|||| Perplexity: 458.972580179; Topics_left: 150\")"
       ],
       "metadata": {},
       "output_type": "display_data"
      },
      {
       "javascript": [
        "$(\"#a6ca39a24-ff25-49ee-aebd-8a92e429f1d3 > .completed-part\").css(\"width\", \"28.500000%\")"
       ],
       "metadata": {},
       "output_type": "display_data"
      },
      {
       "javascript": [
        "$(\"#a6ca39a24-ff25-49ee-aebd-8a92e429f1d3 > .running-part\").css(\"width\", \"0.500000%\")"
       ],
       "metadata": {},
       "output_type": "display_data"
      },
      {
       "javascript": [
        "$(\"#a6ca39a24-ff25-49ee-aebd-8a92e429f1d3 > .text > .main\").text(\"57/200 (28%) in 11.6 s, 0.19 s last iter; eta 29+-3 s\")"
       ],
       "metadata": {},
       "output_type": "display_data"
      },
      {
       "javascript": [
        "$(\"#a6ca39a24-ff25-49ee-aebd-8a92e429f1d3 > .text > .extra\").text(\"|||| Perplexity: 458.649110388; Topics_left: 150\")"
       ],
       "metadata": {},
       "output_type": "display_data"
      },
      {
       "javascript": [
        "$(\"#a6ca39a24-ff25-49ee-aebd-8a92e429f1d3 > .completed-part\").css(\"width\", \"29.000000%\")"
       ],
       "metadata": {},
       "output_type": "display_data"
      },
      {
       "javascript": [
        "$(\"#a6ca39a24-ff25-49ee-aebd-8a92e429f1d3 > .running-part\").css(\"width\", \"0.500000%\")"
       ],
       "metadata": {},
       "output_type": "display_data"
      },
      {
       "javascript": [
        "$(\"#a6ca39a24-ff25-49ee-aebd-8a92e429f1d3 > .text > .main\").text(\"58/200 (28%) in 11.9 s, 0.22 s last iter; eta 29+-3 s\")"
       ],
       "metadata": {},
       "output_type": "display_data"
      },
      {
       "javascript": [
        "$(\"#a6ca39a24-ff25-49ee-aebd-8a92e429f1d3 > .text > .extra\").text(\"|||| Perplexity: 458.324276809; Topics_left: 150\")"
       ],
       "metadata": {},
       "output_type": "display_data"
      },
      {
       "javascript": [
        "$(\"#a6ca39a24-ff25-49ee-aebd-8a92e429f1d3 > .completed-part\").css(\"width\", \"29.500000%\")"
       ],
       "metadata": {},
       "output_type": "display_data"
      },
      {
       "javascript": [
        "$(\"#a6ca39a24-ff25-49ee-aebd-8a92e429f1d3 > .running-part\").css(\"width\", \"0.500000%\")"
       ],
       "metadata": {},
       "output_type": "display_data"
      },
      {
       "javascript": [
        "$(\"#a6ca39a24-ff25-49ee-aebd-8a92e429f1d3 > .text > .main\").text(\"59/200 (29%) in 12.1 s, 0.20 s last iter; eta 29+-3 s\")"
       ],
       "metadata": {},
       "output_type": "display_data"
      },
      {
       "javascript": [
        "$(\"#a6ca39a24-ff25-49ee-aebd-8a92e429f1d3 > .text > .extra\").text(\"|||| Perplexity: 458.044213098; Topics_left: 150\")"
       ],
       "metadata": {},
       "output_type": "display_data"
      },
      {
       "javascript": [
        "$(\"#a6ca39a24-ff25-49ee-aebd-8a92e429f1d3 > .completed-part\").css(\"width\", \"30.000000%\")"
       ],
       "metadata": {},
       "output_type": "display_data"
      },
      {
       "javascript": [
        "$(\"#a6ca39a24-ff25-49ee-aebd-8a92e429f1d3 > .running-part\").css(\"width\", \"0.500000%\")"
       ],
       "metadata": {},
       "output_type": "display_data"
      },
      {
       "javascript": [
        "$(\"#a6ca39a24-ff25-49ee-aebd-8a92e429f1d3 > .text > .main\").text(\"60/200 (30%) in 12.3 s, 0.20 s last iter; eta 29+-2 s\")"
       ],
       "metadata": {},
       "output_type": "display_data"
      },
      {
       "javascript": [
        "$(\"#a6ca39a24-ff25-49ee-aebd-8a92e429f1d3 > .text > .extra\").text(\"|||| Perplexity: 457.700096594; Topics_left: 150\")"
       ],
       "metadata": {},
       "output_type": "display_data"
      },
      {
       "javascript": [
        "$(\"#a6ca39a24-ff25-49ee-aebd-8a92e429f1d3 > .completed-part\").css(\"width\", \"30.500000%\")"
       ],
       "metadata": {},
       "output_type": "display_data"
      },
      {
       "javascript": [
        "$(\"#a6ca39a24-ff25-49ee-aebd-8a92e429f1d3 > .running-part\").css(\"width\", \"0.500000%\")"
       ],
       "metadata": {},
       "output_type": "display_data"
      },
      {
       "javascript": [
        "$(\"#a6ca39a24-ff25-49ee-aebd-8a92e429f1d3 > .text > .main\").text(\"61/200 (30%) in 12.5 s, 0.21 s last iter; eta 28+-2 s\")"
       ],
       "metadata": {},
       "output_type": "display_data"
      },
      {
       "javascript": [
        "$(\"#a6ca39a24-ff25-49ee-aebd-8a92e429f1d3 > .text > .extra\").text(\"|||| Perplexity: 457.394361696; Topics_left: 150\")"
       ],
       "metadata": {},
       "output_type": "display_data"
      },
      {
       "javascript": [
        "$(\"#a6ca39a24-ff25-49ee-aebd-8a92e429f1d3 > .completed-part\").css(\"width\", \"31.000000%\")"
       ],
       "metadata": {},
       "output_type": "display_data"
      },
      {
       "javascript": [
        "$(\"#a6ca39a24-ff25-49ee-aebd-8a92e429f1d3 > .running-part\").css(\"width\", \"0.500000%\")"
       ],
       "metadata": {},
       "output_type": "display_data"
      },
      {
       "javascript": [
        "$(\"#a6ca39a24-ff25-49ee-aebd-8a92e429f1d3 > .text > .main\").text(\"62/200 (31%) in 12.7 s, 0.19 s last iter; eta 28+-2 s\")"
       ],
       "metadata": {},
       "output_type": "display_data"
      },
      {
       "javascript": [
        "$(\"#a6ca39a24-ff25-49ee-aebd-8a92e429f1d3 > .text > .extra\").text(\"|||| Perplexity: 457.119311401; Topics_left: 150\")"
       ],
       "metadata": {},
       "output_type": "display_data"
      },
      {
       "javascript": [
        "$(\"#a6ca39a24-ff25-49ee-aebd-8a92e429f1d3 > .completed-part\").css(\"width\", \"31.500000%\")"
       ],
       "metadata": {},
       "output_type": "display_data"
      },
      {
       "javascript": [
        "$(\"#a6ca39a24-ff25-49ee-aebd-8a92e429f1d3 > .running-part\").css(\"width\", \"0.500000%\")"
       ],
       "metadata": {},
       "output_type": "display_data"
      },
      {
       "javascript": [
        "$(\"#a6ca39a24-ff25-49ee-aebd-8a92e429f1d3 > .text > .main\").text(\"63/200 (31%) in 12.9 s, 0.20 s last iter; eta 28+-2 s\")"
       ],
       "metadata": {},
       "output_type": "display_data"
      },
      {
       "javascript": [
        "$(\"#a6ca39a24-ff25-49ee-aebd-8a92e429f1d3 > .text > .extra\").text(\"|||| Perplexity: 456.887901906; Topics_left: 150\")"
       ],
       "metadata": {},
       "output_type": "display_data"
      },
      {
       "javascript": [
        "$(\"#a6ca39a24-ff25-49ee-aebd-8a92e429f1d3 > .completed-part\").css(\"width\", \"32.000000%\")"
       ],
       "metadata": {},
       "output_type": "display_data"
      },
      {
       "javascript": [
        "$(\"#a6ca39a24-ff25-49ee-aebd-8a92e429f1d3 > .running-part\").css(\"width\", \"0.500000%\")"
       ],
       "metadata": {},
       "output_type": "display_data"
      },
      {
       "javascript": [
        "$(\"#a6ca39a24-ff25-49ee-aebd-8a92e429f1d3 > .text > .main\").text(\"64/200 (32%) in 13.1 s, 0.21 s last iter; eta 28+-2 s\")"
       ],
       "metadata": {},
       "output_type": "display_data"
      },
      {
       "javascript": [
        "$(\"#a6ca39a24-ff25-49ee-aebd-8a92e429f1d3 > .text > .extra\").text(\"|||| Perplexity: 456.610936031; Topics_left: 150\")"
       ],
       "metadata": {},
       "output_type": "display_data"
      },
      {
       "javascript": [
        "$(\"#a6ca39a24-ff25-49ee-aebd-8a92e429f1d3 > .completed-part\").css(\"width\", \"32.500000%\")"
       ],
       "metadata": {},
       "output_type": "display_data"
      },
      {
       "javascript": [
        "$(\"#a6ca39a24-ff25-49ee-aebd-8a92e429f1d3 > .running-part\").css(\"width\", \"0.500000%\")"
       ],
       "metadata": {},
       "output_type": "display_data"
      },
      {
       "javascript": [
        "$(\"#a6ca39a24-ff25-49ee-aebd-8a92e429f1d3 > .text > .main\").text(\"65/200 (32%) in 13.3 s, 0.20 s last iter; eta 28+-2 s\")"
       ],
       "metadata": {},
       "output_type": "display_data"
      },
      {
       "javascript": [
        "$(\"#a6ca39a24-ff25-49ee-aebd-8a92e429f1d3 > .text > .extra\").text(\"|||| Perplexity: 456.384221926; Topics_left: 150\")"
       ],
       "metadata": {},
       "output_type": "display_data"
      },
      {
       "javascript": [
        "$(\"#a6ca39a24-ff25-49ee-aebd-8a92e429f1d3 > .completed-part\").css(\"width\", \"33.000000%\")"
       ],
       "metadata": {},
       "output_type": "display_data"
      },
      {
       "javascript": [
        "$(\"#a6ca39a24-ff25-49ee-aebd-8a92e429f1d3 > .running-part\").css(\"width\", \"0.500000%\")"
       ],
       "metadata": {},
       "output_type": "display_data"
      },
      {
       "javascript": [
        "$(\"#a6ca39a24-ff25-49ee-aebd-8a92e429f1d3 > .text > .main\").text(\"66/200 (33%) in 13.5 s, 0.19 s last iter; eta 27+-2 s\")"
       ],
       "metadata": {},
       "output_type": "display_data"
      },
      {
       "javascript": [
        "$(\"#a6ca39a24-ff25-49ee-aebd-8a92e429f1d3 > .text > .extra\").text(\"|||| Perplexity: 456.214656331; Topics_left: 150\")"
       ],
       "metadata": {},
       "output_type": "display_data"
      },
      {
       "javascript": [
        "$(\"#a6ca39a24-ff25-49ee-aebd-8a92e429f1d3 > .completed-part\").css(\"width\", \"33.500000%\")"
       ],
       "metadata": {},
       "output_type": "display_data"
      },
      {
       "javascript": [
        "$(\"#a6ca39a24-ff25-49ee-aebd-8a92e429f1d3 > .running-part\").css(\"width\", \"0.500000%\")"
       ],
       "metadata": {},
       "output_type": "display_data"
      },
      {
       "javascript": [
        "$(\"#a6ca39a24-ff25-49ee-aebd-8a92e429f1d3 > .text > .main\").text(\"67/200 (33%) in 13.7 s, 0.21 s last iter; eta 27+-2 s\")"
       ],
       "metadata": {},
       "output_type": "display_data"
      },
      {
       "javascript": [
        "$(\"#a6ca39a24-ff25-49ee-aebd-8a92e429f1d3 > .text > .extra\").text(\"|||| Perplexity: 456.028998832; Topics_left: 150\")"
       ],
       "metadata": {},
       "output_type": "display_data"
      },
      {
       "javascript": [
        "$(\"#a6ca39a24-ff25-49ee-aebd-8a92e429f1d3 > .completed-part\").css(\"width\", \"34.000000%\")"
       ],
       "metadata": {},
       "output_type": "display_data"
      },
      {
       "javascript": [
        "$(\"#a6ca39a24-ff25-49ee-aebd-8a92e429f1d3 > .running-part\").css(\"width\", \"0.500000%\")"
       ],
       "metadata": {},
       "output_type": "display_data"
      },
      {
       "javascript": [
        "$(\"#a6ca39a24-ff25-49ee-aebd-8a92e429f1d3 > .text > .main\").text(\"68/200 (34%) in 13.9 s, 0.20 s last iter; eta 27+-2 s\")"
       ],
       "metadata": {},
       "output_type": "display_data"
      },
      {
       "javascript": [
        "$(\"#a6ca39a24-ff25-49ee-aebd-8a92e429f1d3 > .text > .extra\").text(\"|||| Perplexity: 455.829485456; Topics_left: 150\")"
       ],
       "metadata": {},
       "output_type": "display_data"
      },
      {
       "javascript": [
        "$(\"#a6ca39a24-ff25-49ee-aebd-8a92e429f1d3 > .completed-part\").css(\"width\", \"34.500000%\")"
       ],
       "metadata": {},
       "output_type": "display_data"
      },
      {
       "javascript": [
        "$(\"#a6ca39a24-ff25-49ee-aebd-8a92e429f1d3 > .running-part\").css(\"width\", \"0.500000%\")"
       ],
       "metadata": {},
       "output_type": "display_data"
      },
      {
       "javascript": [
        "$(\"#a6ca39a24-ff25-49ee-aebd-8a92e429f1d3 > .text > .main\").text(\"69/200 (34%) in 14.1 s, 0.20 s last iter; eta 27+-2 s\")"
       ],
       "metadata": {},
       "output_type": "display_data"
      },
      {
       "javascript": [
        "$(\"#a6ca39a24-ff25-49ee-aebd-8a92e429f1d3 > .text > .extra\").text(\"|||| Perplexity: 455.669621095; Topics_left: 150\")"
       ],
       "metadata": {},
       "output_type": "display_data"
      },
      {
       "javascript": [
        "$(\"#a6ca39a24-ff25-49ee-aebd-8a92e429f1d3 > .completed-part\").css(\"width\", \"35.000000%\")"
       ],
       "metadata": {},
       "output_type": "display_data"
      },
      {
       "javascript": [
        "$(\"#a6ca39a24-ff25-49ee-aebd-8a92e429f1d3 > .running-part\").css(\"width\", \"0.500000%\")"
       ],
       "metadata": {},
       "output_type": "display_data"
      },
      {
       "javascript": [
        "$(\"#a6ca39a24-ff25-49ee-aebd-8a92e429f1d3 > .text > .main\").text(\"70/200 (35%) in 14.3 s, 0.21 s last iter; eta 27+-2 s\")"
       ],
       "metadata": {},
       "output_type": "display_data"
      },
      {
       "javascript": [
        "$(\"#a6ca39a24-ff25-49ee-aebd-8a92e429f1d3 > .text > .extra\").text(\"|||| Perplexity: 455.526582128; Topics_left: 150\")"
       ],
       "metadata": {},
       "output_type": "display_data"
      },
      {
       "javascript": [
        "$(\"#a6ca39a24-ff25-49ee-aebd-8a92e429f1d3 > .completed-part\").css(\"width\", \"35.500000%\")"
       ],
       "metadata": {},
       "output_type": "display_data"
      },
      {
       "javascript": [
        "$(\"#a6ca39a24-ff25-49ee-aebd-8a92e429f1d3 > .running-part\").css(\"width\", \"0.500000%\")"
       ],
       "metadata": {},
       "output_type": "display_data"
      },
      {
       "javascript": [
        "$(\"#a6ca39a24-ff25-49ee-aebd-8a92e429f1d3 > .text > .main\").text(\"71/200 (35%) in 14.5 s, 0.19 s last iter; eta 26+-2 s\")"
       ],
       "metadata": {},
       "output_type": "display_data"
      },
      {
       "javascript": [
        "$(\"#a6ca39a24-ff25-49ee-aebd-8a92e429f1d3 > .text > .extra\").text(\"|||| Perplexity: 455.363028448; Topics_left: 150\")"
       ],
       "metadata": {},
       "output_type": "display_data"
      },
      {
       "javascript": [
        "$(\"#a6ca39a24-ff25-49ee-aebd-8a92e429f1d3 > .completed-part\").css(\"width\", \"36.000000%\")"
       ],
       "metadata": {},
       "output_type": "display_data"
      },
      {
       "javascript": [
        "$(\"#a6ca39a24-ff25-49ee-aebd-8a92e429f1d3 > .running-part\").css(\"width\", \"0.500000%\")"
       ],
       "metadata": {},
       "output_type": "display_data"
      },
      {
       "javascript": [
        "$(\"#a6ca39a24-ff25-49ee-aebd-8a92e429f1d3 > .text > .main\").text(\"72/200 (36%) in 14.7 s, 0.19 s last iter; eta 26+-2 s\")"
       ],
       "metadata": {},
       "output_type": "display_data"
      },
      {
       "javascript": [
        "$(\"#a6ca39a24-ff25-49ee-aebd-8a92e429f1d3 > .text > .extra\").text(\"|||| Perplexity: 455.210916151; Topics_left: 150\")"
       ],
       "metadata": {},
       "output_type": "display_data"
      },
      {
       "javascript": [
        "$(\"#a6ca39a24-ff25-49ee-aebd-8a92e429f1d3 > .completed-part\").css(\"width\", \"36.500000%\")"
       ],
       "metadata": {},
       "output_type": "display_data"
      },
      {
       "javascript": [
        "$(\"#a6ca39a24-ff25-49ee-aebd-8a92e429f1d3 > .running-part\").css(\"width\", \"0.500000%\")"
       ],
       "metadata": {},
       "output_type": "display_data"
      },
      {
       "javascript": [
        "$(\"#a6ca39a24-ff25-49ee-aebd-8a92e429f1d3 > .text > .main\").text(\"73/200 (36%) in 14.9 s, 0.21 s last iter; eta 26+-2 s\")"
       ],
       "metadata": {},
       "output_type": "display_data"
      },
      {
       "javascript": [
        "$(\"#a6ca39a24-ff25-49ee-aebd-8a92e429f1d3 > .text > .extra\").text(\"|||| Perplexity: 455.062647683; Topics_left: 150\")"
       ],
       "metadata": {},
       "output_type": "display_data"
      },
      {
       "javascript": [
        "$(\"#a6ca39a24-ff25-49ee-aebd-8a92e429f1d3 > .completed-part\").css(\"width\", \"37.000000%\")"
       ],
       "metadata": {},
       "output_type": "display_data"
      },
      {
       "javascript": [
        "$(\"#a6ca39a24-ff25-49ee-aebd-8a92e429f1d3 > .running-part\").css(\"width\", \"0.500000%\")"
       ],
       "metadata": {},
       "output_type": "display_data"
      },
      {
       "javascript": [
        "$(\"#a6ca39a24-ff25-49ee-aebd-8a92e429f1d3 > .text > .main\").text(\"74/200 (37%) in 15.1 s, 0.20 s last iter; eta 26+-2 s\")"
       ],
       "metadata": {},
       "output_type": "display_data"
      },
      {
       "javascript": [
        "$(\"#a6ca39a24-ff25-49ee-aebd-8a92e429f1d3 > .text > .extra\").text(\"|||| Perplexity: 454.881250501; Topics_left: 150\")"
       ],
       "metadata": {},
       "output_type": "display_data"
      },
      {
       "javascript": [
        "$(\"#a6ca39a24-ff25-49ee-aebd-8a92e429f1d3 > .completed-part\").css(\"width\", \"37.500000%\")"
       ],
       "metadata": {},
       "output_type": "display_data"
      },
      {
       "javascript": [
        "$(\"#a6ca39a24-ff25-49ee-aebd-8a92e429f1d3 > .running-part\").css(\"width\", \"0.500000%\")"
       ],
       "metadata": {},
       "output_type": "display_data"
      },
      {
       "javascript": [
        "$(\"#a6ca39a24-ff25-49ee-aebd-8a92e429f1d3 > .text > .main\").text(\"75/200 (37%) in 15.3 s, 0.20 s last iter; eta 25+-2 s\")"
       ],
       "metadata": {},
       "output_type": "display_data"
      },
      {
       "javascript": [
        "$(\"#a6ca39a24-ff25-49ee-aebd-8a92e429f1d3 > .text > .extra\").text(\"|||| Perplexity: 454.726772311; Topics_left: 150\")"
       ],
       "metadata": {},
       "output_type": "display_data"
      },
      {
       "javascript": [
        "$(\"#a6ca39a24-ff25-49ee-aebd-8a92e429f1d3 > .completed-part\").css(\"width\", \"38.000000%\")"
       ],
       "metadata": {},
       "output_type": "display_data"
      },
      {
       "javascript": [
        "$(\"#a6ca39a24-ff25-49ee-aebd-8a92e429f1d3 > .running-part\").css(\"width\", \"0.500000%\")"
       ],
       "metadata": {},
       "output_type": "display_data"
      },
      {
       "javascript": [
        "$(\"#a6ca39a24-ff25-49ee-aebd-8a92e429f1d3 > .text > .main\").text(\"76/200 (38%) in 15.5 s, 0.21 s last iter; eta 25+-2 s\")"
       ],
       "metadata": {},
       "output_type": "display_data"
      },
      {
       "javascript": [
        "$(\"#a6ca39a24-ff25-49ee-aebd-8a92e429f1d3 > .text > .extra\").text(\"|||| Perplexity: 454.586555349; Topics_left: 150\")"
       ],
       "metadata": {},
       "output_type": "display_data"
      },
      {
       "javascript": [
        "$(\"#a6ca39a24-ff25-49ee-aebd-8a92e429f1d3 > .completed-part\").css(\"width\", \"38.500000%\")"
       ],
       "metadata": {},
       "output_type": "display_data"
      },
      {
       "javascript": [
        "$(\"#a6ca39a24-ff25-49ee-aebd-8a92e429f1d3 > .running-part\").css(\"width\", \"0.500000%\")"
       ],
       "metadata": {},
       "output_type": "display_data"
      },
      {
       "javascript": [
        "$(\"#a6ca39a24-ff25-49ee-aebd-8a92e429f1d3 > .text > .main\").text(\"77/200 (38%) in 15.7 s, 0.19 s last iter; eta 25+-2 s\")"
       ],
       "metadata": {},
       "output_type": "display_data"
      },
      {
       "javascript": [
        "$(\"#a6ca39a24-ff25-49ee-aebd-8a92e429f1d3 > .text > .extra\").text(\"|||| Perplexity: 454.442278088; Topics_left: 150\")"
       ],
       "metadata": {},
       "output_type": "display_data"
      },
      {
       "javascript": [
        "$(\"#a6ca39a24-ff25-49ee-aebd-8a92e429f1d3 > .completed-part\").css(\"width\", \"39.000000%\")"
       ],
       "metadata": {},
       "output_type": "display_data"
      },
      {
       "javascript": [
        "$(\"#a6ca39a24-ff25-49ee-aebd-8a92e429f1d3 > .running-part\").css(\"width\", \"0.500000%\")"
       ],
       "metadata": {},
       "output_type": "display_data"
      },
      {
       "javascript": [
        "$(\"#a6ca39a24-ff25-49ee-aebd-8a92e429f1d3 > .text > .main\").text(\"78/200 (39%) in 15.9 s, 0.20 s last iter; eta 25+-2 s\")"
       ],
       "metadata": {},
       "output_type": "display_data"
      },
      {
       "javascript": [
        "$(\"#a6ca39a24-ff25-49ee-aebd-8a92e429f1d3 > .text > .extra\").text(\"|||| Perplexity: 454.30214885; Topics_left: 150\")"
       ],
       "metadata": {},
       "output_type": "display_data"
      },
      {
       "javascript": [
        "$(\"#a6ca39a24-ff25-49ee-aebd-8a92e429f1d3 > .completed-part\").css(\"width\", \"39.500000%\")"
       ],
       "metadata": {},
       "output_type": "display_data"
      },
      {
       "javascript": [
        "$(\"#a6ca39a24-ff25-49ee-aebd-8a92e429f1d3 > .running-part\").css(\"width\", \"0.500000%\")"
       ],
       "metadata": {},
       "output_type": "display_data"
      },
      {
       "javascript": [
        "$(\"#a6ca39a24-ff25-49ee-aebd-8a92e429f1d3 > .text > .main\").text(\"79/200 (39%) in 16.1 s, 0.21 s last iter; eta 25+-2 s\")"
       ],
       "metadata": {},
       "output_type": "display_data"
      },
      {
       "javascript": [
        "$(\"#a6ca39a24-ff25-49ee-aebd-8a92e429f1d3 > .text > .extra\").text(\"|||| Perplexity: 454.15733094; Topics_left: 150\")"
       ],
       "metadata": {},
       "output_type": "display_data"
      },
      {
       "javascript": [
        "$(\"#a6ca39a24-ff25-49ee-aebd-8a92e429f1d3 > .completed-part\").css(\"width\", \"40.000000%\")"
       ],
       "metadata": {},
       "output_type": "display_data"
      },
      {
       "javascript": [
        "$(\"#a6ca39a24-ff25-49ee-aebd-8a92e429f1d3 > .running-part\").css(\"width\", \"0.500000%\")"
       ],
       "metadata": {},
       "output_type": "display_data"
      },
      {
       "javascript": [
        "$(\"#a6ca39a24-ff25-49ee-aebd-8a92e429f1d3 > .text > .main\").text(\"80/200 (40%) in 16.3 s, 0.21 s last iter; eta 24+-2 s\")"
       ],
       "metadata": {},
       "output_type": "display_data"
      },
      {
       "javascript": [
        "$(\"#a6ca39a24-ff25-49ee-aebd-8a92e429f1d3 > .text > .extra\").text(\"|||| Perplexity: 454.016343488; Topics_left: 150\")"
       ],
       "metadata": {},
       "output_type": "display_data"
      },
      {
       "javascript": [
        "$(\"#a6ca39a24-ff25-49ee-aebd-8a92e429f1d3 > .completed-part\").css(\"width\", \"40.500000%\")"
       ],
       "metadata": {},
       "output_type": "display_data"
      },
      {
       "javascript": [
        "$(\"#a6ca39a24-ff25-49ee-aebd-8a92e429f1d3 > .running-part\").css(\"width\", \"0.500000%\")"
       ],
       "metadata": {},
       "output_type": "display_data"
      },
      {
       "javascript": [
        "$(\"#a6ca39a24-ff25-49ee-aebd-8a92e429f1d3 > .text > .main\").text(\"81/200 (40%) in 16.5 s, 0.20 s last iter; eta 24+-2 s\")"
       ],
       "metadata": {},
       "output_type": "display_data"
      },
      {
       "javascript": [
        "$(\"#a6ca39a24-ff25-49ee-aebd-8a92e429f1d3 > .text > .extra\").text(\"|||| Perplexity: 453.8649963; Topics_left: 150\")"
       ],
       "metadata": {},
       "output_type": "display_data"
      },
      {
       "javascript": [
        "$(\"#a6ca39a24-ff25-49ee-aebd-8a92e429f1d3 > .completed-part\").css(\"width\", \"41.000000%\")"
       ],
       "metadata": {},
       "output_type": "display_data"
      },
      {
       "javascript": [
        "$(\"#a6ca39a24-ff25-49ee-aebd-8a92e429f1d3 > .running-part\").css(\"width\", \"0.500000%\")"
       ],
       "metadata": {},
       "output_type": "display_data"
      },
      {
       "javascript": [
        "$(\"#a6ca39a24-ff25-49ee-aebd-8a92e429f1d3 > .text > .main\").text(\"82/200 (41%) in 16.7 s, 0.22 s last iter; eta 24+-2 s\")"
       ],
       "metadata": {},
       "output_type": "display_data"
      },
      {
       "javascript": [
        "$(\"#a6ca39a24-ff25-49ee-aebd-8a92e429f1d3 > .text > .extra\").text(\"|||| Perplexity: 453.722208667; Topics_left: 150\")"
       ],
       "metadata": {},
       "output_type": "display_data"
      },
      {
       "javascript": [
        "$(\"#a6ca39a24-ff25-49ee-aebd-8a92e429f1d3 > .completed-part\").css(\"width\", \"41.500000%\")"
       ],
       "metadata": {},
       "output_type": "display_data"
      },
      {
       "javascript": [
        "$(\"#a6ca39a24-ff25-49ee-aebd-8a92e429f1d3 > .running-part\").css(\"width\", \"0.500000%\")"
       ],
       "metadata": {},
       "output_type": "display_data"
      },
      {
       "javascript": [
        "$(\"#a6ca39a24-ff25-49ee-aebd-8a92e429f1d3 > .text > .main\").text(\"83/200 (41%) in 16.9 s, 0.21 s last iter; eta 24+-2 s\")"
       ],
       "metadata": {},
       "output_type": "display_data"
      },
      {
       "javascript": [
        "$(\"#a6ca39a24-ff25-49ee-aebd-8a92e429f1d3 > .text > .extra\").text(\"|||| Perplexity: 453.589232788; Topics_left: 150\")"
       ],
       "metadata": {},
       "output_type": "display_data"
      },
      {
       "javascript": [
        "$(\"#a6ca39a24-ff25-49ee-aebd-8a92e429f1d3 > .completed-part\").css(\"width\", \"42.000000%\")"
       ],
       "metadata": {},
       "output_type": "display_data"
      },
      {
       "javascript": [
        "$(\"#a6ca39a24-ff25-49ee-aebd-8a92e429f1d3 > .running-part\").css(\"width\", \"0.500000%\")"
       ],
       "metadata": {},
       "output_type": "display_data"
      },
      {
       "javascript": [
        "$(\"#a6ca39a24-ff25-49ee-aebd-8a92e429f1d3 > .text > .main\").text(\"84/200 (42%) in 17.1 s, 0.20 s last iter; eta 24+-2 s\")"
       ],
       "metadata": {},
       "output_type": "display_data"
      },
      {
       "javascript": [
        "$(\"#a6ca39a24-ff25-49ee-aebd-8a92e429f1d3 > .text > .extra\").text(\"|||| Perplexity: 453.460705486; Topics_left: 150\")"
       ],
       "metadata": {},
       "output_type": "display_data"
      },
      {
       "javascript": [
        "$(\"#a6ca39a24-ff25-49ee-aebd-8a92e429f1d3 > .completed-part\").css(\"width\", \"42.500000%\")"
       ],
       "metadata": {},
       "output_type": "display_data"
      },
      {
       "javascript": [
        "$(\"#a6ca39a24-ff25-49ee-aebd-8a92e429f1d3 > .running-part\").css(\"width\", \"0.500000%\")"
       ],
       "metadata": {},
       "output_type": "display_data"
      },
      {
       "javascript": [
        "$(\"#a6ca39a24-ff25-49ee-aebd-8a92e429f1d3 > .text > .main\").text(\"85/200 (42%) in 17.3 s, 0.21 s last iter; eta 23+-2 s\")"
       ],
       "metadata": {},
       "output_type": "display_data"
      },
      {
       "javascript": [
        "$(\"#a6ca39a24-ff25-49ee-aebd-8a92e429f1d3 > .text > .extra\").text(\"|||| Perplexity: 453.326861606; Topics_left: 150\")"
       ],
       "metadata": {},
       "output_type": "display_data"
      },
      {
       "javascript": [
        "$(\"#a6ca39a24-ff25-49ee-aebd-8a92e429f1d3 > .completed-part\").css(\"width\", \"43.000000%\")"
       ],
       "metadata": {},
       "output_type": "display_data"
      },
      {
       "javascript": [
        "$(\"#a6ca39a24-ff25-49ee-aebd-8a92e429f1d3 > .running-part\").css(\"width\", \"0.500000%\")"
       ],
       "metadata": {},
       "output_type": "display_data"
      },
      {
       "javascript": [
        "$(\"#a6ca39a24-ff25-49ee-aebd-8a92e429f1d3 > .text > .main\").text(\"86/200 (43%) in 17.5 s, 0.20 s last iter; eta 23+-2 s\")"
       ],
       "metadata": {},
       "output_type": "display_data"
      },
      {
       "javascript": [
        "$(\"#a6ca39a24-ff25-49ee-aebd-8a92e429f1d3 > .text > .extra\").text(\"|||| Perplexity: 453.230518476; Topics_left: 150\")"
       ],
       "metadata": {},
       "output_type": "display_data"
      },
      {
       "javascript": [
        "$(\"#a6ca39a24-ff25-49ee-aebd-8a92e429f1d3 > .completed-part\").css(\"width\", \"43.500000%\")"
       ],
       "metadata": {},
       "output_type": "display_data"
      },
      {
       "javascript": [
        "$(\"#a6ca39a24-ff25-49ee-aebd-8a92e429f1d3 > .running-part\").css(\"width\", \"0.500000%\")"
       ],
       "metadata": {},
       "output_type": "display_data"
      },
      {
       "javascript": [
        "$(\"#a6ca39a24-ff25-49ee-aebd-8a92e429f1d3 > .text > .main\").text(\"87/200 (43%) in 17.7 s, 0.20 s last iter; eta 23+-2 s\")"
       ],
       "metadata": {},
       "output_type": "display_data"
      },
      {
       "javascript": [
        "$(\"#a6ca39a24-ff25-49ee-aebd-8a92e429f1d3 > .text > .extra\").text(\"|||| Perplexity: 453.115626159; Topics_left: 150\")"
       ],
       "metadata": {},
       "output_type": "display_data"
      },
      {
       "javascript": [
        "$(\"#a6ca39a24-ff25-49ee-aebd-8a92e429f1d3 > .completed-part\").css(\"width\", \"44.000000%\")"
       ],
       "metadata": {},
       "output_type": "display_data"
      },
      {
       "javascript": [
        "$(\"#a6ca39a24-ff25-49ee-aebd-8a92e429f1d3 > .running-part\").css(\"width\", \"0.500000%\")"
       ],
       "metadata": {},
       "output_type": "display_data"
      },
      {
       "javascript": [
        "$(\"#a6ca39a24-ff25-49ee-aebd-8a92e429f1d3 > .text > .main\").text(\"88/200 (44%) in 18.0 s, 0.23 s last iter; eta 23+-2 s\")"
       ],
       "metadata": {},
       "output_type": "display_data"
      },
      {
       "javascript": [
        "$(\"#a6ca39a24-ff25-49ee-aebd-8a92e429f1d3 > .text > .extra\").text(\"|||| Perplexity: 452.994469935; Topics_left: 150\")"
       ],
       "metadata": {},
       "output_type": "display_data"
      },
      {
       "javascript": [
        "$(\"#a6ca39a24-ff25-49ee-aebd-8a92e429f1d3 > .completed-part\").css(\"width\", \"44.500000%\")"
       ],
       "metadata": {},
       "output_type": "display_data"
      },
      {
       "javascript": [
        "$(\"#a6ca39a24-ff25-49ee-aebd-8a92e429f1d3 > .running-part\").css(\"width\", \"0.500000%\")"
       ],
       "metadata": {},
       "output_type": "display_data"
      },
      {
       "javascript": [
        "$(\"#a6ca39a24-ff25-49ee-aebd-8a92e429f1d3 > .text > .main\").text(\"89/200 (44%) in 18.2 s, 0.20 s last iter; eta 23+-2 s\")"
       ],
       "metadata": {},
       "output_type": "display_data"
      },
      {
       "javascript": [
        "$(\"#a6ca39a24-ff25-49ee-aebd-8a92e429f1d3 > .text > .extra\").text(\"|||| Perplexity: 452.905432902; Topics_left: 150\")"
       ],
       "metadata": {},
       "output_type": "display_data"
      },
      {
       "javascript": [
        "$(\"#a6ca39a24-ff25-49ee-aebd-8a92e429f1d3 > .completed-part\").css(\"width\", \"45.000000%\")"
       ],
       "metadata": {},
       "output_type": "display_data"
      },
      {
       "javascript": [
        "$(\"#a6ca39a24-ff25-49ee-aebd-8a92e429f1d3 > .running-part\").css(\"width\", \"0.500000%\")"
       ],
       "metadata": {},
       "output_type": "display_data"
      },
      {
       "javascript": [
        "$(\"#a6ca39a24-ff25-49ee-aebd-8a92e429f1d3 > .text > .main\").text(\"90/200 (45%) in 18.4 s, 0.20 s last iter; eta 22+-2 s\")"
       ],
       "metadata": {},
       "output_type": "display_data"
      },
      {
       "javascript": [
        "$(\"#a6ca39a24-ff25-49ee-aebd-8a92e429f1d3 > .text > .extra\").text(\"|||| Perplexity: 452.806348657; Topics_left: 150\")"
       ],
       "metadata": {},
       "output_type": "display_data"
      },
      {
       "javascript": [
        "$(\"#a6ca39a24-ff25-49ee-aebd-8a92e429f1d3 > .completed-part\").css(\"width\", \"45.500000%\")"
       ],
       "metadata": {},
       "output_type": "display_data"
      },
      {
       "javascript": [
        "$(\"#a6ca39a24-ff25-49ee-aebd-8a92e429f1d3 > .running-part\").css(\"width\", \"0.500000%\")"
       ],
       "metadata": {},
       "output_type": "display_data"
      },
      {
       "javascript": [
        "$(\"#a6ca39a24-ff25-49ee-aebd-8a92e429f1d3 > .text > .main\").text(\"91/200 (45%) in 18.6 s, 0.21 s last iter; eta 22+-2 s\")"
       ],
       "metadata": {},
       "output_type": "display_data"
      },
      {
       "javascript": [
        "$(\"#a6ca39a24-ff25-49ee-aebd-8a92e429f1d3 > .text > .extra\").text(\"|||| Perplexity: 452.710745053; Topics_left: 150\")"
       ],
       "metadata": {},
       "output_type": "display_data"
      },
      {
       "javascript": [
        "$(\"#a6ca39a24-ff25-49ee-aebd-8a92e429f1d3 > .completed-part\").css(\"width\", \"46.000000%\")"
       ],
       "metadata": {},
       "output_type": "display_data"
      },
      {
       "javascript": [
        "$(\"#a6ca39a24-ff25-49ee-aebd-8a92e429f1d3 > .running-part\").css(\"width\", \"0.500000%\")"
       ],
       "metadata": {},
       "output_type": "display_data"
      },
      {
       "javascript": [
        "$(\"#a6ca39a24-ff25-49ee-aebd-8a92e429f1d3 > .text > .main\").text(\"92/200 (46%) in 18.8 s, 0.20 s last iter; eta 22+-2 s\")"
       ],
       "metadata": {},
       "output_type": "display_data"
      },
      {
       "javascript": [
        "$(\"#a6ca39a24-ff25-49ee-aebd-8a92e429f1d3 > .text > .extra\").text(\"|||| Perplexity: 452.635597181; Topics_left: 150\")"
       ],
       "metadata": {},
       "output_type": "display_data"
      },
      {
       "javascript": [
        "$(\"#a6ca39a24-ff25-49ee-aebd-8a92e429f1d3 > .completed-part\").css(\"width\", \"46.500000%\")"
       ],
       "metadata": {},
       "output_type": "display_data"
      },
      {
       "javascript": [
        "$(\"#a6ca39a24-ff25-49ee-aebd-8a92e429f1d3 > .running-part\").css(\"width\", \"0.500000%\")"
       ],
       "metadata": {},
       "output_type": "display_data"
      },
      {
       "javascript": [
        "$(\"#a6ca39a24-ff25-49ee-aebd-8a92e429f1d3 > .text > .main\").text(\"93/200 (46%) in 19.0 s, 0.21 s last iter; eta 22+-2 s\")"
       ],
       "metadata": {},
       "output_type": "display_data"
      },
      {
       "javascript": [
        "$(\"#a6ca39a24-ff25-49ee-aebd-8a92e429f1d3 > .text > .extra\").text(\"|||| Perplexity: 452.564233975; Topics_left: 150\")"
       ],
       "metadata": {},
       "output_type": "display_data"
      },
      {
       "javascript": [
        "$(\"#a6ca39a24-ff25-49ee-aebd-8a92e429f1d3 > .completed-part\").css(\"width\", \"47.000000%\")"
       ],
       "metadata": {},
       "output_type": "display_data"
      },
      {
       "javascript": [
        "$(\"#a6ca39a24-ff25-49ee-aebd-8a92e429f1d3 > .running-part\").css(\"width\", \"0.500000%\")"
       ],
       "metadata": {},
       "output_type": "display_data"
      },
      {
       "javascript": [
        "$(\"#a6ca39a24-ff25-49ee-aebd-8a92e429f1d3 > .text > .main\").text(\"94/200 (47%) in 19.2 s, 0.22 s last iter; eta 22+-2 s\")"
       ],
       "metadata": {},
       "output_type": "display_data"
      },
      {
       "javascript": [
        "$(\"#a6ca39a24-ff25-49ee-aebd-8a92e429f1d3 > .text > .extra\").text(\"|||| Perplexity: 452.472452915; Topics_left: 150\")"
       ],
       "metadata": {},
       "output_type": "display_data"
      },
      {
       "javascript": [
        "$(\"#a6ca39a24-ff25-49ee-aebd-8a92e429f1d3 > .completed-part\").css(\"width\", \"47.500000%\")"
       ],
       "metadata": {},
       "output_type": "display_data"
      },
      {
       "javascript": [
        "$(\"#a6ca39a24-ff25-49ee-aebd-8a92e429f1d3 > .running-part\").css(\"width\", \"0.500000%\")"
       ],
       "metadata": {},
       "output_type": "display_data"
      },
      {
       "javascript": [
        "$(\"#a6ca39a24-ff25-49ee-aebd-8a92e429f1d3 > .text > .main\").text(\"95/200 (47%) in 19.4 s, 0.21 s last iter; eta 21+-2 s\")"
       ],
       "metadata": {},
       "output_type": "display_data"
      },
      {
       "javascript": [
        "$(\"#a6ca39a24-ff25-49ee-aebd-8a92e429f1d3 > .text > .extra\").text(\"|||| Perplexity: 452.393259567; Topics_left: 150\")"
       ],
       "metadata": {},
       "output_type": "display_data"
      },
      {
       "javascript": [
        "$(\"#a6ca39a24-ff25-49ee-aebd-8a92e429f1d3 > .completed-part\").css(\"width\", \"48.000000%\")"
       ],
       "metadata": {},
       "output_type": "display_data"
      },
      {
       "javascript": [
        "$(\"#a6ca39a24-ff25-49ee-aebd-8a92e429f1d3 > .running-part\").css(\"width\", \"0.500000%\")"
       ],
       "metadata": {},
       "output_type": "display_data"
      },
      {
       "javascript": [
        "$(\"#a6ca39a24-ff25-49ee-aebd-8a92e429f1d3 > .text > .main\").text(\"96/200 (48%) in 19.6 s, 0.20 s last iter; eta 21+-2 s\")"
       ],
       "metadata": {},
       "output_type": "display_data"
      },
      {
       "javascript": [
        "$(\"#a6ca39a24-ff25-49ee-aebd-8a92e429f1d3 > .text > .extra\").text(\"|||| Perplexity: 452.290517432; Topics_left: 150\")"
       ],
       "metadata": {},
       "output_type": "display_data"
      },
      {
       "javascript": [
        "$(\"#a6ca39a24-ff25-49ee-aebd-8a92e429f1d3 > .completed-part\").css(\"width\", \"48.500000%\")"
       ],
       "metadata": {},
       "output_type": "display_data"
      },
      {
       "javascript": [
        "$(\"#a6ca39a24-ff25-49ee-aebd-8a92e429f1d3 > .running-part\").css(\"width\", \"0.500000%\")"
       ],
       "metadata": {},
       "output_type": "display_data"
      },
      {
       "javascript": [
        "$(\"#a6ca39a24-ff25-49ee-aebd-8a92e429f1d3 > .text > .main\").text(\"97/200 (48%) in 19.8 s, 0.21 s last iter; eta 21+-2 s\")"
       ],
       "metadata": {},
       "output_type": "display_data"
      },
      {
       "javascript": [
        "$(\"#a6ca39a24-ff25-49ee-aebd-8a92e429f1d3 > .text > .extra\").text(\"|||| Perplexity: 452.223292092; Topics_left: 150\")"
       ],
       "metadata": {},
       "output_type": "display_data"
      },
      {
       "javascript": [
        "$(\"#a6ca39a24-ff25-49ee-aebd-8a92e429f1d3 > .completed-part\").css(\"width\", \"49.000000%\")"
       ],
       "metadata": {},
       "output_type": "display_data"
      },
      {
       "javascript": [
        "$(\"#a6ca39a24-ff25-49ee-aebd-8a92e429f1d3 > .running-part\").css(\"width\", \"0.500000%\")"
       ],
       "metadata": {},
       "output_type": "display_data"
      },
      {
       "javascript": [
        "$(\"#a6ca39a24-ff25-49ee-aebd-8a92e429f1d3 > .text > .main\").text(\"98/200 (49%) in 20.0 s, 0.20 s last iter; eta 21+-2 s\")"
       ],
       "metadata": {},
       "output_type": "display_data"
      },
      {
       "javascript": [
        "$(\"#a6ca39a24-ff25-49ee-aebd-8a92e429f1d3 > .text > .extra\").text(\"|||| Perplexity: 452.163300345; Topics_left: 150\")"
       ],
       "metadata": {},
       "output_type": "display_data"
      },
      {
       "javascript": [
        "$(\"#a6ca39a24-ff25-49ee-aebd-8a92e429f1d3 > .completed-part\").css(\"width\", \"49.500000%\")"
       ],
       "metadata": {},
       "output_type": "display_data"
      },
      {
       "javascript": [
        "$(\"#a6ca39a24-ff25-49ee-aebd-8a92e429f1d3 > .running-part\").css(\"width\", \"0.500000%\")"
       ],
       "metadata": {},
       "output_type": "display_data"
      },
      {
       "javascript": [
        "$(\"#a6ca39a24-ff25-49ee-aebd-8a92e429f1d3 > .text > .main\").text(\"99/200 (49%) in 20.2 s, 0.20 s last iter; eta 21+-2 s\")"
       ],
       "metadata": {},
       "output_type": "display_data"
      },
      {
       "javascript": [
        "$(\"#a6ca39a24-ff25-49ee-aebd-8a92e429f1d3 > .text > .extra\").text(\"|||| Perplexity: 452.082591023; Topics_left: 150\")"
       ],
       "metadata": {},
       "output_type": "display_data"
      },
      {
       "javascript": [
        "$(\"#a6ca39a24-ff25-49ee-aebd-8a92e429f1d3 > .completed-part\").css(\"width\", \"50.000000%\")"
       ],
       "metadata": {},
       "output_type": "display_data"
      },
      {
       "javascript": [
        "$(\"#a6ca39a24-ff25-49ee-aebd-8a92e429f1d3 > .running-part\").css(\"width\", \"0.500000%\")"
       ],
       "metadata": {},
       "output_type": "display_data"
      },
      {
       "javascript": [
        "$(\"#a6ca39a24-ff25-49ee-aebd-8a92e429f1d3 > .text > .main\").text(\"100/200 (50%) in 20.4 s, 0.21 s last iter; eta 20+-1 s\")"
       ],
       "metadata": {},
       "output_type": "display_data"
      },
      {
       "javascript": [
        "$(\"#a6ca39a24-ff25-49ee-aebd-8a92e429f1d3 > .text > .extra\").text(\"|||| Perplexity: 452.015396587; Topics_left: 150\")"
       ],
       "metadata": {},
       "output_type": "display_data"
      },
      {
       "javascript": [
        "$(\"#a6ca39a24-ff25-49ee-aebd-8a92e429f1d3 > .completed-part\").css(\"width\", \"50.500000%\")"
       ],
       "metadata": {},
       "output_type": "display_data"
      },
      {
       "javascript": [
        "$(\"#a6ca39a24-ff25-49ee-aebd-8a92e429f1d3 > .running-part\").css(\"width\", \"0.500000%\")"
       ],
       "metadata": {},
       "output_type": "display_data"
      },
      {
       "javascript": [
        "$(\"#a6ca39a24-ff25-49ee-aebd-8a92e429f1d3 > .text > .main\").text(\"101/200 (50%) in 20.6 s, 0.20 s last iter; eta 20+-1 s\")"
       ],
       "metadata": {},
       "output_type": "display_data"
      },
      {
       "javascript": [
        "$(\"#a6ca39a24-ff25-49ee-aebd-8a92e429f1d3 > .text > .extra\").text(\"|||| Perplexity: 451.970815138; Topics_left: 150\")"
       ],
       "metadata": {},
       "output_type": "display_data"
      },
      {
       "javascript": [
        "$(\"#a6ca39a24-ff25-49ee-aebd-8a92e429f1d3 > .completed-part\").css(\"width\", \"51.000000%\")"
       ],
       "metadata": {},
       "output_type": "display_data"
      },
      {
       "javascript": [
        "$(\"#a6ca39a24-ff25-49ee-aebd-8a92e429f1d3 > .running-part\").css(\"width\", \"0.500000%\")"
       ],
       "metadata": {},
       "output_type": "display_data"
      },
      {
       "javascript": [
        "$(\"#a6ca39a24-ff25-49ee-aebd-8a92e429f1d3 > .text > .main\").text(\"102/200 (51%) in 20.8 s, 0.21 s last iter; eta 20+-1 s\")"
       ],
       "metadata": {},
       "output_type": "display_data"
      },
      {
       "javascript": [
        "$(\"#a6ca39a24-ff25-49ee-aebd-8a92e429f1d3 > .text > .extra\").text(\"|||| Perplexity: 451.893279008; Topics_left: 150\")"
       ],
       "metadata": {},
       "output_type": "display_data"
      },
      {
       "javascript": [
        "$(\"#a6ca39a24-ff25-49ee-aebd-8a92e429f1d3 > .completed-part\").css(\"width\", \"51.500000%\")"
       ],
       "metadata": {},
       "output_type": "display_data"
      },
      {
       "javascript": [
        "$(\"#a6ca39a24-ff25-49ee-aebd-8a92e429f1d3 > .running-part\").css(\"width\", \"0.500000%\")"
       ],
       "metadata": {},
       "output_type": "display_data"
      },
      {
       "javascript": [
        "$(\"#a6ca39a24-ff25-49ee-aebd-8a92e429f1d3 > .text > .main\").text(\"103/200 (51%) in 21.0 s, 0.21 s last iter; eta 20+-1 s\")"
       ],
       "metadata": {},
       "output_type": "display_data"
      },
      {
       "javascript": [
        "$(\"#a6ca39a24-ff25-49ee-aebd-8a92e429f1d3 > .text > .extra\").text(\"|||| Perplexity: 451.83333104; Topics_left: 150\")"
       ],
       "metadata": {},
       "output_type": "display_data"
      },
      {
       "javascript": [
        "$(\"#a6ca39a24-ff25-49ee-aebd-8a92e429f1d3 > .completed-part\").css(\"width\", \"52.000000%\")"
       ],
       "metadata": {},
       "output_type": "display_data"
      },
      {
       "javascript": [
        "$(\"#a6ca39a24-ff25-49ee-aebd-8a92e429f1d3 > .running-part\").css(\"width\", \"0.500000%\")"
       ],
       "metadata": {},
       "output_type": "display_data"
      },
      {
       "javascript": [
        "$(\"#a6ca39a24-ff25-49ee-aebd-8a92e429f1d3 > .text > .main\").text(\"104/200 (52%) in 21.2 s, 0.20 s last iter; eta 19+-1 s\")"
       ],
       "metadata": {},
       "output_type": "display_data"
      },
      {
       "javascript": [
        "$(\"#a6ca39a24-ff25-49ee-aebd-8a92e429f1d3 > .text > .extra\").text(\"|||| Perplexity: 451.75330819; Topics_left: 150\")"
       ],
       "metadata": {},
       "output_type": "display_data"
      },
      {
       "javascript": [
        "$(\"#a6ca39a24-ff25-49ee-aebd-8a92e429f1d3 > .completed-part\").css(\"width\", \"52.500000%\")"
       ],
       "metadata": {},
       "output_type": "display_data"
      },
      {
       "javascript": [
        "$(\"#a6ca39a24-ff25-49ee-aebd-8a92e429f1d3 > .running-part\").css(\"width\", \"0.500000%\")"
       ],
       "metadata": {},
       "output_type": "display_data"
      },
      {
       "javascript": [
        "$(\"#a6ca39a24-ff25-49ee-aebd-8a92e429f1d3 > .text > .main\").text(\"105/200 (52%) in 21.4 s, 0.20 s last iter; eta 19+-1 s\")"
       ],
       "metadata": {},
       "output_type": "display_data"
      },
      {
       "javascript": [
        "$(\"#a6ca39a24-ff25-49ee-aebd-8a92e429f1d3 > .text > .extra\").text(\"|||| Perplexity: 451.674554442; Topics_left: 150\")"
       ],
       "metadata": {},
       "output_type": "display_data"
      },
      {
       "javascript": [
        "$(\"#a6ca39a24-ff25-49ee-aebd-8a92e429f1d3 > .completed-part\").css(\"width\", \"53.000000%\")"
       ],
       "metadata": {},
       "output_type": "display_data"
      },
      {
       "javascript": [
        "$(\"#a6ca39a24-ff25-49ee-aebd-8a92e429f1d3 > .running-part\").css(\"width\", \"0.500000%\")"
       ],
       "metadata": {},
       "output_type": "display_data"
      },
      {
       "javascript": [
        "$(\"#a6ca39a24-ff25-49ee-aebd-8a92e429f1d3 > .text > .main\").text(\"106/200 (53%) in 21.6 s, 0.21 s last iter; eta 19+-1 s\")"
       ],
       "metadata": {},
       "output_type": "display_data"
      },
      {
       "javascript": [
        "$(\"#a6ca39a24-ff25-49ee-aebd-8a92e429f1d3 > .text > .extra\").text(\"|||| Perplexity: 451.594559713; Topics_left: 150\")"
       ],
       "metadata": {},
       "output_type": "display_data"
      },
      {
       "javascript": [
        "$(\"#a6ca39a24-ff25-49ee-aebd-8a92e429f1d3 > .completed-part\").css(\"width\", \"53.500000%\")"
       ],
       "metadata": {},
       "output_type": "display_data"
      },
      {
       "javascript": [
        "$(\"#a6ca39a24-ff25-49ee-aebd-8a92e429f1d3 > .running-part\").css(\"width\", \"0.500000%\")"
       ],
       "metadata": {},
       "output_type": "display_data"
      },
      {
       "javascript": [
        "$(\"#a6ca39a24-ff25-49ee-aebd-8a92e429f1d3 > .text > .main\").text(\"107/200 (53%) in 21.8 s, 0.20 s last iter; eta 19+-1 s\")"
       ],
       "metadata": {},
       "output_type": "display_data"
      },
      {
       "javascript": [
        "$(\"#a6ca39a24-ff25-49ee-aebd-8a92e429f1d3 > .text > .extra\").text(\"|||| Perplexity: 451.527437815; Topics_left: 150\")"
       ],
       "metadata": {},
       "output_type": "display_data"
      },
      {
       "javascript": [
        "$(\"#a6ca39a24-ff25-49ee-aebd-8a92e429f1d3 > .completed-part\").css(\"width\", \"54.000000%\")"
       ],
       "metadata": {},
       "output_type": "display_data"
      },
      {
       "javascript": [
        "$(\"#a6ca39a24-ff25-49ee-aebd-8a92e429f1d3 > .running-part\").css(\"width\", \"0.500000%\")"
       ],
       "metadata": {},
       "output_type": "display_data"
      },
      {
       "javascript": [
        "$(\"#a6ca39a24-ff25-49ee-aebd-8a92e429f1d3 > .text > .main\").text(\"108/200 (54%) in 22.1 s, 0.20 s last iter; eta 19+-1 s\")"
       ],
       "metadata": {},
       "output_type": "display_data"
      },
      {
       "javascript": [
        "$(\"#a6ca39a24-ff25-49ee-aebd-8a92e429f1d3 > .text > .extra\").text(\"|||| Perplexity: 451.452172789; Topics_left: 150\")"
       ],
       "metadata": {},
       "output_type": "display_data"
      },
      {
       "javascript": [
        "$(\"#a6ca39a24-ff25-49ee-aebd-8a92e429f1d3 > .completed-part\").css(\"width\", \"54.500000%\")"
       ],
       "metadata": {},
       "output_type": "display_data"
      },
      {
       "javascript": [
        "$(\"#a6ca39a24-ff25-49ee-aebd-8a92e429f1d3 > .running-part\").css(\"width\", \"0.500000%\")"
       ],
       "metadata": {},
       "output_type": "display_data"
      },
      {
       "javascript": [
        "$(\"#a6ca39a24-ff25-49ee-aebd-8a92e429f1d3 > .text > .main\").text(\"109/200 (54%) in 22.3 s, 0.21 s last iter; eta 18+-1 s\")"
       ],
       "metadata": {},
       "output_type": "display_data"
      },
      {
       "javascript": [
        "$(\"#a6ca39a24-ff25-49ee-aebd-8a92e429f1d3 > .text > .extra\").text(\"|||| Perplexity: 451.399494735; Topics_left: 150\")"
       ],
       "metadata": {},
       "output_type": "display_data"
      },
      {
       "javascript": [
        "$(\"#a6ca39a24-ff25-49ee-aebd-8a92e429f1d3 > .completed-part\").css(\"width\", \"55.000000%\")"
       ],
       "metadata": {},
       "output_type": "display_data"
      },
      {
       "javascript": [
        "$(\"#a6ca39a24-ff25-49ee-aebd-8a92e429f1d3 > .running-part\").css(\"width\", \"0.500000%\")"
       ],
       "metadata": {},
       "output_type": "display_data"
      },
      {
       "javascript": [
        "$(\"#a6ca39a24-ff25-49ee-aebd-8a92e429f1d3 > .text > .main\").text(\"110/200 (55%) in 22.5 s, 0.20 s last iter; eta 18+-1 s\")"
       ],
       "metadata": {},
       "output_type": "display_data"
      },
      {
       "javascript": [
        "$(\"#a6ca39a24-ff25-49ee-aebd-8a92e429f1d3 > .text > .extra\").text(\"|||| Perplexity: 451.339925772; Topics_left: 150\")"
       ],
       "metadata": {},
       "output_type": "display_data"
      },
      {
       "javascript": [
        "$(\"#a6ca39a24-ff25-49ee-aebd-8a92e429f1d3 > .completed-part\").css(\"width\", \"55.500000%\")"
       ],
       "metadata": {},
       "output_type": "display_data"
      },
      {
       "javascript": [
        "$(\"#a6ca39a24-ff25-49ee-aebd-8a92e429f1d3 > .running-part\").css(\"width\", \"0.500000%\")"
       ],
       "metadata": {},
       "output_type": "display_data"
      },
      {
       "javascript": [
        "$(\"#a6ca39a24-ff25-49ee-aebd-8a92e429f1d3 > .text > .main\").text(\"111/200 (55%) in 22.7 s, 0.20 s last iter; eta 18+-1 s\")"
       ],
       "metadata": {},
       "output_type": "display_data"
      },
      {
       "javascript": [
        "$(\"#a6ca39a24-ff25-49ee-aebd-8a92e429f1d3 > .text > .extra\").text(\"|||| Perplexity: 451.269707197; Topics_left: 150\")"
       ],
       "metadata": {},
       "output_type": "display_data"
      },
      {
       "javascript": [
        "$(\"#a6ca39a24-ff25-49ee-aebd-8a92e429f1d3 > .completed-part\").css(\"width\", \"56.000000%\")"
       ],
       "metadata": {},
       "output_type": "display_data"
      },
      {
       "javascript": [
        "$(\"#a6ca39a24-ff25-49ee-aebd-8a92e429f1d3 > .running-part\").css(\"width\", \"0.500000%\")"
       ],
       "metadata": {},
       "output_type": "display_data"
      },
      {
       "javascript": [
        "$(\"#a6ca39a24-ff25-49ee-aebd-8a92e429f1d3 > .text > .main\").text(\"112/200 (56%) in 22.9 s, 0.21 s last iter; eta 18+-1 s\")"
       ],
       "metadata": {},
       "output_type": "display_data"
      },
      {
       "javascript": [
        "$(\"#a6ca39a24-ff25-49ee-aebd-8a92e429f1d3 > .text > .extra\").text(\"|||| Perplexity: 451.22707982; Topics_left: 150\")"
       ],
       "metadata": {},
       "output_type": "display_data"
      },
      {
       "javascript": [
        "$(\"#a6ca39a24-ff25-49ee-aebd-8a92e429f1d3 > .completed-part\").css(\"width\", \"56.500000%\")"
       ],
       "metadata": {},
       "output_type": "display_data"
      },
      {
       "javascript": [
        "$(\"#a6ca39a24-ff25-49ee-aebd-8a92e429f1d3 > .running-part\").css(\"width\", \"0.500000%\")"
       ],
       "metadata": {},
       "output_type": "display_data"
      },
      {
       "javascript": [
        "$(\"#a6ca39a24-ff25-49ee-aebd-8a92e429f1d3 > .text > .main\").text(\"113/200 (56%) in 23.1 s, 0.19 s last iter; eta 18+-1 s\")"
       ],
       "metadata": {},
       "output_type": "display_data"
      },
      {
       "javascript": [
        "$(\"#a6ca39a24-ff25-49ee-aebd-8a92e429f1d3 > .text > .extra\").text(\"|||| Perplexity: 451.186963615; Topics_left: 150\")"
       ],
       "metadata": {},
       "output_type": "display_data"
      },
      {
       "javascript": [
        "$(\"#a6ca39a24-ff25-49ee-aebd-8a92e429f1d3 > .completed-part\").css(\"width\", \"57.000000%\")"
       ],
       "metadata": {},
       "output_type": "display_data"
      },
      {
       "javascript": [
        "$(\"#a6ca39a24-ff25-49ee-aebd-8a92e429f1d3 > .running-part\").css(\"width\", \"0.500000%\")"
       ],
       "metadata": {},
       "output_type": "display_data"
      },
      {
       "javascript": [
        "$(\"#a6ca39a24-ff25-49ee-aebd-8a92e429f1d3 > .text > .main\").text(\"114/200 (56%) in 23.3 s, 0.20 s last iter; eta 17+-1 s\")"
       ],
       "metadata": {},
       "output_type": "display_data"
      },
      {
       "javascript": [
        "$(\"#a6ca39a24-ff25-49ee-aebd-8a92e429f1d3 > .text > .extra\").text(\"|||| Perplexity: 451.149044543; Topics_left: 150\")"
       ],
       "metadata": {},
       "output_type": "display_data"
      },
      {
       "javascript": [
        "$(\"#a6ca39a24-ff25-49ee-aebd-8a92e429f1d3 > .completed-part\").css(\"width\", \"57.500000%\")"
       ],
       "metadata": {},
       "output_type": "display_data"
      },
      {
       "javascript": [
        "$(\"#a6ca39a24-ff25-49ee-aebd-8a92e429f1d3 > .running-part\").css(\"width\", \"0.500000%\")"
       ],
       "metadata": {},
       "output_type": "display_data"
      },
      {
       "javascript": [
        "$(\"#a6ca39a24-ff25-49ee-aebd-8a92e429f1d3 > .text > .main\").text(\"115/200 (57%) in 23.5 s, 0.21 s last iter; eta 17+-1 s\")"
       ],
       "metadata": {},
       "output_type": "display_data"
      },
      {
       "javascript": [
        "$(\"#a6ca39a24-ff25-49ee-aebd-8a92e429f1d3 > .text > .extra\").text(\"|||| Perplexity: 451.12867611; Topics_left: 150\")"
       ],
       "metadata": {},
       "output_type": "display_data"
      },
      {
       "javascript": [
        "$(\"#a6ca39a24-ff25-49ee-aebd-8a92e429f1d3 > .completed-part\").css(\"width\", \"58.000000%\")"
       ],
       "metadata": {},
       "output_type": "display_data"
      },
      {
       "javascript": [
        "$(\"#a6ca39a24-ff25-49ee-aebd-8a92e429f1d3 > .running-part\").css(\"width\", \"0.500000%\")"
       ],
       "metadata": {},
       "output_type": "display_data"
      },
      {
       "javascript": [
        "$(\"#a6ca39a24-ff25-49ee-aebd-8a92e429f1d3 > .text > .main\").text(\"116/200 (57%) in 23.7 s, 0.20 s last iter; eta 17+-1 s\")"
       ],
       "metadata": {},
       "output_type": "display_data"
      },
      {
       "javascript": [
        "$(\"#a6ca39a24-ff25-49ee-aebd-8a92e429f1d3 > .text > .extra\").text(\"|||| Perplexity: 451.098908516; Topics_left: 150\")"
       ],
       "metadata": {},
       "output_type": "display_data"
      },
      {
       "javascript": [
        "$(\"#a6ca39a24-ff25-49ee-aebd-8a92e429f1d3 > .completed-part\").css(\"width\", \"58.500000%\")"
       ],
       "metadata": {},
       "output_type": "display_data"
      },
      {
       "javascript": [
        "$(\"#a6ca39a24-ff25-49ee-aebd-8a92e429f1d3 > .running-part\").css(\"width\", \"0.500000%\")"
       ],
       "metadata": {},
       "output_type": "display_data"
      },
      {
       "javascript": [
        "$(\"#a6ca39a24-ff25-49ee-aebd-8a92e429f1d3 > .text > .main\").text(\"117/200 (58%) in 23.9 s, 0.21 s last iter; eta 17+-1 s\")"
       ],
       "metadata": {},
       "output_type": "display_data"
      },
      {
       "javascript": [
        "$(\"#a6ca39a24-ff25-49ee-aebd-8a92e429f1d3 > .text > .extra\").text(\"|||| Perplexity: 451.066009776; Topics_left: 150\")"
       ],
       "metadata": {},
       "output_type": "display_data"
      },
      {
       "javascript": [
        "$(\"#a6ca39a24-ff25-49ee-aebd-8a92e429f1d3 > .completed-part\").css(\"width\", \"59.000000%\")"
       ],
       "metadata": {},
       "output_type": "display_data"
      },
      {
       "javascript": [
        "$(\"#a6ca39a24-ff25-49ee-aebd-8a92e429f1d3 > .running-part\").css(\"width\", \"0.500000%\")"
       ],
       "metadata": {},
       "output_type": "display_data"
      },
      {
       "javascript": [
        "$(\"#a6ca39a24-ff25-49ee-aebd-8a92e429f1d3 > .text > .main\").text(\"118/200 (59%) in 24.1 s, 0.22 s last iter; eta 17+-1 s\")"
       ],
       "metadata": {},
       "output_type": "display_data"
      },
      {
       "javascript": [
        "$(\"#a6ca39a24-ff25-49ee-aebd-8a92e429f1d3 > .text > .extra\").text(\"|||| Perplexity: 451.043138732; Topics_left: 150\")"
       ],
       "metadata": {},
       "output_type": "display_data"
      },
      {
       "javascript": [
        "$(\"#a6ca39a24-ff25-49ee-aebd-8a92e429f1d3 > .completed-part\").css(\"width\", \"59.500000%\")"
       ],
       "metadata": {},
       "output_type": "display_data"
      },
      {
       "javascript": [
        "$(\"#a6ca39a24-ff25-49ee-aebd-8a92e429f1d3 > .running-part\").css(\"width\", \"0.500000%\")"
       ],
       "metadata": {},
       "output_type": "display_data"
      },
      {
       "javascript": [
        "$(\"#a6ca39a24-ff25-49ee-aebd-8a92e429f1d3 > .text > .main\").text(\"119/200 (59%) in 24.3 s, 0.20 s last iter; eta 16+-1 s\")"
       ],
       "metadata": {},
       "output_type": "display_data"
      },
      {
       "javascript": [
        "$(\"#a6ca39a24-ff25-49ee-aebd-8a92e429f1d3 > .text > .extra\").text(\"|||| Perplexity: 451.009304247; Topics_left: 150\")"
       ],
       "metadata": {},
       "output_type": "display_data"
      },
      {
       "javascript": [
        "$(\"#a6ca39a24-ff25-49ee-aebd-8a92e429f1d3 > .completed-part\").css(\"width\", \"60.000000%\")"
       ],
       "metadata": {},
       "output_type": "display_data"
      },
      {
       "javascript": [
        "$(\"#a6ca39a24-ff25-49ee-aebd-8a92e429f1d3 > .running-part\").css(\"width\", \"0.500000%\")"
       ],
       "metadata": {},
       "output_type": "display_data"
      },
      {
       "javascript": [
        "$(\"#a6ca39a24-ff25-49ee-aebd-8a92e429f1d3 > .text > .main\").text(\"120/200 (60%) in 24.5 s, 0.19 s last iter; eta 16+-1 s\")"
       ],
       "metadata": {},
       "output_type": "display_data"
      },
      {
       "javascript": [
        "$(\"#a6ca39a24-ff25-49ee-aebd-8a92e429f1d3 > .text > .extra\").text(\"|||| Perplexity: 450.975159053; Topics_left: 150\")"
       ],
       "metadata": {},
       "output_type": "display_data"
      },
      {
       "javascript": [
        "$(\"#a6ca39a24-ff25-49ee-aebd-8a92e429f1d3 > .completed-part\").css(\"width\", \"60.500000%\")"
       ],
       "metadata": {},
       "output_type": "display_data"
      },
      {
       "javascript": [
        "$(\"#a6ca39a24-ff25-49ee-aebd-8a92e429f1d3 > .running-part\").css(\"width\", \"0.500000%\")"
       ],
       "metadata": {},
       "output_type": "display_data"
      },
      {
       "javascript": [
        "$(\"#a6ca39a24-ff25-49ee-aebd-8a92e429f1d3 > .text > .main\").text(\"121/200 (60%) in 24.7 s, 0.21 s last iter; eta 16+-1 s\")"
       ],
       "metadata": {},
       "output_type": "display_data"
      },
      {
       "javascript": [
        "$(\"#a6ca39a24-ff25-49ee-aebd-8a92e429f1d3 > .text > .extra\").text(\"|||| Perplexity: 450.947280949; Topics_left: 150\")"
       ],
       "metadata": {},
       "output_type": "display_data"
      },
      {
       "javascript": [
        "$(\"#a6ca39a24-ff25-49ee-aebd-8a92e429f1d3 > .completed-part\").css(\"width\", \"61.000000%\")"
       ],
       "metadata": {},
       "output_type": "display_data"
      },
      {
       "javascript": [
        "$(\"#a6ca39a24-ff25-49ee-aebd-8a92e429f1d3 > .running-part\").css(\"width\", \"0.500000%\")"
       ],
       "metadata": {},
       "output_type": "display_data"
      },
      {
       "javascript": [
        "$(\"#a6ca39a24-ff25-49ee-aebd-8a92e429f1d3 > .text > .main\").text(\"122/200 (61%) in 24.9 s, 0.20 s last iter; eta 16+-1 s\")"
       ],
       "metadata": {},
       "output_type": "display_data"
      },
      {
       "javascript": [
        "$(\"#a6ca39a24-ff25-49ee-aebd-8a92e429f1d3 > .text > .extra\").text(\"|||| Perplexity: 450.892156289; Topics_left: 150\")"
       ],
       "metadata": {},
       "output_type": "display_data"
      },
      {
       "javascript": [
        "$(\"#a6ca39a24-ff25-49ee-aebd-8a92e429f1d3 > .completed-part\").css(\"width\", \"61.500000%\")"
       ],
       "metadata": {},
       "output_type": "display_data"
      },
      {
       "javascript": [
        "$(\"#a6ca39a24-ff25-49ee-aebd-8a92e429f1d3 > .running-part\").css(\"width\", \"0.500000%\")"
       ],
       "metadata": {},
       "output_type": "display_data"
      },
      {
       "javascript": [
        "$(\"#a6ca39a24-ff25-49ee-aebd-8a92e429f1d3 > .text > .main\").text(\"123/200 (61%) in 25.1 s, 0.20 s last iter; eta 16+-1 s\")"
       ],
       "metadata": {},
       "output_type": "display_data"
      },
      {
       "javascript": [
        "$(\"#a6ca39a24-ff25-49ee-aebd-8a92e429f1d3 > .text > .extra\").text(\"|||| Perplexity: 450.862091133; Topics_left: 150\")"
       ],
       "metadata": {},
       "output_type": "display_data"
      },
      {
       "javascript": [
        "$(\"#a6ca39a24-ff25-49ee-aebd-8a92e429f1d3 > .completed-part\").css(\"width\", \"62.000000%\")"
       ],
       "metadata": {},
       "output_type": "display_data"
      },
      {
       "javascript": [
        "$(\"#a6ca39a24-ff25-49ee-aebd-8a92e429f1d3 > .running-part\").css(\"width\", \"0.500000%\")"
       ],
       "metadata": {},
       "output_type": "display_data"
      },
      {
       "javascript": [
        "$(\"#a6ca39a24-ff25-49ee-aebd-8a92e429f1d3 > .text > .main\").text(\"124/200 (62%) in 25.3 s, 0.21 s last iter; eta 15+-1 s\")"
       ],
       "metadata": {},
       "output_type": "display_data"
      },
      {
       "javascript": [
        "$(\"#a6ca39a24-ff25-49ee-aebd-8a92e429f1d3 > .text > .extra\").text(\"|||| Perplexity: 450.845806677; Topics_left: 150\")"
       ],
       "metadata": {},
       "output_type": "display_data"
      },
      {
       "javascript": [
        "$(\"#a6ca39a24-ff25-49ee-aebd-8a92e429f1d3 > .completed-part\").css(\"width\", \"62.500000%\")"
       ],
       "metadata": {},
       "output_type": "display_data"
      },
      {
       "javascript": [
        "$(\"#a6ca39a24-ff25-49ee-aebd-8a92e429f1d3 > .running-part\").css(\"width\", \"0.500000%\")"
       ],
       "metadata": {},
       "output_type": "display_data"
      },
      {
       "javascript": [
        "$(\"#a6ca39a24-ff25-49ee-aebd-8a92e429f1d3 > .text > .main\").text(\"125/200 (62%) in 25.5 s, 0.20 s last iter; eta 15+-1 s\")"
       ],
       "metadata": {},
       "output_type": "display_data"
      },
      {
       "javascript": [
        "$(\"#a6ca39a24-ff25-49ee-aebd-8a92e429f1d3 > .text > .extra\").text(\"|||| Perplexity: 450.816684021; Topics_left: 150\")"
       ],
       "metadata": {},
       "output_type": "display_data"
      },
      {
       "javascript": [
        "$(\"#a6ca39a24-ff25-49ee-aebd-8a92e429f1d3 > .completed-part\").css(\"width\", \"63.000000%\")"
       ],
       "metadata": {},
       "output_type": "display_data"
      },
      {
       "javascript": [
        "$(\"#a6ca39a24-ff25-49ee-aebd-8a92e429f1d3 > .running-part\").css(\"width\", \"0.500000%\")"
       ],
       "metadata": {},
       "output_type": "display_data"
      },
      {
       "javascript": [
        "$(\"#a6ca39a24-ff25-49ee-aebd-8a92e429f1d3 > .text > .main\").text(\"126/200 (63%) in 25.7 s, 0.20 s last iter; eta 15+-1 s\")"
       ],
       "metadata": {},
       "output_type": "display_data"
      },
      {
       "javascript": [
        "$(\"#a6ca39a24-ff25-49ee-aebd-8a92e429f1d3 > .text > .extra\").text(\"|||| Perplexity: 450.789441948; Topics_left: 150\")"
       ],
       "metadata": {},
       "output_type": "display_data"
      },
      {
       "javascript": [
        "$(\"#a6ca39a24-ff25-49ee-aebd-8a92e429f1d3 > .completed-part\").css(\"width\", \"63.500000%\")"
       ],
       "metadata": {},
       "output_type": "display_data"
      },
      {
       "javascript": [
        "$(\"#a6ca39a24-ff25-49ee-aebd-8a92e429f1d3 > .running-part\").css(\"width\", \"0.500000%\")"
       ],
       "metadata": {},
       "output_type": "display_data"
      },
      {
       "javascript": [
        "$(\"#a6ca39a24-ff25-49ee-aebd-8a92e429f1d3 > .text > .main\").text(\"127/200 (63%) in 25.9 s, 0.21 s last iter; eta 15+-1 s\")"
       ],
       "metadata": {},
       "output_type": "display_data"
      },
      {
       "javascript": [
        "$(\"#a6ca39a24-ff25-49ee-aebd-8a92e429f1d3 > .text > .extra\").text(\"|||| Perplexity: 450.754687212; Topics_left: 150\")"
       ],
       "metadata": {},
       "output_type": "display_data"
      },
      {
       "javascript": [
        "$(\"#a6ca39a24-ff25-49ee-aebd-8a92e429f1d3 > .completed-part\").css(\"width\", \"64.000000%\")"
       ],
       "metadata": {},
       "output_type": "display_data"
      },
      {
       "javascript": [
        "$(\"#a6ca39a24-ff25-49ee-aebd-8a92e429f1d3 > .running-part\").css(\"width\", \"0.500000%\")"
       ],
       "metadata": {},
       "output_type": "display_data"
      },
      {
       "javascript": [
        "$(\"#a6ca39a24-ff25-49ee-aebd-8a92e429f1d3 > .text > .main\").text(\"128/200 (64%) in 26.1 s, 0.20 s last iter; eta 15+-1 s\")"
       ],
       "metadata": {},
       "output_type": "display_data"
      },
      {
       "javascript": [
        "$(\"#a6ca39a24-ff25-49ee-aebd-8a92e429f1d3 > .text > .extra\").text(\"|||| Perplexity: 450.731205799; Topics_left: 150\")"
       ],
       "metadata": {},
       "output_type": "display_data"
      },
      {
       "javascript": [
        "$(\"#a6ca39a24-ff25-49ee-aebd-8a92e429f1d3 > .completed-part\").css(\"width\", \"64.500000%\")"
       ],
       "metadata": {},
       "output_type": "display_data"
      },
      {
       "javascript": [
        "$(\"#a6ca39a24-ff25-49ee-aebd-8a92e429f1d3 > .running-part\").css(\"width\", \"0.500000%\")"
       ],
       "metadata": {},
       "output_type": "display_data"
      },
      {
       "javascript": [
        "$(\"#a6ca39a24-ff25-49ee-aebd-8a92e429f1d3 > .text > .main\").text(\"129/200 (64%) in 26.3 s, 0.20 s last iter; eta 14+-1 s\")"
       ],
       "metadata": {},
       "output_type": "display_data"
      },
      {
       "javascript": [
        "$(\"#a6ca39a24-ff25-49ee-aebd-8a92e429f1d3 > .text > .extra\").text(\"|||| Perplexity: 450.705534187; Topics_left: 150\")"
       ],
       "metadata": {},
       "output_type": "display_data"
      },
      {
       "javascript": [
        "$(\"#a6ca39a24-ff25-49ee-aebd-8a92e429f1d3 > .completed-part\").css(\"width\", \"65.000000%\")"
       ],
       "metadata": {},
       "output_type": "display_data"
      },
      {
       "javascript": [
        "$(\"#a6ca39a24-ff25-49ee-aebd-8a92e429f1d3 > .running-part\").css(\"width\", \"0.500000%\")"
       ],
       "metadata": {},
       "output_type": "display_data"
      },
      {
       "javascript": [
        "$(\"#a6ca39a24-ff25-49ee-aebd-8a92e429f1d3 > .text > .main\").text(\"130/200 (65%) in 26.5 s, 0.21 s last iter; eta 14+-1 s\")"
       ],
       "metadata": {},
       "output_type": "display_data"
      },
      {
       "javascript": [
        "$(\"#a6ca39a24-ff25-49ee-aebd-8a92e429f1d3 > .text > .extra\").text(\"|||| Perplexity: 450.676733631; Topics_left: 150\")"
       ],
       "metadata": {},
       "output_type": "display_data"
      },
      {
       "javascript": [
        "$(\"#a6ca39a24-ff25-49ee-aebd-8a92e429f1d3 > .completed-part\").css(\"width\", \"65.500000%\")"
       ],
       "metadata": {},
       "output_type": "display_data"
      },
      {
       "javascript": [
        "$(\"#a6ca39a24-ff25-49ee-aebd-8a92e429f1d3 > .running-part\").css(\"width\", \"0.500000%\")"
       ],
       "metadata": {},
       "output_type": "display_data"
      },
      {
       "javascript": [
        "$(\"#a6ca39a24-ff25-49ee-aebd-8a92e429f1d3 > .text > .main\").text(\"131/200 (65%) in 26.7 s, 0.19 s last iter; eta 14+-1 s\")"
       ],
       "metadata": {},
       "output_type": "display_data"
      },
      {
       "javascript": [
        "$(\"#a6ca39a24-ff25-49ee-aebd-8a92e429f1d3 > .text > .extra\").text(\"|||| Perplexity: 450.646995858; Topics_left: 150\")"
       ],
       "metadata": {},
       "output_type": "display_data"
      },
      {
       "javascript": [
        "$(\"#a6ca39a24-ff25-49ee-aebd-8a92e429f1d3 > .completed-part\").css(\"width\", \"66.000000%\")"
       ],
       "metadata": {},
       "output_type": "display_data"
      },
      {
       "javascript": [
        "$(\"#a6ca39a24-ff25-49ee-aebd-8a92e429f1d3 > .running-part\").css(\"width\", \"0.500000%\")"
       ],
       "metadata": {},
       "output_type": "display_data"
      },
      {
       "javascript": [
        "$(\"#a6ca39a24-ff25-49ee-aebd-8a92e429f1d3 > .text > .main\").text(\"132/200 (66%) in 26.9 s, 0.20 s last iter; eta 14+-1 s\")"
       ],
       "metadata": {},
       "output_type": "display_data"
      },
      {
       "javascript": [
        "$(\"#a6ca39a24-ff25-49ee-aebd-8a92e429f1d3 > .text > .extra\").text(\"|||| Perplexity: 450.637918402; Topics_left: 150\")"
       ],
       "metadata": {},
       "output_type": "display_data"
      },
      {
       "javascript": [
        "$(\"#a6ca39a24-ff25-49ee-aebd-8a92e429f1d3 > .completed-part\").css(\"width\", \"66.500000%\")"
       ],
       "metadata": {},
       "output_type": "display_data"
      },
      {
       "javascript": [
        "$(\"#a6ca39a24-ff25-49ee-aebd-8a92e429f1d3 > .running-part\").css(\"width\", \"0.500000%\")"
       ],
       "metadata": {},
       "output_type": "display_data"
      },
      {
       "javascript": [
        "$(\"#a6ca39a24-ff25-49ee-aebd-8a92e429f1d3 > .text > .main\").text(\"133/200 (66%) in 27.1 s, 0.21 s last iter; eta 14+-1 s\")"
       ],
       "metadata": {},
       "output_type": "display_data"
      },
      {
       "javascript": [
        "$(\"#a6ca39a24-ff25-49ee-aebd-8a92e429f1d3 > .text > .extra\").text(\"|||| Perplexity: 450.609748153; Topics_left: 150\")"
       ],
       "metadata": {},
       "output_type": "display_data"
      },
      {
       "javascript": [
        "$(\"#a6ca39a24-ff25-49ee-aebd-8a92e429f1d3 > .completed-part\").css(\"width\", \"67.000000%\")"
       ],
       "metadata": {},
       "output_type": "display_data"
      },
      {
       "javascript": [
        "$(\"#a6ca39a24-ff25-49ee-aebd-8a92e429f1d3 > .running-part\").css(\"width\", \"0.500000%\")"
       ],
       "metadata": {},
       "output_type": "display_data"
      },
      {
       "javascript": [
        "$(\"#a6ca39a24-ff25-49ee-aebd-8a92e429f1d3 > .text > .main\").text(\"134/200 (67%) in 27.3 s, 0.19 s last iter; eta 13+-1 s\")"
       ],
       "metadata": {},
       "output_type": "display_data"
      },
      {
       "javascript": [
        "$(\"#a6ca39a24-ff25-49ee-aebd-8a92e429f1d3 > .text > .extra\").text(\"|||| Perplexity: 450.595976671; Topics_left: 150\")"
       ],
       "metadata": {},
       "output_type": "display_data"
      },
      {
       "javascript": [
        "$(\"#a6ca39a24-ff25-49ee-aebd-8a92e429f1d3 > .completed-part\").css(\"width\", \"67.500000%\")"
       ],
       "metadata": {},
       "output_type": "display_data"
      },
      {
       "javascript": [
        "$(\"#a6ca39a24-ff25-49ee-aebd-8a92e429f1d3 > .running-part\").css(\"width\", \"0.500000%\")"
       ],
       "metadata": {},
       "output_type": "display_data"
      },
      {
       "javascript": [
        "$(\"#a6ca39a24-ff25-49ee-aebd-8a92e429f1d3 > .text > .main\").text(\"135/200 (67%) in 27.5 s, 0.19 s last iter; eta 13+-1 s\")"
       ],
       "metadata": {},
       "output_type": "display_data"
      },
      {
       "javascript": [
        "$(\"#a6ca39a24-ff25-49ee-aebd-8a92e429f1d3 > .text > .extra\").text(\"|||| Perplexity: 450.580640745; Topics_left: 150\")"
       ],
       "metadata": {},
       "output_type": "display_data"
      },
      {
       "javascript": [
        "$(\"#a6ca39a24-ff25-49ee-aebd-8a92e429f1d3 > .completed-part\").css(\"width\", \"68.000000%\")"
       ],
       "metadata": {},
       "output_type": "display_data"
      },
      {
       "javascript": [
        "$(\"#a6ca39a24-ff25-49ee-aebd-8a92e429f1d3 > .running-part\").css(\"width\", \"0.500000%\")"
       ],
       "metadata": {},
       "output_type": "display_data"
      },
      {
       "javascript": [
        "$(\"#a6ca39a24-ff25-49ee-aebd-8a92e429f1d3 > .text > .main\").text(\"136/200 (68%) in 27.7 s, 0.21 s last iter; eta 13+-1 s\")"
       ],
       "metadata": {},
       "output_type": "display_data"
      },
      {
       "javascript": [
        "$(\"#a6ca39a24-ff25-49ee-aebd-8a92e429f1d3 > .text > .extra\").text(\"|||| Perplexity: 450.564366454; Topics_left: 150\")"
       ],
       "metadata": {},
       "output_type": "display_data"
      },
      {
       "javascript": [
        "$(\"#a6ca39a24-ff25-49ee-aebd-8a92e429f1d3 > .completed-part\").css(\"width\", \"68.500000%\")"
       ],
       "metadata": {},
       "output_type": "display_data"
      },
      {
       "javascript": [
        "$(\"#a6ca39a24-ff25-49ee-aebd-8a92e429f1d3 > .running-part\").css(\"width\", \"0.500000%\")"
       ],
       "metadata": {},
       "output_type": "display_data"
      },
      {
       "javascript": [
        "$(\"#a6ca39a24-ff25-49ee-aebd-8a92e429f1d3 > .text > .main\").text(\"137/200 (68%) in 27.9 s, 0.20 s last iter; eta 13+-1 s\")"
       ],
       "metadata": {},
       "output_type": "display_data"
      },
      {
       "javascript": [
        "$(\"#a6ca39a24-ff25-49ee-aebd-8a92e429f1d3 > .text > .extra\").text(\"|||| Perplexity: 450.538391401; Topics_left: 150\")"
       ],
       "metadata": {},
       "output_type": "display_data"
      },
      {
       "javascript": [
        "$(\"#a6ca39a24-ff25-49ee-aebd-8a92e429f1d3 > .completed-part\").css(\"width\", \"69.000000%\")"
       ],
       "metadata": {},
       "output_type": "display_data"
      },
      {
       "javascript": [
        "$(\"#a6ca39a24-ff25-49ee-aebd-8a92e429f1d3 > .running-part\").css(\"width\", \"0.500000%\")"
       ],
       "metadata": {},
       "output_type": "display_data"
      },
      {
       "javascript": [
        "$(\"#a6ca39a24-ff25-49ee-aebd-8a92e429f1d3 > .text > .main\").text(\"138/200 (69%) in 28.1 s, 0.19 s last iter; eta 13+-1 s\")"
       ],
       "metadata": {},
       "output_type": "display_data"
      },
      {
       "javascript": [
        "$(\"#a6ca39a24-ff25-49ee-aebd-8a92e429f1d3 > .text > .extra\").text(\"|||| Perplexity: 450.51554711; Topics_left: 150\")"
       ],
       "metadata": {},
       "output_type": "display_data"
      },
      {
       "javascript": [
        "$(\"#a6ca39a24-ff25-49ee-aebd-8a92e429f1d3 > .completed-part\").css(\"width\", \"69.500000%\")"
       ],
       "metadata": {},
       "output_type": "display_data"
      },
      {
       "javascript": [
        "$(\"#a6ca39a24-ff25-49ee-aebd-8a92e429f1d3 > .running-part\").css(\"width\", \"0.500000%\")"
       ],
       "metadata": {},
       "output_type": "display_data"
      },
      {
       "javascript": [
        "$(\"#a6ca39a24-ff25-49ee-aebd-8a92e429f1d3 > .text > .main\").text(\"139/200 (69%) in 28.3 s, 0.21 s last iter; eta 12+-1 s\")"
       ],
       "metadata": {},
       "output_type": "display_data"
      },
      {
       "javascript": [
        "$(\"#a6ca39a24-ff25-49ee-aebd-8a92e429f1d3 > .text > .extra\").text(\"|||| Perplexity: 450.50553354; Topics_left: 150\")"
       ],
       "metadata": {},
       "output_type": "display_data"
      },
      {
       "javascript": [
        "$(\"#a6ca39a24-ff25-49ee-aebd-8a92e429f1d3 > .completed-part\").css(\"width\", \"70.000000%\")"
       ],
       "metadata": {},
       "output_type": "display_data"
      },
      {
       "javascript": [
        "$(\"#a6ca39a24-ff25-49ee-aebd-8a92e429f1d3 > .running-part\").css(\"width\", \"0.500000%\")"
       ],
       "metadata": {},
       "output_type": "display_data"
      },
      {
       "javascript": [
        "$(\"#a6ca39a24-ff25-49ee-aebd-8a92e429f1d3 > .text > .main\").text(\"140/200 (70%) in 28.5 s, 0.19 s last iter; eta 12+-0 s\")"
       ],
       "metadata": {},
       "output_type": "display_data"
      },
      {
       "javascript": [
        "$(\"#a6ca39a24-ff25-49ee-aebd-8a92e429f1d3 > .text > .extra\").text(\"|||| Perplexity: 450.479874781; Topics_left: 150\")"
       ],
       "metadata": {},
       "output_type": "display_data"
      },
      {
       "javascript": [
        "$(\"#a6ca39a24-ff25-49ee-aebd-8a92e429f1d3 > .completed-part\").css(\"width\", \"70.500000%\")"
       ],
       "metadata": {},
       "output_type": "display_data"
      },
      {
       "javascript": [
        "$(\"#a6ca39a24-ff25-49ee-aebd-8a92e429f1d3 > .running-part\").css(\"width\", \"0.500000%\")"
       ],
       "metadata": {},
       "output_type": "display_data"
      },
      {
       "javascript": [
        "$(\"#a6ca39a24-ff25-49ee-aebd-8a92e429f1d3 > .text > .main\").text(\"141/200 (70%) in 28.7 s, 0.19 s last iter; eta 12+-0 s\")"
       ],
       "metadata": {},
       "output_type": "display_data"
      },
      {
       "javascript": [
        "$(\"#a6ca39a24-ff25-49ee-aebd-8a92e429f1d3 > .text > .extra\").text(\"|||| Perplexity: 450.452027294; Topics_left: 150\")"
       ],
       "metadata": {},
       "output_type": "display_data"
      },
      {
       "javascript": [
        "$(\"#a6ca39a24-ff25-49ee-aebd-8a92e429f1d3 > .completed-part\").css(\"width\", \"71.000000%\")"
       ],
       "metadata": {},
       "output_type": "display_data"
      },
      {
       "javascript": [
        "$(\"#a6ca39a24-ff25-49ee-aebd-8a92e429f1d3 > .running-part\").css(\"width\", \"0.500000%\")"
       ],
       "metadata": {},
       "output_type": "display_data"
      },
      {
       "javascript": [
        "$(\"#a6ca39a24-ff25-49ee-aebd-8a92e429f1d3 > .text > .main\").text(\"142/200 (71%) in 28.9 s, 0.22 s last iter; eta 12+-0 s\")"
       ],
       "metadata": {},
       "output_type": "display_data"
      },
      {
       "javascript": [
        "$(\"#a6ca39a24-ff25-49ee-aebd-8a92e429f1d3 > .text > .extra\").text(\"|||| Perplexity: 450.423868665; Topics_left: 150\")"
       ],
       "metadata": {},
       "output_type": "display_data"
      },
      {
       "javascript": [
        "$(\"#a6ca39a24-ff25-49ee-aebd-8a92e429f1d3 > .completed-part\").css(\"width\", \"71.500000%\")"
       ],
       "metadata": {},
       "output_type": "display_data"
      },
      {
       "javascript": [
        "$(\"#a6ca39a24-ff25-49ee-aebd-8a92e429f1d3 > .running-part\").css(\"width\", \"0.500000%\")"
       ],
       "metadata": {},
       "output_type": "display_data"
      },
      {
       "javascript": [
        "$(\"#a6ca39a24-ff25-49ee-aebd-8a92e429f1d3 > .text > .main\").text(\"143/200 (71%) in 29.1 s, 0.20 s last iter; eta 12+-0 s\")"
       ],
       "metadata": {},
       "output_type": "display_data"
      },
      {
       "javascript": [
        "$(\"#a6ca39a24-ff25-49ee-aebd-8a92e429f1d3 > .text > .extra\").text(\"|||| Perplexity: 450.402594424; Topics_left: 150\")"
       ],
       "metadata": {},
       "output_type": "display_data"
      },
      {
       "javascript": [
        "$(\"#a6ca39a24-ff25-49ee-aebd-8a92e429f1d3 > .completed-part\").css(\"width\", \"72.000000%\")"
       ],
       "metadata": {},
       "output_type": "display_data"
      },
      {
       "javascript": [
        "$(\"#a6ca39a24-ff25-49ee-aebd-8a92e429f1d3 > .running-part\").css(\"width\", \"0.500000%\")"
       ],
       "metadata": {},
       "output_type": "display_data"
      },
      {
       "javascript": [
        "$(\"#a6ca39a24-ff25-49ee-aebd-8a92e429f1d3 > .text > .main\").text(\"144/200 (72%) in 29.3 s, 0.20 s last iter; eta 11+-0 s\")"
       ],
       "metadata": {},
       "output_type": "display_data"
      },
      {
       "javascript": [
        "$(\"#a6ca39a24-ff25-49ee-aebd-8a92e429f1d3 > .text > .extra\").text(\"|||| Perplexity: 450.379757018; Topics_left: 150\")"
       ],
       "metadata": {},
       "output_type": "display_data"
      },
      {
       "javascript": [
        "$(\"#a6ca39a24-ff25-49ee-aebd-8a92e429f1d3 > .completed-part\").css(\"width\", \"72.500000%\")"
       ],
       "metadata": {},
       "output_type": "display_data"
      },
      {
       "javascript": [
        "$(\"#a6ca39a24-ff25-49ee-aebd-8a92e429f1d3 > .running-part\").css(\"width\", \"0.500000%\")"
       ],
       "metadata": {},
       "output_type": "display_data"
      },
      {
       "javascript": [
        "$(\"#a6ca39a24-ff25-49ee-aebd-8a92e429f1d3 > .text > .main\").text(\"145/200 (72%) in 29.5 s, 0.21 s last iter; eta 11+-0 s\")"
       ],
       "metadata": {},
       "output_type": "display_data"
      },
      {
       "javascript": [
        "$(\"#a6ca39a24-ff25-49ee-aebd-8a92e429f1d3 > .text > .extra\").text(\"|||| Perplexity: 450.370997773; Topics_left: 150\")"
       ],
       "metadata": {},
       "output_type": "display_data"
      },
      {
       "javascript": [
        "$(\"#a6ca39a24-ff25-49ee-aebd-8a92e429f1d3 > .completed-part\").css(\"width\", \"73.000000%\")"
       ],
       "metadata": {},
       "output_type": "display_data"
      },
      {
       "javascript": [
        "$(\"#a6ca39a24-ff25-49ee-aebd-8a92e429f1d3 > .running-part\").css(\"width\", \"0.500000%\")"
       ],
       "metadata": {},
       "output_type": "display_data"
      },
      {
       "javascript": [
        "$(\"#a6ca39a24-ff25-49ee-aebd-8a92e429f1d3 > .text > .main\").text(\"146/200 (73%) in 29.7 s, 0.20 s last iter; eta 11+-0 s\")"
       ],
       "metadata": {},
       "output_type": "display_data"
      },
      {
       "javascript": [
        "$(\"#a6ca39a24-ff25-49ee-aebd-8a92e429f1d3 > .text > .extra\").text(\"|||| Perplexity: 450.349413216; Topics_left: 150\")"
       ],
       "metadata": {},
       "output_type": "display_data"
      },
      {
       "javascript": [
        "$(\"#a6ca39a24-ff25-49ee-aebd-8a92e429f1d3 > .completed-part\").css(\"width\", \"73.500000%\")"
       ],
       "metadata": {},
       "output_type": "display_data"
      },
      {
       "javascript": [
        "$(\"#a6ca39a24-ff25-49ee-aebd-8a92e429f1d3 > .running-part\").css(\"width\", \"0.500000%\")"
       ],
       "metadata": {},
       "output_type": "display_data"
      },
      {
       "javascript": [
        "$(\"#a6ca39a24-ff25-49ee-aebd-8a92e429f1d3 > .text > .main\").text(\"147/200 (73%) in 29.9 s, 0.20 s last iter; eta 11+-0 s\")"
       ],
       "metadata": {},
       "output_type": "display_data"
      },
      {
       "javascript": [
        "$(\"#a6ca39a24-ff25-49ee-aebd-8a92e429f1d3 > .text > .extra\").text(\"|||| Perplexity: 450.321261002; Topics_left: 150\")"
       ],
       "metadata": {},
       "output_type": "display_data"
      },
      {
       "javascript": [
        "$(\"#a6ca39a24-ff25-49ee-aebd-8a92e429f1d3 > .completed-part\").css(\"width\", \"74.000000%\")"
       ],
       "metadata": {},
       "output_type": "display_data"
      },
      {
       "javascript": [
        "$(\"#a6ca39a24-ff25-49ee-aebd-8a92e429f1d3 > .running-part\").css(\"width\", \"0.500000%\")"
       ],
       "metadata": {},
       "output_type": "display_data"
      },
      {
       "javascript": [
        "$(\"#a6ca39a24-ff25-49ee-aebd-8a92e429f1d3 > .text > .main\").text(\"148/200 (74%) in 30.2 s, 0.21 s last iter; eta 11+-0 s\")"
       ],
       "metadata": {},
       "output_type": "display_data"
      },
      {
       "javascript": [
        "$(\"#a6ca39a24-ff25-49ee-aebd-8a92e429f1d3 > .text > .extra\").text(\"|||| Perplexity: 450.307811121; Topics_left: 150\")"
       ],
       "metadata": {},
       "output_type": "display_data"
      },
      {
       "javascript": [
        "$(\"#a6ca39a24-ff25-49ee-aebd-8a92e429f1d3 > .completed-part\").css(\"width\", \"74.500000%\")"
       ],
       "metadata": {},
       "output_type": "display_data"
      },
      {
       "javascript": [
        "$(\"#a6ca39a24-ff25-49ee-aebd-8a92e429f1d3 > .running-part\").css(\"width\", \"0.500000%\")"
       ],
       "metadata": {},
       "output_type": "display_data"
      },
      {
       "javascript": [
        "$(\"#a6ca39a24-ff25-49ee-aebd-8a92e429f1d3 > .text > .main\").text(\"149/200 (74%) in 30.4 s, 0.20 s last iter; eta 10+-0 s\")"
       ],
       "metadata": {},
       "output_type": "display_data"
      },
      {
       "javascript": [
        "$(\"#a6ca39a24-ff25-49ee-aebd-8a92e429f1d3 > .text > .extra\").text(\"|||| Perplexity: 450.285916824; Topics_left: 150\")"
       ],
       "metadata": {},
       "output_type": "display_data"
      },
      {
       "javascript": [
        "$(\"#a6ca39a24-ff25-49ee-aebd-8a92e429f1d3 > .completed-part\").css(\"width\", \"75.000000%\")"
       ],
       "metadata": {},
       "output_type": "display_data"
      },
      {
       "javascript": [
        "$(\"#a6ca39a24-ff25-49ee-aebd-8a92e429f1d3 > .running-part\").css(\"width\", \"0.500000%\")"
       ],
       "metadata": {},
       "output_type": "display_data"
      },
      {
       "javascript": [
        "$(\"#a6ca39a24-ff25-49ee-aebd-8a92e429f1d3 > .text > .main\").text(\"150/200 (75%) in 30.6 s, 0.20 s last iter; eta 10+-0 s\")"
       ],
       "metadata": {},
       "output_type": "display_data"
      },
      {
       "javascript": [
        "$(\"#a6ca39a24-ff25-49ee-aebd-8a92e429f1d3 > .text > .extra\").text(\"|||| Perplexity: 450.263398087; Topics_left: 150\")"
       ],
       "metadata": {},
       "output_type": "display_data"
      },
      {
       "javascript": [
        "$(\"#a6ca39a24-ff25-49ee-aebd-8a92e429f1d3 > .completed-part\").css(\"width\", \"75.500000%\")"
       ],
       "metadata": {},
       "output_type": "display_data"
      },
      {
       "javascript": [
        "$(\"#a6ca39a24-ff25-49ee-aebd-8a92e429f1d3 > .running-part\").css(\"width\", \"0.500000%\")"
       ],
       "metadata": {},
       "output_type": "display_data"
      },
      {
       "javascript": [
        "$(\"#a6ca39a24-ff25-49ee-aebd-8a92e429f1d3 > .text > .main\").text(\"151/200 (75%) in 30.8 s, 0.21 s last iter; eta 10+-0 s\")"
       ],
       "metadata": {},
       "output_type": "display_data"
      },
      {
       "javascript": [
        "$(\"#a6ca39a24-ff25-49ee-aebd-8a92e429f1d3 > .text > .extra\").text(\"|||| Perplexity: 450.227120269; Topics_left: 150\")"
       ],
       "metadata": {},
       "output_type": "display_data"
      },
      {
       "javascript": [
        "$(\"#a6ca39a24-ff25-49ee-aebd-8a92e429f1d3 > .completed-part\").css(\"width\", \"76.000000%\")"
       ],
       "metadata": {},
       "output_type": "display_data"
      },
      {
       "javascript": [
        "$(\"#a6ca39a24-ff25-49ee-aebd-8a92e429f1d3 > .running-part\").css(\"width\", \"0.500000%\")"
       ],
       "metadata": {},
       "output_type": "display_data"
      },
      {
       "javascript": [
        "$(\"#a6ca39a24-ff25-49ee-aebd-8a92e429f1d3 > .text > .main\").text(\"152/200 (76%) in 31.0 s, 0.20 s last iter; eta 10+-0 s\")"
       ],
       "metadata": {},
       "output_type": "display_data"
      },
      {
       "javascript": [
        "$(\"#a6ca39a24-ff25-49ee-aebd-8a92e429f1d3 > .text > .extra\").text(\"|||| Perplexity: 450.201164658; Topics_left: 150\")"
       ],
       "metadata": {},
       "output_type": "display_data"
      },
      {
       "javascript": [
        "$(\"#a6ca39a24-ff25-49ee-aebd-8a92e429f1d3 > .completed-part\").css(\"width\", \"76.500000%\")"
       ],
       "metadata": {},
       "output_type": "display_data"
      },
      {
       "javascript": [
        "$(\"#a6ca39a24-ff25-49ee-aebd-8a92e429f1d3 > .running-part\").css(\"width\", \"0.500000%\")"
       ],
       "metadata": {},
       "output_type": "display_data"
      },
      {
       "javascript": [
        "$(\"#a6ca39a24-ff25-49ee-aebd-8a92e429f1d3 > .text > .main\").text(\"153/200 (76%) in 31.2 s, 0.20 s last iter; eta 10+-0 s\")"
       ],
       "metadata": {},
       "output_type": "display_data"
      },
      {
       "javascript": [
        "$(\"#a6ca39a24-ff25-49ee-aebd-8a92e429f1d3 > .text > .extra\").text(\"|||| Perplexity: 450.176774002; Topics_left: 150\")"
       ],
       "metadata": {},
       "output_type": "display_data"
      },
      {
       "javascript": [
        "$(\"#a6ca39a24-ff25-49ee-aebd-8a92e429f1d3 > .completed-part\").css(\"width\", \"77.000000%\")"
       ],
       "metadata": {},
       "output_type": "display_data"
      },
      {
       "javascript": [
        "$(\"#a6ca39a24-ff25-49ee-aebd-8a92e429f1d3 > .running-part\").css(\"width\", \"0.500000%\")"
       ],
       "metadata": {},
       "output_type": "display_data"
      },
      {
       "javascript": [
        "$(\"#a6ca39a24-ff25-49ee-aebd-8a92e429f1d3 > .text > .main\").text(\"154/200 (77%) in 31.4 s, 0.21 s last iter; eta 9+-0 s\")"
       ],
       "metadata": {},
       "output_type": "display_data"
      },
      {
       "javascript": [
        "$(\"#a6ca39a24-ff25-49ee-aebd-8a92e429f1d3 > .text > .extra\").text(\"|||| Perplexity: 450.158638217; Topics_left: 150\")"
       ],
       "metadata": {},
       "output_type": "display_data"
      },
      {
       "javascript": [
        "$(\"#a6ca39a24-ff25-49ee-aebd-8a92e429f1d3 > .completed-part\").css(\"width\", \"77.500000%\")"
       ],
       "metadata": {},
       "output_type": "display_data"
      },
      {
       "javascript": [
        "$(\"#a6ca39a24-ff25-49ee-aebd-8a92e429f1d3 > .running-part\").css(\"width\", \"0.500000%\")"
       ],
       "metadata": {},
       "output_type": "display_data"
      },
      {
       "javascript": [
        "$(\"#a6ca39a24-ff25-49ee-aebd-8a92e429f1d3 > .text > .main\").text(\"155/200 (77%) in 31.6 s, 0.20 s last iter; eta 9+-0 s\")"
       ],
       "metadata": {},
       "output_type": "display_data"
      },
      {
       "javascript": [
        "$(\"#a6ca39a24-ff25-49ee-aebd-8a92e429f1d3 > .text > .extra\").text(\"|||| Perplexity: 450.144880522; Topics_left: 150\")"
       ],
       "metadata": {},
       "output_type": "display_data"
      },
      {
       "javascript": [
        "$(\"#a6ca39a24-ff25-49ee-aebd-8a92e429f1d3 > .completed-part\").css(\"width\", \"78.000000%\")"
       ],
       "metadata": {},
       "output_type": "display_data"
      },
      {
       "javascript": [
        "$(\"#a6ca39a24-ff25-49ee-aebd-8a92e429f1d3 > .running-part\").css(\"width\", \"0.500000%\")"
       ],
       "metadata": {},
       "output_type": "display_data"
      },
      {
       "javascript": [
        "$(\"#a6ca39a24-ff25-49ee-aebd-8a92e429f1d3 > .text > .main\").text(\"156/200 (78%) in 31.8 s, 0.20 s last iter; eta 9+-0 s\")"
       ],
       "metadata": {},
       "output_type": "display_data"
      },
      {
       "javascript": [
        "$(\"#a6ca39a24-ff25-49ee-aebd-8a92e429f1d3 > .text > .extra\").text(\"|||| Perplexity: 450.130497928; Topics_left: 150\")"
       ],
       "metadata": {},
       "output_type": "display_data"
      },
      {
       "javascript": [
        "$(\"#a6ca39a24-ff25-49ee-aebd-8a92e429f1d3 > .completed-part\").css(\"width\", \"78.500000%\")"
       ],
       "metadata": {},
       "output_type": "display_data"
      },
      {
       "javascript": [
        "$(\"#a6ca39a24-ff25-49ee-aebd-8a92e429f1d3 > .running-part\").css(\"width\", \"0.500000%\")"
       ],
       "metadata": {},
       "output_type": "display_data"
      },
      {
       "javascript": [
        "$(\"#a6ca39a24-ff25-49ee-aebd-8a92e429f1d3 > .text > .main\").text(\"157/200 (78%) in 32.0 s, 0.21 s last iter; eta 9+-0 s\")"
       ],
       "metadata": {},
       "output_type": "display_data"
      },
      {
       "javascript": [
        "$(\"#a6ca39a24-ff25-49ee-aebd-8a92e429f1d3 > .text > .extra\").text(\"|||| Perplexity: 450.126746022; Topics_left: 150\")"
       ],
       "metadata": {},
       "output_type": "display_data"
      },
      {
       "javascript": [
        "$(\"#a6ca39a24-ff25-49ee-aebd-8a92e429f1d3 > .completed-part\").css(\"width\", \"79.000000%\")"
       ],
       "metadata": {},
       "output_type": "display_data"
      },
      {
       "javascript": [
        "$(\"#a6ca39a24-ff25-49ee-aebd-8a92e429f1d3 > .running-part\").css(\"width\", \"0.500000%\")"
       ],
       "metadata": {},
       "output_type": "display_data"
      },
      {
       "javascript": [
        "$(\"#a6ca39a24-ff25-49ee-aebd-8a92e429f1d3 > .text > .main\").text(\"158/200 (79%) in 32.2 s, 0.20 s last iter; eta 9+-0 s\")"
       ],
       "metadata": {},
       "output_type": "display_data"
      },
      {
       "javascript": [
        "$(\"#a6ca39a24-ff25-49ee-aebd-8a92e429f1d3 > .text > .extra\").text(\"|||| Perplexity: 450.122681493; Topics_left: 150\")"
       ],
       "metadata": {},
       "output_type": "display_data"
      },
      {
       "javascript": [
        "$(\"#a6ca39a24-ff25-49ee-aebd-8a92e429f1d3 > .completed-part\").css(\"width\", \"79.500000%\")"
       ],
       "metadata": {},
       "output_type": "display_data"
      },
      {
       "javascript": [
        "$(\"#a6ca39a24-ff25-49ee-aebd-8a92e429f1d3 > .running-part\").css(\"width\", \"0.500000%\")"
       ],
       "metadata": {},
       "output_type": "display_data"
      },
      {
       "javascript": [
        "$(\"#a6ca39a24-ff25-49ee-aebd-8a92e429f1d3 > .text > .main\").text(\"159/200 (79%) in 32.4 s, 0.20 s last iter; eta 8+-0 s\")"
       ],
       "metadata": {},
       "output_type": "display_data"
      },
      {
       "javascript": [
        "$(\"#a6ca39a24-ff25-49ee-aebd-8a92e429f1d3 > .text > .extra\").text(\"|||| Perplexity: 450.113301951; Topics_left: 150\")"
       ],
       "metadata": {},
       "output_type": "display_data"
      },
      {
       "javascript": [
        "$(\"#a6ca39a24-ff25-49ee-aebd-8a92e429f1d3 > .completed-part\").css(\"width\", \"80.000000%\")"
       ],
       "metadata": {},
       "output_type": "display_data"
      },
      {
       "javascript": [
        "$(\"#a6ca39a24-ff25-49ee-aebd-8a92e429f1d3 > .running-part\").css(\"width\", \"0.500000%\")"
       ],
       "metadata": {},
       "output_type": "display_data"
      },
      {
       "javascript": [
        "$(\"#a6ca39a24-ff25-49ee-aebd-8a92e429f1d3 > .text > .main\").text(\"160/200 (80%) in 32.6 s, 0.21 s last iter; eta 8+-0 s\")"
       ],
       "metadata": {},
       "output_type": "display_data"
      },
      {
       "javascript": [
        "$(\"#a6ca39a24-ff25-49ee-aebd-8a92e429f1d3 > .text > .extra\").text(\"|||| Perplexity: 450.111738713; Topics_left: 150\")"
       ],
       "metadata": {},
       "output_type": "display_data"
      },
      {
       "javascript": [
        "$(\"#a6ca39a24-ff25-49ee-aebd-8a92e429f1d3 > .completed-part\").css(\"width\", \"80.500000%\")"
       ],
       "metadata": {},
       "output_type": "display_data"
      },
      {
       "javascript": [
        "$(\"#a6ca39a24-ff25-49ee-aebd-8a92e429f1d3 > .running-part\").css(\"width\", \"0.500000%\")"
       ],
       "metadata": {},
       "output_type": "display_data"
      },
      {
       "javascript": [
        "$(\"#a6ca39a24-ff25-49ee-aebd-8a92e429f1d3 > .text > .main\").text(\"161/200 (80%) in 32.8 s, 0.20 s last iter; eta 8+-0 s\")"
       ],
       "metadata": {},
       "output_type": "display_data"
      },
      {
       "javascript": [
        "$(\"#a6ca39a24-ff25-49ee-aebd-8a92e429f1d3 > .text > .extra\").text(\"|||| Perplexity: 450.107674319; Topics_left: 150\")"
       ],
       "metadata": {},
       "output_type": "display_data"
      },
      {
       "javascript": [
        "$(\"#a6ca39a24-ff25-49ee-aebd-8a92e429f1d3 > .completed-part\").css(\"width\", \"81.000000%\")"
       ],
       "metadata": {},
       "output_type": "display_data"
      },
      {
       "javascript": [
        "$(\"#a6ca39a24-ff25-49ee-aebd-8a92e429f1d3 > .running-part\").css(\"width\", \"0.500000%\")"
       ],
       "metadata": {},
       "output_type": "display_data"
      },
      {
       "javascript": [
        "$(\"#a6ca39a24-ff25-49ee-aebd-8a92e429f1d3 > .text > .main\").text(\"162/200 (81%) in 33.0 s, 0.20 s last iter; eta 8+-0 s\")"
       ],
       "metadata": {},
       "output_type": "display_data"
      },
      {
       "javascript": [
        "$(\"#a6ca39a24-ff25-49ee-aebd-8a92e429f1d3 > .text > .extra\").text(\"|||| Perplexity: 450.095168723; Topics_left: 150\")"
       ],
       "metadata": {},
       "output_type": "display_data"
      },
      {
       "javascript": [
        "$(\"#a6ca39a24-ff25-49ee-aebd-8a92e429f1d3 > .completed-part\").css(\"width\", \"81.500000%\")"
       ],
       "metadata": {},
       "output_type": "display_data"
      },
      {
       "javascript": [
        "$(\"#a6ca39a24-ff25-49ee-aebd-8a92e429f1d3 > .running-part\").css(\"width\", \"0.500000%\")"
       ],
       "metadata": {},
       "output_type": "display_data"
      },
      {
       "javascript": [
        "$(\"#a6ca39a24-ff25-49ee-aebd-8a92e429f1d3 > .text > .main\").text(\"163/200 (81%) in 33.2 s, 0.21 s last iter; eta 8+-0 s\")"
       ],
       "metadata": {},
       "output_type": "display_data"
      },
      {
       "javascript": [
        "$(\"#a6ca39a24-ff25-49ee-aebd-8a92e429f1d3 > .text > .extra\").text(\"|||| Perplexity: 450.06640717; Topics_left: 150\")"
       ],
       "metadata": {},
       "output_type": "display_data"
      },
      {
       "javascript": [
        "$(\"#a6ca39a24-ff25-49ee-aebd-8a92e429f1d3 > .completed-part\").css(\"width\", \"82.000000%\")"
       ],
       "metadata": {},
       "output_type": "display_data"
      },
      {
       "javascript": [
        "$(\"#a6ca39a24-ff25-49ee-aebd-8a92e429f1d3 > .running-part\").css(\"width\", \"0.500000%\")"
       ],
       "metadata": {},
       "output_type": "display_data"
      },
      {
       "javascript": [
        "$(\"#a6ca39a24-ff25-49ee-aebd-8a92e429f1d3 > .text > .main\").text(\"164/200 (82%) in 33.4 s, 0.20 s last iter; eta 7+-0 s\")"
       ],
       "metadata": {},
       "output_type": "display_data"
      },
      {
       "javascript": [
        "$(\"#a6ca39a24-ff25-49ee-aebd-8a92e429f1d3 > .text > .extra\").text(\"|||| Perplexity: 450.055465757; Topics_left: 150\")"
       ],
       "metadata": {},
       "output_type": "display_data"
      },
      {
       "javascript": [
        "$(\"#a6ca39a24-ff25-49ee-aebd-8a92e429f1d3 > .completed-part\").css(\"width\", \"82.500000%\")"
       ],
       "metadata": {},
       "output_type": "display_data"
      },
      {
       "javascript": [
        "$(\"#a6ca39a24-ff25-49ee-aebd-8a92e429f1d3 > .running-part\").css(\"width\", \"0.500000%\")"
       ],
       "metadata": {},
       "output_type": "display_data"
      },
      {
       "javascript": [
        "$(\"#a6ca39a24-ff25-49ee-aebd-8a92e429f1d3 > .text > .main\").text(\"165/200 (82%) in 33.6 s, 0.20 s last iter; eta 7+-0 s\")"
       ],
       "metadata": {},
       "output_type": "display_data"
      },
      {
       "javascript": [
        "$(\"#a6ca39a24-ff25-49ee-aebd-8a92e429f1d3 > .text > .extra\").text(\"|||| Perplexity: 450.048901037; Topics_left: 150\")"
       ],
       "metadata": {},
       "output_type": "display_data"
      },
      {
       "javascript": [
        "$(\"#a6ca39a24-ff25-49ee-aebd-8a92e429f1d3 > .completed-part\").css(\"width\", \"83.000000%\")"
       ],
       "metadata": {},
       "output_type": "display_data"
      },
      {
       "javascript": [
        "$(\"#a6ca39a24-ff25-49ee-aebd-8a92e429f1d3 > .running-part\").css(\"width\", \"0.500000%\")"
       ],
       "metadata": {},
       "output_type": "display_data"
      },
      {
       "javascript": [
        "$(\"#a6ca39a24-ff25-49ee-aebd-8a92e429f1d3 > .text > .main\").text(\"166/200 (83%) in 33.8 s, 0.21 s last iter; eta 7+-0 s\")"
       ],
       "metadata": {},
       "output_type": "display_data"
      },
      {
       "javascript": [
        "$(\"#a6ca39a24-ff25-49ee-aebd-8a92e429f1d3 > .text > .extra\").text(\"|||| Perplexity: 450.036709669; Topics_left: 150\")"
       ],
       "metadata": {},
       "output_type": "display_data"
      },
      {
       "javascript": [
        "$(\"#a6ca39a24-ff25-49ee-aebd-8a92e429f1d3 > .completed-part\").css(\"width\", \"83.500000%\")"
       ],
       "metadata": {},
       "output_type": "display_data"
      },
      {
       "javascript": [
        "$(\"#a6ca39a24-ff25-49ee-aebd-8a92e429f1d3 > .running-part\").css(\"width\", \"0.500000%\")"
       ],
       "metadata": {},
       "output_type": "display_data"
      },
      {
       "javascript": [
        "$(\"#a6ca39a24-ff25-49ee-aebd-8a92e429f1d3 > .text > .main\").text(\"167/200 (83%) in 34.0 s, 0.20 s last iter; eta 7+-0 s\")"
       ],
       "metadata": {},
       "output_type": "display_data"
      },
      {
       "javascript": [
        "$(\"#a6ca39a24-ff25-49ee-aebd-8a92e429f1d3 > .text > .extra\").text(\"|||| Perplexity: 450.037022264; Topics_left: 150\")"
       ],
       "metadata": {},
       "output_type": "display_data"
      },
      {
       "javascript": [
        "$(\"#a6ca39a24-ff25-49ee-aebd-8a92e429f1d3 > .completed-part\").css(\"width\", \"84.000000%\")"
       ],
       "metadata": {},
       "output_type": "display_data"
      },
      {
       "javascript": [
        "$(\"#a6ca39a24-ff25-49ee-aebd-8a92e429f1d3 > .running-part\").css(\"width\", \"0.500000%\")"
       ],
       "metadata": {},
       "output_type": "display_data"
      },
      {
       "javascript": [
        "$(\"#a6ca39a24-ff25-49ee-aebd-8a92e429f1d3 > .text > .main\").text(\"168/200 (84%) in 34.2 s, 0.20 s last iter; eta 7+-0 s\")"
       ],
       "metadata": {},
       "output_type": "display_data"
      },
      {
       "javascript": [
        "$(\"#a6ca39a24-ff25-49ee-aebd-8a92e429f1d3 > .text > .extra\").text(\"|||| Perplexity: 450.019204692; Topics_left: 150\")"
       ],
       "metadata": {},
       "output_type": "display_data"
      },
      {
       "javascript": [
        "$(\"#a6ca39a24-ff25-49ee-aebd-8a92e429f1d3 > .completed-part\").css(\"width\", \"84.500000%\")"
       ],
       "metadata": {},
       "output_type": "display_data"
      },
      {
       "javascript": [
        "$(\"#a6ca39a24-ff25-49ee-aebd-8a92e429f1d3 > .running-part\").css(\"width\", \"0.500000%\")"
       ],
       "metadata": {},
       "output_type": "display_data"
      },
      {
       "javascript": [
        "$(\"#a6ca39a24-ff25-49ee-aebd-8a92e429f1d3 > .text > .main\").text(\"169/200 (84%) in 34.4 s, 0.21 s last iter; eta 6+-0 s\")"
       ],
       "metadata": {},
       "output_type": "display_data"
      },
      {
       "javascript": [
        "$(\"#a6ca39a24-ff25-49ee-aebd-8a92e429f1d3 > .text > .extra\").text(\"|||| Perplexity: 450.010139882; Topics_left: 150\")"
       ],
       "metadata": {},
       "output_type": "display_data"
      },
      {
       "javascript": [
        "$(\"#a6ca39a24-ff25-49ee-aebd-8a92e429f1d3 > .completed-part\").css(\"width\", \"85.000000%\")"
       ],
       "metadata": {},
       "output_type": "display_data"
      },
      {
       "javascript": [
        "$(\"#a6ca39a24-ff25-49ee-aebd-8a92e429f1d3 > .running-part\").css(\"width\", \"0.500000%\")"
       ],
       "metadata": {},
       "output_type": "display_data"
      },
      {
       "javascript": [
        "$(\"#a6ca39a24-ff25-49ee-aebd-8a92e429f1d3 > .text > .main\").text(\"170/200 (85%) in 34.6 s, 0.20 s last iter; eta 6+-0 s\")"
       ],
       "metadata": {},
       "output_type": "display_data"
      },
      {
       "javascript": [
        "$(\"#a6ca39a24-ff25-49ee-aebd-8a92e429f1d3 > .text > .extra\").text(\"|||| Perplexity: 450.000450115; Topics_left: 150\")"
       ],
       "metadata": {},
       "output_type": "display_data"
      },
      {
       "javascript": [
        "$(\"#a6ca39a24-ff25-49ee-aebd-8a92e429f1d3 > .completed-part\").css(\"width\", \"85.500000%\")"
       ],
       "metadata": {},
       "output_type": "display_data"
      },
      {
       "javascript": [
        "$(\"#a6ca39a24-ff25-49ee-aebd-8a92e429f1d3 > .running-part\").css(\"width\", \"0.500000%\")"
       ],
       "metadata": {},
       "output_type": "display_data"
      },
      {
       "javascript": [
        "$(\"#a6ca39a24-ff25-49ee-aebd-8a92e429f1d3 > .text > .main\").text(\"171/200 (85%) in 34.9 s, 0.21 s last iter; eta 6+-0 s\")"
       ],
       "metadata": {},
       "output_type": "display_data"
      },
      {
       "javascript": [
        "$(\"#a6ca39a24-ff25-49ee-aebd-8a92e429f1d3 > .text > .extra\").text(\"|||| Perplexity: 449.999824975; Topics_left: 150\")"
       ],
       "metadata": {},
       "output_type": "display_data"
      },
      {
       "javascript": [
        "$(\"#a6ca39a24-ff25-49ee-aebd-8a92e429f1d3 > .completed-part\").css(\"width\", \"86.000000%\")"
       ],
       "metadata": {},
       "output_type": "display_data"
      },
      {
       "javascript": [
        "$(\"#a6ca39a24-ff25-49ee-aebd-8a92e429f1d3 > .running-part\").css(\"width\", \"0.500000%\")"
       ],
       "metadata": {},
       "output_type": "display_data"
      },
      {
       "javascript": [
        "$(\"#a6ca39a24-ff25-49ee-aebd-8a92e429f1d3 > .text > .main\").text(\"172/200 (86%) in 35.1 s, 0.22 s last iter; eta 6+-0 s\")"
       ],
       "metadata": {},
       "output_type": "display_data"
      },
      {
       "javascript": [
        "$(\"#a6ca39a24-ff25-49ee-aebd-8a92e429f1d3 > .text > .extra\").text(\"|||| Perplexity: 449.973882468; Topics_left: 150\")"
       ],
       "metadata": {},
       "output_type": "display_data"
      },
      {
       "javascript": [
        "$(\"#a6ca39a24-ff25-49ee-aebd-8a92e429f1d3 > .completed-part\").css(\"width\", \"86.500000%\")"
       ],
       "metadata": {},
       "output_type": "display_data"
      },
      {
       "javascript": [
        "$(\"#a6ca39a24-ff25-49ee-aebd-8a92e429f1d3 > .running-part\").css(\"width\", \"0.500000%\")"
       ],
       "metadata": {},
       "output_type": "display_data"
      },
      {
       "javascript": [
        "$(\"#a6ca39a24-ff25-49ee-aebd-8a92e429f1d3 > .text > .main\").text(\"173/200 (86%) in 35.3 s, 0.19 s last iter; eta 6+-0 s\")"
       ],
       "metadata": {},
       "output_type": "display_data"
      },
      {
       "javascript": [
        "$(\"#a6ca39a24-ff25-49ee-aebd-8a92e429f1d3 > .text > .extra\").text(\"|||| Perplexity: 449.971694614; Topics_left: 150\")"
       ],
       "metadata": {},
       "output_type": "display_data"
      },
      {
       "javascript": [
        "$(\"#a6ca39a24-ff25-49ee-aebd-8a92e429f1d3 > .completed-part\").css(\"width\", \"87.000000%\")"
       ],
       "metadata": {},
       "output_type": "display_data"
      },
      {
       "javascript": [
        "$(\"#a6ca39a24-ff25-49ee-aebd-8a92e429f1d3 > .running-part\").css(\"width\", \"0.500000%\")"
       ],
       "metadata": {},
       "output_type": "display_data"
      },
      {
       "javascript": [
        "$(\"#a6ca39a24-ff25-49ee-aebd-8a92e429f1d3 > .text > .main\").text(\"174/200 (87%) in 35.5 s, 0.19 s last iter; eta 5+-0 s\")"
       ],
       "metadata": {},
       "output_type": "display_data"
      },
      {
       "javascript": [
        "$(\"#a6ca39a24-ff25-49ee-aebd-8a92e429f1d3 > .text > .extra\").text(\"|||| Perplexity: 449.95044173; Topics_left: 150\")"
       ],
       "metadata": {},
       "output_type": "display_data"
      },
      {
       "javascript": [
        "$(\"#a6ca39a24-ff25-49ee-aebd-8a92e429f1d3 > .completed-part\").css(\"width\", \"87.500000%\")"
       ],
       "metadata": {},
       "output_type": "display_data"
      },
      {
       "javascript": [
        "$(\"#a6ca39a24-ff25-49ee-aebd-8a92e429f1d3 > .running-part\").css(\"width\", \"0.500000%\")"
       ],
       "metadata": {},
       "output_type": "display_data"
      },
      {
       "javascript": [
        "$(\"#a6ca39a24-ff25-49ee-aebd-8a92e429f1d3 > .text > .main\").text(\"175/200 (87%) in 35.7 s, 0.21 s last iter; eta 5+-0 s\")"
       ],
       "metadata": {},
       "output_type": "display_data"
      },
      {
       "javascript": [
        "$(\"#a6ca39a24-ff25-49ee-aebd-8a92e429f1d3 > .text > .extra\").text(\"|||| Perplexity: 449.923564519; Topics_left: 150\")"
       ],
       "metadata": {},
       "output_type": "display_data"
      },
      {
       "javascript": [
        "$(\"#a6ca39a24-ff25-49ee-aebd-8a92e429f1d3 > .completed-part\").css(\"width\", \"88.000000%\")"
       ],
       "metadata": {},
       "output_type": "display_data"
      },
      {
       "javascript": [
        "$(\"#a6ca39a24-ff25-49ee-aebd-8a92e429f1d3 > .running-part\").css(\"width\", \"0.500000%\")"
       ],
       "metadata": {},
       "output_type": "display_data"
      },
      {
       "javascript": [
        "$(\"#a6ca39a24-ff25-49ee-aebd-8a92e429f1d3 > .text > .main\").text(\"176/200 (88%) in 35.9 s, 0.20 s last iter; eta 5+-0 s\")"
       ],
       "metadata": {},
       "output_type": "display_data"
      },
      {
       "javascript": [
        "$(\"#a6ca39a24-ff25-49ee-aebd-8a92e429f1d3 > .text > .extra\").text(\"|||| Perplexity: 449.914501636; Topics_left: 150\")"
       ],
       "metadata": {},
       "output_type": "display_data"
      },
      {
       "javascript": [
        "$(\"#a6ca39a24-ff25-49ee-aebd-8a92e429f1d3 > .completed-part\").css(\"width\", \"88.500000%\")"
       ],
       "metadata": {},
       "output_type": "display_data"
      },
      {
       "javascript": [
        "$(\"#a6ca39a24-ff25-49ee-aebd-8a92e429f1d3 > .running-part\").css(\"width\", \"0.500000%\")"
       ],
       "metadata": {},
       "output_type": "display_data"
      },
      {
       "javascript": [
        "$(\"#a6ca39a24-ff25-49ee-aebd-8a92e429f1d3 > .text > .main\").text(\"177/200 (88%) in 36.1 s, 0.19 s last iter; eta 5+-0 s\")"
       ],
       "metadata": {},
       "output_type": "display_data"
      },
      {
       "javascript": [
        "$(\"#a6ca39a24-ff25-49ee-aebd-8a92e429f1d3 > .text > .extra\").text(\"|||| Perplexity: 449.90887649; Topics_left: 150\")"
       ],
       "metadata": {},
       "output_type": "display_data"
      },
      {
       "javascript": [
        "$(\"#a6ca39a24-ff25-49ee-aebd-8a92e429f1d3 > .completed-part\").css(\"width\", \"89.000000%\")"
       ],
       "metadata": {},
       "output_type": "display_data"
      },
      {
       "javascript": [
        "$(\"#a6ca39a24-ff25-49ee-aebd-8a92e429f1d3 > .running-part\").css(\"width\", \"0.500000%\")"
       ],
       "metadata": {},
       "output_type": "display_data"
      },
      {
       "javascript": [
        "$(\"#a6ca39a24-ff25-49ee-aebd-8a92e429f1d3 > .text > .main\").text(\"178/200 (89%) in 36.3 s, 0.21 s last iter; eta 4+-0 s\")"
       ],
       "metadata": {},
       "output_type": "display_data"
      },
      {
       "javascript": [
        "$(\"#a6ca39a24-ff25-49ee-aebd-8a92e429f1d3 > .text > .extra\").text(\"|||| Perplexity: 449.89418894; Topics_left: 150\")"
       ],
       "metadata": {},
       "output_type": "display_data"
      },
      {
       "javascript": [
        "$(\"#a6ca39a24-ff25-49ee-aebd-8a92e429f1d3 > .completed-part\").css(\"width\", \"89.500000%\")"
       ],
       "metadata": {},
       "output_type": "display_data"
      },
      {
       "javascript": [
        "$(\"#a6ca39a24-ff25-49ee-aebd-8a92e429f1d3 > .running-part\").css(\"width\", \"0.500000%\")"
       ],
       "metadata": {},
       "output_type": "display_data"
      },
      {
       "javascript": [
        "$(\"#a6ca39a24-ff25-49ee-aebd-8a92e429f1d3 > .text > .main\").text(\"179/200 (89%) in 36.5 s, 0.19 s last iter; eta 4+-0 s\")"
       ],
       "metadata": {},
       "output_type": "display_data"
      },
      {
       "javascript": [
        "$(\"#a6ca39a24-ff25-49ee-aebd-8a92e429f1d3 > .text > .extra\").text(\"|||| Perplexity: 449.871689793; Topics_left: 150\")"
       ],
       "metadata": {},
       "output_type": "display_data"
      },
      {
       "javascript": [
        "$(\"#a6ca39a24-ff25-49ee-aebd-8a92e429f1d3 > .completed-part\").css(\"width\", \"90.000000%\")"
       ],
       "metadata": {},
       "output_type": "display_data"
      },
      {
       "javascript": [
        "$(\"#a6ca39a24-ff25-49ee-aebd-8a92e429f1d3 > .running-part\").css(\"width\", \"0.500000%\")"
       ],
       "metadata": {},
       "output_type": "display_data"
      },
      {
       "javascript": [
        "$(\"#a6ca39a24-ff25-49ee-aebd-8a92e429f1d3 > .text > .main\").text(\"180/200 (90%) in 36.7 s, 0.20 s last iter; eta 4+-0 s\")"
       ],
       "metadata": {},
       "output_type": "display_data"
      },
      {
       "javascript": [
        "$(\"#a6ca39a24-ff25-49ee-aebd-8a92e429f1d3 > .text > .extra\").text(\"|||| Perplexity: 449.854503703; Topics_left: 150\")"
       ],
       "metadata": {},
       "output_type": "display_data"
      },
      {
       "javascript": [
        "$(\"#a6ca39a24-ff25-49ee-aebd-8a92e429f1d3 > .completed-part\").css(\"width\", \"90.500000%\")"
       ],
       "metadata": {},
       "output_type": "display_data"
      },
      {
       "javascript": [
        "$(\"#a6ca39a24-ff25-49ee-aebd-8a92e429f1d3 > .running-part\").css(\"width\", \"0.500000%\")"
       ],
       "metadata": {},
       "output_type": "display_data"
      },
      {
       "javascript": [
        "$(\"#a6ca39a24-ff25-49ee-aebd-8a92e429f1d3 > .text > .main\").text(\"181/200 (90%) in 36.9 s, 0.21 s last iter; eta 4+-0 s\")"
       ],
       "metadata": {},
       "output_type": "display_data"
      },
      {
       "javascript": [
        "$(\"#a6ca39a24-ff25-49ee-aebd-8a92e429f1d3 > .text > .extra\").text(\"|||| Perplexity: 449.835443534; Topics_left: 150\")"
       ],
       "metadata": {},
       "output_type": "display_data"
      },
      {
       "javascript": [
        "$(\"#a6ca39a24-ff25-49ee-aebd-8a92e429f1d3 > .completed-part\").css(\"width\", \"91.000000%\")"
       ],
       "metadata": {},
       "output_type": "display_data"
      },
      {
       "javascript": [
        "$(\"#a6ca39a24-ff25-49ee-aebd-8a92e429f1d3 > .running-part\").css(\"width\", \"0.500000%\")"
       ],
       "metadata": {},
       "output_type": "display_data"
      },
      {
       "javascript": [
        "$(\"#a6ca39a24-ff25-49ee-aebd-8a92e429f1d3 > .text > .main\").text(\"182/200 (91%) in 37.1 s, 0.20 s last iter; eta 4+-0 s\")"
       ],
       "metadata": {},
       "output_type": "display_data"
      },
      {
       "javascript": [
        "$(\"#a6ca39a24-ff25-49ee-aebd-8a92e429f1d3 > .text > .extra\").text(\"|||| Perplexity: 449.827007324; Topics_left: 150\")"
       ],
       "metadata": {},
       "output_type": "display_data"
      },
      {
       "javascript": [
        "$(\"#a6ca39a24-ff25-49ee-aebd-8a92e429f1d3 > .completed-part\").css(\"width\", \"91.500000%\")"
       ],
       "metadata": {},
       "output_type": "display_data"
      },
      {
       "javascript": [
        "$(\"#a6ca39a24-ff25-49ee-aebd-8a92e429f1d3 > .running-part\").css(\"width\", \"0.500000%\")"
       ],
       "metadata": {},
       "output_type": "display_data"
      },
      {
       "javascript": [
        "$(\"#a6ca39a24-ff25-49ee-aebd-8a92e429f1d3 > .text > .main\").text(\"183/200 (91%) in 37.3 s, 0.20 s last iter; eta 3+-0 s\")"
       ],
       "metadata": {},
       "output_type": "display_data"
      },
      {
       "javascript": [
        "$(\"#a6ca39a24-ff25-49ee-aebd-8a92e429f1d3 > .text > .extra\").text(\"|||| Perplexity: 449.815134408; Topics_left: 150\")"
       ],
       "metadata": {},
       "output_type": "display_data"
      },
      {
       "javascript": [
        "$(\"#a6ca39a24-ff25-49ee-aebd-8a92e429f1d3 > .completed-part\").css(\"width\", \"92.000000%\")"
       ],
       "metadata": {},
       "output_type": "display_data"
      },
      {
       "javascript": [
        "$(\"#a6ca39a24-ff25-49ee-aebd-8a92e429f1d3 > .running-part\").css(\"width\", \"0.500000%\")"
       ],
       "metadata": {},
       "output_type": "display_data"
      },
      {
       "javascript": [
        "$(\"#a6ca39a24-ff25-49ee-aebd-8a92e429f1d3 > .text > .main\").text(\"184/200 (92%) in 37.5 s, 0.21 s last iter; eta 3+-0 s\")"
       ],
       "metadata": {},
       "output_type": "display_data"
      },
      {
       "javascript": [
        "$(\"#a6ca39a24-ff25-49ee-aebd-8a92e429f1d3 > .text > .extra\").text(\"|||| Perplexity: 449.80388667; Topics_left: 150\")"
       ],
       "metadata": {},
       "output_type": "display_data"
      },
      {
       "javascript": [
        "$(\"#a6ca39a24-ff25-49ee-aebd-8a92e429f1d3 > .completed-part\").css(\"width\", \"92.500000%\")"
       ],
       "metadata": {},
       "output_type": "display_data"
      },
      {
       "javascript": [
        "$(\"#a6ca39a24-ff25-49ee-aebd-8a92e429f1d3 > .running-part\").css(\"width\", \"0.500000%\")"
       ],
       "metadata": {},
       "output_type": "display_data"
      },
      {
       "javascript": [
        "$(\"#a6ca39a24-ff25-49ee-aebd-8a92e429f1d3 > .text > .main\").text(\"185/200 (92%) in 37.7 s, 0.20 s last iter; eta 3+-0 s\")"
       ],
       "metadata": {},
       "output_type": "display_data"
      },
      {
       "javascript": [
        "$(\"#a6ca39a24-ff25-49ee-aebd-8a92e429f1d3 > .text > .extra\").text(\"|||| Perplexity: 449.787015592; Topics_left: 150\")"
       ],
       "metadata": {},
       "output_type": "display_data"
      },
      {
       "javascript": [
        "$(\"#a6ca39a24-ff25-49ee-aebd-8a92e429f1d3 > .completed-part\").css(\"width\", \"93.000000%\")"
       ],
       "metadata": {},
       "output_type": "display_data"
      },
      {
       "javascript": [
        "$(\"#a6ca39a24-ff25-49ee-aebd-8a92e429f1d3 > .running-part\").css(\"width\", \"0.500000%\")"
       ],
       "metadata": {},
       "output_type": "display_data"
      },
      {
       "javascript": [
        "$(\"#a6ca39a24-ff25-49ee-aebd-8a92e429f1d3 > .text > .main\").text(\"186/200 (93%) in 37.9 s, 0.21 s last iter; eta 3+-0 s\")"
       ],
       "metadata": {},
       "output_type": "display_data"
      },
      {
       "javascript": [
        "$(\"#a6ca39a24-ff25-49ee-aebd-8a92e429f1d3 > .text > .extra\").text(\"|||| Perplexity: 449.789827394; Topics_left: 150\")"
       ],
       "metadata": {},
       "output_type": "display_data"
      },
      {
       "javascript": [
        "$(\"#a6ca39a24-ff25-49ee-aebd-8a92e429f1d3 > .completed-part\").css(\"width\", \"93.500000%\")"
       ],
       "metadata": {},
       "output_type": "display_data"
      },
      {
       "javascript": [
        "$(\"#a6ca39a24-ff25-49ee-aebd-8a92e429f1d3 > .running-part\").css(\"width\", \"0.500000%\")"
       ],
       "metadata": {},
       "output_type": "display_data"
      },
      {
       "javascript": [
        "$(\"#a6ca39a24-ff25-49ee-aebd-8a92e429f1d3 > .text > .main\").text(\"187/200 (93%) in 38.1 s, 0.21 s last iter; eta 3+-0 s\")"
       ],
       "metadata": {},
       "output_type": "display_data"
      },
      {
       "javascript": [
        "$(\"#a6ca39a24-ff25-49ee-aebd-8a92e429f1d3 > .text > .extra\").text(\"|||| Perplexity: 449.779205122; Topics_left: 150\")"
       ],
       "metadata": {},
       "output_type": "display_data"
      },
      {
       "javascript": [
        "$(\"#a6ca39a24-ff25-49ee-aebd-8a92e429f1d3 > .completed-part\").css(\"width\", \"94.000000%\")"
       ],
       "metadata": {},
       "output_type": "display_data"
      },
      {
       "javascript": [
        "$(\"#a6ca39a24-ff25-49ee-aebd-8a92e429f1d3 > .running-part\").css(\"width\", \"0.500000%\")"
       ],
       "metadata": {},
       "output_type": "display_data"
      },
      {
       "javascript": [
        "$(\"#a6ca39a24-ff25-49ee-aebd-8a92e429f1d3 > .text > .main\").text(\"188/200 (94%) in 38.3 s, 0.20 s last iter; eta 2+-0 s\")"
       ],
       "metadata": {},
       "output_type": "display_data"
      },
      {
       "javascript": [
        "$(\"#a6ca39a24-ff25-49ee-aebd-8a92e429f1d3 > .text > .extra\").text(\"|||| Perplexity: 449.76577143; Topics_left: 150\")"
       ],
       "metadata": {},
       "output_type": "display_data"
      },
      {
       "javascript": [
        "$(\"#a6ca39a24-ff25-49ee-aebd-8a92e429f1d3 > .completed-part\").css(\"width\", \"94.500000%\")"
       ],
       "metadata": {},
       "output_type": "display_data"
      },
      {
       "javascript": [
        "$(\"#a6ca39a24-ff25-49ee-aebd-8a92e429f1d3 > .running-part\").css(\"width\", \"0.500000%\")"
       ],
       "metadata": {},
       "output_type": "display_data"
      },
      {
       "javascript": [
        "$(\"#a6ca39a24-ff25-49ee-aebd-8a92e429f1d3 > .text > .main\").text(\"189/200 (94%) in 38.5 s, 0.20 s last iter; eta 2+-0 s\")"
       ],
       "metadata": {},
       "output_type": "display_data"
      },
      {
       "javascript": [
        "$(\"#a6ca39a24-ff25-49ee-aebd-8a92e429f1d3 > .text > .extra\").text(\"|||| Perplexity: 449.756086925; Topics_left: 150\")"
       ],
       "metadata": {},
       "output_type": "display_data"
      },
      {
       "javascript": [
        "$(\"#a6ca39a24-ff25-49ee-aebd-8a92e429f1d3 > .completed-part\").css(\"width\", \"95.000000%\")"
       ],
       "metadata": {},
       "output_type": "display_data"
      },
      {
       "javascript": [
        "$(\"#a6ca39a24-ff25-49ee-aebd-8a92e429f1d3 > .running-part\").css(\"width\", \"0.500000%\")"
       ],
       "metadata": {},
       "output_type": "display_data"
      },
      {
       "javascript": [
        "$(\"#a6ca39a24-ff25-49ee-aebd-8a92e429f1d3 > .text > .main\").text(\"190/200 (95%) in 38.7 s, 0.21 s last iter; eta 2+-0 s\")"
       ],
       "metadata": {},
       "output_type": "display_data"
      },
      {
       "javascript": [
        "$(\"#a6ca39a24-ff25-49ee-aebd-8a92e429f1d3 > .text > .extra\").text(\"|||| Perplexity: 449.740467194; Topics_left: 150\")"
       ],
       "metadata": {},
       "output_type": "display_data"
      },
      {
       "javascript": [
        "$(\"#a6ca39a24-ff25-49ee-aebd-8a92e429f1d3 > .completed-part\").css(\"width\", \"95.500000%\")"
       ],
       "metadata": {},
       "output_type": "display_data"
      },
      {
       "javascript": [
        "$(\"#a6ca39a24-ff25-49ee-aebd-8a92e429f1d3 > .running-part\").css(\"width\", \"0.500000%\")"
       ],
       "metadata": {},
       "output_type": "display_data"
      },
      {
       "javascript": [
        "$(\"#a6ca39a24-ff25-49ee-aebd-8a92e429f1d3 > .text > .main\").text(\"191/200 (95%) in 38.9 s, 0.20 s last iter; eta 2+-0 s\")"
       ],
       "metadata": {},
       "output_type": "display_data"
      },
      {
       "javascript": [
        "$(\"#a6ca39a24-ff25-49ee-aebd-8a92e429f1d3 > .text > .extra\").text(\"|||| Perplexity: 449.736718539; Topics_left: 150\")"
       ],
       "metadata": {},
       "output_type": "display_data"
      },
      {
       "javascript": [
        "$(\"#a6ca39a24-ff25-49ee-aebd-8a92e429f1d3 > .completed-part\").css(\"width\", \"96.000000%\")"
       ],
       "metadata": {},
       "output_type": "display_data"
      },
      {
       "javascript": [
        "$(\"#a6ca39a24-ff25-49ee-aebd-8a92e429f1d3 > .running-part\").css(\"width\", \"0.500000%\")"
       ],
       "metadata": {},
       "output_type": "display_data"
      },
      {
       "javascript": [
        "$(\"#a6ca39a24-ff25-49ee-aebd-8a92e429f1d3 > .text > .main\").text(\"192/200 (96%) in 39.1 s, 0.20 s last iter; eta 2+-0 s\")"
       ],
       "metadata": {},
       "output_type": "display_data"
      },
      {
       "javascript": [
        "$(\"#a6ca39a24-ff25-49ee-aebd-8a92e429f1d3 > .text > .extra\").text(\"|||| Perplexity: 449.710478832; Topics_left: 150\")"
       ],
       "metadata": {},
       "output_type": "display_data"
      },
      {
       "javascript": [
        "$(\"#a6ca39a24-ff25-49ee-aebd-8a92e429f1d3 > .completed-part\").css(\"width\", \"96.500000%\")"
       ],
       "metadata": {},
       "output_type": "display_data"
      },
      {
       "javascript": [
        "$(\"#a6ca39a24-ff25-49ee-aebd-8a92e429f1d3 > .running-part\").css(\"width\", \"0.500000%\")"
       ],
       "metadata": {},
       "output_type": "display_data"
      },
      {
       "javascript": [
        "$(\"#a6ca39a24-ff25-49ee-aebd-8a92e429f1d3 > .text > .main\").text(\"193/200 (96%) in 39.3 s, 0.21 s last iter; eta 1+-0 s\")"
       ],
       "metadata": {},
       "output_type": "display_data"
      },
      {
       "javascript": [
        "$(\"#a6ca39a24-ff25-49ee-aebd-8a92e429f1d3 > .text > .extra\").text(\"|||| Perplexity: 449.705793331; Topics_left: 150\")"
       ],
       "metadata": {},
       "output_type": "display_data"
      },
      {
       "javascript": [
        "$(\"#a6ca39a24-ff25-49ee-aebd-8a92e429f1d3 > .completed-part\").css(\"width\", \"97.000000%\")"
       ],
       "metadata": {},
       "output_type": "display_data"
      },
      {
       "javascript": [
        "$(\"#a6ca39a24-ff25-49ee-aebd-8a92e429f1d3 > .running-part\").css(\"width\", \"0.500000%\")"
       ],
       "metadata": {},
       "output_type": "display_data"
      },
      {
       "javascript": [
        "$(\"#a6ca39a24-ff25-49ee-aebd-8a92e429f1d3 > .text > .main\").text(\"194/200 (97%) in 39.5 s, 0.19 s last iter; eta 1+-0 s\")"
       ],
       "metadata": {},
       "output_type": "display_data"
      },
      {
       "javascript": [
        "$(\"#a6ca39a24-ff25-49ee-aebd-8a92e429f1d3 > .text > .extra\").text(\"|||| Perplexity: 449.697671911; Topics_left: 150\")"
       ],
       "metadata": {},
       "output_type": "display_data"
      },
      {
       "javascript": [
        "$(\"#a6ca39a24-ff25-49ee-aebd-8a92e429f1d3 > .completed-part\").css(\"width\", \"97.500000%\")"
       ],
       "metadata": {},
       "output_type": "display_data"
      },
      {
       "javascript": [
        "$(\"#a6ca39a24-ff25-49ee-aebd-8a92e429f1d3 > .running-part\").css(\"width\", \"0.500000%\")"
       ],
       "metadata": {},
       "output_type": "display_data"
      },
      {
       "javascript": [
        "$(\"#a6ca39a24-ff25-49ee-aebd-8a92e429f1d3 > .text > .main\").text(\"195/200 (97%) in 39.7 s, 0.19 s last iter; eta 1+-0 s\")"
       ],
       "metadata": {},
       "output_type": "display_data"
      },
      {
       "javascript": [
        "$(\"#a6ca39a24-ff25-49ee-aebd-8a92e429f1d3 > .text > .extra\").text(\"|||| Perplexity: 449.697047193; Topics_left: 150\")"
       ],
       "metadata": {},
       "output_type": "display_data"
      },
      {
       "javascript": [
        "$(\"#a6ca39a24-ff25-49ee-aebd-8a92e429f1d3 > .completed-part\").css(\"width\", \"98.000000%\")"
       ],
       "metadata": {},
       "output_type": "display_data"
      },
      {
       "javascript": [
        "$(\"#a6ca39a24-ff25-49ee-aebd-8a92e429f1d3 > .running-part\").css(\"width\", \"0.500000%\")"
       ],
       "metadata": {},
       "output_type": "display_data"
      },
      {
       "javascript": [
        "$(\"#a6ca39a24-ff25-49ee-aebd-8a92e429f1d3 > .text > .main\").text(\"196/200 (98%) in 39.9 s, 0.21 s last iter; eta 1+-0 s\")"
       ],
       "metadata": {},
       "output_type": "display_data"
      },
      {
       "javascript": [
        "$(\"#a6ca39a24-ff25-49ee-aebd-8a92e429f1d3 > .text > .extra\").text(\"|||| Perplexity: 449.689238285; Topics_left: 150\")"
       ],
       "metadata": {},
       "output_type": "display_data"
      },
      {
       "javascript": [
        "$(\"#a6ca39a24-ff25-49ee-aebd-8a92e429f1d3 > .completed-part\").css(\"width\", \"98.500000%\")"
       ],
       "metadata": {},
       "output_type": "display_data"
      },
      {
       "javascript": [
        "$(\"#a6ca39a24-ff25-49ee-aebd-8a92e429f1d3 > .running-part\").css(\"width\", \"0.500000%\")"
       ],
       "metadata": {},
       "output_type": "display_data"
      },
      {
       "javascript": [
        "$(\"#a6ca39a24-ff25-49ee-aebd-8a92e429f1d3 > .text > .main\").text(\"197/200 (98%) in 40.1 s, 0.20 s last iter; eta 1+-0 s\")"
       ],
       "metadata": {},
       "output_type": "display_data"
      },
      {
       "javascript": [
        "$(\"#a6ca39a24-ff25-49ee-aebd-8a92e429f1d3 > .text > .extra\").text(\"|||| Perplexity: 449.680804817; Topics_left: 150\")"
       ],
       "metadata": {},
       "output_type": "display_data"
      },
      {
       "javascript": [
        "$(\"#a6ca39a24-ff25-49ee-aebd-8a92e429f1d3 > .completed-part\").css(\"width\", \"99.000000%\")"
       ],
       "metadata": {},
       "output_type": "display_data"
      },
      {
       "javascript": [
        "$(\"#a6ca39a24-ff25-49ee-aebd-8a92e429f1d3 > .running-part\").css(\"width\", \"0.500000%\")"
       ],
       "metadata": {},
       "output_type": "display_data"
      },
      {
       "javascript": [
        "$(\"#a6ca39a24-ff25-49ee-aebd-8a92e429f1d3 > .text > .main\").text(\"198/200 (99%) in 40.3 s, 0.19 s last iter; eta 0+-0 s\")"
       ],
       "metadata": {},
       "output_type": "display_data"
      },
      {
       "javascript": [
        "$(\"#a6ca39a24-ff25-49ee-aebd-8a92e429f1d3 > .text > .extra\").text(\"|||| Perplexity: 449.671434482; Topics_left: 150\")"
       ],
       "metadata": {},
       "output_type": "display_data"
      },
      {
       "javascript": [
        "$(\"#a6ca39a24-ff25-49ee-aebd-8a92e429f1d3 > .completed-part\").css(\"width\", \"99.500000%\")"
       ],
       "metadata": {},
       "output_type": "display_data"
      },
      {
       "javascript": [
        "$(\"#a6ca39a24-ff25-49ee-aebd-8a92e429f1d3 > .running-part\").css(\"width\", \"0.500000%\")"
       ],
       "metadata": {},
       "output_type": "display_data"
      },
      {
       "javascript": [
        "$(\"#a6ca39a24-ff25-49ee-aebd-8a92e429f1d3 > .text > .main\").text(\"199/200 (99%) in 40.5 s, 0.21 s last iter; eta 0+-0 s\")"
       ],
       "metadata": {},
       "output_type": "display_data"
      },
      {
       "javascript": [
        "$(\"#a6ca39a24-ff25-49ee-aebd-8a92e429f1d3 > .text > .extra\").text(\"|||| Perplexity: 449.673620876; Topics_left: 150\")"
       ],
       "metadata": {},
       "output_type": "display_data"
      },
      {
       "javascript": [
        "$(\"#a6ca39a24-ff25-49ee-aebd-8a92e429f1d3 > .completed-part\").css(\"width\", \"100.000000%\")"
       ],
       "metadata": {},
       "output_type": "display_data"
      },
      {
       "javascript": [
        "$(\"#a6ca39a24-ff25-49ee-aebd-8a92e429f1d3 > .running-part\").css(\"width\", \"0.500000%\")"
       ],
       "metadata": {},
       "output_type": "display_data"
      },
      {
       "javascript": [
        "$(\"#a6ca39a24-ff25-49ee-aebd-8a92e429f1d3 > .text > .main\").text(\"200/200 (100%) in 40.7 s, 0.19 s last iter; eta 0+-0 s\")"
       ],
       "metadata": {},
       "output_type": "display_data"
      }
     ],
     "prompt_number": 98
    },
    {
     "cell_type": "code",
     "collapsed": false,
     "input": [
      "with codecs.open('authors.txt', encoding='utf-8') as authf:\n",
      "    lines = [line.strip() for line in authf]\n",
      "    docinfos = []\n",
      "    i = 0\n",
      "    while i < len(lines):\n",
      "        assert int(lines[i]) * 3 == i\n",
      "        assert int(lines[i]) == len(docinfos)\n",
      "        i += 1\n",
      "        docinfo = []\n",
      "        while i < len(lines) and not lines[i].isdigit():\n",
      "            docinfo.append(lines[i])\n",
      "            i += 1\n",
      "        assert len(docinfo) == 2\n",
      "        docinfos.append(tuple(docinfo))\n",
      "    docinfos = np.array(docinfos, dtype=h5py.special_dtype(vlen=unicode))"
     ],
     "language": "python",
     "metadata": {},
     "outputs": [],
     "prompt_number": 99
    },
    {
     "cell_type": "code",
     "collapsed": false,
     "input": [
      "with codecs.open('dictionary_new.txt', encoding='utf-8') as dictf:\n",
      "    assert nwd.shape[0] == int(dictf.readline().strip())\n",
      "    indwords = [line.strip().split(' ', 1) for line in dictf]\n",
      "    indwords[723] = ['723', '']\n",
      "    assert all(int(ind) == i for i, (ind, w) in enumerate(indwords))\n",
      "    words = [w.lower() for ind, w in indwords]\n",
      "    words = np.array(words, dtype=h5py.special_dtype(vlen=unicode))"
     ],
     "language": "python",
     "metadata": {},
     "outputs": [],
     "prompt_number": 109
    },
    {
     "cell_type": "code",
     "collapsed": false,
     "input": [
      "with codecs.open('dictionary_new.txt', mode='w', encoding='utf-8') as dictf:\n",
      "    words_new = words[np.nonzero(nwd.sum(1).A1)[0]]\n",
      "    dictf.write(str(words_new.shape[0]) + '\\n')\n",
      "    for i, word in enumerate(words_new):\n",
      "        dictf.write('%d %s\\n' % (i, word.upper()))"
     ],
     "language": "python",
     "metadata": {},
     "outputs": [],
     "prompt_number": 94
    },
    {
     "cell_type": "code",
     "collapsed": false,
     "input": [
      "words_dict = {word: w for w, word in enumerate(words)}"
     ],
     "language": "python",
     "metadata": {},
     "outputs": [],
     "prompt_number": 110
    },
    {
     "cell_type": "code",
     "collapsed": false,
     "input": [
      "with codecs.open('MMROwithOrder.txt', encoding='utf-8') as docsf:\n",
      "    lines = [line.strip() for line in docsf]\n",
      "    docs = []\n",
      "    i = 0\n",
      "    while i < len(lines):\n",
      "        assert int(lines[i]) == len(docs)\n",
      "        i += 1\n",
      "        d = len(docs)\n",
      "        \n",
      "        pwts = em.phi * em.theta[:, d].T\n",
      "        pwts /= pwts.sum(1)[:,np.newaxis]\n",
      "        \n",
      "        doc = []\n",
      "        while i < len(lines) and not lines[i].isdigit():\n",
      "            try:\n",
      "                word, word_norm = lines[i].lower().split(' ', 1)\n",
      "            except ValueError:\n",
      "                word = lines[i].lower().strip()\n",
      "                word_norm = word\n",
      "\n",
      "            # dictionary lookup\n",
      "            try:\n",
      "                w = words_dict[word_norm]\n",
      "            except KeyError:\n",
      "                w = -1\n",
      "                \n",
      "            # topics info\n",
      "            pts = pwts[w]\n",
      "            topics = pts.argsort()[::-1][:5]\n",
      "            pts = pts[topics]\n",
      "                \n",
      "            doc.append((word, w, topics, pts))\n",
      "            i += 1\n",
      "\n",
      "        docs.append(np.array(map(tuple, doc),\n",
      "                             dtype=[('word', h5py.special_dtype(vlen=unicode)),\n",
      "                                    ('w', np.int32),\n",
      "                                    ('topics', np.int32, 5),\n",
      "                                    ('pts', np.float32, 5)]))"
     ],
     "language": "python",
     "metadata": {},
     "outputs": [],
     "prompt_number": 144
    },
    {
     "cell_type": "markdown",
     "metadata": {},
     "source": [
      "$$p(t | d, w) = p(w | t) p(t | d) = \\phi_{wt} \\theta_{td}$$"
     ]
    },
    {
     "cell_type": "code",
     "collapsed": false,
     "input": [
      "with h5py.File('data.hdf', mode='w') as f:\n",
      "    f.create_dataset('p_wt', data=em.phi)\n",
      "    f.create_dataset('p_td', data=em.theta)\n",
      "    f.create_dataset('p_wd', data=np.dot(em.phi, em.theta))\n",
      "    f.create_dataset('n_wd', data=em.nwd.A, dtype=np.int32)\n",
      "    f.create_dataset('dictionary', data=words)\n",
      "    f.create_dataset('docinfo', data=docinfos)\n",
      "    \n",
      "    docs_group = f.create_group('documents')\n",
      "    for i, doc in enumerate(docs):\n",
      "        docs_group.create_dataset('%d' % i, data=doc)"
     ],
     "language": "python",
     "metadata": {},
     "outputs": [],
     "prompt_number": 145
    },
    {
     "cell_type": "code",
     "collapsed": false,
     "input": [
      "d = 0\n",
      "\n",
      "with h5py.File('data.hdf', mode='r') as h5f:    \n",
      "    content = h5f['documents'][str(d)][...]\n",
      "    print content['topics'], content['pts']"
     ],
     "language": "python",
     "metadata": {},
     "outputs": [
      {
       "output_type": "stream",
       "stream": "stdout",
       "text": [
        "[[ 107.   81.  149.    5.    3.]\n",
        " [  81.  117.    3.    5.   25.]\n",
        " [ 107.  149.   46.   52.   51.]\n",
        " ..., \n",
        " [ 107.   19.   46.   53.   52.]\n",
        " [  25.  107.   21.  149.   47.]\n",
        " [ 107.   25.    5.  149.   81.]] [[  6.24636114e-01   2.20364109e-01   4.95293699e-02   4.80545573e-02\n",
        "    3.36642191e-02]\n",
        " [  9.32938993e-01   3.13496590e-02   1.30821085e-02   1.24391327e-02\n",
        "    9.21056326e-03]\n",
        " [  1.00000000e+00   0.00000000e+00   0.00000000e+00   0.00000000e+00\n",
        "    0.00000000e+00]\n",
        " ..., \n",
        " [  9.99980569e-01   1.94192889e-05   0.00000000e+00   0.00000000e+00\n",
        "    0.00000000e+00]\n",
        " [  6.89526498e-01   3.10473502e-01   2.93045987e-09   0.00000000e+00\n",
        "    0.00000000e+00]\n",
        " [  7.92358577e-01   7.59852976e-02   4.02207039e-02   3.70297432e-02\n",
        "    3.47681344e-02]]\n"
       ]
      }
     ],
     "prompt_number": 136
    }
   ],
   "metadata": {}
  }
 ]
}