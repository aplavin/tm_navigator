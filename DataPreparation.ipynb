{
 "metadata": {
  "name": "",
  "signature": "sha256:67df55840b862221fc64a81eec99012ce4087648e93fa96c924fdc0eab29079a"
 },
 "nbformat": 3,
 "nbformat_minor": 0,
 "worksheets": [
  {
   "cells": [
    {
     "cell_type": "code",
     "collapsed": false,
     "input": [
      "import codecs\n",
      "import numpy as np\n",
      "import scipy.sparse\n",
      "import sys\n",
      "import comp_exp\n",
      "import py_artm\n",
      "import h5py\n",
      "sys.path.append('/home/alexander/strijov/MLAlgorithms/Group174/Plavin2014TopicsNumberOptimization/code')\n",
      "from utils import *\n",
      "from ggplot_utils import *\n",
      "from IPython.display import display\n",
      "from functools import partial\n",
      "from itertools import count, groupby\n",
      "from ipy_progressbar import ProgressBar\n",
      "from collections import namedtuple\n",
      "from itertools import starmap\n",
      "import codecs\n",
      "from pprint import pprint\n",
      "\n",
      "from rpy2.robjects import pandas2ri\n",
      "pandas2ri.activate()\n",
      "import rpy2.robjects as robj\n",
      "from rpy2.robjects.lib import ggplot2 as gg\n",
      "from rpy2.ipython.ggplot import ggplot as iggplot\n",
      "from rpy2.robjects.packages import importr\n",
      "rbase = importr('base')\n",
      "\n",
      "%matplotlib inline\n",
      "%load_ext rpy2.ipython.rmagic\n",
      "\n",
      "from ggplot_utils import *\n",
      "MyGGPlot.latex_enabled = False"
     ],
     "language": "python",
     "metadata": {},
     "outputs": [
      {
       "output_type": "stream",
       "stream": "stdout",
       "text": [
        "The rpy2.ipython.rmagic extension is already loaded. To reload it, use:\n",
        "  %reload_ext rpy2.ipython.rmagic\n"
       ]
      }
     ],
     "prompt_number": 144
    },
    {
     "cell_type": "code",
     "collapsed": false,
     "input": [
      "ds = []\n",
      "ws = []\n",
      "cnts = []\n",
      "\n",
      "with open('MMRO.txt') as nwdf:\n",
      "    D = int(nwdf.readline())\n",
      "    W = int(nwdf.readline())\n",
      "    \n",
      "    for line in nwdf:\n",
      "        d, w, cnt = map(int, line.split())\n",
      "        ds.append(d)\n",
      "        ws.append(w)\n",
      "        cnts.append(cnt)\n",
      "        \n",
      "nwd = scipy.sparse.coo_matrix((cnts, (ws, ds))).astype(np.float32)"
     ],
     "language": "python",
     "metadata": {},
     "outputs": [],
     "prompt_number": 118
    },
    {
     "cell_type": "code",
     "collapsed": false,
     "input": [
      "tau = 0.2\n",
      "t_init = 150\n",
      "\n",
      "em = py_artm.plsa.PlsaEmRational(nwd,\n",
      "                                 t_init,\n",
      "                                 [py_artm.quantities.Perplexity(), py_artm.quantities.TopicsLeft(),\n",
      "                                  py_artm.stop_conditions.ValueBounds('topics_left', lo=2)])\n",
      "em.iterate(200, quiet=1)"
     ],
     "language": "python",
     "metadata": {},
     "outputs": [
      {
       "javascript": [
        "$(\"[data-key='plsa_em']\").parent().parent().remove()"
       ],
       "metadata": {},
       "output_type": "display_data"
      },
      {
       "html": [
        "\n",
        "            <style>\n",
        "                .progress {\n",
        "                    position: relative;\n",
        "                }\n",
        "\n",
        "                .progress > .text {\n",
        "                    position: absolute;\n",
        "                    left: 0;\n",
        "                    width: 100%;\n",
        "                    text-align: center;\n",
        "                }\n",
        "\n",
        "                .progress .bar {\n",
        "                    transition-property: none;\n",
        "                }\n",
        "            </style>\n",
        "\n",
        "            <h3>PLSA EM:</h3>\n",
        "            <div class=\"progress\" id=\"a5086ddd3-a937-4282-8e79-88e701ba394b\" data-key=plsa_em>\n",
        "                <div class=\"bar bar-success completed-part\" style=\"width: 0%;\"></div>\n",
        "                <div class=\"bar bar-warning running-part\" style=\"width: 100%;\"></div>\n",
        "                <div class=\"text\">\n",
        "                    <span class=\"main\">Starting...</span>\n",
        "                    <span class=\"extra\"></span>\n",
        "                </div>\n",
        "            </div>\n",
        "            "
       ],
       "metadata": {},
       "output_type": "display_data"
      },
      {
       "javascript": [
        "$(\"#a5086ddd3-a937-4282-8e79-88e701ba394b > .completed-part\").css(\"width\", \"0.000000%\")"
       ],
       "metadata": {},
       "output_type": "display_data"
      },
      {
       "javascript": [
        "$(\"#a5086ddd3-a937-4282-8e79-88e701ba394b > .running-part\").css(\"width\", \"0.500000%\")"
       ],
       "metadata": {},
       "output_type": "display_data"
      },
      {
       "javascript": [
        "$(\"#a5086ddd3-a937-4282-8e79-88e701ba394b > .text > .main\").text(\"0/200 (0%) in 0.0 s, nan s last iter; eta nan+-nan s\")"
       ],
       "metadata": {},
       "output_type": "display_data"
      },
      {
       "javascript": [
        "$(\"#a5086ddd3-a937-4282-8e79-88e701ba394b > .text > .extra\").text(\"|||| Perplexity: 1759.28852446; Topics_left: 150\")"
       ],
       "metadata": {},
       "output_type": "display_data"
      },
      {
       "javascript": [
        "$(\"#a5086ddd3-a937-4282-8e79-88e701ba394b > .completed-part\").css(\"width\", \"0.500000%\")"
       ],
       "metadata": {},
       "output_type": "display_data"
      },
      {
       "javascript": [
        "$(\"#a5086ddd3-a937-4282-8e79-88e701ba394b > .running-part\").css(\"width\", \"0.500000%\")"
       ],
       "metadata": {},
       "output_type": "display_data"
      },
      {
       "javascript": [
        "$(\"#a5086ddd3-a937-4282-8e79-88e701ba394b > .text > .main\").text(\"1/200 (0%) in 0.6 s, 0.61 s last iter; eta 121+-0 s\")"
       ],
       "metadata": {},
       "output_type": "display_data"
      },
      {
       "javascript": [
        "$(\"#a5086ddd3-a937-4282-8e79-88e701ba394b > .text > .extra\").text(\"|||| Perplexity: 1723.63389368; Topics_left: 150\")"
       ],
       "metadata": {},
       "output_type": "display_data"
      },
      {
       "javascript": [
        "$(\"#a5086ddd3-a937-4282-8e79-88e701ba394b > .completed-part\").css(\"width\", \"1.000000%\")"
       ],
       "metadata": {},
       "output_type": "display_data"
      },
      {
       "javascript": [
        "$(\"#a5086ddd3-a937-4282-8e79-88e701ba394b > .running-part\").css(\"width\", \"0.500000%\")"
       ],
       "metadata": {},
       "output_type": "display_data"
      },
      {
       "javascript": [
        "$(\"#a5086ddd3-a937-4282-8e79-88e701ba394b > .text > .main\").text(\"2/200 (1%) in 0.8 s, 0.21 s last iter; eta 81+-39 s\")"
       ],
       "metadata": {},
       "output_type": "display_data"
      },
      {
       "javascript": [
        "$(\"#a5086ddd3-a937-4282-8e79-88e701ba394b > .text > .extra\").text(\"|||| Perplexity: 1681.65415125; Topics_left: 150\")"
       ],
       "metadata": {},
       "output_type": "display_data"
      },
      {
       "javascript": [
        "$(\"#a5086ddd3-a937-4282-8e79-88e701ba394b > .completed-part\").css(\"width\", \"1.500000%\")"
       ],
       "metadata": {},
       "output_type": "display_data"
      },
      {
       "javascript": [
        "$(\"#a5086ddd3-a937-4282-8e79-88e701ba394b > .running-part\").css(\"width\", \"0.500000%\")"
       ],
       "metadata": {},
       "output_type": "display_data"
      },
      {
       "javascript": [
        "$(\"#a5086ddd3-a937-4282-8e79-88e701ba394b > .text > .main\").text(\"3/200 (1%) in 1.0 s, 0.21 s last iter; eta 68+-37 s\")"
       ],
       "metadata": {},
       "output_type": "display_data"
      },
      {
       "javascript": [
        "$(\"#a5086ddd3-a937-4282-8e79-88e701ba394b > .text > .extra\").text(\"|||| Perplexity: 1613.51537093; Topics_left: 150\")"
       ],
       "metadata": {},
       "output_type": "display_data"
      },
      {
       "javascript": [
        "$(\"#a5086ddd3-a937-4282-8e79-88e701ba394b > .completed-part\").css(\"width\", \"2.000000%\")"
       ],
       "metadata": {},
       "output_type": "display_data"
      },
      {
       "javascript": [
        "$(\"#a5086ddd3-a937-4282-8e79-88e701ba394b > .running-part\").css(\"width\", \"0.500000%\")"
       ],
       "metadata": {},
       "output_type": "display_data"
      },
      {
       "javascript": [
        "$(\"#a5086ddd3-a937-4282-8e79-88e701ba394b > .text > .main\").text(\"4/200 (2%) in 1.2 s, 0.21 s last iter; eta 61+-34 s\")"
       ],
       "metadata": {},
       "output_type": "display_data"
      },
      {
       "javascript": [
        "$(\"#a5086ddd3-a937-4282-8e79-88e701ba394b > .text > .extra\").text(\"|||| Perplexity: 1502.11849955; Topics_left: 150\")"
       ],
       "metadata": {},
       "output_type": "display_data"
      },
      {
       "javascript": [
        "$(\"#a5086ddd3-a937-4282-8e79-88e701ba394b > .completed-part\").css(\"width\", \"2.500000%\")"
       ],
       "metadata": {},
       "output_type": "display_data"
      },
      {
       "javascript": [
        "$(\"#a5086ddd3-a937-4282-8e79-88e701ba394b > .running-part\").css(\"width\", \"0.500000%\")"
       ],
       "metadata": {},
       "output_type": "display_data"
      },
      {
       "javascript": [
        "$(\"#a5086ddd3-a937-4282-8e79-88e701ba394b > .text > .main\").text(\"5/200 (2%) in 1.4 s, 0.21 s last iter; eta 56+-31 s\")"
       ],
       "metadata": {},
       "output_type": "display_data"
      },
      {
       "javascript": [
        "$(\"#a5086ddd3-a937-4282-8e79-88e701ba394b > .text > .extra\").text(\"|||| Perplexity: 1351.10347739; Topics_left: 150\")"
       ],
       "metadata": {},
       "output_type": "display_data"
      },
      {
       "javascript": [
        "$(\"#a5086ddd3-a937-4282-8e79-88e701ba394b > .completed-part\").css(\"width\", \"3.000000%\")"
       ],
       "metadata": {},
       "output_type": "display_data"
      },
      {
       "javascript": [
        "$(\"#a5086ddd3-a937-4282-8e79-88e701ba394b > .running-part\").css(\"width\", \"0.500000%\")"
       ],
       "metadata": {},
       "output_type": "display_data"
      },
      {
       "javascript": [
        "$(\"#a5086ddd3-a937-4282-8e79-88e701ba394b > .text > .main\").text(\"6/200 (3%) in 1.7 s, 0.21 s last iter; eta 54+-29 s\")"
       ],
       "metadata": {},
       "output_type": "display_data"
      },
      {
       "javascript": [
        "$(\"#a5086ddd3-a937-4282-8e79-88e701ba394b > .text > .extra\").text(\"|||| Perplexity: 1188.59960456; Topics_left: 150\")"
       ],
       "metadata": {},
       "output_type": "display_data"
      },
      {
       "javascript": [
        "$(\"#a5086ddd3-a937-4282-8e79-88e701ba394b > .completed-part\").css(\"width\", \"3.500000%\")"
       ],
       "metadata": {},
       "output_type": "display_data"
      },
      {
       "javascript": [
        "$(\"#a5086ddd3-a937-4282-8e79-88e701ba394b > .running-part\").css(\"width\", \"0.500000%\")"
       ],
       "metadata": {},
       "output_type": "display_data"
      },
      {
       "javascript": [
        "$(\"#a5086ddd3-a937-4282-8e79-88e701ba394b > .text > .main\").text(\"7/200 (3%) in 1.9 s, 0.21 s last iter; eta 52+-27 s\")"
       ],
       "metadata": {},
       "output_type": "display_data"
      },
      {
       "javascript": [
        "$(\"#a5086ddd3-a937-4282-8e79-88e701ba394b > .text > .extra\").text(\"|||| Perplexity: 1038.03380403; Topics_left: 150\")"
       ],
       "metadata": {},
       "output_type": "display_data"
      },
      {
       "javascript": [
        "$(\"#a5086ddd3-a937-4282-8e79-88e701ba394b > .completed-part\").css(\"width\", \"4.000000%\")"
       ],
       "metadata": {},
       "output_type": "display_data"
      },
      {
       "javascript": [
        "$(\"#a5086ddd3-a937-4282-8e79-88e701ba394b > .running-part\").css(\"width\", \"0.500000%\")"
       ],
       "metadata": {},
       "output_type": "display_data"
      },
      {
       "javascript": [
        "$(\"#a5086ddd3-a937-4282-8e79-88e701ba394b > .text > .main\").text(\"8/200 (4%) in 2.1 s, 0.20 s last iter; eta 50+-25 s\")"
       ],
       "metadata": {},
       "output_type": "display_data"
      },
      {
       "javascript": [
        "$(\"#a5086ddd3-a937-4282-8e79-88e701ba394b > .text > .extra\").text(\"|||| Perplexity: 910.818968176; Topics_left: 150\")"
       ],
       "metadata": {},
       "output_type": "display_data"
      },
      {
       "javascript": [
        "$(\"#a5086ddd3-a937-4282-8e79-88e701ba394b > .completed-part\").css(\"width\", \"4.500000%\")"
       ],
       "metadata": {},
       "output_type": "display_data"
      },
      {
       "javascript": [
        "$(\"#a5086ddd3-a937-4282-8e79-88e701ba394b > .running-part\").css(\"width\", \"0.500000%\")"
       ],
       "metadata": {},
       "output_type": "display_data"
      },
      {
       "javascript": [
        "$(\"#a5086ddd3-a937-4282-8e79-88e701ba394b > .text > .main\").text(\"9/200 (4%) in 2.3 s, 0.21 s last iter; eta 48+-24 s\")"
       ],
       "metadata": {},
       "output_type": "display_data"
      },
      {
       "javascript": [
        "$(\"#a5086ddd3-a937-4282-8e79-88e701ba394b > .text > .extra\").text(\"|||| Perplexity: 810.92533421; Topics_left: 150\")"
       ],
       "metadata": {},
       "output_type": "display_data"
      },
      {
       "javascript": [
        "$(\"#a5086ddd3-a937-4282-8e79-88e701ba394b > .completed-part\").css(\"width\", \"5.000000%\")"
       ],
       "metadata": {},
       "output_type": "display_data"
      },
      {
       "javascript": [
        "$(\"#a5086ddd3-a937-4282-8e79-88e701ba394b > .running-part\").css(\"width\", \"0.500000%\")"
       ],
       "metadata": {},
       "output_type": "display_data"
      },
      {
       "javascript": [
        "$(\"#a5086ddd3-a937-4282-8e79-88e701ba394b > .text > .main\").text(\"10/200 (5%) in 2.5 s, 0.21 s last iter; eta 47+-23 s\")"
       ],
       "metadata": {},
       "output_type": "display_data"
      },
      {
       "javascript": [
        "$(\"#a5086ddd3-a937-4282-8e79-88e701ba394b > .text > .extra\").text(\"|||| Perplexity: 736.338520178; Topics_left: 150\")"
       ],
       "metadata": {},
       "output_type": "display_data"
      },
      {
       "javascript": [
        "$(\"#a5086ddd3-a937-4282-8e79-88e701ba394b > .completed-part\").css(\"width\", \"5.500000%\")"
       ],
       "metadata": {},
       "output_type": "display_data"
      },
      {
       "javascript": [
        "$(\"#a5086ddd3-a937-4282-8e79-88e701ba394b > .running-part\").css(\"width\", \"0.500000%\")"
       ],
       "metadata": {},
       "output_type": "display_data"
      },
      {
       "javascript": [
        "$(\"#a5086ddd3-a937-4282-8e79-88e701ba394b > .text > .main\").text(\"11/200 (5%) in 2.7 s, 0.21 s last iter; eta 46+-22 s\")"
       ],
       "metadata": {},
       "output_type": "display_data"
      },
      {
       "javascript": [
        "$(\"#a5086ddd3-a937-4282-8e79-88e701ba394b > .text > .extra\").text(\"|||| Perplexity: 681.826311364; Topics_left: 150\")"
       ],
       "metadata": {},
       "output_type": "display_data"
      },
      {
       "javascript": [
        "$(\"#a5086ddd3-a937-4282-8e79-88e701ba394b > .completed-part\").css(\"width\", \"6.000000%\")"
       ],
       "metadata": {},
       "output_type": "display_data"
      },
      {
       "javascript": [
        "$(\"#a5086ddd3-a937-4282-8e79-88e701ba394b > .running-part\").css(\"width\", \"0.500000%\")"
       ],
       "metadata": {},
       "output_type": "display_data"
      },
      {
       "javascript": [
        "$(\"#a5086ddd3-a937-4282-8e79-88e701ba394b > .text > .main\").text(\"12/200 (6%) in 2.9 s, 0.21 s last iter; eta 46+-21 s\")"
       ],
       "metadata": {},
       "output_type": "display_data"
      },
      {
       "javascript": [
        "$(\"#a5086ddd3-a937-4282-8e79-88e701ba394b > .text > .extra\").text(\"|||| Perplexity: 641.717568828; Topics_left: 150\")"
       ],
       "metadata": {},
       "output_type": "display_data"
      },
      {
       "javascript": [
        "$(\"#a5086ddd3-a937-4282-8e79-88e701ba394b > .completed-part\").css(\"width\", \"6.500000%\")"
       ],
       "metadata": {},
       "output_type": "display_data"
      },
      {
       "javascript": [
        "$(\"#a5086ddd3-a937-4282-8e79-88e701ba394b > .running-part\").css(\"width\", \"0.500000%\")"
       ],
       "metadata": {},
       "output_type": "display_data"
      },
      {
       "javascript": [
        "$(\"#a5086ddd3-a937-4282-8e79-88e701ba394b > .text > .main\").text(\"13/200 (6%) in 3.1 s, 0.21 s last iter; eta 45+-20 s\")"
       ],
       "metadata": {},
       "output_type": "display_data"
      },
      {
       "javascript": [
        "$(\"#a5086ddd3-a937-4282-8e79-88e701ba394b > .text > .extra\").text(\"|||| Perplexity: 611.595387559; Topics_left: 150\")"
       ],
       "metadata": {},
       "output_type": "display_data"
      },
      {
       "javascript": [
        "$(\"#a5086ddd3-a937-4282-8e79-88e701ba394b > .completed-part\").css(\"width\", \"7.000000%\")"
       ],
       "metadata": {},
       "output_type": "display_data"
      },
      {
       "javascript": [
        "$(\"#a5086ddd3-a937-4282-8e79-88e701ba394b > .running-part\").css(\"width\", \"0.500000%\")"
       ],
       "metadata": {},
       "output_type": "display_data"
      },
      {
       "javascript": [
        "$(\"#a5086ddd3-a937-4282-8e79-88e701ba394b > .text > .main\").text(\"14/200 (7%) in 3.3 s, 0.21 s last iter; eta 44+-19 s\")"
       ],
       "metadata": {},
       "output_type": "display_data"
      },
      {
       "javascript": [
        "$(\"#a5086ddd3-a937-4282-8e79-88e701ba394b > .text > .extra\").text(\"|||| Perplexity: 588.319371277; Topics_left: 150\")"
       ],
       "metadata": {},
       "output_type": "display_data"
      },
      {
       "javascript": [
        "$(\"#a5086ddd3-a937-4282-8e79-88e701ba394b > .completed-part\").css(\"width\", \"7.500000%\")"
       ],
       "metadata": {},
       "output_type": "display_data"
      },
      {
       "javascript": [
        "$(\"#a5086ddd3-a937-4282-8e79-88e701ba394b > .running-part\").css(\"width\", \"0.500000%\")"
       ],
       "metadata": {},
       "output_type": "display_data"
      },
      {
       "javascript": [
        "$(\"#a5086ddd3-a937-4282-8e79-88e701ba394b > .text > .main\").text(\"15/200 (7%) in 3.5 s, 0.21 s last iter; eta 44+-18 s\")"
       ],
       "metadata": {},
       "output_type": "display_data"
      },
      {
       "javascript": [
        "$(\"#a5086ddd3-a937-4282-8e79-88e701ba394b > .text > .extra\").text(\"|||| Perplexity: 569.840958445; Topics_left: 150\")"
       ],
       "metadata": {},
       "output_type": "display_data"
      },
      {
       "javascript": [
        "$(\"#a5086ddd3-a937-4282-8e79-88e701ba394b > .completed-part\").css(\"width\", \"8.000000%\")"
       ],
       "metadata": {},
       "output_type": "display_data"
      },
      {
       "javascript": [
        "$(\"#a5086ddd3-a937-4282-8e79-88e701ba394b > .running-part\").css(\"width\", \"0.500000%\")"
       ],
       "metadata": {},
       "output_type": "display_data"
      },
      {
       "javascript": [
        "$(\"#a5086ddd3-a937-4282-8e79-88e701ba394b > .text > .main\").text(\"16/200 (8%) in 3.8 s, 0.20 s last iter; eta 43+-18 s\")"
       ],
       "metadata": {},
       "output_type": "display_data"
      },
      {
       "javascript": [
        "$(\"#a5086ddd3-a937-4282-8e79-88e701ba394b > .text > .extra\").text(\"|||| Perplexity: 555.11758527; Topics_left: 150\")"
       ],
       "metadata": {},
       "output_type": "display_data"
      },
      {
       "javascript": [
        "$(\"#a5086ddd3-a937-4282-8e79-88e701ba394b > .completed-part\").css(\"width\", \"8.500000%\")"
       ],
       "metadata": {},
       "output_type": "display_data"
      },
      {
       "javascript": [
        "$(\"#a5086ddd3-a937-4282-8e79-88e701ba394b > .running-part\").css(\"width\", \"0.500000%\")"
       ],
       "metadata": {},
       "output_type": "display_data"
      },
      {
       "javascript": [
        "$(\"#a5086ddd3-a937-4282-8e79-88e701ba394b > .text > .main\").text(\"17/200 (8%) in 4.0 s, 0.22 s last iter; eta 43+-17 s\")"
       ],
       "metadata": {},
       "output_type": "display_data"
      },
      {
       "javascript": [
        "$(\"#a5086ddd3-a937-4282-8e79-88e701ba394b > .text > .extra\").text(\"|||| Perplexity: 543.169621309; Topics_left: 150\")"
       ],
       "metadata": {},
       "output_type": "display_data"
      },
      {
       "javascript": [
        "$(\"#a5086ddd3-a937-4282-8e79-88e701ba394b > .completed-part\").css(\"width\", \"9.000000%\")"
       ],
       "metadata": {},
       "output_type": "display_data"
      },
      {
       "javascript": [
        "$(\"#a5086ddd3-a937-4282-8e79-88e701ba394b > .running-part\").css(\"width\", \"0.500000%\")"
       ],
       "metadata": {},
       "output_type": "display_data"
      },
      {
       "javascript": [
        "$(\"#a5086ddd3-a937-4282-8e79-88e701ba394b > .text > .main\").text(\"18/200 (9%) in 4.2 s, 0.21 s last iter; eta 42+-17 s\")"
       ],
       "metadata": {},
       "output_type": "display_data"
      },
      {
       "javascript": [
        "$(\"#a5086ddd3-a937-4282-8e79-88e701ba394b > .text > .extra\").text(\"|||| Perplexity: 533.251541707; Topics_left: 150\")"
       ],
       "metadata": {},
       "output_type": "display_data"
      },
      {
       "javascript": [
        "$(\"#a5086ddd3-a937-4282-8e79-88e701ba394b > .completed-part\").css(\"width\", \"9.500000%\")"
       ],
       "metadata": {},
       "output_type": "display_data"
      },
      {
       "javascript": [
        "$(\"#a5086ddd3-a937-4282-8e79-88e701ba394b > .running-part\").css(\"width\", \"0.500000%\")"
       ],
       "metadata": {},
       "output_type": "display_data"
      },
      {
       "javascript": [
        "$(\"#a5086ddd3-a937-4282-8e79-88e701ba394b > .text > .main\").text(\"19/200 (9%) in 4.4 s, 0.20 s last iter; eta 42+-16 s\")"
       ],
       "metadata": {},
       "output_type": "display_data"
      },
      {
       "javascript": [
        "$(\"#a5086ddd3-a937-4282-8e79-88e701ba394b > .text > .extra\").text(\"|||| Perplexity: 525.101674373; Topics_left: 150\")"
       ],
       "metadata": {},
       "output_type": "display_data"
      },
      {
       "javascript": [
        "$(\"#a5086ddd3-a937-4282-8e79-88e701ba394b > .completed-part\").css(\"width\", \"10.000000%\")"
       ],
       "metadata": {},
       "output_type": "display_data"
      },
      {
       "javascript": [
        "$(\"#a5086ddd3-a937-4282-8e79-88e701ba394b > .running-part\").css(\"width\", \"0.500000%\")"
       ],
       "metadata": {},
       "output_type": "display_data"
      },
      {
       "javascript": [
        "$(\"#a5086ddd3-a937-4282-8e79-88e701ba394b > .text > .main\").text(\"20/200 (10%) in 4.6 s, 0.21 s last iter; eta 41+-16 s\")"
       ],
       "metadata": {},
       "output_type": "display_data"
      },
      {
       "javascript": [
        "$(\"#a5086ddd3-a937-4282-8e79-88e701ba394b > .text > .extra\").text(\"|||| Perplexity: 518.146691687; Topics_left: 150\")"
       ],
       "metadata": {},
       "output_type": "display_data"
      },
      {
       "javascript": [
        "$(\"#a5086ddd3-a937-4282-8e79-88e701ba394b > .completed-part\").css(\"width\", \"10.500000%\")"
       ],
       "metadata": {},
       "output_type": "display_data"
      },
      {
       "javascript": [
        "$(\"#a5086ddd3-a937-4282-8e79-88e701ba394b > .running-part\").css(\"width\", \"0.500000%\")"
       ],
       "metadata": {},
       "output_type": "display_data"
      },
      {
       "javascript": [
        "$(\"#a5086ddd3-a937-4282-8e79-88e701ba394b > .text > .main\").text(\"21/200 (10%) in 4.8 s, 0.21 s last iter; eta 41+-15 s\")"
       ],
       "metadata": {},
       "output_type": "display_data"
      },
      {
       "javascript": [
        "$(\"#a5086ddd3-a937-4282-8e79-88e701ba394b > .text > .extra\").text(\"|||| Perplexity: 512.213355425; Topics_left: 150\")"
       ],
       "metadata": {},
       "output_type": "display_data"
      },
      {
       "javascript": [
        "$(\"#a5086ddd3-a937-4282-8e79-88e701ba394b > .completed-part\").css(\"width\", \"11.000000%\")"
       ],
       "metadata": {},
       "output_type": "display_data"
      },
      {
       "javascript": [
        "$(\"#a5086ddd3-a937-4282-8e79-88e701ba394b > .running-part\").css(\"width\", \"0.500000%\")"
       ],
       "metadata": {},
       "output_type": "display_data"
      },
      {
       "javascript": [
        "$(\"#a5086ddd3-a937-4282-8e79-88e701ba394b > .text > .main\").text(\"22/200 (11%) in 5.0 s, 0.21 s last iter; eta 40+-15 s\")"
       ],
       "metadata": {},
       "output_type": "display_data"
      },
      {
       "javascript": [
        "$(\"#a5086ddd3-a937-4282-8e79-88e701ba394b > .text > .extra\").text(\"|||| Perplexity: 507.084623868; Topics_left: 150\")"
       ],
       "metadata": {},
       "output_type": "display_data"
      },
      {
       "javascript": [
        "$(\"#a5086ddd3-a937-4282-8e79-88e701ba394b > .completed-part\").css(\"width\", \"11.500000%\")"
       ],
       "metadata": {},
       "output_type": "display_data"
      },
      {
       "javascript": [
        "$(\"#a5086ddd3-a937-4282-8e79-88e701ba394b > .running-part\").css(\"width\", \"0.500000%\")"
       ],
       "metadata": {},
       "output_type": "display_data"
      },
      {
       "javascript": [
        "$(\"#a5086ddd3-a937-4282-8e79-88e701ba394b > .text > .main\").text(\"23/200 (11%) in 5.2 s, 0.21 s last iter; eta 40+-14 s\")"
       ],
       "metadata": {},
       "output_type": "display_data"
      },
      {
       "javascript": [
        "$(\"#a5086ddd3-a937-4282-8e79-88e701ba394b > .text > .extra\").text(\"|||| Perplexity: 502.670200955; Topics_left: 150\")"
       ],
       "metadata": {},
       "output_type": "display_data"
      },
      {
       "javascript": [
        "$(\"#a5086ddd3-a937-4282-8e79-88e701ba394b > .completed-part\").css(\"width\", \"12.000000%\")"
       ],
       "metadata": {},
       "output_type": "display_data"
      },
      {
       "javascript": [
        "$(\"#a5086ddd3-a937-4282-8e79-88e701ba394b > .running-part\").css(\"width\", \"0.500000%\")"
       ],
       "metadata": {},
       "output_type": "display_data"
      },
      {
       "javascript": [
        "$(\"#a5086ddd3-a937-4282-8e79-88e701ba394b > .text > .main\").text(\"24/200 (12%) in 5.4 s, 0.21 s last iter; eta 40+-14 s\")"
       ],
       "metadata": {},
       "output_type": "display_data"
      },
      {
       "javascript": [
        "$(\"#a5086ddd3-a937-4282-8e79-88e701ba394b > .text > .extra\").text(\"|||| Perplexity: 498.771381973; Topics_left: 150\")"
       ],
       "metadata": {},
       "output_type": "display_data"
      },
      {
       "javascript": [
        "$(\"#a5086ddd3-a937-4282-8e79-88e701ba394b > .completed-part\").css(\"width\", \"12.500000%\")"
       ],
       "metadata": {},
       "output_type": "display_data"
      },
      {
       "javascript": [
        "$(\"#a5086ddd3-a937-4282-8e79-88e701ba394b > .running-part\").css(\"width\", \"0.500000%\")"
       ],
       "metadata": {},
       "output_type": "display_data"
      },
      {
       "javascript": [
        "$(\"#a5086ddd3-a937-4282-8e79-88e701ba394b > .text > .main\").text(\"25/200 (12%) in 5.6 s, 0.21 s last iter; eta 39+-14 s\")"
       ],
       "metadata": {},
       "output_type": "display_data"
      },
      {
       "javascript": [
        "$(\"#a5086ddd3-a937-4282-8e79-88e701ba394b > .text > .extra\").text(\"|||| Perplexity: 495.285554654; Topics_left: 150\")"
       ],
       "metadata": {},
       "output_type": "display_data"
      },
      {
       "javascript": [
        "$(\"#a5086ddd3-a937-4282-8e79-88e701ba394b > .completed-part\").css(\"width\", \"13.000000%\")"
       ],
       "metadata": {},
       "output_type": "display_data"
      },
      {
       "javascript": [
        "$(\"#a5086ddd3-a937-4282-8e79-88e701ba394b > .running-part\").css(\"width\", \"0.500000%\")"
       ],
       "metadata": {},
       "output_type": "display_data"
      },
      {
       "javascript": [
        "$(\"#a5086ddd3-a937-4282-8e79-88e701ba394b > .text > .main\").text(\"26/200 (13%) in 5.8 s, 0.21 s last iter; eta 39+-13 s\")"
       ],
       "metadata": {},
       "output_type": "display_data"
      },
      {
       "javascript": [
        "$(\"#a5086ddd3-a937-4282-8e79-88e701ba394b > .text > .extra\").text(\"|||| Perplexity: 492.340206636; Topics_left: 150\")"
       ],
       "metadata": {},
       "output_type": "display_data"
      },
      {
       "javascript": [
        "$(\"#a5086ddd3-a937-4282-8e79-88e701ba394b > .completed-part\").css(\"width\", \"13.500000%\")"
       ],
       "metadata": {},
       "output_type": "display_data"
      },
      {
       "javascript": [
        "$(\"#a5086ddd3-a937-4282-8e79-88e701ba394b > .running-part\").css(\"width\", \"0.500000%\")"
       ],
       "metadata": {},
       "output_type": "display_data"
      },
      {
       "javascript": [
        "$(\"#a5086ddd3-a937-4282-8e79-88e701ba394b > .text > .main\").text(\"27/200 (13%) in 6.0 s, 0.21 s last iter; eta 39+-13 s\")"
       ],
       "metadata": {},
       "output_type": "display_data"
      },
      {
       "javascript": [
        "$(\"#a5086ddd3-a937-4282-8e79-88e701ba394b > .text > .extra\").text(\"|||| Perplexity: 489.606521152; Topics_left: 150\")"
       ],
       "metadata": {},
       "output_type": "display_data"
      },
      {
       "javascript": [
        "$(\"#a5086ddd3-a937-4282-8e79-88e701ba394b > .completed-part\").css(\"width\", \"14.000000%\")"
       ],
       "metadata": {},
       "output_type": "display_data"
      },
      {
       "javascript": [
        "$(\"#a5086ddd3-a937-4282-8e79-88e701ba394b > .running-part\").css(\"width\", \"0.500000%\")"
       ],
       "metadata": {},
       "output_type": "display_data"
      },
      {
       "javascript": [
        "$(\"#a5086ddd3-a937-4282-8e79-88e701ba394b > .text > .main\").text(\"28/200 (14%) in 6.2 s, 0.21 s last iter; eta 38+-13 s\")"
       ],
       "metadata": {},
       "output_type": "display_data"
      },
      {
       "javascript": [
        "$(\"#a5086ddd3-a937-4282-8e79-88e701ba394b > .text > .extra\").text(\"|||| Perplexity: 487.15965806; Topics_left: 150\")"
       ],
       "metadata": {},
       "output_type": "display_data"
      },
      {
       "javascript": [
        "$(\"#a5086ddd3-a937-4282-8e79-88e701ba394b > .completed-part\").css(\"width\", \"14.500000%\")"
       ],
       "metadata": {},
       "output_type": "display_data"
      },
      {
       "javascript": [
        "$(\"#a5086ddd3-a937-4282-8e79-88e701ba394b > .running-part\").css(\"width\", \"0.500000%\")"
       ],
       "metadata": {},
       "output_type": "display_data"
      },
      {
       "javascript": [
        "$(\"#a5086ddd3-a937-4282-8e79-88e701ba394b > .text > .main\").text(\"29/200 (14%) in 6.5 s, 0.21 s last iter; eta 38+-12 s\")"
       ],
       "metadata": {},
       "output_type": "display_data"
      },
      {
       "javascript": [
        "$(\"#a5086ddd3-a937-4282-8e79-88e701ba394b > .text > .extra\").text(\"|||| Perplexity: 485.04464703; Topics_left: 150\")"
       ],
       "metadata": {},
       "output_type": "display_data"
      },
      {
       "javascript": [
        "$(\"#a5086ddd3-a937-4282-8e79-88e701ba394b > .completed-part\").css(\"width\", \"15.000000%\")"
       ],
       "metadata": {},
       "output_type": "display_data"
      },
      {
       "javascript": [
        "$(\"#a5086ddd3-a937-4282-8e79-88e701ba394b > .running-part\").css(\"width\", \"0.500000%\")"
       ],
       "metadata": {},
       "output_type": "display_data"
      },
      {
       "javascript": [
        "$(\"#a5086ddd3-a937-4282-8e79-88e701ba394b > .text > .main\").text(\"30/200 (15%) in 6.7 s, 0.21 s last iter; eta 38+-12 s\")"
       ],
       "metadata": {},
       "output_type": "display_data"
      },
      {
       "javascript": [
        "$(\"#a5086ddd3-a937-4282-8e79-88e701ba394b > .text > .extra\").text(\"|||| Perplexity: 483.151539678; Topics_left: 150\")"
       ],
       "metadata": {},
       "output_type": "display_data"
      },
      {
       "javascript": [
        "$(\"#a5086ddd3-a937-4282-8e79-88e701ba394b > .completed-part\").css(\"width\", \"15.500000%\")"
       ],
       "metadata": {},
       "output_type": "display_data"
      },
      {
       "javascript": [
        "$(\"#a5086ddd3-a937-4282-8e79-88e701ba394b > .running-part\").css(\"width\", \"0.500000%\")"
       ],
       "metadata": {},
       "output_type": "display_data"
      },
      {
       "javascript": [
        "$(\"#a5086ddd3-a937-4282-8e79-88e701ba394b > .text > .main\").text(\"31/200 (15%) in 6.9 s, 0.20 s last iter; eta 37+-12 s\")"
       ],
       "metadata": {},
       "output_type": "display_data"
      },
      {
       "javascript": [
        "$(\"#a5086ddd3-a937-4282-8e79-88e701ba394b > .text > .extra\").text(\"|||| Perplexity: 481.502888651; Topics_left: 150\")"
       ],
       "metadata": {},
       "output_type": "display_data"
      },
      {
       "javascript": [
        "$(\"#a5086ddd3-a937-4282-8e79-88e701ba394b > .completed-part\").css(\"width\", \"16.000000%\")"
       ],
       "metadata": {},
       "output_type": "display_data"
      },
      {
       "javascript": [
        "$(\"#a5086ddd3-a937-4282-8e79-88e701ba394b > .running-part\").css(\"width\", \"0.500000%\")"
       ],
       "metadata": {},
       "output_type": "display_data"
      },
      {
       "javascript": [
        "$(\"#a5086ddd3-a937-4282-8e79-88e701ba394b > .text > .main\").text(\"32/200 (16%) in 7.1 s, 0.21 s last iter; eta 37+-12 s\")"
       ],
       "metadata": {},
       "output_type": "display_data"
      },
      {
       "javascript": [
        "$(\"#a5086ddd3-a937-4282-8e79-88e701ba394b > .text > .extra\").text(\"|||| Perplexity: 479.87419584; Topics_left: 150\")"
       ],
       "metadata": {},
       "output_type": "display_data"
      },
      {
       "javascript": [
        "$(\"#a5086ddd3-a937-4282-8e79-88e701ba394b > .completed-part\").css(\"width\", \"16.500000%\")"
       ],
       "metadata": {},
       "output_type": "display_data"
      },
      {
       "javascript": [
        "$(\"#a5086ddd3-a937-4282-8e79-88e701ba394b > .running-part\").css(\"width\", \"0.500000%\")"
       ],
       "metadata": {},
       "output_type": "display_data"
      },
      {
       "javascript": [
        "$(\"#a5086ddd3-a937-4282-8e79-88e701ba394b > .text > .main\").text(\"33/200 (16%) in 7.3 s, 0.21 s last iter; eta 37+-11 s\")"
       ],
       "metadata": {},
       "output_type": "display_data"
      },
      {
       "javascript": [
        "$(\"#a5086ddd3-a937-4282-8e79-88e701ba394b > .text > .extra\").text(\"|||| Perplexity: 478.440399373; Topics_left: 150\")"
       ],
       "metadata": {},
       "output_type": "display_data"
      },
      {
       "javascript": [
        "$(\"#a5086ddd3-a937-4282-8e79-88e701ba394b > .completed-part\").css(\"width\", \"17.000000%\")"
       ],
       "metadata": {},
       "output_type": "display_data"
      },
      {
       "javascript": [
        "$(\"#a5086ddd3-a937-4282-8e79-88e701ba394b > .running-part\").css(\"width\", \"0.500000%\")"
       ],
       "metadata": {},
       "output_type": "display_data"
      },
      {
       "javascript": [
        "$(\"#a5086ddd3-a937-4282-8e79-88e701ba394b > .text > .main\").text(\"34/200 (17%) in 7.5 s, 0.21 s last iter; eta 37+-11 s\")"
       ],
       "metadata": {},
       "output_type": "display_data"
      },
      {
       "javascript": [
        "$(\"#a5086ddd3-a937-4282-8e79-88e701ba394b > .text > .extra\").text(\"|||| Perplexity: 477.086104998; Topics_left: 150\")"
       ],
       "metadata": {},
       "output_type": "display_data"
      },
      {
       "javascript": [
        "$(\"#a5086ddd3-a937-4282-8e79-88e701ba394b > .completed-part\").css(\"width\", \"17.500000%\")"
       ],
       "metadata": {},
       "output_type": "display_data"
      },
      {
       "javascript": [
        "$(\"#a5086ddd3-a937-4282-8e79-88e701ba394b > .running-part\").css(\"width\", \"0.500000%\")"
       ],
       "metadata": {},
       "output_type": "display_data"
      },
      {
       "javascript": [
        "$(\"#a5086ddd3-a937-4282-8e79-88e701ba394b > .text > .main\").text(\"35/200 (17%) in 7.7 s, 0.21 s last iter; eta 36+-11 s\")"
       ],
       "metadata": {},
       "output_type": "display_data"
      },
      {
       "javascript": [
        "$(\"#a5086ddd3-a937-4282-8e79-88e701ba394b > .text > .extra\").text(\"|||| Perplexity: 475.865526919; Topics_left: 150\")"
       ],
       "metadata": {},
       "output_type": "display_data"
      },
      {
       "javascript": [
        "$(\"#a5086ddd3-a937-4282-8e79-88e701ba394b > .completed-part\").css(\"width\", \"18.000000%\")"
       ],
       "metadata": {},
       "output_type": "display_data"
      },
      {
       "javascript": [
        "$(\"#a5086ddd3-a937-4282-8e79-88e701ba394b > .running-part\").css(\"width\", \"0.500000%\")"
       ],
       "metadata": {},
       "output_type": "display_data"
      },
      {
       "javascript": [
        "$(\"#a5086ddd3-a937-4282-8e79-88e701ba394b > .text > .main\").text(\"36/200 (18%) in 7.9 s, 0.21 s last iter; eta 36+-11 s\")"
       ],
       "metadata": {},
       "output_type": "display_data"
      },
      {
       "javascript": [
        "$(\"#a5086ddd3-a937-4282-8e79-88e701ba394b > .text > .extra\").text(\"|||| Perplexity: 474.689614325; Topics_left: 150\")"
       ],
       "metadata": {},
       "output_type": "display_data"
      },
      {
       "javascript": [
        "$(\"#a5086ddd3-a937-4282-8e79-88e701ba394b > .completed-part\").css(\"width\", \"18.500000%\")"
       ],
       "metadata": {},
       "output_type": "display_data"
      },
      {
       "javascript": [
        "$(\"#a5086ddd3-a937-4282-8e79-88e701ba394b > .running-part\").css(\"width\", \"0.500000%\")"
       ],
       "metadata": {},
       "output_type": "display_data"
      },
      {
       "javascript": [
        "$(\"#a5086ddd3-a937-4282-8e79-88e701ba394b > .text > .main\").text(\"37/200 (18%) in 8.1 s, 0.21 s last iter; eta 36+-11 s\")"
       ],
       "metadata": {},
       "output_type": "display_data"
      },
      {
       "javascript": [
        "$(\"#a5086ddd3-a937-4282-8e79-88e701ba394b > .text > .extra\").text(\"|||| Perplexity: 473.644239508; Topics_left: 150\")"
       ],
       "metadata": {},
       "output_type": "display_data"
      },
      {
       "javascript": [
        "$(\"#a5086ddd3-a937-4282-8e79-88e701ba394b > .completed-part\").css(\"width\", \"19.000000%\")"
       ],
       "metadata": {},
       "output_type": "display_data"
      },
      {
       "javascript": [
        "$(\"#a5086ddd3-a937-4282-8e79-88e701ba394b > .running-part\").css(\"width\", \"0.500000%\")"
       ],
       "metadata": {},
       "output_type": "display_data"
      },
      {
       "javascript": [
        "$(\"#a5086ddd3-a937-4282-8e79-88e701ba394b > .text > .main\").text(\"38/200 (19%) in 8.3 s, 0.22 s last iter; eta 36+-10 s\")"
       ],
       "metadata": {},
       "output_type": "display_data"
      },
      {
       "javascript": [
        "$(\"#a5086ddd3-a937-4282-8e79-88e701ba394b > .text > .extra\").text(\"|||| Perplexity: 472.628085604; Topics_left: 150\")"
       ],
       "metadata": {},
       "output_type": "display_data"
      },
      {
       "javascript": [
        "$(\"#a5086ddd3-a937-4282-8e79-88e701ba394b > .completed-part\").css(\"width\", \"19.500000%\")"
       ],
       "metadata": {},
       "output_type": "display_data"
      },
      {
       "javascript": [
        "$(\"#a5086ddd3-a937-4282-8e79-88e701ba394b > .running-part\").css(\"width\", \"0.500000%\")"
       ],
       "metadata": {},
       "output_type": "display_data"
      },
      {
       "javascript": [
        "$(\"#a5086ddd3-a937-4282-8e79-88e701ba394b > .text > .main\").text(\"39/200 (19%) in 8.6 s, 0.21 s last iter; eta 35+-10 s\")"
       ],
       "metadata": {},
       "output_type": "display_data"
      },
      {
       "javascript": [
        "$(\"#a5086ddd3-a937-4282-8e79-88e701ba394b > .text > .extra\").text(\"|||| Perplexity: 471.716656251; Topics_left: 150\")"
       ],
       "metadata": {},
       "output_type": "display_data"
      },
      {
       "javascript": [
        "$(\"#a5086ddd3-a937-4282-8e79-88e701ba394b > .completed-part\").css(\"width\", \"20.000000%\")"
       ],
       "metadata": {},
       "output_type": "display_data"
      },
      {
       "javascript": [
        "$(\"#a5086ddd3-a937-4282-8e79-88e701ba394b > .running-part\").css(\"width\", \"0.500000%\")"
       ],
       "metadata": {},
       "output_type": "display_data"
      },
      {
       "javascript": [
        "$(\"#a5086ddd3-a937-4282-8e79-88e701ba394b > .text > .main\").text(\"40/200 (20%) in 8.8 s, 0.20 s last iter; eta 35+-10 s\")"
       ],
       "metadata": {},
       "output_type": "display_data"
      },
      {
       "javascript": [
        "$(\"#a5086ddd3-a937-4282-8e79-88e701ba394b > .text > .extra\").text(\"|||| Perplexity: 470.866833347; Topics_left: 150\")"
       ],
       "metadata": {},
       "output_type": "display_data"
      },
      {
       "javascript": [
        "$(\"#a5086ddd3-a937-4282-8e79-88e701ba394b > .completed-part\").css(\"width\", \"20.500000%\")"
       ],
       "metadata": {},
       "output_type": "display_data"
      },
      {
       "javascript": [
        "$(\"#a5086ddd3-a937-4282-8e79-88e701ba394b > .running-part\").css(\"width\", \"0.500000%\")"
       ],
       "metadata": {},
       "output_type": "display_data"
      },
      {
       "javascript": [
        "$(\"#a5086ddd3-a937-4282-8e79-88e701ba394b > .text > .main\").text(\"41/200 (20%) in 9.0 s, 0.21 s last iter; eta 35+-10 s\")"
       ],
       "metadata": {},
       "output_type": "display_data"
      },
      {
       "javascript": [
        "$(\"#a5086ddd3-a937-4282-8e79-88e701ba394b > .text > .extra\").text(\"|||| Perplexity: 470.093963063; Topics_left: 150\")"
       ],
       "metadata": {},
       "output_type": "display_data"
      },
      {
       "javascript": [
        "$(\"#a5086ddd3-a937-4282-8e79-88e701ba394b > .completed-part\").css(\"width\", \"21.000000%\")"
       ],
       "metadata": {},
       "output_type": "display_data"
      },
      {
       "javascript": [
        "$(\"#a5086ddd3-a937-4282-8e79-88e701ba394b > .running-part\").css(\"width\", \"0.500000%\")"
       ],
       "metadata": {},
       "output_type": "display_data"
      },
      {
       "javascript": [
        "$(\"#a5086ddd3-a937-4282-8e79-88e701ba394b > .text > .main\").text(\"42/200 (21%) in 9.2 s, 0.20 s last iter; eta 34+-10 s\")"
       ],
       "metadata": {},
       "output_type": "display_data"
      },
      {
       "javascript": [
        "$(\"#a5086ddd3-a937-4282-8e79-88e701ba394b > .text > .extra\").text(\"|||| Perplexity: 469.397671255; Topics_left: 150\")"
       ],
       "metadata": {},
       "output_type": "display_data"
      },
      {
       "javascript": [
        "$(\"#a5086ddd3-a937-4282-8e79-88e701ba394b > .completed-part\").css(\"width\", \"21.500000%\")"
       ],
       "metadata": {},
       "output_type": "display_data"
      },
      {
       "javascript": [
        "$(\"#a5086ddd3-a937-4282-8e79-88e701ba394b > .running-part\").css(\"width\", \"0.500000%\")"
       ],
       "metadata": {},
       "output_type": "display_data"
      },
      {
       "javascript": [
        "$(\"#a5086ddd3-a937-4282-8e79-88e701ba394b > .text > .main\").text(\"43/200 (21%) in 9.4 s, 0.21 s last iter; eta 34+-9 s\")"
       ],
       "metadata": {},
       "output_type": "display_data"
      },
      {
       "javascript": [
        "$(\"#a5086ddd3-a937-4282-8e79-88e701ba394b > .text > .extra\").text(\"|||| Perplexity: 468.638279819; Topics_left: 150\")"
       ],
       "metadata": {},
       "output_type": "display_data"
      },
      {
       "javascript": [
        "$(\"#a5086ddd3-a937-4282-8e79-88e701ba394b > .completed-part\").css(\"width\", \"22.000000%\")"
       ],
       "metadata": {},
       "output_type": "display_data"
      },
      {
       "javascript": [
        "$(\"#a5086ddd3-a937-4282-8e79-88e701ba394b > .running-part\").css(\"width\", \"0.500000%\")"
       ],
       "metadata": {},
       "output_type": "display_data"
      },
      {
       "javascript": [
        "$(\"#a5086ddd3-a937-4282-8e79-88e701ba394b > .text > .main\").text(\"44/200 (22%) in 9.6 s, 0.22 s last iter; eta 34+-9 s\")"
       ],
       "metadata": {},
       "output_type": "display_data"
      },
      {
       "javascript": [
        "$(\"#a5086ddd3-a937-4282-8e79-88e701ba394b > .text > .extra\").text(\"|||| Perplexity: 468.019883054; Topics_left: 150\")"
       ],
       "metadata": {},
       "output_type": "display_data"
      },
      {
       "javascript": [
        "$(\"#a5086ddd3-a937-4282-8e79-88e701ba394b > .completed-part\").css(\"width\", \"22.500000%\")"
       ],
       "metadata": {},
       "output_type": "display_data"
      },
      {
       "javascript": [
        "$(\"#a5086ddd3-a937-4282-8e79-88e701ba394b > .running-part\").css(\"width\", \"0.500000%\")"
       ],
       "metadata": {},
       "output_type": "display_data"
      },
      {
       "javascript": [
        "$(\"#a5086ddd3-a937-4282-8e79-88e701ba394b > .text > .main\").text(\"45/200 (22%) in 9.8 s, 0.22 s last iter; eta 34+-9 s\")"
       ],
       "metadata": {},
       "output_type": "display_data"
      },
      {
       "javascript": [
        "$(\"#a5086ddd3-a937-4282-8e79-88e701ba394b > .text > .extra\").text(\"|||| Perplexity: 467.380875425; Topics_left: 150\")"
       ],
       "metadata": {},
       "output_type": "display_data"
      },
      {
       "javascript": [
        "$(\"#a5086ddd3-a937-4282-8e79-88e701ba394b > .completed-part\").css(\"width\", \"23.000000%\")"
       ],
       "metadata": {},
       "output_type": "display_data"
      },
      {
       "javascript": [
        "$(\"#a5086ddd3-a937-4282-8e79-88e701ba394b > .running-part\").css(\"width\", \"0.500000%\")"
       ],
       "metadata": {},
       "output_type": "display_data"
      },
      {
       "javascript": [
        "$(\"#a5086ddd3-a937-4282-8e79-88e701ba394b > .text > .main\").text(\"46/200 (23%) in 10.0 s, 0.22 s last iter; eta 34+-9 s\")"
       ],
       "metadata": {},
       "output_type": "display_data"
      },
      {
       "javascript": [
        "$(\"#a5086ddd3-a937-4282-8e79-88e701ba394b > .text > .extra\").text(\"|||| Perplexity: 466.839037281; Topics_left: 150\")"
       ],
       "metadata": {},
       "output_type": "display_data"
      },
      {
       "javascript": [
        "$(\"#a5086ddd3-a937-4282-8e79-88e701ba394b > .completed-part\").css(\"width\", \"23.500000%\")"
       ],
       "metadata": {},
       "output_type": "display_data"
      },
      {
       "javascript": [
        "$(\"#a5086ddd3-a937-4282-8e79-88e701ba394b > .running-part\").css(\"width\", \"0.500000%\")"
       ],
       "metadata": {},
       "output_type": "display_data"
      },
      {
       "javascript": [
        "$(\"#a5086ddd3-a937-4282-8e79-88e701ba394b > .text > .main\").text(\"47/200 (23%) in 10.3 s, 0.22 s last iter; eta 33+-9 s\")"
       ],
       "metadata": {},
       "output_type": "display_data"
      },
      {
       "javascript": [
        "$(\"#a5086ddd3-a937-4282-8e79-88e701ba394b > .text > .extra\").text(\"|||| Perplexity: 466.271269077; Topics_left: 150\")"
       ],
       "metadata": {},
       "output_type": "display_data"
      },
      {
       "javascript": [
        "$(\"#a5086ddd3-a937-4282-8e79-88e701ba394b > .completed-part\").css(\"width\", \"24.000000%\")"
       ],
       "metadata": {},
       "output_type": "display_data"
      },
      {
       "javascript": [
        "$(\"#a5086ddd3-a937-4282-8e79-88e701ba394b > .running-part\").css(\"width\", \"0.500000%\")"
       ],
       "metadata": {},
       "output_type": "display_data"
      },
      {
       "javascript": [
        "$(\"#a5086ddd3-a937-4282-8e79-88e701ba394b > .text > .main\").text(\"48/200 (24%) in 10.5 s, 0.22 s last iter; eta 33+-9 s\")"
       ],
       "metadata": {},
       "output_type": "display_data"
      },
      {
       "javascript": [
        "$(\"#a5086ddd3-a937-4282-8e79-88e701ba394b > .text > .extra\").text(\"|||| Perplexity: 465.765332666; Topics_left: 150\")"
       ],
       "metadata": {},
       "output_type": "display_data"
      },
      {
       "javascript": [
        "$(\"#a5086ddd3-a937-4282-8e79-88e701ba394b > .completed-part\").css(\"width\", \"24.500000%\")"
       ],
       "metadata": {},
       "output_type": "display_data"
      },
      {
       "javascript": [
        "$(\"#a5086ddd3-a937-4282-8e79-88e701ba394b > .running-part\").css(\"width\", \"0.500000%\")"
       ],
       "metadata": {},
       "output_type": "display_data"
      },
      {
       "javascript": [
        "$(\"#a5086ddd3-a937-4282-8e79-88e701ba394b > .text > .main\").text(\"49/200 (24%) in 10.7 s, 0.22 s last iter; eta 33+-9 s\")"
       ],
       "metadata": {},
       "output_type": "display_data"
      },
      {
       "javascript": [
        "$(\"#a5086ddd3-a937-4282-8e79-88e701ba394b > .text > .extra\").text(\"|||| Perplexity: 465.310039122; Topics_left: 150\")"
       ],
       "metadata": {},
       "output_type": "display_data"
      },
      {
       "javascript": [
        "$(\"#a5086ddd3-a937-4282-8e79-88e701ba394b > .completed-part\").css(\"width\", \"25.000000%\")"
       ],
       "metadata": {},
       "output_type": "display_data"
      },
      {
       "javascript": [
        "$(\"#a5086ddd3-a937-4282-8e79-88e701ba394b > .running-part\").css(\"width\", \"0.500000%\")"
       ],
       "metadata": {},
       "output_type": "display_data"
      },
      {
       "javascript": [
        "$(\"#a5086ddd3-a937-4282-8e79-88e701ba394b > .text > .main\").text(\"50/200 (25%) in 10.9 s, 0.22 s last iter; eta 33+-8 s\")"
       ],
       "metadata": {},
       "output_type": "display_data"
      },
      {
       "javascript": [
        "$(\"#a5086ddd3-a937-4282-8e79-88e701ba394b > .text > .extra\").text(\"|||| Perplexity: 464.862617115; Topics_left: 150\")"
       ],
       "metadata": {},
       "output_type": "display_data"
      },
      {
       "javascript": [
        "$(\"#a5086ddd3-a937-4282-8e79-88e701ba394b > .completed-part\").css(\"width\", \"25.500000%\")"
       ],
       "metadata": {},
       "output_type": "display_data"
      },
      {
       "javascript": [
        "$(\"#a5086ddd3-a937-4282-8e79-88e701ba394b > .running-part\").css(\"width\", \"0.500000%\")"
       ],
       "metadata": {},
       "output_type": "display_data"
      },
      {
       "javascript": [
        "$(\"#a5086ddd3-a937-4282-8e79-88e701ba394b > .text > .main\").text(\"51/200 (25%) in 11.1 s, 0.22 s last iter; eta 33+-8 s\")"
       ],
       "metadata": {},
       "output_type": "display_data"
      },
      {
       "javascript": [
        "$(\"#a5086ddd3-a937-4282-8e79-88e701ba394b > .text > .extra\").text(\"|||| Perplexity: 464.445626475; Topics_left: 150\")"
       ],
       "metadata": {},
       "output_type": "display_data"
      },
      {
       "javascript": [
        "$(\"#a5086ddd3-a937-4282-8e79-88e701ba394b > .completed-part\").css(\"width\", \"26.000000%\")"
       ],
       "metadata": {},
       "output_type": "display_data"
      },
      {
       "javascript": [
        "$(\"#a5086ddd3-a937-4282-8e79-88e701ba394b > .running-part\").css(\"width\", \"0.500000%\")"
       ],
       "metadata": {},
       "output_type": "display_data"
      },
      {
       "javascript": [
        "$(\"#a5086ddd3-a937-4282-8e79-88e701ba394b > .text > .main\").text(\"52/200 (26%) in 11.3 s, 0.22 s last iter; eta 32+-8 s\")"
       ],
       "metadata": {},
       "output_type": "display_data"
      },
      {
       "javascript": [
        "$(\"#a5086ddd3-a937-4282-8e79-88e701ba394b > .text > .extra\").text(\"|||| Perplexity: 464.056085048; Topics_left: 150\")"
       ],
       "metadata": {},
       "output_type": "display_data"
      },
      {
       "javascript": [
        "$(\"#a5086ddd3-a937-4282-8e79-88e701ba394b > .completed-part\").css(\"width\", \"26.500000%\")"
       ],
       "metadata": {},
       "output_type": "display_data"
      },
      {
       "javascript": [
        "$(\"#a5086ddd3-a937-4282-8e79-88e701ba394b > .running-part\").css(\"width\", \"0.500000%\")"
       ],
       "metadata": {},
       "output_type": "display_data"
      },
      {
       "javascript": [
        "$(\"#a5086ddd3-a937-4282-8e79-88e701ba394b > .text > .main\").text(\"53/200 (26%) in 11.6 s, 0.22 s last iter; eta 32+-8 s\")"
       ],
       "metadata": {},
       "output_type": "display_data"
      },
      {
       "javascript": [
        "$(\"#a5086ddd3-a937-4282-8e79-88e701ba394b > .text > .extra\").text(\"|||| Perplexity: 463.633055015; Topics_left: 150\")"
       ],
       "metadata": {},
       "output_type": "display_data"
      },
      {
       "javascript": [
        "$(\"#a5086ddd3-a937-4282-8e79-88e701ba394b > .completed-part\").css(\"width\", \"27.000000%\")"
       ],
       "metadata": {},
       "output_type": "display_data"
      },
      {
       "javascript": [
        "$(\"#a5086ddd3-a937-4282-8e79-88e701ba394b > .running-part\").css(\"width\", \"0.500000%\")"
       ],
       "metadata": {},
       "output_type": "display_data"
      },
      {
       "javascript": [
        "$(\"#a5086ddd3-a937-4282-8e79-88e701ba394b > .text > .main\").text(\"54/200 (27%) in 11.8 s, 0.22 s last iter; eta 32+-8 s\")"
       ],
       "metadata": {},
       "output_type": "display_data"
      },
      {
       "javascript": [
        "$(\"#a5086ddd3-a937-4282-8e79-88e701ba394b > .text > .extra\").text(\"|||| Perplexity: 463.233898622; Topics_left: 150\")"
       ],
       "metadata": {},
       "output_type": "display_data"
      },
      {
       "javascript": [
        "$(\"#a5086ddd3-a937-4282-8e79-88e701ba394b > .completed-part\").css(\"width\", \"27.500000%\")"
       ],
       "metadata": {},
       "output_type": "display_data"
      },
      {
       "javascript": [
        "$(\"#a5086ddd3-a937-4282-8e79-88e701ba394b > .running-part\").css(\"width\", \"0.500000%\")"
       ],
       "metadata": {},
       "output_type": "display_data"
      },
      {
       "javascript": [
        "$(\"#a5086ddd3-a937-4282-8e79-88e701ba394b > .text > .main\").text(\"55/200 (27%) in 12.0 s, 0.22 s last iter; eta 32+-8 s\")"
       ],
       "metadata": {},
       "output_type": "display_data"
      },
      {
       "javascript": [
        "$(\"#a5086ddd3-a937-4282-8e79-88e701ba394b > .text > .extra\").text(\"|||| Perplexity: 462.884597167; Topics_left: 150\")"
       ],
       "metadata": {},
       "output_type": "display_data"
      },
      {
       "javascript": [
        "$(\"#a5086ddd3-a937-4282-8e79-88e701ba394b > .completed-part\").css(\"width\", \"28.000000%\")"
       ],
       "metadata": {},
       "output_type": "display_data"
      },
      {
       "javascript": [
        "$(\"#a5086ddd3-a937-4282-8e79-88e701ba394b > .running-part\").css(\"width\", \"0.500000%\")"
       ],
       "metadata": {},
       "output_type": "display_data"
      },
      {
       "javascript": [
        "$(\"#a5086ddd3-a937-4282-8e79-88e701ba394b > .text > .main\").text(\"56/200 (28%) in 12.2 s, 0.22 s last iter; eta 31+-8 s\")"
       ],
       "metadata": {},
       "output_type": "display_data"
      },
      {
       "javascript": [
        "$(\"#a5086ddd3-a937-4282-8e79-88e701ba394b > .text > .extra\").text(\"|||| Perplexity: 462.553550944; Topics_left: 150\")"
       ],
       "metadata": {},
       "output_type": "display_data"
      },
      {
       "javascript": [
        "$(\"#a5086ddd3-a937-4282-8e79-88e701ba394b > .completed-part\").css(\"width\", \"28.500000%\")"
       ],
       "metadata": {},
       "output_type": "display_data"
      },
      {
       "javascript": [
        "$(\"#a5086ddd3-a937-4282-8e79-88e701ba394b > .running-part\").css(\"width\", \"0.500000%\")"
       ],
       "metadata": {},
       "output_type": "display_data"
      },
      {
       "javascript": [
        "$(\"#a5086ddd3-a937-4282-8e79-88e701ba394b > .text > .main\").text(\"57/200 (28%) in 12.4 s, 0.21 s last iter; eta 31+-8 s\")"
       ],
       "metadata": {},
       "output_type": "display_data"
      },
      {
       "javascript": [
        "$(\"#a5086ddd3-a937-4282-8e79-88e701ba394b > .text > .extra\").text(\"|||| Perplexity: 462.215678227; Topics_left: 150\")"
       ],
       "metadata": {},
       "output_type": "display_data"
      },
      {
       "javascript": [
        "$(\"#a5086ddd3-a937-4282-8e79-88e701ba394b > .completed-part\").css(\"width\", \"29.000000%\")"
       ],
       "metadata": {},
       "output_type": "display_data"
      },
      {
       "javascript": [
        "$(\"#a5086ddd3-a937-4282-8e79-88e701ba394b > .running-part\").css(\"width\", \"0.500000%\")"
       ],
       "metadata": {},
       "output_type": "display_data"
      },
      {
       "javascript": [
        "$(\"#a5086ddd3-a937-4282-8e79-88e701ba394b > .text > .main\").text(\"58/200 (28%) in 12.7 s, 0.21 s last iter; eta 31+-7 s\")"
       ],
       "metadata": {},
       "output_type": "display_data"
      },
      {
       "javascript": [
        "$(\"#a5086ddd3-a937-4282-8e79-88e701ba394b > .text > .extra\").text(\"|||| Perplexity: 461.902435269; Topics_left: 150\")"
       ],
       "metadata": {},
       "output_type": "display_data"
      },
      {
       "javascript": [
        "$(\"#a5086ddd3-a937-4282-8e79-88e701ba394b > .completed-part\").css(\"width\", \"29.500000%\")"
       ],
       "metadata": {},
       "output_type": "display_data"
      },
      {
       "javascript": [
        "$(\"#a5086ddd3-a937-4282-8e79-88e701ba394b > .running-part\").css(\"width\", \"0.500000%\")"
       ],
       "metadata": {},
       "output_type": "display_data"
      },
      {
       "javascript": [
        "$(\"#a5086ddd3-a937-4282-8e79-88e701ba394b > .text > .main\").text(\"59/200 (29%) in 12.9 s, 0.23 s last iter; eta 31+-7 s\")"
       ],
       "metadata": {},
       "output_type": "display_data"
      },
      {
       "javascript": [
        "$(\"#a5086ddd3-a937-4282-8e79-88e701ba394b > .text > .extra\").text(\"|||| Perplexity: 461.598702653; Topics_left: 150\")"
       ],
       "metadata": {},
       "output_type": "display_data"
      },
      {
       "javascript": [
        "$(\"#a5086ddd3-a937-4282-8e79-88e701ba394b > .completed-part\").css(\"width\", \"30.000000%\")"
       ],
       "metadata": {},
       "output_type": "display_data"
      },
      {
       "javascript": [
        "$(\"#a5086ddd3-a937-4282-8e79-88e701ba394b > .running-part\").css(\"width\", \"0.500000%\")"
       ],
       "metadata": {},
       "output_type": "display_data"
      },
      {
       "javascript": [
        "$(\"#a5086ddd3-a937-4282-8e79-88e701ba394b > .text > .main\").text(\"60/200 (30%) in 13.1 s, 0.21 s last iter; eta 31+-7 s\")"
       ],
       "metadata": {},
       "output_type": "display_data"
      },
      {
       "javascript": [
        "$(\"#a5086ddd3-a937-4282-8e79-88e701ba394b > .text > .extra\").text(\"|||| Perplexity: 461.336505158; Topics_left: 150\")"
       ],
       "metadata": {},
       "output_type": "display_data"
      },
      {
       "javascript": [
        "$(\"#a5086ddd3-a937-4282-8e79-88e701ba394b > .completed-part\").css(\"width\", \"30.500000%\")"
       ],
       "metadata": {},
       "output_type": "display_data"
      },
      {
       "javascript": [
        "$(\"#a5086ddd3-a937-4282-8e79-88e701ba394b > .running-part\").css(\"width\", \"0.500000%\")"
       ],
       "metadata": {},
       "output_type": "display_data"
      },
      {
       "javascript": [
        "$(\"#a5086ddd3-a937-4282-8e79-88e701ba394b > .text > .main\").text(\"61/200 (30%) in 13.3 s, 0.21 s last iter; eta 30+-7 s\")"
       ],
       "metadata": {},
       "output_type": "display_data"
      },
      {
       "javascript": [
        "$(\"#a5086ddd3-a937-4282-8e79-88e701ba394b > .text > .extra\").text(\"|||| Perplexity: 461.062607063; Topics_left: 150\")"
       ],
       "metadata": {},
       "output_type": "display_data"
      },
      {
       "javascript": [
        "$(\"#a5086ddd3-a937-4282-8e79-88e701ba394b > .completed-part\").css(\"width\", \"31.000000%\")"
       ],
       "metadata": {},
       "output_type": "display_data"
      },
      {
       "javascript": [
        "$(\"#a5086ddd3-a937-4282-8e79-88e701ba394b > .running-part\").css(\"width\", \"0.500000%\")"
       ],
       "metadata": {},
       "output_type": "display_data"
      },
      {
       "javascript": [
        "$(\"#a5086ddd3-a937-4282-8e79-88e701ba394b > .text > .main\").text(\"62/200 (31%) in 13.5 s, 0.20 s last iter; eta 30+-7 s\")"
       ],
       "metadata": {},
       "output_type": "display_data"
      },
      {
       "javascript": [
        "$(\"#a5086ddd3-a937-4282-8e79-88e701ba394b > .text > .extra\").text(\"|||| Perplexity: 460.807115558; Topics_left: 150\")"
       ],
       "metadata": {},
       "output_type": "display_data"
      },
      {
       "javascript": [
        "$(\"#a5086ddd3-a937-4282-8e79-88e701ba394b > .completed-part\").css(\"width\", \"31.500000%\")"
       ],
       "metadata": {},
       "output_type": "display_data"
      },
      {
       "javascript": [
        "$(\"#a5086ddd3-a937-4282-8e79-88e701ba394b > .running-part\").css(\"width\", \"0.500000%\")"
       ],
       "metadata": {},
       "output_type": "display_data"
      },
      {
       "javascript": [
        "$(\"#a5086ddd3-a937-4282-8e79-88e701ba394b > .text > .main\").text(\"63/200 (31%) in 13.7 s, 0.20 s last iter; eta 30+-7 s\")"
       ],
       "metadata": {},
       "output_type": "display_data"
      },
      {
       "javascript": [
        "$(\"#a5086ddd3-a937-4282-8e79-88e701ba394b > .text > .extra\").text(\"|||| Perplexity: 460.583756611; Topics_left: 150\")"
       ],
       "metadata": {},
       "output_type": "display_data"
      },
      {
       "javascript": [
        "$(\"#a5086ddd3-a937-4282-8e79-88e701ba394b > .completed-part\").css(\"width\", \"32.000000%\")"
       ],
       "metadata": {},
       "output_type": "display_data"
      },
      {
       "javascript": [
        "$(\"#a5086ddd3-a937-4282-8e79-88e701ba394b > .running-part\").css(\"width\", \"0.500000%\")"
       ],
       "metadata": {},
       "output_type": "display_data"
      },
      {
       "javascript": [
        "$(\"#a5086ddd3-a937-4282-8e79-88e701ba394b > .text > .main\").text(\"64/200 (32%) in 13.9 s, 0.20 s last iter; eta 30+-7 s\")"
       ],
       "metadata": {},
       "output_type": "display_data"
      },
      {
       "javascript": [
        "$(\"#a5086ddd3-a937-4282-8e79-88e701ba394b > .text > .extra\").text(\"|||| Perplexity: 460.374895618; Topics_left: 150\")"
       ],
       "metadata": {},
       "output_type": "display_data"
      },
      {
       "javascript": [
        "$(\"#a5086ddd3-a937-4282-8e79-88e701ba394b > .completed-part\").css(\"width\", \"32.500000%\")"
       ],
       "metadata": {},
       "output_type": "display_data"
      },
      {
       "javascript": [
        "$(\"#a5086ddd3-a937-4282-8e79-88e701ba394b > .running-part\").css(\"width\", \"0.500000%\")"
       ],
       "metadata": {},
       "output_type": "display_data"
      },
      {
       "javascript": [
        "$(\"#a5086ddd3-a937-4282-8e79-88e701ba394b > .text > .main\").text(\"65/200 (32%) in 14.1 s, 0.20 s last iter; eta 29+-7 s\")"
       ],
       "metadata": {},
       "output_type": "display_data"
      },
      {
       "javascript": [
        "$(\"#a5086ddd3-a937-4282-8e79-88e701ba394b > .text > .extra\").text(\"|||| Perplexity: 460.145034185; Topics_left: 150\")"
       ],
       "metadata": {},
       "output_type": "display_data"
      },
      {
       "javascript": [
        "$(\"#a5086ddd3-a937-4282-8e79-88e701ba394b > .completed-part\").css(\"width\", \"33.000000%\")"
       ],
       "metadata": {},
       "output_type": "display_data"
      },
      {
       "javascript": [
        "$(\"#a5086ddd3-a937-4282-8e79-88e701ba394b > .running-part\").css(\"width\", \"0.500000%\")"
       ],
       "metadata": {},
       "output_type": "display_data"
      },
      {
       "javascript": [
        "$(\"#a5086ddd3-a937-4282-8e79-88e701ba394b > .text > .main\").text(\"66/200 (33%) in 14.3 s, 0.20 s last iter; eta 29+-7 s\")"
       ],
       "metadata": {},
       "output_type": "display_data"
      },
      {
       "javascript": [
        "$(\"#a5086ddd3-a937-4282-8e79-88e701ba394b > .text > .extra\").text(\"|||| Perplexity: 459.912731874; Topics_left: 150\")"
       ],
       "metadata": {},
       "output_type": "display_data"
      },
      {
       "javascript": [
        "$(\"#a5086ddd3-a937-4282-8e79-88e701ba394b > .completed-part\").css(\"width\", \"33.500000%\")"
       ],
       "metadata": {},
       "output_type": "display_data"
      },
      {
       "javascript": [
        "$(\"#a5086ddd3-a937-4282-8e79-88e701ba394b > .running-part\").css(\"width\", \"0.500000%\")"
       ],
       "metadata": {},
       "output_type": "display_data"
      },
      {
       "javascript": [
        "$(\"#a5086ddd3-a937-4282-8e79-88e701ba394b > .text > .main\").text(\"67/200 (33%) in 14.5 s, 0.20 s last iter; eta 29+-6 s\")"
       ],
       "metadata": {},
       "output_type": "display_data"
      },
      {
       "javascript": [
        "$(\"#a5086ddd3-a937-4282-8e79-88e701ba394b > .text > .extra\").text(\"|||| Perplexity: 459.693638063; Topics_left: 150\")"
       ],
       "metadata": {},
       "output_type": "display_data"
      },
      {
       "javascript": [
        "$(\"#a5086ddd3-a937-4282-8e79-88e701ba394b > .completed-part\").css(\"width\", \"34.000000%\")"
       ],
       "metadata": {},
       "output_type": "display_data"
      },
      {
       "javascript": [
        "$(\"#a5086ddd3-a937-4282-8e79-88e701ba394b > .running-part\").css(\"width\", \"0.500000%\")"
       ],
       "metadata": {},
       "output_type": "display_data"
      },
      {
       "javascript": [
        "$(\"#a5086ddd3-a937-4282-8e79-88e701ba394b > .text > .main\").text(\"68/200 (34%) in 14.7 s, 0.20 s last iter; eta 29+-6 s\")"
       ],
       "metadata": {},
       "output_type": "display_data"
      },
      {
       "javascript": [
        "$(\"#a5086ddd3-a937-4282-8e79-88e701ba394b > .text > .extra\").text(\"|||| Perplexity: 459.504011411; Topics_left: 150\")"
       ],
       "metadata": {},
       "output_type": "display_data"
      },
      {
       "javascript": [
        "$(\"#a5086ddd3-a937-4282-8e79-88e701ba394b > .completed-part\").css(\"width\", \"34.500000%\")"
       ],
       "metadata": {},
       "output_type": "display_data"
      },
      {
       "javascript": [
        "$(\"#a5086ddd3-a937-4282-8e79-88e701ba394b > .running-part\").css(\"width\", \"0.500000%\")"
       ],
       "metadata": {},
       "output_type": "display_data"
      },
      {
       "javascript": [
        "$(\"#a5086ddd3-a937-4282-8e79-88e701ba394b > .text > .main\").text(\"69/200 (34%) in 14.9 s, 0.21 s last iter; eta 28+-6 s\")"
       ],
       "metadata": {},
       "output_type": "display_data"
      },
      {
       "javascript": [
        "$(\"#a5086ddd3-a937-4282-8e79-88e701ba394b > .text > .extra\").text(\"|||| Perplexity: 459.301382557; Topics_left: 150\")"
       ],
       "metadata": {},
       "output_type": "display_data"
      },
      {
       "javascript": [
        "$(\"#a5086ddd3-a937-4282-8e79-88e701ba394b > .completed-part\").css(\"width\", \"35.000000%\")"
       ],
       "metadata": {},
       "output_type": "display_data"
      },
      {
       "javascript": [
        "$(\"#a5086ddd3-a937-4282-8e79-88e701ba394b > .running-part\").css(\"width\", \"0.500000%\")"
       ],
       "metadata": {},
       "output_type": "display_data"
      },
      {
       "javascript": [
        "$(\"#a5086ddd3-a937-4282-8e79-88e701ba394b > .text > .main\").text(\"70/200 (35%) in 15.1 s, 0.20 s last iter; eta 28+-6 s\")"
       ],
       "metadata": {},
       "output_type": "display_data"
      },
      {
       "javascript": [
        "$(\"#a5086ddd3-a937-4282-8e79-88e701ba394b > .text > .extra\").text(\"|||| Perplexity: 459.125311649; Topics_left: 150\")"
       ],
       "metadata": {},
       "output_type": "display_data"
      },
      {
       "javascript": [
        "$(\"#a5086ddd3-a937-4282-8e79-88e701ba394b > .completed-part\").css(\"width\", \"35.500000%\")"
       ],
       "metadata": {},
       "output_type": "display_data"
      },
      {
       "javascript": [
        "$(\"#a5086ddd3-a937-4282-8e79-88e701ba394b > .running-part\").css(\"width\", \"0.500000%\")"
       ],
       "metadata": {},
       "output_type": "display_data"
      },
      {
       "javascript": [
        "$(\"#a5086ddd3-a937-4282-8e79-88e701ba394b > .text > .main\").text(\"71/200 (35%) in 15.3 s, 0.20 s last iter; eta 28+-6 s\")"
       ],
       "metadata": {},
       "output_type": "display_data"
      },
      {
       "javascript": [
        "$(\"#a5086ddd3-a937-4282-8e79-88e701ba394b > .text > .extra\").text(\"|||| Perplexity: 458.90850549; Topics_left: 150\")"
       ],
       "metadata": {},
       "output_type": "display_data"
      },
      {
       "javascript": [
        "$(\"#a5086ddd3-a937-4282-8e79-88e701ba394b > .completed-part\").css(\"width\", \"36.000000%\")"
       ],
       "metadata": {},
       "output_type": "display_data"
      },
      {
       "javascript": [
        "$(\"#a5086ddd3-a937-4282-8e79-88e701ba394b > .running-part\").css(\"width\", \"0.500000%\")"
       ],
       "metadata": {},
       "output_type": "display_data"
      },
      {
       "javascript": [
        "$(\"#a5086ddd3-a937-4282-8e79-88e701ba394b > .text > .main\").text(\"72/200 (36%) in 15.5 s, 0.21 s last iter; eta 28+-6 s\")"
       ],
       "metadata": {},
       "output_type": "display_data"
      },
      {
       "javascript": [
        "$(\"#a5086ddd3-a937-4282-8e79-88e701ba394b > .text > .extra\").text(\"|||| Perplexity: 458.726849793; Topics_left: 150\")"
       ],
       "metadata": {},
       "output_type": "display_data"
      },
      {
       "javascript": [
        "$(\"#a5086ddd3-a937-4282-8e79-88e701ba394b > .completed-part\").css(\"width\", \"36.500000%\")"
       ],
       "metadata": {},
       "output_type": "display_data"
      },
      {
       "javascript": [
        "$(\"#a5086ddd3-a937-4282-8e79-88e701ba394b > .running-part\").css(\"width\", \"0.500000%\")"
       ],
       "metadata": {},
       "output_type": "display_data"
      },
      {
       "javascript": [
        "$(\"#a5086ddd3-a937-4282-8e79-88e701ba394b > .text > .main\").text(\"73/200 (36%) in 15.7 s, 0.21 s last iter; eta 27+-6 s\")"
       ],
       "metadata": {},
       "output_type": "display_data"
      },
      {
       "javascript": [
        "$(\"#a5086ddd3-a937-4282-8e79-88e701ba394b > .text > .extra\").text(\"|||| Perplexity: 458.547495545; Topics_left: 150\")"
       ],
       "metadata": {},
       "output_type": "display_data"
      },
      {
       "javascript": [
        "$(\"#a5086ddd3-a937-4282-8e79-88e701ba394b > .completed-part\").css(\"width\", \"37.000000%\")"
       ],
       "metadata": {},
       "output_type": "display_data"
      },
      {
       "javascript": [
        "$(\"#a5086ddd3-a937-4282-8e79-88e701ba394b > .running-part\").css(\"width\", \"0.500000%\")"
       ],
       "metadata": {},
       "output_type": "display_data"
      },
      {
       "javascript": [
        "$(\"#a5086ddd3-a937-4282-8e79-88e701ba394b > .text > .main\").text(\"74/200 (37%) in 16.0 s, 0.21 s last iter; eta 27+-6 s\")"
       ],
       "metadata": {},
       "output_type": "display_data"
      },
      {
       "javascript": [
        "$(\"#a5086ddd3-a937-4282-8e79-88e701ba394b > .text > .extra\").text(\"|||| Perplexity: 458.394319488; Topics_left: 150\")"
       ],
       "metadata": {},
       "output_type": "display_data"
      },
      {
       "javascript": [
        "$(\"#a5086ddd3-a937-4282-8e79-88e701ba394b > .completed-part\").css(\"width\", \"37.500000%\")"
       ],
       "metadata": {},
       "output_type": "display_data"
      },
      {
       "javascript": [
        "$(\"#a5086ddd3-a937-4282-8e79-88e701ba394b > .running-part\").css(\"width\", \"0.500000%\")"
       ],
       "metadata": {},
       "output_type": "display_data"
      },
      {
       "javascript": [
        "$(\"#a5086ddd3-a937-4282-8e79-88e701ba394b > .text > .main\").text(\"75/200 (37%) in 16.2 s, 0.21 s last iter; eta 27+-6 s\")"
       ],
       "metadata": {},
       "output_type": "display_data"
      },
      {
       "javascript": [
        "$(\"#a5086ddd3-a937-4282-8e79-88e701ba394b > .text > .extra\").text(\"|||| Perplexity: 458.233555613; Topics_left: 150\")"
       ],
       "metadata": {},
       "output_type": "display_data"
      },
      {
       "javascript": [
        "$(\"#a5086ddd3-a937-4282-8e79-88e701ba394b > .completed-part\").css(\"width\", \"38.000000%\")"
       ],
       "metadata": {},
       "output_type": "display_data"
      },
      {
       "javascript": [
        "$(\"#a5086ddd3-a937-4282-8e79-88e701ba394b > .running-part\").css(\"width\", \"0.500000%\")"
       ],
       "metadata": {},
       "output_type": "display_data"
      },
      {
       "javascript": [
        "$(\"#a5086ddd3-a937-4282-8e79-88e701ba394b > .text > .main\").text(\"76/200 (38%) in 16.4 s, 0.20 s last iter; eta 27+-6 s\")"
       ],
       "metadata": {},
       "output_type": "display_data"
      },
      {
       "javascript": [
        "$(\"#a5086ddd3-a937-4282-8e79-88e701ba394b > .text > .extra\").text(\"|||| Perplexity: 458.099257559; Topics_left: 150\")"
       ],
       "metadata": {},
       "output_type": "display_data"
      },
      {
       "javascript": [
        "$(\"#a5086ddd3-a937-4282-8e79-88e701ba394b > .completed-part\").css(\"width\", \"38.500000%\")"
       ],
       "metadata": {},
       "output_type": "display_data"
      },
      {
       "javascript": [
        "$(\"#a5086ddd3-a937-4282-8e79-88e701ba394b > .running-part\").css(\"width\", \"0.500000%\")"
       ],
       "metadata": {},
       "output_type": "display_data"
      },
      {
       "javascript": [
        "$(\"#a5086ddd3-a937-4282-8e79-88e701ba394b > .text > .main\").text(\"77/200 (38%) in 16.6 s, 0.21 s last iter; eta 26+-6 s\")"
       ],
       "metadata": {},
       "output_type": "display_data"
      },
      {
       "javascript": [
        "$(\"#a5086ddd3-a937-4282-8e79-88e701ba394b > .text > .extra\").text(\"|||| Perplexity: 457.970724736; Topics_left: 150\")"
       ],
       "metadata": {},
       "output_type": "display_data"
      },
      {
       "javascript": [
        "$(\"#a5086ddd3-a937-4282-8e79-88e701ba394b > .completed-part\").css(\"width\", \"39.000000%\")"
       ],
       "metadata": {},
       "output_type": "display_data"
      },
      {
       "javascript": [
        "$(\"#a5086ddd3-a937-4282-8e79-88e701ba394b > .running-part\").css(\"width\", \"0.500000%\")"
       ],
       "metadata": {},
       "output_type": "display_data"
      },
      {
       "javascript": [
        "$(\"#a5086ddd3-a937-4282-8e79-88e701ba394b > .text > .main\").text(\"78/200 (39%) in 16.8 s, 0.20 s last iter; eta 26+-6 s\")"
       ],
       "metadata": {},
       "output_type": "display_data"
      },
      {
       "javascript": [
        "$(\"#a5086ddd3-a937-4282-8e79-88e701ba394b > .text > .extra\").text(\"|||| Perplexity: 457.820921355; Topics_left: 150\")"
       ],
       "metadata": {},
       "output_type": "display_data"
      },
      {
       "javascript": [
        "$(\"#a5086ddd3-a937-4282-8e79-88e701ba394b > .completed-part\").css(\"width\", \"39.500000%\")"
       ],
       "metadata": {},
       "output_type": "display_data"
      },
      {
       "javascript": [
        "$(\"#a5086ddd3-a937-4282-8e79-88e701ba394b > .running-part\").css(\"width\", \"0.500000%\")"
       ],
       "metadata": {},
       "output_type": "display_data"
      },
      {
       "javascript": [
        "$(\"#a5086ddd3-a937-4282-8e79-88e701ba394b > .text > .main\").text(\"79/200 (39%) in 17.0 s, 0.21 s last iter; eta 26+-5 s\")"
       ],
       "metadata": {},
       "output_type": "display_data"
      },
      {
       "javascript": [
        "$(\"#a5086ddd3-a937-4282-8e79-88e701ba394b > .text > .extra\").text(\"|||| Perplexity: 457.677207075; Topics_left: 150\")"
       ],
       "metadata": {},
       "output_type": "display_data"
      },
      {
       "javascript": [
        "$(\"#a5086ddd3-a937-4282-8e79-88e701ba394b > .completed-part\").css(\"width\", \"40.000000%\")"
       ],
       "metadata": {},
       "output_type": "display_data"
      },
      {
       "javascript": [
        "$(\"#a5086ddd3-a937-4282-8e79-88e701ba394b > .running-part\").css(\"width\", \"0.500000%\")"
       ],
       "metadata": {},
       "output_type": "display_data"
      },
      {
       "javascript": [
        "$(\"#a5086ddd3-a937-4282-8e79-88e701ba394b > .text > .main\").text(\"80/200 (40%) in 17.2 s, 0.20 s last iter; eta 26+-5 s\")"
       ],
       "metadata": {},
       "output_type": "display_data"
      },
      {
       "javascript": [
        "$(\"#a5086ddd3-a937-4282-8e79-88e701ba394b > .text > .extra\").text(\"|||| Perplexity: 457.549428296; Topics_left: 150\")"
       ],
       "metadata": {},
       "output_type": "display_data"
      },
      {
       "javascript": [
        "$(\"#a5086ddd3-a937-4282-8e79-88e701ba394b > .completed-part\").css(\"width\", \"40.500000%\")"
       ],
       "metadata": {},
       "output_type": "display_data"
      },
      {
       "javascript": [
        "$(\"#a5086ddd3-a937-4282-8e79-88e701ba394b > .running-part\").css(\"width\", \"0.500000%\")"
       ],
       "metadata": {},
       "output_type": "display_data"
      },
      {
       "javascript": [
        "$(\"#a5086ddd3-a937-4282-8e79-88e701ba394b > .text > .main\").text(\"81/200 (40%) in 17.4 s, 0.20 s last iter; eta 26+-5 s\")"
       ],
       "metadata": {},
       "output_type": "display_data"
      },
      {
       "javascript": [
        "$(\"#a5086ddd3-a937-4282-8e79-88e701ba394b > .text > .extra\").text(\"|||| Perplexity: 457.423591543; Topics_left: 150\")"
       ],
       "metadata": {},
       "output_type": "display_data"
      },
      {
       "javascript": [
        "$(\"#a5086ddd3-a937-4282-8e79-88e701ba394b > .completed-part\").css(\"width\", \"41.000000%\")"
       ],
       "metadata": {},
       "output_type": "display_data"
      },
      {
       "javascript": [
        "$(\"#a5086ddd3-a937-4282-8e79-88e701ba394b > .running-part\").css(\"width\", \"0.500000%\")"
       ],
       "metadata": {},
       "output_type": "display_data"
      },
      {
       "javascript": [
        "$(\"#a5086ddd3-a937-4282-8e79-88e701ba394b > .text > .main\").text(\"82/200 (41%) in 17.6 s, 0.21 s last iter; eta 25+-5 s\")"
       ],
       "metadata": {},
       "output_type": "display_data"
      },
      {
       "javascript": [
        "$(\"#a5086ddd3-a937-4282-8e79-88e701ba394b > .text > .extra\").text(\"|||| Perplexity: 457.306365717; Topics_left: 150\")"
       ],
       "metadata": {},
       "output_type": "display_data"
      },
      {
       "javascript": [
        "$(\"#a5086ddd3-a937-4282-8e79-88e701ba394b > .completed-part\").css(\"width\", \"41.500000%\")"
       ],
       "metadata": {},
       "output_type": "display_data"
      },
      {
       "javascript": [
        "$(\"#a5086ddd3-a937-4282-8e79-88e701ba394b > .running-part\").css(\"width\", \"0.500000%\")"
       ],
       "metadata": {},
       "output_type": "display_data"
      },
      {
       "javascript": [
        "$(\"#a5086ddd3-a937-4282-8e79-88e701ba394b > .text > .main\").text(\"83/200 (41%) in 17.8 s, 0.21 s last iter; eta 25+-5 s\")"
       ],
       "metadata": {},
       "output_type": "display_data"
      },
      {
       "javascript": [
        "$(\"#a5086ddd3-a937-4282-8e79-88e701ba394b > .text > .extra\").text(\"|||| Perplexity: 457.186629437; Topics_left: 150\")"
       ],
       "metadata": {},
       "output_type": "display_data"
      },
      {
       "javascript": [
        "$(\"#a5086ddd3-a937-4282-8e79-88e701ba394b > .completed-part\").css(\"width\", \"42.000000%\")"
       ],
       "metadata": {},
       "output_type": "display_data"
      },
      {
       "javascript": [
        "$(\"#a5086ddd3-a937-4282-8e79-88e701ba394b > .running-part\").css(\"width\", \"0.500000%\")"
       ],
       "metadata": {},
       "output_type": "display_data"
      },
      {
       "javascript": [
        "$(\"#a5086ddd3-a937-4282-8e79-88e701ba394b > .text > .main\").text(\"84/200 (42%) in 18.0 s, 0.21 s last iter; eta 25+-5 s\")"
       ],
       "metadata": {},
       "output_type": "display_data"
      },
      {
       "javascript": [
        "$(\"#a5086ddd3-a937-4282-8e79-88e701ba394b > .text > .extra\").text(\"|||| Perplexity: 457.067241985; Topics_left: 150\")"
       ],
       "metadata": {},
       "output_type": "display_data"
      },
      {
       "javascript": [
        "$(\"#a5086ddd3-a937-4282-8e79-88e701ba394b > .completed-part\").css(\"width\", \"42.500000%\")"
       ],
       "metadata": {},
       "output_type": "display_data"
      },
      {
       "javascript": [
        "$(\"#a5086ddd3-a937-4282-8e79-88e701ba394b > .running-part\").css(\"width\", \"0.500000%\")"
       ],
       "metadata": {},
       "output_type": "display_data"
      },
      {
       "javascript": [
        "$(\"#a5086ddd3-a937-4282-8e79-88e701ba394b > .text > .main\").text(\"85/200 (42%) in 18.2 s, 0.21 s last iter; eta 25+-5 s\")"
       ],
       "metadata": {},
       "output_type": "display_data"
      },
      {
       "javascript": [
        "$(\"#a5086ddd3-a937-4282-8e79-88e701ba394b > .text > .extra\").text(\"|||| Perplexity: 456.982483123; Topics_left: 150\")"
       ],
       "metadata": {},
       "output_type": "display_data"
      },
      {
       "javascript": [
        "$(\"#a5086ddd3-a937-4282-8e79-88e701ba394b > .completed-part\").css(\"width\", \"43.000000%\")"
       ],
       "metadata": {},
       "output_type": "display_data"
      },
      {
       "javascript": [
        "$(\"#a5086ddd3-a937-4282-8e79-88e701ba394b > .running-part\").css(\"width\", \"0.500000%\")"
       ],
       "metadata": {},
       "output_type": "display_data"
      },
      {
       "javascript": [
        "$(\"#a5086ddd3-a937-4282-8e79-88e701ba394b > .text > .main\").text(\"86/200 (43%) in 18.4 s, 0.21 s last iter; eta 24+-5 s\")"
       ],
       "metadata": {},
       "output_type": "display_data"
      },
      {
       "javascript": [
        "$(\"#a5086ddd3-a937-4282-8e79-88e701ba394b > .text > .extra\").text(\"|||| Perplexity: 456.881237525; Topics_left: 150\")"
       ],
       "metadata": {},
       "output_type": "display_data"
      },
      {
       "javascript": [
        "$(\"#a5086ddd3-a937-4282-8e79-88e701ba394b > .completed-part\").css(\"width\", \"43.500000%\")"
       ],
       "metadata": {},
       "output_type": "display_data"
      },
      {
       "javascript": [
        "$(\"#a5086ddd3-a937-4282-8e79-88e701ba394b > .running-part\").css(\"width\", \"0.500000%\")"
       ],
       "metadata": {},
       "output_type": "display_data"
      },
      {
       "javascript": [
        "$(\"#a5086ddd3-a937-4282-8e79-88e701ba394b > .text > .main\").text(\"87/200 (43%) in 18.7 s, 0.22 s last iter; eta 24+-5 s\")"
       ],
       "metadata": {},
       "output_type": "display_data"
      },
      {
       "javascript": [
        "$(\"#a5086ddd3-a937-4282-8e79-88e701ba394b > .text > .extra\").text(\"|||| Perplexity: 456.784456283; Topics_left: 150\")"
       ],
       "metadata": {},
       "output_type": "display_data"
      },
      {
       "javascript": [
        "$(\"#a5086ddd3-a937-4282-8e79-88e701ba394b > .completed-part\").css(\"width\", \"44.000000%\")"
       ],
       "metadata": {},
       "output_type": "display_data"
      },
      {
       "javascript": [
        "$(\"#a5086ddd3-a937-4282-8e79-88e701ba394b > .running-part\").css(\"width\", \"0.500000%\")"
       ],
       "metadata": {},
       "output_type": "display_data"
      },
      {
       "javascript": [
        "$(\"#a5086ddd3-a937-4282-8e79-88e701ba394b > .text > .main\").text(\"88/200 (44%) in 18.9 s, 0.22 s last iter; eta 24+-5 s\")"
       ],
       "metadata": {},
       "output_type": "display_data"
      },
      {
       "javascript": [
        "$(\"#a5086ddd3-a937-4282-8e79-88e701ba394b > .text > .extra\").text(\"|||| Perplexity: 456.688964404; Topics_left: 150\")"
       ],
       "metadata": {},
       "output_type": "display_data"
      },
      {
       "javascript": [
        "$(\"#a5086ddd3-a937-4282-8e79-88e701ba394b > .completed-part\").css(\"width\", \"44.500000%\")"
       ],
       "metadata": {},
       "output_type": "display_data"
      },
      {
       "javascript": [
        "$(\"#a5086ddd3-a937-4282-8e79-88e701ba394b > .running-part\").css(\"width\", \"0.500000%\")"
       ],
       "metadata": {},
       "output_type": "display_data"
      },
      {
       "javascript": [
        "$(\"#a5086ddd3-a937-4282-8e79-88e701ba394b > .text > .main\").text(\"89/200 (44%) in 19.1 s, 0.21 s last iter; eta 24+-5 s\")"
       ],
       "metadata": {},
       "output_type": "display_data"
      },
      {
       "javascript": [
        "$(\"#a5086ddd3-a937-4282-8e79-88e701ba394b > .text > .extra\").text(\"|||| Perplexity: 456.582392397; Topics_left: 150\")"
       ],
       "metadata": {},
       "output_type": "display_data"
      },
      {
       "javascript": [
        "$(\"#a5086ddd3-a937-4282-8e79-88e701ba394b > .completed-part\").css(\"width\", \"45.000000%\")"
       ],
       "metadata": {},
       "output_type": "display_data"
      },
      {
       "javascript": [
        "$(\"#a5086ddd3-a937-4282-8e79-88e701ba394b > .running-part\").css(\"width\", \"0.500000%\")"
       ],
       "metadata": {},
       "output_type": "display_data"
      },
      {
       "javascript": [
        "$(\"#a5086ddd3-a937-4282-8e79-88e701ba394b > .text > .main\").text(\"90/200 (45%) in 19.3 s, 0.21 s last iter; eta 24+-5 s\")"
       ],
       "metadata": {},
       "output_type": "display_data"
      },
      {
       "javascript": [
        "$(\"#a5086ddd3-a937-4282-8e79-88e701ba394b > .text > .extra\").text(\"|||| Perplexity: 456.47457699; Topics_left: 150\")"
       ],
       "metadata": {},
       "output_type": "display_data"
      },
      {
       "javascript": [
        "$(\"#a5086ddd3-a937-4282-8e79-88e701ba394b > .completed-part\").css(\"width\", \"45.500000%\")"
       ],
       "metadata": {},
       "output_type": "display_data"
      },
      {
       "javascript": [
        "$(\"#a5086ddd3-a937-4282-8e79-88e701ba394b > .running-part\").css(\"width\", \"0.500000%\")"
       ],
       "metadata": {},
       "output_type": "display_data"
      },
      {
       "javascript": [
        "$(\"#a5086ddd3-a937-4282-8e79-88e701ba394b > .text > .main\").text(\"91/200 (45%) in 19.5 s, 0.21 s last iter; eta 23+-5 s\")"
       ],
       "metadata": {},
       "output_type": "display_data"
      },
      {
       "javascript": [
        "$(\"#a5086ddd3-a937-4282-8e79-88e701ba394b > .text > .extra\").text(\"|||| Perplexity: 456.375979899; Topics_left: 150\")"
       ],
       "metadata": {},
       "output_type": "display_data"
      },
      {
       "javascript": [
        "$(\"#a5086ddd3-a937-4282-8e79-88e701ba394b > .completed-part\").css(\"width\", \"46.000000%\")"
       ],
       "metadata": {},
       "output_type": "display_data"
      },
      {
       "javascript": [
        "$(\"#a5086ddd3-a937-4282-8e79-88e701ba394b > .running-part\").css(\"width\", \"0.500000%\")"
       ],
       "metadata": {},
       "output_type": "display_data"
      },
      {
       "javascript": [
        "$(\"#a5086ddd3-a937-4282-8e79-88e701ba394b > .text > .main\").text(\"92/200 (46%) in 19.7 s, 0.21 s last iter; eta 23+-5 s\")"
       ],
       "metadata": {},
       "output_type": "display_data"
      },
      {
       "javascript": [
        "$(\"#a5086ddd3-a937-4282-8e79-88e701ba394b > .text > .extra\").text(\"|||| Perplexity: 456.296103341; Topics_left: 150\")"
       ],
       "metadata": {},
       "output_type": "display_data"
      },
      {
       "javascript": [
        "$(\"#a5086ddd3-a937-4282-8e79-88e701ba394b > .completed-part\").css(\"width\", \"46.500000%\")"
       ],
       "metadata": {},
       "output_type": "display_data"
      },
      {
       "javascript": [
        "$(\"#a5086ddd3-a937-4282-8e79-88e701ba394b > .running-part\").css(\"width\", \"0.500000%\")"
       ],
       "metadata": {},
       "output_type": "display_data"
      },
      {
       "javascript": [
        "$(\"#a5086ddd3-a937-4282-8e79-88e701ba394b > .text > .main\").text(\"93/200 (46%) in 19.9 s, 0.20 s last iter; eta 23+-4 s\")"
       ],
       "metadata": {},
       "output_type": "display_data"
      },
      {
       "javascript": [
        "$(\"#a5086ddd3-a937-4282-8e79-88e701ba394b > .text > .extra\").text(\"|||| Perplexity: 456.197544799; Topics_left: 150\")"
       ],
       "metadata": {},
       "output_type": "display_data"
      },
      {
       "javascript": [
        "$(\"#a5086ddd3-a937-4282-8e79-88e701ba394b > .completed-part\").css(\"width\", \"47.000000%\")"
       ],
       "metadata": {},
       "output_type": "display_data"
      },
      {
       "javascript": [
        "$(\"#a5086ddd3-a937-4282-8e79-88e701ba394b > .running-part\").css(\"width\", \"0.500000%\")"
       ],
       "metadata": {},
       "output_type": "display_data"
      },
      {
       "javascript": [
        "$(\"#a5086ddd3-a937-4282-8e79-88e701ba394b > .text > .main\").text(\"94/200 (47%) in 20.1 s, 0.20 s last iter; eta 23+-4 s\")"
       ],
       "metadata": {},
       "output_type": "display_data"
      },
      {
       "javascript": [
        "$(\"#a5086ddd3-a937-4282-8e79-88e701ba394b > .text > .extra\").text(\"|||| Perplexity: 456.11136314; Topics_left: 150\")"
       ],
       "metadata": {},
       "output_type": "display_data"
      },
      {
       "javascript": [
        "$(\"#a5086ddd3-a937-4282-8e79-88e701ba394b > .completed-part\").css(\"width\", \"47.500000%\")"
       ],
       "metadata": {},
       "output_type": "display_data"
      },
      {
       "javascript": [
        "$(\"#a5086ddd3-a937-4282-8e79-88e701ba394b > .running-part\").css(\"width\", \"0.500000%\")"
       ],
       "metadata": {},
       "output_type": "display_data"
      },
      {
       "javascript": [
        "$(\"#a5086ddd3-a937-4282-8e79-88e701ba394b > .text > .main\").text(\"95/200 (47%) in 20.3 s, 0.20 s last iter; eta 22+-4 s\")"
       ],
       "metadata": {},
       "output_type": "display_data"
      },
      {
       "javascript": [
        "$(\"#a5086ddd3-a937-4282-8e79-88e701ba394b > .text > .extra\").text(\"|||| Perplexity: 456.012844501; Topics_left: 150\")"
       ],
       "metadata": {},
       "output_type": "display_data"
      },
      {
       "javascript": [
        "$(\"#a5086ddd3-a937-4282-8e79-88e701ba394b > .completed-part\").css(\"width\", \"48.000000%\")"
       ],
       "metadata": {},
       "output_type": "display_data"
      },
      {
       "javascript": [
        "$(\"#a5086ddd3-a937-4282-8e79-88e701ba394b > .running-part\").css(\"width\", \"0.500000%\")"
       ],
       "metadata": {},
       "output_type": "display_data"
      },
      {
       "javascript": [
        "$(\"#a5086ddd3-a937-4282-8e79-88e701ba394b > .text > .main\").text(\"96/200 (48%) in 20.5 s, 0.21 s last iter; eta 22+-4 s\")"
       ],
       "metadata": {},
       "output_type": "display_data"
      },
      {
       "javascript": [
        "$(\"#a5086ddd3-a937-4282-8e79-88e701ba394b > .text > .extra\").text(\"|||| Perplexity: 455.927964481; Topics_left: 150\")"
       ],
       "metadata": {},
       "output_type": "display_data"
      },
      {
       "javascript": [
        "$(\"#a5086ddd3-a937-4282-8e79-88e701ba394b > .completed-part\").css(\"width\", \"48.500000%\")"
       ],
       "metadata": {},
       "output_type": "display_data"
      },
      {
       "javascript": [
        "$(\"#a5086ddd3-a937-4282-8e79-88e701ba394b > .running-part\").css(\"width\", \"0.500000%\")"
       ],
       "metadata": {},
       "output_type": "display_data"
      },
      {
       "javascript": [
        "$(\"#a5086ddd3-a937-4282-8e79-88e701ba394b > .text > .main\").text(\"97/200 (48%) in 20.7 s, 0.20 s last iter; eta 22+-4 s\")"
       ],
       "metadata": {},
       "output_type": "display_data"
      },
      {
       "javascript": [
        "$(\"#a5086ddd3-a937-4282-8e79-88e701ba394b > .text > .extra\").text(\"|||| Perplexity: 455.854499012; Topics_left: 150\")"
       ],
       "metadata": {},
       "output_type": "display_data"
      },
      {
       "javascript": [
        "$(\"#a5086ddd3-a937-4282-8e79-88e701ba394b > .completed-part\").css(\"width\", \"49.000000%\")"
       ],
       "metadata": {},
       "output_type": "display_data"
      },
      {
       "javascript": [
        "$(\"#a5086ddd3-a937-4282-8e79-88e701ba394b > .running-part\").css(\"width\", \"0.500000%\")"
       ],
       "metadata": {},
       "output_type": "display_data"
      },
      {
       "javascript": [
        "$(\"#a5086ddd3-a937-4282-8e79-88e701ba394b > .text > .main\").text(\"98/200 (49%) in 20.9 s, 0.20 s last iter; eta 22+-4 s\")"
       ],
       "metadata": {},
       "output_type": "display_data"
      },
      {
       "javascript": [
        "$(\"#a5086ddd3-a937-4282-8e79-88e701ba394b > .text > .extra\").text(\"|||| Perplexity: 455.778829292; Topics_left: 150\")"
       ],
       "metadata": {},
       "output_type": "display_data"
      },
      {
       "javascript": [
        "$(\"#a5086ddd3-a937-4282-8e79-88e701ba394b > .completed-part\").css(\"width\", \"49.500000%\")"
       ],
       "metadata": {},
       "output_type": "display_data"
      },
      {
       "javascript": [
        "$(\"#a5086ddd3-a937-4282-8e79-88e701ba394b > .running-part\").css(\"width\", \"0.500000%\")"
       ],
       "metadata": {},
       "output_type": "display_data"
      },
      {
       "javascript": [
        "$(\"#a5086ddd3-a937-4282-8e79-88e701ba394b > .text > .main\").text(\"99/200 (49%) in 21.1 s, 0.20 s last iter; eta 22+-4 s\")"
       ],
       "metadata": {},
       "output_type": "display_data"
      },
      {
       "javascript": [
        "$(\"#a5086ddd3-a937-4282-8e79-88e701ba394b > .text > .extra\").text(\"|||| Perplexity: 455.705704387; Topics_left: 150\")"
       ],
       "metadata": {},
       "output_type": "display_data"
      },
      {
       "javascript": [
        "$(\"#a5086ddd3-a937-4282-8e79-88e701ba394b > .completed-part\").css(\"width\", \"50.000000%\")"
       ],
       "metadata": {},
       "output_type": "display_data"
      },
      {
       "javascript": [
        "$(\"#a5086ddd3-a937-4282-8e79-88e701ba394b > .running-part\").css(\"width\", \"0.500000%\")"
       ],
       "metadata": {},
       "output_type": "display_data"
      },
      {
       "javascript": [
        "$(\"#a5086ddd3-a937-4282-8e79-88e701ba394b > .text > .main\").text(\"100/200 (50%) in 21.3 s, 0.20 s last iter; eta 21+-4 s\")"
       ],
       "metadata": {},
       "output_type": "display_data"
      },
      {
       "javascript": [
        "$(\"#a5086ddd3-a937-4282-8e79-88e701ba394b > .text > .extra\").text(\"|||| Perplexity: 455.606323978; Topics_left: 150\")"
       ],
       "metadata": {},
       "output_type": "display_data"
      },
      {
       "javascript": [
        "$(\"#a5086ddd3-a937-4282-8e79-88e701ba394b > .completed-part\").css(\"width\", \"50.500000%\")"
       ],
       "metadata": {},
       "output_type": "display_data"
      },
      {
       "javascript": [
        "$(\"#a5086ddd3-a937-4282-8e79-88e701ba394b > .running-part\").css(\"width\", \"0.500000%\")"
       ],
       "metadata": {},
       "output_type": "display_data"
      },
      {
       "javascript": [
        "$(\"#a5086ddd3-a937-4282-8e79-88e701ba394b > .text > .main\").text(\"101/200 (50%) in 21.5 s, 0.21 s last iter; eta 21+-1 s\")"
       ],
       "metadata": {},
       "output_type": "display_data"
      },
      {
       "javascript": [
        "$(\"#a5086ddd3-a937-4282-8e79-88e701ba394b > .text > .extra\").text(\"|||| Perplexity: 455.52500009; Topics_left: 150\")"
       ],
       "metadata": {},
       "output_type": "display_data"
      },
      {
       "javascript": [
        "$(\"#a5086ddd3-a937-4282-8e79-88e701ba394b > .completed-part\").css(\"width\", \"51.000000%\")"
       ],
       "metadata": {},
       "output_type": "display_data"
      },
      {
       "javascript": [
        "$(\"#a5086ddd3-a937-4282-8e79-88e701ba394b > .running-part\").css(\"width\", \"0.500000%\")"
       ],
       "metadata": {},
       "output_type": "display_data"
      },
      {
       "javascript": [
        "$(\"#a5086ddd3-a937-4282-8e79-88e701ba394b > .text > .main\").text(\"102/200 (51%) in 21.7 s, 0.20 s last iter; eta 21+-1 s\")"
       ],
       "metadata": {},
       "output_type": "display_data"
      },
      {
       "javascript": [
        "$(\"#a5086ddd3-a937-4282-8e79-88e701ba394b > .text > .extra\").text(\"|||| Perplexity: 455.442741667; Topics_left: 150\")"
       ],
       "metadata": {},
       "output_type": "display_data"
      },
      {
       "javascript": [
        "$(\"#a5086ddd3-a937-4282-8e79-88e701ba394b > .completed-part\").css(\"width\", \"51.500000%\")"
       ],
       "metadata": {},
       "output_type": "display_data"
      },
      {
       "javascript": [
        "$(\"#a5086ddd3-a937-4282-8e79-88e701ba394b > .running-part\").css(\"width\", \"0.500000%\")"
       ],
       "metadata": {},
       "output_type": "display_data"
      },
      {
       "javascript": [
        "$(\"#a5086ddd3-a937-4282-8e79-88e701ba394b > .text > .main\").text(\"103/200 (51%) in 21.9 s, 0.20 s last iter; eta 20+-1 s\")"
       ],
       "metadata": {},
       "output_type": "display_data"
      },
      {
       "javascript": [
        "$(\"#a5086ddd3-a937-4282-8e79-88e701ba394b > .text > .extra\").text(\"|||| Perplexity: 455.400985384; Topics_left: 150\")"
       ],
       "metadata": {},
       "output_type": "display_data"
      },
      {
       "javascript": [
        "$(\"#a5086ddd3-a937-4282-8e79-88e701ba394b > .completed-part\").css(\"width\", \"52.000000%\")"
       ],
       "metadata": {},
       "output_type": "display_data"
      },
      {
       "javascript": [
        "$(\"#a5086ddd3-a937-4282-8e79-88e701ba394b > .running-part\").css(\"width\", \"0.500000%\")"
       ],
       "metadata": {},
       "output_type": "display_data"
      },
      {
       "javascript": [
        "$(\"#a5086ddd3-a937-4282-8e79-88e701ba394b > .text > .main\").text(\"104/200 (52%) in 22.1 s, 0.20 s last iter; eta 20+-1 s\")"
       ],
       "metadata": {},
       "output_type": "display_data"
      },
      {
       "javascript": [
        "$(\"#a5086ddd3-a937-4282-8e79-88e701ba394b > .text > .extra\").text(\"|||| Perplexity: 455.325707214; Topics_left: 150\")"
       ],
       "metadata": {},
       "output_type": "display_data"
      },
      {
       "javascript": [
        "$(\"#a5086ddd3-a937-4282-8e79-88e701ba394b > .completed-part\").css(\"width\", \"52.500000%\")"
       ],
       "metadata": {},
       "output_type": "display_data"
      },
      {
       "javascript": [
        "$(\"#a5086ddd3-a937-4282-8e79-88e701ba394b > .running-part\").css(\"width\", \"0.500000%\")"
       ],
       "metadata": {},
       "output_type": "display_data"
      },
      {
       "javascript": [
        "$(\"#a5086ddd3-a937-4282-8e79-88e701ba394b > .text > .main\").text(\"105/200 (52%) in 22.4 s, 0.20 s last iter; eta 20+-1 s\")"
       ],
       "metadata": {},
       "output_type": "display_data"
      },
      {
       "javascript": [
        "$(\"#a5086ddd3-a937-4282-8e79-88e701ba394b > .text > .extra\").text(\"|||| Perplexity: 455.260244301; Topics_left: 150\")"
       ],
       "metadata": {},
       "output_type": "display_data"
      },
      {
       "javascript": [
        "$(\"#a5086ddd3-a937-4282-8e79-88e701ba394b > .completed-part\").css(\"width\", \"53.000000%\")"
       ],
       "metadata": {},
       "output_type": "display_data"
      },
      {
       "javascript": [
        "$(\"#a5086ddd3-a937-4282-8e79-88e701ba394b > .running-part\").css(\"width\", \"0.500000%\")"
       ],
       "metadata": {},
       "output_type": "display_data"
      },
      {
       "javascript": [
        "$(\"#a5086ddd3-a937-4282-8e79-88e701ba394b > .text > .main\").text(\"106/200 (53%) in 22.6 s, 0.20 s last iter; eta 20+-1 s\")"
       ],
       "metadata": {},
       "output_type": "display_data"
      },
      {
       "javascript": [
        "$(\"#a5086ddd3-a937-4282-8e79-88e701ba394b > .text > .extra\").text(\"|||| Perplexity: 455.184673225; Topics_left: 150\")"
       ],
       "metadata": {},
       "output_type": "display_data"
      },
      {
       "javascript": [
        "$(\"#a5086ddd3-a937-4282-8e79-88e701ba394b > .completed-part\").css(\"width\", \"53.500000%\")"
       ],
       "metadata": {},
       "output_type": "display_data"
      },
      {
       "javascript": [
        "$(\"#a5086ddd3-a937-4282-8e79-88e701ba394b > .running-part\").css(\"width\", \"0.500000%\")"
       ],
       "metadata": {},
       "output_type": "display_data"
      },
      {
       "javascript": [
        "$(\"#a5086ddd3-a937-4282-8e79-88e701ba394b > .text > .main\").text(\"107/200 (53%) in 22.8 s, 0.21 s last iter; eta 19+-1 s\")"
       ],
       "metadata": {},
       "output_type": "display_data"
      },
      {
       "javascript": [
        "$(\"#a5086ddd3-a937-4282-8e79-88e701ba394b > .text > .extra\").text(\"|||| Perplexity: 455.106269637; Topics_left: 150\")"
       ],
       "metadata": {},
       "output_type": "display_data"
      },
      {
       "javascript": [
        "$(\"#a5086ddd3-a937-4282-8e79-88e701ba394b > .completed-part\").css(\"width\", \"54.000000%\")"
       ],
       "metadata": {},
       "output_type": "display_data"
      },
      {
       "javascript": [
        "$(\"#a5086ddd3-a937-4282-8e79-88e701ba394b > .running-part\").css(\"width\", \"0.500000%\")"
       ],
       "metadata": {},
       "output_type": "display_data"
      },
      {
       "javascript": [
        "$(\"#a5086ddd3-a937-4282-8e79-88e701ba394b > .text > .main\").text(\"108/200 (54%) in 23.0 s, 0.20 s last iter; eta 19+-1 s\")"
       ],
       "metadata": {},
       "output_type": "display_data"
      },
      {
       "javascript": [
        "$(\"#a5086ddd3-a937-4282-8e79-88e701ba394b > .text > .extra\").text(\"|||| Perplexity: 455.03072412; Topics_left: 150\")"
       ],
       "metadata": {},
       "output_type": "display_data"
      },
      {
       "javascript": [
        "$(\"#a5086ddd3-a937-4282-8e79-88e701ba394b > .completed-part\").css(\"width\", \"54.500000%\")"
       ],
       "metadata": {},
       "output_type": "display_data"
      },
      {
       "javascript": [
        "$(\"#a5086ddd3-a937-4282-8e79-88e701ba394b > .running-part\").css(\"width\", \"0.500000%\")"
       ],
       "metadata": {},
       "output_type": "display_data"
      },
      {
       "javascript": [
        "$(\"#a5086ddd3-a937-4282-8e79-88e701ba394b > .text > .main\").text(\"109/200 (54%) in 23.2 s, 0.21 s last iter; eta 19+-1 s\")"
       ],
       "metadata": {},
       "output_type": "display_data"
      },
      {
       "javascript": [
        "$(\"#a5086ddd3-a937-4282-8e79-88e701ba394b > .text > .extra\").text(\"|||| Perplexity: 454.958351267; Topics_left: 150\")"
       ],
       "metadata": {},
       "output_type": "display_data"
      },
      {
       "javascript": [
        "$(\"#a5086ddd3-a937-4282-8e79-88e701ba394b > .completed-part\").css(\"width\", \"55.000000%\")"
       ],
       "metadata": {},
       "output_type": "display_data"
      },
      {
       "javascript": [
        "$(\"#a5086ddd3-a937-4282-8e79-88e701ba394b > .running-part\").css(\"width\", \"0.500000%\")"
       ],
       "metadata": {},
       "output_type": "display_data"
      },
      {
       "javascript": [
        "$(\"#a5086ddd3-a937-4282-8e79-88e701ba394b > .text > .main\").text(\"110/200 (55%) in 23.4 s, 0.20 s last iter; eta 19+-1 s\")"
       ],
       "metadata": {},
       "output_type": "display_data"
      },
      {
       "javascript": [
        "$(\"#a5086ddd3-a937-4282-8e79-88e701ba394b > .text > .extra\").text(\"|||| Perplexity: 454.888833603; Topics_left: 150\")"
       ],
       "metadata": {},
       "output_type": "display_data"
      },
      {
       "javascript": [
        "$(\"#a5086ddd3-a937-4282-8e79-88e701ba394b > .completed-part\").css(\"width\", \"55.500000%\")"
       ],
       "metadata": {},
       "output_type": "display_data"
      },
      {
       "javascript": [
        "$(\"#a5086ddd3-a937-4282-8e79-88e701ba394b > .running-part\").css(\"width\", \"0.500000%\")"
       ],
       "metadata": {},
       "output_type": "display_data"
      },
      {
       "javascript": [
        "$(\"#a5086ddd3-a937-4282-8e79-88e701ba394b > .text > .main\").text(\"111/200 (55%) in 23.6 s, 0.21 s last iter; eta 19+-1 s\")"
       ],
       "metadata": {},
       "output_type": "display_data"
      },
      {
       "javascript": [
        "$(\"#a5086ddd3-a937-4282-8e79-88e701ba394b > .text > .extra\").text(\"|||| Perplexity: 454.824697182; Topics_left: 150\")"
       ],
       "metadata": {},
       "output_type": "display_data"
      },
      {
       "javascript": [
        "$(\"#a5086ddd3-a937-4282-8e79-88e701ba394b > .completed-part\").css(\"width\", \"56.000000%\")"
       ],
       "metadata": {},
       "output_type": "display_data"
      },
      {
       "javascript": [
        "$(\"#a5086ddd3-a937-4282-8e79-88e701ba394b > .running-part\").css(\"width\", \"0.500000%\")"
       ],
       "metadata": {},
       "output_type": "display_data"
      },
      {
       "javascript": [
        "$(\"#a5086ddd3-a937-4282-8e79-88e701ba394b > .text > .main\").text(\"112/200 (56%) in 23.8 s, 0.21 s last iter; eta 18+-1 s\")"
       ],
       "metadata": {},
       "output_type": "display_data"
      },
      {
       "javascript": [
        "$(\"#a5086ddd3-a937-4282-8e79-88e701ba394b > .text > .extra\").text(\"|||| Perplexity: 454.764992091; Topics_left: 150\")"
       ],
       "metadata": {},
       "output_type": "display_data"
      },
      {
       "javascript": [
        "$(\"#a5086ddd3-a937-4282-8e79-88e701ba394b > .completed-part\").css(\"width\", \"56.500000%\")"
       ],
       "metadata": {},
       "output_type": "display_data"
      },
      {
       "javascript": [
        "$(\"#a5086ddd3-a937-4282-8e79-88e701ba394b > .running-part\").css(\"width\", \"0.500000%\")"
       ],
       "metadata": {},
       "output_type": "display_data"
      },
      {
       "javascript": [
        "$(\"#a5086ddd3-a937-4282-8e79-88e701ba394b > .text > .main\").text(\"113/200 (56%) in 24.0 s, 0.21 s last iter; eta 18+-1 s\")"
       ],
       "metadata": {},
       "output_type": "display_data"
      },
      {
       "javascript": [
        "$(\"#a5086ddd3-a937-4282-8e79-88e701ba394b > .text > .extra\").text(\"|||| Perplexity: 454.707821546; Topics_left: 150\")"
       ],
       "metadata": {},
       "output_type": "display_data"
      },
      {
       "javascript": [
        "$(\"#a5086ddd3-a937-4282-8e79-88e701ba394b > .completed-part\").css(\"width\", \"57.000000%\")"
       ],
       "metadata": {},
       "output_type": "display_data"
      },
      {
       "javascript": [
        "$(\"#a5086ddd3-a937-4282-8e79-88e701ba394b > .running-part\").css(\"width\", \"0.500000%\")"
       ],
       "metadata": {},
       "output_type": "display_data"
      },
      {
       "javascript": [
        "$(\"#a5086ddd3-a937-4282-8e79-88e701ba394b > .text > .main\").text(\"114/200 (56%) in 24.2 s, 0.21 s last iter; eta 18+-1 s\")"
       ],
       "metadata": {},
       "output_type": "display_data"
      },
      {
       "javascript": [
        "$(\"#a5086ddd3-a937-4282-8e79-88e701ba394b > .text > .extra\").text(\"|||| Perplexity: 454.656658425; Topics_left: 150\")"
       ],
       "metadata": {},
       "output_type": "display_data"
      },
      {
       "javascript": [
        "$(\"#a5086ddd3-a937-4282-8e79-88e701ba394b > .completed-part\").css(\"width\", \"57.500000%\")"
       ],
       "metadata": {},
       "output_type": "display_data"
      },
      {
       "javascript": [
        "$(\"#a5086ddd3-a937-4282-8e79-88e701ba394b > .running-part\").css(\"width\", \"0.500000%\")"
       ],
       "metadata": {},
       "output_type": "display_data"
      },
      {
       "javascript": [
        "$(\"#a5086ddd3-a937-4282-8e79-88e701ba394b > .text > .main\").text(\"115/200 (57%) in 24.4 s, 0.20 s last iter; eta 18+-0 s\")"
       ],
       "metadata": {},
       "output_type": "display_data"
      },
      {
       "javascript": [
        "$(\"#a5086ddd3-a937-4282-8e79-88e701ba394b > .text > .extra\").text(\"|||| Perplexity: 454.598869971; Topics_left: 150\")"
       ],
       "metadata": {},
       "output_type": "display_data"
      },
      {
       "javascript": [
        "$(\"#a5086ddd3-a937-4282-8e79-88e701ba394b > .completed-part\").css(\"width\", \"58.000000%\")"
       ],
       "metadata": {},
       "output_type": "display_data"
      },
      {
       "javascript": [
        "$(\"#a5086ddd3-a937-4282-8e79-88e701ba394b > .running-part\").css(\"width\", \"0.500000%\")"
       ],
       "metadata": {},
       "output_type": "display_data"
      },
      {
       "javascript": [
        "$(\"#a5086ddd3-a937-4282-8e79-88e701ba394b > .text > .main\").text(\"116/200 (57%) in 24.6 s, 0.21 s last iter; eta 18+-0 s\")"
       ],
       "metadata": {},
       "output_type": "display_data"
      },
      {
       "javascript": [
        "$(\"#a5086ddd3-a937-4282-8e79-88e701ba394b > .text > .extra\").text(\"|||| Perplexity: 454.536037312; Topics_left: 150\")"
       ],
       "metadata": {},
       "output_type": "display_data"
      },
      {
       "javascript": [
        "$(\"#a5086ddd3-a937-4282-8e79-88e701ba394b > .completed-part\").css(\"width\", \"58.500000%\")"
       ],
       "metadata": {},
       "output_type": "display_data"
      },
      {
       "javascript": [
        "$(\"#a5086ddd3-a937-4282-8e79-88e701ba394b > .running-part\").css(\"width\", \"0.500000%\")"
       ],
       "metadata": {},
       "output_type": "display_data"
      },
      {
       "javascript": [
        "$(\"#a5086ddd3-a937-4282-8e79-88e701ba394b > .text > .main\").text(\"117/200 (58%) in 24.8 s, 0.20 s last iter; eta 17+-0 s\")"
       ],
       "metadata": {},
       "output_type": "display_data"
      },
      {
       "javascript": [
        "$(\"#a5086ddd3-a937-4282-8e79-88e701ba394b > .text > .extra\").text(\"|||| Perplexity: 454.506991983; Topics_left: 150\")"
       ],
       "metadata": {},
       "output_type": "display_data"
      },
      {
       "javascript": [
        "$(\"#a5086ddd3-a937-4282-8e79-88e701ba394b > .completed-part\").css(\"width\", \"59.000000%\")"
       ],
       "metadata": {},
       "output_type": "display_data"
      },
      {
       "javascript": [
        "$(\"#a5086ddd3-a937-4282-8e79-88e701ba394b > .running-part\").css(\"width\", \"0.500000%\")"
       ],
       "metadata": {},
       "output_type": "display_data"
      },
      {
       "javascript": [
        "$(\"#a5086ddd3-a937-4282-8e79-88e701ba394b > .text > .main\").text(\"118/200 (59%) in 25.0 s, 0.21 s last iter; eta 17+-0 s\")"
       ],
       "metadata": {},
       "output_type": "display_data"
      },
      {
       "javascript": [
        "$(\"#a5086ddd3-a937-4282-8e79-88e701ba394b > .text > .extra\").text(\"|||| Perplexity: 454.452694824; Topics_left: 150\")"
       ],
       "metadata": {},
       "output_type": "display_data"
      },
      {
       "javascript": [
        "$(\"#a5086ddd3-a937-4282-8e79-88e701ba394b > .completed-part\").css(\"width\", \"59.500000%\")"
       ],
       "metadata": {},
       "output_type": "display_data"
      },
      {
       "javascript": [
        "$(\"#a5086ddd3-a937-4282-8e79-88e701ba394b > .running-part\").css(\"width\", \"0.500000%\")"
       ],
       "metadata": {},
       "output_type": "display_data"
      },
      {
       "javascript": [
        "$(\"#a5086ddd3-a937-4282-8e79-88e701ba394b > .text > .main\").text(\"119/200 (59%) in 25.2 s, 0.21 s last iter; eta 17+-0 s\")"
       ],
       "metadata": {},
       "output_type": "display_data"
      },
      {
       "javascript": [
        "$(\"#a5086ddd3-a937-4282-8e79-88e701ba394b > .text > .extra\").text(\"|||| Perplexity: 454.404716688; Topics_left: 150\")"
       ],
       "metadata": {},
       "output_type": "display_data"
      },
      {
       "javascript": [
        "$(\"#a5086ddd3-a937-4282-8e79-88e701ba394b > .completed-part\").css(\"width\", \"60.000000%\")"
       ],
       "metadata": {},
       "output_type": "display_data"
      },
      {
       "javascript": [
        "$(\"#a5086ddd3-a937-4282-8e79-88e701ba394b > .running-part\").css(\"width\", \"0.500000%\")"
       ],
       "metadata": {},
       "output_type": "display_data"
      },
      {
       "javascript": [
        "$(\"#a5086ddd3-a937-4282-8e79-88e701ba394b > .text > .main\").text(\"120/200 (60%) in 25.4 s, 0.21 s last iter; eta 17+-0 s\")"
       ],
       "metadata": {},
       "output_type": "display_data"
      },
      {
       "javascript": [
        "$(\"#a5086ddd3-a937-4282-8e79-88e701ba394b > .text > .extra\").text(\"|||| Perplexity: 454.341595278; Topics_left: 150\")"
       ],
       "metadata": {},
       "output_type": "display_data"
      },
      {
       "javascript": [
        "$(\"#a5086ddd3-a937-4282-8e79-88e701ba394b > .completed-part\").css(\"width\", \"60.500000%\")"
       ],
       "metadata": {},
       "output_type": "display_data"
      },
      {
       "javascript": [
        "$(\"#a5086ddd3-a937-4282-8e79-88e701ba394b > .running-part\").css(\"width\", \"0.500000%\")"
       ],
       "metadata": {},
       "output_type": "display_data"
      },
      {
       "javascript": [
        "$(\"#a5086ddd3-a937-4282-8e79-88e701ba394b > .text > .main\").text(\"121/200 (60%) in 25.7 s, 0.21 s last iter; eta 16+-0 s\")"
       ],
       "metadata": {},
       "output_type": "display_data"
      },
      {
       "javascript": [
        "$(\"#a5086ddd3-a937-4282-8e79-88e701ba394b > .text > .extra\").text(\"|||| Perplexity: 454.284162416; Topics_left: 150\")"
       ],
       "metadata": {},
       "output_type": "display_data"
      },
      {
       "javascript": [
        "$(\"#a5086ddd3-a937-4282-8e79-88e701ba394b > .completed-part\").css(\"width\", \"61.000000%\")"
       ],
       "metadata": {},
       "output_type": "display_data"
      },
      {
       "javascript": [
        "$(\"#a5086ddd3-a937-4282-8e79-88e701ba394b > .running-part\").css(\"width\", \"0.500000%\")"
       ],
       "metadata": {},
       "output_type": "display_data"
      },
      {
       "javascript": [
        "$(\"#a5086ddd3-a937-4282-8e79-88e701ba394b > .text > .main\").text(\"122/200 (61%) in 25.9 s, 0.21 s last iter; eta 16+-0 s\")"
       ],
       "metadata": {},
       "output_type": "display_data"
      },
      {
       "javascript": [
        "$(\"#a5086ddd3-a937-4282-8e79-88e701ba394b > .text > .extra\").text(\"|||| Perplexity: 454.232415945; Topics_left: 150\")"
       ],
       "metadata": {},
       "output_type": "display_data"
      },
      {
       "javascript": [
        "$(\"#a5086ddd3-a937-4282-8e79-88e701ba394b > .completed-part\").css(\"width\", \"61.500000%\")"
       ],
       "metadata": {},
       "output_type": "display_data"
      },
      {
       "javascript": [
        "$(\"#a5086ddd3-a937-4282-8e79-88e701ba394b > .running-part\").css(\"width\", \"0.500000%\")"
       ],
       "metadata": {},
       "output_type": "display_data"
      },
      {
       "javascript": [
        "$(\"#a5086ddd3-a937-4282-8e79-88e701ba394b > .text > .main\").text(\"123/200 (61%) in 26.1 s, 0.21 s last iter; eta 16+-0 s\")"
       ],
       "metadata": {},
       "output_type": "display_data"
      },
      {
       "javascript": [
        "$(\"#a5086ddd3-a937-4282-8e79-88e701ba394b > .text > .extra\").text(\"|||| Perplexity: 454.177205174; Topics_left: 150\")"
       ],
       "metadata": {},
       "output_type": "display_data"
      },
      {
       "javascript": [
        "$(\"#a5086ddd3-a937-4282-8e79-88e701ba394b > .completed-part\").css(\"width\", \"62.000000%\")"
       ],
       "metadata": {},
       "output_type": "display_data"
      },
      {
       "javascript": [
        "$(\"#a5086ddd3-a937-4282-8e79-88e701ba394b > .running-part\").css(\"width\", \"0.500000%\")"
       ],
       "metadata": {},
       "output_type": "display_data"
      },
      {
       "javascript": [
        "$(\"#a5086ddd3-a937-4282-8e79-88e701ba394b > .text > .main\").text(\"124/200 (62%) in 26.3 s, 0.20 s last iter; eta 16+-0 s\")"
       ],
       "metadata": {},
       "output_type": "display_data"
      },
      {
       "javascript": [
        "$(\"#a5086ddd3-a937-4282-8e79-88e701ba394b > .text > .extra\").text(\"|||| Perplexity: 454.128940685; Topics_left: 150\")"
       ],
       "metadata": {},
       "output_type": "display_data"
      },
      {
       "javascript": [
        "$(\"#a5086ddd3-a937-4282-8e79-88e701ba394b > .completed-part\").css(\"width\", \"62.500000%\")"
       ],
       "metadata": {},
       "output_type": "display_data"
      },
      {
       "javascript": [
        "$(\"#a5086ddd3-a937-4282-8e79-88e701ba394b > .running-part\").css(\"width\", \"0.500000%\")"
       ],
       "metadata": {},
       "output_type": "display_data"
      },
      {
       "javascript": [
        "$(\"#a5086ddd3-a937-4282-8e79-88e701ba394b > .text > .main\").text(\"125/200 (62%) in 26.5 s, 0.20 s last iter; eta 16+-0 s\")"
       ],
       "metadata": {},
       "output_type": "display_data"
      },
      {
       "javascript": [
        "$(\"#a5086ddd3-a937-4282-8e79-88e701ba394b > .text > .extra\").text(\"|||| Perplexity: 454.069326926; Topics_left: 150\")"
       ],
       "metadata": {},
       "output_type": "display_data"
      },
      {
       "javascript": [
        "$(\"#a5086ddd3-a937-4282-8e79-88e701ba394b > .completed-part\").css(\"width\", \"63.000000%\")"
       ],
       "metadata": {},
       "output_type": "display_data"
      },
      {
       "javascript": [
        "$(\"#a5086ddd3-a937-4282-8e79-88e701ba394b > .running-part\").css(\"width\", \"0.500000%\")"
       ],
       "metadata": {},
       "output_type": "display_data"
      },
      {
       "javascript": [
        "$(\"#a5086ddd3-a937-4282-8e79-88e701ba394b > .text > .main\").text(\"126/200 (63%) in 26.7 s, 0.20 s last iter; eta 15+-0 s\")"
       ],
       "metadata": {},
       "output_type": "display_data"
      },
      {
       "javascript": [
        "$(\"#a5086ddd3-a937-4282-8e79-88e701ba394b > .text > .extra\").text(\"|||| Perplexity: 453.99931441; Topics_left: 150\")"
       ],
       "metadata": {},
       "output_type": "display_data"
      },
      {
       "javascript": [
        "$(\"#a5086ddd3-a937-4282-8e79-88e701ba394b > .completed-part\").css(\"width\", \"63.500000%\")"
       ],
       "metadata": {},
       "output_type": "display_data"
      },
      {
       "javascript": [
        "$(\"#a5086ddd3-a937-4282-8e79-88e701ba394b > .running-part\").css(\"width\", \"0.500000%\")"
       ],
       "metadata": {},
       "output_type": "display_data"
      },
      {
       "javascript": [
        "$(\"#a5086ddd3-a937-4282-8e79-88e701ba394b > .text > .main\").text(\"127/200 (63%) in 26.9 s, 0.21 s last iter; eta 15+-0 s\")"
       ],
       "metadata": {},
       "output_type": "display_data"
      },
      {
       "javascript": [
        "$(\"#a5086ddd3-a937-4282-8e79-88e701ba394b > .text > .extra\").text(\"|||| Perplexity: 453.94034828; Topics_left: 150\")"
       ],
       "metadata": {},
       "output_type": "display_data"
      },
      {
       "javascript": [
        "$(\"#a5086ddd3-a937-4282-8e79-88e701ba394b > .completed-part\").css(\"width\", \"64.000000%\")"
       ],
       "metadata": {},
       "output_type": "display_data"
      },
      {
       "javascript": [
        "$(\"#a5086ddd3-a937-4282-8e79-88e701ba394b > .running-part\").css(\"width\", \"0.500000%\")"
       ],
       "metadata": {},
       "output_type": "display_data"
      },
      {
       "javascript": [
        "$(\"#a5086ddd3-a937-4282-8e79-88e701ba394b > .text > .main\").text(\"128/200 (64%) in 27.1 s, 0.21 s last iter; eta 15+-0 s\")"
       ],
       "metadata": {},
       "output_type": "display_data"
      },
      {
       "javascript": [
        "$(\"#a5086ddd3-a937-4282-8e79-88e701ba394b > .text > .extra\").text(\"|||| Perplexity: 453.910079873; Topics_left: 150\")"
       ],
       "metadata": {},
       "output_type": "display_data"
      },
      {
       "javascript": [
        "$(\"#a5086ddd3-a937-4282-8e79-88e701ba394b > .completed-part\").css(\"width\", \"64.500000%\")"
       ],
       "metadata": {},
       "output_type": "display_data"
      },
      {
       "javascript": [
        "$(\"#a5086ddd3-a937-4282-8e79-88e701ba394b > .running-part\").css(\"width\", \"0.500000%\")"
       ],
       "metadata": {},
       "output_type": "display_data"
      },
      {
       "javascript": [
        "$(\"#a5086ddd3-a937-4282-8e79-88e701ba394b > .text > .main\").text(\"129/200 (64%) in 27.3 s, 0.21 s last iter; eta 15+-0 s\")"
       ],
       "metadata": {},
       "output_type": "display_data"
      },
      {
       "javascript": [
        "$(\"#a5086ddd3-a937-4282-8e79-88e701ba394b > .text > .extra\").text(\"|||| Perplexity: 453.857745514; Topics_left: 150\")"
       ],
       "metadata": {},
       "output_type": "display_data"
      },
      {
       "javascript": [
        "$(\"#a5086ddd3-a937-4282-8e79-88e701ba394b > .completed-part\").css(\"width\", \"65.000000%\")"
       ],
       "metadata": {},
       "output_type": "display_data"
      },
      {
       "javascript": [
        "$(\"#a5086ddd3-a937-4282-8e79-88e701ba394b > .running-part\").css(\"width\", \"0.500000%\")"
       ],
       "metadata": {},
       "output_type": "display_data"
      },
      {
       "javascript": [
        "$(\"#a5086ddd3-a937-4282-8e79-88e701ba394b > .text > .main\").text(\"130/200 (65%) in 27.5 s, 0.21 s last iter; eta 15+-0 s\")"
       ],
       "metadata": {},
       "output_type": "display_data"
      },
      {
       "javascript": [
        "$(\"#a5086ddd3-a937-4282-8e79-88e701ba394b > .text > .extra\").text(\"|||| Perplexity: 453.804786765; Topics_left: 150\")"
       ],
       "metadata": {},
       "output_type": "display_data"
      },
      {
       "javascript": [
        "$(\"#a5086ddd3-a937-4282-8e79-88e701ba394b > .completed-part\").css(\"width\", \"65.500000%\")"
       ],
       "metadata": {},
       "output_type": "display_data"
      },
      {
       "javascript": [
        "$(\"#a5086ddd3-a937-4282-8e79-88e701ba394b > .running-part\").css(\"width\", \"0.500000%\")"
       ],
       "metadata": {},
       "output_type": "display_data"
      },
      {
       "javascript": [
        "$(\"#a5086ddd3-a937-4282-8e79-88e701ba394b > .text > .main\").text(\"131/200 (65%) in 27.7 s, 0.21 s last iter; eta 14+-0 s\")"
       ],
       "metadata": {},
       "output_type": "display_data"
      },
      {
       "javascript": [
        "$(\"#a5086ddd3-a937-4282-8e79-88e701ba394b > .text > .extra\").text(\"|||| Perplexity: 453.758452928; Topics_left: 150\")"
       ],
       "metadata": {},
       "output_type": "display_data"
      },
      {
       "javascript": [
        "$(\"#a5086ddd3-a937-4282-8e79-88e701ba394b > .completed-part\").css(\"width\", \"66.000000%\")"
       ],
       "metadata": {},
       "output_type": "display_data"
      },
      {
       "javascript": [
        "$(\"#a5086ddd3-a937-4282-8e79-88e701ba394b > .running-part\").css(\"width\", \"0.500000%\")"
       ],
       "metadata": {},
       "output_type": "display_data"
      },
      {
       "javascript": [
        "$(\"#a5086ddd3-a937-4282-8e79-88e701ba394b > .text > .main\").text(\"132/200 (66%) in 27.9 s, 0.21 s last iter; eta 14+-0 s\")"
       ],
       "metadata": {},
       "output_type": "display_data"
      },
      {
       "javascript": [
        "$(\"#a5086ddd3-a937-4282-8e79-88e701ba394b > .text > .extra\").text(\"|||| Perplexity: 453.721263203; Topics_left: 150\")"
       ],
       "metadata": {},
       "output_type": "display_data"
      },
      {
       "javascript": [
        "$(\"#a5086ddd3-a937-4282-8e79-88e701ba394b > .completed-part\").css(\"width\", \"66.500000%\")"
       ],
       "metadata": {},
       "output_type": "display_data"
      },
      {
       "javascript": [
        "$(\"#a5086ddd3-a937-4282-8e79-88e701ba394b > .running-part\").css(\"width\", \"0.500000%\")"
       ],
       "metadata": {},
       "output_type": "display_data"
      },
      {
       "javascript": [
        "$(\"#a5086ddd3-a937-4282-8e79-88e701ba394b > .text > .main\").text(\"133/200 (66%) in 28.1 s, 0.21 s last iter; eta 14+-0 s\")"
       ],
       "metadata": {},
       "output_type": "display_data"
      },
      {
       "javascript": [
        "$(\"#a5086ddd3-a937-4282-8e79-88e701ba394b > .text > .extra\").text(\"|||| Perplexity: 453.674937894; Topics_left: 150\")"
       ],
       "metadata": {},
       "output_type": "display_data"
      },
      {
       "javascript": [
        "$(\"#a5086ddd3-a937-4282-8e79-88e701ba394b > .completed-part\").css(\"width\", \"67.000000%\")"
       ],
       "metadata": {},
       "output_type": "display_data"
      },
      {
       "javascript": [
        "$(\"#a5086ddd3-a937-4282-8e79-88e701ba394b > .running-part\").css(\"width\", \"0.500000%\")"
       ],
       "metadata": {},
       "output_type": "display_data"
      },
      {
       "javascript": [
        "$(\"#a5086ddd3-a937-4282-8e79-88e701ba394b > .text > .main\").text(\"134/200 (67%) in 28.3 s, 0.21 s last iter; eta 14+-0 s\")"
       ],
       "metadata": {},
       "output_type": "display_data"
      },
      {
       "javascript": [
        "$(\"#a5086ddd3-a937-4282-8e79-88e701ba394b > .text > .extra\").text(\"|||| Perplexity: 453.63082295; Topics_left: 150\")"
       ],
       "metadata": {},
       "output_type": "display_data"
      },
      {
       "javascript": [
        "$(\"#a5086ddd3-a937-4282-8e79-88e701ba394b > .completed-part\").css(\"width\", \"67.500000%\")"
       ],
       "metadata": {},
       "output_type": "display_data"
      },
      {
       "javascript": [
        "$(\"#a5086ddd3-a937-4282-8e79-88e701ba394b > .running-part\").css(\"width\", \"0.500000%\")"
       ],
       "metadata": {},
       "output_type": "display_data"
      },
      {
       "javascript": [
        "$(\"#a5086ddd3-a937-4282-8e79-88e701ba394b > .text > .main\").text(\"135/200 (67%) in 28.6 s, 0.21 s last iter; eta 14+-0 s\")"
       ],
       "metadata": {},
       "output_type": "display_data"
      },
      {
       "javascript": [
        "$(\"#a5086ddd3-a937-4282-8e79-88e701ba394b > .text > .extra\").text(\"|||| Perplexity: 453.560563003; Topics_left: 150\")"
       ],
       "metadata": {},
       "output_type": "display_data"
      },
      {
       "javascript": [
        "$(\"#a5086ddd3-a937-4282-8e79-88e701ba394b > .completed-part\").css(\"width\", \"68.000000%\")"
       ],
       "metadata": {},
       "output_type": "display_data"
      },
      {
       "javascript": [
        "$(\"#a5086ddd3-a937-4282-8e79-88e701ba394b > .running-part\").css(\"width\", \"0.500000%\")"
       ],
       "metadata": {},
       "output_type": "display_data"
      },
      {
       "javascript": [
        "$(\"#a5086ddd3-a937-4282-8e79-88e701ba394b > .text > .main\").text(\"136/200 (68%) in 28.8 s, 0.21 s last iter; eta 13+-0 s\")"
       ],
       "metadata": {},
       "output_type": "display_data"
      },
      {
       "javascript": [
        "$(\"#a5086ddd3-a937-4282-8e79-88e701ba394b > .text > .extra\").text(\"|||| Perplexity: 453.514884123; Topics_left: 150\")"
       ],
       "metadata": {},
       "output_type": "display_data"
      },
      {
       "javascript": [
        "$(\"#a5086ddd3-a937-4282-8e79-88e701ba394b > .completed-part\").css(\"width\", \"68.500000%\")"
       ],
       "metadata": {},
       "output_type": "display_data"
      },
      {
       "javascript": [
        "$(\"#a5086ddd3-a937-4282-8e79-88e701ba394b > .running-part\").css(\"width\", \"0.500000%\")"
       ],
       "metadata": {},
       "output_type": "display_data"
      },
      {
       "javascript": [
        "$(\"#a5086ddd3-a937-4282-8e79-88e701ba394b > .text > .main\").text(\"137/200 (68%) in 29.0 s, 0.21 s last iter; eta 13+-0 s\")"
       ],
       "metadata": {},
       "output_type": "display_data"
      },
      {
       "javascript": [
        "$(\"#a5086ddd3-a937-4282-8e79-88e701ba394b > .text > .extra\").text(\"|||| Perplexity: 453.466690018; Topics_left: 150\")"
       ],
       "metadata": {},
       "output_type": "display_data"
      },
      {
       "javascript": [
        "$(\"#a5086ddd3-a937-4282-8e79-88e701ba394b > .completed-part\").css(\"width\", \"69.000000%\")"
       ],
       "metadata": {},
       "output_type": "display_data"
      },
      {
       "javascript": [
        "$(\"#a5086ddd3-a937-4282-8e79-88e701ba394b > .running-part\").css(\"width\", \"0.500000%\")"
       ],
       "metadata": {},
       "output_type": "display_data"
      },
      {
       "javascript": [
        "$(\"#a5086ddd3-a937-4282-8e79-88e701ba394b > .text > .main\").text(\"138/200 (69%) in 29.2 s, 0.21 s last iter; eta 13+-0 s\")"
       ],
       "metadata": {},
       "output_type": "display_data"
      },
      {
       "javascript": [
        "$(\"#a5086ddd3-a937-4282-8e79-88e701ba394b > .text > .extra\").text(\"|||| Perplexity: 453.423855112; Topics_left: 150\")"
       ],
       "metadata": {},
       "output_type": "display_data"
      },
      {
       "javascript": [
        "$(\"#a5086ddd3-a937-4282-8e79-88e701ba394b > .completed-part\").css(\"width\", \"69.500000%\")"
       ],
       "metadata": {},
       "output_type": "display_data"
      },
      {
       "javascript": [
        "$(\"#a5086ddd3-a937-4282-8e79-88e701ba394b > .running-part\").css(\"width\", \"0.500000%\")"
       ],
       "metadata": {},
       "output_type": "display_data"
      },
      {
       "javascript": [
        "$(\"#a5086ddd3-a937-4282-8e79-88e701ba394b > .text > .main\").text(\"139/200 (69%) in 29.4 s, 0.21 s last iter; eta 13+-0 s\")"
       ],
       "metadata": {},
       "output_type": "display_data"
      },
      {
       "javascript": [
        "$(\"#a5086ddd3-a937-4282-8e79-88e701ba394b > .text > .extra\").text(\"|||| Perplexity: 453.385433125; Topics_left: 150\")"
       ],
       "metadata": {},
       "output_type": "display_data"
      },
      {
       "javascript": [
        "$(\"#a5086ddd3-a937-4282-8e79-88e701ba394b > .completed-part\").css(\"width\", \"70.000000%\")"
       ],
       "metadata": {},
       "output_type": "display_data"
      },
      {
       "javascript": [
        "$(\"#a5086ddd3-a937-4282-8e79-88e701ba394b > .running-part\").css(\"width\", \"0.500000%\")"
       ],
       "metadata": {},
       "output_type": "display_data"
      },
      {
       "javascript": [
        "$(\"#a5086ddd3-a937-4282-8e79-88e701ba394b > .text > .main\").text(\"140/200 (70%) in 29.6 s, 0.21 s last iter; eta 13+-0 s\")"
       ],
       "metadata": {},
       "output_type": "display_data"
      },
      {
       "javascript": [
        "$(\"#a5086ddd3-a937-4282-8e79-88e701ba394b > .text > .extra\").text(\"|||| Perplexity: 453.351108038; Topics_left: 150\")"
       ],
       "metadata": {},
       "output_type": "display_data"
      },
      {
       "javascript": [
        "$(\"#a5086ddd3-a937-4282-8e79-88e701ba394b > .completed-part\").css(\"width\", \"70.500000%\")"
       ],
       "metadata": {},
       "output_type": "display_data"
      },
      {
       "javascript": [
        "$(\"#a5086ddd3-a937-4282-8e79-88e701ba394b > .running-part\").css(\"width\", \"0.500000%\")"
       ],
       "metadata": {},
       "output_type": "display_data"
      },
      {
       "javascript": [
        "$(\"#a5086ddd3-a937-4282-8e79-88e701ba394b > .text > .main\").text(\"141/200 (70%) in 29.8 s, 0.20 s last iter; eta 12+-0 s\")"
       ],
       "metadata": {},
       "output_type": "display_data"
      },
      {
       "javascript": [
        "$(\"#a5086ddd3-a937-4282-8e79-88e701ba394b > .text > .extra\").text(\"|||| Perplexity: 453.305450252; Topics_left: 150\")"
       ],
       "metadata": {},
       "output_type": "display_data"
      },
      {
       "javascript": [
        "$(\"#a5086ddd3-a937-4282-8e79-88e701ba394b > .completed-part\").css(\"width\", \"71.000000%\")"
       ],
       "metadata": {},
       "output_type": "display_data"
      },
      {
       "javascript": [
        "$(\"#a5086ddd3-a937-4282-8e79-88e701ba394b > .running-part\").css(\"width\", \"0.500000%\")"
       ],
       "metadata": {},
       "output_type": "display_data"
      },
      {
       "javascript": [
        "$(\"#a5086ddd3-a937-4282-8e79-88e701ba394b > .text > .main\").text(\"142/200 (71%) in 30.0 s, 0.21 s last iter; eta 12+-0 s\")"
       ],
       "metadata": {},
       "output_type": "display_data"
      },
      {
       "javascript": [
        "$(\"#a5086ddd3-a937-4282-8e79-88e701ba394b > .text > .extra\").text(\"|||| Perplexity: 453.283095358; Topics_left: 150\")"
       ],
       "metadata": {},
       "output_type": "display_data"
      },
      {
       "javascript": [
        "$(\"#a5086ddd3-a937-4282-8e79-88e701ba394b > .completed-part\").css(\"width\", \"71.500000%\")"
       ],
       "metadata": {},
       "output_type": "display_data"
      },
      {
       "javascript": [
        "$(\"#a5086ddd3-a937-4282-8e79-88e701ba394b > .running-part\").css(\"width\", \"0.500000%\")"
       ],
       "metadata": {},
       "output_type": "display_data"
      },
      {
       "javascript": [
        "$(\"#a5086ddd3-a937-4282-8e79-88e701ba394b > .text > .main\").text(\"143/200 (71%) in 30.2 s, 0.21 s last iter; eta 12+-0 s\")"
       ],
       "metadata": {},
       "output_type": "display_data"
      },
      {
       "javascript": [
        "$(\"#a5086ddd3-a937-4282-8e79-88e701ba394b > .text > .extra\").text(\"|||| Perplexity: 453.260426733; Topics_left: 150\")"
       ],
       "metadata": {},
       "output_type": "display_data"
      },
      {
       "javascript": [
        "$(\"#a5086ddd3-a937-4282-8e79-88e701ba394b > .completed-part\").css(\"width\", \"72.000000%\")"
       ],
       "metadata": {},
       "output_type": "display_data"
      },
      {
       "javascript": [
        "$(\"#a5086ddd3-a937-4282-8e79-88e701ba394b > .running-part\").css(\"width\", \"0.500000%\")"
       ],
       "metadata": {},
       "output_type": "display_data"
      },
      {
       "javascript": [
        "$(\"#a5086ddd3-a937-4282-8e79-88e701ba394b > .text > .main\").text(\"144/200 (72%) in 30.4 s, 0.20 s last iter; eta 12+-0 s\")"
       ],
       "metadata": {},
       "output_type": "display_data"
      },
      {
       "javascript": [
        "$(\"#a5086ddd3-a937-4282-8e79-88e701ba394b > .text > .extra\").text(\"|||| Perplexity: 453.215722489; Topics_left: 150\")"
       ],
       "metadata": {},
       "output_type": "display_data"
      },
      {
       "javascript": [
        "$(\"#a5086ddd3-a937-4282-8e79-88e701ba394b > .completed-part\").css(\"width\", \"72.500000%\")"
       ],
       "metadata": {},
       "output_type": "display_data"
      },
      {
       "javascript": [
        "$(\"#a5086ddd3-a937-4282-8e79-88e701ba394b > .running-part\").css(\"width\", \"0.500000%\")"
       ],
       "metadata": {},
       "output_type": "display_data"
      },
      {
       "javascript": [
        "$(\"#a5086ddd3-a937-4282-8e79-88e701ba394b > .text > .main\").text(\"145/200 (72%) in 30.6 s, 0.20 s last iter; eta 11+-0 s\")"
       ],
       "metadata": {},
       "output_type": "display_data"
      },
      {
       "javascript": [
        "$(\"#a5086ddd3-a937-4282-8e79-88e701ba394b > .text > .extra\").text(\"|||| Perplexity: 453.188335447; Topics_left: 150\")"
       ],
       "metadata": {},
       "output_type": "display_data"
      },
      {
       "javascript": [
        "$(\"#a5086ddd3-a937-4282-8e79-88e701ba394b > .completed-part\").css(\"width\", \"73.000000%\")"
       ],
       "metadata": {},
       "output_type": "display_data"
      },
      {
       "javascript": [
        "$(\"#a5086ddd3-a937-4282-8e79-88e701ba394b > .running-part\").css(\"width\", \"0.500000%\")"
       ],
       "metadata": {},
       "output_type": "display_data"
      },
      {
       "javascript": [
        "$(\"#a5086ddd3-a937-4282-8e79-88e701ba394b > .text > .main\").text(\"146/200 (73%) in 30.8 s, 0.20 s last iter; eta 11+-0 s\")"
       ],
       "metadata": {},
       "output_type": "display_data"
      },
      {
       "javascript": [
        "$(\"#a5086ddd3-a937-4282-8e79-88e701ba394b > .text > .extra\").text(\"|||| Perplexity: 453.154654802; Topics_left: 150\")"
       ],
       "metadata": {},
       "output_type": "display_data"
      },
      {
       "javascript": [
        "$(\"#a5086ddd3-a937-4282-8e79-88e701ba394b > .completed-part\").css(\"width\", \"73.500000%\")"
       ],
       "metadata": {},
       "output_type": "display_data"
      },
      {
       "javascript": [
        "$(\"#a5086ddd3-a937-4282-8e79-88e701ba394b > .running-part\").css(\"width\", \"0.500000%\")"
       ],
       "metadata": {},
       "output_type": "display_data"
      },
      {
       "javascript": [
        "$(\"#a5086ddd3-a937-4282-8e79-88e701ba394b > .text > .main\").text(\"147/200 (73%) in 31.0 s, 0.21 s last iter; eta 11+-0 s\")"
       ],
       "metadata": {},
       "output_type": "display_data"
      },
      {
       "javascript": [
        "$(\"#a5086ddd3-a937-4282-8e79-88e701ba394b > .text > .extra\").text(\"|||| Perplexity: 453.111534641; Topics_left: 150\")"
       ],
       "metadata": {},
       "output_type": "display_data"
      },
      {
       "javascript": [
        "$(\"#a5086ddd3-a937-4282-8e79-88e701ba394b > .completed-part\").css(\"width\", \"74.000000%\")"
       ],
       "metadata": {},
       "output_type": "display_data"
      },
      {
       "javascript": [
        "$(\"#a5086ddd3-a937-4282-8e79-88e701ba394b > .running-part\").css(\"width\", \"0.500000%\")"
       ],
       "metadata": {},
       "output_type": "display_data"
      },
      {
       "javascript": [
        "$(\"#a5086ddd3-a937-4282-8e79-88e701ba394b > .text > .main\").text(\"148/200 (74%) in 31.2 s, 0.21 s last iter; eta 11+-0 s\")"
       ],
       "metadata": {},
       "output_type": "display_data"
      },
      {
       "javascript": [
        "$(\"#a5086ddd3-a937-4282-8e79-88e701ba394b > .text > .extra\").text(\"|||| Perplexity: 453.065586285; Topics_left: 150\")"
       ],
       "metadata": {},
       "output_type": "display_data"
      },
      {
       "javascript": [
        "$(\"#a5086ddd3-a937-4282-8e79-88e701ba394b > .completed-part\").css(\"width\", \"74.500000%\")"
       ],
       "metadata": {},
       "output_type": "display_data"
      },
      {
       "javascript": [
        "$(\"#a5086ddd3-a937-4282-8e79-88e701ba394b > .running-part\").css(\"width\", \"0.500000%\")"
       ],
       "metadata": {},
       "output_type": "display_data"
      },
      {
       "javascript": [
        "$(\"#a5086ddd3-a937-4282-8e79-88e701ba394b > .text > .main\").text(\"149/200 (74%) in 31.4 s, 0.21 s last iter; eta 11+-0 s\")"
       ],
       "metadata": {},
       "output_type": "display_data"
      },
      {
       "javascript": [
        "$(\"#a5086ddd3-a937-4282-8e79-88e701ba394b > .text > .extra\").text(\"|||| Perplexity: 453.034432173; Topics_left: 150\")"
       ],
       "metadata": {},
       "output_type": "display_data"
      },
      {
       "javascript": [
        "$(\"#a5086ddd3-a937-4282-8e79-88e701ba394b > .completed-part\").css(\"width\", \"75.000000%\")"
       ],
       "metadata": {},
       "output_type": "display_data"
      },
      {
       "javascript": [
        "$(\"#a5086ddd3-a937-4282-8e79-88e701ba394b > .running-part\").css(\"width\", \"0.500000%\")"
       ],
       "metadata": {},
       "output_type": "display_data"
      },
      {
       "javascript": [
        "$(\"#a5086ddd3-a937-4282-8e79-88e701ba394b > .text > .main\").text(\"150/200 (75%) in 31.7 s, 0.20 s last iter; eta 10+-0 s\")"
       ],
       "metadata": {},
       "output_type": "display_data"
      },
      {
       "javascript": [
        "$(\"#a5086ddd3-a937-4282-8e79-88e701ba394b > .text > .extra\").text(\"|||| Perplexity: 453.004538828; Topics_left: 150\")"
       ],
       "metadata": {},
       "output_type": "display_data"
      },
      {
       "javascript": [
        "$(\"#a5086ddd3-a937-4282-8e79-88e701ba394b > .completed-part\").css(\"width\", \"75.500000%\")"
       ],
       "metadata": {},
       "output_type": "display_data"
      },
      {
       "javascript": [
        "$(\"#a5086ddd3-a937-4282-8e79-88e701ba394b > .running-part\").css(\"width\", \"0.500000%\")"
       ],
       "metadata": {},
       "output_type": "display_data"
      },
      {
       "javascript": [
        "$(\"#a5086ddd3-a937-4282-8e79-88e701ba394b > .text > .main\").text(\"151/200 (75%) in 31.9 s, 0.20 s last iter; eta 10+-0 s\")"
       ],
       "metadata": {},
       "output_type": "display_data"
      },
      {
       "javascript": [
        "$(\"#a5086ddd3-a937-4282-8e79-88e701ba394b > .text > .extra\").text(\"|||| Perplexity: 453.003280204; Topics_left: 150\")"
       ],
       "metadata": {},
       "output_type": "display_data"
      },
      {
       "javascript": [
        "$(\"#a5086ddd3-a937-4282-8e79-88e701ba394b > .completed-part\").css(\"width\", \"76.000000%\")"
       ],
       "metadata": {},
       "output_type": "display_data"
      },
      {
       "javascript": [
        "$(\"#a5086ddd3-a937-4282-8e79-88e701ba394b > .running-part\").css(\"width\", \"0.500000%\")"
       ],
       "metadata": {},
       "output_type": "display_data"
      },
      {
       "javascript": [
        "$(\"#a5086ddd3-a937-4282-8e79-88e701ba394b > .text > .main\").text(\"152/200 (76%) in 32.1 s, 0.21 s last iter; eta 10+-0 s\")"
       ],
       "metadata": {},
       "output_type": "display_data"
      },
      {
       "javascript": [
        "$(\"#a5086ddd3-a937-4282-8e79-88e701ba394b > .text > .extra\").text(\"|||| Perplexity: 452.958601322; Topics_left: 150\")"
       ],
       "metadata": {},
       "output_type": "display_data"
      },
      {
       "javascript": [
        "$(\"#a5086ddd3-a937-4282-8e79-88e701ba394b > .completed-part\").css(\"width\", \"76.500000%\")"
       ],
       "metadata": {},
       "output_type": "display_data"
      },
      {
       "javascript": [
        "$(\"#a5086ddd3-a937-4282-8e79-88e701ba394b > .running-part\").css(\"width\", \"0.500000%\")"
       ],
       "metadata": {},
       "output_type": "display_data"
      },
      {
       "javascript": [
        "$(\"#a5086ddd3-a937-4282-8e79-88e701ba394b > .text > .main\").text(\"153/200 (76%) in 32.3 s, 0.21 s last iter; eta 10+-0 s\")"
       ],
       "metadata": {},
       "output_type": "display_data"
      },
      {
       "javascript": [
        "$(\"#a5086ddd3-a937-4282-8e79-88e701ba394b > .text > .extra\").text(\"|||| Perplexity: 452.939095023; Topics_left: 150\")"
       ],
       "metadata": {},
       "output_type": "display_data"
      },
      {
       "javascript": [
        "$(\"#a5086ddd3-a937-4282-8e79-88e701ba394b > .completed-part\").css(\"width\", \"77.000000%\")"
       ],
       "metadata": {},
       "output_type": "display_data"
      },
      {
       "javascript": [
        "$(\"#a5086ddd3-a937-4282-8e79-88e701ba394b > .running-part\").css(\"width\", \"0.500000%\")"
       ],
       "metadata": {},
       "output_type": "display_data"
      },
      {
       "javascript": [
        "$(\"#a5086ddd3-a937-4282-8e79-88e701ba394b > .text > .main\").text(\"154/200 (77%) in 32.5 s, 0.21 s last iter; eta 10+-0 s\")"
       ],
       "metadata": {},
       "output_type": "display_data"
      },
      {
       "javascript": [
        "$(\"#a5086ddd3-a937-4282-8e79-88e701ba394b > .text > .extra\").text(\"|||| Perplexity: 452.905118314; Topics_left: 150\")"
       ],
       "metadata": {},
       "output_type": "display_data"
      },
      {
       "javascript": [
        "$(\"#a5086ddd3-a937-4282-8e79-88e701ba394b > .completed-part\").css(\"width\", \"77.500000%\")"
       ],
       "metadata": {},
       "output_type": "display_data"
      },
      {
       "javascript": [
        "$(\"#a5086ddd3-a937-4282-8e79-88e701ba394b > .running-part\").css(\"width\", \"0.500000%\")"
       ],
       "metadata": {},
       "output_type": "display_data"
      },
      {
       "javascript": [
        "$(\"#a5086ddd3-a937-4282-8e79-88e701ba394b > .text > .main\").text(\"155/200 (77%) in 32.7 s, 0.21 s last iter; eta 9+-0 s\")"
       ],
       "metadata": {},
       "output_type": "display_data"
      },
      {
       "javascript": [
        "$(\"#a5086ddd3-a937-4282-8e79-88e701ba394b > .text > .extra\").text(\"|||| Perplexity: 452.878693748; Topics_left: 150\")"
       ],
       "metadata": {},
       "output_type": "display_data"
      },
      {
       "javascript": [
        "$(\"#a5086ddd3-a937-4282-8e79-88e701ba394b > .completed-part\").css(\"width\", \"78.000000%\")"
       ],
       "metadata": {},
       "output_type": "display_data"
      },
      {
       "javascript": [
        "$(\"#a5086ddd3-a937-4282-8e79-88e701ba394b > .running-part\").css(\"width\", \"0.500000%\")"
       ],
       "metadata": {},
       "output_type": "display_data"
      },
      {
       "javascript": [
        "$(\"#a5086ddd3-a937-4282-8e79-88e701ba394b > .text > .main\").text(\"156/200 (78%) in 32.9 s, 0.21 s last iter; eta 9+-0 s\")"
       ],
       "metadata": {},
       "output_type": "display_data"
      },
      {
       "javascript": [
        "$(\"#a5086ddd3-a937-4282-8e79-88e701ba394b > .text > .extra\").text(\"|||| Perplexity: 452.856674453; Topics_left: 150\")"
       ],
       "metadata": {},
       "output_type": "display_data"
      },
      {
       "javascript": [
        "$(\"#a5086ddd3-a937-4282-8e79-88e701ba394b > .completed-part\").css(\"width\", \"78.500000%\")"
       ],
       "metadata": {},
       "output_type": "display_data"
      },
      {
       "javascript": [
        "$(\"#a5086ddd3-a937-4282-8e79-88e701ba394b > .running-part\").css(\"width\", \"0.500000%\")"
       ],
       "metadata": {},
       "output_type": "display_data"
      },
      {
       "javascript": [
        "$(\"#a5086ddd3-a937-4282-8e79-88e701ba394b > .text > .main\").text(\"157/200 (78%) in 33.1 s, 0.21 s last iter; eta 9+-0 s\")"
       ],
       "metadata": {},
       "output_type": "display_data"
      },
      {
       "javascript": [
        "$(\"#a5086ddd3-a937-4282-8e79-88e701ba394b > .text > .extra\").text(\"|||| Perplexity: 452.820187694; Topics_left: 150\")"
       ],
       "metadata": {},
       "output_type": "display_data"
      },
      {
       "javascript": [
        "$(\"#a5086ddd3-a937-4282-8e79-88e701ba394b > .completed-part\").css(\"width\", \"79.000000%\")"
       ],
       "metadata": {},
       "output_type": "display_data"
      },
      {
       "javascript": [
        "$(\"#a5086ddd3-a937-4282-8e79-88e701ba394b > .running-part\").css(\"width\", \"0.500000%\")"
       ],
       "metadata": {},
       "output_type": "display_data"
      },
      {
       "javascript": [
        "$(\"#a5086ddd3-a937-4282-8e79-88e701ba394b > .text > .main\").text(\"158/200 (79%) in 33.3 s, 0.21 s last iter; eta 9+-0 s\")"
       ],
       "metadata": {},
       "output_type": "display_data"
      },
      {
       "javascript": [
        "$(\"#a5086ddd3-a937-4282-8e79-88e701ba394b > .text > .extra\").text(\"|||| Perplexity: 452.797227706; Topics_left: 150\")"
       ],
       "metadata": {},
       "output_type": "display_data"
      },
      {
       "javascript": [
        "$(\"#a5086ddd3-a937-4282-8e79-88e701ba394b > .completed-part\").css(\"width\", \"79.500000%\")"
       ],
       "metadata": {},
       "output_type": "display_data"
      },
      {
       "javascript": [
        "$(\"#a5086ddd3-a937-4282-8e79-88e701ba394b > .running-part\").css(\"width\", \"0.500000%\")"
       ],
       "metadata": {},
       "output_type": "display_data"
      },
      {
       "javascript": [
        "$(\"#a5086ddd3-a937-4282-8e79-88e701ba394b > .text > .main\").text(\"159/200 (79%) in 33.5 s, 0.21 s last iter; eta 8+-0 s\")"
       ],
       "metadata": {},
       "output_type": "display_data"
      },
      {
       "javascript": [
        "$(\"#a5086ddd3-a937-4282-8e79-88e701ba394b > .text > .extra\").text(\"|||| Perplexity: 452.78181686; Topics_left: 150\")"
       ],
       "metadata": {},
       "output_type": "display_data"
      },
      {
       "javascript": [
        "$(\"#a5086ddd3-a937-4282-8e79-88e701ba394b > .completed-part\").css(\"width\", \"80.000000%\")"
       ],
       "metadata": {},
       "output_type": "display_data"
      },
      {
       "javascript": [
        "$(\"#a5086ddd3-a937-4282-8e79-88e701ba394b > .running-part\").css(\"width\", \"0.500000%\")"
       ],
       "metadata": {},
       "output_type": "display_data"
      },
      {
       "javascript": [
        "$(\"#a5086ddd3-a937-4282-8e79-88e701ba394b > .text > .main\").text(\"160/200 (80%) in 33.7 s, 0.21 s last iter; eta 8+-0 s\")"
       ],
       "metadata": {},
       "output_type": "display_data"
      },
      {
       "javascript": [
        "$(\"#a5086ddd3-a937-4282-8e79-88e701ba394b > .text > .extra\").text(\"|||| Perplexity: 452.748166428; Topics_left: 150\")"
       ],
       "metadata": {},
       "output_type": "display_data"
      },
      {
       "javascript": [
        "$(\"#a5086ddd3-a937-4282-8e79-88e701ba394b > .completed-part\").css(\"width\", \"80.500000%\")"
       ],
       "metadata": {},
       "output_type": "display_data"
      },
      {
       "javascript": [
        "$(\"#a5086ddd3-a937-4282-8e79-88e701ba394b > .running-part\").css(\"width\", \"0.500000%\")"
       ],
       "metadata": {},
       "output_type": "display_data"
      },
      {
       "javascript": [
        "$(\"#a5086ddd3-a937-4282-8e79-88e701ba394b > .text > .main\").text(\"161/200 (80%) in 34.0 s, 0.21 s last iter; eta 8+-0 s\")"
       ],
       "metadata": {},
       "output_type": "display_data"
      },
      {
       "javascript": [
        "$(\"#a5086ddd3-a937-4282-8e79-88e701ba394b > .text > .extra\").text(\"|||| Perplexity: 452.730555984; Topics_left: 150\")"
       ],
       "metadata": {},
       "output_type": "display_data"
      },
      {
       "javascript": [
        "$(\"#a5086ddd3-a937-4282-8e79-88e701ba394b > .completed-part\").css(\"width\", \"81.000000%\")"
       ],
       "metadata": {},
       "output_type": "display_data"
      },
      {
       "javascript": [
        "$(\"#a5086ddd3-a937-4282-8e79-88e701ba394b > .running-part\").css(\"width\", \"0.500000%\")"
       ],
       "metadata": {},
       "output_type": "display_data"
      },
      {
       "javascript": [
        "$(\"#a5086ddd3-a937-4282-8e79-88e701ba394b > .text > .main\").text(\"162/200 (81%) in 34.2 s, 0.21 s last iter; eta 8+-0 s\")"
       ],
       "metadata": {},
       "output_type": "display_data"
      },
      {
       "javascript": [
        "$(\"#a5086ddd3-a937-4282-8e79-88e701ba394b > .text > .extra\").text(\"|||| Perplexity: 452.702883812; Topics_left: 150\")"
       ],
       "metadata": {},
       "output_type": "display_data"
      },
      {
       "javascript": [
        "$(\"#a5086ddd3-a937-4282-8e79-88e701ba394b > .completed-part\").css(\"width\", \"81.500000%\")"
       ],
       "metadata": {},
       "output_type": "display_data"
      },
      {
       "javascript": [
        "$(\"#a5086ddd3-a937-4282-8e79-88e701ba394b > .running-part\").css(\"width\", \"0.500000%\")"
       ],
       "metadata": {},
       "output_type": "display_data"
      },
      {
       "javascript": [
        "$(\"#a5086ddd3-a937-4282-8e79-88e701ba394b > .text > .main\").text(\"163/200 (81%) in 34.4 s, 0.22 s last iter; eta 8+-0 s\")"
       ],
       "metadata": {},
       "output_type": "display_data"
      },
      {
       "javascript": [
        "$(\"#a5086ddd3-a937-4282-8e79-88e701ba394b > .text > .extra\").text(\"|||| Perplexity: 452.695651592; Topics_left: 150\")"
       ],
       "metadata": {},
       "output_type": "display_data"
      },
      {
       "javascript": [
        "$(\"#a5086ddd3-a937-4282-8e79-88e701ba394b > .completed-part\").css(\"width\", \"82.000000%\")"
       ],
       "metadata": {},
       "output_type": "display_data"
      },
      {
       "javascript": [
        "$(\"#a5086ddd3-a937-4282-8e79-88e701ba394b > .running-part\").css(\"width\", \"0.500000%\")"
       ],
       "metadata": {},
       "output_type": "display_data"
      },
      {
       "javascript": [
        "$(\"#a5086ddd3-a937-4282-8e79-88e701ba394b > .text > .main\").text(\"164/200 (82%) in 34.6 s, 0.22 s last iter; eta 7+-0 s\")"
       ],
       "metadata": {},
       "output_type": "display_data"
      },
      {
       "javascript": [
        "$(\"#a5086ddd3-a937-4282-8e79-88e701ba394b > .text > .extra\").text(\"|||| Perplexity: 452.66546618; Topics_left: 150\")"
       ],
       "metadata": {},
       "output_type": "display_data"
      },
      {
       "javascript": [
        "$(\"#a5086ddd3-a937-4282-8e79-88e701ba394b > .completed-part\").css(\"width\", \"82.500000%\")"
       ],
       "metadata": {},
       "output_type": "display_data"
      },
      {
       "javascript": [
        "$(\"#a5086ddd3-a937-4282-8e79-88e701ba394b > .running-part\").css(\"width\", \"0.500000%\")"
       ],
       "metadata": {},
       "output_type": "display_data"
      },
      {
       "javascript": [
        "$(\"#a5086ddd3-a937-4282-8e79-88e701ba394b > .text > .main\").text(\"165/200 (82%) in 34.8 s, 0.21 s last iter; eta 7+-0 s\")"
       ],
       "metadata": {},
       "output_type": "display_data"
      },
      {
       "javascript": [
        "$(\"#a5086ddd3-a937-4282-8e79-88e701ba394b > .text > .extra\").text(\"|||| Perplexity: 452.653832757; Topics_left: 150\")"
       ],
       "metadata": {},
       "output_type": "display_data"
      },
      {
       "javascript": [
        "$(\"#a5086ddd3-a937-4282-8e79-88e701ba394b > .completed-part\").css(\"width\", \"83.000000%\")"
       ],
       "metadata": {},
       "output_type": "display_data"
      },
      {
       "javascript": [
        "$(\"#a5086ddd3-a937-4282-8e79-88e701ba394b > .running-part\").css(\"width\", \"0.500000%\")"
       ],
       "metadata": {},
       "output_type": "display_data"
      },
      {
       "javascript": [
        "$(\"#a5086ddd3-a937-4282-8e79-88e701ba394b > .text > .main\").text(\"166/200 (83%) in 35.0 s, 0.21 s last iter; eta 7+-0 s\")"
       ],
       "metadata": {},
       "output_type": "display_data"
      },
      {
       "javascript": [
        "$(\"#a5086ddd3-a937-4282-8e79-88e701ba394b > .text > .extra\").text(\"|||| Perplexity: 452.633710784; Topics_left: 150\")"
       ],
       "metadata": {},
       "output_type": "display_data"
      },
      {
       "javascript": [
        "$(\"#a5086ddd3-a937-4282-8e79-88e701ba394b > .completed-part\").css(\"width\", \"83.500000%\")"
       ],
       "metadata": {},
       "output_type": "display_data"
      },
      {
       "javascript": [
        "$(\"#a5086ddd3-a937-4282-8e79-88e701ba394b > .running-part\").css(\"width\", \"0.500000%\")"
       ],
       "metadata": {},
       "output_type": "display_data"
      },
      {
       "javascript": [
        "$(\"#a5086ddd3-a937-4282-8e79-88e701ba394b > .text > .main\").text(\"167/200 (83%) in 35.2 s, 0.21 s last iter; eta 7+-0 s\")"
       ],
       "metadata": {},
       "output_type": "display_data"
      },
      {
       "javascript": [
        "$(\"#a5086ddd3-a937-4282-8e79-88e701ba394b > .text > .extra\").text(\"|||| Perplexity: 452.61893428; Topics_left: 150\")"
       ],
       "metadata": {},
       "output_type": "display_data"
      },
      {
       "javascript": [
        "$(\"#a5086ddd3-a937-4282-8e79-88e701ba394b > .completed-part\").css(\"width\", \"84.000000%\")"
       ],
       "metadata": {},
       "output_type": "display_data"
      },
      {
       "javascript": [
        "$(\"#a5086ddd3-a937-4282-8e79-88e701ba394b > .running-part\").css(\"width\", \"0.500000%\")"
       ],
       "metadata": {},
       "output_type": "display_data"
      },
      {
       "javascript": [
        "$(\"#a5086ddd3-a937-4282-8e79-88e701ba394b > .text > .main\").text(\"168/200 (84%) in 35.4 s, 0.20 s last iter; eta 7+-0 s\")"
       ],
       "metadata": {},
       "output_type": "display_data"
      },
      {
       "javascript": [
        "$(\"#a5086ddd3-a937-4282-8e79-88e701ba394b > .text > .extra\").text(\"|||| Perplexity: 452.614847247; Topics_left: 150\")"
       ],
       "metadata": {},
       "output_type": "display_data"
      },
      {
       "javascript": [
        "$(\"#a5086ddd3-a937-4282-8e79-88e701ba394b > .completed-part\").css(\"width\", \"84.500000%\")"
       ],
       "metadata": {},
       "output_type": "display_data"
      },
      {
       "javascript": [
        "$(\"#a5086ddd3-a937-4282-8e79-88e701ba394b > .running-part\").css(\"width\", \"0.500000%\")"
       ],
       "metadata": {},
       "output_type": "display_data"
      },
      {
       "javascript": [
        "$(\"#a5086ddd3-a937-4282-8e79-88e701ba394b > .text > .main\").text(\"169/200 (84%) in 35.6 s, 0.20 s last iter; eta 6+-0 s\")"
       ],
       "metadata": {},
       "output_type": "display_data"
      },
      {
       "javascript": [
        "$(\"#a5086ddd3-a937-4282-8e79-88e701ba394b > .text > .extra\").text(\"|||| Perplexity: 452.597241989; Topics_left: 150\")"
       ],
       "metadata": {},
       "output_type": "display_data"
      },
      {
       "javascript": [
        "$(\"#a5086ddd3-a937-4282-8e79-88e701ba394b > .completed-part\").css(\"width\", \"85.000000%\")"
       ],
       "metadata": {},
       "output_type": "display_data"
      },
      {
       "javascript": [
        "$(\"#a5086ddd3-a937-4282-8e79-88e701ba394b > .running-part\").css(\"width\", \"0.500000%\")"
       ],
       "metadata": {},
       "output_type": "display_data"
      },
      {
       "javascript": [
        "$(\"#a5086ddd3-a937-4282-8e79-88e701ba394b > .text > .main\").text(\"170/200 (85%) in 35.8 s, 0.20 s last iter; eta 6+-0 s\")"
       ],
       "metadata": {},
       "output_type": "display_data"
      },
      {
       "javascript": [
        "$(\"#a5086ddd3-a937-4282-8e79-88e701ba394b > .text > .extra\").text(\"|||| Perplexity: 452.585924684; Topics_left: 150\")"
       ],
       "metadata": {},
       "output_type": "display_data"
      },
      {
       "javascript": [
        "$(\"#a5086ddd3-a937-4282-8e79-88e701ba394b > .completed-part\").css(\"width\", \"85.500000%\")"
       ],
       "metadata": {},
       "output_type": "display_data"
      },
      {
       "javascript": [
        "$(\"#a5086ddd3-a937-4282-8e79-88e701ba394b > .running-part\").css(\"width\", \"0.500000%\")"
       ],
       "metadata": {},
       "output_type": "display_data"
      },
      {
       "javascript": [
        "$(\"#a5086ddd3-a937-4282-8e79-88e701ba394b > .text > .main\").text(\"171/200 (85%) in 36.0 s, 0.20 s last iter; eta 6+-0 s\")"
       ],
       "metadata": {},
       "output_type": "display_data"
      },
      {
       "javascript": [
        "$(\"#a5086ddd3-a937-4282-8e79-88e701ba394b > .text > .extra\").text(\"|||| Perplexity: 452.573350233; Topics_left: 150\")"
       ],
       "metadata": {},
       "output_type": "display_data"
      },
      {
       "javascript": [
        "$(\"#a5086ddd3-a937-4282-8e79-88e701ba394b > .completed-part\").css(\"width\", \"86.000000%\")"
       ],
       "metadata": {},
       "output_type": "display_data"
      },
      {
       "javascript": [
        "$(\"#a5086ddd3-a937-4282-8e79-88e701ba394b > .running-part\").css(\"width\", \"0.500000%\")"
       ],
       "metadata": {},
       "output_type": "display_data"
      },
      {
       "javascript": [
        "$(\"#a5086ddd3-a937-4282-8e79-88e701ba394b > .text > .main\").text(\"172/200 (86%) in 36.3 s, 0.21 s last iter; eta 6+-0 s\")"
       ],
       "metadata": {},
       "output_type": "display_data"
      },
      {
       "javascript": [
        "$(\"#a5086ddd3-a937-4282-8e79-88e701ba394b > .text > .extra\").text(\"|||| Perplexity: 452.566434434; Topics_left: 150\")"
       ],
       "metadata": {},
       "output_type": "display_data"
      },
      {
       "javascript": [
        "$(\"#a5086ddd3-a937-4282-8e79-88e701ba394b > .completed-part\").css(\"width\", \"86.500000%\")"
       ],
       "metadata": {},
       "output_type": "display_data"
      },
      {
       "javascript": [
        "$(\"#a5086ddd3-a937-4282-8e79-88e701ba394b > .running-part\").css(\"width\", \"0.500000%\")"
       ],
       "metadata": {},
       "output_type": "display_data"
      },
      {
       "javascript": [
        "$(\"#a5086ddd3-a937-4282-8e79-88e701ba394b > .text > .main\").text(\"173/200 (86%) in 36.5 s, 0.21 s last iter; eta 6+-0 s\")"
       ],
       "metadata": {},
       "output_type": "display_data"
      },
      {
       "javascript": [
        "$(\"#a5086ddd3-a937-4282-8e79-88e701ba394b > .text > .extra\").text(\"|||| Perplexity: 452.563290924; Topics_left: 150\")"
       ],
       "metadata": {},
       "output_type": "display_data"
      },
      {
       "javascript": [
        "$(\"#a5086ddd3-a937-4282-8e79-88e701ba394b > .completed-part\").css(\"width\", \"87.000000%\")"
       ],
       "metadata": {},
       "output_type": "display_data"
      },
      {
       "javascript": [
        "$(\"#a5086ddd3-a937-4282-8e79-88e701ba394b > .running-part\").css(\"width\", \"0.500000%\")"
       ],
       "metadata": {},
       "output_type": "display_data"
      },
      {
       "javascript": [
        "$(\"#a5086ddd3-a937-4282-8e79-88e701ba394b > .text > .main\").text(\"174/200 (87%) in 36.7 s, 0.21 s last iter; eta 5+-0 s\")"
       ],
       "metadata": {},
       "output_type": "display_data"
      },
      {
       "javascript": [
        "$(\"#a5086ddd3-a937-4282-8e79-88e701ba394b > .text > .extra\").text(\"|||| Perplexity: 452.545687671; Topics_left: 150\")"
       ],
       "metadata": {},
       "output_type": "display_data"
      },
      {
       "javascript": [
        "$(\"#a5086ddd3-a937-4282-8e79-88e701ba394b > .completed-part\").css(\"width\", \"87.500000%\")"
       ],
       "metadata": {},
       "output_type": "display_data"
      },
      {
       "javascript": [
        "$(\"#a5086ddd3-a937-4282-8e79-88e701ba394b > .running-part\").css(\"width\", \"0.500000%\")"
       ],
       "metadata": {},
       "output_type": "display_data"
      },
      {
       "javascript": [
        "$(\"#a5086ddd3-a937-4282-8e79-88e701ba394b > .text > .main\").text(\"175/200 (87%) in 36.9 s, 0.21 s last iter; eta 5+-0 s\")"
       ],
       "metadata": {},
       "output_type": "display_data"
      },
      {
       "javascript": [
        "$(\"#a5086ddd3-a937-4282-8e79-88e701ba394b > .text > .extra\").text(\"|||| Perplexity: 452.535314646; Topics_left: 150\")"
       ],
       "metadata": {},
       "output_type": "display_data"
      },
      {
       "javascript": [
        "$(\"#a5086ddd3-a937-4282-8e79-88e701ba394b > .completed-part\").css(\"width\", \"88.000000%\")"
       ],
       "metadata": {},
       "output_type": "display_data"
      },
      {
       "javascript": [
        "$(\"#a5086ddd3-a937-4282-8e79-88e701ba394b > .running-part\").css(\"width\", \"0.500000%\")"
       ],
       "metadata": {},
       "output_type": "display_data"
      },
      {
       "javascript": [
        "$(\"#a5086ddd3-a937-4282-8e79-88e701ba394b > .text > .main\").text(\"176/200 (88%) in 37.1 s, 0.21 s last iter; eta 5+-0 s\")"
       ],
       "metadata": {},
       "output_type": "display_data"
      },
      {
       "javascript": [
        "$(\"#a5086ddd3-a937-4282-8e79-88e701ba394b > .text > .extra\").text(\"|||| Perplexity: 452.523370245; Topics_left: 150\")"
       ],
       "metadata": {},
       "output_type": "display_data"
      },
      {
       "javascript": [
        "$(\"#a5086ddd3-a937-4282-8e79-88e701ba394b > .completed-part\").css(\"width\", \"88.500000%\")"
       ],
       "metadata": {},
       "output_type": "display_data"
      },
      {
       "javascript": [
        "$(\"#a5086ddd3-a937-4282-8e79-88e701ba394b > .running-part\").css(\"width\", \"0.500000%\")"
       ],
       "metadata": {},
       "output_type": "display_data"
      },
      {
       "javascript": [
        "$(\"#a5086ddd3-a937-4282-8e79-88e701ba394b > .text > .main\").text(\"177/200 (88%) in 37.3 s, 0.21 s last iter; eta 5+-0 s\")"
       ],
       "metadata": {},
       "output_type": "display_data"
      },
      {
       "javascript": [
        "$(\"#a5086ddd3-a937-4282-8e79-88e701ba394b > .text > .extra\").text(\"|||| Perplexity: 452.500111001; Topics_left: 150\")"
       ],
       "metadata": {},
       "output_type": "display_data"
      },
      {
       "javascript": [
        "$(\"#a5086ddd3-a937-4282-8e79-88e701ba394b > .completed-part\").css(\"width\", \"89.000000%\")"
       ],
       "metadata": {},
       "output_type": "display_data"
      },
      {
       "javascript": [
        "$(\"#a5086ddd3-a937-4282-8e79-88e701ba394b > .running-part\").css(\"width\", \"0.500000%\")"
       ],
       "metadata": {},
       "output_type": "display_data"
      },
      {
       "javascript": [
        "$(\"#a5086ddd3-a937-4282-8e79-88e701ba394b > .text > .main\").text(\"178/200 (89%) in 37.5 s, 0.21 s last iter; eta 5+-0 s\")"
       ],
       "metadata": {},
       "output_type": "display_data"
      },
      {
       "javascript": [
        "$(\"#a5086ddd3-a937-4282-8e79-88e701ba394b > .text > .extra\").text(\"|||| Perplexity: 452.483767383; Topics_left: 150\")"
       ],
       "metadata": {},
       "output_type": "display_data"
      },
      {
       "javascript": [
        "$(\"#a5086ddd3-a937-4282-8e79-88e701ba394b > .completed-part\").css(\"width\", \"89.500000%\")"
       ],
       "metadata": {},
       "output_type": "display_data"
      },
      {
       "javascript": [
        "$(\"#a5086ddd3-a937-4282-8e79-88e701ba394b > .running-part\").css(\"width\", \"0.500000%\")"
       ],
       "metadata": {},
       "output_type": "display_data"
      },
      {
       "javascript": [
        "$(\"#a5086ddd3-a937-4282-8e79-88e701ba394b > .text > .main\").text(\"179/200 (89%) in 37.7 s, 0.21 s last iter; eta 4+-0 s\")"
       ],
       "metadata": {},
       "output_type": "display_data"
      },
      {
       "javascript": [
        "$(\"#a5086ddd3-a937-4282-8e79-88e701ba394b > .text > .extra\").text(\"|||| Perplexity: 452.487538934; Topics_left: 150\")"
       ],
       "metadata": {},
       "output_type": "display_data"
      },
      {
       "javascript": [
        "$(\"#a5086ddd3-a937-4282-8e79-88e701ba394b > .completed-part\").css(\"width\", \"90.000000%\")"
       ],
       "metadata": {},
       "output_type": "display_data"
      },
      {
       "javascript": [
        "$(\"#a5086ddd3-a937-4282-8e79-88e701ba394b > .running-part\").css(\"width\", \"0.500000%\")"
       ],
       "metadata": {},
       "output_type": "display_data"
      },
      {
       "javascript": [
        "$(\"#a5086ddd3-a937-4282-8e79-88e701ba394b > .text > .main\").text(\"180/200 (90%) in 37.9 s, 0.21 s last iter; eta 4+-0 s\")"
       ],
       "metadata": {},
       "output_type": "display_data"
      },
      {
       "javascript": [
        "$(\"#a5086ddd3-a937-4282-8e79-88e701ba394b > .text > .extra\").text(\"|||| Perplexity: 452.47433864; Topics_left: 150\")"
       ],
       "metadata": {},
       "output_type": "display_data"
      },
      {
       "javascript": [
        "$(\"#a5086ddd3-a937-4282-8e79-88e701ba394b > .completed-part\").css(\"width\", \"90.500000%\")"
       ],
       "metadata": {},
       "output_type": "display_data"
      },
      {
       "javascript": [
        "$(\"#a5086ddd3-a937-4282-8e79-88e701ba394b > .running-part\").css(\"width\", \"0.500000%\")"
       ],
       "metadata": {},
       "output_type": "display_data"
      },
      {
       "javascript": [
        "$(\"#a5086ddd3-a937-4282-8e79-88e701ba394b > .text > .main\").text(\"181/200 (90%) in 38.1 s, 0.21 s last iter; eta 4+-0 s\")"
       ],
       "metadata": {},
       "output_type": "display_data"
      },
      {
       "javascript": [
        "$(\"#a5086ddd3-a937-4282-8e79-88e701ba394b > .text > .extra\").text(\"|||| Perplexity: 452.452339006; Topics_left: 150\")"
       ],
       "metadata": {},
       "output_type": "display_data"
      },
      {
       "javascript": [
        "$(\"#a5086ddd3-a937-4282-8e79-88e701ba394b > .completed-part\").css(\"width\", \"91.000000%\")"
       ],
       "metadata": {},
       "output_type": "display_data"
      },
      {
       "javascript": [
        "$(\"#a5086ddd3-a937-4282-8e79-88e701ba394b > .running-part\").css(\"width\", \"0.500000%\")"
       ],
       "metadata": {},
       "output_type": "display_data"
      },
      {
       "javascript": [
        "$(\"#a5086ddd3-a937-4282-8e79-88e701ba394b > .text > .main\").text(\"182/200 (91%) in 38.3 s, 0.21 s last iter; eta 4+-0 s\")"
       ],
       "metadata": {},
       "output_type": "display_data"
      },
      {
       "javascript": [
        "$(\"#a5086ddd3-a937-4282-8e79-88e701ba394b > .text > .extra\").text(\"|||| Perplexity: 452.44071106; Topics_left: 150\")"
       ],
       "metadata": {},
       "output_type": "display_data"
      },
      {
       "javascript": [
        "$(\"#a5086ddd3-a937-4282-8e79-88e701ba394b > .completed-part\").css(\"width\", \"91.500000%\")"
       ],
       "metadata": {},
       "output_type": "display_data"
      },
      {
       "javascript": [
        "$(\"#a5086ddd3-a937-4282-8e79-88e701ba394b > .running-part\").css(\"width\", \"0.500000%\")"
       ],
       "metadata": {},
       "output_type": "display_data"
      },
      {
       "javascript": [
        "$(\"#a5086ddd3-a937-4282-8e79-88e701ba394b > .text > .main\").text(\"183/200 (91%) in 38.5 s, 0.21 s last iter; eta 4+-0 s\")"
       ],
       "metadata": {},
       "output_type": "display_data"
      },
      {
       "javascript": [
        "$(\"#a5086ddd3-a937-4282-8e79-88e701ba394b > .text > .extra\").text(\"|||| Perplexity: 452.424998094; Topics_left: 150\")"
       ],
       "metadata": {},
       "output_type": "display_data"
      },
      {
       "javascript": [
        "$(\"#a5086ddd3-a937-4282-8e79-88e701ba394b > .completed-part\").css(\"width\", \"92.000000%\")"
       ],
       "metadata": {},
       "output_type": "display_data"
      },
      {
       "javascript": [
        "$(\"#a5086ddd3-a937-4282-8e79-88e701ba394b > .running-part\").css(\"width\", \"0.500000%\")"
       ],
       "metadata": {},
       "output_type": "display_data"
      },
      {
       "javascript": [
        "$(\"#a5086ddd3-a937-4282-8e79-88e701ba394b > .text > .main\").text(\"184/200 (92%) in 38.7 s, 0.20 s last iter; eta 3+-0 s\")"
       ],
       "metadata": {},
       "output_type": "display_data"
      },
      {
       "javascript": [
        "$(\"#a5086ddd3-a937-4282-8e79-88e701ba394b > .text > .extra\").text(\"|||| Perplexity: 452.417770313; Topics_left: 150\")"
       ],
       "metadata": {},
       "output_type": "display_data"
      },
      {
       "javascript": [
        "$(\"#a5086ddd3-a937-4282-8e79-88e701ba394b > .completed-part\").css(\"width\", \"92.500000%\")"
       ],
       "metadata": {},
       "output_type": "display_data"
      },
      {
       "javascript": [
        "$(\"#a5086ddd3-a937-4282-8e79-88e701ba394b > .running-part\").css(\"width\", \"0.500000%\")"
       ],
       "metadata": {},
       "output_type": "display_data"
      },
      {
       "javascript": [
        "$(\"#a5086ddd3-a937-4282-8e79-88e701ba394b > .text > .main\").text(\"185/200 (92%) in 38.9 s, 0.20 s last iter; eta 3+-0 s\")"
       ],
       "metadata": {},
       "output_type": "display_data"
      },
      {
       "javascript": [
        "$(\"#a5086ddd3-a937-4282-8e79-88e701ba394b > .text > .extra\").text(\"|||| Perplexity: 452.401743906; Topics_left: 150\")"
       ],
       "metadata": {},
       "output_type": "display_data"
      },
      {
       "javascript": [
        "$(\"#a5086ddd3-a937-4282-8e79-88e701ba394b > .completed-part\").css(\"width\", \"93.000000%\")"
       ],
       "metadata": {},
       "output_type": "display_data"
      },
      {
       "javascript": [
        "$(\"#a5086ddd3-a937-4282-8e79-88e701ba394b > .running-part\").css(\"width\", \"0.500000%\")"
       ],
       "metadata": {},
       "output_type": "display_data"
      },
      {
       "javascript": [
        "$(\"#a5086ddd3-a937-4282-8e79-88e701ba394b > .text > .main\").text(\"186/200 (93%) in 39.1 s, 0.20 s last iter; eta 3+-0 s\")"
       ],
       "metadata": {},
       "output_type": "display_data"
      },
      {
       "javascript": [
        "$(\"#a5086ddd3-a937-4282-8e79-88e701ba394b > .text > .extra\").text(\"|||| Perplexity: 452.381318916; Topics_left: 150\")"
       ],
       "metadata": {},
       "output_type": "display_data"
      },
      {
       "javascript": [
        "$(\"#a5086ddd3-a937-4282-8e79-88e701ba394b > .completed-part\").css(\"width\", \"93.500000%\")"
       ],
       "metadata": {},
       "output_type": "display_data"
      },
      {
       "javascript": [
        "$(\"#a5086ddd3-a937-4282-8e79-88e701ba394b > .running-part\").css(\"width\", \"0.500000%\")"
       ],
       "metadata": {},
       "output_type": "display_data"
      },
      {
       "javascript": [
        "$(\"#a5086ddd3-a937-4282-8e79-88e701ba394b > .text > .main\").text(\"187/200 (93%) in 39.3 s, 0.20 s last iter; eta 3+-0 s\")"
       ],
       "metadata": {},
       "output_type": "display_data"
      },
      {
       "javascript": [
        "$(\"#a5086ddd3-a937-4282-8e79-88e701ba394b > .text > .extra\").text(\"|||| Perplexity: 452.370949659; Topics_left: 150\")"
       ],
       "metadata": {},
       "output_type": "display_data"
      },
      {
       "javascript": [
        "$(\"#a5086ddd3-a937-4282-8e79-88e701ba394b > .completed-part\").css(\"width\", \"94.000000%\")"
       ],
       "metadata": {},
       "output_type": "display_data"
      },
      {
       "javascript": [
        "$(\"#a5086ddd3-a937-4282-8e79-88e701ba394b > .running-part\").css(\"width\", \"0.500000%\")"
       ],
       "metadata": {},
       "output_type": "display_data"
      },
      {
       "javascript": [
        "$(\"#a5086ddd3-a937-4282-8e79-88e701ba394b > .text > .main\").text(\"188/200 (94%) in 39.6 s, 0.21 s last iter; eta 2+-0 s\")"
       ],
       "metadata": {},
       "output_type": "display_data"
      },
      {
       "javascript": [
        "$(\"#a5086ddd3-a937-4282-8e79-88e701ba394b > .text > .extra\").text(\"|||| Perplexity: 452.359638012; Topics_left: 150\")"
       ],
       "metadata": {},
       "output_type": "display_data"
      },
      {
       "javascript": [
        "$(\"#a5086ddd3-a937-4282-8e79-88e701ba394b > .completed-part\").css(\"width\", \"94.500000%\")"
       ],
       "metadata": {},
       "output_type": "display_data"
      },
      {
       "javascript": [
        "$(\"#a5086ddd3-a937-4282-8e79-88e701ba394b > .running-part\").css(\"width\", \"0.500000%\")"
       ],
       "metadata": {},
       "output_type": "display_data"
      },
      {
       "javascript": [
        "$(\"#a5086ddd3-a937-4282-8e79-88e701ba394b > .text > .main\").text(\"189/200 (94%) in 39.8 s, 0.21 s last iter; eta 2+-0 s\")"
       ],
       "metadata": {},
       "output_type": "display_data"
      },
      {
       "javascript": [
        "$(\"#a5086ddd3-a937-4282-8e79-88e701ba394b > .text > .extra\").text(\"|||| Perplexity: 452.348012449; Topics_left: 150\")"
       ],
       "metadata": {},
       "output_type": "display_data"
      },
      {
       "javascript": [
        "$(\"#a5086ddd3-a937-4282-8e79-88e701ba394b > .completed-part\").css(\"width\", \"95.000000%\")"
       ],
       "metadata": {},
       "output_type": "display_data"
      },
      {
       "javascript": [
        "$(\"#a5086ddd3-a937-4282-8e79-88e701ba394b > .running-part\").css(\"width\", \"0.500000%\")"
       ],
       "metadata": {},
       "output_type": "display_data"
      },
      {
       "javascript": [
        "$(\"#a5086ddd3-a937-4282-8e79-88e701ba394b > .text > .main\").text(\"190/200 (95%) in 40.0 s, 0.20 s last iter; eta 2+-0 s\")"
       ],
       "metadata": {},
       "output_type": "display_data"
      },
      {
       "javascript": [
        "$(\"#a5086ddd3-a937-4282-8e79-88e701ba394b > .text > .extra\").text(\"|||| Perplexity: 452.359952221; Topics_left: 150\")"
       ],
       "metadata": {},
       "output_type": "display_data"
      },
      {
       "javascript": [
        "$(\"#a5086ddd3-a937-4282-8e79-88e701ba394b > .completed-part\").css(\"width\", \"95.500000%\")"
       ],
       "metadata": {},
       "output_type": "display_data"
      },
      {
       "javascript": [
        "$(\"#a5086ddd3-a937-4282-8e79-88e701ba394b > .running-part\").css(\"width\", \"0.500000%\")"
       ],
       "metadata": {},
       "output_type": "display_data"
      },
      {
       "javascript": [
        "$(\"#a5086ddd3-a937-4282-8e79-88e701ba394b > .text > .main\").text(\"191/200 (95%) in 40.2 s, 0.23 s last iter; eta 2+-0 s\")"
       ],
       "metadata": {},
       "output_type": "display_data"
      },
      {
       "javascript": [
        "$(\"#a5086ddd3-a937-4282-8e79-88e701ba394b > .text > .extra\").text(\"|||| Perplexity: 452.359009596; Topics_left: 150\")"
       ],
       "metadata": {},
       "output_type": "display_data"
      },
      {
       "javascript": [
        "$(\"#a5086ddd3-a937-4282-8e79-88e701ba394b > .completed-part\").css(\"width\", \"96.000000%\")"
       ],
       "metadata": {},
       "output_type": "display_data"
      },
      {
       "javascript": [
        "$(\"#a5086ddd3-a937-4282-8e79-88e701ba394b > .running-part\").css(\"width\", \"0.500000%\")"
       ],
       "metadata": {},
       "output_type": "display_data"
      },
      {
       "javascript": [
        "$(\"#a5086ddd3-a937-4282-8e79-88e701ba394b > .text > .main\").text(\"192/200 (96%) in 40.4 s, 0.21 s last iter; eta 2+-0 s\")"
       ],
       "metadata": {},
       "output_type": "display_data"
      },
      {
       "javascript": [
        "$(\"#a5086ddd3-a937-4282-8e79-88e701ba394b > .text > .extra\").text(\"|||| Perplexity: 452.358695388; Topics_left: 150\")"
       ],
       "metadata": {},
       "output_type": "display_data"
      },
      {
       "javascript": [
        "$(\"#a5086ddd3-a937-4282-8e79-88e701ba394b > .completed-part\").css(\"width\", \"96.500000%\")"
       ],
       "metadata": {},
       "output_type": "display_data"
      },
      {
       "javascript": [
        "$(\"#a5086ddd3-a937-4282-8e79-88e701ba394b > .running-part\").css(\"width\", \"0.500000%\")"
       ],
       "metadata": {},
       "output_type": "display_data"
      },
      {
       "javascript": [
        "$(\"#a5086ddd3-a937-4282-8e79-88e701ba394b > .text > .main\").text(\"193/200 (96%) in 40.6 s, 0.20 s last iter; eta 1+-0 s\")"
       ],
       "metadata": {},
       "output_type": "display_data"
      },
      {
       "javascript": [
        "$(\"#a5086ddd3-a937-4282-8e79-88e701ba394b > .text > .extra\").text(\"|||| Perplexity: 452.339529118; Topics_left: 150\")"
       ],
       "metadata": {},
       "output_type": "display_data"
      },
      {
       "javascript": [
        "$(\"#a5086ddd3-a937-4282-8e79-88e701ba394b > .completed-part\").css(\"width\", \"97.000000%\")"
       ],
       "metadata": {},
       "output_type": "display_data"
      },
      {
       "javascript": [
        "$(\"#a5086ddd3-a937-4282-8e79-88e701ba394b > .running-part\").css(\"width\", \"0.500000%\")"
       ],
       "metadata": {},
       "output_type": "display_data"
      },
      {
       "javascript": [
        "$(\"#a5086ddd3-a937-4282-8e79-88e701ba394b > .text > .main\").text(\"194/200 (97%) in 40.8 s, 0.21 s last iter; eta 1+-0 s\")"
       ],
       "metadata": {},
       "output_type": "display_data"
      },
      {
       "javascript": [
        "$(\"#a5086ddd3-a937-4282-8e79-88e701ba394b > .text > .extra\").text(\"|||| Perplexity: 452.330103381; Topics_left: 150\")"
       ],
       "metadata": {},
       "output_type": "display_data"
      },
      {
       "javascript": [
        "$(\"#a5086ddd3-a937-4282-8e79-88e701ba394b > .completed-part\").css(\"width\", \"97.500000%\")"
       ],
       "metadata": {},
       "output_type": "display_data"
      },
      {
       "javascript": [
        "$(\"#a5086ddd3-a937-4282-8e79-88e701ba394b > .running-part\").css(\"width\", \"0.500000%\")"
       ],
       "metadata": {},
       "output_type": "display_data"
      },
      {
       "javascript": [
        "$(\"#a5086ddd3-a937-4282-8e79-88e701ba394b > .text > .main\").text(\"195/200 (97%) in 41.0 s, 0.21 s last iter; eta 1+-0 s\")"
       ],
       "metadata": {},
       "output_type": "display_data"
      },
      {
       "javascript": [
        "$(\"#a5086ddd3-a937-4282-8e79-88e701ba394b > .text > .extra\").text(\"|||| Perplexity: 452.307168243; Topics_left: 150\")"
       ],
       "metadata": {},
       "output_type": "display_data"
      },
      {
       "javascript": [
        "$(\"#a5086ddd3-a937-4282-8e79-88e701ba394b > .completed-part\").css(\"width\", \"98.000000%\")"
       ],
       "metadata": {},
       "output_type": "display_data"
      },
      {
       "javascript": [
        "$(\"#a5086ddd3-a937-4282-8e79-88e701ba394b > .running-part\").css(\"width\", \"0.500000%\")"
       ],
       "metadata": {},
       "output_type": "display_data"
      },
      {
       "javascript": [
        "$(\"#a5086ddd3-a937-4282-8e79-88e701ba394b > .text > .main\").text(\"196/200 (98%) in 41.2 s, 0.21 s last iter; eta 1+-0 s\")"
       ],
       "metadata": {},
       "output_type": "display_data"
      },
      {
       "javascript": [
        "$(\"#a5086ddd3-a937-4282-8e79-88e701ba394b > .text > .extra\").text(\"|||| Perplexity: 452.299942344; Topics_left: 150\")"
       ],
       "metadata": {},
       "output_type": "display_data"
      },
      {
       "javascript": [
        "$(\"#a5086ddd3-a937-4282-8e79-88e701ba394b > .completed-part\").css(\"width\", \"98.500000%\")"
       ],
       "metadata": {},
       "output_type": "display_data"
      },
      {
       "javascript": [
        "$(\"#a5086ddd3-a937-4282-8e79-88e701ba394b > .running-part\").css(\"width\", \"0.500000%\")"
       ],
       "metadata": {},
       "output_type": "display_data"
      },
      {
       "javascript": [
        "$(\"#a5086ddd3-a937-4282-8e79-88e701ba394b > .text > .main\").text(\"197/200 (98%) in 41.5 s, 0.21 s last iter; eta 1+-0 s\")"
       ],
       "metadata": {},
       "output_type": "display_data"
      },
      {
       "javascript": [
        "$(\"#a5086ddd3-a937-4282-8e79-88e701ba394b > .text > .extra\").text(\"|||| Perplexity: 452.294287373; Topics_left: 150\")"
       ],
       "metadata": {},
       "output_type": "display_data"
      },
      {
       "javascript": [
        "$(\"#a5086ddd3-a937-4282-8e79-88e701ba394b > .completed-part\").css(\"width\", \"99.000000%\")"
       ],
       "metadata": {},
       "output_type": "display_data"
      },
      {
       "javascript": [
        "$(\"#a5086ddd3-a937-4282-8e79-88e701ba394b > .running-part\").css(\"width\", \"0.500000%\")"
       ],
       "metadata": {},
       "output_type": "display_data"
      },
      {
       "javascript": [
        "$(\"#a5086ddd3-a937-4282-8e79-88e701ba394b > .text > .main\").text(\"198/200 (99%) in 41.7 s, 0.21 s last iter; eta 0+-0 s\")"
       ],
       "metadata": {},
       "output_type": "display_data"
      },
      {
       "javascript": [
        "$(\"#a5086ddd3-a937-4282-8e79-88e701ba394b > .text > .extra\").text(\"|||| Perplexity: 452.286119207; Topics_left: 150\")"
       ],
       "metadata": {},
       "output_type": "display_data"
      },
      {
       "javascript": [
        "$(\"#a5086ddd3-a937-4282-8e79-88e701ba394b > .completed-part\").css(\"width\", \"99.500000%\")"
       ],
       "metadata": {},
       "output_type": "display_data"
      },
      {
       "javascript": [
        "$(\"#a5086ddd3-a937-4282-8e79-88e701ba394b > .running-part\").css(\"width\", \"0.500000%\")"
       ],
       "metadata": {},
       "output_type": "display_data"
      },
      {
       "javascript": [
        "$(\"#a5086ddd3-a937-4282-8e79-88e701ba394b > .text > .main\").text(\"199/200 (99%) in 41.9 s, 0.21 s last iter; eta 0+-0 s\")"
       ],
       "metadata": {},
       "output_type": "display_data"
      },
      {
       "javascript": [
        "$(\"#a5086ddd3-a937-4282-8e79-88e701ba394b > .text > .extra\").text(\"|||| Perplexity: 452.265385295; Topics_left: 150\")"
       ],
       "metadata": {},
       "output_type": "display_data"
      },
      {
       "javascript": [
        "$(\"#a5086ddd3-a937-4282-8e79-88e701ba394b > .completed-part\").css(\"width\", \"100.000000%\")"
       ],
       "metadata": {},
       "output_type": "display_data"
      },
      {
       "javascript": [
        "$(\"#a5086ddd3-a937-4282-8e79-88e701ba394b > .running-part\").css(\"width\", \"0.500000%\")"
       ],
       "metadata": {},
       "output_type": "display_data"
      },
      {
       "javascript": [
        "$(\"#a5086ddd3-a937-4282-8e79-88e701ba394b > .text > .main\").text(\"200/200 (100%) in 42.1 s, 0.21 s last iter; eta 0+-0 s\")"
       ],
       "metadata": {},
       "output_type": "display_data"
      }
     ],
     "prompt_number": 4
    },
    {
     "cell_type": "code",
     "collapsed": false,
     "input": [
      "with codecs.open('dictionary.txt', encoding='utf-8') as dictf:\n",
      "    assert nwd.shape[0] == int(dictf.readline().strip()[1:])\n",
      "    indwords = [line.strip().split(' ', 1) for line in dictf]\n",
      "    indwords[723] = ['723', '']\n",
      "    assert all(int(ind) == i for i, (ind, w) in enumerate(indwords))\n",
      "    words = [w.lower() for ind, w in indwords]"
     ],
     "language": "python",
     "metadata": {},
     "outputs": [],
     "prompt_number": 159
    },
    {
     "cell_type": "code",
     "collapsed": false,
     "input": [
      "with open('MMROlog.txt') as docsf:\n",
      "    lines = [line.strip() for line in docsf]\n",
      "    docs = []\n",
      "    i = 0\n",
      "    while i < len(lines):\n",
      "        assert int(lines[i]) == len(docs)\n",
      "        i += 1\n",
      "        doc = []\n",
      "        while i < len(lines) and ' ' in lines[i]:\n",
      "            doc.append(lines[i].split(' ', 1))\n",
      "            assert len(doc[-1]) == 2\n",
      "            i += 1\n",
      "        docs.append(np.array(doc))"
     ],
     "language": "python",
     "metadata": {},
     "outputs": [],
     "prompt_number": 21
    },
    {
     "cell_type": "code",
     "collapsed": false,
     "input": [
      "with h5py.File('data.hdf', mode='w') as f:\n",
      "    f.create_dataset('p_wt', data=em.phi)\n",
      "    f.create_dataset('p_td', data=em.theta)\n",
      "    f.create_dataset('p_wd', data=np.dot(em.phi, em.theta))\n",
      "    f.create_dataset('n_wd', data=em.nwd.A, dtype=np.int32)\n",
      "    f.create_dataset('dictionary', data=np.array(words, dtype=h5py.special_dtype(vlen=unicode)))\n",
      "    \n",
      "#     docs_group = f.create_group('documents')\n",
      "#     for i, doc in enumerate(docs):\n",
      "#         docs_group.create_dataset('%d' % i, data=doc, dtype=h5py.special_dtype(vlen=unicode))"
     ],
     "language": "python",
     "metadata": {},
     "outputs": [],
     "prompt_number": 161
    },
    {
     "cell_type": "code",
     "collapsed": false,
     "input": [
      "WordTuple = namedtuple('WordTuple', ['w', 'word', 'n', 'topics'])\n",
      "TopicTuple = namedtuple('TopicTuple', ['t', 'p'])\n",
      "\n",
      "with h5py.File('data.hdf', mode='r') as f:\n",
      "    nw = f['n_wd'][...].sum(1)\n",
      "    indices = nw.argsort()[:-21:-1]\n",
      "    nws = nw[indices]\n",
      "    \n",
      "    words = f['dictionary'][...][indices]\n",
      "    \n",
      "    pts = f['p_wt'][...][indices,:]\n",
      "    \n",
      "    topics = []\n",
      "    for w_pts in pts:\n",
      "        w_topics = w_pts.argsort()[:-4:-1]\n",
      "        topics.append(list( starmap(TopicTuple, zip(w_topics, w_pts[w_topics])) ))\n",
      "    \n",
      "    pprint(list( starmap(WordTuple, zip(indices, words, nws, topics)) ))"
     ],
     "language": "python",
     "metadata": {},
     "outputs": [
      {
       "output_type": "stream",
       "stream": "stdout",
       "text": [
        "[WordTuple(w=0, word=u'\\u0437\\u0430\\u0434\\u0430\\u0447\\u0430', n=9224, topics=[TopicTuple(t=2, p=0.11226777), TopicTuple(t=109, p=0.10203245), TopicTuple(t=98, p=0.080562279)]),\n",
        " WordTuple(w=1, word=u'\\u0430\\u043b\\u0433\\u043e\\u0440\\u0438\\u0442\\u043c', n=7582, topics=[TopicTuple(t=134, p=0.3779262), TopicTuple(t=118, p=0.048274487), TopicTuple(t=31, p=0.043977734)]),\n",
        " WordTuple(w=2, word=u'\\u043e\\u0431\\u044a\\u0435\\u043a\\u0442', n=7046, topics=[TopicTuple(t=43, p=0.49578968), TopicTuple(t=90, p=0.043963779), TopicTuple(t=19, p=0.028394142)]),\n",
        " WordTuple(w=3, word=u'\\u0434\\u0430\\u0442\\u044c', n=6625, topics=[TopicTuple(t=75, p=0.040421255), TopicTuple(t=66, p=0.031105613), TopicTuple(t=149, p=0.025639353)]),\n",
        " WordTuple(w=4, word=u'\\u043c\\u0435\\u0442\\u043e\\u0434', n=5697, topics=[TopicTuple(t=129, p=0.023081956), TopicTuple(t=115, p=0.022519223), TopicTuple(t=116, p=0.022075636)]),\n",
        " WordTuple(w=5, word=u'\\u0438\\u0437\\u043e\\u0431\\u0440\\u0430\\u0436\\u0435\\u043d\\u0438\\u0435', n=5155, topics=[TopicTuple(t=86, p=0.32907423), TopicTuple(t=82, p=0.036846127), TopicTuple(t=147, p=0.033308718)]),\n",
        " WordTuple(w=6, word=u'\\u0437\\u043d\\u0430\\u0447\\u0435\\u043d\\u0438\\u0435', n=4897, topics=[TopicTuple(t=30, p=0.031043787), TopicTuple(t=19, p=0.031006157), TopicTuple(t=53, p=0.030792044)]),\n",
        " WordTuple(w=7, word=u'\\u0444\\u0443\\u043d\\u043a\\u0446\\u0438\\u044f', n=4854, topics=[TopicTuple(t=133, p=0.24157213), TopicTuple(t=115, p=0.041777086), TopicTuple(t=148, p=0.040809244)]),\n",
        " WordTuple(w=8, word=u'\\u043c\\u043d\\u043e\\u0436\\u0435\\u0441\\u0442\\u0432\\u043e', n=4731, topics=[TopicTuple(t=23, p=0.080276079), TopicTuple(t=109, p=0.04270003), TopicTuple(t=59, p=0.03238149)]),\n",
        " WordTuple(w=9, word=u'\\u044f\\u0432\\u043b\\u044f\\u0442\\u044c\\u0441\\u044f', n=4505, topics=[TopicTuple(t=133, p=0.016742209), TopicTuple(t=23, p=0.01496375), TopicTuple(t=119, p=0.013720175)]),\n",
        " WordTuple(w=10, word=u'\\u0440\\u0435\\u0448\\u0435\\u043d\\u0438\\u0435', n=4176, topics=[TopicTuple(t=2, p=0.061663713), TopicTuple(t=123, p=0.029024165), TopicTuple(t=113, p=0.027301518)]),\n",
        " WordTuple(w=11, word=u'\\u043c\\u043e\\u0434\\u0435\\u043b\\u044c', n=4107, topics=[TopicTuple(t=143, p=0.04527425), TopicTuple(t=53, p=0.042369556), TopicTuple(t=65, p=0.032952808)]),\n",
        " WordTuple(w=12, word=u'\\u0440\\u0430\\u0431\\u043e\\u0442\\u0430', n=3710, topics=[TopicTuple(t=134, p=0.04051758), TopicTuple(t=75, p=0.023347234), TopicTuple(t=20, p=0.018121034)]),\n",
        " WordTuple(w=14, word=u'\\u043e\\u0446\\u0435\\u043d\\u043a\\u0430', n=3683, topics=[TopicTuple(t=130, p=0.044434987), TopicTuple(t=3, p=0.03983048), TopicTuple(t=105, p=0.039565202)]),\n",
        " WordTuple(w=13, word=u'\\u043f\\u0440\\u0438\\u0437\\u043d\\u0430\\u043a', n=3660, topics=[TopicTuple(t=19, p=0.17405541), TopicTuple(t=96, p=0.038712088), TopicTuple(t=116, p=0.034474913)]),\n",
        " WordTuple(w=15, word=u'\\u0447\\u0438\\u0441\\u043b\\u043e', n=3563, topics=[TopicTuple(t=141, p=0.029219653), TopicTuple(t=133, p=0.022444783), TopicTuple(t=135, p=0.02208161)]),\n",
        " WordTuple(w=18, word=u'\\u0441\\u0438\\u0441\\u0442\\u0435\\u043c\\u0430', n=3538, topics=[TopicTuple(t=112, p=0.068245165), TopicTuple(t=55, p=0.029335752), TopicTuple(t=31, p=0.028842481)]),\n",
        " WordTuple(w=17, word=u'\\u0442\\u043e\\u0447\\u043a\\u0430', n=3537, topics=[TopicTuple(t=147, p=0.079825528), TopicTuple(t=139, p=0.035828378), TopicTuple(t=105, p=0.035242595)]),\n",
        " WordTuple(w=16, word=u'\\u043a\\u043b\\u0430\\u0441\\u0441', n=3513, topics=[TopicTuple(t=52, p=0.050654691), TopicTuple(t=7, p=0.041403741), TopicTuple(t=67, p=0.038812485)]),\n",
        " WordTuple(w=19, word=u'\\u0440\\u0435\\u0437\\u0443\\u043b\\u044c\\u0442\\u0430\\u0442', n=3264, topics=[TopicTuple(t=134, p=0.0150441), TopicTuple(t=86, p=0.0126608), TopicTuple(t=20, p=0.012192491)])]\n"
       ]
      }
     ],
     "prompt_number": 162
    },
    {
     "cell_type": "code",
     "collapsed": false,
     "input": [
      "w = 3\n",
      "\n",
      "WordTuple = namedtuple('WordTuple', ['w', 'word', 'n', 'topics', 'documents'])\n",
      "TopicTuple = namedtuple('TopicTuple', ['t', 'p'])\n",
      "DocumentTuple = namedtuple('DocumentTuple', ['d', 'n'])\n",
      "\n",
      "with h5py.File('data.hdf', mode='r') as h5f:\n",
      "    nw = h5f['n_wd'][...].sum(1)[w]\n",
      "    word = h5f['dictionary'][...][w]\n",
      "    \n",
      "    pts = h5f['p_wt'][...][w,:]    \n",
      "    topics = pts.argsort()[:-5:-1]\n",
      "    topics = list( starmap(TopicTuple, zip(topics, pts[topics])) )\n",
      "    \n",
      "    nds = h5f['n_wd'][...][w,:]\n",
      "    docs = nds.argsort()[:-5:-1]\n",
      "    docs = list( starmap(DocumentTuple, zip(docs, nds[docs])) )\n",
      "    \n",
      "    print WordTuple(w, word, nw, topics, docs)"
     ],
     "language": "python",
     "metadata": {},
     "outputs": [
      {
       "output_type": "stream",
       "stream": "stdout",
       "text": [
        "WordTuple(w=3, word=u'\\u0434\\u0430\\u0442\\u044c', n=6625, topics=[TopicTuple(t=75, p=0.040421255), TopicTuple(t=66, p=0.031105613), TopicTuple(t=149, p=0.025639353), TopicTuple(t=67, p=0.023321141)], documents=[DocumentTuple(d=487, n=54.0), DocumentTuple(d=838, n=48.0), DocumentTuple(d=583, n=38.0), DocumentTuple(d=168, n=37.0)])\n"
       ]
      }
     ],
     "prompt_number": 156
    },
    {
     "cell_type": "code",
     "collapsed": false,
     "input": [
      "!ls -lh"
     ],
     "language": "python",
     "metadata": {},
     "outputs": [
      {
       "output_type": "stream",
       "stream": "stdout",
       "text": [
        "total 244M\r\n",
        "-rw-r--r-- 1 alexander alexander 185M Sep  9 16:11 data.hdf\r\n",
        "-rw-r--r-- 1 alexander alexander 187K Sep  9 16:14 DataPreparation.ipynb\r\n",
        "-rw-r--r-- 1 alexander alexander 309K Sep  9 15:09 dictionary.txt\r\n",
        "-rw-r--r-- 1 alexander alexander 566K Sep  9 15:08 fulldict.txt\r\n",
        "-rw-r--r-- 1 alexander alexander  26M Sep  9 15:39 MMROlog.txt\r\n",
        "-rw-r--r-- 1 alexander alexander 3.0M Sep  5 08:22 MMRO.txt\r\n",
        "-rw-r--r-- 1 alexander alexander  30M Sep  9 15:39 MMROwithOrder.txt\r\n",
        "drwxr-xr-x 4 alexander alexander 4.0K Sep  9 17:01 web\r\n"
       ]
      }
     ],
     "prompt_number": 29
    }
   ],
   "metadata": {}
  }
 ]
}