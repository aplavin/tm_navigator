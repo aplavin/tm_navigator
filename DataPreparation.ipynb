{
 "metadata": {
  "name": "",
  "signature": "sha256:3b792fbc971ea7d07d8c8b809ce74fd04b47f5c3b834a9ae39c1ee3035f31a9f"
 },
 "nbformat": 3,
 "nbformat_minor": 0,
 "worksheets": [
  {
   "cells": [
    {
     "cell_type": "code",
     "collapsed": false,
     "input": [
      "import codecs\n",
      "import numpy as np\n",
      "import scipy.sparse\n",
      "from scipy.ndimage.filters import convolve1d\n",
      "import sys\n",
      "import comp_exp\n",
      "import py_artm\n",
      "import h5py\n",
      "sys.path.append('/home/alexander/strijov/MLAlgorithms/Group174/Plavin2014TopicsNumberOptimization/code')\n",
      "from utils import *\n",
      "from ggplot_utils import *\n",
      "from IPython.display import display\n",
      "from functools import partial\n",
      "from itertools import count, groupby\n",
      "from ipy_progressbar import ProgressBar\n",
      "from itertools import starmap\n",
      "import codecs\n",
      "from pprint import pprint\n",
      "from recordtype import recordtype\n",
      "import re\n",
      "from glob import glob\n",
      "\n",
      "from rpy2.robjects import pandas2ri\n",
      "pandas2ri.activate()\n",
      "import rpy2.robjects as robj\n",
      "from rpy2.robjects.lib import ggplot2 as gg\n",
      "from rpy2.ipython.ggplot import ggplot as iggplot\n",
      "from rpy2.robjects.packages import importr\n",
      "rbase = importr('base')\n",
      "\n",
      "%matplotlib inline\n",
      "%load_ext rpy2.ipython.rmagic\n",
      "\n",
      "from ggplot_utils import *\n",
      "MyGGPlot.latex_enabled = False"
     ],
     "language": "python",
     "metadata": {},
     "outputs": [
      {
       "output_type": "stream",
       "stream": "stderr",
       "text": [
        "/usr/lib/python2.7/distutils/dist.py:267: UserWarning: Unknown distribution option: 'library_dirs'\n",
        "  warnings.warn(msg)\n"
       ]
      }
     ],
     "prompt_number": 1
    },
    {
     "cell_type": "code",
     "collapsed": false,
     "input": [
      "ds = []\n",
      "ws = []\n",
      "cnts = []\n",
      "\n",
      "with open('MMRO_new.txt') as nwdf:\n",
      "    D = int(nwdf.readline())\n",
      "    W = int(nwdf.readline())\n",
      "    \n",
      "    for line in nwdf:\n",
      "        d, w, cnt = map(int, line.split())\n",
      "        ds.append(d)\n",
      "        ws.append(w)\n",
      "        cnts.append(cnt)\n",
      "        \n",
      "nwd = scipy.sparse.coo_matrix((cnts, (ws, ds))).astype(np.float32)"
     ],
     "language": "python",
     "metadata": {},
     "outputs": [],
     "prompt_number": 2
    },
    {
     "cell_type": "code",
     "collapsed": false,
     "input": [
      "nwd.shape, sum(nwd.sum(1).A1 == 0), sum(nwd.sum(0).A1 == 0), 13031-668"
     ],
     "language": "python",
     "metadata": {},
     "outputs": [
      {
       "metadata": {},
       "output_type": "pyout",
       "prompt_number": 3,
       "text": [
        "((12363, 1009), 0, 0, 12363)"
       ]
      }
     ],
     "prompt_number": 3
    },
    {
     "cell_type": "code",
     "collapsed": false,
     "input": [
      "with open('MMRO_new.txt', 'w') as nwdf:\n",
      "    new_nwd = nwd.tocsr()[np.nonzero(nwd.sum(1).A1)[0], :].tocoo()\n",
      "    \n",
      "    nwdf.write(str(new_nwd.shape[1]) + '\\n')\n",
      "    nwdf.write(str(new_nwd.shape[0]) + '\\n')\n",
      "    \n",
      "    for w, d, cnt in zip(new_nwd.row, new_nwd.col, new_nwd.data):\n",
      "        nwdf.write('%d %d %d' % (d, w, cnt) + '\\n')"
     ],
     "language": "python",
     "metadata": {},
     "outputs": [],
     "prompt_number": 4
    },
    {
     "cell_type": "code",
     "collapsed": false,
     "input": [
      "tau = 0.2\n",
      "t_init = 150\n",
      "\n",
      "em = py_artm.plsa.PlsaEmRational(nwd,\n",
      "                                 t_init,\n",
      "                                 [py_artm.quantities.Perplexity(), py_artm.quantities.TopicsLeft(),\n",
      "                                  py_artm.stop_conditions.ValueBounds('topics_left', lo=2)])\n",
      "em.iterate(200, quiet=1)"
     ],
     "language": "python",
     "metadata": {},
     "outputs": [
      {
       "javascript": [
        "$(\"[data-key='plsa_em']\").parent().parent().remove()"
       ],
       "metadata": {},
       "output_type": "display_data"
      },
      {
       "html": [
        "\n",
        "            <style>\n",
        "                .progress {\n",
        "                    position: relative;\n",
        "                }\n",
        "\n",
        "                .progress > .text {\n",
        "                    position: absolute;\n",
        "                    left: 0;\n",
        "                    width: 100%;\n",
        "                    text-align: center;\n",
        "                }\n",
        "\n",
        "                .progress .bar {\n",
        "                    transition-property: none;\n",
        "                }\n",
        "            </style>\n",
        "\n",
        "            <h3>PLSA EM:</h3>\n",
        "            <div class=\"progress\" id=\"a3a76631b-2335-4bd4-9ee9-2909e660d00d\" data-key=plsa_em>\n",
        "                <div class=\"bar bar-success completed-part\" style=\"width: 0%;\"></div>\n",
        "                <div class=\"bar bar-warning running-part\" style=\"width: 100%;\"></div>\n",
        "                <div class=\"text\">\n",
        "                    <span class=\"main\">Starting...</span>\n",
        "                    <span class=\"extra\"></span>\n",
        "                </div>\n",
        "            </div>\n",
        "            "
       ],
       "metadata": {},
       "output_type": "display_data"
      },
      {
       "javascript": [
        "$(\"#a3a76631b-2335-4bd4-9ee9-2909e660d00d > .completed-part\").css(\"width\", \"0.000000%\")"
       ],
       "metadata": {},
       "output_type": "display_data"
      },
      {
       "javascript": [
        "$(\"#a3a76631b-2335-4bd4-9ee9-2909e660d00d > .running-part\").css(\"width\", \"0.500000%\")"
       ],
       "metadata": {},
       "output_type": "display_data"
      },
      {
       "javascript": [
        "$(\"#a3a76631b-2335-4bd4-9ee9-2909e660d00d > .text > .main\").text(\"0/200 (0%) in 0.0 s, nan s last iter; eta nan+-nan s\")"
       ],
       "metadata": {},
       "output_type": "display_data"
      },
      {
       "javascript": [
        "$(\"#a3a76631b-2335-4bd4-9ee9-2909e660d00d > .text > .extra\").text(\"|||| Perplexity: 1759.57082904; Topics_left: 150\")"
       ],
       "metadata": {},
       "output_type": "display_data"
      },
      {
       "javascript": [
        "$(\"#a3a76631b-2335-4bd4-9ee9-2909e660d00d > .completed-part\").css(\"width\", \"0.500000%\")"
       ],
       "metadata": {},
       "output_type": "display_data"
      },
      {
       "javascript": [
        "$(\"#a3a76631b-2335-4bd4-9ee9-2909e660d00d > .running-part\").css(\"width\", \"0.500000%\")"
       ],
       "metadata": {},
       "output_type": "display_data"
      },
      {
       "javascript": [
        "$(\"#a3a76631b-2335-4bd4-9ee9-2909e660d00d > .text > .main\").text(\"1/200 (0%) in 0.6 s, 0.63 s last iter; eta 125+-0 s\")"
       ],
       "metadata": {},
       "output_type": "display_data"
      },
      {
       "javascript": [
        "$(\"#a3a76631b-2335-4bd4-9ee9-2909e660d00d > .text > .extra\").text(\"|||| Perplexity: 1723.65185228; Topics_left: 150\")"
       ],
       "metadata": {},
       "output_type": "display_data"
      },
      {
       "javascript": [
        "$(\"#a3a76631b-2335-4bd4-9ee9-2909e660d00d > .completed-part\").css(\"width\", \"1.000000%\")"
       ],
       "metadata": {},
       "output_type": "display_data"
      },
      {
       "javascript": [
        "$(\"#a3a76631b-2335-4bd4-9ee9-2909e660d00d > .running-part\").css(\"width\", \"0.500000%\")"
       ],
       "metadata": {},
       "output_type": "display_data"
      },
      {
       "javascript": [
        "$(\"#a3a76631b-2335-4bd4-9ee9-2909e660d00d > .text > .main\").text(\"2/200 (1%) in 0.8 s, 0.20 s last iter; eta 82+-42 s\")"
       ],
       "metadata": {},
       "output_type": "display_data"
      },
      {
       "javascript": [
        "$(\"#a3a76631b-2335-4bd4-9ee9-2909e660d00d > .text > .extra\").text(\"|||| Perplexity: 1681.83521262; Topics_left: 150\")"
       ],
       "metadata": {},
       "output_type": "display_data"
      },
      {
       "javascript": [
        "$(\"#a3a76631b-2335-4bd4-9ee9-2909e660d00d > .completed-part\").css(\"width\", \"1.500000%\")"
       ],
       "metadata": {},
       "output_type": "display_data"
      },
      {
       "javascript": [
        "$(\"#a3a76631b-2335-4bd4-9ee9-2909e660d00d > .running-part\").css(\"width\", \"0.500000%\")"
       ],
       "metadata": {},
       "output_type": "display_data"
      },
      {
       "javascript": [
        "$(\"#a3a76631b-2335-4bd4-9ee9-2909e660d00d > .text > .main\").text(\"3/200 (1%) in 1.0 s, 0.20 s last iter; eta 67+-40 s\")"
       ],
       "metadata": {},
       "output_type": "display_data"
      },
      {
       "javascript": [
        "$(\"#a3a76631b-2335-4bd4-9ee9-2909e660d00d > .text > .extra\").text(\"|||| Perplexity: 1613.18926685; Topics_left: 150\")"
       ],
       "metadata": {},
       "output_type": "display_data"
      },
      {
       "javascript": [
        "$(\"#a3a76631b-2335-4bd4-9ee9-2909e660d00d > .completed-part\").css(\"width\", \"2.000000%\")"
       ],
       "metadata": {},
       "output_type": "display_data"
      },
      {
       "javascript": [
        "$(\"#a3a76631b-2335-4bd4-9ee9-2909e660d00d > .running-part\").css(\"width\", \"0.500000%\")"
       ],
       "metadata": {},
       "output_type": "display_data"
      },
      {
       "javascript": [
        "$(\"#a3a76631b-2335-4bd4-9ee9-2909e660d00d > .text > .main\").text(\"4/200 (2%) in 1.2 s, 0.20 s last iter; eta 60+-36 s\")"
       ],
       "metadata": {},
       "output_type": "display_data"
      },
      {
       "javascript": [
        "$(\"#a3a76631b-2335-4bd4-9ee9-2909e660d00d > .text > .extra\").text(\"|||| Perplexity: 1499.6956644; Topics_left: 150\")"
       ],
       "metadata": {},
       "output_type": "display_data"
      },
      {
       "javascript": [
        "$(\"#a3a76631b-2335-4bd4-9ee9-2909e660d00d > .completed-part\").css(\"width\", \"2.500000%\")"
       ],
       "metadata": {},
       "output_type": "display_data"
      },
      {
       "javascript": [
        "$(\"#a3a76631b-2335-4bd4-9ee9-2909e660d00d > .running-part\").css(\"width\", \"0.500000%\")"
       ],
       "metadata": {},
       "output_type": "display_data"
      },
      {
       "javascript": [
        "$(\"#a3a76631b-2335-4bd4-9ee9-2909e660d00d > .text > .main\").text(\"5/200 (2%) in 1.4 s, 0.20 s last iter; eta 55+-33 s\")"
       ],
       "metadata": {},
       "output_type": "display_data"
      },
      {
       "javascript": [
        "$(\"#a3a76631b-2335-4bd4-9ee9-2909e660d00d > .text > .extra\").text(\"|||| Perplexity: 1346.99265464; Topics_left: 150\")"
       ],
       "metadata": {},
       "output_type": "display_data"
      },
      {
       "javascript": [
        "$(\"#a3a76631b-2335-4bd4-9ee9-2909e660d00d > .completed-part\").css(\"width\", \"3.000000%\")"
       ],
       "metadata": {},
       "output_type": "display_data"
      },
      {
       "javascript": [
        "$(\"#a3a76631b-2335-4bd4-9ee9-2909e660d00d > .running-part\").css(\"width\", \"0.500000%\")"
       ],
       "metadata": {},
       "output_type": "display_data"
      },
      {
       "javascript": [
        "$(\"#a3a76631b-2335-4bd4-9ee9-2909e660d00d > .text > .main\").text(\"6/200 (3%) in 1.6 s, 0.20 s last iter; eta 52+-31 s\")"
       ],
       "metadata": {},
       "output_type": "display_data"
      },
      {
       "javascript": [
        "$(\"#a3a76631b-2335-4bd4-9ee9-2909e660d00d > .text > .extra\").text(\"|||| Perplexity: 1187.06085771; Topics_left: 150\")"
       ],
       "metadata": {},
       "output_type": "display_data"
      },
      {
       "javascript": [
        "$(\"#a3a76631b-2335-4bd4-9ee9-2909e660d00d > .completed-part\").css(\"width\", \"3.500000%\")"
       ],
       "metadata": {},
       "output_type": "display_data"
      },
      {
       "javascript": [
        "$(\"#a3a76631b-2335-4bd4-9ee9-2909e660d00d > .running-part\").css(\"width\", \"0.500000%\")"
       ],
       "metadata": {},
       "output_type": "display_data"
      },
      {
       "javascript": [
        "$(\"#a3a76631b-2335-4bd4-9ee9-2909e660d00d > .text > .main\").text(\"7/200 (3%) in 1.8 s, 0.20 s last iter; eta 50+-29 s\")"
       ],
       "metadata": {},
       "output_type": "display_data"
      },
      {
       "javascript": [
        "$(\"#a3a76631b-2335-4bd4-9ee9-2909e660d00d > .text > .extra\").text(\"|||| Perplexity: 1039.70502336; Topics_left: 150\")"
       ],
       "metadata": {},
       "output_type": "display_data"
      },
      {
       "javascript": [
        "$(\"#a3a76631b-2335-4bd4-9ee9-2909e660d00d > .completed-part\").css(\"width\", \"4.000000%\")"
       ],
       "metadata": {},
       "output_type": "display_data"
      },
      {
       "javascript": [
        "$(\"#a3a76631b-2335-4bd4-9ee9-2909e660d00d > .running-part\").css(\"width\", \"0.500000%\")"
       ],
       "metadata": {},
       "output_type": "display_data"
      },
      {
       "javascript": [
        "$(\"#a3a76631b-2335-4bd4-9ee9-2909e660d00d > .text > .main\").text(\"8/200 (4%) in 2.0 s, 0.20 s last iter; eta 48+-27 s\")"
       ],
       "metadata": {},
       "output_type": "display_data"
      },
      {
       "javascript": [
        "$(\"#a3a76631b-2335-4bd4-9ee9-2909e660d00d > .text > .extra\").text(\"|||| Perplexity: 915.156615952; Topics_left: 150\")"
       ],
       "metadata": {},
       "output_type": "display_data"
      },
      {
       "javascript": [
        "$(\"#a3a76631b-2335-4bd4-9ee9-2909e660d00d > .completed-part\").css(\"width\", \"4.500000%\")"
       ],
       "metadata": {},
       "output_type": "display_data"
      },
      {
       "javascript": [
        "$(\"#a3a76631b-2335-4bd4-9ee9-2909e660d00d > .running-part\").css(\"width\", \"0.500000%\")"
       ],
       "metadata": {},
       "output_type": "display_data"
      },
      {
       "javascript": [
        "$(\"#a3a76631b-2335-4bd4-9ee9-2909e660d00d > .text > .main\").text(\"9/200 (4%) in 2.2 s, 0.21 s last iter; eta 47+-26 s\")"
       ],
       "metadata": {},
       "output_type": "display_data"
      },
      {
       "javascript": [
        "$(\"#a3a76631b-2335-4bd4-9ee9-2909e660d00d > .text > .extra\").text(\"|||| Perplexity: 817.142739993; Topics_left: 150\")"
       ],
       "metadata": {},
       "output_type": "display_data"
      },
      {
       "javascript": [
        "$(\"#a3a76631b-2335-4bd4-9ee9-2909e660d00d > .completed-part\").css(\"width\", \"5.000000%\")"
       ],
       "metadata": {},
       "output_type": "display_data"
      },
      {
       "javascript": [
        "$(\"#a3a76631b-2335-4bd4-9ee9-2909e660d00d > .running-part\").css(\"width\", \"0.500000%\")"
       ],
       "metadata": {},
       "output_type": "display_data"
      },
      {
       "javascript": [
        "$(\"#a3a76631b-2335-4bd4-9ee9-2909e660d00d > .text > .main\").text(\"10/200 (5%) in 2.4 s, 0.20 s last iter; eta 46+-24 s\")"
       ],
       "metadata": {},
       "output_type": "display_data"
      },
      {
       "javascript": [
        "$(\"#a3a76631b-2335-4bd4-9ee9-2909e660d00d > .text > .extra\").text(\"|||| Perplexity: 743.392390702; Topics_left: 150\")"
       ],
       "metadata": {},
       "output_type": "display_data"
      },
      {
       "javascript": [
        "$(\"#a3a76631b-2335-4bd4-9ee9-2909e660d00d > .completed-part\").css(\"width\", \"5.500000%\")"
       ],
       "metadata": {},
       "output_type": "display_data"
      },
      {
       "javascript": [
        "$(\"#a3a76631b-2335-4bd4-9ee9-2909e660d00d > .running-part\").css(\"width\", \"0.500000%\")"
       ],
       "metadata": {},
       "output_type": "display_data"
      },
      {
       "javascript": [
        "$(\"#a3a76631b-2335-4bd4-9ee9-2909e660d00d > .text > .main\").text(\"11/200 (5%) in 2.6 s, 0.20 s last iter; eta 45+-23 s\")"
       ],
       "metadata": {},
       "output_type": "display_data"
      },
      {
       "javascript": [
        "$(\"#a3a76631b-2335-4bd4-9ee9-2909e660d00d > .text > .extra\").text(\"|||| Perplexity: 688.856368153; Topics_left: 150\")"
       ],
       "metadata": {},
       "output_type": "display_data"
      },
      {
       "javascript": [
        "$(\"#a3a76631b-2335-4bd4-9ee9-2909e660d00d > .completed-part\").css(\"width\", \"6.000000%\")"
       ],
       "metadata": {},
       "output_type": "display_data"
      },
      {
       "javascript": [
        "$(\"#a3a76631b-2335-4bd4-9ee9-2909e660d00d > .running-part\").css(\"width\", \"0.500000%\")"
       ],
       "metadata": {},
       "output_type": "display_data"
      },
      {
       "javascript": [
        "$(\"#a3a76631b-2335-4bd4-9ee9-2909e660d00d > .text > .main\").text(\"12/200 (6%) in 2.8 s, 0.20 s last iter; eta 44+-22 s\")"
       ],
       "metadata": {},
       "output_type": "display_data"
      },
      {
       "javascript": [
        "$(\"#a3a76631b-2335-4bd4-9ee9-2909e660d00d > .text > .extra\").text(\"|||| Perplexity: 648.143616848; Topics_left: 150\")"
       ],
       "metadata": {},
       "output_type": "display_data"
      },
      {
       "javascript": [
        "$(\"#a3a76631b-2335-4bd4-9ee9-2909e660d00d > .completed-part\").css(\"width\", \"6.500000%\")"
       ],
       "metadata": {},
       "output_type": "display_data"
      },
      {
       "javascript": [
        "$(\"#a3a76631b-2335-4bd4-9ee9-2909e660d00d > .running-part\").css(\"width\", \"0.500000%\")"
       ],
       "metadata": {},
       "output_type": "display_data"
      },
      {
       "javascript": [
        "$(\"#a3a76631b-2335-4bd4-9ee9-2909e660d00d > .text > .main\").text(\"13/200 (6%) in 3.0 s, 0.20 s last iter; eta 43+-21 s\")"
       ],
       "metadata": {},
       "output_type": "display_data"
      },
      {
       "javascript": [
        "$(\"#a3a76631b-2335-4bd4-9ee9-2909e660d00d > .text > .extra\").text(\"|||| Perplexity: 617.320464655; Topics_left: 150\")"
       ],
       "metadata": {},
       "output_type": "display_data"
      },
      {
       "javascript": [
        "$(\"#a3a76631b-2335-4bd4-9ee9-2909e660d00d > .completed-part\").css(\"width\", \"7.000000%\")"
       ],
       "metadata": {},
       "output_type": "display_data"
      },
      {
       "javascript": [
        "$(\"#a3a76631b-2335-4bd4-9ee9-2909e660d00d > .running-part\").css(\"width\", \"0.500000%\")"
       ],
       "metadata": {},
       "output_type": "display_data"
      },
      {
       "javascript": [
        "$(\"#a3a76631b-2335-4bd4-9ee9-2909e660d00d > .text > .main\").text(\"14/200 (7%) in 3.2 s, 0.20 s last iter; eta 43+-21 s\")"
       ],
       "metadata": {},
       "output_type": "display_data"
      },
      {
       "javascript": [
        "$(\"#a3a76631b-2335-4bd4-9ee9-2909e660d00d > .text > .extra\").text(\"|||| Perplexity: 593.341283918; Topics_left: 150\")"
       ],
       "metadata": {},
       "output_type": "display_data"
      },
      {
       "javascript": [
        "$(\"#a3a76631b-2335-4bd4-9ee9-2909e660d00d > .completed-part\").css(\"width\", \"7.500000%\")"
       ],
       "metadata": {},
       "output_type": "display_data"
      },
      {
       "javascript": [
        "$(\"#a3a76631b-2335-4bd4-9ee9-2909e660d00d > .running-part\").css(\"width\", \"0.500000%\")"
       ],
       "metadata": {},
       "output_type": "display_data"
      },
      {
       "javascript": [
        "$(\"#a3a76631b-2335-4bd4-9ee9-2909e660d00d > .text > .main\").text(\"15/200 (7%) in 3.4 s, 0.20 s last iter; eta 42+-20 s\")"
       ],
       "metadata": {},
       "output_type": "display_data"
      },
      {
       "javascript": [
        "$(\"#a3a76631b-2335-4bd4-9ee9-2909e660d00d > .text > .extra\").text(\"|||| Perplexity: 574.400238903; Topics_left: 150\")"
       ],
       "metadata": {},
       "output_type": "display_data"
      },
      {
       "javascript": [
        "$(\"#a3a76631b-2335-4bd4-9ee9-2909e660d00d > .completed-part\").css(\"width\", \"8.000000%\")"
       ],
       "metadata": {},
       "output_type": "display_data"
      },
      {
       "javascript": [
        "$(\"#a3a76631b-2335-4bd4-9ee9-2909e660d00d > .running-part\").css(\"width\", \"0.500000%\")"
       ],
       "metadata": {},
       "output_type": "display_data"
      },
      {
       "javascript": [
        "$(\"#a3a76631b-2335-4bd4-9ee9-2909e660d00d > .text > .main\").text(\"16/200 (8%) in 3.6 s, 0.20 s last iter; eta 42+-19 s\")"
       ],
       "metadata": {},
       "output_type": "display_data"
      },
      {
       "javascript": [
        "$(\"#a3a76631b-2335-4bd4-9ee9-2909e660d00d > .text > .extra\").text(\"|||| Perplexity: 559.062954136; Topics_left: 150\")"
       ],
       "metadata": {},
       "output_type": "display_data"
      },
      {
       "javascript": [
        "$(\"#a3a76631b-2335-4bd4-9ee9-2909e660d00d > .completed-part\").css(\"width\", \"8.500000%\")"
       ],
       "metadata": {},
       "output_type": "display_data"
      },
      {
       "javascript": [
        "$(\"#a3a76631b-2335-4bd4-9ee9-2909e660d00d > .running-part\").css(\"width\", \"0.500000%\")"
       ],
       "metadata": {},
       "output_type": "display_data"
      },
      {
       "javascript": [
        "$(\"#a3a76631b-2335-4bd4-9ee9-2909e660d00d > .text > .main\").text(\"17/200 (8%) in 3.8 s, 0.20 s last iter; eta 41+-18 s\")"
       ],
       "metadata": {},
       "output_type": "display_data"
      },
      {
       "javascript": [
        "$(\"#a3a76631b-2335-4bd4-9ee9-2909e660d00d > .text > .extra\").text(\"|||| Perplexity: 546.454726438; Topics_left: 150\")"
       ],
       "metadata": {},
       "output_type": "display_data"
      },
      {
       "javascript": [
        "$(\"#a3a76631b-2335-4bd4-9ee9-2909e660d00d > .completed-part\").css(\"width\", \"9.000000%\")"
       ],
       "metadata": {},
       "output_type": "display_data"
      },
      {
       "javascript": [
        "$(\"#a3a76631b-2335-4bd4-9ee9-2909e660d00d > .running-part\").css(\"width\", \"0.500000%\")"
       ],
       "metadata": {},
       "output_type": "display_data"
      },
      {
       "javascript": [
        "$(\"#a3a76631b-2335-4bd4-9ee9-2909e660d00d > .text > .main\").text(\"18/200 (9%) in 4.0 s, 0.20 s last iter; eta 41+-18 s\")"
       ],
       "metadata": {},
       "output_type": "display_data"
      },
      {
       "javascript": [
        "$(\"#a3a76631b-2335-4bd4-9ee9-2909e660d00d > .text > .extra\").text(\"|||| Perplexity: 536.134691161; Topics_left: 150\")"
       ],
       "metadata": {},
       "output_type": "display_data"
      },
      {
       "javascript": [
        "$(\"#a3a76631b-2335-4bd4-9ee9-2909e660d00d > .completed-part\").css(\"width\", \"9.500000%\")"
       ],
       "metadata": {},
       "output_type": "display_data"
      },
      {
       "javascript": [
        "$(\"#a3a76631b-2335-4bd4-9ee9-2909e660d00d > .running-part\").css(\"width\", \"0.500000%\")"
       ],
       "metadata": {},
       "output_type": "display_data"
      },
      {
       "javascript": [
        "$(\"#a3a76631b-2335-4bd4-9ee9-2909e660d00d > .text > .main\").text(\"19/200 (9%) in 4.2 s, 0.20 s last iter; eta 40+-17 s\")"
       ],
       "metadata": {},
       "output_type": "display_data"
      },
      {
       "javascript": [
        "$(\"#a3a76631b-2335-4bd4-9ee9-2909e660d00d > .text > .extra\").text(\"|||| Perplexity: 527.515550844; Topics_left: 150\")"
       ],
       "metadata": {},
       "output_type": "display_data"
      },
      {
       "javascript": [
        "$(\"#a3a76631b-2335-4bd4-9ee9-2909e660d00d > .completed-part\").css(\"width\", \"10.000000%\")"
       ],
       "metadata": {},
       "output_type": "display_data"
      },
      {
       "javascript": [
        "$(\"#a3a76631b-2335-4bd4-9ee9-2909e660d00d > .running-part\").css(\"width\", \"0.500000%\")"
       ],
       "metadata": {},
       "output_type": "display_data"
      },
      {
       "javascript": [
        "$(\"#a3a76631b-2335-4bd4-9ee9-2909e660d00d > .text > .main\").text(\"20/200 (10%) in 4.4 s, 0.20 s last iter; eta 40+-17 s\")"
       ],
       "metadata": {},
       "output_type": "display_data"
      },
      {
       "javascript": [
        "$(\"#a3a76631b-2335-4bd4-9ee9-2909e660d00d > .text > .extra\").text(\"|||| Perplexity: 520.300502865; Topics_left: 150\")"
       ],
       "metadata": {},
       "output_type": "display_data"
      },
      {
       "javascript": [
        "$(\"#a3a76631b-2335-4bd4-9ee9-2909e660d00d > .completed-part\").css(\"width\", \"10.500000%\")"
       ],
       "metadata": {},
       "output_type": "display_data"
      },
      {
       "javascript": [
        "$(\"#a3a76631b-2335-4bd4-9ee9-2909e660d00d > .running-part\").css(\"width\", \"0.500000%\")"
       ],
       "metadata": {},
       "output_type": "display_data"
      },
      {
       "javascript": [
        "$(\"#a3a76631b-2335-4bd4-9ee9-2909e660d00d > .text > .main\").text(\"21/200 (10%) in 4.6 s, 0.20 s last iter; eta 39+-16 s\")"
       ],
       "metadata": {},
       "output_type": "display_data"
      },
      {
       "javascript": [
        "$(\"#a3a76631b-2335-4bd4-9ee9-2909e660d00d > .text > .extra\").text(\"|||| Perplexity: 514.278914502; Topics_left: 150\")"
       ],
       "metadata": {},
       "output_type": "display_data"
      },
      {
       "javascript": [
        "$(\"#a3a76631b-2335-4bd4-9ee9-2909e660d00d > .completed-part\").css(\"width\", \"11.000000%\")"
       ],
       "metadata": {},
       "output_type": "display_data"
      },
      {
       "javascript": [
        "$(\"#a3a76631b-2335-4bd4-9ee9-2909e660d00d > .running-part\").css(\"width\", \"0.500000%\")"
       ],
       "metadata": {},
       "output_type": "display_data"
      },
      {
       "javascript": [
        "$(\"#a3a76631b-2335-4bd4-9ee9-2909e660d00d > .text > .main\").text(\"22/200 (11%) in 4.8 s, 0.20 s last iter; eta 39+-16 s\")"
       ],
       "metadata": {},
       "output_type": "display_data"
      },
      {
       "javascript": [
        "$(\"#a3a76631b-2335-4bd4-9ee9-2909e660d00d > .text > .extra\").text(\"|||| Perplexity: 509.087419238; Topics_left: 150\")"
       ],
       "metadata": {},
       "output_type": "display_data"
      },
      {
       "javascript": [
        "$(\"#a3a76631b-2335-4bd4-9ee9-2909e660d00d > .completed-part\").css(\"width\", \"11.500000%\")"
       ],
       "metadata": {},
       "output_type": "display_data"
      },
      {
       "javascript": [
        "$(\"#a3a76631b-2335-4bd4-9ee9-2909e660d00d > .running-part\").css(\"width\", \"0.500000%\")"
       ],
       "metadata": {},
       "output_type": "display_data"
      },
      {
       "javascript": [
        "$(\"#a3a76631b-2335-4bd4-9ee9-2909e660d00d > .text > .main\").text(\"23/200 (11%) in 5.0 s, 0.20 s last iter; eta 39+-15 s\")"
       ],
       "metadata": {},
       "output_type": "display_data"
      },
      {
       "javascript": [
        "$(\"#a3a76631b-2335-4bd4-9ee9-2909e660d00d > .text > .extra\").text(\"|||| Perplexity: 504.549010173; Topics_left: 150\")"
       ],
       "metadata": {},
       "output_type": "display_data"
      },
      {
       "javascript": [
        "$(\"#a3a76631b-2335-4bd4-9ee9-2909e660d00d > .completed-part\").css(\"width\", \"12.000000%\")"
       ],
       "metadata": {},
       "output_type": "display_data"
      },
      {
       "javascript": [
        "$(\"#a3a76631b-2335-4bd4-9ee9-2909e660d00d > .running-part\").css(\"width\", \"0.500000%\")"
       ],
       "metadata": {},
       "output_type": "display_data"
      },
      {
       "javascript": [
        "$(\"#a3a76631b-2335-4bd4-9ee9-2909e660d00d > .text > .main\").text(\"24/200 (12%) in 5.2 s, 0.20 s last iter; eta 38+-15 s\")"
       ],
       "metadata": {},
       "output_type": "display_data"
      },
      {
       "javascript": [
        "$(\"#a3a76631b-2335-4bd4-9ee9-2909e660d00d > .text > .extra\").text(\"|||| Perplexity: 500.496194056; Topics_left: 150\")"
       ],
       "metadata": {},
       "output_type": "display_data"
      },
      {
       "javascript": [
        "$(\"#a3a76631b-2335-4bd4-9ee9-2909e660d00d > .completed-part\").css(\"width\", \"12.500000%\")"
       ],
       "metadata": {},
       "output_type": "display_data"
      },
      {
       "javascript": [
        "$(\"#a3a76631b-2335-4bd4-9ee9-2909e660d00d > .running-part\").css(\"width\", \"0.500000%\")"
       ],
       "metadata": {},
       "output_type": "display_data"
      },
      {
       "javascript": [
        "$(\"#a3a76631b-2335-4bd4-9ee9-2909e660d00d > .text > .main\").text(\"25/200 (12%) in 5.4 s, 0.20 s last iter; eta 38+-15 s\")"
       ],
       "metadata": {},
       "output_type": "display_data"
      },
      {
       "javascript": [
        "$(\"#a3a76631b-2335-4bd4-9ee9-2909e660d00d > .text > .extra\").text(\"|||| Perplexity: 496.989336829; Topics_left: 150\")"
       ],
       "metadata": {},
       "output_type": "display_data"
      },
      {
       "javascript": [
        "$(\"#a3a76631b-2335-4bd4-9ee9-2909e660d00d > .completed-part\").css(\"width\", \"13.000000%\")"
       ],
       "metadata": {},
       "output_type": "display_data"
      },
      {
       "javascript": [
        "$(\"#a3a76631b-2335-4bd4-9ee9-2909e660d00d > .running-part\").css(\"width\", \"0.500000%\")"
       ],
       "metadata": {},
       "output_type": "display_data"
      },
      {
       "javascript": [
        "$(\"#a3a76631b-2335-4bd4-9ee9-2909e660d00d > .text > .main\").text(\"26/200 (13%) in 5.6 s, 0.20 s last iter; eta 37+-14 s\")"
       ],
       "metadata": {},
       "output_type": "display_data"
      },
      {
       "javascript": [
        "$(\"#a3a76631b-2335-4bd4-9ee9-2909e660d00d > .text > .extra\").text(\"|||| Perplexity: 493.817030245; Topics_left: 150\")"
       ],
       "metadata": {},
       "output_type": "display_data"
      },
      {
       "javascript": [
        "$(\"#a3a76631b-2335-4bd4-9ee9-2909e660d00d > .completed-part\").css(\"width\", \"13.500000%\")"
       ],
       "metadata": {},
       "output_type": "display_data"
      },
      {
       "javascript": [
        "$(\"#a3a76631b-2335-4bd4-9ee9-2909e660d00d > .running-part\").css(\"width\", \"0.500000%\")"
       ],
       "metadata": {},
       "output_type": "display_data"
      },
      {
       "javascript": [
        "$(\"#a3a76631b-2335-4bd4-9ee9-2909e660d00d > .text > .main\").text(\"27/200 (13%) in 5.8 s, 0.20 s last iter; eta 37+-14 s\")"
       ],
       "metadata": {},
       "output_type": "display_data"
      },
      {
       "javascript": [
        "$(\"#a3a76631b-2335-4bd4-9ee9-2909e660d00d > .text > .extra\").text(\"|||| Perplexity: 490.970438199; Topics_left: 150\")"
       ],
       "metadata": {},
       "output_type": "display_data"
      },
      {
       "javascript": [
        "$(\"#a3a76631b-2335-4bd4-9ee9-2909e660d00d > .completed-part\").css(\"width\", \"14.000000%\")"
       ],
       "metadata": {},
       "output_type": "display_data"
      },
      {
       "javascript": [
        "$(\"#a3a76631b-2335-4bd4-9ee9-2909e660d00d > .running-part\").css(\"width\", \"0.500000%\")"
       ],
       "metadata": {},
       "output_type": "display_data"
      },
      {
       "javascript": [
        "$(\"#a3a76631b-2335-4bd4-9ee9-2909e660d00d > .text > .main\").text(\"28/200 (14%) in 6.0 s, 0.20 s last iter; eta 37+-14 s\")"
       ],
       "metadata": {},
       "output_type": "display_data"
      },
      {
       "javascript": [
        "$(\"#a3a76631b-2335-4bd4-9ee9-2909e660d00d > .text > .extra\").text(\"|||| Perplexity: 488.417347212; Topics_left: 150\")"
       ],
       "metadata": {},
       "output_type": "display_data"
      },
      {
       "javascript": [
        "$(\"#a3a76631b-2335-4bd4-9ee9-2909e660d00d > .completed-part\").css(\"width\", \"14.500000%\")"
       ],
       "metadata": {},
       "output_type": "display_data"
      },
      {
       "javascript": [
        "$(\"#a3a76631b-2335-4bd4-9ee9-2909e660d00d > .running-part\").css(\"width\", \"0.500000%\")"
       ],
       "metadata": {},
       "output_type": "display_data"
      },
      {
       "javascript": [
        "$(\"#a3a76631b-2335-4bd4-9ee9-2909e660d00d > .text > .main\").text(\"29/200 (14%) in 6.2 s, 0.20 s last iter; eta 37+-13 s\")"
       ],
       "metadata": {},
       "output_type": "display_data"
      },
      {
       "javascript": [
        "$(\"#a3a76631b-2335-4bd4-9ee9-2909e660d00d > .text > .extra\").text(\"|||| Perplexity: 486.144560431; Topics_left: 150\")"
       ],
       "metadata": {},
       "output_type": "display_data"
      },
      {
       "javascript": [
        "$(\"#a3a76631b-2335-4bd4-9ee9-2909e660d00d > .completed-part\").css(\"width\", \"15.000000%\")"
       ],
       "metadata": {},
       "output_type": "display_data"
      },
      {
       "javascript": [
        "$(\"#a3a76631b-2335-4bd4-9ee9-2909e660d00d > .running-part\").css(\"width\", \"0.500000%\")"
       ],
       "metadata": {},
       "output_type": "display_data"
      },
      {
       "javascript": [
        "$(\"#a3a76631b-2335-4bd4-9ee9-2909e660d00d > .text > .main\").text(\"30/200 (15%) in 6.4 s, 0.20 s last iter; eta 36+-13 s\")"
       ],
       "metadata": {},
       "output_type": "display_data"
      },
      {
       "javascript": [
        "$(\"#a3a76631b-2335-4bd4-9ee9-2909e660d00d > .text > .extra\").text(\"|||| Perplexity: 484.059845279; Topics_left: 150\")"
       ],
       "metadata": {},
       "output_type": "display_data"
      },
      {
       "javascript": [
        "$(\"#a3a76631b-2335-4bd4-9ee9-2909e660d00d > .completed-part\").css(\"width\", \"15.500000%\")"
       ],
       "metadata": {},
       "output_type": "display_data"
      },
      {
       "javascript": [
        "$(\"#a3a76631b-2335-4bd4-9ee9-2909e660d00d > .running-part\").css(\"width\", \"0.500000%\")"
       ],
       "metadata": {},
       "output_type": "display_data"
      },
      {
       "javascript": [
        "$(\"#a3a76631b-2335-4bd4-9ee9-2909e660d00d > .text > .main\").text(\"31/200 (15%) in 6.6 s, 0.20 s last iter; eta 36+-13 s\")"
       ],
       "metadata": {},
       "output_type": "display_data"
      },
      {
       "javascript": [
        "$(\"#a3a76631b-2335-4bd4-9ee9-2909e660d00d > .text > .extra\").text(\"|||| Perplexity: 482.182638659; Topics_left: 150\")"
       ],
       "metadata": {},
       "output_type": "display_data"
      },
      {
       "javascript": [
        "$(\"#a3a76631b-2335-4bd4-9ee9-2909e660d00d > .completed-part\").css(\"width\", \"16.000000%\")"
       ],
       "metadata": {},
       "output_type": "display_data"
      },
      {
       "javascript": [
        "$(\"#a3a76631b-2335-4bd4-9ee9-2909e660d00d > .running-part\").css(\"width\", \"0.500000%\")"
       ],
       "metadata": {},
       "output_type": "display_data"
      },
      {
       "javascript": [
        "$(\"#a3a76631b-2335-4bd4-9ee9-2909e660d00d > .text > .main\").text(\"32/200 (16%) in 6.8 s, 0.20 s last iter; eta 36+-13 s\")"
       ],
       "metadata": {},
       "output_type": "display_data"
      },
      {
       "javascript": [
        "$(\"#a3a76631b-2335-4bd4-9ee9-2909e660d00d > .text > .extra\").text(\"|||| Perplexity: 480.485894331; Topics_left: 150\")"
       ],
       "metadata": {},
       "output_type": "display_data"
      },
      {
       "javascript": [
        "$(\"#a3a76631b-2335-4bd4-9ee9-2909e660d00d > .completed-part\").css(\"width\", \"16.500000%\")"
       ],
       "metadata": {},
       "output_type": "display_data"
      },
      {
       "javascript": [
        "$(\"#a3a76631b-2335-4bd4-9ee9-2909e660d00d > .running-part\").css(\"width\", \"0.500000%\")"
       ],
       "metadata": {},
       "output_type": "display_data"
      },
      {
       "javascript": [
        "$(\"#a3a76631b-2335-4bd4-9ee9-2909e660d00d > .text > .main\").text(\"33/200 (16%) in 7.0 s, 0.20 s last iter; eta 35+-12 s\")"
       ],
       "metadata": {},
       "output_type": "display_data"
      },
      {
       "javascript": [
        "$(\"#a3a76631b-2335-4bd4-9ee9-2909e660d00d > .text > .extra\").text(\"|||| Perplexity: 478.943137403; Topics_left: 150\")"
       ],
       "metadata": {},
       "output_type": "display_data"
      },
      {
       "javascript": [
        "$(\"#a3a76631b-2335-4bd4-9ee9-2909e660d00d > .completed-part\").css(\"width\", \"17.000000%\")"
       ],
       "metadata": {},
       "output_type": "display_data"
      },
      {
       "javascript": [
        "$(\"#a3a76631b-2335-4bd4-9ee9-2909e660d00d > .running-part\").css(\"width\", \"0.500000%\")"
       ],
       "metadata": {},
       "output_type": "display_data"
      },
      {
       "javascript": [
        "$(\"#a3a76631b-2335-4bd4-9ee9-2909e660d00d > .text > .main\").text(\"34/200 (17%) in 7.2 s, 0.20 s last iter; eta 35+-12 s\")"
       ],
       "metadata": {},
       "output_type": "display_data"
      },
      {
       "javascript": [
        "$(\"#a3a76631b-2335-4bd4-9ee9-2909e660d00d > .text > .extra\").text(\"|||| Perplexity: 477.583439192; Topics_left: 150\")"
       ],
       "metadata": {},
       "output_type": "display_data"
      },
      {
       "javascript": [
        "$(\"#a3a76631b-2335-4bd4-9ee9-2909e660d00d > .completed-part\").css(\"width\", \"17.500000%\")"
       ],
       "metadata": {},
       "output_type": "display_data"
      },
      {
       "javascript": [
        "$(\"#a3a76631b-2335-4bd4-9ee9-2909e660d00d > .running-part\").css(\"width\", \"0.500000%\")"
       ],
       "metadata": {},
       "output_type": "display_data"
      },
      {
       "javascript": [
        "$(\"#a3a76631b-2335-4bd4-9ee9-2909e660d00d > .text > .main\").text(\"35/200 (17%) in 7.4 s, 0.20 s last iter; eta 35+-12 s\")"
       ],
       "metadata": {},
       "output_type": "display_data"
      },
      {
       "javascript": [
        "$(\"#a3a76631b-2335-4bd4-9ee9-2909e660d00d > .text > .extra\").text(\"|||| Perplexity: 476.312290136; Topics_left: 150\")"
       ],
       "metadata": {},
       "output_type": "display_data"
      },
      {
       "javascript": [
        "$(\"#a3a76631b-2335-4bd4-9ee9-2909e660d00d > .completed-part\").css(\"width\", \"18.000000%\")"
       ],
       "metadata": {},
       "output_type": "display_data"
      },
      {
       "javascript": [
        "$(\"#a3a76631b-2335-4bd4-9ee9-2909e660d00d > .running-part\").css(\"width\", \"0.500000%\")"
       ],
       "metadata": {},
       "output_type": "display_data"
      },
      {
       "javascript": [
        "$(\"#a3a76631b-2335-4bd4-9ee9-2909e660d00d > .text > .main\").text(\"36/200 (18%) in 7.6 s, 0.20 s last iter; eta 35+-12 s\")"
       ],
       "metadata": {},
       "output_type": "display_data"
      },
      {
       "javascript": [
        "$(\"#a3a76631b-2335-4bd4-9ee9-2909e660d00d > .text > .extra\").text(\"|||| Perplexity: 475.215147128; Topics_left: 150\")"
       ],
       "metadata": {},
       "output_type": "display_data"
      },
      {
       "javascript": [
        "$(\"#a3a76631b-2335-4bd4-9ee9-2909e660d00d > .completed-part\").css(\"width\", \"18.500000%\")"
       ],
       "metadata": {},
       "output_type": "display_data"
      },
      {
       "javascript": [
        "$(\"#a3a76631b-2335-4bd4-9ee9-2909e660d00d > .running-part\").css(\"width\", \"0.500000%\")"
       ],
       "metadata": {},
       "output_type": "display_data"
      },
      {
       "javascript": [
        "$(\"#a3a76631b-2335-4bd4-9ee9-2909e660d00d > .text > .main\").text(\"37/200 (18%) in 7.8 s, 0.20 s last iter; eta 34+-11 s\")"
       ],
       "metadata": {},
       "output_type": "display_data"
      },
      {
       "javascript": [
        "$(\"#a3a76631b-2335-4bd4-9ee9-2909e660d00d > .text > .extra\").text(\"|||| Perplexity: 474.151818061; Topics_left: 150\")"
       ],
       "metadata": {},
       "output_type": "display_data"
      },
      {
       "javascript": [
        "$(\"#a3a76631b-2335-4bd4-9ee9-2909e660d00d > .completed-part\").css(\"width\", \"19.000000%\")"
       ],
       "metadata": {},
       "output_type": "display_data"
      },
      {
       "javascript": [
        "$(\"#a3a76631b-2335-4bd4-9ee9-2909e660d00d > .running-part\").css(\"width\", \"0.500000%\")"
       ],
       "metadata": {},
       "output_type": "display_data"
      },
      {
       "javascript": [
        "$(\"#a3a76631b-2335-4bd4-9ee9-2909e660d00d > .text > .main\").text(\"38/200 (19%) in 8.0 s, 0.23 s last iter; eta 34+-11 s\")"
       ],
       "metadata": {},
       "output_type": "display_data"
      },
      {
       "javascript": [
        "$(\"#a3a76631b-2335-4bd4-9ee9-2909e660d00d > .text > .extra\").text(\"|||| Perplexity: 473.152650675; Topics_left: 150\")"
       ],
       "metadata": {},
       "output_type": "display_data"
      },
      {
       "javascript": [
        "$(\"#a3a76631b-2335-4bd4-9ee9-2909e660d00d > .completed-part\").css(\"width\", \"19.500000%\")"
       ],
       "metadata": {},
       "output_type": "display_data"
      },
      {
       "javascript": [
        "$(\"#a3a76631b-2335-4bd4-9ee9-2909e660d00d > .running-part\").css(\"width\", \"0.500000%\")"
       ],
       "metadata": {},
       "output_type": "display_data"
      },
      {
       "javascript": [
        "$(\"#a3a76631b-2335-4bd4-9ee9-2909e660d00d > .text > .main\").text(\"39/200 (19%) in 8.2 s, 0.21 s last iter; eta 34+-11 s\")"
       ],
       "metadata": {},
       "output_type": "display_data"
      },
      {
       "javascript": [
        "$(\"#a3a76631b-2335-4bd4-9ee9-2909e660d00d > .text > .extra\").text(\"|||| Perplexity: 472.209705095; Topics_left: 150\")"
       ],
       "metadata": {},
       "output_type": "display_data"
      },
      {
       "javascript": [
        "$(\"#a3a76631b-2335-4bd4-9ee9-2909e660d00d > .completed-part\").css(\"width\", \"20.000000%\")"
       ],
       "metadata": {},
       "output_type": "display_data"
      },
      {
       "javascript": [
        "$(\"#a3a76631b-2335-4bd4-9ee9-2909e660d00d > .running-part\").css(\"width\", \"0.500000%\")"
       ],
       "metadata": {},
       "output_type": "display_data"
      },
      {
       "javascript": [
        "$(\"#a3a76631b-2335-4bd4-9ee9-2909e660d00d > .text > .main\").text(\"40/200 (20%) in 8.4 s, 0.20 s last iter; eta 34+-11 s\")"
       ],
       "metadata": {},
       "output_type": "display_data"
      },
      {
       "javascript": [
        "$(\"#a3a76631b-2335-4bd4-9ee9-2909e660d00d > .text > .extra\").text(\"|||| Perplexity: 471.310867802; Topics_left: 150\")"
       ],
       "metadata": {},
       "output_type": "display_data"
      },
      {
       "javascript": [
        "$(\"#a3a76631b-2335-4bd4-9ee9-2909e660d00d > .completed-part\").css(\"width\", \"20.500000%\")"
       ],
       "metadata": {},
       "output_type": "display_data"
      },
      {
       "javascript": [
        "$(\"#a3a76631b-2335-4bd4-9ee9-2909e660d00d > .running-part\").css(\"width\", \"0.500000%\")"
       ],
       "metadata": {},
       "output_type": "display_data"
      },
      {
       "javascript": [
        "$(\"#a3a76631b-2335-4bd4-9ee9-2909e660d00d > .text > .main\").text(\"41/200 (20%) in 8.6 s, 0.20 s last iter; eta 33+-11 s\")"
       ],
       "metadata": {},
       "output_type": "display_data"
      },
      {
       "javascript": [
        "$(\"#a3a76631b-2335-4bd4-9ee9-2909e660d00d > .text > .extra\").text(\"|||| Perplexity: 470.473867044; Topics_left: 150\")"
       ],
       "metadata": {},
       "output_type": "display_data"
      },
      {
       "javascript": [
        "$(\"#a3a76631b-2335-4bd4-9ee9-2909e660d00d > .completed-part\").css(\"width\", \"21.000000%\")"
       ],
       "metadata": {},
       "output_type": "display_data"
      },
      {
       "javascript": [
        "$(\"#a3a76631b-2335-4bd4-9ee9-2909e660d00d > .running-part\").css(\"width\", \"0.500000%\")"
       ],
       "metadata": {},
       "output_type": "display_data"
      },
      {
       "javascript": [
        "$(\"#a3a76631b-2335-4bd4-9ee9-2909e660d00d > .text > .main\").text(\"42/200 (21%) in 8.8 s, 0.20 s last iter; eta 33+-10 s\")"
       ],
       "metadata": {},
       "output_type": "display_data"
      },
      {
       "javascript": [
        "$(\"#a3a76631b-2335-4bd4-9ee9-2909e660d00d > .text > .extra\").text(\"|||| Perplexity: 469.690223007; Topics_left: 150\")"
       ],
       "metadata": {},
       "output_type": "display_data"
      },
      {
       "javascript": [
        "$(\"#a3a76631b-2335-4bd4-9ee9-2909e660d00d > .completed-part\").css(\"width\", \"21.500000%\")"
       ],
       "metadata": {},
       "output_type": "display_data"
      },
      {
       "javascript": [
        "$(\"#a3a76631b-2335-4bd4-9ee9-2909e660d00d > .running-part\").css(\"width\", \"0.500000%\")"
       ],
       "metadata": {},
       "output_type": "display_data"
      },
      {
       "javascript": [
        "$(\"#a3a76631b-2335-4bd4-9ee9-2909e660d00d > .text > .main\").text(\"43/200 (21%) in 9.0 s, 0.20 s last iter; eta 33+-10 s\")"
       ],
       "metadata": {},
       "output_type": "display_data"
      },
      {
       "javascript": [
        "$(\"#a3a76631b-2335-4bd4-9ee9-2909e660d00d > .text > .extra\").text(\"|||| Perplexity: 468.893553539; Topics_left: 150\")"
       ],
       "metadata": {},
       "output_type": "display_data"
      },
      {
       "javascript": [
        "$(\"#a3a76631b-2335-4bd4-9ee9-2909e660d00d > .completed-part\").css(\"width\", \"22.000000%\")"
       ],
       "metadata": {},
       "output_type": "display_data"
      },
      {
       "javascript": [
        "$(\"#a3a76631b-2335-4bd4-9ee9-2909e660d00d > .running-part\").css(\"width\", \"0.500000%\")"
       ],
       "metadata": {},
       "output_type": "display_data"
      },
      {
       "javascript": [
        "$(\"#a3a76631b-2335-4bd4-9ee9-2909e660d00d > .text > .main\").text(\"44/200 (22%) in 9.2 s, 0.21 s last iter; eta 33+-10 s\")"
       ],
       "metadata": {},
       "output_type": "display_data"
      },
      {
       "javascript": [
        "$(\"#a3a76631b-2335-4bd4-9ee9-2909e660d00d > .text > .extra\").text(\"|||| Perplexity: 468.164243519; Topics_left: 150\")"
       ],
       "metadata": {},
       "output_type": "display_data"
      },
      {
       "javascript": [
        "$(\"#a3a76631b-2335-4bd4-9ee9-2909e660d00d > .completed-part\").css(\"width\", \"22.500000%\")"
       ],
       "metadata": {},
       "output_type": "display_data"
      },
      {
       "javascript": [
        "$(\"#a3a76631b-2335-4bd4-9ee9-2909e660d00d > .running-part\").css(\"width\", \"0.500000%\")"
       ],
       "metadata": {},
       "output_type": "display_data"
      },
      {
       "javascript": [
        "$(\"#a3a76631b-2335-4bd4-9ee9-2909e660d00d > .text > .main\").text(\"45/200 (22%) in 9.4 s, 0.20 s last iter; eta 32+-10 s\")"
       ],
       "metadata": {},
       "output_type": "display_data"
      },
      {
       "javascript": [
        "$(\"#a3a76631b-2335-4bd4-9ee9-2909e660d00d > .text > .extra\").text(\"|||| Perplexity: 467.462692419; Topics_left: 150\")"
       ],
       "metadata": {},
       "output_type": "display_data"
      },
      {
       "javascript": [
        "$(\"#a3a76631b-2335-4bd4-9ee9-2909e660d00d > .completed-part\").css(\"width\", \"23.000000%\")"
       ],
       "metadata": {},
       "output_type": "display_data"
      },
      {
       "javascript": [
        "$(\"#a3a76631b-2335-4bd4-9ee9-2909e660d00d > .running-part\").css(\"width\", \"0.500000%\")"
       ],
       "metadata": {},
       "output_type": "display_data"
      },
      {
       "javascript": [
        "$(\"#a3a76631b-2335-4bd4-9ee9-2909e660d00d > .text > .main\").text(\"46/200 (23%) in 9.6 s, 0.20 s last iter; eta 32+-10 s\")"
       ],
       "metadata": {},
       "output_type": "display_data"
      },
      {
       "javascript": [
        "$(\"#a3a76631b-2335-4bd4-9ee9-2909e660d00d > .text > .extra\").text(\"|||| Perplexity: 466.804666368; Topics_left: 150\")"
       ],
       "metadata": {},
       "output_type": "display_data"
      },
      {
       "javascript": [
        "$(\"#a3a76631b-2335-4bd4-9ee9-2909e660d00d > .completed-part\").css(\"width\", \"23.500000%\")"
       ],
       "metadata": {},
       "output_type": "display_data"
      },
      {
       "javascript": [
        "$(\"#a3a76631b-2335-4bd4-9ee9-2909e660d00d > .running-part\").css(\"width\", \"0.500000%\")"
       ],
       "metadata": {},
       "output_type": "display_data"
      },
      {
       "javascript": [
        "$(\"#a3a76631b-2335-4bd4-9ee9-2909e660d00d > .text > .main\").text(\"47/200 (23%) in 9.8 s, 0.20 s last iter; eta 32+-9 s\")"
       ],
       "metadata": {},
       "output_type": "display_data"
      },
      {
       "javascript": [
        "$(\"#a3a76631b-2335-4bd4-9ee9-2909e660d00d > .text > .extra\").text(\"|||| Perplexity: 466.1767082; Topics_left: 150\")"
       ],
       "metadata": {},
       "output_type": "display_data"
      },
      {
       "javascript": [
        "$(\"#a3a76631b-2335-4bd4-9ee9-2909e660d00d > .completed-part\").css(\"width\", \"24.000000%\")"
       ],
       "metadata": {},
       "output_type": "display_data"
      },
      {
       "javascript": [
        "$(\"#a3a76631b-2335-4bd4-9ee9-2909e660d00d > .running-part\").css(\"width\", \"0.500000%\")"
       ],
       "metadata": {},
       "output_type": "display_data"
      },
      {
       "javascript": [
        "$(\"#a3a76631b-2335-4bd4-9ee9-2909e660d00d > .text > .main\").text(\"48/200 (24%) in 10.1 s, 0.24 s last iter; eta 32+-9 s\")"
       ],
       "metadata": {},
       "output_type": "display_data"
      },
      {
       "javascript": [
        "$(\"#a3a76631b-2335-4bd4-9ee9-2909e660d00d > .text > .extra\").text(\"|||| Perplexity: 465.583226492; Topics_left: 150\")"
       ],
       "metadata": {},
       "output_type": "display_data"
      },
      {
       "javascript": [
        "$(\"#a3a76631b-2335-4bd4-9ee9-2909e660d00d > .completed-part\").css(\"width\", \"24.500000%\")"
       ],
       "metadata": {},
       "output_type": "display_data"
      },
      {
       "javascript": [
        "$(\"#a3a76631b-2335-4bd4-9ee9-2909e660d00d > .running-part\").css(\"width\", \"0.500000%\")"
       ],
       "metadata": {},
       "output_type": "display_data"
      },
      {
       "javascript": [
        "$(\"#a3a76631b-2335-4bd4-9ee9-2909e660d00d > .text > .main\").text(\"49/200 (24%) in 10.3 s, 0.20 s last iter; eta 32+-9 s\")"
       ],
       "metadata": {},
       "output_type": "display_data"
      },
      {
       "javascript": [
        "$(\"#a3a76631b-2335-4bd4-9ee9-2909e660d00d > .text > .extra\").text(\"|||| Perplexity: 465.033781918; Topics_left: 150\")"
       ],
       "metadata": {},
       "output_type": "display_data"
      },
      {
       "javascript": [
        "$(\"#a3a76631b-2335-4bd4-9ee9-2909e660d00d > .completed-part\").css(\"width\", \"25.000000%\")"
       ],
       "metadata": {},
       "output_type": "display_data"
      },
      {
       "javascript": [
        "$(\"#a3a76631b-2335-4bd4-9ee9-2909e660d00d > .running-part\").css(\"width\", \"0.500000%\")"
       ],
       "metadata": {},
       "output_type": "display_data"
      },
      {
       "javascript": [
        "$(\"#a3a76631b-2335-4bd4-9ee9-2909e660d00d > .text > .main\").text(\"50/200 (25%) in 10.5 s, 0.20 s last iter; eta 31+-9 s\")"
       ],
       "metadata": {},
       "output_type": "display_data"
      },
      {
       "javascript": [
        "$(\"#a3a76631b-2335-4bd4-9ee9-2909e660d00d > .text > .extra\").text(\"|||| Perplexity: 464.484017863; Topics_left: 150\")"
       ],
       "metadata": {},
       "output_type": "display_data"
      },
      {
       "javascript": [
        "$(\"#a3a76631b-2335-4bd4-9ee9-2909e660d00d > .completed-part\").css(\"width\", \"25.500000%\")"
       ],
       "metadata": {},
       "output_type": "display_data"
      },
      {
       "javascript": [
        "$(\"#a3a76631b-2335-4bd4-9ee9-2909e660d00d > .running-part\").css(\"width\", \"0.500000%\")"
       ],
       "metadata": {},
       "output_type": "display_data"
      },
      {
       "javascript": [
        "$(\"#a3a76631b-2335-4bd4-9ee9-2909e660d00d > .text > .main\").text(\"51/200 (25%) in 10.6 s, 0.20 s last iter; eta 31+-9 s\")"
       ],
       "metadata": {},
       "output_type": "display_data"
      },
      {
       "javascript": [
        "$(\"#a3a76631b-2335-4bd4-9ee9-2909e660d00d > .text > .extra\").text(\"|||| Perplexity: 463.947793865; Topics_left: 150\")"
       ],
       "metadata": {},
       "output_type": "display_data"
      },
      {
       "javascript": [
        "$(\"#a3a76631b-2335-4bd4-9ee9-2909e660d00d > .completed-part\").css(\"width\", \"26.000000%\")"
       ],
       "metadata": {},
       "output_type": "display_data"
      },
      {
       "javascript": [
        "$(\"#a3a76631b-2335-4bd4-9ee9-2909e660d00d > .running-part\").css(\"width\", \"0.500000%\")"
       ],
       "metadata": {},
       "output_type": "display_data"
      },
      {
       "javascript": [
        "$(\"#a3a76631b-2335-4bd4-9ee9-2909e660d00d > .text > .main\").text(\"52/200 (26%) in 10.8 s, 0.20 s last iter; eta 31+-9 s\")"
       ],
       "metadata": {},
       "output_type": "display_data"
      },
      {
       "javascript": [
        "$(\"#a3a76631b-2335-4bd4-9ee9-2909e660d00d > .text > .extra\").text(\"|||| Perplexity: 463.490091761; Topics_left: 150\")"
       ],
       "metadata": {},
       "output_type": "display_data"
      },
      {
       "javascript": [
        "$(\"#a3a76631b-2335-4bd4-9ee9-2909e660d00d > .completed-part\").css(\"width\", \"26.500000%\")"
       ],
       "metadata": {},
       "output_type": "display_data"
      },
      {
       "javascript": [
        "$(\"#a3a76631b-2335-4bd4-9ee9-2909e660d00d > .running-part\").css(\"width\", \"0.500000%\")"
       ],
       "metadata": {},
       "output_type": "display_data"
      },
      {
       "javascript": [
        "$(\"#a3a76631b-2335-4bd4-9ee9-2909e660d00d > .text > .main\").text(\"53/200 (26%) in 11.0 s, 0.20 s last iter; eta 31+-9 s\")"
       ],
       "metadata": {},
       "output_type": "display_data"
      },
      {
       "javascript": [
        "$(\"#a3a76631b-2335-4bd4-9ee9-2909e660d00d > .text > .extra\").text(\"|||| Perplexity: 463.119365615; Topics_left: 150\")"
       ],
       "metadata": {},
       "output_type": "display_data"
      },
      {
       "javascript": [
        "$(\"#a3a76631b-2335-4bd4-9ee9-2909e660d00d > .completed-part\").css(\"width\", \"27.000000%\")"
       ],
       "metadata": {},
       "output_type": "display_data"
      },
      {
       "javascript": [
        "$(\"#a3a76631b-2335-4bd4-9ee9-2909e660d00d > .running-part\").css(\"width\", \"0.500000%\")"
       ],
       "metadata": {},
       "output_type": "display_data"
      },
      {
       "javascript": [
        "$(\"#a3a76631b-2335-4bd4-9ee9-2909e660d00d > .text > .main\").text(\"54/200 (27%) in 11.2 s, 0.20 s last iter; eta 30+-8 s\")"
       ],
       "metadata": {},
       "output_type": "display_data"
      },
      {
       "javascript": [
        "$(\"#a3a76631b-2335-4bd4-9ee9-2909e660d00d > .text > .extra\").text(\"|||| Perplexity: 462.72482976; Topics_left: 150\")"
       ],
       "metadata": {},
       "output_type": "display_data"
      },
      {
       "javascript": [
        "$(\"#a3a76631b-2335-4bd4-9ee9-2909e660d00d > .completed-part\").css(\"width\", \"27.500000%\")"
       ],
       "metadata": {},
       "output_type": "display_data"
      },
      {
       "javascript": [
        "$(\"#a3a76631b-2335-4bd4-9ee9-2909e660d00d > .running-part\").css(\"width\", \"0.500000%\")"
       ],
       "metadata": {},
       "output_type": "display_data"
      },
      {
       "javascript": [
        "$(\"#a3a76631b-2335-4bd4-9ee9-2909e660d00d > .text > .main\").text(\"55/200 (27%) in 11.4 s, 0.20 s last iter; eta 30+-8 s\")"
       ],
       "metadata": {},
       "output_type": "display_data"
      },
      {
       "javascript": [
        "$(\"#a3a76631b-2335-4bd4-9ee9-2909e660d00d > .text > .extra\").text(\"|||| Perplexity: 462.325813025; Topics_left: 150\")"
       ],
       "metadata": {},
       "output_type": "display_data"
      },
      {
       "javascript": [
        "$(\"#a3a76631b-2335-4bd4-9ee9-2909e660d00d > .completed-part\").css(\"width\", \"28.000000%\")"
       ],
       "metadata": {},
       "output_type": "display_data"
      },
      {
       "javascript": [
        "$(\"#a3a76631b-2335-4bd4-9ee9-2909e660d00d > .running-part\").css(\"width\", \"0.500000%\")"
       ],
       "metadata": {},
       "output_type": "display_data"
      },
      {
       "javascript": [
        "$(\"#a3a76631b-2335-4bd4-9ee9-2909e660d00d > .text > .main\").text(\"56/200 (28%) in 11.6 s, 0.20 s last iter; eta 30+-8 s\")"
       ],
       "metadata": {},
       "output_type": "display_data"
      },
      {
       "javascript": [
        "$(\"#a3a76631b-2335-4bd4-9ee9-2909e660d00d > .text > .extra\").text(\"|||| Perplexity: 461.921365033; Topics_left: 150\")"
       ],
       "metadata": {},
       "output_type": "display_data"
      },
      {
       "javascript": [
        "$(\"#a3a76631b-2335-4bd4-9ee9-2909e660d00d > .completed-part\").css(\"width\", \"28.500000%\")"
       ],
       "metadata": {},
       "output_type": "display_data"
      },
      {
       "javascript": [
        "$(\"#a3a76631b-2335-4bd4-9ee9-2909e660d00d > .running-part\").css(\"width\", \"0.500000%\")"
       ],
       "metadata": {},
       "output_type": "display_data"
      },
      {
       "javascript": [
        "$(\"#a3a76631b-2335-4bd4-9ee9-2909e660d00d > .text > .main\").text(\"57/200 (28%) in 11.8 s, 0.20 s last iter; eta 30+-8 s\")"
       ],
       "metadata": {},
       "output_type": "display_data"
      },
      {
       "javascript": [
        "$(\"#a3a76631b-2335-4bd4-9ee9-2909e660d00d > .text > .extra\").text(\"|||| Perplexity: 461.554458398; Topics_left: 150\")"
       ],
       "metadata": {},
       "output_type": "display_data"
      },
      {
       "javascript": [
        "$(\"#a3a76631b-2335-4bd4-9ee9-2909e660d00d > .completed-part\").css(\"width\", \"29.000000%\")"
       ],
       "metadata": {},
       "output_type": "display_data"
      },
      {
       "javascript": [
        "$(\"#a3a76631b-2335-4bd4-9ee9-2909e660d00d > .running-part\").css(\"width\", \"0.500000%\")"
       ],
       "metadata": {},
       "output_type": "display_data"
      },
      {
       "javascript": [
        "$(\"#a3a76631b-2335-4bd4-9ee9-2909e660d00d > .text > .main\").text(\"58/200 (28%) in 12.0 s, 0.20 s last iter; eta 29+-8 s\")"
       ],
       "metadata": {},
       "output_type": "display_data"
      },
      {
       "javascript": [
        "$(\"#a3a76631b-2335-4bd4-9ee9-2909e660d00d > .text > .extra\").text(\"|||| Perplexity: 461.213150796; Topics_left: 150\")"
       ],
       "metadata": {},
       "output_type": "display_data"
      },
      {
       "javascript": [
        "$(\"#a3a76631b-2335-4bd4-9ee9-2909e660d00d > .completed-part\").css(\"width\", \"29.500000%\")"
       ],
       "metadata": {},
       "output_type": "display_data"
      },
      {
       "javascript": [
        "$(\"#a3a76631b-2335-4bd4-9ee9-2909e660d00d > .running-part\").css(\"width\", \"0.500000%\")"
       ],
       "metadata": {},
       "output_type": "display_data"
      },
      {
       "javascript": [
        "$(\"#a3a76631b-2335-4bd4-9ee9-2909e660d00d > .text > .main\").text(\"59/200 (29%) in 12.2 s, 0.20 s last iter; eta 29+-8 s\")"
       ],
       "metadata": {},
       "output_type": "display_data"
      },
      {
       "javascript": [
        "$(\"#a3a76631b-2335-4bd4-9ee9-2909e660d00d > .text > .extra\").text(\"|||| Perplexity: 460.92331782; Topics_left: 150\")"
       ],
       "metadata": {},
       "output_type": "display_data"
      },
      {
       "javascript": [
        "$(\"#a3a76631b-2335-4bd4-9ee9-2909e660d00d > .completed-part\").css(\"width\", \"30.000000%\")"
       ],
       "metadata": {},
       "output_type": "display_data"
      },
      {
       "javascript": [
        "$(\"#a3a76631b-2335-4bd4-9ee9-2909e660d00d > .running-part\").css(\"width\", \"0.500000%\")"
       ],
       "metadata": {},
       "output_type": "display_data"
      },
      {
       "javascript": [
        "$(\"#a3a76631b-2335-4bd4-9ee9-2909e660d00d > .text > .main\").text(\"60/200 (30%) in 12.4 s, 0.20 s last iter; eta 29+-8 s\")"
       ],
       "metadata": {},
       "output_type": "display_data"
      },
      {
       "javascript": [
        "$(\"#a3a76631b-2335-4bd4-9ee9-2909e660d00d > .text > .extra\").text(\"|||| Perplexity: 460.630467435; Topics_left: 150\")"
       ],
       "metadata": {},
       "output_type": "display_data"
      },
      {
       "javascript": [
        "$(\"#a3a76631b-2335-4bd4-9ee9-2909e660d00d > .completed-part\").css(\"width\", \"30.500000%\")"
       ],
       "metadata": {},
       "output_type": "display_data"
      },
      {
       "javascript": [
        "$(\"#a3a76631b-2335-4bd4-9ee9-2909e660d00d > .running-part\").css(\"width\", \"0.500000%\")"
       ],
       "metadata": {},
       "output_type": "display_data"
      },
      {
       "javascript": [
        "$(\"#a3a76631b-2335-4bd4-9ee9-2909e660d00d > .text > .main\").text(\"61/200 (30%) in 12.6 s, 0.20 s last iter; eta 29+-8 s\")"
       ],
       "metadata": {},
       "output_type": "display_data"
      },
      {
       "javascript": [
        "$(\"#a3a76631b-2335-4bd4-9ee9-2909e660d00d > .text > .extra\").text(\"|||| Perplexity: 460.346116691; Topics_left: 150\")"
       ],
       "metadata": {},
       "output_type": "display_data"
      },
      {
       "javascript": [
        "$(\"#a3a76631b-2335-4bd4-9ee9-2909e660d00d > .completed-part\").css(\"width\", \"31.000000%\")"
       ],
       "metadata": {},
       "output_type": "display_data"
      },
      {
       "javascript": [
        "$(\"#a3a76631b-2335-4bd4-9ee9-2909e660d00d > .running-part\").css(\"width\", \"0.500000%\")"
       ],
       "metadata": {},
       "output_type": "display_data"
      },
      {
       "javascript": [
        "$(\"#a3a76631b-2335-4bd4-9ee9-2909e660d00d > .text > .main\").text(\"62/200 (31%) in 12.8 s, 0.20 s last iter; eta 29+-7 s\")"
       ],
       "metadata": {},
       "output_type": "display_data"
      },
      {
       "javascript": [
        "$(\"#a3a76631b-2335-4bd4-9ee9-2909e660d00d > .text > .extra\").text(\"|||| Perplexity: 460.076641404; Topics_left: 150\")"
       ],
       "metadata": {},
       "output_type": "display_data"
      },
      {
       "javascript": [
        "$(\"#a3a76631b-2335-4bd4-9ee9-2909e660d00d > .completed-part\").css(\"width\", \"31.500000%\")"
       ],
       "metadata": {},
       "output_type": "display_data"
      },
      {
       "javascript": [
        "$(\"#a3a76631b-2335-4bd4-9ee9-2909e660d00d > .running-part\").css(\"width\", \"0.500000%\")"
       ],
       "metadata": {},
       "output_type": "display_data"
      },
      {
       "javascript": [
        "$(\"#a3a76631b-2335-4bd4-9ee9-2909e660d00d > .text > .main\").text(\"63/200 (31%) in 13.0 s, 0.20 s last iter; eta 28+-7 s\")"
       ],
       "metadata": {},
       "output_type": "display_data"
      },
      {
       "javascript": [
        "$(\"#a3a76631b-2335-4bd4-9ee9-2909e660d00d > .text > .extra\").text(\"|||| Perplexity: 459.795506893; Topics_left: 150\")"
       ],
       "metadata": {},
       "output_type": "display_data"
      },
      {
       "javascript": [
        "$(\"#a3a76631b-2335-4bd4-9ee9-2909e660d00d > .completed-part\").css(\"width\", \"32.000000%\")"
       ],
       "metadata": {},
       "output_type": "display_data"
      },
      {
       "javascript": [
        "$(\"#a3a76631b-2335-4bd4-9ee9-2909e660d00d > .running-part\").css(\"width\", \"0.500000%\")"
       ],
       "metadata": {},
       "output_type": "display_data"
      },
      {
       "javascript": [
        "$(\"#a3a76631b-2335-4bd4-9ee9-2909e660d00d > .text > .main\").text(\"64/200 (32%) in 13.2 s, 0.21 s last iter; eta 28+-7 s\")"
       ],
       "metadata": {},
       "output_type": "display_data"
      },
      {
       "javascript": [
        "$(\"#a3a76631b-2335-4bd4-9ee9-2909e660d00d > .text > .extra\").text(\"|||| Perplexity: 459.533056884; Topics_left: 150\")"
       ],
       "metadata": {},
       "output_type": "display_data"
      },
      {
       "javascript": [
        "$(\"#a3a76631b-2335-4bd4-9ee9-2909e660d00d > .completed-part\").css(\"width\", \"32.500000%\")"
       ],
       "metadata": {},
       "output_type": "display_data"
      },
      {
       "javascript": [
        "$(\"#a3a76631b-2335-4bd4-9ee9-2909e660d00d > .running-part\").css(\"width\", \"0.500000%\")"
       ],
       "metadata": {},
       "output_type": "display_data"
      },
      {
       "javascript": [
        "$(\"#a3a76631b-2335-4bd4-9ee9-2909e660d00d > .text > .main\").text(\"65/200 (32%) in 13.4 s, 0.20 s last iter; eta 28+-7 s\")"
       ],
       "metadata": {},
       "output_type": "display_data"
      },
      {
       "javascript": [
        "$(\"#a3a76631b-2335-4bd4-9ee9-2909e660d00d > .text > .extra\").text(\"|||| Perplexity: 459.255763506; Topics_left: 150\")"
       ],
       "metadata": {},
       "output_type": "display_data"
      },
      {
       "javascript": [
        "$(\"#a3a76631b-2335-4bd4-9ee9-2909e660d00d > .completed-part\").css(\"width\", \"33.000000%\")"
       ],
       "metadata": {},
       "output_type": "display_data"
      },
      {
       "javascript": [
        "$(\"#a3a76631b-2335-4bd4-9ee9-2909e660d00d > .running-part\").css(\"width\", \"0.500000%\")"
       ],
       "metadata": {},
       "output_type": "display_data"
      },
      {
       "javascript": [
        "$(\"#a3a76631b-2335-4bd4-9ee9-2909e660d00d > .text > .main\").text(\"66/200 (33%) in 13.6 s, 0.20 s last iter; eta 28+-7 s\")"
       ],
       "metadata": {},
       "output_type": "display_data"
      },
      {
       "javascript": [
        "$(\"#a3a76631b-2335-4bd4-9ee9-2909e660d00d > .text > .extra\").text(\"|||| Perplexity: 458.973536586; Topics_left: 150\")"
       ],
       "metadata": {},
       "output_type": "display_data"
      },
      {
       "javascript": [
        "$(\"#a3a76631b-2335-4bd4-9ee9-2909e660d00d > .completed-part\").css(\"width\", \"33.500000%\")"
       ],
       "metadata": {},
       "output_type": "display_data"
      },
      {
       "javascript": [
        "$(\"#a3a76631b-2335-4bd4-9ee9-2909e660d00d > .running-part\").css(\"width\", \"0.500000%\")"
       ],
       "metadata": {},
       "output_type": "display_data"
      },
      {
       "javascript": [
        "$(\"#a3a76631b-2335-4bd4-9ee9-2909e660d00d > .text > .main\").text(\"67/200 (33%) in 13.8 s, 0.20 s last iter; eta 27+-7 s\")"
       ],
       "metadata": {},
       "output_type": "display_data"
      },
      {
       "javascript": [
        "$(\"#a3a76631b-2335-4bd4-9ee9-2909e660d00d > .text > .extra\").text(\"|||| Perplexity: 458.703271697; Topics_left: 150\")"
       ],
       "metadata": {},
       "output_type": "display_data"
      },
      {
       "javascript": [
        "$(\"#a3a76631b-2335-4bd4-9ee9-2909e660d00d > .completed-part\").css(\"width\", \"34.000000%\")"
       ],
       "metadata": {},
       "output_type": "display_data"
      },
      {
       "javascript": [
        "$(\"#a3a76631b-2335-4bd4-9ee9-2909e660d00d > .running-part\").css(\"width\", \"0.500000%\")"
       ],
       "metadata": {},
       "output_type": "display_data"
      },
      {
       "javascript": [
        "$(\"#a3a76631b-2335-4bd4-9ee9-2909e660d00d > .text > .main\").text(\"68/200 (34%) in 14.0 s, 0.20 s last iter; eta 27+-7 s\")"
       ],
       "metadata": {},
       "output_type": "display_data"
      },
      {
       "javascript": [
        "$(\"#a3a76631b-2335-4bd4-9ee9-2909e660d00d > .text > .extra\").text(\"|||| Perplexity: 458.463099079; Topics_left: 150\")"
       ],
       "metadata": {},
       "output_type": "display_data"
      },
      {
       "javascript": [
        "$(\"#a3a76631b-2335-4bd4-9ee9-2909e660d00d > .completed-part\").css(\"width\", \"34.500000%\")"
       ],
       "metadata": {},
       "output_type": "display_data"
      },
      {
       "javascript": [
        "$(\"#a3a76631b-2335-4bd4-9ee9-2909e660d00d > .running-part\").css(\"width\", \"0.500000%\")"
       ],
       "metadata": {},
       "output_type": "display_data"
      },
      {
       "javascript": [
        "$(\"#a3a76631b-2335-4bd4-9ee9-2909e660d00d > .text > .main\").text(\"69/200 (34%) in 14.2 s, 0.20 s last iter; eta 27+-7 s\")"
       ],
       "metadata": {},
       "output_type": "display_data"
      },
      {
       "javascript": [
        "$(\"#a3a76631b-2335-4bd4-9ee9-2909e660d00d > .text > .extra\").text(\"|||| Perplexity: 458.220505971; Topics_left: 150\")"
       ],
       "metadata": {},
       "output_type": "display_data"
      },
      {
       "javascript": [
        "$(\"#a3a76631b-2335-4bd4-9ee9-2909e660d00d > .completed-part\").css(\"width\", \"35.000000%\")"
       ],
       "metadata": {},
       "output_type": "display_data"
      },
      {
       "javascript": [
        "$(\"#a3a76631b-2335-4bd4-9ee9-2909e660d00d > .running-part\").css(\"width\", \"0.500000%\")"
       ],
       "metadata": {},
       "output_type": "display_data"
      },
      {
       "javascript": [
        "$(\"#a3a76631b-2335-4bd4-9ee9-2909e660d00d > .text > .main\").text(\"70/200 (35%) in 14.4 s, 0.20 s last iter; eta 27+-7 s\")"
       ],
       "metadata": {},
       "output_type": "display_data"
      },
      {
       "javascript": [
        "$(\"#a3a76631b-2335-4bd4-9ee9-2909e660d00d > .text > .extra\").text(\"|||| Perplexity: 457.995219546; Topics_left: 150\")"
       ],
       "metadata": {},
       "output_type": "display_data"
      },
      {
       "javascript": [
        "$(\"#a3a76631b-2335-4bd4-9ee9-2909e660d00d > .completed-part\").css(\"width\", \"35.500000%\")"
       ],
       "metadata": {},
       "output_type": "display_data"
      },
      {
       "javascript": [
        "$(\"#a3a76631b-2335-4bd4-9ee9-2909e660d00d > .running-part\").css(\"width\", \"0.500000%\")"
       ],
       "metadata": {},
       "output_type": "display_data"
      },
      {
       "javascript": [
        "$(\"#a3a76631b-2335-4bd4-9ee9-2909e660d00d > .text > .main\").text(\"71/200 (35%) in 14.6 s, 0.20 s last iter; eta 27+-7 s\")"
       ],
       "metadata": {},
       "output_type": "display_data"
      },
      {
       "javascript": [
        "$(\"#a3a76631b-2335-4bd4-9ee9-2909e660d00d > .text > .extra\").text(\"|||| Perplexity: 457.778311089; Topics_left: 150\")"
       ],
       "metadata": {},
       "output_type": "display_data"
      },
      {
       "javascript": [
        "$(\"#a3a76631b-2335-4bd4-9ee9-2909e660d00d > .completed-part\").css(\"width\", \"36.000000%\")"
       ],
       "metadata": {},
       "output_type": "display_data"
      },
      {
       "javascript": [
        "$(\"#a3a76631b-2335-4bd4-9ee9-2909e660d00d > .running-part\").css(\"width\", \"0.500000%\")"
       ],
       "metadata": {},
       "output_type": "display_data"
      },
      {
       "javascript": [
        "$(\"#a3a76631b-2335-4bd4-9ee9-2909e660d00d > .text > .main\").text(\"72/200 (36%) in 14.8 s, 0.20 s last iter; eta 26+-6 s\")"
       ],
       "metadata": {},
       "output_type": "display_data"
      },
      {
       "javascript": [
        "$(\"#a3a76631b-2335-4bd4-9ee9-2909e660d00d > .text > .extra\").text(\"|||| Perplexity: 457.576761055; Topics_left: 150\")"
       ],
       "metadata": {},
       "output_type": "display_data"
      },
      {
       "javascript": [
        "$(\"#a3a76631b-2335-4bd4-9ee9-2909e660d00d > .completed-part\").css(\"width\", \"36.500000%\")"
       ],
       "metadata": {},
       "output_type": "display_data"
      },
      {
       "javascript": [
        "$(\"#a3a76631b-2335-4bd4-9ee9-2909e660d00d > .running-part\").css(\"width\", \"0.500000%\")"
       ],
       "metadata": {},
       "output_type": "display_data"
      },
      {
       "javascript": [
        "$(\"#a3a76631b-2335-4bd4-9ee9-2909e660d00d > .text > .main\").text(\"73/200 (36%) in 15.0 s, 0.20 s last iter; eta 26+-6 s\")"
       ],
       "metadata": {},
       "output_type": "display_data"
      },
      {
       "javascript": [
        "$(\"#a3a76631b-2335-4bd4-9ee9-2909e660d00d > .text > .extra\").text(\"|||| Perplexity: 457.378794388; Topics_left: 150\")"
       ],
       "metadata": {},
       "output_type": "display_data"
      },
      {
       "javascript": [
        "$(\"#a3a76631b-2335-4bd4-9ee9-2909e660d00d > .completed-part\").css(\"width\", \"37.000000%\")"
       ],
       "metadata": {},
       "output_type": "display_data"
      },
      {
       "javascript": [
        "$(\"#a3a76631b-2335-4bd4-9ee9-2909e660d00d > .running-part\").css(\"width\", \"0.500000%\")"
       ],
       "metadata": {},
       "output_type": "display_data"
      },
      {
       "javascript": [
        "$(\"#a3a76631b-2335-4bd4-9ee9-2909e660d00d > .text > .main\").text(\"74/200 (37%) in 15.2 s, 0.20 s last iter; eta 26+-6 s\")"
       ],
       "metadata": {},
       "output_type": "display_data"
      },
      {
       "javascript": [
        "$(\"#a3a76631b-2335-4bd4-9ee9-2909e660d00d > .text > .extra\").text(\"|||| Perplexity: 457.190440188; Topics_left: 150\")"
       ],
       "metadata": {},
       "output_type": "display_data"
      },
      {
       "javascript": [
        "$(\"#a3a76631b-2335-4bd4-9ee9-2909e660d00d > .completed-part\").css(\"width\", \"37.500000%\")"
       ],
       "metadata": {},
       "output_type": "display_data"
      },
      {
       "javascript": [
        "$(\"#a3a76631b-2335-4bd4-9ee9-2909e660d00d > .running-part\").css(\"width\", \"0.500000%\")"
       ],
       "metadata": {},
       "output_type": "display_data"
      },
      {
       "javascript": [
        "$(\"#a3a76631b-2335-4bd4-9ee9-2909e660d00d > .text > .main\").text(\"75/200 (37%) in 15.4 s, 0.20 s last iter; eta 26+-6 s\")"
       ],
       "metadata": {},
       "output_type": "display_data"
      },
      {
       "javascript": [
        "$(\"#a3a76631b-2335-4bd4-9ee9-2909e660d00d > .text > .extra\").text(\"|||| Perplexity: 457.024384416; Topics_left: 150\")"
       ],
       "metadata": {},
       "output_type": "display_data"
      },
      {
       "javascript": [
        "$(\"#a3a76631b-2335-4bd4-9ee9-2909e660d00d > .completed-part\").css(\"width\", \"38.000000%\")"
       ],
       "metadata": {},
       "output_type": "display_data"
      },
      {
       "javascript": [
        "$(\"#a3a76631b-2335-4bd4-9ee9-2909e660d00d > .running-part\").css(\"width\", \"0.500000%\")"
       ],
       "metadata": {},
       "output_type": "display_data"
      },
      {
       "javascript": [
        "$(\"#a3a76631b-2335-4bd4-9ee9-2909e660d00d > .text > .main\").text(\"76/200 (38%) in 15.6 s, 0.23 s last iter; eta 26+-6 s\")"
       ],
       "metadata": {},
       "output_type": "display_data"
      },
      {
       "javascript": [
        "$(\"#a3a76631b-2335-4bd4-9ee9-2909e660d00d > .text > .extra\").text(\"|||| Perplexity: 456.826974041; Topics_left: 150\")"
       ],
       "metadata": {},
       "output_type": "display_data"
      },
      {
       "javascript": [
        "$(\"#a3a76631b-2335-4bd4-9ee9-2909e660d00d > .completed-part\").css(\"width\", \"38.500000%\")"
       ],
       "metadata": {},
       "output_type": "display_data"
      },
      {
       "javascript": [
        "$(\"#a3a76631b-2335-4bd4-9ee9-2909e660d00d > .running-part\").css(\"width\", \"0.500000%\")"
       ],
       "metadata": {},
       "output_type": "display_data"
      },
      {
       "javascript": [
        "$(\"#a3a76631b-2335-4bd4-9ee9-2909e660d00d > .text > .main\").text(\"77/200 (38%) in 15.9 s, 0.21 s last iter; eta 25+-6 s\")"
       ],
       "metadata": {},
       "output_type": "display_data"
      },
      {
       "javascript": [
        "$(\"#a3a76631b-2335-4bd4-9ee9-2909e660d00d > .text > .extra\").text(\"|||| Perplexity: 456.655975172; Topics_left: 150\")"
       ],
       "metadata": {},
       "output_type": "display_data"
      },
      {
       "javascript": [
        "$(\"#a3a76631b-2335-4bd4-9ee9-2909e660d00d > .completed-part\").css(\"width\", \"39.000000%\")"
       ],
       "metadata": {},
       "output_type": "display_data"
      },
      {
       "javascript": [
        "$(\"#a3a76631b-2335-4bd4-9ee9-2909e660d00d > .running-part\").css(\"width\", \"0.500000%\")"
       ],
       "metadata": {},
       "output_type": "display_data"
      },
      {
       "javascript": [
        "$(\"#a3a76631b-2335-4bd4-9ee9-2909e660d00d > .text > .main\").text(\"78/200 (39%) in 16.1 s, 0.25 s last iter; eta 25+-6 s\")"
       ],
       "metadata": {},
       "output_type": "display_data"
      },
      {
       "javascript": [
        "$(\"#a3a76631b-2335-4bd4-9ee9-2909e660d00d > .text > .extra\").text(\"|||| Perplexity: 456.488845215; Topics_left: 150\")"
       ],
       "metadata": {},
       "output_type": "display_data"
      },
      {
       "javascript": [
        "$(\"#a3a76631b-2335-4bd4-9ee9-2909e660d00d > .completed-part\").css(\"width\", \"39.500000%\")"
       ],
       "metadata": {},
       "output_type": "display_data"
      },
      {
       "javascript": [
        "$(\"#a3a76631b-2335-4bd4-9ee9-2909e660d00d > .running-part\").css(\"width\", \"0.500000%\")"
       ],
       "metadata": {},
       "output_type": "display_data"
      },
      {
       "javascript": [
        "$(\"#a3a76631b-2335-4bd4-9ee9-2909e660d00d > .text > .main\").text(\"79/200 (39%) in 16.3 s, 0.20 s last iter; eta 25+-6 s\")"
       ],
       "metadata": {},
       "output_type": "display_data"
      },
      {
       "javascript": [
        "$(\"#a3a76631b-2335-4bd4-9ee9-2909e660d00d > .text > .extra\").text(\"|||| Perplexity: 456.329700507; Topics_left: 150\")"
       ],
       "metadata": {},
       "output_type": "display_data"
      },
      {
       "javascript": [
        "$(\"#a3a76631b-2335-4bd4-9ee9-2909e660d00d > .completed-part\").css(\"width\", \"40.000000%\")"
       ],
       "metadata": {},
       "output_type": "display_data"
      },
      {
       "javascript": [
        "$(\"#a3a76631b-2335-4bd4-9ee9-2909e660d00d > .running-part\").css(\"width\", \"0.500000%\")"
       ],
       "metadata": {},
       "output_type": "display_data"
      },
      {
       "javascript": [
        "$(\"#a3a76631b-2335-4bd4-9ee9-2909e660d00d > .text > .main\").text(\"80/200 (40%) in 16.5 s, 0.20 s last iter; eta 25+-6 s\")"
       ],
       "metadata": {},
       "output_type": "display_data"
      },
      {
       "javascript": [
        "$(\"#a3a76631b-2335-4bd4-9ee9-2909e660d00d > .text > .extra\").text(\"|||| Perplexity: 456.200396677; Topics_left: 150\")"
       ],
       "metadata": {},
       "output_type": "display_data"
      },
      {
       "javascript": [
        "$(\"#a3a76631b-2335-4bd4-9ee9-2909e660d00d > .completed-part\").css(\"width\", \"40.500000%\")"
       ],
       "metadata": {},
       "output_type": "display_data"
      },
      {
       "javascript": [
        "$(\"#a3a76631b-2335-4bd4-9ee9-2909e660d00d > .running-part\").css(\"width\", \"0.500000%\")"
       ],
       "metadata": {},
       "output_type": "display_data"
      },
      {
       "javascript": [
        "$(\"#a3a76631b-2335-4bd4-9ee9-2909e660d00d > .text > .main\").text(\"81/200 (40%) in 16.7 s, 0.20 s last iter; eta 25+-6 s\")"
       ],
       "metadata": {},
       "output_type": "display_data"
      },
      {
       "javascript": [
        "$(\"#a3a76631b-2335-4bd4-9ee9-2909e660d00d > .text > .extra\").text(\"|||| Perplexity: 456.029632347; Topics_left: 150\")"
       ],
       "metadata": {},
       "output_type": "display_data"
      },
      {
       "javascript": [
        "$(\"#a3a76631b-2335-4bd4-9ee9-2909e660d00d > .completed-part\").css(\"width\", \"41.000000%\")"
       ],
       "metadata": {},
       "output_type": "display_data"
      },
      {
       "javascript": [
        "$(\"#a3a76631b-2335-4bd4-9ee9-2909e660d00d > .running-part\").css(\"width\", \"0.500000%\")"
       ],
       "metadata": {},
       "output_type": "display_data"
      },
      {
       "javascript": [
        "$(\"#a3a76631b-2335-4bd4-9ee9-2909e660d00d > .text > .main\").text(\"82/200 (41%) in 16.9 s, 0.20 s last iter; eta 24+-6 s\")"
       ],
       "metadata": {},
       "output_type": "display_data"
      },
      {
       "javascript": [
        "$(\"#a3a76631b-2335-4bd4-9ee9-2909e660d00d > .text > .extra\").text(\"|||| Perplexity: 455.869381147; Topics_left: 150\")"
       ],
       "metadata": {},
       "output_type": "display_data"
      },
      {
       "javascript": [
        "$(\"#a3a76631b-2335-4bd4-9ee9-2909e660d00d > .completed-part\").css(\"width\", \"41.500000%\")"
       ],
       "metadata": {},
       "output_type": "display_data"
      },
      {
       "javascript": [
        "$(\"#a3a76631b-2335-4bd4-9ee9-2909e660d00d > .running-part\").css(\"width\", \"0.500000%\")"
       ],
       "metadata": {},
       "output_type": "display_data"
      },
      {
       "javascript": [
        "$(\"#a3a76631b-2335-4bd4-9ee9-2909e660d00d > .text > .main\").text(\"83/200 (41%) in 17.1 s, 0.20 s last iter; eta 24+-6 s\")"
       ],
       "metadata": {},
       "output_type": "display_data"
      },
      {
       "javascript": [
        "$(\"#a3a76631b-2335-4bd4-9ee9-2909e660d00d > .text > .extra\").text(\"|||| Perplexity: 455.723114015; Topics_left: 150\")"
       ],
       "metadata": {},
       "output_type": "display_data"
      },
      {
       "javascript": [
        "$(\"#a3a76631b-2335-4bd4-9ee9-2909e660d00d > .completed-part\").css(\"width\", \"42.000000%\")"
       ],
       "metadata": {},
       "output_type": "display_data"
      },
      {
       "javascript": [
        "$(\"#a3a76631b-2335-4bd4-9ee9-2909e660d00d > .running-part\").css(\"width\", \"0.500000%\")"
       ],
       "metadata": {},
       "output_type": "display_data"
      },
      {
       "javascript": [
        "$(\"#a3a76631b-2335-4bd4-9ee9-2909e660d00d > .text > .main\").text(\"84/200 (42%) in 17.3 s, 0.20 s last iter; eta 24+-5 s\")"
       ],
       "metadata": {},
       "output_type": "display_data"
      },
      {
       "javascript": [
        "$(\"#a3a76631b-2335-4bd4-9ee9-2909e660d00d > .text > .extra\").text(\"|||| Perplexity: 455.588285909; Topics_left: 150\")"
       ],
       "metadata": {},
       "output_type": "display_data"
      },
      {
       "javascript": [
        "$(\"#a3a76631b-2335-4bd4-9ee9-2909e660d00d > .completed-part\").css(\"width\", \"42.500000%\")"
       ],
       "metadata": {},
       "output_type": "display_data"
      },
      {
       "javascript": [
        "$(\"#a3a76631b-2335-4bd4-9ee9-2909e660d00d > .running-part\").css(\"width\", \"0.500000%\")"
       ],
       "metadata": {},
       "output_type": "display_data"
      },
      {
       "javascript": [
        "$(\"#a3a76631b-2335-4bd4-9ee9-2909e660d00d > .text > .main\").text(\"85/200 (42%) in 17.5 s, 0.20 s last iter; eta 24+-5 s\")"
       ],
       "metadata": {},
       "output_type": "display_data"
      },
      {
       "javascript": [
        "$(\"#a3a76631b-2335-4bd4-9ee9-2909e660d00d > .text > .extra\").text(\"|||| Perplexity: 455.459192163; Topics_left: 150\")"
       ],
       "metadata": {},
       "output_type": "display_data"
      },
      {
       "javascript": [
        "$(\"#a3a76631b-2335-4bd4-9ee9-2909e660d00d > .completed-part\").css(\"width\", \"43.000000%\")"
       ],
       "metadata": {},
       "output_type": "display_data"
      },
      {
       "javascript": [
        "$(\"#a3a76631b-2335-4bd4-9ee9-2909e660d00d > .running-part\").css(\"width\", \"0.500000%\")"
       ],
       "metadata": {},
       "output_type": "display_data"
      },
      {
       "javascript": [
        "$(\"#a3a76631b-2335-4bd4-9ee9-2909e660d00d > .text > .main\").text(\"86/200 (43%) in 17.7 s, 0.20 s last iter; eta 23+-5 s\")"
       ],
       "metadata": {},
       "output_type": "display_data"
      },
      {
       "javascript": [
        "$(\"#a3a76631b-2335-4bd4-9ee9-2909e660d00d > .text > .extra\").text(\"|||| Perplexity: 455.324758409; Topics_left: 150\")"
       ],
       "metadata": {},
       "output_type": "display_data"
      },
      {
       "javascript": [
        "$(\"#a3a76631b-2335-4bd4-9ee9-2909e660d00d > .completed-part\").css(\"width\", \"43.500000%\")"
       ],
       "metadata": {},
       "output_type": "display_data"
      },
      {
       "javascript": [
        "$(\"#a3a76631b-2335-4bd4-9ee9-2909e660d00d > .running-part\").css(\"width\", \"0.500000%\")"
       ],
       "metadata": {},
       "output_type": "display_data"
      },
      {
       "javascript": [
        "$(\"#a3a76631b-2335-4bd4-9ee9-2909e660d00d > .text > .main\").text(\"87/200 (43%) in 17.9 s, 0.20 s last iter; eta 23+-5 s\")"
       ],
       "metadata": {},
       "output_type": "display_data"
      },
      {
       "javascript": [
        "$(\"#a3a76631b-2335-4bd4-9ee9-2909e660d00d > .text > .extra\").text(\"|||| Perplexity: 455.214710435; Topics_left: 150\")"
       ],
       "metadata": {},
       "output_type": "display_data"
      },
      {
       "javascript": [
        "$(\"#a3a76631b-2335-4bd4-9ee9-2909e660d00d > .completed-part\").css(\"width\", \"44.000000%\")"
       ],
       "metadata": {},
       "output_type": "display_data"
      },
      {
       "javascript": [
        "$(\"#a3a76631b-2335-4bd4-9ee9-2909e660d00d > .running-part\").css(\"width\", \"0.500000%\")"
       ],
       "metadata": {},
       "output_type": "display_data"
      },
      {
       "javascript": [
        "$(\"#a3a76631b-2335-4bd4-9ee9-2909e660d00d > .text > .main\").text(\"88/200 (44%) in 18.1 s, 0.20 s last iter; eta 23+-5 s\")"
       ],
       "metadata": {},
       "output_type": "display_data"
      },
      {
       "javascript": [
        "$(\"#a3a76631b-2335-4bd4-9ee9-2909e660d00d > .text > .extra\").text(\"|||| Perplexity: 455.086670851; Topics_left: 150\")"
       ],
       "metadata": {},
       "output_type": "display_data"
      },
      {
       "javascript": [
        "$(\"#a3a76631b-2335-4bd4-9ee9-2909e660d00d > .completed-part\").css(\"width\", \"44.500000%\")"
       ],
       "metadata": {},
       "output_type": "display_data"
      },
      {
       "javascript": [
        "$(\"#a3a76631b-2335-4bd4-9ee9-2909e660d00d > .running-part\").css(\"width\", \"0.500000%\")"
       ],
       "metadata": {},
       "output_type": "display_data"
      },
      {
       "javascript": [
        "$(\"#a3a76631b-2335-4bd4-9ee9-2909e660d00d > .text > .main\").text(\"89/200 (44%) in 18.3 s, 0.20 s last iter; eta 23+-5 s\")"
       ],
       "metadata": {},
       "output_type": "display_data"
      },
      {
       "javascript": [
        "$(\"#a3a76631b-2335-4bd4-9ee9-2909e660d00d > .text > .extra\").text(\"|||| Perplexity: 454.967831771; Topics_left: 150\")"
       ],
       "metadata": {},
       "output_type": "display_data"
      },
      {
       "javascript": [
        "$(\"#a3a76631b-2335-4bd4-9ee9-2909e660d00d > .completed-part\").css(\"width\", \"45.000000%\")"
       ],
       "metadata": {},
       "output_type": "display_data"
      },
      {
       "javascript": [
        "$(\"#a3a76631b-2335-4bd4-9ee9-2909e660d00d > .running-part\").css(\"width\", \"0.500000%\")"
       ],
       "metadata": {},
       "output_type": "display_data"
      },
      {
       "javascript": [
        "$(\"#a3a76631b-2335-4bd4-9ee9-2909e660d00d > .text > .main\").text(\"90/200 (45%) in 18.5 s, 0.20 s last iter; eta 23+-5 s\")"
       ],
       "metadata": {},
       "output_type": "display_data"
      },
      {
       "javascript": [
        "$(\"#a3a76631b-2335-4bd4-9ee9-2909e660d00d > .text > .extra\").text(\"|||| Perplexity: 454.852499052; Topics_left: 150\")"
       ],
       "metadata": {},
       "output_type": "display_data"
      },
      {
       "javascript": [
        "$(\"#a3a76631b-2335-4bd4-9ee9-2909e660d00d > .completed-part\").css(\"width\", \"45.500000%\")"
       ],
       "metadata": {},
       "output_type": "display_data"
      },
      {
       "javascript": [
        "$(\"#a3a76631b-2335-4bd4-9ee9-2909e660d00d > .running-part\").css(\"width\", \"0.500000%\")"
       ],
       "metadata": {},
       "output_type": "display_data"
      },
      {
       "javascript": [
        "$(\"#a3a76631b-2335-4bd4-9ee9-2909e660d00d > .text > .main\").text(\"91/200 (45%) in 18.7 s, 0.20 s last iter; eta 22+-5 s\")"
       ],
       "metadata": {},
       "output_type": "display_data"
      },
      {
       "javascript": [
        "$(\"#a3a76631b-2335-4bd4-9ee9-2909e660d00d > .text > .extra\").text(\"|||| Perplexity: 454.740985904; Topics_left: 150\")"
       ],
       "metadata": {},
       "output_type": "display_data"
      },
      {
       "javascript": [
        "$(\"#a3a76631b-2335-4bd4-9ee9-2909e660d00d > .completed-part\").css(\"width\", \"46.000000%\")"
       ],
       "metadata": {},
       "output_type": "display_data"
      },
      {
       "javascript": [
        "$(\"#a3a76631b-2335-4bd4-9ee9-2909e660d00d > .running-part\").css(\"width\", \"0.500000%\")"
       ],
       "metadata": {},
       "output_type": "display_data"
      },
      {
       "javascript": [
        "$(\"#a3a76631b-2335-4bd4-9ee9-2909e660d00d > .text > .main\").text(\"92/200 (46%) in 18.9 s, 0.20 s last iter; eta 22+-5 s\")"
       ],
       "metadata": {},
       "output_type": "display_data"
      },
      {
       "javascript": [
        "$(\"#a3a76631b-2335-4bd4-9ee9-2909e660d00d > .text > .extra\").text(\"|||| Perplexity: 454.624131779; Topics_left: 150\")"
       ],
       "metadata": {},
       "output_type": "display_data"
      },
      {
       "javascript": [
        "$(\"#a3a76631b-2335-4bd4-9ee9-2909e660d00d > .completed-part\").css(\"width\", \"46.500000%\")"
       ],
       "metadata": {},
       "output_type": "display_data"
      },
      {
       "javascript": [
        "$(\"#a3a76631b-2335-4bd4-9ee9-2909e660d00d > .running-part\").css(\"width\", \"0.500000%\")"
       ],
       "metadata": {},
       "output_type": "display_data"
      },
      {
       "javascript": [
        "$(\"#a3a76631b-2335-4bd4-9ee9-2909e660d00d > .text > .main\").text(\"93/200 (46%) in 19.1 s, 0.20 s last iter; eta 22+-5 s\")"
       ],
       "metadata": {},
       "output_type": "display_data"
      },
      {
       "javascript": [
        "$(\"#a3a76631b-2335-4bd4-9ee9-2909e660d00d > .text > .extra\").text(\"|||| Perplexity: 454.532564403; Topics_left: 150\")"
       ],
       "metadata": {},
       "output_type": "display_data"
      },
      {
       "javascript": [
        "$(\"#a3a76631b-2335-4bd4-9ee9-2909e660d00d > .completed-part\").css(\"width\", \"47.000000%\")"
       ],
       "metadata": {},
       "output_type": "display_data"
      },
      {
       "javascript": [
        "$(\"#a3a76631b-2335-4bd4-9ee9-2909e660d00d > .running-part\").css(\"width\", \"0.500000%\")"
       ],
       "metadata": {},
       "output_type": "display_data"
      },
      {
       "javascript": [
        "$(\"#a3a76631b-2335-4bd4-9ee9-2909e660d00d > .text > .main\").text(\"94/200 (47%) in 19.3 s, 0.21 s last iter; eta 22+-5 s\")"
       ],
       "metadata": {},
       "output_type": "display_data"
      },
      {
       "javascript": [
        "$(\"#a3a76631b-2335-4bd4-9ee9-2909e660d00d > .text > .extra\").text(\"|||| Perplexity: 454.445750307; Topics_left: 150\")"
       ],
       "metadata": {},
       "output_type": "display_data"
      },
      {
       "javascript": [
        "$(\"#a3a76631b-2335-4bd4-9ee9-2909e660d00d > .completed-part\").css(\"width\", \"47.500000%\")"
       ],
       "metadata": {},
       "output_type": "display_data"
      },
      {
       "javascript": [
        "$(\"#a3a76631b-2335-4bd4-9ee9-2909e660d00d > .running-part\").css(\"width\", \"0.500000%\")"
       ],
       "metadata": {},
       "output_type": "display_data"
      },
      {
       "javascript": [
        "$(\"#a3a76631b-2335-4bd4-9ee9-2909e660d00d > .text > .main\").text(\"95/200 (47%) in 19.5 s, 0.20 s last iter; eta 22+-5 s\")"
       ],
       "metadata": {},
       "output_type": "display_data"
      },
      {
       "javascript": [
        "$(\"#a3a76631b-2335-4bd4-9ee9-2909e660d00d > .text > .extra\").text(\"|||| Perplexity: 454.385779344; Topics_left: 150\")"
       ],
       "metadata": {},
       "output_type": "display_data"
      },
      {
       "javascript": [
        "$(\"#a3a76631b-2335-4bd4-9ee9-2909e660d00d > .completed-part\").css(\"width\", \"48.000000%\")"
       ],
       "metadata": {},
       "output_type": "display_data"
      },
      {
       "javascript": [
        "$(\"#a3a76631b-2335-4bd4-9ee9-2909e660d00d > .running-part\").css(\"width\", \"0.500000%\")"
       ],
       "metadata": {},
       "output_type": "display_data"
      },
      {
       "javascript": [
        "$(\"#a3a76631b-2335-4bd4-9ee9-2909e660d00d > .text > .main\").text(\"96/200 (48%) in 19.7 s, 0.20 s last iter; eta 21+-5 s\")"
       ],
       "metadata": {},
       "output_type": "display_data"
      },
      {
       "javascript": [
        "$(\"#a3a76631b-2335-4bd4-9ee9-2909e660d00d > .text > .extra\").text(\"|||| Perplexity: 454.274380619; Topics_left: 150\")"
       ],
       "metadata": {},
       "output_type": "display_data"
      },
      {
       "javascript": [
        "$(\"#a3a76631b-2335-4bd4-9ee9-2909e660d00d > .completed-part\").css(\"width\", \"48.500000%\")"
       ],
       "metadata": {},
       "output_type": "display_data"
      },
      {
       "javascript": [
        "$(\"#a3a76631b-2335-4bd4-9ee9-2909e660d00d > .running-part\").css(\"width\", \"0.500000%\")"
       ],
       "metadata": {},
       "output_type": "display_data"
      },
      {
       "javascript": [
        "$(\"#a3a76631b-2335-4bd4-9ee9-2909e660d00d > .text > .main\").text(\"97/200 (48%) in 19.9 s, 0.20 s last iter; eta 21+-5 s\")"
       ],
       "metadata": {},
       "output_type": "display_data"
      },
      {
       "javascript": [
        "$(\"#a3a76631b-2335-4bd4-9ee9-2909e660d00d > .text > .extra\").text(\"|||| Perplexity: 454.159539145; Topics_left: 150\")"
       ],
       "metadata": {},
       "output_type": "display_data"
      },
      {
       "javascript": [
        "$(\"#a3a76631b-2335-4bd4-9ee9-2909e660d00d > .completed-part\").css(\"width\", \"49.000000%\")"
       ],
       "metadata": {},
       "output_type": "display_data"
      },
      {
       "javascript": [
        "$(\"#a3a76631b-2335-4bd4-9ee9-2909e660d00d > .running-part\").css(\"width\", \"0.500000%\")"
       ],
       "metadata": {},
       "output_type": "display_data"
      },
      {
       "javascript": [
        "$(\"#a3a76631b-2335-4bd4-9ee9-2909e660d00d > .text > .main\").text(\"98/200 (49%) in 20.1 s, 0.24 s last iter; eta 21+-4 s\")"
       ],
       "metadata": {},
       "output_type": "display_data"
      },
      {
       "javascript": [
        "$(\"#a3a76631b-2335-4bd4-9ee9-2909e660d00d > .text > .extra\").text(\"|||| Perplexity: 454.094559308; Topics_left: 150\")"
       ],
       "metadata": {},
       "output_type": "display_data"
      },
      {
       "javascript": [
        "$(\"#a3a76631b-2335-4bd4-9ee9-2909e660d00d > .completed-part\").css(\"width\", \"49.500000%\")"
       ],
       "metadata": {},
       "output_type": "display_data"
      },
      {
       "javascript": [
        "$(\"#a3a76631b-2335-4bd4-9ee9-2909e660d00d > .running-part\").css(\"width\", \"0.500000%\")"
       ],
       "metadata": {},
       "output_type": "display_data"
      },
      {
       "javascript": [
        "$(\"#a3a76631b-2335-4bd4-9ee9-2909e660d00d > .text > .main\").text(\"99/200 (49%) in 20.3 s, 0.20 s last iter; eta 21+-4 s\")"
       ],
       "metadata": {},
       "output_type": "display_data"
      },
      {
       "javascript": [
        "$(\"#a3a76631b-2335-4bd4-9ee9-2909e660d00d > .text > .extra\").text(\"|||| Perplexity: 453.995530257; Topics_left: 150\")"
       ],
       "metadata": {},
       "output_type": "display_data"
      },
      {
       "javascript": [
        "$(\"#a3a76631b-2335-4bd4-9ee9-2909e660d00d > .completed-part\").css(\"width\", \"50.000000%\")"
       ],
       "metadata": {},
       "output_type": "display_data"
      },
      {
       "javascript": [
        "$(\"#a3a76631b-2335-4bd4-9ee9-2909e660d00d > .running-part\").css(\"width\", \"0.500000%\")"
       ],
       "metadata": {},
       "output_type": "display_data"
      },
      {
       "javascript": [
        "$(\"#a3a76631b-2335-4bd4-9ee9-2909e660d00d > .text > .main\").text(\"100/200 (50%) in 20.5 s, 0.20 s last iter; eta 20+-4 s\")"
       ],
       "metadata": {},
       "output_type": "display_data"
      },
      {
       "javascript": [
        "$(\"#a3a76631b-2335-4bd4-9ee9-2909e660d00d > .text > .extra\").text(\"|||| Perplexity: 453.927736198; Topics_left: 150\")"
       ],
       "metadata": {},
       "output_type": "display_data"
      },
      {
       "javascript": [
        "$(\"#a3a76631b-2335-4bd4-9ee9-2909e660d00d > .completed-part\").css(\"width\", \"50.500000%\")"
       ],
       "metadata": {},
       "output_type": "display_data"
      },
      {
       "javascript": [
        "$(\"#a3a76631b-2335-4bd4-9ee9-2909e660d00d > .running-part\").css(\"width\", \"0.500000%\")"
       ],
       "metadata": {},
       "output_type": "display_data"
      },
      {
       "javascript": [
        "$(\"#a3a76631b-2335-4bd4-9ee9-2909e660d00d > .text > .main\").text(\"101/200 (50%) in 20.7 s, 0.20 s last iter; eta 20+-1 s\")"
       ],
       "metadata": {},
       "output_type": "display_data"
      },
      {
       "javascript": [
        "$(\"#a3a76631b-2335-4bd4-9ee9-2909e660d00d > .text > .extra\").text(\"|||| Perplexity: 453.846711932; Topics_left: 150\")"
       ],
       "metadata": {},
       "output_type": "display_data"
      },
      {
       "javascript": [
        "$(\"#a3a76631b-2335-4bd4-9ee9-2909e660d00d > .completed-part\").css(\"width\", \"51.000000%\")"
       ],
       "metadata": {},
       "output_type": "display_data"
      },
      {
       "javascript": [
        "$(\"#a3a76631b-2335-4bd4-9ee9-2909e660d00d > .running-part\").css(\"width\", \"0.500000%\")"
       ],
       "metadata": {},
       "output_type": "display_data"
      },
      {
       "javascript": [
        "$(\"#a3a76631b-2335-4bd4-9ee9-2909e660d00d > .text > .main\").text(\"102/200 (51%) in 20.9 s, 0.20 s last iter; eta 20+-1 s\")"
       ],
       "metadata": {},
       "output_type": "display_data"
      },
      {
       "javascript": [
        "$(\"#a3a76631b-2335-4bd4-9ee9-2909e660d00d > .text > .extra\").text(\"|||| Perplexity: 453.789026425; Topics_left: 150\")"
       ],
       "metadata": {},
       "output_type": "display_data"
      },
      {
       "javascript": [
        "$(\"#a3a76631b-2335-4bd4-9ee9-2909e660d00d > .completed-part\").css(\"width\", \"51.500000%\")"
       ],
       "metadata": {},
       "output_type": "display_data"
      },
      {
       "javascript": [
        "$(\"#a3a76631b-2335-4bd4-9ee9-2909e660d00d > .running-part\").css(\"width\", \"0.500000%\")"
       ],
       "metadata": {},
       "output_type": "display_data"
      },
      {
       "javascript": [
        "$(\"#a3a76631b-2335-4bd4-9ee9-2909e660d00d > .text > .main\").text(\"103/200 (51%) in 21.1 s, 0.20 s last iter; eta 19+-1 s\")"
       ],
       "metadata": {},
       "output_type": "display_data"
      },
      {
       "javascript": [
        "$(\"#a3a76631b-2335-4bd4-9ee9-2909e660d00d > .text > .extra\").text(\"|||| Perplexity: 453.703614908; Topics_left: 150\")"
       ],
       "metadata": {},
       "output_type": "display_data"
      },
      {
       "javascript": [
        "$(\"#a3a76631b-2335-4bd4-9ee9-2909e660d00d > .completed-part\").css(\"width\", \"52.000000%\")"
       ],
       "metadata": {},
       "output_type": "display_data"
      },
      {
       "javascript": [
        "$(\"#a3a76631b-2335-4bd4-9ee9-2909e660d00d > .running-part\").css(\"width\", \"0.500000%\")"
       ],
       "metadata": {},
       "output_type": "display_data"
      },
      {
       "javascript": [
        "$(\"#a3a76631b-2335-4bd4-9ee9-2909e660d00d > .text > .main\").text(\"104/200 (52%) in 21.3 s, 0.20 s last iter; eta 19+-1 s\")"
       ],
       "metadata": {},
       "output_type": "display_data"
      },
      {
       "javascript": [
        "$(\"#a3a76631b-2335-4bd4-9ee9-2909e660d00d > .text > .extra\").text(\"|||| Perplexity: 453.616644057; Topics_left: 150\")"
       ],
       "metadata": {},
       "output_type": "display_data"
      },
      {
       "javascript": [
        "$(\"#a3a76631b-2335-4bd4-9ee9-2909e660d00d > .completed-part\").css(\"width\", \"52.500000%\")"
       ],
       "metadata": {},
       "output_type": "display_data"
      },
      {
       "javascript": [
        "$(\"#a3a76631b-2335-4bd4-9ee9-2909e660d00d > .running-part\").css(\"width\", \"0.500000%\")"
       ],
       "metadata": {},
       "output_type": "display_data"
      },
      {
       "javascript": [
        "$(\"#a3a76631b-2335-4bd4-9ee9-2909e660d00d > .text > .main\").text(\"105/200 (52%) in 21.5 s, 0.20 s last iter; eta 19+-1 s\")"
       ],
       "metadata": {},
       "output_type": "display_data"
      },
      {
       "javascript": [
        "$(\"#a3a76631b-2335-4bd4-9ee9-2909e660d00d > .text > .extra\").text(\"|||| Perplexity: 453.540400724; Topics_left: 150\")"
       ],
       "metadata": {},
       "output_type": "display_data"
      },
      {
       "javascript": [
        "$(\"#a3a76631b-2335-4bd4-9ee9-2909e660d00d > .completed-part\").css(\"width\", \"53.000000%\")"
       ],
       "metadata": {},
       "output_type": "display_data"
      },
      {
       "javascript": [
        "$(\"#a3a76631b-2335-4bd4-9ee9-2909e660d00d > .running-part\").css(\"width\", \"0.500000%\")"
       ],
       "metadata": {},
       "output_type": "display_data"
      },
      {
       "javascript": [
        "$(\"#a3a76631b-2335-4bd4-9ee9-2909e660d00d > .text > .main\").text(\"106/200 (53%) in 21.7 s, 0.20 s last iter; eta 19+-1 s\")"
       ],
       "metadata": {},
       "output_type": "display_data"
      },
      {
       "javascript": [
        "$(\"#a3a76631b-2335-4bd4-9ee9-2909e660d00d > .text > .extra\").text(\"|||| Perplexity: 453.480234249; Topics_left: 150\")"
       ],
       "metadata": {},
       "output_type": "display_data"
      },
      {
       "javascript": [
        "$(\"#a3a76631b-2335-4bd4-9ee9-2909e660d00d > .completed-part\").css(\"width\", \"53.500000%\")"
       ],
       "metadata": {},
       "output_type": "display_data"
      },
      {
       "javascript": [
        "$(\"#a3a76631b-2335-4bd4-9ee9-2909e660d00d > .running-part\").css(\"width\", \"0.500000%\")"
       ],
       "metadata": {},
       "output_type": "display_data"
      },
      {
       "javascript": [
        "$(\"#a3a76631b-2335-4bd4-9ee9-2909e660d00d > .text > .main\").text(\"107/200 (53%) in 21.9 s, 0.20 s last iter; eta 19+-1 s\")"
       ],
       "metadata": {},
       "output_type": "display_data"
      },
      {
       "javascript": [
        "$(\"#a3a76631b-2335-4bd4-9ee9-2909e660d00d > .text > .extra\").text(\"|||| Perplexity: 453.429839157; Topics_left: 150\")"
       ],
       "metadata": {},
       "output_type": "display_data"
      },
      {
       "javascript": [
        "$(\"#a3a76631b-2335-4bd4-9ee9-2909e660d00d > .completed-part\").css(\"width\", \"54.000000%\")"
       ],
       "metadata": {},
       "output_type": "display_data"
      },
      {
       "javascript": [
        "$(\"#a3a76631b-2335-4bd4-9ee9-2909e660d00d > .running-part\").css(\"width\", \"0.500000%\")"
       ],
       "metadata": {},
       "output_type": "display_data"
      },
      {
       "javascript": [
        "$(\"#a3a76631b-2335-4bd4-9ee9-2909e660d00d > .text > .main\").text(\"108/200 (54%) in 22.1 s, 0.21 s last iter; eta 18+-1 s\")"
       ],
       "metadata": {},
       "output_type": "display_data"
      },
      {
       "javascript": [
        "$(\"#a3a76631b-2335-4bd4-9ee9-2909e660d00d > .text > .extra\").text(\"|||| Perplexity: 453.383228683; Topics_left: 150\")"
       ],
       "metadata": {},
       "output_type": "display_data"
      },
      {
       "javascript": [
        "$(\"#a3a76631b-2335-4bd4-9ee9-2909e660d00d > .completed-part\").css(\"width\", \"54.500000%\")"
       ],
       "metadata": {},
       "output_type": "display_data"
      },
      {
       "javascript": [
        "$(\"#a3a76631b-2335-4bd4-9ee9-2909e660d00d > .running-part\").css(\"width\", \"0.500000%\")"
       ],
       "metadata": {},
       "output_type": "display_data"
      },
      {
       "javascript": [
        "$(\"#a3a76631b-2335-4bd4-9ee9-2909e660d00d > .text > .main\").text(\"109/200 (54%) in 22.3 s, 0.20 s last iter; eta 18+-1 s\")"
       ],
       "metadata": {},
       "output_type": "display_data"
      },
      {
       "javascript": [
        "$(\"#a3a76631b-2335-4bd4-9ee9-2909e660d00d > .text > .extra\").text(\"|||| Perplexity: 453.329380656; Topics_left: 150\")"
       ],
       "metadata": {},
       "output_type": "display_data"
      },
      {
       "javascript": [
        "$(\"#a3a76631b-2335-4bd4-9ee9-2909e660d00d > .completed-part\").css(\"width\", \"55.000000%\")"
       ],
       "metadata": {},
       "output_type": "display_data"
      },
      {
       "javascript": [
        "$(\"#a3a76631b-2335-4bd4-9ee9-2909e660d00d > .running-part\").css(\"width\", \"0.500000%\")"
       ],
       "metadata": {},
       "output_type": "display_data"
      },
      {
       "javascript": [
        "$(\"#a3a76631b-2335-4bd4-9ee9-2909e660d00d > .text > .main\").text(\"110/200 (55%) in 22.5 s, 0.20 s last iter; eta 18+-1 s\")"
       ],
       "metadata": {},
       "output_type": "display_data"
      },
      {
       "javascript": [
        "$(\"#a3a76631b-2335-4bd4-9ee9-2909e660d00d > .text > .extra\").text(\"|||| Perplexity: 453.260741567; Topics_left: 150\")"
       ],
       "metadata": {},
       "output_type": "display_data"
      },
      {
       "javascript": [
        "$(\"#a3a76631b-2335-4bd4-9ee9-2909e660d00d > .completed-part\").css(\"width\", \"55.500000%\")"
       ],
       "metadata": {},
       "output_type": "display_data"
      },
      {
       "javascript": [
        "$(\"#a3a76631b-2335-4bd4-9ee9-2909e660d00d > .running-part\").css(\"width\", \"0.500000%\")"
       ],
       "metadata": {},
       "output_type": "display_data"
      },
      {
       "javascript": [
        "$(\"#a3a76631b-2335-4bd4-9ee9-2909e660d00d > .text > .main\").text(\"111/200 (55%) in 22.7 s, 0.20 s last iter; eta 18+-1 s\")"
       ],
       "metadata": {},
       "output_type": "display_data"
      },
      {
       "javascript": [
        "$(\"#a3a76631b-2335-4bd4-9ee9-2909e660d00d > .text > .extra\").text(\"|||| Perplexity: 453.210056068; Topics_left: 150\")"
       ],
       "metadata": {},
       "output_type": "display_data"
      },
      {
       "javascript": [
        "$(\"#a3a76631b-2335-4bd4-9ee9-2909e660d00d > .completed-part\").css(\"width\", \"56.000000%\")"
       ],
       "metadata": {},
       "output_type": "display_data"
      },
      {
       "javascript": [
        "$(\"#a3a76631b-2335-4bd4-9ee9-2909e660d00d > .running-part\").css(\"width\", \"0.500000%\")"
       ],
       "metadata": {},
       "output_type": "display_data"
      },
      {
       "javascript": [
        "$(\"#a3a76631b-2335-4bd4-9ee9-2909e660d00d > .text > .main\").text(\"112/200 (56%) in 22.9 s, 0.20 s last iter; eta 18+-1 s\")"
       ],
       "metadata": {},
       "output_type": "display_data"
      },
      {
       "javascript": [
        "$(\"#a3a76631b-2335-4bd4-9ee9-2909e660d00d > .text > .extra\").text(\"|||| Perplexity: 453.171022653; Topics_left: 150\")"
       ],
       "metadata": {},
       "output_type": "display_data"
      },
      {
       "javascript": [
        "$(\"#a3a76631b-2335-4bd4-9ee9-2909e660d00d > .completed-part\").css(\"width\", \"56.500000%\")"
       ],
       "metadata": {},
       "output_type": "display_data"
      },
      {
       "javascript": [
        "$(\"#a3a76631b-2335-4bd4-9ee9-2909e660d00d > .running-part\").css(\"width\", \"0.500000%\")"
       ],
       "metadata": {},
       "output_type": "display_data"
      },
      {
       "javascript": [
        "$(\"#a3a76631b-2335-4bd4-9ee9-2909e660d00d > .text > .main\").text(\"113/200 (56%) in 23.1 s, 0.20 s last iter; eta 17+-1 s\")"
       ],
       "metadata": {},
       "output_type": "display_data"
      },
      {
       "javascript": [
        "$(\"#a3a76631b-2335-4bd4-9ee9-2909e660d00d > .text > .extra\").text(\"|||| Perplexity: 453.140490793; Topics_left: 150\")"
       ],
       "metadata": {},
       "output_type": "display_data"
      },
      {
       "javascript": [
        "$(\"#a3a76631b-2335-4bd4-9ee9-2909e660d00d > .completed-part\").css(\"width\", \"57.000000%\")"
       ],
       "metadata": {},
       "output_type": "display_data"
      },
      {
       "javascript": [
        "$(\"#a3a76631b-2335-4bd4-9ee9-2909e660d00d > .running-part\").css(\"width\", \"0.500000%\")"
       ],
       "metadata": {},
       "output_type": "display_data"
      },
      {
       "javascript": [
        "$(\"#a3a76631b-2335-4bd4-9ee9-2909e660d00d > .text > .main\").text(\"114/200 (56%) in 23.3 s, 0.20 s last iter; eta 17+-1 s\")"
       ],
       "metadata": {},
       "output_type": "display_data"
      },
      {
       "javascript": [
        "$(\"#a3a76631b-2335-4bd4-9ee9-2909e660d00d > .text > .extra\").text(\"|||| Perplexity: 453.098316143; Topics_left: 150\")"
       ],
       "metadata": {},
       "output_type": "display_data"
      },
      {
       "javascript": [
        "$(\"#a3a76631b-2335-4bd4-9ee9-2909e660d00d > .completed-part\").css(\"width\", \"57.500000%\")"
       ],
       "metadata": {},
       "output_type": "display_data"
      },
      {
       "javascript": [
        "$(\"#a3a76631b-2335-4bd4-9ee9-2909e660d00d > .running-part\").css(\"width\", \"0.500000%\")"
       ],
       "metadata": {},
       "output_type": "display_data"
      },
      {
       "javascript": [
        "$(\"#a3a76631b-2335-4bd4-9ee9-2909e660d00d > .text > .main\").text(\"115/200 (57%) in 23.5 s, 0.20 s last iter; eta 17+-1 s\")"
       ],
       "metadata": {},
       "output_type": "display_data"
      },
      {
       "javascript": [
        "$(\"#a3a76631b-2335-4bd4-9ee9-2909e660d00d > .text > .extra\").text(\"|||| Perplexity: 453.047648807; Topics_left: 150\")"
       ],
       "metadata": {},
       "output_type": "display_data"
      },
      {
       "javascript": [
        "$(\"#a3a76631b-2335-4bd4-9ee9-2909e660d00d > .completed-part\").css(\"width\", \"58.000000%\")"
       ],
       "metadata": {},
       "output_type": "display_data"
      },
      {
       "javascript": [
        "$(\"#a3a76631b-2335-4bd4-9ee9-2909e660d00d > .running-part\").css(\"width\", \"0.500000%\")"
       ],
       "metadata": {},
       "output_type": "display_data"
      },
      {
       "javascript": [
        "$(\"#a3a76631b-2335-4bd4-9ee9-2909e660d00d > .text > .main\").text(\"116/200 (57%) in 23.7 s, 0.20 s last iter; eta 17+-1 s\")"
       ],
       "metadata": {},
       "output_type": "display_data"
      },
      {
       "javascript": [
        "$(\"#a3a76631b-2335-4bd4-9ee9-2909e660d00d > .text > .extra\").text(\"|||| Perplexity: 452.990379511; Topics_left: 150\")"
       ],
       "metadata": {},
       "output_type": "display_data"
      },
      {
       "javascript": [
        "$(\"#a3a76631b-2335-4bd4-9ee9-2909e660d00d > .completed-part\").css(\"width\", \"58.500000%\")"
       ],
       "metadata": {},
       "output_type": "display_data"
      },
      {
       "javascript": [
        "$(\"#a3a76631b-2335-4bd4-9ee9-2909e660d00d > .running-part\").css(\"width\", \"0.500000%\")"
       ],
       "metadata": {},
       "output_type": "display_data"
      },
      {
       "javascript": [
        "$(\"#a3a76631b-2335-4bd4-9ee9-2909e660d00d > .text > .main\").text(\"117/200 (58%) in 23.9 s, 0.20 s last iter; eta 17+-1 s\")"
       ],
       "metadata": {},
       "output_type": "display_data"
      },
      {
       "javascript": [
        "$(\"#a3a76631b-2335-4bd4-9ee9-2909e660d00d > .text > .extra\").text(\"|||| Perplexity: 452.946645749; Topics_left: 150\")"
       ],
       "metadata": {},
       "output_type": "display_data"
      },
      {
       "javascript": [
        "$(\"#a3a76631b-2335-4bd4-9ee9-2909e660d00d > .completed-part\").css(\"width\", \"59.000000%\")"
       ],
       "metadata": {},
       "output_type": "display_data"
      },
      {
       "javascript": [
        "$(\"#a3a76631b-2335-4bd4-9ee9-2909e660d00d > .running-part\").css(\"width\", \"0.500000%\")"
       ],
       "metadata": {},
       "output_type": "display_data"
      },
      {
       "javascript": [
        "$(\"#a3a76631b-2335-4bd4-9ee9-2909e660d00d > .text > .main\").text(\"118/200 (59%) in 24.1 s, 0.20 s last iter; eta 16+-1 s\")"
       ],
       "metadata": {},
       "output_type": "display_data"
      },
      {
       "javascript": [
        "$(\"#a3a76631b-2335-4bd4-9ee9-2909e660d00d > .text > .extra\").text(\"|||| Perplexity: 452.92462315; Topics_left: 150\")"
       ],
       "metadata": {},
       "output_type": "display_data"
      },
      {
       "javascript": [
        "$(\"#a3a76631b-2335-4bd4-9ee9-2909e660d00d > .completed-part\").css(\"width\", \"59.500000%\")"
       ],
       "metadata": {},
       "output_type": "display_data"
      },
      {
       "javascript": [
        "$(\"#a3a76631b-2335-4bd4-9ee9-2909e660d00d > .running-part\").css(\"width\", \"0.500000%\")"
       ],
       "metadata": {},
       "output_type": "display_data"
      },
      {
       "javascript": [
        "$(\"#a3a76631b-2335-4bd4-9ee9-2909e660d00d > .text > .main\").text(\"119/200 (59%) in 24.3 s, 0.21 s last iter; eta 16+-1 s\")"
       ],
       "metadata": {},
       "output_type": "display_data"
      },
      {
       "javascript": [
        "$(\"#a3a76631b-2335-4bd4-9ee9-2909e660d00d > .text > .extra\").text(\"|||| Perplexity: 452.890647527; Topics_left: 150\")"
       ],
       "metadata": {},
       "output_type": "display_data"
      },
      {
       "javascript": [
        "$(\"#a3a76631b-2335-4bd4-9ee9-2909e660d00d > .completed-part\").css(\"width\", \"60.000000%\")"
       ],
       "metadata": {},
       "output_type": "display_data"
      },
      {
       "javascript": [
        "$(\"#a3a76631b-2335-4bd4-9ee9-2909e660d00d > .running-part\").css(\"width\", \"0.500000%\")"
       ],
       "metadata": {},
       "output_type": "display_data"
      },
      {
       "javascript": [
        "$(\"#a3a76631b-2335-4bd4-9ee9-2909e660d00d > .text > .main\").text(\"120/200 (60%) in 24.5 s, 0.20 s last iter; eta 16+-1 s\")"
       ],
       "metadata": {},
       "output_type": "display_data"
      },
      {
       "javascript": [
        "$(\"#a3a76631b-2335-4bd4-9ee9-2909e660d00d > .text > .extra\").text(\"|||| Perplexity: 452.853528927; Topics_left: 150\")"
       ],
       "metadata": {},
       "output_type": "display_data"
      },
      {
       "javascript": [
        "$(\"#a3a76631b-2335-4bd4-9ee9-2909e660d00d > .completed-part\").css(\"width\", \"60.500000%\")"
       ],
       "metadata": {},
       "output_type": "display_data"
      },
      {
       "javascript": [
        "$(\"#a3a76631b-2335-4bd4-9ee9-2909e660d00d > .running-part\").css(\"width\", \"0.500000%\")"
       ],
       "metadata": {},
       "output_type": "display_data"
      },
      {
       "javascript": [
        "$(\"#a3a76631b-2335-4bd4-9ee9-2909e660d00d > .text > .main\").text(\"121/200 (60%) in 24.7 s, 0.20 s last iter; eta 16+-1 s\")"
       ],
       "metadata": {},
       "output_type": "display_data"
      },
      {
       "javascript": [
        "$(\"#a3a76631b-2335-4bd4-9ee9-2909e660d00d > .text > .extra\").text(\"|||| Perplexity: 452.818300528; Topics_left: 150\")"
       ],
       "metadata": {},
       "output_type": "display_data"
      },
      {
       "javascript": [
        "$(\"#a3a76631b-2335-4bd4-9ee9-2909e660d00d > .completed-part\").css(\"width\", \"61.000000%\")"
       ],
       "metadata": {},
       "output_type": "display_data"
      },
      {
       "javascript": [
        "$(\"#a3a76631b-2335-4bd4-9ee9-2909e660d00d > .running-part\").css(\"width\", \"0.500000%\")"
       ],
       "metadata": {},
       "output_type": "display_data"
      },
      {
       "javascript": [
        "$(\"#a3a76631b-2335-4bd4-9ee9-2909e660d00d > .text > .main\").text(\"122/200 (61%) in 24.9 s, 0.20 s last iter; eta 16+-1 s\")"
       ],
       "metadata": {},
       "output_type": "display_data"
      },
      {
       "javascript": [
        "$(\"#a3a76631b-2335-4bd4-9ee9-2909e660d00d > .text > .extra\").text(\"|||| Perplexity: 452.789993978; Topics_left: 150\")"
       ],
       "metadata": {},
       "output_type": "display_data"
      },
      {
       "javascript": [
        "$(\"#a3a76631b-2335-4bd4-9ee9-2909e660d00d > .completed-part\").css(\"width\", \"61.500000%\")"
       ],
       "metadata": {},
       "output_type": "display_data"
      },
      {
       "javascript": [
        "$(\"#a3a76631b-2335-4bd4-9ee9-2909e660d00d > .running-part\").css(\"width\", \"0.500000%\")"
       ],
       "metadata": {},
       "output_type": "display_data"
      },
      {
       "javascript": [
        "$(\"#a3a76631b-2335-4bd4-9ee9-2909e660d00d > .text > .main\").text(\"123/200 (61%) in 25.1 s, 0.20 s last iter; eta 16+-1 s\")"
       ],
       "metadata": {},
       "output_type": "display_data"
      },
      {
       "javascript": [
        "$(\"#a3a76631b-2335-4bd4-9ee9-2909e660d00d > .text > .extra\").text(\"|||| Perplexity: 452.757915361; Topics_left: 150\")"
       ],
       "metadata": {},
       "output_type": "display_data"
      },
      {
       "javascript": [
        "$(\"#a3a76631b-2335-4bd4-9ee9-2909e660d00d > .completed-part\").css(\"width\", \"62.000000%\")"
       ],
       "metadata": {},
       "output_type": "display_data"
      },
      {
       "javascript": [
        "$(\"#a3a76631b-2335-4bd4-9ee9-2909e660d00d > .running-part\").css(\"width\", \"0.500000%\")"
       ],
       "metadata": {},
       "output_type": "display_data"
      },
      {
       "javascript": [
        "$(\"#a3a76631b-2335-4bd4-9ee9-2909e660d00d > .text > .main\").text(\"124/200 (62%) in 25.3 s, 0.20 s last iter; eta 15+-1 s\")"
       ],
       "metadata": {},
       "output_type": "display_data"
      },
      {
       "javascript": [
        "$(\"#a3a76631b-2335-4bd4-9ee9-2909e660d00d > .text > .extra\").text(\"|||| Perplexity: 452.722694399; Topics_left: 150\")"
       ],
       "metadata": {},
       "output_type": "display_data"
      },
      {
       "javascript": [
        "$(\"#a3a76631b-2335-4bd4-9ee9-2909e660d00d > .completed-part\").css(\"width\", \"62.500000%\")"
       ],
       "metadata": {},
       "output_type": "display_data"
      },
      {
       "javascript": [
        "$(\"#a3a76631b-2335-4bd4-9ee9-2909e660d00d > .running-part\").css(\"width\", \"0.500000%\")"
       ],
       "metadata": {},
       "output_type": "display_data"
      },
      {
       "javascript": [
        "$(\"#a3a76631b-2335-4bd4-9ee9-2909e660d00d > .text > .main\").text(\"125/200 (62%) in 25.5 s, 0.20 s last iter; eta 15+-1 s\")"
       ],
       "metadata": {},
       "output_type": "display_data"
      },
      {
       "javascript": [
        "$(\"#a3a76631b-2335-4bd4-9ee9-2909e660d00d > .text > .extra\").text(\"|||| Perplexity: 452.690934989; Topics_left: 150\")"
       ],
       "metadata": {},
       "output_type": "display_data"
      },
      {
       "javascript": [
        "$(\"#a3a76631b-2335-4bd4-9ee9-2909e660d00d > .completed-part\").css(\"width\", \"63.000000%\")"
       ],
       "metadata": {},
       "output_type": "display_data"
      },
      {
       "javascript": [
        "$(\"#a3a76631b-2335-4bd4-9ee9-2909e660d00d > .running-part\").css(\"width\", \"0.500000%\")"
       ],
       "metadata": {},
       "output_type": "display_data"
      },
      {
       "javascript": [
        "$(\"#a3a76631b-2335-4bd4-9ee9-2909e660d00d > .text > .main\").text(\"126/200 (63%) in 25.7 s, 0.20 s last iter; eta 15+-1 s\")"
       ],
       "metadata": {},
       "output_type": "display_data"
      },
      {
       "javascript": [
        "$(\"#a3a76631b-2335-4bd4-9ee9-2909e660d00d > .text > .extra\").text(\"|||| Perplexity: 452.660749891; Topics_left: 150\")"
       ],
       "metadata": {},
       "output_type": "display_data"
      },
      {
       "javascript": [
        "$(\"#a3a76631b-2335-4bd4-9ee9-2909e660d00d > .completed-part\").css(\"width\", \"63.500000%\")"
       ],
       "metadata": {},
       "output_type": "display_data"
      },
      {
       "javascript": [
        "$(\"#a3a76631b-2335-4bd4-9ee9-2909e660d00d > .running-part\").css(\"width\", \"0.500000%\")"
       ],
       "metadata": {},
       "output_type": "display_data"
      },
      {
       "javascript": [
        "$(\"#a3a76631b-2335-4bd4-9ee9-2909e660d00d > .text > .main\").text(\"127/200 (63%) in 25.9 s, 0.20 s last iter; eta 15+-1 s\")"
       ],
       "metadata": {},
       "output_type": "display_data"
      },
      {
       "javascript": [
        "$(\"#a3a76631b-2335-4bd4-9ee9-2909e660d00d > .text > .extra\").text(\"|||| Perplexity: 452.631195601; Topics_left: 150\")"
       ],
       "metadata": {},
       "output_type": "display_data"
      },
      {
       "javascript": [
        "$(\"#a3a76631b-2335-4bd4-9ee9-2909e660d00d > .completed-part\").css(\"width\", \"64.000000%\")"
       ],
       "metadata": {},
       "output_type": "display_data"
      },
      {
       "javascript": [
        "$(\"#a3a76631b-2335-4bd4-9ee9-2909e660d00d > .running-part\").css(\"width\", \"0.500000%\")"
       ],
       "metadata": {},
       "output_type": "display_data"
      },
      {
       "javascript": [
        "$(\"#a3a76631b-2335-4bd4-9ee9-2909e660d00d > .text > .main\").text(\"128/200 (64%) in 26.1 s, 0.20 s last iter; eta 15+-1 s\")"
       ],
       "metadata": {},
       "output_type": "display_data"
      },
      {
       "javascript": [
        "$(\"#a3a76631b-2335-4bd4-9ee9-2909e660d00d > .text > .extra\").text(\"|||| Perplexity: 452.613275321; Topics_left: 150\")"
       ],
       "metadata": {},
       "output_type": "display_data"
      },
      {
       "javascript": [
        "$(\"#a3a76631b-2335-4bd4-9ee9-2909e660d00d > .completed-part\").css(\"width\", \"64.500000%\")"
       ],
       "metadata": {},
       "output_type": "display_data"
      },
      {
       "javascript": [
        "$(\"#a3a76631b-2335-4bd4-9ee9-2909e660d00d > .running-part\").css(\"width\", \"0.500000%\")"
       ],
       "metadata": {},
       "output_type": "display_data"
      },
      {
       "javascript": [
        "$(\"#a3a76631b-2335-4bd4-9ee9-2909e660d00d > .text > .main\").text(\"129/200 (64%) in 26.3 s, 0.20 s last iter; eta 14+-1 s\")"
       ],
       "metadata": {},
       "output_type": "display_data"
      },
      {
       "javascript": [
        "$(\"#a3a76631b-2335-4bd4-9ee9-2909e660d00d > .text > .extra\").text(\"|||| Perplexity: 452.555746589; Topics_left: 150\")"
       ],
       "metadata": {},
       "output_type": "display_data"
      },
      {
       "javascript": [
        "$(\"#a3a76631b-2335-4bd4-9ee9-2909e660d00d > .completed-part\").css(\"width\", \"65.000000%\")"
       ],
       "metadata": {},
       "output_type": "display_data"
      },
      {
       "javascript": [
        "$(\"#a3a76631b-2335-4bd4-9ee9-2909e660d00d > .running-part\").css(\"width\", \"0.500000%\")"
       ],
       "metadata": {},
       "output_type": "display_data"
      },
      {
       "javascript": [
        "$(\"#a3a76631b-2335-4bd4-9ee9-2909e660d00d > .text > .main\").text(\"130/200 (65%) in 26.5 s, 0.20 s last iter; eta 14+-1 s\")"
       ],
       "metadata": {},
       "output_type": "display_data"
      },
      {
       "javascript": [
        "$(\"#a3a76631b-2335-4bd4-9ee9-2909e660d00d > .text > .extra\").text(\"|||| Perplexity: 452.522741601; Topics_left: 150\")"
       ],
       "metadata": {},
       "output_type": "display_data"
      },
      {
       "javascript": [
        "$(\"#a3a76631b-2335-4bd4-9ee9-2909e660d00d > .completed-part\").css(\"width\", \"65.500000%\")"
       ],
       "metadata": {},
       "output_type": "display_data"
      },
      {
       "javascript": [
        "$(\"#a3a76631b-2335-4bd4-9ee9-2909e660d00d > .running-part\").css(\"width\", \"0.500000%\")"
       ],
       "metadata": {},
       "output_type": "display_data"
      },
      {
       "javascript": [
        "$(\"#a3a76631b-2335-4bd4-9ee9-2909e660d00d > .text > .main\").text(\"131/200 (65%) in 26.7 s, 0.20 s last iter; eta 14+-1 s\")"
       ],
       "metadata": {},
       "output_type": "display_data"
      },
      {
       "javascript": [
        "$(\"#a3a76631b-2335-4bd4-9ee9-2909e660d00d > .text > .extra\").text(\"|||| Perplexity: 452.478738696; Topics_left: 150\")"
       ],
       "metadata": {},
       "output_type": "display_data"
      },
      {
       "javascript": [
        "$(\"#a3a76631b-2335-4bd4-9ee9-2909e660d00d > .completed-part\").css(\"width\", \"66.000000%\")"
       ],
       "metadata": {},
       "output_type": "display_data"
      },
      {
       "javascript": [
        "$(\"#a3a76631b-2335-4bd4-9ee9-2909e660d00d > .running-part\").css(\"width\", \"0.500000%\")"
       ],
       "metadata": {},
       "output_type": "display_data"
      },
      {
       "javascript": [
        "$(\"#a3a76631b-2335-4bd4-9ee9-2909e660d00d > .text > .main\").text(\"132/200 (66%) in 26.9 s, 0.20 s last iter; eta 14+-1 s\")"
       ],
       "metadata": {},
       "output_type": "display_data"
      },
      {
       "javascript": [
        "$(\"#a3a76631b-2335-4bd4-9ee9-2909e660d00d > .text > .extra\").text(\"|||| Perplexity: 452.438825475; Topics_left: 150\")"
       ],
       "metadata": {},
       "output_type": "display_data"
      },
      {
       "javascript": [
        "$(\"#a3a76631b-2335-4bd4-9ee9-2909e660d00d > .completed-part\").css(\"width\", \"66.500000%\")"
       ],
       "metadata": {},
       "output_type": "display_data"
      },
      {
       "javascript": [
        "$(\"#a3a76631b-2335-4bd4-9ee9-2909e660d00d > .running-part\").css(\"width\", \"0.500000%\")"
       ],
       "metadata": {},
       "output_type": "display_data"
      },
      {
       "javascript": [
        "$(\"#a3a76631b-2335-4bd4-9ee9-2909e660d00d > .text > .main\").text(\"133/200 (66%) in 27.2 s, 0.20 s last iter; eta 14+-1 s\")"
       ],
       "metadata": {},
       "output_type": "display_data"
      },
      {
       "javascript": [
        "$(\"#a3a76631b-2335-4bd4-9ee9-2909e660d00d > .text > .extra\").text(\"|||| Perplexity: 452.415256329; Topics_left: 150\")"
       ],
       "metadata": {},
       "output_type": "display_data"
      },
      {
       "javascript": [
        "$(\"#a3a76631b-2335-4bd4-9ee9-2909e660d00d > .completed-part\").css(\"width\", \"67.000000%\")"
       ],
       "metadata": {},
       "output_type": "display_data"
      },
      {
       "javascript": [
        "$(\"#a3a76631b-2335-4bd4-9ee9-2909e660d00d > .running-part\").css(\"width\", \"0.500000%\")"
       ],
       "metadata": {},
       "output_type": "display_data"
      },
      {
       "javascript": [
        "$(\"#a3a76631b-2335-4bd4-9ee9-2909e660d00d > .text > .main\").text(\"134/200 (67%) in 27.4 s, 0.20 s last iter; eta 13+-1 s\")"
       ],
       "metadata": {},
       "output_type": "display_data"
      },
      {
       "javascript": [
        "$(\"#a3a76631b-2335-4bd4-9ee9-2909e660d00d > .text > .extra\").text(\"|||| Perplexity: 452.373149178; Topics_left: 150\")"
       ],
       "metadata": {},
       "output_type": "display_data"
      },
      {
       "javascript": [
        "$(\"#a3a76631b-2335-4bd4-9ee9-2909e660d00d > .completed-part\").css(\"width\", \"67.500000%\")"
       ],
       "metadata": {},
       "output_type": "display_data"
      },
      {
       "javascript": [
        "$(\"#a3a76631b-2335-4bd4-9ee9-2909e660d00d > .running-part\").css(\"width\", \"0.500000%\")"
       ],
       "metadata": {},
       "output_type": "display_data"
      },
      {
       "javascript": [
        "$(\"#a3a76631b-2335-4bd4-9ee9-2909e660d00d > .text > .main\").text(\"135/200 (67%) in 27.6 s, 0.20 s last iter; eta 13+-1 s\")"
       ],
       "metadata": {},
       "output_type": "display_data"
      },
      {
       "javascript": [
        "$(\"#a3a76631b-2335-4bd4-9ee9-2909e660d00d > .text > .extra\").text(\"|||| Perplexity: 452.332616892; Topics_left: 150\")"
       ],
       "metadata": {},
       "output_type": "display_data"
      },
      {
       "javascript": [
        "$(\"#a3a76631b-2335-4bd4-9ee9-2909e660d00d > .completed-part\").css(\"width\", \"68.000000%\")"
       ],
       "metadata": {},
       "output_type": "display_data"
      },
      {
       "javascript": [
        "$(\"#a3a76631b-2335-4bd4-9ee9-2909e660d00d > .running-part\").css(\"width\", \"0.500000%\")"
       ],
       "metadata": {},
       "output_type": "display_data"
      },
      {
       "javascript": [
        "$(\"#a3a76631b-2335-4bd4-9ee9-2909e660d00d > .text > .main\").text(\"136/200 (68%) in 27.8 s, 0.20 s last iter; eta 13+-1 s\")"
       ],
       "metadata": {},
       "output_type": "display_data"
      },
      {
       "javascript": [
        "$(\"#a3a76631b-2335-4bd4-9ee9-2909e660d00d > .text > .extra\").text(\"|||| Perplexity: 452.306539899; Topics_left: 150\")"
       ],
       "metadata": {},
       "output_type": "display_data"
      },
      {
       "javascript": [
        "$(\"#a3a76631b-2335-4bd4-9ee9-2909e660d00d > .completed-part\").css(\"width\", \"68.500000%\")"
       ],
       "metadata": {},
       "output_type": "display_data"
      },
      {
       "javascript": [
        "$(\"#a3a76631b-2335-4bd4-9ee9-2909e660d00d > .running-part\").css(\"width\", \"0.500000%\")"
       ],
       "metadata": {},
       "output_type": "display_data"
      },
      {
       "javascript": [
        "$(\"#a3a76631b-2335-4bd4-9ee9-2909e660d00d > .text > .main\").text(\"137/200 (68%) in 28.0 s, 0.20 s last iter; eta 13+-1 s\")"
       ],
       "metadata": {},
       "output_type": "display_data"
      },
      {
       "javascript": [
        "$(\"#a3a76631b-2335-4bd4-9ee9-2909e660d00d > .text > .extra\").text(\"|||| Perplexity: 452.279207797; Topics_left: 150\")"
       ],
       "metadata": {},
       "output_type": "display_data"
      },
      {
       "javascript": [
        "$(\"#a3a76631b-2335-4bd4-9ee9-2909e660d00d > .completed-part\").css(\"width\", \"69.000000%\")"
       ],
       "metadata": {},
       "output_type": "display_data"
      },
      {
       "javascript": [
        "$(\"#a3a76631b-2335-4bd4-9ee9-2909e660d00d > .running-part\").css(\"width\", \"0.500000%\")"
       ],
       "metadata": {},
       "output_type": "display_data"
      },
      {
       "javascript": [
        "$(\"#a3a76631b-2335-4bd4-9ee9-2909e660d00d > .text > .main\").text(\"138/200 (69%) in 28.2 s, 0.25 s last iter; eta 13+-1 s\")"
       ],
       "metadata": {},
       "output_type": "display_data"
      },
      {
       "javascript": [
        "$(\"#a3a76631b-2335-4bd4-9ee9-2909e660d00d > .text > .extra\").text(\"|||| Perplexity: 452.252819749; Topics_left: 150\")"
       ],
       "metadata": {},
       "output_type": "display_data"
      },
      {
       "javascript": [
        "$(\"#a3a76631b-2335-4bd4-9ee9-2909e660d00d > .completed-part\").css(\"width\", \"69.500000%\")"
       ],
       "metadata": {},
       "output_type": "display_data"
      },
      {
       "javascript": [
        "$(\"#a3a76631b-2335-4bd4-9ee9-2909e660d00d > .running-part\").css(\"width\", \"0.500000%\")"
       ],
       "metadata": {},
       "output_type": "display_data"
      },
      {
       "javascript": [
        "$(\"#a3a76631b-2335-4bd4-9ee9-2909e660d00d > .text > .main\").text(\"139/200 (69%) in 28.4 s, 0.20 s last iter; eta 12+-1 s\")"
       ],
       "metadata": {},
       "output_type": "display_data"
      },
      {
       "javascript": [
        "$(\"#a3a76631b-2335-4bd4-9ee9-2909e660d00d > .text > .extra\").text(\"|||| Perplexity: 452.212298245; Topics_left: 150\")"
       ],
       "metadata": {},
       "output_type": "display_data"
      },
      {
       "javascript": [
        "$(\"#a3a76631b-2335-4bd4-9ee9-2909e660d00d > .completed-part\").css(\"width\", \"70.000000%\")"
       ],
       "metadata": {},
       "output_type": "display_data"
      },
      {
       "javascript": [
        "$(\"#a3a76631b-2335-4bd4-9ee9-2909e660d00d > .running-part\").css(\"width\", \"0.500000%\")"
       ],
       "metadata": {},
       "output_type": "display_data"
      },
      {
       "javascript": [
        "$(\"#a3a76631b-2335-4bd4-9ee9-2909e660d00d > .text > .main\").text(\"140/200 (70%) in 28.6 s, 0.20 s last iter; eta 12+-1 s\")"
       ],
       "metadata": {},
       "output_type": "display_data"
      },
      {
       "javascript": [
        "$(\"#a3a76631b-2335-4bd4-9ee9-2909e660d00d > .text > .extra\").text(\"|||| Perplexity: 452.183087319; Topics_left: 150\")"
       ],
       "metadata": {},
       "output_type": "display_data"
      },
      {
       "javascript": [
        "$(\"#a3a76631b-2335-4bd4-9ee9-2909e660d00d > .completed-part\").css(\"width\", \"70.500000%\")"
       ],
       "metadata": {},
       "output_type": "display_data"
      },
      {
       "javascript": [
        "$(\"#a3a76631b-2335-4bd4-9ee9-2909e660d00d > .running-part\").css(\"width\", \"0.500000%\")"
       ],
       "metadata": {},
       "output_type": "display_data"
      },
      {
       "javascript": [
        "$(\"#a3a76631b-2335-4bd4-9ee9-2909e660d00d > .text > .main\").text(\"141/200 (70%) in 28.8 s, 0.20 s last iter; eta 12+-1 s\")"
       ],
       "metadata": {},
       "output_type": "display_data"
      },
      {
       "javascript": [
        "$(\"#a3a76631b-2335-4bd4-9ee9-2909e660d00d > .text > .extra\").text(\"|||| Perplexity: 452.137861221; Topics_left: 150\")"
       ],
       "metadata": {},
       "output_type": "display_data"
      },
      {
       "javascript": [
        "$(\"#a3a76631b-2335-4bd4-9ee9-2909e660d00d > .completed-part\").css(\"width\", \"71.000000%\")"
       ],
       "metadata": {},
       "output_type": "display_data"
      },
      {
       "javascript": [
        "$(\"#a3a76631b-2335-4bd4-9ee9-2909e660d00d > .running-part\").css(\"width\", \"0.500000%\")"
       ],
       "metadata": {},
       "output_type": "display_data"
      },
      {
       "javascript": [
        "$(\"#a3a76631b-2335-4bd4-9ee9-2909e660d00d > .text > .main\").text(\"142/200 (71%) in 29.0 s, 0.20 s last iter; eta 12+-1 s\")"
       ],
       "metadata": {},
       "output_type": "display_data"
      },
      {
       "javascript": [
        "$(\"#a3a76631b-2335-4bd4-9ee9-2909e660d00d > .text > .extra\").text(\"|||| Perplexity: 452.102060435; Topics_left: 150\")"
       ],
       "metadata": {},
       "output_type": "display_data"
      },
      {
       "javascript": [
        "$(\"#a3a76631b-2335-4bd4-9ee9-2909e660d00d > .completed-part\").css(\"width\", \"71.500000%\")"
       ],
       "metadata": {},
       "output_type": "display_data"
      },
      {
       "javascript": [
        "$(\"#a3a76631b-2335-4bd4-9ee9-2909e660d00d > .running-part\").css(\"width\", \"0.500000%\")"
       ],
       "metadata": {},
       "output_type": "display_data"
      },
      {
       "javascript": [
        "$(\"#a3a76631b-2335-4bd4-9ee9-2909e660d00d > .text > .main\").text(\"143/200 (71%) in 29.2 s, 0.21 s last iter; eta 12+-1 s\")"
       ],
       "metadata": {},
       "output_type": "display_data"
      },
      {
       "javascript": [
        "$(\"#a3a76631b-2335-4bd4-9ee9-2909e660d00d > .text > .extra\").text(\"|||| Perplexity: 452.055900448; Topics_left: 150\")"
       ],
       "metadata": {},
       "output_type": "display_data"
      },
      {
       "javascript": [
        "$(\"#a3a76631b-2335-4bd4-9ee9-2909e660d00d > .completed-part\").css(\"width\", \"72.000000%\")"
       ],
       "metadata": {},
       "output_type": "display_data"
      },
      {
       "javascript": [
        "$(\"#a3a76631b-2335-4bd4-9ee9-2909e660d00d > .running-part\").css(\"width\", \"0.500000%\")"
       ],
       "metadata": {},
       "output_type": "display_data"
      },
      {
       "javascript": [
        "$(\"#a3a76631b-2335-4bd4-9ee9-2909e660d00d > .text > .main\").text(\"144/200 (72%) in 29.4 s, 0.20 s last iter; eta 11+-1 s\")"
       ],
       "metadata": {},
       "output_type": "display_data"
      },
      {
       "javascript": [
        "$(\"#a3a76631b-2335-4bd4-9ee9-2909e660d00d > .text > .extra\").text(\"|||| Perplexity: 452.010373106; Topics_left: 150\")"
       ],
       "metadata": {},
       "output_type": "display_data"
      },
      {
       "javascript": [
        "$(\"#a3a76631b-2335-4bd4-9ee9-2909e660d00d > .completed-part\").css(\"width\", \"72.500000%\")"
       ],
       "metadata": {},
       "output_type": "display_data"
      },
      {
       "javascript": [
        "$(\"#a3a76631b-2335-4bd4-9ee9-2909e660d00d > .running-part\").css(\"width\", \"0.500000%\")"
       ],
       "metadata": {},
       "output_type": "display_data"
      },
      {
       "javascript": [
        "$(\"#a3a76631b-2335-4bd4-9ee9-2909e660d00d > .text > .main\").text(\"145/200 (72%) in 29.6 s, 0.20 s last iter; eta 11+-1 s\")"
       ],
       "metadata": {},
       "output_type": "display_data"
      },
      {
       "javascript": [
        "$(\"#a3a76631b-2335-4bd4-9ee9-2909e660d00d > .text > .extra\").text(\"|||| Perplexity: 451.921529499; Topics_left: 150\")"
       ],
       "metadata": {},
       "output_type": "display_data"
      },
      {
       "javascript": [
        "$(\"#a3a76631b-2335-4bd4-9ee9-2909e660d00d > .completed-part\").css(\"width\", \"73.000000%\")"
       ],
       "metadata": {},
       "output_type": "display_data"
      },
      {
       "javascript": [
        "$(\"#a3a76631b-2335-4bd4-9ee9-2909e660d00d > .running-part\").css(\"width\", \"0.500000%\")"
       ],
       "metadata": {},
       "output_type": "display_data"
      },
      {
       "javascript": [
        "$(\"#a3a76631b-2335-4bd4-9ee9-2909e660d00d > .text > .main\").text(\"146/200 (73%) in 29.8 s, 0.19 s last iter; eta 11+-1 s\")"
       ],
       "metadata": {},
       "output_type": "display_data"
      },
      {
       "javascript": [
        "$(\"#a3a76631b-2335-4bd4-9ee9-2909e660d00d > .text > .extra\").text(\"|||| Perplexity: 451.803203127; Topics_left: 150\")"
       ],
       "metadata": {},
       "output_type": "display_data"
      },
      {
       "javascript": [
        "$(\"#a3a76631b-2335-4bd4-9ee9-2909e660d00d > .completed-part\").css(\"width\", \"73.500000%\")"
       ],
       "metadata": {},
       "output_type": "display_data"
      },
      {
       "javascript": [
        "$(\"#a3a76631b-2335-4bd4-9ee9-2909e660d00d > .running-part\").css(\"width\", \"0.500000%\")"
       ],
       "metadata": {},
       "output_type": "display_data"
      },
      {
       "javascript": [
        "$(\"#a3a76631b-2335-4bd4-9ee9-2909e660d00d > .text > .main\").text(\"147/200 (73%) in 30.0 s, 0.20 s last iter; eta 11+-1 s\")"
       ],
       "metadata": {},
       "output_type": "display_data"
      },
      {
       "javascript": [
        "$(\"#a3a76631b-2335-4bd4-9ee9-2909e660d00d > .text > .extra\").text(\"|||| Perplexity: 451.674554442; Topics_left: 150\")"
       ],
       "metadata": {},
       "output_type": "display_data"
      },
      {
       "javascript": [
        "$(\"#a3a76631b-2335-4bd4-9ee9-2909e660d00d > .completed-part\").css(\"width\", \"74.000000%\")"
       ],
       "metadata": {},
       "output_type": "display_data"
      },
      {
       "javascript": [
        "$(\"#a3a76631b-2335-4bd4-9ee9-2909e660d00d > .running-part\").css(\"width\", \"0.500000%\")"
       ],
       "metadata": {},
       "output_type": "display_data"
      },
      {
       "javascript": [
        "$(\"#a3a76631b-2335-4bd4-9ee9-2909e660d00d > .text > .main\").text(\"148/200 (74%) in 30.2 s, 0.20 s last iter; eta 10+-0 s\")"
       ],
       "metadata": {},
       "output_type": "display_data"
      },
      {
       "javascript": [
        "$(\"#a3a76631b-2335-4bd4-9ee9-2909e660d00d > .text > .extra\").text(\"|||| Perplexity: 451.631261417; Topics_left: 150\")"
       ],
       "metadata": {},
       "output_type": "display_data"
      },
      {
       "javascript": [
        "$(\"#a3a76631b-2335-4bd4-9ee9-2909e660d00d > .completed-part\").css(\"width\", \"74.500000%\")"
       ],
       "metadata": {},
       "output_type": "display_data"
      },
      {
       "javascript": [
        "$(\"#a3a76631b-2335-4bd4-9ee9-2909e660d00d > .running-part\").css(\"width\", \"0.500000%\")"
       ],
       "metadata": {},
       "output_type": "display_data"
      },
      {
       "javascript": [
        "$(\"#a3a76631b-2335-4bd4-9ee9-2909e660d00d > .text > .main\").text(\"149/200 (74%) in 30.4 s, 0.19 s last iter; eta 10+-0 s\")"
       ],
       "metadata": {},
       "output_type": "display_data"
      },
      {
       "javascript": [
        "$(\"#a3a76631b-2335-4bd4-9ee9-2909e660d00d > .text > .extra\").text(\"|||| Perplexity: 451.604283805; Topics_left: 150\")"
       ],
       "metadata": {},
       "output_type": "display_data"
      },
      {
       "javascript": [
        "$(\"#a3a76631b-2335-4bd4-9ee9-2909e660d00d > .completed-part\").css(\"width\", \"75.000000%\")"
       ],
       "metadata": {},
       "output_type": "display_data"
      },
      {
       "javascript": [
        "$(\"#a3a76631b-2335-4bd4-9ee9-2909e660d00d > .running-part\").css(\"width\", \"0.500000%\")"
       ],
       "metadata": {},
       "output_type": "display_data"
      },
      {
       "javascript": [
        "$(\"#a3a76631b-2335-4bd4-9ee9-2909e660d00d > .text > .main\").text(\"150/200 (75%) in 30.6 s, 0.20 s last iter; eta 10+-0 s\")"
       ],
       "metadata": {},
       "output_type": "display_data"
      },
      {
       "javascript": [
        "$(\"#a3a76631b-2335-4bd4-9ee9-2909e660d00d > .text > .extra\").text(\"|||| Perplexity: 451.575425818; Topics_left: 150\")"
       ],
       "metadata": {},
       "output_type": "display_data"
      },
      {
       "javascript": [
        "$(\"#a3a76631b-2335-4bd4-9ee9-2909e660d00d > .completed-part\").css(\"width\", \"75.500000%\")"
       ],
       "metadata": {},
       "output_type": "display_data"
      },
      {
       "javascript": [
        "$(\"#a3a76631b-2335-4bd4-9ee9-2909e660d00d > .running-part\").css(\"width\", \"0.500000%\")"
       ],
       "metadata": {},
       "output_type": "display_data"
      },
      {
       "javascript": [
        "$(\"#a3a76631b-2335-4bd4-9ee9-2909e660d00d > .text > .main\").text(\"151/200 (75%) in 30.8 s, 0.20 s last iter; eta 10+-0 s\")"
       ],
       "metadata": {},
       "output_type": "display_data"
      },
      {
       "javascript": [
        "$(\"#a3a76631b-2335-4bd4-9ee9-2909e660d00d > .text > .extra\").text(\"|||| Perplexity: 451.531201396; Topics_left: 150\")"
       ],
       "metadata": {},
       "output_type": "display_data"
      },
      {
       "javascript": [
        "$(\"#a3a76631b-2335-4bd4-9ee9-2909e660d00d > .completed-part\").css(\"width\", \"76.000000%\")"
       ],
       "metadata": {},
       "output_type": "display_data"
      },
      {
       "javascript": [
        "$(\"#a3a76631b-2335-4bd4-9ee9-2909e660d00d > .running-part\").css(\"width\", \"0.500000%\")"
       ],
       "metadata": {},
       "output_type": "display_data"
      },
      {
       "javascript": [
        "$(\"#a3a76631b-2335-4bd4-9ee9-2909e660d00d > .text > .main\").text(\"152/200 (76%) in 31.0 s, 0.20 s last iter; eta 10+-0 s\")"
       ],
       "metadata": {},
       "output_type": "display_data"
      },
      {
       "javascript": [
        "$(\"#a3a76631b-2335-4bd4-9ee9-2909e660d00d > .text > .extra\").text(\"|||| Perplexity: 451.509247617; Topics_left: 150\")"
       ],
       "metadata": {},
       "output_type": "display_data"
      },
      {
       "javascript": [
        "$(\"#a3a76631b-2335-4bd4-9ee9-2909e660d00d > .completed-part\").css(\"width\", \"76.500000%\")"
       ],
       "metadata": {},
       "output_type": "display_data"
      },
      {
       "javascript": [
        "$(\"#a3a76631b-2335-4bd4-9ee9-2909e660d00d > .running-part\").css(\"width\", \"0.500000%\")"
       ],
       "metadata": {},
       "output_type": "display_data"
      },
      {
       "javascript": [
        "$(\"#a3a76631b-2335-4bd4-9ee9-2909e660d00d > .text > .main\").text(\"153/200 (76%) in 31.2 s, 0.20 s last iter; eta 9+-0 s\")"
       ],
       "metadata": {},
       "output_type": "display_data"
      },
      {
       "javascript": [
        "$(\"#a3a76631b-2335-4bd4-9ee9-2909e660d00d > .text > .extra\").text(\"|||| Perplexity: 451.489490129; Topics_left: 150\")"
       ],
       "metadata": {},
       "output_type": "display_data"
      },
      {
       "javascript": [
        "$(\"#a3a76631b-2335-4bd4-9ee9-2909e660d00d > .completed-part\").css(\"width\", \"77.000000%\")"
       ],
       "metadata": {},
       "output_type": "display_data"
      },
      {
       "javascript": [
        "$(\"#a3a76631b-2335-4bd4-9ee9-2909e660d00d > .running-part\").css(\"width\", \"0.500000%\")"
       ],
       "metadata": {},
       "output_type": "display_data"
      },
      {
       "javascript": [
        "$(\"#a3a76631b-2335-4bd4-9ee9-2909e660d00d > .text > .main\").text(\"154/200 (77%) in 31.4 s, 0.20 s last iter; eta 9+-0 s\")"
       ],
       "metadata": {},
       "output_type": "display_data"
      },
      {
       "javascript": [
        "$(\"#a3a76631b-2335-4bd4-9ee9-2909e660d00d > .text > .extra\").text(\"|||| Perplexity: 451.460325894; Topics_left: 150\")"
       ],
       "metadata": {},
       "output_type": "display_data"
      },
      {
       "javascript": [
        "$(\"#a3a76631b-2335-4bd4-9ee9-2909e660d00d > .completed-part\").css(\"width\", \"77.500000%\")"
       ],
       "metadata": {},
       "output_type": "display_data"
      },
      {
       "javascript": [
        "$(\"#a3a76631b-2335-4bd4-9ee9-2909e660d00d > .running-part\").css(\"width\", \"0.500000%\")"
       ],
       "metadata": {},
       "output_type": "display_data"
      },
      {
       "javascript": [
        "$(\"#a3a76631b-2335-4bd4-9ee9-2909e660d00d > .text > .main\").text(\"155/200 (77%) in 31.6 s, 0.20 s last iter; eta 9+-0 s\")"
       ],
       "metadata": {},
       "output_type": "display_data"
      },
      {
       "javascript": [
        "$(\"#a3a76631b-2335-4bd4-9ee9-2909e660d00d > .text > .extra\").text(\"|||| Perplexity: 451.438061993; Topics_left: 150\")"
       ],
       "metadata": {},
       "output_type": "display_data"
      },
      {
       "javascript": [
        "$(\"#a3a76631b-2335-4bd4-9ee9-2909e660d00d > .completed-part\").css(\"width\", \"78.000000%\")"
       ],
       "metadata": {},
       "output_type": "display_data"
      },
      {
       "javascript": [
        "$(\"#a3a76631b-2335-4bd4-9ee9-2909e660d00d > .running-part\").css(\"width\", \"0.500000%\")"
       ],
       "metadata": {},
       "output_type": "display_data"
      },
      {
       "javascript": [
        "$(\"#a3a76631b-2335-4bd4-9ee9-2909e660d00d > .text > .main\").text(\"156/200 (78%) in 31.8 s, 0.20 s last iter; eta 9+-0 s\")"
       ],
       "metadata": {},
       "output_type": "display_data"
      },
      {
       "javascript": [
        "$(\"#a3a76631b-2335-4bd4-9ee9-2909e660d00d > .text > .extra\").text(\"|||| Perplexity: 451.428027918; Topics_left: 150\")"
       ],
       "metadata": {},
       "output_type": "display_data"
      },
      {
       "javascript": [
        "$(\"#a3a76631b-2335-4bd4-9ee9-2909e660d00d > .completed-part\").css(\"width\", \"78.500000%\")"
       ],
       "metadata": {},
       "output_type": "display_data"
      },
      {
       "javascript": [
        "$(\"#a3a76631b-2335-4bd4-9ee9-2909e660d00d > .running-part\").css(\"width\", \"0.500000%\")"
       ],
       "metadata": {},
       "output_type": "display_data"
      },
      {
       "javascript": [
        "$(\"#a3a76631b-2335-4bd4-9ee9-2909e660d00d > .text > .main\").text(\"157/200 (78%) in 32.0 s, 0.20 s last iter; eta 9+-0 s\")"
       ],
       "metadata": {},
       "output_type": "display_data"
      },
      {
       "javascript": [
        "$(\"#a3a76631b-2335-4bd4-9ee9-2909e660d00d > .text > .extra\").text(\"|||| Perplexity: 451.404197883; Topics_left: 150\")"
       ],
       "metadata": {},
       "output_type": "display_data"
      },
      {
       "javascript": [
        "$(\"#a3a76631b-2335-4bd4-9ee9-2909e660d00d > .completed-part\").css(\"width\", \"79.000000%\")"
       ],
       "metadata": {},
       "output_type": "display_data"
      },
      {
       "javascript": [
        "$(\"#a3a76631b-2335-4bd4-9ee9-2909e660d00d > .running-part\").css(\"width\", \"0.500000%\")"
       ],
       "metadata": {},
       "output_type": "display_data"
      },
      {
       "javascript": [
        "$(\"#a3a76631b-2335-4bd4-9ee9-2909e660d00d > .text > .main\").text(\"158/200 (79%) in 32.2 s, 0.20 s last iter; eta 8+-0 s\")"
       ],
       "metadata": {},
       "output_type": "display_data"
      },
      {
       "javascript": [
        "$(\"#a3a76631b-2335-4bd4-9ee9-2909e660d00d > .text > .extra\").text(\"|||| Perplexity: 451.37378506; Topics_left: 150\")"
       ],
       "metadata": {},
       "output_type": "display_data"
      },
      {
       "javascript": [
        "$(\"#a3a76631b-2335-4bd4-9ee9-2909e660d00d > .completed-part\").css(\"width\", \"79.500000%\")"
       ],
       "metadata": {},
       "output_type": "display_data"
      },
      {
       "javascript": [
        "$(\"#a3a76631b-2335-4bd4-9ee9-2909e660d00d > .running-part\").css(\"width\", \"0.500000%\")"
       ],
       "metadata": {},
       "output_type": "display_data"
      },
      {
       "javascript": [
        "$(\"#a3a76631b-2335-4bd4-9ee9-2909e660d00d > .text > .main\").text(\"159/200 (79%) in 32.4 s, 0.20 s last iter; eta 8+-0 s\")"
       ],
       "metadata": {},
       "output_type": "display_data"
      },
      {
       "javascript": [
        "$(\"#a3a76631b-2335-4bd4-9ee9-2909e660d00d > .text > .extra\").text(\"|||| Perplexity: 451.348703862; Topics_left: 150\")"
       ],
       "metadata": {},
       "output_type": "display_data"
      },
      {
       "javascript": [
        "$(\"#a3a76631b-2335-4bd4-9ee9-2909e660d00d > .completed-part\").css(\"width\", \"80.000000%\")"
       ],
       "metadata": {},
       "output_type": "display_data"
      },
      {
       "javascript": [
        "$(\"#a3a76631b-2335-4bd4-9ee9-2909e660d00d > .running-part\").css(\"width\", \"0.500000%\")"
       ],
       "metadata": {},
       "output_type": "display_data"
      },
      {
       "javascript": [
        "$(\"#a3a76631b-2335-4bd4-9ee9-2909e660d00d > .text > .main\").text(\"160/200 (80%) in 32.6 s, 0.20 s last iter; eta 8+-0 s\")"
       ],
       "metadata": {},
       "output_type": "display_data"
      },
      {
       "javascript": [
        "$(\"#a3a76631b-2335-4bd4-9ee9-2909e660d00d > .text > .extra\").text(\"|||| Perplexity: 451.311398158; Topics_left: 150\")"
       ],
       "metadata": {},
       "output_type": "display_data"
      },
      {
       "javascript": [
        "$(\"#a3a76631b-2335-4bd4-9ee9-2909e660d00d > .completed-part\").css(\"width\", \"80.500000%\")"
       ],
       "metadata": {},
       "output_type": "display_data"
      },
      {
       "javascript": [
        "$(\"#a3a76631b-2335-4bd4-9ee9-2909e660d00d > .running-part\").css(\"width\", \"0.500000%\")"
       ],
       "metadata": {},
       "output_type": "display_data"
      },
      {
       "javascript": [
        "$(\"#a3a76631b-2335-4bd4-9ee9-2909e660d00d > .text > .main\").text(\"161/200 (80%) in 32.8 s, 0.20 s last iter; eta 8+-0 s\")"
       ],
       "metadata": {},
       "output_type": "display_data"
      },
      {
       "javascript": [
        "$(\"#a3a76631b-2335-4bd4-9ee9-2909e660d00d > .text > .extra\").text(\"|||| Perplexity: 451.278170464; Topics_left: 150\")"
       ],
       "metadata": {},
       "output_type": "display_data"
      },
      {
       "javascript": [
        "$(\"#a3a76631b-2335-4bd4-9ee9-2909e660d00d > .completed-part\").css(\"width\", \"81.000000%\")"
       ],
       "metadata": {},
       "output_type": "display_data"
      },
      {
       "javascript": [
        "$(\"#a3a76631b-2335-4bd4-9ee9-2909e660d00d > .running-part\").css(\"width\", \"0.500000%\")"
       ],
       "metadata": {},
       "output_type": "display_data"
      },
      {
       "javascript": [
        "$(\"#a3a76631b-2335-4bd4-9ee9-2909e660d00d > .text > .main\").text(\"162/200 (81%) in 33.0 s, 0.20 s last iter; eta 8+-0 s\")"
       ],
       "metadata": {},
       "output_type": "display_data"
      },
      {
       "javascript": [
        "$(\"#a3a76631b-2335-4bd4-9ee9-2909e660d00d > .text > .extra\").text(\"|||| Perplexity: 451.269393745; Topics_left: 150\")"
       ],
       "metadata": {},
       "output_type": "display_data"
      },
      {
       "javascript": [
        "$(\"#a3a76631b-2335-4bd4-9ee9-2909e660d00d > .completed-part\").css(\"width\", \"81.500000%\")"
       ],
       "metadata": {},
       "output_type": "display_data"
      },
      {
       "javascript": [
        "$(\"#a3a76631b-2335-4bd4-9ee9-2909e660d00d > .running-part\").css(\"width\", \"0.500000%\")"
       ],
       "metadata": {},
       "output_type": "display_data"
      },
      {
       "javascript": [
        "$(\"#a3a76631b-2335-4bd4-9ee9-2909e660d00d > .text > .main\").text(\"163/200 (81%) in 33.2 s, 0.20 s last iter; eta 7+-0 s\")"
       ],
       "metadata": {},
       "output_type": "display_data"
      },
      {
       "javascript": [
        "$(\"#a3a76631b-2335-4bd4-9ee9-2909e660d00d > .text > .extra\").text(\"|||| Perplexity: 451.249333316; Topics_left: 150\")"
       ],
       "metadata": {},
       "output_type": "display_data"
      },
      {
       "javascript": [
        "$(\"#a3a76631b-2335-4bd4-9ee9-2909e660d00d > .completed-part\").css(\"width\", \"82.000000%\")"
       ],
       "metadata": {},
       "output_type": "display_data"
      },
      {
       "javascript": [
        "$(\"#a3a76631b-2335-4bd4-9ee9-2909e660d00d > .running-part\").css(\"width\", \"0.500000%\")"
       ],
       "metadata": {},
       "output_type": "display_data"
      },
      {
       "javascript": [
        "$(\"#a3a76631b-2335-4bd4-9ee9-2909e660d00d > .text > .main\").text(\"164/200 (82%) in 33.3 s, 0.20 s last iter; eta 7+-0 s\")"
       ],
       "metadata": {},
       "output_type": "display_data"
      },
      {
       "javascript": [
        "$(\"#a3a76631b-2335-4bd4-9ee9-2909e660d00d > .text > .extra\").text(\"|||| Perplexity: 451.232094597; Topics_left: 150\")"
       ],
       "metadata": {},
       "output_type": "display_data"
      },
      {
       "javascript": [
        "$(\"#a3a76631b-2335-4bd4-9ee9-2909e660d00d > .completed-part\").css(\"width\", \"82.500000%\")"
       ],
       "metadata": {},
       "output_type": "display_data"
      },
      {
       "javascript": [
        "$(\"#a3a76631b-2335-4bd4-9ee9-2909e660d00d > .running-part\").css(\"width\", \"0.500000%\")"
       ],
       "metadata": {},
       "output_type": "display_data"
      },
      {
       "javascript": [
        "$(\"#a3a76631b-2335-4bd4-9ee9-2909e660d00d > .text > .main\").text(\"165/200 (82%) in 33.5 s, 0.20 s last iter; eta 7+-0 s\")"
       ],
       "metadata": {},
       "output_type": "display_data"
      },
      {
       "javascript": [
        "$(\"#a3a76631b-2335-4bd4-9ee9-2909e660d00d > .text > .extra\").text(\"|||| Perplexity: 451.209528541; Topics_left: 150\")"
       ],
       "metadata": {},
       "output_type": "display_data"
      },
      {
       "javascript": [
        "$(\"#a3a76631b-2335-4bd4-9ee9-2909e660d00d > .completed-part\").css(\"width\", \"83.000000%\")"
       ],
       "metadata": {},
       "output_type": "display_data"
      },
      {
       "javascript": [
        "$(\"#a3a76631b-2335-4bd4-9ee9-2909e660d00d > .running-part\").css(\"width\", \"0.500000%\")"
       ],
       "metadata": {},
       "output_type": "display_data"
      },
      {
       "javascript": [
        "$(\"#a3a76631b-2335-4bd4-9ee9-2909e660d00d > .text > .main\").text(\"166/200 (83%) in 33.7 s, 0.20 s last iter; eta 7+-0 s\")"
       ],
       "metadata": {},
       "output_type": "display_data"
      },
      {
       "javascript": [
        "$(\"#a3a76631b-2335-4bd4-9ee9-2909e660d00d > .text > .extra\").text(\"|||| Perplexity: 451.18445647; Topics_left: 150\")"
       ],
       "metadata": {},
       "output_type": "display_data"
      },
      {
       "javascript": [
        "$(\"#a3a76631b-2335-4bd4-9ee9-2909e660d00d > .completed-part\").css(\"width\", \"83.500000%\")"
       ],
       "metadata": {},
       "output_type": "display_data"
      },
      {
       "javascript": [
        "$(\"#a3a76631b-2335-4bd4-9ee9-2909e660d00d > .running-part\").css(\"width\", \"0.500000%\")"
       ],
       "metadata": {},
       "output_type": "display_data"
      },
      {
       "javascript": [
        "$(\"#a3a76631b-2335-4bd4-9ee9-2909e660d00d > .text > .main\").text(\"167/200 (83%) in 33.9 s, 0.20 s last iter; eta 7+-0 s\")"
       ],
       "metadata": {},
       "output_type": "display_data"
      },
      {
       "javascript": [
        "$(\"#a3a76631b-2335-4bd4-9ee9-2909e660d00d > .text > .extra\").text(\"|||| Perplexity: 451.159699167; Topics_left: 150\")"
       ],
       "metadata": {},
       "output_type": "display_data"
      },
      {
       "javascript": [
        "$(\"#a3a76631b-2335-4bd4-9ee9-2909e660d00d > .completed-part\").css(\"width\", \"84.000000%\")"
       ],
       "metadata": {},
       "output_type": "display_data"
      },
      {
       "javascript": [
        "$(\"#a3a76631b-2335-4bd4-9ee9-2909e660d00d > .running-part\").css(\"width\", \"0.500000%\")"
       ],
       "metadata": {},
       "output_type": "display_data"
      },
      {
       "javascript": [
        "$(\"#a3a76631b-2335-4bd4-9ee9-2909e660d00d > .text > .main\").text(\"168/200 (84%) in 34.1 s, 0.20 s last iter; eta 6+-0 s\")"
       ],
       "metadata": {},
       "output_type": "display_data"
      },
      {
       "javascript": [
        "$(\"#a3a76631b-2335-4bd4-9ee9-2909e660d00d > .text > .extra\").text(\"|||| Perplexity: 451.145284148; Topics_left: 150\")"
       ],
       "metadata": {},
       "output_type": "display_data"
      },
      {
       "javascript": [
        "$(\"#a3a76631b-2335-4bd4-9ee9-2909e660d00d > .completed-part\").css(\"width\", \"84.500000%\")"
       ],
       "metadata": {},
       "output_type": "display_data"
      },
      {
       "javascript": [
        "$(\"#a3a76631b-2335-4bd4-9ee9-2909e660d00d > .running-part\").css(\"width\", \"0.500000%\")"
       ],
       "metadata": {},
       "output_type": "display_data"
      },
      {
       "javascript": [
        "$(\"#a3a76631b-2335-4bd4-9ee9-2909e660d00d > .text > .main\").text(\"169/200 (84%) in 34.3 s, 0.20 s last iter; eta 6+-0 s\")"
       ],
       "metadata": {},
       "output_type": "display_data"
      },
      {
       "javascript": [
        "$(\"#a3a76631b-2335-4bd4-9ee9-2909e660d00d > .text > .extra\").text(\"|||| Perplexity: 451.120528994; Topics_left: 150\")"
       ],
       "metadata": {},
       "output_type": "display_data"
      },
      {
       "javascript": [
        "$(\"#a3a76631b-2335-4bd4-9ee9-2909e660d00d > .completed-part\").css(\"width\", \"85.000000%\")"
       ],
       "metadata": {},
       "output_type": "display_data"
      },
      {
       "javascript": [
        "$(\"#a3a76631b-2335-4bd4-9ee9-2909e660d00d > .running-part\").css(\"width\", \"0.500000%\")"
       ],
       "metadata": {},
       "output_type": "display_data"
      },
      {
       "javascript": [
        "$(\"#a3a76631b-2335-4bd4-9ee9-2909e660d00d > .text > .main\").text(\"170/200 (85%) in 34.5 s, 0.20 s last iter; eta 6+-0 s\")"
       ],
       "metadata": {},
       "output_type": "display_data"
      },
      {
       "javascript": [
        "$(\"#a3a76631b-2335-4bd4-9ee9-2909e660d00d > .text > .extra\").text(\"|||| Perplexity: 451.101415185; Topics_left: 150\")"
       ],
       "metadata": {},
       "output_type": "display_data"
      },
      {
       "javascript": [
        "$(\"#a3a76631b-2335-4bd4-9ee9-2909e660d00d > .completed-part\").css(\"width\", \"85.500000%\")"
       ],
       "metadata": {},
       "output_type": "display_data"
      },
      {
       "javascript": [
        "$(\"#a3a76631b-2335-4bd4-9ee9-2909e660d00d > .running-part\").css(\"width\", \"0.500000%\")"
       ],
       "metadata": {},
       "output_type": "display_data"
      },
      {
       "javascript": [
        "$(\"#a3a76631b-2335-4bd4-9ee9-2909e660d00d > .text > .main\").text(\"171/200 (85%) in 34.7 s, 0.20 s last iter; eta 6+-0 s\")"
       ],
       "metadata": {},
       "output_type": "display_data"
      },
      {
       "javascript": [
        "$(\"#a3a76631b-2335-4bd4-9ee9-2909e660d00d > .text > .extra\").text(\"|||| Perplexity: 451.103295196; Topics_left: 150\")"
       ],
       "metadata": {},
       "output_type": "display_data"
      },
      {
       "javascript": [
        "$(\"#a3a76631b-2335-4bd4-9ee9-2909e660d00d > .completed-part\").css(\"width\", \"86.000000%\")"
       ],
       "metadata": {},
       "output_type": "display_data"
      },
      {
       "javascript": [
        "$(\"#a3a76631b-2335-4bd4-9ee9-2909e660d00d > .running-part\").css(\"width\", \"0.500000%\")"
       ],
       "metadata": {},
       "output_type": "display_data"
      },
      {
       "javascript": [
        "$(\"#a3a76631b-2335-4bd4-9ee9-2909e660d00d > .text > .main\").text(\"172/200 (86%) in 34.9 s, 0.20 s last iter; eta 6+-0 s\")"
       ],
       "metadata": {},
       "output_type": "display_data"
      },
      {
       "javascript": [
        "$(\"#a3a76631b-2335-4bd4-9ee9-2909e660d00d > .text > .extra\").text(\"|||| Perplexity: 451.080108942; Topics_left: 150\")"
       ],
       "metadata": {},
       "output_type": "display_data"
      },
      {
       "javascript": [
        "$(\"#a3a76631b-2335-4bd4-9ee9-2909e660d00d > .completed-part\").css(\"width\", \"86.500000%\")"
       ],
       "metadata": {},
       "output_type": "display_data"
      },
      {
       "javascript": [
        "$(\"#a3a76631b-2335-4bd4-9ee9-2909e660d00d > .running-part\").css(\"width\", \"0.500000%\")"
       ],
       "metadata": {},
       "output_type": "display_data"
      },
      {
       "javascript": [
        "$(\"#a3a76631b-2335-4bd4-9ee9-2909e660d00d > .text > .main\").text(\"173/200 (86%) in 35.1 s, 0.20 s last iter; eta 5+-0 s\")"
       ],
       "metadata": {},
       "output_type": "display_data"
      },
      {
       "javascript": [
        "$(\"#a3a76631b-2335-4bd4-9ee9-2909e660d00d > .text > .extra\").text(\"|||| Perplexity: 451.071336076; Topics_left: 150\")"
       ],
       "metadata": {},
       "output_type": "display_data"
      },
      {
       "javascript": [
        "$(\"#a3a76631b-2335-4bd4-9ee9-2909e660d00d > .completed-part\").css(\"width\", \"87.000000%\")"
       ],
       "metadata": {},
       "output_type": "display_data"
      },
      {
       "javascript": [
        "$(\"#a3a76631b-2335-4bd4-9ee9-2909e660d00d > .running-part\").css(\"width\", \"0.500000%\")"
       ],
       "metadata": {},
       "output_type": "display_data"
      },
      {
       "javascript": [
        "$(\"#a3a76631b-2335-4bd4-9ee9-2909e660d00d > .text > .main\").text(\"174/200 (87%) in 35.3 s, 0.21 s last iter; eta 5+-0 s\")"
       ],
       "metadata": {},
       "output_type": "display_data"
      },
      {
       "javascript": [
        "$(\"#a3a76631b-2335-4bd4-9ee9-2909e660d00d > .text > .extra\").text(\"|||| Perplexity: 451.050971151; Topics_left: 150\")"
       ],
       "metadata": {},
       "output_type": "display_data"
      },
      {
       "javascript": [
        "$(\"#a3a76631b-2335-4bd4-9ee9-2909e660d00d > .completed-part\").css(\"width\", \"87.500000%\")"
       ],
       "metadata": {},
       "output_type": "display_data"
      },
      {
       "javascript": [
        "$(\"#a3a76631b-2335-4bd4-9ee9-2909e660d00d > .running-part\").css(\"width\", \"0.500000%\")"
       ],
       "metadata": {},
       "output_type": "display_data"
      },
      {
       "javascript": [
        "$(\"#a3a76631b-2335-4bd4-9ee9-2909e660d00d > .text > .main\").text(\"175/200 (87%) in 35.5 s, 0.20 s last iter; eta 5+-0 s\")"
       ],
       "metadata": {},
       "output_type": "display_data"
      },
      {
       "javascript": [
        "$(\"#a3a76631b-2335-4bd4-9ee9-2909e660d00d > .text > .extra\").text(\"|||| Perplexity: 451.047838167; Topics_left: 150\")"
       ],
       "metadata": {},
       "output_type": "display_data"
      },
      {
       "javascript": [
        "$(\"#a3a76631b-2335-4bd4-9ee9-2909e660d00d > .completed-part\").css(\"width\", \"88.000000%\")"
       ],
       "metadata": {},
       "output_type": "display_data"
      },
      {
       "javascript": [
        "$(\"#a3a76631b-2335-4bd4-9ee9-2909e660d00d > .running-part\").css(\"width\", \"0.500000%\")"
       ],
       "metadata": {},
       "output_type": "display_data"
      },
      {
       "javascript": [
        "$(\"#a3a76631b-2335-4bd4-9ee9-2909e660d00d > .text > .main\").text(\"176/200 (88%) in 35.7 s, 0.20 s last iter; eta 5+-0 s\")"
       ],
       "metadata": {},
       "output_type": "display_data"
      },
      {
       "javascript": [
        "$(\"#a3a76631b-2335-4bd4-9ee9-2909e660d00d > .text > .extra\").text(\"|||| Perplexity: 451.031547002; Topics_left: 150\")"
       ],
       "metadata": {},
       "output_type": "display_data"
      },
      {
       "javascript": [
        "$(\"#a3a76631b-2335-4bd4-9ee9-2909e660d00d > .completed-part\").css(\"width\", \"88.500000%\")"
       ],
       "metadata": {},
       "output_type": "display_data"
      },
      {
       "javascript": [
        "$(\"#a3a76631b-2335-4bd4-9ee9-2909e660d00d > .running-part\").css(\"width\", \"0.500000%\")"
       ],
       "metadata": {},
       "output_type": "display_data"
      },
      {
       "javascript": [
        "$(\"#a3a76631b-2335-4bd4-9ee9-2909e660d00d > .text > .main\").text(\"177/200 (88%) in 35.9 s, 0.20 s last iter; eta 5+-0 s\")"
       ],
       "metadata": {},
       "output_type": "display_data"
      },
      {
       "javascript": [
        "$(\"#a3a76631b-2335-4bd4-9ee9-2909e660d00d > .text > .extra\").text(\"|||| Perplexity: 451.004918481; Topics_left: 150\")"
       ],
       "metadata": {},
       "output_type": "display_data"
      },
      {
       "javascript": [
        "$(\"#a3a76631b-2335-4bd4-9ee9-2909e660d00d > .completed-part\").css(\"width\", \"89.000000%\")"
       ],
       "metadata": {},
       "output_type": "display_data"
      },
      {
       "javascript": [
        "$(\"#a3a76631b-2335-4bd4-9ee9-2909e660d00d > .running-part\").css(\"width\", \"0.500000%\")"
       ],
       "metadata": {},
       "output_type": "display_data"
      },
      {
       "javascript": [
        "$(\"#a3a76631b-2335-4bd4-9ee9-2909e660d00d > .text > .main\").text(\"178/200 (89%) in 36.1 s, 0.20 s last iter; eta 4+-0 s\")"
       ],
       "metadata": {},
       "output_type": "display_data"
      },
      {
       "javascript": [
        "$(\"#a3a76631b-2335-4bd4-9ee9-2909e660d00d > .text > .extra\").text(\"|||| Perplexity: 450.988002354; Topics_left: 150\")"
       ],
       "metadata": {},
       "output_type": "display_data"
      },
      {
       "javascript": [
        "$(\"#a3a76631b-2335-4bd4-9ee9-2909e660d00d > .completed-part\").css(\"width\", \"89.500000%\")"
       ],
       "metadata": {},
       "output_type": "display_data"
      },
      {
       "javascript": [
        "$(\"#a3a76631b-2335-4bd4-9ee9-2909e660d00d > .running-part\").css(\"width\", \"0.500000%\")"
       ],
       "metadata": {},
       "output_type": "display_data"
      },
      {
       "javascript": [
        "$(\"#a3a76631b-2335-4bd4-9ee9-2909e660d00d > .text > .main\").text(\"179/200 (89%) in 36.3 s, 0.20 s last iter; eta 4+-0 s\")"
       ],
       "metadata": {},
       "output_type": "display_data"
      },
      {
       "javascript": [
        "$(\"#a3a76631b-2335-4bd4-9ee9-2909e660d00d > .text > .extra\").text(\"|||| Perplexity: 450.966701468; Topics_left: 150\")"
       ],
       "metadata": {},
       "output_type": "display_data"
      },
      {
       "javascript": [
        "$(\"#a3a76631b-2335-4bd4-9ee9-2909e660d00d > .completed-part\").css(\"width\", \"90.000000%\")"
       ],
       "metadata": {},
       "output_type": "display_data"
      },
      {
       "javascript": [
        "$(\"#a3a76631b-2335-4bd4-9ee9-2909e660d00d > .running-part\").css(\"width\", \"0.500000%\")"
       ],
       "metadata": {},
       "output_type": "display_data"
      },
      {
       "javascript": [
        "$(\"#a3a76631b-2335-4bd4-9ee9-2909e660d00d > .text > .main\").text(\"180/200 (90%) in 36.5 s, 0.20 s last iter; eta 4+-0 s\")"
       ],
       "metadata": {},
       "output_type": "display_data"
      },
      {
       "javascript": [
        "$(\"#a3a76631b-2335-4bd4-9ee9-2909e660d00d > .text > .extra\").text(\"|||| Perplexity: 450.950726464; Topics_left: 150\")"
       ],
       "metadata": {},
       "output_type": "display_data"
      },
      {
       "javascript": [
        "$(\"#a3a76631b-2335-4bd4-9ee9-2909e660d00d > .completed-part\").css(\"width\", \"90.500000%\")"
       ],
       "metadata": {},
       "output_type": "display_data"
      },
      {
       "javascript": [
        "$(\"#a3a76631b-2335-4bd4-9ee9-2909e660d00d > .running-part\").css(\"width\", \"0.500000%\")"
       ],
       "metadata": {},
       "output_type": "display_data"
      },
      {
       "javascript": [
        "$(\"#a3a76631b-2335-4bd4-9ee9-2909e660d00d > .text > .main\").text(\"181/200 (90%) in 36.7 s, 0.20 s last iter; eta 4+-0 s\")"
       ],
       "metadata": {},
       "output_type": "display_data"
      },
      {
       "javascript": [
        "$(\"#a3a76631b-2335-4bd4-9ee9-2909e660d00d > .text > .extra\").text(\"|||| Perplexity: 450.938510666; Topics_left: 150\")"
       ],
       "metadata": {},
       "output_type": "display_data"
      },
      {
       "javascript": [
        "$(\"#a3a76631b-2335-4bd4-9ee9-2909e660d00d > .completed-part\").css(\"width\", \"91.000000%\")"
       ],
       "metadata": {},
       "output_type": "display_data"
      },
      {
       "javascript": [
        "$(\"#a3a76631b-2335-4bd4-9ee9-2909e660d00d > .running-part\").css(\"width\", \"0.500000%\")"
       ],
       "metadata": {},
       "output_type": "display_data"
      },
      {
       "javascript": [
        "$(\"#a3a76631b-2335-4bd4-9ee9-2909e660d00d > .text > .main\").text(\"182/200 (91%) in 36.9 s, 0.20 s last iter; eta 4+-0 s\")"
       ],
       "metadata": {},
       "output_type": "display_data"
      },
      {
       "javascript": [
        "$(\"#a3a76631b-2335-4bd4-9ee9-2909e660d00d > .text > .extra\").text(\"|||| Perplexity: 450.929427338; Topics_left: 150\")"
       ],
       "metadata": {},
       "output_type": "display_data"
      },
      {
       "javascript": [
        "$(\"#a3a76631b-2335-4bd4-9ee9-2909e660d00d > .completed-part\").css(\"width\", \"91.500000%\")"
       ],
       "metadata": {},
       "output_type": "display_data"
      },
      {
       "javascript": [
        "$(\"#a3a76631b-2335-4bd4-9ee9-2909e660d00d > .running-part\").css(\"width\", \"0.500000%\")"
       ],
       "metadata": {},
       "output_type": "display_data"
      },
      {
       "javascript": [
        "$(\"#a3a76631b-2335-4bd4-9ee9-2909e660d00d > .text > .main\").text(\"183/200 (91%) in 37.1 s, 0.20 s last iter; eta 3+-0 s\")"
       ],
       "metadata": {},
       "output_type": "display_data"
      },
      {
       "javascript": [
        "$(\"#a3a76631b-2335-4bd4-9ee9-2909e660d00d > .text > .extra\").text(\"|||| Perplexity: 450.928800908; Topics_left: 150\")"
       ],
       "metadata": {},
       "output_type": "display_data"
      },
      {
       "javascript": [
        "$(\"#a3a76631b-2335-4bd4-9ee9-2909e660d00d > .completed-part\").css(\"width\", \"92.000000%\")"
       ],
       "metadata": {},
       "output_type": "display_data"
      },
      {
       "javascript": [
        "$(\"#a3a76631b-2335-4bd4-9ee9-2909e660d00d > .running-part\").css(\"width\", \"0.500000%\")"
       ],
       "metadata": {},
       "output_type": "display_data"
      },
      {
       "javascript": [
        "$(\"#a3a76631b-2335-4bd4-9ee9-2909e660d00d > .text > .main\").text(\"184/200 (92%) in 37.3 s, 0.20 s last iter; eta 3+-0 s\")"
       ],
       "metadata": {},
       "output_type": "display_data"
      },
      {
       "javascript": [
        "$(\"#a3a76631b-2335-4bd4-9ee9-2909e660d00d > .text > .extra\").text(\"|||| Perplexity: 450.925355561; Topics_left: 150\")"
       ],
       "metadata": {},
       "output_type": "display_data"
      },
      {
       "javascript": [
        "$(\"#a3a76631b-2335-4bd4-9ee9-2909e660d00d > .completed-part\").css(\"width\", \"92.500000%\")"
       ],
       "metadata": {},
       "output_type": "display_data"
      },
      {
       "javascript": [
        "$(\"#a3a76631b-2335-4bd4-9ee9-2909e660d00d > .running-part\").css(\"width\", \"0.500000%\")"
       ],
       "metadata": {},
       "output_type": "display_data"
      },
      {
       "javascript": [
        "$(\"#a3a76631b-2335-4bd4-9ee9-2909e660d00d > .text > .main\").text(\"185/200 (92%) in 37.5 s, 0.20 s last iter; eta 3+-0 s\")"
       ],
       "metadata": {},
       "output_type": "display_data"
      },
      {
       "javascript": [
        "$(\"#a3a76631b-2335-4bd4-9ee9-2909e660d00d > .text > .extra\").text(\"|||| Perplexity: 450.91220084; Topics_left: 150\")"
       ],
       "metadata": {},
       "output_type": "display_data"
      },
      {
       "javascript": [
        "$(\"#a3a76631b-2335-4bd4-9ee9-2909e660d00d > .completed-part\").css(\"width\", \"93.000000%\")"
       ],
       "metadata": {},
       "output_type": "display_data"
      },
      {
       "javascript": [
        "$(\"#a3a76631b-2335-4bd4-9ee9-2909e660d00d > .running-part\").css(\"width\", \"0.500000%\")"
       ],
       "metadata": {},
       "output_type": "display_data"
      },
      {
       "javascript": [
        "$(\"#a3a76631b-2335-4bd4-9ee9-2909e660d00d > .text > .main\").text(\"186/200 (93%) in 37.7 s, 0.20 s last iter; eta 3+-0 s\")"
       ],
       "metadata": {},
       "output_type": "display_data"
      },
      {
       "javascript": [
        "$(\"#a3a76631b-2335-4bd4-9ee9-2909e660d00d > .text > .extra\").text(\"|||| Perplexity: 450.894348618; Topics_left: 150\")"
       ],
       "metadata": {},
       "output_type": "display_data"
      },
      {
       "javascript": [
        "$(\"#a3a76631b-2335-4bd4-9ee9-2909e660d00d > .completed-part\").css(\"width\", \"93.500000%\")"
       ],
       "metadata": {},
       "output_type": "display_data"
      },
      {
       "javascript": [
        "$(\"#a3a76631b-2335-4bd4-9ee9-2909e660d00d > .running-part\").css(\"width\", \"0.500000%\")"
       ],
       "metadata": {},
       "output_type": "display_data"
      },
      {
       "javascript": [
        "$(\"#a3a76631b-2335-4bd4-9ee9-2909e660d00d > .text > .main\").text(\"187/200 (93%) in 37.9 s, 0.20 s last iter; eta 3+-0 s\")"
       ],
       "metadata": {},
       "output_type": "display_data"
      },
      {
       "javascript": [
        "$(\"#a3a76631b-2335-4bd4-9ee9-2909e660d00d > .text > .extra\").text(\"|||| Perplexity: 450.888711221; Topics_left: 150\")"
       ],
       "metadata": {},
       "output_type": "display_data"
      },
      {
       "javascript": [
        "$(\"#a3a76631b-2335-4bd4-9ee9-2909e660d00d > .completed-part\").css(\"width\", \"94.000000%\")"
       ],
       "metadata": {},
       "output_type": "display_data"
      },
      {
       "javascript": [
        "$(\"#a3a76631b-2335-4bd4-9ee9-2909e660d00d > .running-part\").css(\"width\", \"0.500000%\")"
       ],
       "metadata": {},
       "output_type": "display_data"
      },
      {
       "javascript": [
        "$(\"#a3a76631b-2335-4bd4-9ee9-2909e660d00d > .text > .main\").text(\"188/200 (94%) in 38.1 s, 0.20 s last iter; eta 2+-0 s\")"
       ],
       "metadata": {},
       "output_type": "display_data"
      },
      {
       "javascript": [
        "$(\"#a3a76631b-2335-4bd4-9ee9-2909e660d00d > .text > .extra\").text(\"|||| Perplexity: 450.88088162; Topics_left: 150\")"
       ],
       "metadata": {},
       "output_type": "display_data"
      },
      {
       "javascript": [
        "$(\"#a3a76631b-2335-4bd4-9ee9-2909e660d00d > .completed-part\").css(\"width\", \"94.500000%\")"
       ],
       "metadata": {},
       "output_type": "display_data"
      },
      {
       "javascript": [
        "$(\"#a3a76631b-2335-4bd4-9ee9-2909e660d00d > .running-part\").css(\"width\", \"0.500000%\")"
       ],
       "metadata": {},
       "output_type": "display_data"
      },
      {
       "javascript": [
        "$(\"#a3a76631b-2335-4bd4-9ee9-2909e660d00d > .text > .main\").text(\"189/200 (94%) in 38.3 s, 0.20 s last iter; eta 2+-0 s\")"
       ],
       "metadata": {},
       "output_type": "display_data"
      },
      {
       "javascript": [
        "$(\"#a3a76631b-2335-4bd4-9ee9-2909e660d00d > .text > .extra\").text(\"|||| Perplexity: 450.852696183; Topics_left: 150\")"
       ],
       "metadata": {},
       "output_type": "display_data"
      },
      {
       "javascript": [
        "$(\"#a3a76631b-2335-4bd4-9ee9-2909e660d00d > .completed-part\").css(\"width\", \"95.000000%\")"
       ],
       "metadata": {},
       "output_type": "display_data"
      },
      {
       "javascript": [
        "$(\"#a3a76631b-2335-4bd4-9ee9-2909e660d00d > .running-part\").css(\"width\", \"0.500000%\")"
       ],
       "metadata": {},
       "output_type": "display_data"
      },
      {
       "javascript": [
        "$(\"#a3a76631b-2335-4bd4-9ee9-2909e660d00d > .text > .main\").text(\"190/200 (95%) in 38.5 s, 0.20 s last iter; eta 2+-0 s\")"
       ],
       "metadata": {},
       "output_type": "display_data"
      },
      {
       "javascript": [
        "$(\"#a3a76631b-2335-4bd4-9ee9-2909e660d00d > .text > .extra\").text(\"|||| Perplexity: 450.841735655; Topics_left: 150\")"
       ],
       "metadata": {},
       "output_type": "display_data"
      },
      {
       "javascript": [
        "$(\"#a3a76631b-2335-4bd4-9ee9-2909e660d00d > .completed-part\").css(\"width\", \"95.500000%\")"
       ],
       "metadata": {},
       "output_type": "display_data"
      },
      {
       "javascript": [
        "$(\"#a3a76631b-2335-4bd4-9ee9-2909e660d00d > .running-part\").css(\"width\", \"0.500000%\")"
       ],
       "metadata": {},
       "output_type": "display_data"
      },
      {
       "javascript": [
        "$(\"#a3a76631b-2335-4bd4-9ee9-2909e660d00d > .text > .main\").text(\"191/200 (95%) in 38.7 s, 0.20 s last iter; eta 2+-0 s\")"
       ],
       "metadata": {},
       "output_type": "display_data"
      },
      {
       "javascript": [
        "$(\"#a3a76631b-2335-4bd4-9ee9-2909e660d00d > .text > .extra\").text(\"|||| Perplexity: 450.829209664; Topics_left: 150\")"
       ],
       "metadata": {},
       "output_type": "display_data"
      },
      {
       "javascript": [
        "$(\"#a3a76631b-2335-4bd4-9ee9-2909e660d00d > .completed-part\").css(\"width\", \"96.000000%\")"
       ],
       "metadata": {},
       "output_type": "display_data"
      },
      {
       "javascript": [
        "$(\"#a3a76631b-2335-4bd4-9ee9-2909e660d00d > .running-part\").css(\"width\", \"0.500000%\")"
       ],
       "metadata": {},
       "output_type": "display_data"
      },
      {
       "javascript": [
        "$(\"#a3a76631b-2335-4bd4-9ee9-2909e660d00d > .text > .main\").text(\"192/200 (96%) in 38.9 s, 0.20 s last iter; eta 2+-0 s\")"
       ],
       "metadata": {},
       "output_type": "display_data"
      },
      {
       "javascript": [
        "$(\"#a3a76631b-2335-4bd4-9ee9-2909e660d00d > .text > .extra\").text(\"|||| Perplexity: 450.818875983; Topics_left: 150\")"
       ],
       "metadata": {},
       "output_type": "display_data"
      },
      {
       "javascript": [
        "$(\"#a3a76631b-2335-4bd4-9ee9-2909e660d00d > .completed-part\").css(\"width\", \"96.500000%\")"
       ],
       "metadata": {},
       "output_type": "display_data"
      },
      {
       "javascript": [
        "$(\"#a3a76631b-2335-4bd4-9ee9-2909e660d00d > .running-part\").css(\"width\", \"0.500000%\")"
       ],
       "metadata": {},
       "output_type": "display_data"
      },
      {
       "javascript": [
        "$(\"#a3a76631b-2335-4bd4-9ee9-2909e660d00d > .text > .main\").text(\"193/200 (96%) in 39.1 s, 0.20 s last iter; eta 1+-0 s\")"
       ],
       "metadata": {},
       "output_type": "display_data"
      },
      {
       "javascript": [
        "$(\"#a3a76631b-2335-4bd4-9ee9-2909e660d00d > .text > .extra\").text(\"|||| Perplexity: 450.806976887; Topics_left: 150\")"
       ],
       "metadata": {},
       "output_type": "display_data"
      },
      {
       "javascript": [
        "$(\"#a3a76631b-2335-4bd4-9ee9-2909e660d00d > .completed-part\").css(\"width\", \"97.000000%\")"
       ],
       "metadata": {},
       "output_type": "display_data"
      },
      {
       "javascript": [
        "$(\"#a3a76631b-2335-4bd4-9ee9-2909e660d00d > .running-part\").css(\"width\", \"0.500000%\")"
       ],
       "metadata": {},
       "output_type": "display_data"
      },
      {
       "javascript": [
        "$(\"#a3a76631b-2335-4bd4-9ee9-2909e660d00d > .text > .main\").text(\"194/200 (97%) in 39.3 s, 0.20 s last iter; eta 1+-0 s\")"
       ],
       "metadata": {},
       "output_type": "display_data"
      },
      {
       "javascript": [
        "$(\"#a3a76631b-2335-4bd4-9ee9-2909e660d00d > .text > .extra\").text(\"|||| Perplexity: 450.794451861; Topics_left: 150\")"
       ],
       "metadata": {},
       "output_type": "display_data"
      },
      {
       "javascript": [
        "$(\"#a3a76631b-2335-4bd4-9ee9-2909e660d00d > .completed-part\").css(\"width\", \"97.500000%\")"
       ],
       "metadata": {},
       "output_type": "display_data"
      },
      {
       "javascript": [
        "$(\"#a3a76631b-2335-4bd4-9ee9-2909e660d00d > .running-part\").css(\"width\", \"0.500000%\")"
       ],
       "metadata": {},
       "output_type": "display_data"
      },
      {
       "javascript": [
        "$(\"#a3a76631b-2335-4bd4-9ee9-2909e660d00d > .text > .main\").text(\"195/200 (97%) in 39.5 s, 0.20 s last iter; eta 1+-0 s\")"
       ],
       "metadata": {},
       "output_type": "display_data"
      },
      {
       "javascript": [
        "$(\"#a3a76631b-2335-4bd4-9ee9-2909e660d00d > .text > .extra\").text(\"|||| Perplexity: 450.78568455; Topics_left: 150\")"
       ],
       "metadata": {},
       "output_type": "display_data"
      },
      {
       "javascript": [
        "$(\"#a3a76631b-2335-4bd4-9ee9-2909e660d00d > .completed-part\").css(\"width\", \"98.000000%\")"
       ],
       "metadata": {},
       "output_type": "display_data"
      },
      {
       "javascript": [
        "$(\"#a3a76631b-2335-4bd4-9ee9-2909e660d00d > .running-part\").css(\"width\", \"0.500000%\")"
       ],
       "metadata": {},
       "output_type": "display_data"
      },
      {
       "javascript": [
        "$(\"#a3a76631b-2335-4bd4-9ee9-2909e660d00d > .text > .main\").text(\"196/200 (98%) in 39.7 s, 0.20 s last iter; eta 1+-0 s\")"
       ],
       "metadata": {},
       "output_type": "display_data"
      },
      {
       "javascript": [
        "$(\"#a3a76631b-2335-4bd4-9ee9-2909e660d00d > .text > .extra\").text(\"|||| Perplexity: 450.771907692; Topics_left: 150\")"
       ],
       "metadata": {},
       "output_type": "display_data"
      },
      {
       "javascript": [
        "$(\"#a3a76631b-2335-4bd4-9ee9-2909e660d00d > .completed-part\").css(\"width\", \"98.500000%\")"
       ],
       "metadata": {},
       "output_type": "display_data"
      },
      {
       "javascript": [
        "$(\"#a3a76631b-2335-4bd4-9ee9-2909e660d00d > .running-part\").css(\"width\", \"0.500000%\")"
       ],
       "metadata": {},
       "output_type": "display_data"
      },
      {
       "javascript": [
        "$(\"#a3a76631b-2335-4bd4-9ee9-2909e660d00d > .text > .main\").text(\"197/200 (98%) in 39.9 s, 0.20 s last iter; eta 1+-0 s\")"
       ],
       "metadata": {},
       "output_type": "display_data"
      },
      {
       "javascript": [
        "$(\"#a3a76631b-2335-4bd4-9ee9-2909e660d00d > .text > .extra\").text(\"|||| Perplexity: 450.755939588; Topics_left: 150\")"
       ],
       "metadata": {},
       "output_type": "display_data"
      },
      {
       "javascript": [
        "$(\"#a3a76631b-2335-4bd4-9ee9-2909e660d00d > .completed-part\").css(\"width\", \"99.000000%\")"
       ],
       "metadata": {},
       "output_type": "display_data"
      },
      {
       "javascript": [
        "$(\"#a3a76631b-2335-4bd4-9ee9-2909e660d00d > .running-part\").css(\"width\", \"0.500000%\")"
       ],
       "metadata": {},
       "output_type": "display_data"
      },
      {
       "javascript": [
        "$(\"#a3a76631b-2335-4bd4-9ee9-2909e660d00d > .text > .main\").text(\"198/200 (99%) in 40.1 s, 0.20 s last iter; eta 0+-0 s\")"
       ],
       "metadata": {},
       "output_type": "display_data"
      },
      {
       "javascript": [
        "$(\"#a3a76631b-2335-4bd4-9ee9-2909e660d00d > .text > .extra\").text(\"|||| Perplexity: 450.751556286; Topics_left: 150\")"
       ],
       "metadata": {},
       "output_type": "display_data"
      },
      {
       "javascript": [
        "$(\"#a3a76631b-2335-4bd4-9ee9-2909e660d00d > .completed-part\").css(\"width\", \"99.500000%\")"
       ],
       "metadata": {},
       "output_type": "display_data"
      },
      {
       "javascript": [
        "$(\"#a3a76631b-2335-4bd4-9ee9-2909e660d00d > .running-part\").css(\"width\", \"0.500000%\")"
       ],
       "metadata": {},
       "output_type": "display_data"
      },
      {
       "javascript": [
        "$(\"#a3a76631b-2335-4bd4-9ee9-2909e660d00d > .text > .main\").text(\"199/200 (99%) in 40.3 s, 0.21 s last iter; eta 0+-0 s\")"
       ],
       "metadata": {},
       "output_type": "display_data"
      },
      {
       "javascript": [
        "$(\"#a3a76631b-2335-4bd4-9ee9-2909e660d00d > .text > .extra\").text(\"|||| Perplexity: 450.7553134; Topics_left: 150\")"
       ],
       "metadata": {},
       "output_type": "display_data"
      },
      {
       "javascript": [
        "$(\"#a3a76631b-2335-4bd4-9ee9-2909e660d00d > .completed-part\").css(\"width\", \"100.000000%\")"
       ],
       "metadata": {},
       "output_type": "display_data"
      },
      {
       "javascript": [
        "$(\"#a3a76631b-2335-4bd4-9ee9-2909e660d00d > .running-part\").css(\"width\", \"0.500000%\")"
       ],
       "metadata": {},
       "output_type": "display_data"
      },
      {
       "javascript": [
        "$(\"#a3a76631b-2335-4bd4-9ee9-2909e660d00d > .text > .main\").text(\"200/200 (100%) in 40.5 s, 0.20 s last iter; eta 0+-0 s\")"
       ],
       "metadata": {},
       "output_type": "display_data"
      }
     ],
     "prompt_number": 5
    },
    {
     "cell_type": "code",
     "collapsed": false,
     "input": [
      "with codecs.open('authors.txt', encoding='utf-8') as authf:\n",
      "    lines = [line.strip() for line in authf]\n",
      "    docinfos = []\n",
      "    i = 0\n",
      "    while i < len(lines):\n",
      "        assert int(lines[i]) * 3 == i\n",
      "        assert int(lines[i]) == len(docinfos)\n",
      "        i += 1\n",
      "        docinfo = []\n",
      "        while i < len(lines) and not lines[i].isdigit():\n",
      "            docinfo.append(lines[i])\n",
      "            i += 1\n",
      "        assert len(docinfo) == 2\n",
      "        docinfos.append(tuple(docinfo))\n",
      "    docinfos = np.array(docinfos, dtype=h5py.special_dtype(vlen=unicode))"
     ],
     "language": "python",
     "metadata": {},
     "outputs": [],
     "prompt_number": 6
    },
    {
     "cell_type": "code",
     "collapsed": false,
     "input": [
      "with codecs.open('dictionary_new.txt', encoding='utf-8') as dictf:\n",
      "    assert nwd.shape[0] == int(dictf.readline().strip())\n",
      "    indwords = [line.strip().split(' ', 1) for line in dictf]\n",
      "    indwords[723] = ['723', '']\n",
      "    assert all(int(ind) == i for i, (ind, w) in enumerate(indwords))\n",
      "    words = [w.lower() for ind, w in indwords]\n",
      "    words = np.array(words, dtype=h5py.special_dtype(vlen=unicode))"
     ],
     "language": "python",
     "metadata": {},
     "outputs": [],
     "prompt_number": 7
    },
    {
     "cell_type": "code",
     "collapsed": false,
     "input": [
      "with codecs.open('dictionary_new.txt', mode='w', encoding='utf-8') as dictf:\n",
      "    words_new = words[np.nonzero(nwd.sum(1).A1)[0]]\n",
      "    dictf.write(str(words_new.shape[0]) + '\\n')\n",
      "    for i, word in enumerate(words_new):\n",
      "        dictf.write('%d %s\\n' % (i, word.upper()))"
     ],
     "language": "python",
     "metadata": {},
     "outputs": [],
     "prompt_number": 94
    },
    {
     "cell_type": "code",
     "collapsed": false,
     "input": [
      "words_dict = {word: w for w, word in enumerate(words)}"
     ],
     "language": "python",
     "metadata": {},
     "outputs": [],
     "prompt_number": 8
    },
    {
     "cell_type": "code",
     "collapsed": false,
     "input": [
      "with codecs.open('MMROwithOrder.txt', encoding='utf-8') as docsf:\n",
      "    lines = [line.strip() for line in docsf]\n",
      "    docs = []\n",
      "    i = 0\n",
      "    while i < len(lines):\n",
      "        assert int(lines[i]) == len(docs)\n",
      "        i += 1\n",
      "        d = len(docs)\n",
      "        \n",
      "        pwts = em.phi * em.theta[:, d].T\n",
      "        pwts /= pwts.sum(1)[:,np.newaxis]\n",
      "        \n",
      "        doc = []\n",
      "        while i < len(lines) and not lines[i].isdigit():\n",
      "            try:\n",
      "                word, word_norm = lines[i].lower().split(' ', 1)\n",
      "            except ValueError:\n",
      "                word = lines[i].lower().strip()\n",
      "                word_norm = word\n",
      "\n",
      "            # dictionary lookup\n",
      "            try:\n",
      "                w = words_dict[word_norm]\n",
      "            except KeyError:\n",
      "                w = -1\n",
      "                \n",
      "            # topics info\n",
      "            pts = pwts[w]\n",
      "            topics = pts.argsort()[::-1][:5]\n",
      "            pts = pts[topics]\n",
      "                \n",
      "            doc.append((word, w, topics, pts))\n",
      "            i += 1\n",
      "\n",
      "        docs.append(np.array(map(tuple, doc),\n",
      "                             dtype=[('word', h5py.special_dtype(vlen=unicode)),\n",
      "                                    ('w', np.int32),\n",
      "                                    ('topics', np.int32, 5),\n",
      "                                    ('pts', np.float32, 5)]))"
     ],
     "language": "python",
     "metadata": {},
     "outputs": [],
     "prompt_number": 9
    },
    {
     "cell_type": "code",
     "collapsed": false,
     "input": [
      "with open('filenames_new.txt') as fnamesf:\n",
      "    docfnames = [line.strip().split(' ', 1) for line in fnamesf]\n",
      "    docfnames = [(int(d), fname) for d, fname in docfnames]\n",
      "    filenames = np.zeros((max(d for d, fname in docfnames) + 1,), dtype=h5py.special_dtype(vlen=str))\n",
      "    for d, fname in docfnames:\n",
      "        filenames[d] = fname"
     ],
     "language": "python",
     "metadata": {},
     "outputs": [],
     "prompt_number": 42
    },
    {
     "cell_type": "code",
     "collapsed": false,
     "input": [
      "with h5py.File('data.hdf', mode='w') as f:\n",
      "    f.create_dataset('p_wt', data=em.phi)\n",
      "    f.create_dataset('p_td', data=em.theta)\n",
      "    f.create_dataset('p_wd', data=np.dot(em.phi, em.theta))\n",
      "    f.create_dataset('n_wd', data=em.nwd.A, dtype=np.int32)\n",
      "    f.create_dataset('dictionary', data=words)\n",
      "    f.create_dataset('docinfo', data=docinfos)\n",
      "    f.create_dataset('filenames', data=filenames)\n",
      "    \n",
      "    docs_group = f.create_group('documents')\n",
      "    for i, doc in enumerate(docs):\n",
      "        docs_group.create_dataset('%d' % i, data=doc)"
     ],
     "language": "python",
     "metadata": {},
     "outputs": [],
     "prompt_number": 43
    },
    {
     "cell_type": "code",
     "collapsed": false,
     "input": [
      "with open('filenames.txt') as fnamesf:\n",
      "    docfnames = [line.strip().split(' ', 1) for line in fnamesf]\n",
      "    docfnames = [(int(d), fname) for d, fname in docfnames]\n",
      "    d_to_fname = {d: fname for d, fname in docfnames}"
     ],
     "language": "python",
     "metadata": {},
     "outputs": [],
     "prompt_number": 27
    },
    {
     "cell_type": "code",
     "collapsed": false,
     "input": [
      "with open('filenames.txt') as fnamesf:\n",
      "    docfnames = [line.strip().split(' ', 1)[1] for line in fnamesf]\n",
      "    docfiles = [(fname, open('documents/' + fname).read()) for fname in docfnames]\n",
      "\n",
      "full_xml_files = [(fname, open(fname).read()) for fname in glob('documents/xml/*/*')]\n",
      "fname_to_xml = {}\n",
      "\n",
      "for fname, fcont in docfiles:\n",
      "    matches = [fn for fn, fc in full_xml_files if fc == fcont]\n",
      "    if len(matches) == 1:\n",
      "        fname_to_xml[fname] = matches[0].replace('documents/xml/XML_', '').replace('.xml', '')\n",
      "    else:\n",
      "        print fname, matches"
     ],
     "language": "python",
     "metadata": {},
     "outputs": [],
     "prompt_number": 28
    },
    {
     "cell_type": "code",
     "collapsed": false,
     "input": [
      "xml_to_tex = {}\n",
      "\n",
      "tex_fnames = glob('documents/tex/*/*')\n",
      "for xml_fname in glob('documents/xml/*/*'):\n",
      "    fname = xml_fname.replace('/xml/', '/tex/').replace('/XML_', '/').replace('.xml', '.tex').replace('unequated_', '')\n",
      "    matches = [tex_fname for tex_fname in tex_fnames if fname.lower() == tex_fname.lower()]\n",
      "    if len(matches) == 1:\n",
      "        xml_to_tex[xml_fname.replace('documents/xml/XML_', '').replace('.xml', '')] = matches[0].replace('documents/tex/', '')\n",
      "    else:\n",
      "        print xml_fname, matches"
     ],
     "language": "python",
     "metadata": {},
     "outputs": [
      {
       "output_type": "stream",
       "stream": "stdout",
       "text": [
        "documents/xml/XML_2007-MMRO13/unequated_DeWansa_SI_1 - copy.xml []\n"
       ]
      }
     ],
     "prompt_number": 29
    },
    {
     "cell_type": "code",
     "collapsed": false,
     "input": [
      "d_to_tex = {}\n",
      "\n",
      "for d in range(1009):\n",
      "    fname = d_to_fname.get(d, None)\n",
      "    full = fname_to_xml.get(fname, None)\n",
      "    tex = xml_to_tex.get(full, None)\n",
      "    if tex is None:\n",
      "        print d, fname, full, tex\n",
      "    else:\n",
      "        d_to_tex[d] = tex"
     ],
     "language": "python",
     "metadata": {},
     "outputs": [
      {
       "output_type": "stream",
       "stream": "stdout",
       "text": [
        "391 unequated_DeWansa_SI_1 - copy.xml 2007-MMRO13/unequated_DeWansa_SI_1 - copy None\n"
       ]
      }
     ],
     "prompt_number": 30
    },
    {
     "cell_type": "code",
     "collapsed": false,
     "input": [
      "d_to_html = {}\n",
      "\n",
      "for d, tex in d_to_tex.items():\n",
      "    d_to_html[d] = re.sub('.tex$', '', tex, flags=re.I)"
     ],
     "language": "python",
     "metadata": {},
     "outputs": [],
     "prompt_number": 31
    },
    {
     "cell_type": "code",
     "collapsed": false,
     "input": [
      "with open('filenames_new.txt', 'w') as f:\n",
      "    for d, tex in sorted(d_to_html.items()):\n",
      "        f.write('%d %s\\n' % (d, tex))"
     ],
     "language": "python",
     "metadata": {},
     "outputs": [],
     "prompt_number": 40
    },
    {
     "cell_type": "code",
     "collapsed": false,
     "input": [
      "for fname in ProgressBar(glob('documents/tex/*/*')):\n",
      "    outfname = fname.replace('/tex/', '/html/') + '.htex'\n",
      "    outdir = outfname[::-1].split('/', 1)[1][::-1]\n",
      "    print fname, '->', outfname\n",
      "    !mkdir -p {outdir}\n",
      "    !rm {outfname}\n",
      "    !iconv -f cp1251 -t utf-8 {fname} | perl -pe '/^[^%]*%%/ && next; /\\\\%/ && next; s/%.*\\n//g' | pandoc -f latex -t html5 -o {outfname} --standalone --gladtex"
     ],
     "language": "python",
     "metadata": {},
     "outputs": []
    },
    {
     "cell_type": "code",
     "collapsed": false,
     "input": [
      "for fname in ProgressBar(glob('documents/html/*/*.htex')):\n",
      "    outfname = re.sub('.tex.htex$', '.html', fname, flags=re.I)\n",
      "    print fname, '->', outfname\n",
      "    !gladtex -d {outfname.replace('.html', '')} {fname}"
     ],
     "language": "python",
     "metadata": {},
     "outputs": []
    },
    {
     "cell_type": "code",
     "collapsed": false,
     "input": [
      "htexs = glob('documents/html/*/*.htex')\n",
      "htmls = glob('documents/html/*/*.html')\n",
      "emptyfnames = !find documents -type f -empty\n",
      "\n",
      "for texfname in glob('documents/tex/*/*'):\n",
      "    htexfname = texfname.replace('/tex/', '/html/') + '.htex'\n",
      "    htmlfname = re.sub('.tex.htex$', '.html', htexfname, flags=re.I)\n",
      "    ishtex = htexfname in htexs\n",
      "    ishtml = htmlfname in htmls\n",
      "    isempty = (htexfname in emptyfnames) or (htmlfname in emptyfnames)\n",
      "\n",
      "    if not ishtex or not ishtml or isempty:\n",
      "        print '-+'[ishtex], '-+'[ishtml], '+-'[isempty], texfname\n",
      "#         !iconv -f cp1251 -t utf-8 '{texfname}' | sed 's/\\r$//g' | sed 's/\\r/\\n/g' | sed -e '/.$/a\\' | perl -pe '/\\\\%/ && next; s/%.*\\n//g' | pandoc -f latex -t html5 -o '{htexfname}' --standalone --gladtex\n",
      "#         !gladtex -v -d '{htmlfname.replace('.html', '')}' '{htexfname}'"
     ],
     "language": "python",
     "metadata": {},
     "outputs": [],
     "prompt_number": 51
    },
    {
     "cell_type": "code",
     "collapsed": false,
     "input": [
      "with h5py.File('data.hdf', mode='r') as h5f:    \n",
      "    d = 633\n",
      "    filename = h5f['filenames'][d]\n",
      "    content = h5f['documents'][str(d)][...]\n",
      "    if filename != '0':\n",
      "        with codecs.open('documents/html/%s.html' % filename, encoding='utf-8') as f:\n",
      "            html = f.read()\n",
      "        html = re.search(r'<body>.*</body>', html, re.DOTALL).group(0)\n",
      "        \n",
      "        html = re.sub(r'<h(\\d) id=\"[^\"]+\">', r'<h\\1>', html)\n",
      "\n",
      "        ws_were = set()\n",
      "        for word, w, topics, _ in content:\n",
      "            if w != -1 and w not in ws_were:\n",
      "                ws_were.add(w)\n",
      "                html = re.sub(ur'(\\W)(%s)(\\W)' % word, r'\\1<span data-word=\"%d\" data-color=\"%d\"><a href=\"#\">\\2</a></span>\\3' % (w, topics[0]), html, flags=re.I | re.U)\n",
      "\n",
      "        html = re.sub(r'<img class=\"(\\w+)\" src=\"\\w+/(eqn\\d+).png\".*?/>',\n",
      "                      r'<span class=\"sprite-\\2\"></span>',\n",
      "                      html, flags=re.DOTALL | re.MULTILINE)\n",
      "        print html"
     ],
     "language": "python",
     "metadata": {},
     "outputs": [
      {
       "output_type": "stream",
       "stream": "stdout",
       "text": [
        "<body>\n",
        "<header>\n",
        "<h1 class=\"title\"><span data-word=\"1154\" data-color=\"110\"><a href=\"#\">\u041a\u043e\u043c\u0431\u0438\u043d\u0438\u0440\u043e\u0432\u0430\u043d\u043d\u044b\u0435</a></span> <span data-word=\"18\" data-color=\"63\"><a href=\"#\">\u0441\u0438\u0441\u0442\u0435\u043c\u044b</a></span> <span data-word=\"26\" data-color=\"63\"><a href=\"#\">\u0440\u0430\u0441\u043f\u043e\u0437\u043d\u0430\u0432\u0430\u043d\u0438\u044f</a></span> <span data-word=\"25\" data-color=\"63\"><a href=\"#\">\u043e\u0431\u0440\u0430\u0437\u043e\u0432</a></span></h1>\n",
        "<h2 class=\"author\">\u041b\u0430\u043f\u043a\u043e\u00a0\u0410.\u0412., \u041b\u0430\u043f\u043a\u043e\u00a0\u0412.\u0410.</h2>\n",
        "</header>\n",
        "<p>\u0412\u00a0<span data-word=\"12\" data-color=\"63\"><a href=\"#\">\u0440\u0430\u0431\u043e\u0442\u0435</a></span> \u0441\u00a0<span data-word=\"528\" data-color=\"102\"><a href=\"#\">\u043f\u043e\u0437\u0438\u0446\u0438\u0438</a></span> <span data-word=\"336\" data-color=\"63\"><a href=\"#\">\u043f\u043e\u0441\u043b\u0435\u0434\u043e\u0432\u0430\u0442\u0435\u043b\u044c\u043d\u044b\u0445</a></span> <span data-word=\"84\" data-color=\"63\"><a href=\"#\">\u043f\u0440\u043e\u0446\u0435\u0434\u0443\u0440</a></span> <span data-word=\"447\" data-color=\"63\"><a href=\"#\">\u043f\u0440\u0438\u043d\u044f\u0442\u0438\u044f</a></span> <span data-word=\"10\" data-color=\"63\"><a href=\"#\">\u0440\u0435\u0448\u0435\u043d\u0438\u0439</a></span> \u0438\u00a0<span data-word=\"426\" data-color=\"108\"><a href=\"#\">\u043f\u0440\u0438\u043d\u0446\u0438\u043f\u043e\u0432</a></span> <span data-word=\"1159\" data-color=\"102\"><a href=\"#\">\u043a\u043e\u043b\u043b\u0435\u043a\u0442\u0438\u0432\u043d\u043e\u0433\u043e</a></span> <span data-word=\"356\" data-color=\"72\"><a href=\"#\">\u043e\u0446\u0435\u043d\u0438\u0432\u0430\u043d\u0438\u044f</a></span> <span data-word=\"181\" data-color=\"63\"><a href=\"#\">\u043f\u0440\u0435\u0434\u043b\u0430\u0433\u0430\u044e\u0442\u0441\u044f</a></span> <span data-word=\"212\" data-color=\"102\"><a href=\"#\">\u0441\u0442\u0430\u0442\u0438\u0441\u0442\u0438\u0447\u0435\u0441\u043a\u0438\u0435</a></span> <span data-word=\"11\" data-color=\"121\"><a href=\"#\">\u043c\u043e\u0434\u0435\u043b\u0438</a></span> <span data-word=\"26\" data-color=\"63\"><a href=\"#\">\u0440\u0430\u0441\u043f\u043e\u0437\u043d\u0430\u0432\u0430\u043d\u0438\u044f</a></span> <span data-word=\"25\" data-color=\"63\"><a href=\"#\">\u043e\u0431\u0440\u0430\u0437\u043e\u0432</a></span>, <span data-word=\"145\" data-color=\"80\"><a href=\"#\">\u043f\u0440\u0435\u0434\u0441\u0442\u0430\u0432\u043b\u044f\u044e\u0449\u0438\u0435</a></span> \u0441\u043e\u0431\u043e\u0439 <span data-word=\"176\" data-color=\"80\"><a href=\"#\">\u0441\u0435\u043c\u0435\u0439\u0441\u0442\u0432\u043e</a></span> <span data-word=\"470\" data-color=\"80\"><a href=\"#\">\u0447\u0430\u0441\u0442\u043d\u044b\u0445</a></span> <span data-word=\"100\" data-color=\"63\"><a href=\"#\">\u0440\u0435\u0448\u0430\u044e\u0449\u0438\u0445</a></span> <span data-word=\"7\" data-color=\"92\"><a href=\"#\">\u0444\u0443\u043d\u043a\u0446\u0438\u0439</a></span>, <span data-word=\"878\" data-color=\"136\"><a href=\"#\">\u043e\u0440\u0433\u0430\u043d\u0438\u0437\u0430\u0446\u0438\u044f</a></span> \u043a\u043e\u0442\u043e\u0440\u044b\u0445 \u0432 <span data-word=\"953\" data-color=\"63\"><a href=\"#\">\u043d\u0435\u043b\u0438\u043d\u0435\u0439\u043d\u043e\u043c</a></span> \u0440\u0435\u0448\u0430\u044e\u0449\u0435\u043c <span data-word=\"668\" data-color=\"63\"><a href=\"#\">\u043f\u0440\u0430\u0432\u0438\u043b\u0435</a></span> <span data-word=\"379\" data-color=\"63\"><a href=\"#\">\u043e\u0441\u0443\u0449\u0435\u0441\u0442\u0432\u043b\u044f\u0435\u0442\u0441\u044f</a></span> \u0441\u00a0<span data-word=\"68\" data-color=\"63\"><a href=\"#\">\u043f\u043e\u043c\u043e\u0449\u044c\u044e</a></span> <span data-word=\"4\" data-color=\"63\"><a href=\"#\">\u043c\u0435\u0442\u043e\u0434\u043e\u0432</a></span> <span data-word=\"1575\" data-color=\"63\"><a href=\"#\">\u043d\u0435\u043f\u0430\u0440\u0430\u043c\u0435\u0442\u0440\u0438\u0447\u0435\u0441\u043a\u043e\u0439</a></span> <span data-word=\"739\" data-color=\"10\"><a href=\"#\">\u0441\u0442\u0430\u0442\u0438\u0441\u0442\u0438\u043a\u0438</a></span>. \u0427\u0430\u0441\u0442\u043d\u044b\u0435 \u0440\u0435\u0448\u0430\u044e\u0449\u0438\u0435 \u0444\u0443\u043d\u043a\u0446\u0438\u0438 <span data-word=\"605\" data-color=\"63\"><a href=\"#\">\u0444\u043e\u0440\u043c\u0438\u0440\u0443\u044e\u0442\u0441\u044f</a></span> \u043d\u0430\u00a0<span data-word=\"48\" data-color=\"110\"><a href=\"#\">\u043e\u0441\u043d\u043e\u0432\u0435</a></span> <span data-word=\"989\" data-color=\"80\"><a href=\"#\">\u043e\u0434\u043d\u043e\u0440\u043e\u0434\u043d\u044b\u0445</a></span> <span data-word=\"215\" data-color=\"63\"><a href=\"#\">\u0447\u0430\u0441\u0442\u0435\u0439</a></span> <span data-word=\"53\" data-color=\"63\"><a href=\"#\">\u043e\u0431\u0443\u0447\u0430\u044e\u0449\u0435\u0439</a></span> <span data-word=\"29\" data-color=\"63\"><a href=\"#\">\u0432\u044b\u0431\u043e\u0440\u043a\u0438</a></span>, \u043a\u043e\u0442\u043e\u0440\u044b\u0435 <span data-word=\"282\" data-color=\"80\"><a href=\"#\">\u0443\u0434\u043e\u0432\u043b\u0435\u0442\u0432\u043e\u0440\u044f\u044e\u0442</a></span> \u043e\u0434\u043d\u043e\u043c\u0443 \u0438\u043b\u0438 \u043d\u0435\u0441\u043a\u043e\u043b\u044c\u043a\u0438\u043c <span data-word=\"348\" data-color=\"80\"><a href=\"#\">\u0442\u0440\u0435\u0431\u043e\u0432\u0430\u043d\u0438\u044f\u043c</a></span>: <span data-word=\"236\" data-color=\"63\"><a href=\"#\">\u043d\u0430\u043b\u0438\u0447\u0438\u0435</a></span> <span data-word=\"3653\" data-color=\"48\"><a href=\"#\">\u043e\u0434\u043d\u043e\u0442\u0438\u043f\u043d\u044b\u0445</a></span> <span data-word=\"13\" data-color=\"63\"><a href=\"#\">\u043f\u0440\u0438\u0437\u043d\u0430\u043a\u043e\u0432</a></span>, <span data-word=\"1252\" data-color=\"108\"><a href=\"#\">\u043f\u0440\u043e\u043f\u0443\u0441\u043a\u043e\u0432</a></span> <span data-word=\"3\" data-color=\"63\"><a href=\"#\">\u0434\u0430\u043d\u043d\u044b\u0445</a></span>, <span data-word=\"109\" data-color=\"121\"><a href=\"#\">\u0432\u043e\u0437\u043c\u043e\u0436\u043d\u043e\u0441\u0442\u044c</a></span> <span data-word=\"1100\" data-color=\"48\"><a href=\"#\">\u0434\u0435\u043a\u043e\u043c\u043f\u043e\u0437\u0438\u0446\u0438\u0438</a></span> <span data-word=\"65\" data-color=\"63\"><a href=\"#\">\u0438\u0441\u0445\u043e\u0434\u043d\u044b\u0445</a></span> <span data-word=\"13\" data-color=\"63\"><a href=\"#\">\u043f\u0440\u0438\u0437\u043d\u0430\u043a\u043e\u0432</a></span> \u043d\u0430\u00a0<span data-word=\"117\" data-color=\"63\"><a href=\"#\">\u0433\u0440\u0443\u043f\u043f\u044b</a></span> \u0432\u00a0<span data-word=\"198\" data-color=\"63\"><a href=\"#\">\u0441\u043e\u043e\u0442\u0432\u0435\u0442\u0441\u0442\u0432\u0438\u0438</a></span> \u0441\u043e\u00a0<span data-word=\"1327\" data-color=\"63\"><a href=\"#\">\u0441\u043f\u0435\u0446\u0438\u0444\u0438\u043a\u043e\u0439</a></span> \u0440\u0435\u0448\u0430\u0435\u043c\u043e\u0439 <span data-word=\"0\" data-color=\"63\"><a href=\"#\">\u0437\u0430\u0434\u0430\u0447\u0438</a></span>. \u042d\u0442\u043e <span data-word=\"498\" data-color=\"92\"><a href=\"#\">\u043f\u043e\u0440\u043e\u0436\u0434\u0430\u0435\u0442</a></span> <span data-word=\"463\" data-color=\"110\"><a href=\"#\">\u0448\u0438\u0440\u043e\u043a\u0438\u0439</a></span> <span data-word=\"456\" data-color=\"110\"><a href=\"#\">\u043a\u0440\u0443\u0433</a></span> <span data-word=\"251\" data-color=\"63\"><a href=\"#\">\u043f\u043e\u0441\u0442\u0430\u043d\u043e\u0432\u043e\u043a</a></span> \u0437\u0430\u0434\u0430\u0447 <span data-word=\"445\" data-color=\"130\"><a href=\"#\">\u0441\u0438\u043d\u0442\u0435\u0437\u0430</a></span> \u043d\u0435\u043f\u0430\u0440\u0430\u043c\u0435\u0442\u0440\u0438\u0447\u0435\u0441\u043a\u0438\u0445 <span data-word=\"100\" data-color=\"63\"><a href=\"#\">\u0440\u0435\u0448\u0430\u044e\u0449\u0438\u0445</a></span> <span data-word=\"73\" data-color=\"63\"><a href=\"#\">\u043f\u0440\u0430\u0432\u0438\u043b</a></span>. \u041f\u0440\u0438\u00a0<span data-word=\"2070\" data-color=\"48\"><a href=\"#\">\u0438\u043d\u0442\u0435\u0433\u0440\u0430\u0446\u0438\u0438</a></span> <span data-word=\"470\" data-color=\"80\"><a href=\"#\">\u0447\u0430\u0441\u0442\u043d\u044b\u0445</a></span> <span data-word=\"100\" data-color=\"63\"><a href=\"#\">\u0440\u0435\u0448\u0430\u044e\u0449\u0438\u0445</a></span> <span data-word=\"7\" data-color=\"92\"><a href=\"#\">\u0444\u0443\u043d\u043a\u0446\u0438\u0439</a></span> <span data-word=\"54\" data-color=\"63\"><a href=\"#\">\u0438\u0441\u043f\u043e\u043b\u044c\u0437\u0443\u044e\u0442\u0441\u044f</a></span> \u043d\u0435\u043f\u0430\u0440\u0430\u043c\u0435\u0442\u0440\u0438\u0447\u0435\u0441\u043a\u0438\u0435 <span data-word=\"14\" data-color=\"72\"><a href=\"#\">\u043e\u0446\u0435\u043d\u043a\u0438</a></span> <span data-word=\"80\" data-color=\"110\"><a href=\"#\">\u043e\u043f\u0442\u0438\u043c\u0430\u043b\u044c\u043d\u044b\u0445</a></span> <span data-word=\"814\" data-color=\"108\"><a href=\"#\">\u0431\u0430\u0439\u0435\u0441\u043e\u0432\u0441\u043a\u0438\u0445</a></span> <span data-word=\"100\" data-color=\"63\"><a href=\"#\">\u0440\u0435\u0448\u0430\u044e\u0449\u0438\u0445</a></span> <span data-word=\"73\" data-color=\"63\"><a href=\"#\">\u043f\u0440\u0430\u0432\u0438\u043b</a></span>.</p>\n",
        "<h1>\u0421\u0438\u043d\u0442\u0435\u0437 <span data-word=\"74\" data-color=\"48\"><a href=\"#\">\u0441\u0442\u0440\u0443\u043a\u0442\u0443\u0440\u044b</a></span> <span data-word=\"18\" data-color=\"63\"><a href=\"#\">\u0441\u0438\u0441\u0442\u0435\u043c\u044b</a></span></h1>\n",
        "<p>1. \u041f\u0443\u0441\u0442\u044c  <span class=\"sprite-eqn000\"></span> &quot;\u2014 \u043e\u0431\u0443\u0447\u0430\u044e\u0449\u0430\u044f \u0432\u044b\u0431\u043e\u0440\u043a\u0430 <span data-word=\"1511\" data-color=\"63\"><a href=\"#\">\u043e\u0431\u044a\u0451\u043c\u0430</a></span>\u00a0 <span class=\"sprite-eqn001\"></span>, <span data-word=\"831\" data-color=\"136\"><a href=\"#\">\u0441\u043e\u0441\u0442\u0430\u0432\u043b\u0435\u043d\u043d\u0430\u044f</a></span> \u0438\u0437\u00a0<span data-word=\"6\" data-color=\"92\"><a href=\"#\">\u0437\u043d\u0430\u0447\u0435\u043d\u0438\u0439</a></span> <span data-word=\"13\" data-color=\"63\"><a href=\"#\">\u043f\u0440\u0438\u0437\u043d\u0430\u043a\u043e\u0432</a></span> <span data-word=\"642\" data-color=\"63\"><a href=\"#\">\u043a\u043b\u0430\u0441\u0441\u0438\u0444\u0438\u0446\u0438\u0440\u0443\u0435\u043c\u044b\u0445</a></span> <span data-word=\"2\" data-color=\"63\"><a href=\"#\">\u043e\u0431\u044a\u0435\u043a\u0442\u043e\u0432</a></span> \u0438\u00a0<span data-word=\"33\" data-color=\"63\"><a href=\"#\">\u0441\u043e\u043e\u0442\u0432\u0435\u0442\u0441\u0442\u0432\u0443\u044e\u0449\u0438\u0445</a></span> &lt;&lt;<span data-word=\"1662\" data-color=\"63\"><a href=\"#\">\u0443\u043a\u0430\u0437\u0430\u043d\u0438\u0439</a></span> <span data-word=\"2550\" data-color=\"63\"><a href=\"#\">\u0443\u0447\u0438\u0442\u0435\u043b\u044f</a></span>&gt;&gt; \u043e\u0431 \u0438\u0445 <span data-word=\"418\" data-color=\"63\"><a href=\"#\">\u043f\u0440\u0438\u043d\u0430\u0434\u043b\u0435\u0436\u043d\u043e\u0441\u0442\u0438</a></span> \u043a\u00a0\u043e\u0434\u043d\u043e\u043c\u0443 \u0438\u0437\u00a0\u0434\u0432\u0443\u0445 <span data-word=\"16\" data-color=\"63\"><a href=\"#\">\u043a\u043b\u0430\u0441\u0441\u043e\u0432</a></span>, <span data-word=\"1181\" data-color=\"63\"><a href=\"#\">\u043f\u0440\u0438\u0447\u0451\u043c</a></span>  <span class=\"sprite-eqn002\"></span> \u0434\u043b\u044f \u0432\u0441\u0435\u0445  <span class=\"sprite-eqn003\"></span> \u0438  <span class=\"sprite-eqn004\"></span> \u0434\u043b\u044f \u0432\u0441\u0435\u0445  <span class=\"sprite-eqn005\"></span>.</p><p><span data-word=\"1565\" data-color=\"110\"><a href=\"#\">\u041e\u0441\u0443\u0449\u0435\u0441\u0442\u0432\u0438\u043c</a></span> \u0434\u0435\u043a\u043e\u043c\u043f\u043e\u0437\u0438\u0446\u0438\u044e \u0438\u0441\u0445\u043e\u0434\u043d\u043e\u0439 <span data-word=\"29\" data-color=\"63\"><a href=\"#\">\u0432\u044b\u0431\u043e\u0440\u043a\u0438</a></span>  <span class=\"sprite-eqn006\"></span> \u043d\u0430\u00a0 <span class=\"sprite-eqn007\"></span> <span data-word=\"989\" data-color=\"80\"><a href=\"#\">\u043e\u0434\u043d\u043e\u0440\u043e\u0434\u043d\u044b\u0445</a></span> \u0432\u044b\u0431\u043e\u0440\u043e\u043a \u0432\u00a0<span data-word=\"198\" data-color=\"63\"><a href=\"#\">\u0441\u043e\u043e\u0442\u0432\u0435\u0442\u0441\u0442\u0432\u0438\u0438</a></span> \u0441\u043e\u00a0<span data-word=\"1327\" data-color=\"63\"><a href=\"#\">\u0441\u043f\u0435\u0446\u0438\u0444\u0438\u043a\u043e\u0439</a></span> <span data-word=\"0\" data-color=\"63\"><a href=\"#\">\u0437\u0430\u0434\u0430\u0447\u0438</a></span></p><p> <span class=\"sprite-eqn008\"></span> \u0433\u0434\u0435  <span class=\"sprite-eqn009\"></span> <span data-word=\"34\" data-color=\"63\"><a href=\"#\">\u0438\u043c\u0435\u0435\u0442</a></span> <span data-word=\"164\" data-color=\"48\"><a href=\"#\">\u0440\u0430\u0437\u043c\u0435\u0440\u043d\u043e\u0441\u0442\u044c</a></span>  <span class=\"sprite-eqn010\"></span>, \u0430\u00a0 <span class=\"sprite-eqn011\"></span>.</p><p>2. \u041d\u0430 <span data-word=\"48\" data-color=\"110\"><a href=\"#\">\u043e\u0441\u043d\u043e\u0432\u0435</a></span> \u043a\u0430\u0436\u0434\u043e\u0439 <span data-word=\"29\" data-color=\"63\"><a href=\"#\">\u0432\u044b\u0431\u043e\u0440\u043a\u0438</a></span>  <span class=\"sprite-eqn012\"></span> <span data-word=\"92\" data-color=\"63\"><a href=\"#\">\u043f\u043e\u0441\u0442\u0440\u043e\u0438\u043c</a></span> \u043d\u0435\u043f\u0430\u0440\u0430\u043c\u0435\u0442\u0440\u0438\u0447\u0435\u0441\u043a\u043e\u0435 \u0440\u0435\u0448\u0430\u044e\u0449\u0435\u0435 \u043f\u0440\u0430\u0432\u0438\u043b\u043e</p><p> <span class=\"sprite-eqn013\"></span></p><p>\u0433\u0434\u0435  <span class=\"sprite-eqn014\"></span> &quot;\u2014 \u043d\u0435\u043f\u0430\u0440\u0430\u043c\u0435\u0442\u0440\u0438\u0447\u0435\u0441\u043a\u0438\u0435 <span data-word=\"14\" data-color=\"72\"><a href=\"#\">\u043e\u0446\u0435\u043d\u043a\u0438</a></span> <span data-word=\"100\" data-color=\"63\"><a href=\"#\">\u0440\u0435\u0448\u0430\u044e\u0449\u0438\u0445</a></span> <span data-word=\"7\" data-color=\"92\"><a href=\"#\">\u0444\u0443\u043d\u043a\u0446\u0438\u0439</a></span>  <span class=\"sprite-eqn015\"></span></p><p> <span class=\"sprite-eqn016\"></span> \u201c\u2014 <span data-word=\"8\" data-color=\"48\"><a href=\"#\">\u043c\u043d\u043e\u0436\u0435\u0441\u0442\u0432\u043e</a></span> <span data-word=\"242\" data-color=\"63\"><a href=\"#\">\u043d\u043e\u043c\u0435\u0440\u043e\u0432</a></span> <span data-word=\"13\" data-color=\"63\"><a href=\"#\">\u043f\u0440\u0438\u0437\u043d\u0430\u043a\u043e\u0432</a></span>, <span data-word=\"468\" data-color=\"63\"><a href=\"#\">\u0432\u0445\u043e\u0434\u044f\u0449\u0438\u0445</a></span> \u0432\u00a0\u0433\u0440\u0443\u043f\u043f\u0443\u00a0 <span class=\"sprite-eqn017\"></span>;  <span class=\"sprite-eqn018\"></span> \u201d\u2014 <span data-word=\"2280\" data-color=\"10\"><a href=\"#\">\u044f\u0434\u0435\u0440\u043d\u044b\u0435</a></span> \u0444\u0443\u043d\u043a\u0446\u0438\u0438, \u0443\u0434\u043e\u0432\u043b\u0435\u0442\u0432\u043e\u0440\u044f\u044e\u0449\u0438\u0435 <span data-word=\"46\" data-color=\"48\"><a href=\"#\">\u0443\u0441\u043b\u043e\u0432\u0438\u044f\u043c</a></span> <span data-word=\"6038\" data-color=\"63\"><a href=\"#\">\u043f\u043e\u043b\u043e\u0436\u0438\u0442\u0435\u043b\u044c\u043d\u043e\u0441\u0442\u0438</a></span>, <span data-word=\"2502\" data-color=\"63\"><a href=\"#\">\u0441\u0438\u043c\u043c\u0435\u0442\u0440\u0438\u0447\u043d\u043e\u0441\u0442\u0438</a></span>, <span data-word=\"8313\" data-color=\"63\"><a href=\"#\">\u043d\u043e\u0440\u043c\u0438\u0440\u043e\u0432\u0430\u043d\u043d\u043e\u0441\u0442\u0438</a></span>, \u0438\u00a0\u0438\u043c\u0435\u044e\u0449\u0438\u0435 <span data-word=\"179\" data-color=\"80\"><a href=\"#\">\u043a\u043e\u043d\u0435\u0447\u043d\u044b\u0435</a></span> <span data-word=\"1411\" data-color=\"63\"><a href=\"#\">\u0446\u0435\u043d\u0442\u0440\u0430\u043b\u044c\u043d\u044b\u0435</a></span> <span data-word=\"189\" data-color=\"136\"><a href=\"#\">\u043c\u043e\u043c\u0435\u043d\u0442\u044b</a></span>\u00a0<span class=\"citation\" data-cites=\"biblapk\"></span>.</p><p><span data-word=\"229\" data-color=\"48\"><a href=\"#\">\u041e\u043f\u0442\u0438\u043c\u0438\u0437\u0430\u0446\u0438\u044f</a></span> <span data-word=\"470\" data-color=\"80\"><a href=\"#\">\u0447\u0430\u0441\u0442\u043d\u044b\u0445</a></span> <span data-word=\"100\" data-color=\"63\"><a href=\"#\">\u0440\u0435\u0448\u0430\u044e\u0449\u0438\u0445</a></span> <span data-word=\"73\" data-color=\"63\"><a href=\"#\">\u043f\u0440\u0430\u0432\u0438\u043b</a></span> ([eq1]) \u043f\u043e\u00a0<span data-word=\"77\" data-color=\"92\"><a href=\"#\">\u043a\u043e\u044d\u0444\u0444\u0438\u0446\u0438\u0435\u043d\u0442\u0430\u043c</a></span> <span data-word=\"3525\" data-color=\"80\"><a href=\"#\">\u0440\u0430\u0437\u043c\u044b\u0442\u043e\u0441\u0442\u0438</a></span> \u044f\u0434\u0435\u0440\u043d\u044b\u0445 <span data-word=\"7\" data-color=\"92\"><a href=\"#\">\u0444\u0443\u043d\u043a\u0446\u0438\u0439</a></span>  <span class=\"sprite-eqn019\"></span>,  <span class=\"sprite-eqn020\"></span> <span data-word=\"379\" data-color=\"63\"><a href=\"#\">\u043e\u0441\u0443\u0449\u0435\u0441\u0442\u0432\u043b\u044f\u0435\u0442\u0441\u044f</a></span> \u0432\u00a0<span data-word=\"669\" data-color=\"110\"><a href=\"#\">\u0440\u0435\u0436\u0438\u043c\u0435</a></span> &lt;&lt;<span data-word=\"420\" data-color=\"63\"><a href=\"#\">\u0441\u043a\u043e\u043b\u044c\u0437\u044f\u0449\u0435\u0433\u043e</a></span> <span data-word=\"2730\" data-color=\"72\"><a href=\"#\">\u044d\u043a\u0437\u0430\u043c\u0435\u043d\u0430</a></span>&gt;&gt; \u0438\u0437\u00a0\u0443\u0441\u043b\u043e\u0432\u0438\u044f <span data-word=\"288\" data-color=\"148\"><a href=\"#\">\u043c\u0438\u043d\u0438\u043c\u0443\u043c\u0430</a></span> \u0441\u0442\u0430\u0442\u0438\u0441\u0442\u0438\u0447\u0435\u0441\u043a\u043e\u0439 <span data-word=\"14\" data-color=\"72\"><a href=\"#\">\u043e\u0446\u0435\u043d\u043a\u0438</a></span> <span data-word=\"55\" data-color=\"72\"><a href=\"#\">\u0432\u0435\u0440\u043e\u044f\u0442\u043d\u043e\u0441\u0442\u0438</a></span> <span data-word=\"56\" data-color=\"63\"><a href=\"#\">\u043e\u0448\u0438\u0431\u043a\u0438</a></span> <span data-word=\"26\" data-color=\"63\"><a href=\"#\">\u0440\u0430\u0441\u043f\u043e\u0437\u043d\u0430\u0432\u0430\u043d\u0438\u044f</a></span> <span data-word=\"25\" data-color=\"63\"><a href=\"#\">\u043e\u0431\u0440\u0430\u0437\u043e\u0432</a></span>.</p><p>3. <span data-word=\"35\" data-color=\"63\"><a href=\"#\">\u0418\u0441\u043f\u043e\u043b\u044c\u0437\u0443\u044f</a></span> \u043d\u0435\u043f\u0430\u0440\u0430\u043c\u0435\u0442\u0440\u0438\u0447\u0435\u0441\u043a\u0438\u0435 <span data-word=\"14\" data-color=\"72\"><a href=\"#\">\u043e\u0446\u0435\u043d\u043a\u0438</a></span> <span data-word=\"100\" data-color=\"63\"><a href=\"#\">\u0440\u0435\u0448\u0430\u044e\u0449\u0438\u0445</a></span> <span data-word=\"7\" data-color=\"92\"><a href=\"#\">\u0444\u0443\u043d\u043a\u0446\u0438\u0439</a></span>  <span class=\"sprite-eqn021\"></span>, <span data-word=\"732\" data-color=\"63\"><a href=\"#\">\u0441\u0444\u043e\u0440\u043c\u0438\u0440\u0443\u0435\u043c</a></span> \u043e\u0431\u0443\u0447\u0430\u044e\u0449\u0443\u044e \u0432\u044b\u0431\u043e\u0440\u043a\u0443  <span class=\"sprite-eqn022\"></span> \u0438\u00a0<span data-word=\"92\" data-color=\"63\"><a href=\"#\">\u043f\u043e\u0441\u0442\u0440\u043e\u0438\u043c</a></span> \u043a\u043e\u043c\u0431\u0438\u043d\u0438\u0440\u043e\u0432\u0430\u043d\u043d\u043e\u0435 \u0440\u0435\u0448\u0430\u044e\u0449\u0435\u0435 \u043f\u0440\u0430\u0432\u0438\u043b\u043e \u0432 <span data-word=\"37\" data-color=\"63\"><a href=\"#\">\u043f\u0440\u043e\u0441\u0442\u0440\u0430\u043d\u0441\u0442\u0432\u0435</a></span> <span data-word=\"6\" data-color=\"92\"><a href=\"#\">\u0437\u043d\u0430\u0447\u0435\u043d\u0438\u0439</a></span>  <span class=\"sprite-eqn023\"></span>  <span class=\"sprite-eqn024\"></span> \u0433\u0434\u0435 \u043d\u0435\u043f\u0430\u0440\u0430\u043c\u0435\u0442\u0440\u0438\u0447\u0435\u0441\u043a\u0430\u044f \u043e\u0446\u0435\u043d\u043a\u0430 <span data-word=\"1782\" data-color=\"63\"><a href=\"#\">\u043e\u0431\u043e\u0431\u0449\u0451\u043d\u043d\u043e\u0439</a></span> \u0440\u0435\u0448\u0430\u044e\u0449\u0435\u0439 \u0444\u0443\u043d\u043a\u0446\u0438\u0438 \u043c\u0435\u0436\u0434\u0443 \u043a\u043b\u0430\u0441\u0441\u0430\u043c\u0438 <span data-word=\"34\" data-color=\"63\"><a href=\"#\">\u0438\u043c\u0435\u0435\u0442</a></span> <span data-word=\"31\" data-color=\"63\"><a href=\"#\">\u0432\u0438\u0434</a></span>  <span class=\"sprite-eqn025\"></span></p><p>\u041d\u0430 <span data-word=\"126\" data-color=\"63\"><a href=\"#\">\u043f\u0435\u0440\u0432\u043e\u043c</a></span> <span data-word=\"91\" data-color=\"63\"><a href=\"#\">\u0443\u0440\u043e\u0432\u043d\u0435</a></span> <span data-word=\"74\" data-color=\"48\"><a href=\"#\">\u0441\u0442\u0440\u0443\u043a\u0442\u0443\u0440\u044b</a></span> <span data-word=\"129\" data-color=\"63\"><a href=\"#\">\u0440\u0430\u0441\u0441\u043c\u0430\u0442\u0440\u0438\u0432\u0430\u0435\u043c\u043e\u0439</a></span> <span data-word=\"18\" data-color=\"63\"><a href=\"#\">\u0441\u0438\u0441\u0442\u0435\u043c\u044b</a></span> \u043a\u043b\u0430\u0441\u0441\u0438\u0444\u0438\u0446\u0438\u0440\u0443\u0435\u043c\u0430\u044f <span data-word=\"257\" data-color=\"63\"><a href=\"#\">\u0441\u0438\u0442\u0443\u0430\u0446\u0438\u044f</a></span>  <span class=\"sprite-eqn026\"></span> <span data-word=\"2185\" data-color=\"80\"><a href=\"#\">\u043f\u0440\u0435\u043e\u0431\u0440\u0430\u0437\u0443\u0435\u0442\u0441\u044f</a></span> \u0432\u00a0\u0437\u043d\u0430\u0447\u0435\u043d\u0438\u044f \u043d\u0435\u043f\u0430\u0440\u0430\u043c\u0435\u0442\u0440\u0438\u0447\u0435\u0441\u043a\u0438\u0445 \u043e\u0446\u0435\u043d\u043e\u043a  <span class=\"sprite-eqn027\"></span>,  <span class=\"sprite-eqn028\"></span>, \u0432\u00a0<span data-word=\"37\" data-color=\"63\"><a href=\"#\">\u043f\u0440\u043e\u0441\u0442\u0440\u0430\u043d\u0441\u0442\u0432\u0435</a></span> \u043a\u043e\u0442\u043e\u0440\u044b\u0445 <span data-word=\"1133\" data-color=\"63\"><a href=\"#\">\u043f\u0440\u0438\u043d\u0438\u043c\u0430\u0435\u0442\u0441\u044f</a></span> \u0440\u0435\u0448\u0435\u043d\u0438\u0435  <span class=\"sprite-eqn029\"></span> \u043f\u0440\u0430\u0432\u0438\u043b\u043e\u043c  <span class=\"sprite-eqn030\"></span> \u043e\u00a0<span data-word=\"418\" data-color=\"63\"><a href=\"#\">\u043f\u0440\u0438\u043d\u0430\u0434\u043b\u0435\u0436\u043d\u043e\u0441\u0442\u0438</a></span> \u0441\u0438\u0442\u0443\u0430\u0446\u0438\u0438  <span class=\"sprite-eqn026\"></span> \u043a\u00a0\u0442\u043e\u043c\u0443 \u0438\u043b\u0438 \u0438\u043d\u043e\u043c\u0443 \u043a\u043b\u0430\u0441\u0441\u0443.</p><p><span data-word=\"284\" data-color=\"63\"><a href=\"#\">\u041f\u0440\u0435\u0434\u043b\u0430\u0433\u0430\u0435\u043c\u044b\u0439</a></span> <span data-word=\"1\" data-color=\"63\"><a href=\"#\">\u0430\u043b\u0433\u043e\u0440\u0438\u0442\u043c</a></span> <span data-word=\"47\" data-color=\"63\"><a href=\"#\">\u043a\u043b\u0430\u0441\u0441\u0438\u0444\u0438\u043a\u0430\u0446\u0438\u0438</a></span> <span data-word=\"408\" data-color=\"63\"><a href=\"#\">\u043e\u0431\u0435\u0441\u043f\u0435\u0447\u0438\u0432\u0430\u0435\u0442</a></span> \u043d\u0435\u00a0\u0442\u043e\u043b\u044c\u043a\u043e <span data-word=\"165\" data-color=\"80\"><a href=\"#\">\u044d\u0444\u0444\u0435\u043a\u0442\u0438\u0432\u043d\u043e\u0435</a></span> \u0440\u0435\u0448\u0435\u043d\u0438\u0435 \u0437\u0430\u0434\u0430\u0447 <span data-word=\"26\" data-color=\"63\"><a href=\"#\">\u0440\u0430\u0441\u043f\u043e\u0437\u043d\u0430\u0432\u0430\u043d\u0438\u044f</a></span> <span data-word=\"25\" data-color=\"63\"><a href=\"#\">\u043e\u0431\u0440\u0430\u0437\u043e\u0432</a></span> \u0432\u00a0\u0443\u0441\u043b\u043e\u0432\u0438\u044f\u0445 <span data-word=\"632\" data-color=\"72\"><a href=\"#\">\u043c\u0430\u043b\u044b\u0445</a></span> \u0432\u044b\u0431\u043e\u0440\u043e\u043a, \u043d\u043e \u0438\u00a0<span data-word=\"44\" data-color=\"63\"><a href=\"#\">\u043f\u043e\u0437\u0432\u043e\u043b\u044f\u0435\u0442</a></span> <span data-word=\"382\" data-color=\"63\"><a href=\"#\">\u0443\u0447\u0438\u0442\u044b\u0432\u0430\u0442\u044c</a></span> <span data-word=\"324\" data-color=\"136\"><a href=\"#\">\u0430\u043f\u0440\u0438\u043e\u0440\u043d\u044b\u0435</a></span> <span data-word=\"1221\" data-color=\"63\"><a href=\"#\">\u0441\u0432\u0435\u0434\u0435\u043d\u0438\u044f</a></span> \u043e \u0432\u0438\u0434\u0435\u00a0<span data-word=\"470\" data-color=\"80\"><a href=\"#\">\u0447\u0430\u0441\u0442\u043d\u044b\u0445</a></span> <span data-word=\"100\" data-color=\"63\"><a href=\"#\">\u0440\u0435\u0448\u0430\u044e\u0449\u0438\u0445</a></span> <span data-word=\"7\" data-color=\"92\"><a href=\"#\">\u0444\u0443\u043d\u043a\u0446\u0438\u0439</a></span>.</p>\n",
        "<h1><span data-word=\"27\" data-color=\"63\"><a href=\"#\">\u0410\u043d\u0430\u043b\u0438\u0437</a></span> <span data-word=\"19\" data-color=\"63\"><a href=\"#\">\u0440\u0435\u0437\u0443\u043b\u044c\u0442\u0430\u0442\u043e\u0432</a></span> <span data-word=\"144\" data-color=\"80\"><a href=\"#\">\u0432\u044b\u0447\u0438\u0441\u043b\u0438\u0442\u0435\u043b\u044c\u043d\u043e\u0433\u043e</a></span> <span data-word=\"78\" data-color=\"92\"><a href=\"#\">\u044d\u043a\u0441\u043f\u0435\u0440\u0438\u043c\u0435\u043d\u0442\u0430</a></span></h1>\n",
        "<p>\u041d\u0430 <span data-word=\"486\" data-color=\"63\"><a href=\"#\">\u043e\u0441\u043d\u043e\u0432\u0430\u043d\u0438\u0438</a></span> <span data-word=\"3\" data-color=\"63\"><a href=\"#\">\u0434\u0430\u043d\u043d\u044b\u0445</a></span> <span data-word=\"144\" data-color=\"80\"><a href=\"#\">\u0432\u044b\u0447\u0438\u0441\u043b\u0438\u0442\u0435\u043b\u044c\u043d\u043e\u0433\u043e</a></span> <span data-word=\"78\" data-color=\"92\"><a href=\"#\">\u044d\u043a\u0441\u043f\u0435\u0440\u0438\u043c\u0435\u043d\u0442\u0430</a></span> <span data-word=\"1205\" data-color=\"63\"><a href=\"#\">\u0441\u0440\u0430\u0432\u043d\u0438\u0432\u0430\u0435\u0442\u0441\u044f</a></span> <span data-word=\"311\" data-color=\"63\"><a href=\"#\">\u044d\u0444\u0444\u0435\u043a\u0442\u0438\u0432\u043d\u043e\u0441\u0442\u044c</a></span> \u043a\u043e\u043c\u0431\u0438\u043d\u0438\u0440\u043e\u0432\u0430\u043d\u043d\u044b\u0445 <span data-word=\"100\" data-color=\"63\"><a href=\"#\">\u0440\u0435\u0448\u0430\u044e\u0449\u0438\u0445</a></span> <span data-word=\"73\" data-color=\"63\"><a href=\"#\">\u043f\u0440\u0430\u0432\u0438\u043b</a></span> \u0441\u00a0<span data-word=\"102\" data-color=\"80\"><a href=\"#\">\u0445\u043e\u0440\u043e\u0448\u043e</a></span> <span data-word=\"3496\" data-color=\"63\"><a href=\"#\">\u0437\u0430\u0440\u0435\u043a\u043e\u043c\u0435\u043d\u0434\u043e\u0432\u0430\u0432\u0448\u0438\u043c</a></span> \u0441\u0435\u0431\u044f \u043d\u0430\u00a0<span data-word=\"639\" data-color=\"63\"><a href=\"#\">\u043f\u0440\u0430\u043a\u0442\u0438\u043a\u0435</a></span> <span data-word=\"839\" data-color=\"63\"><a href=\"#\">\u0442\u0440\u0430\u0434\u0438\u0446\u0438\u043e\u043d\u043d\u044b\u043c</a></span> \u043d\u0435\u043f\u0430\u0440\u0430\u043c\u0435\u0442\u0440\u0438\u0447\u0435\u0441\u043a\u0438\u043c \u0430\u043b\u0433\u043e\u0440\u0438\u0442\u043c\u043e\u043c <span data-word=\"26\" data-color=\"63\"><a href=\"#\">\u0440\u0430\u0441\u043f\u043e\u0437\u043d\u0430\u0432\u0430\u043d\u0438\u044f</a></span> <span data-word=\"25\" data-color=\"63\"><a href=\"#\">\u043e\u0431\u0440\u0430\u0437\u043e\u0432</a></span> \u0432\u00a0<span data-word=\"37\" data-color=\"63\"><a href=\"#\">\u043f\u0440\u043e\u0441\u0442\u0440\u0430\u043d\u0441\u0442\u0432\u0435</a></span> <span data-word=\"13\" data-color=\"63\"><a href=\"#\">\u043f\u0440\u0438\u0437\u043d\u0430\u043a\u043e\u0432</a></span>  <span class=\"sprite-eqn031\"></span>\u00a0<span class=\"citation\" data-cites=\"biblapko\"></span>.</p><p><span data-word=\"62\" data-color=\"63\"><a href=\"#\">\u0418\u0441\u0441\u043b\u0435\u0434\u043e\u0432\u0430\u043d\u0438\u044f</a></span> \u043e\u0441\u0443\u0449\u0435\u0441\u0442\u0432\u043b\u044f\u043b\u0438\u0441\u044c \u043f\u0440\u0438 \u0440\u0435\u0448\u0435\u043d\u0438\u0438 <span data-word=\"9251\" data-color=\"63\"><a href=\"#\">\u0434\u0432\u0443\u0445\u0430\u043b\u044c\u0442\u0435\u0440\u043d\u0430\u0442\u0438\u0432\u043d\u043e\u0439</a></span> <span data-word=\"0\" data-color=\"63\"><a href=\"#\">\u0437\u0430\u0434\u0430\u0447\u0438</a></span> <span data-word=\"26\" data-color=\"63\"><a href=\"#\">\u0440\u0430\u0441\u043f\u043e\u0437\u043d\u0430\u0432\u0430\u043d\u0438\u044f</a></span> <span data-word=\"25\" data-color=\"63\"><a href=\"#\">\u043e\u0431\u0440\u0430\u0437\u043e\u0432</a></span> \u0432\u00a0 <span class=\"sprite-eqn032\"></span>-<span data-word=\"699\" data-color=\"48\"><a href=\"#\">\u043c\u0435\u0440\u043d\u043e\u043c</a></span> <span data-word=\"37\" data-color=\"63\"><a href=\"#\">\u043f\u0440\u043e\u0441\u0442\u0440\u0430\u043d\u0441\u0442\u0432\u0435</a></span> <span data-word=\"13\" data-color=\"63\"><a href=\"#\">\u043f\u0440\u0438\u0437\u043d\u0430\u043a\u043e\u0432</a></span> \u0441\u043e\u00a0<span data-word=\"217\" data-color=\"130\"><a href=\"#\">\u0441\u043b\u043e\u0436\u043d\u043e\u0439</a></span> \u043d\u0435\u043b\u0438\u043d\u0435\u0439\u043d\u043e\u0439 <span data-word=\"134\" data-color=\"80\"><a href=\"#\">\u0433\u0440\u0430\u043d\u0438\u0446\u0435\u0439</a></span>,  <span class=\"sprite-eqn033\"></span>.</p><p><span data-word=\"988\" data-color=\"102\"><a href=\"#\">\u0414\u043e\u0441\u0442\u043e\u0432\u0435\u0440\u043d\u043e\u0441\u0442\u044c</a></span> <span data-word=\"555\" data-color=\"48\"><a href=\"#\">\u0440\u0430\u0437\u043b\u0438\u0447\u0438\u044f</a></span> <span data-word=\"319\" data-color=\"72\"><a href=\"#\">\u044d\u043c\u043f\u0438\u0440\u0438\u0447\u0435\u0441\u043a\u0438\u0445</a></span> \u043e\u0446\u0435\u043d\u043e\u043a <span data-word=\"55\" data-color=\"72\"><a href=\"#\">\u0432\u0435\u0440\u043e\u044f\u0442\u043d\u043e\u0441\u0442\u0438</a></span> <span data-word=\"56\" data-color=\"63\"><a href=\"#\">\u043e\u0448\u0438\u0431\u043a\u0438</a></span> <span data-word=\"26\" data-color=\"63\"><a href=\"#\">\u0440\u0430\u0441\u043f\u043e\u0437\u043d\u0430\u0432\u0430\u043d\u0438\u044f</a></span> <span data-word=\"25\" data-color=\"63\"><a href=\"#\">\u043e\u0431\u0440\u0430\u0437\u043e\u0432</a></span> <span data-word=\"1078\" data-color=\"72\"><a href=\"#\">\u0441\u0440\u0430\u0432\u043d\u0438\u0432\u0430\u0435\u043c\u044b\u0445</a></span> <span data-word=\"4\" data-color=\"63\"><a href=\"#\">\u043c\u0435\u0442\u043e\u0434\u043e\u0432</a></span> <span data-word=\"1489\" data-color=\"63\"><a href=\"#\">\u0440\u0430\u0441\u0441\u0447\u0438\u0442\u044b\u0432\u0430\u043b\u0430\u0441\u044c</a></span> \u0432\u00a0<span data-word=\"198\" data-color=\"63\"><a href=\"#\">\u0441\u043e\u043e\u0442\u0432\u0435\u0442\u0441\u0442\u0432\u0438\u0438</a></span> \u0441\u00a0<span data-word=\"61\" data-color=\"63\"><a href=\"#\">\u043a\u0440\u0438\u0442\u0435\u0440\u0438\u0435\u043c</a></span> <span data-word=\"10303\" data-color=\"63\"><a href=\"#\">\u0421\u043c\u0438\u0440\u043d\u043e\u0432\u0430</a></span>. \u041f\u0440\u0438 \u044d\u0442\u043e\u043c <span data-word=\"711\" data-color=\"110\"><a href=\"#\">\u0443\u0441\u0442\u0430\u043d\u043e\u0432\u043b\u0435\u043d\u043e</a></span> <span data-word=\"1356\" data-color=\"102\"><a href=\"#\">\u0434\u043e\u0441\u0442\u043e\u0432\u0435\u0440\u043d\u043e\u0435</a></span> <span data-word=\"910\" data-color=\"80\"><a href=\"#\">\u043f\u0440\u0435\u0438\u043c\u0443\u0449\u0435\u0441\u0442\u0432\u043e</a></span> \u043f\u0440\u0435\u0434\u043b\u0430\u0433\u0430\u0435\u043c\u043e\u0433\u043e \u0430\u043b\u0433\u043e\u0440\u0438\u0442\u043c\u0430 \u043d\u0430\u0434 <span data-word=\"839\" data-color=\"63\"><a href=\"#\">\u0442\u0440\u0430\u0434\u0438\u0446\u0438\u043e\u043d\u043d\u044b\u043c</a></span>. \u0414\u0430\u043d\u043d\u0430\u044f <span data-word=\"208\" data-color=\"102\"><a href=\"#\">\u0437\u0430\u043a\u043e\u043d\u043e\u043c\u0435\u0440\u043d\u043e\u0441\u0442\u044c</a></span> <span data-word=\"1369\" data-color=\"48\"><a href=\"#\">\u0441\u043e\u0445\u0440\u0430\u043d\u044f\u0435\u0442\u0441\u044f</a></span> \u0434\u043b\u044f <span data-word=\"57\" data-color=\"63\"><a href=\"#\">\u0440\u0430\u0437\u043b\u0438\u0447\u043d\u044b\u0445</a></span> <span data-word=\"583\" data-color=\"72\"><a href=\"#\">\u043e\u0431\u044a\u0435\u043c\u043e\u0432</a></span> \u043e\u0431\u0443\u0447\u0430\u044e\u0449\u0438\u0445 \u0432\u044b\u0431\u043e\u0440\u043e\u043a.</p>\n",
        "<p><span data-word=\"925\" data-color=\"136\"><a href=\"#\">\u041e\u0431\u043d\u0430\u0440\u0443\u0436\u0435\u043d</a></span> <span data-word=\"1023\" data-color=\"72\"><a href=\"#\">\u044d\u043a\u0441\u0442\u0440\u0435\u043c\u0430\u043b\u044c\u043d\u044b\u0439</a></span> <span data-word=\"651\" data-color=\"110\"><a href=\"#\">\u0445\u0430\u0440\u0430\u043a\u0442\u0435\u0440</a></span> <span data-word=\"153\" data-color=\"63\"><a href=\"#\">\u0437\u0430\u0432\u0438\u0441\u0438\u043c\u043e\u0441\u0442\u0438</a></span> <span data-word=\"210\" data-color=\"80\"><a href=\"#\">\u043f\u043e\u043a\u0430\u0437\u0430\u0442\u0435\u043b\u0435\u0439</a></span> \u044d\u0444\u0444\u0435\u043a\u0442\u0438\u0432\u043d\u043e\u0441\u0442\u0438 \u043a\u043e\u043c\u0431\u0438\u043d\u0438\u0440\u043e\u0432\u0430\u043d\u043d\u043e\u0433\u043e <span data-word=\"154\" data-color=\"72\"><a href=\"#\">\u043a\u043b\u0430\u0441\u0441\u0438\u0444\u0438\u043a\u0430\u0442\u043e\u0440\u0430</a></span> \u043e\u0442\u00a0<span data-word=\"106\" data-color=\"63\"><a href=\"#\">\u043a\u043e\u043b\u0438\u0447\u0435\u0441\u0442\u0432\u0430</a></span>\u00a0 <span class=\"sprite-eqn007\"></span> <span data-word=\"470\" data-color=\"80\"><a href=\"#\">\u0447\u0430\u0441\u0442\u043d\u044b\u0445</a></span> <span data-word=\"100\" data-color=\"63\"><a href=\"#\">\u0440\u0435\u0448\u0430\u044e\u0449\u0438\u0445</a></span> <span data-word=\"73\" data-color=\"63\"><a href=\"#\">\u043f\u0440\u0430\u0432\u0438\u043b</a></span>. <span data-word=\"1181\" data-color=\"63\"><a href=\"#\">\u041f\u0440\u0438\u0447\u0451\u043c</a></span> \u0441\u00a0<span data-word=\"752\" data-color=\"63\"><a href=\"#\">\u0440\u043e\u0441\u0442\u043e\u043c</a></span> \u0440\u0430\u0437\u043c\u0435\u0440\u043d\u043e\u0441\u0442\u0438\u00a0 <span class=\"sprite-eqn032\"></span> <span data-word=\"13\" data-color=\"63\"><a href=\"#\">\u043f\u0440\u0438\u0437\u043d\u0430\u043a\u043e\u0432</a></span> <span data-word=\"642\" data-color=\"63\"><a href=\"#\">\u043a\u043b\u0430\u0441\u0441\u0438\u0444\u0438\u0446\u0438\u0440\u0443\u0435\u043c\u044b\u0445</a></span> <span data-word=\"2\" data-color=\"63\"><a href=\"#\">\u043e\u0431\u044a\u0435\u043a\u0442\u043e\u0432</a></span> \u0435\u0433\u043e <span data-word=\"910\" data-color=\"80\"><a href=\"#\">\u043f\u0440\u0435\u0438\u043c\u0443\u0449\u0435\u0441\u0442\u0432\u043e</a></span> \u043f\u0440\u0438 <span data-word=\"80\" data-color=\"110\"><a href=\"#\">\u043e\u043f\u0442\u0438\u043c\u0430\u043b\u044c\u043d\u044b\u0445</a></span> \u0437\u043d\u0430\u0447\u0435\u043d\u0438\u044f\u0445\u00a0 <span class=\"sprite-eqn007\"></span> \u043d\u0430\u0434 <span data-word=\"839\" data-color=\"63\"><a href=\"#\">\u0442\u0440\u0430\u0434\u0438\u0446\u0438\u043e\u043d\u043d\u044b\u043c</a></span> \u043d\u0435\u043f\u0430\u0440\u0430\u043c\u0435\u0442\u0440\u0438\u0447\u0435\u0441\u043a\u0438\u043c \u0430\u043b\u0433\u043e\u0440\u0438\u0442\u043c\u043e\u043c <span data-word=\"1182\" data-color=\"63\"><a href=\"#\">\u0432\u043e\u0437\u0440\u0430\u0441\u0442\u0430\u0435\u0442</a></span>. <span data-word=\"180\" data-color=\"48\"><a href=\"#\">\u041e\u0442\u043d\u043e\u0448\u0435\u043d\u0438\u0435</a></span> <span data-word=\"172\" data-color=\"63\"><a href=\"#\">\u0441\u0440\u0435\u0434\u043d\u0438\u0445</a></span> <span data-word=\"6\" data-color=\"92\"><a href=\"#\">\u0437\u043d\u0430\u0447\u0435\u043d\u0438\u0439</a></span> \u0438\u0445 \u043e\u0446\u0435\u043d\u043e\u043a <span data-word=\"55\" data-color=\"72\"><a href=\"#\">\u0432\u0435\u0440\u043e\u044f\u0442\u043d\u043e\u0441\u0442\u0438</a></span> <span data-word=\"56\" data-color=\"63\"><a href=\"#\">\u043e\u0448\u0438\u0431\u043a\u0438</a></span> <span data-word=\"1473\" data-color=\"80\"><a href=\"#\">\u0434\u043e\u0441\u0442\u0438\u0433\u0430\u0435\u0442</a></span> <span data-word=\"6509\" data-color=\"109\"><a href=\"#\">\u0442\u0440\u0451\u0445</a></span> \u043d\u0430 <span data-word=\"283\" data-color=\"63\"><a href=\"#\">\u043a\u043e\u043d\u0442\u0440\u043e\u043b\u044c\u043d\u044b\u0445</a></span> \u0432\u044b\u0431\u043e\u0440\u043a\u0430\u0445, \u0447\u0442\u043e <span data-word=\"1140\" data-color=\"63\"><a href=\"#\">\u043e\u0441\u043e\u0431\u0435\u043d\u043d\u043e</a></span> <span data-word=\"1497\" data-color=\"63\"><a href=\"#\">\u043f\u0440\u043e\u044f\u0432\u043b\u044f\u0435\u0442\u0441\u044f</a></span> \u043f\u0440\u0438 <span data-word=\"632\" data-color=\"72\"><a href=\"#\">\u043c\u0430\u043b\u044b\u0445</a></span> <span data-word=\"6449\" data-color=\"63\"><a href=\"#\">\u043e\u0431\u044a\u0451\u043c\u0430\u0445</a></span> <span data-word=\"315\" data-color=\"63\"><a href=\"#\">\u044d\u043a\u0441\u043f\u0435\u0440\u0438\u043c\u0435\u043d\u0442\u0430\u043b\u044c\u043d\u044b\u0445</a></span> <span data-word=\"3\" data-color=\"63\"><a href=\"#\">\u0434\u0430\u043d\u043d\u044b\u0445</a></span>.</p><h1><span data-word=\"574\" data-color=\"110\"><a href=\"#\">\u0417\u0430\u043a\u043b\u044e\u0447\u0435\u043d\u0438\u0435</a></span></h1>\n",
        "<p>\u041d\u0435\u043b\u0438\u043d\u0435\u0439\u043d\u044b\u0435 \u043d\u0435\u043f\u0430\u0440\u0430\u043c\u0435\u0442\u0440\u0438\u0447\u0435\u0441\u043a\u0438\u0435 \u0430\u043b\u0433\u043e\u0440\u0438\u0442\u043c\u044b <span data-word=\"26\" data-color=\"63\"><a href=\"#\">\u0440\u0430\u0441\u043f\u043e\u0437\u043d\u0430\u0432\u0430\u043d\u0438\u044f</a></span> <span data-word=\"25\" data-color=\"63\"><a href=\"#\">\u043e\u0431\u0440\u0430\u0437\u043e\u0432</a></span> <span data-word=\"9\" data-color=\"63\"><a href=\"#\">\u044f\u0432\u043b\u044f\u044e\u0442\u0441\u044f</a></span> \u044d\u0444\u0444\u0435\u043a\u0442\u0438\u0432\u043d\u044b\u043c <span data-word=\"366\" data-color=\"110\"><a href=\"#\">\u0441\u0440\u0435\u0434\u0441\u0442\u0432\u043e\u043c</a></span> \u0440\u0435\u0448\u0435\u043d\u0438\u044f \u0437\u0430\u0434\u0430\u0447 <span data-word=\"47\" data-color=\"63\"><a href=\"#\">\u043a\u043b\u0430\u0441\u0441\u0438\u0444\u0438\u043a\u0430\u0446\u0438\u0438</a></span> \u0432\u00a0\u0443\u0441\u043b\u043e\u0432\u0438\u044f\u0445 <span data-word=\"632\" data-color=\"72\"><a href=\"#\">\u043c\u0430\u043b\u044b\u0445</a></span> \u043e\u0431\u0443\u0447\u0430\u044e\u0449\u0438\u0445 \u0432\u044b\u0431\u043e\u0440\u043e\u043a. \u0418\u0445\u00a0<span data-word=\"121\" data-color=\"63\"><a href=\"#\">\u043f\u0440\u0438\u043c\u0435\u043d\u0435\u043d\u0438\u0435</a></span> <span data-word=\"408\" data-color=\"63\"><a href=\"#\">\u043e\u0431\u0435\u0441\u043f\u0435\u0447\u0438\u0432\u0430\u0435\u0442</a></span> <span data-word=\"329\" data-color=\"80\"><a href=\"#\">\u0437\u043d\u0430\u0447\u0438\u0442\u0435\u043b\u044c\u043d\u043e\u0435</a></span> <span data-word=\"960\" data-color=\"48\"><a href=\"#\">\u0441\u043d\u0438\u0436\u0435\u043d\u0438\u0435</a></span> <span data-word=\"56\" data-color=\"63\"><a href=\"#\">\u043e\u0448\u0438\u0431\u043a\u0438</a></span> <span data-word=\"26\" data-color=\"63\"><a href=\"#\">\u0440\u0430\u0441\u043f\u043e\u0437\u043d\u0430\u0432\u0430\u043d\u0438\u044f</a></span> <span data-word=\"25\" data-color=\"63\"><a href=\"#\">\u043e\u0431\u0440\u0430\u0437\u043e\u0432</a></span> \u043d\u0430\u00a0<span data-word=\"283\" data-color=\"63\"><a href=\"#\">\u043a\u043e\u043d\u0442\u0440\u043e\u043b\u044c\u043d\u044b\u0445</a></span> \u0432\u044b\u0431\u043e\u0440\u043a\u0430\u0445 (\u0432\u00a01.5\u20133 <span data-word=\"1422\" data-color=\"63\"><a href=\"#\">\u0440\u0430\u0437\u0430</a></span>) \u043f\u043e <span data-word=\"89\" data-color=\"80\"><a href=\"#\">\u0441\u0440\u0430\u0432\u043d\u0435\u043d\u0438\u044e</a></span> \u0441 <span data-word=\"839\" data-color=\"63\"><a href=\"#\">\u0442\u0440\u0430\u0434\u0438\u0446\u0438\u043e\u043d\u043d\u044b\u043c</a></span> \u043d\u0435\u043f\u0430\u0440\u0430\u043c\u0435\u0442\u0440\u0438\u0447\u0435\u0441\u043a\u0438\u043c \u043a\u043b\u0430\u0441\u0441\u0438\u0444\u0438\u043a\u0430\u0442\u043e\u0440\u043e\u043c.</p>\n",
        "<p><span data-word=\"1815\" data-color=\"63\"><a href=\"#\">\u041f\u0435\u0440\u0441\u043f\u0435\u043a\u0442\u0438\u0432\u044b</a></span> <span data-word=\"440\" data-color=\"110\"><a href=\"#\">\u0440\u0430\u0437\u0432\u0438\u0442\u0438\u044f</a></span> \u043f\u0440\u0435\u0434\u043b\u0430\u0433\u0430\u0435\u043c\u043e\u0433\u043e <span data-word=\"42\" data-color=\"63\"><a href=\"#\">\u043f\u043e\u0434\u0445\u043e\u0434\u0430</a></span> <span data-word=\"171\" data-color=\"110\"><a href=\"#\">\u0441\u0432\u044f\u0437\u0430\u043d\u044b</a></span> \u0441\u00a0\u0435\u0433\u043e \u043f\u0440\u0438\u043c\u0435\u043d\u0435\u043d\u0438\u0435\u043c \u0432 \u0437\u0430\u0434\u0430\u0447\u0430\u0445 <span data-word=\"47\" data-color=\"63\"><a href=\"#\">\u043a\u043b\u0430\u0441\u0441\u0438\u0444\u0438\u043a\u0430\u0446\u0438\u0438</a></span> \u0432\u00a0\u0443\u0441\u043b\u043e\u0432\u0438\u044f\u0445 <span data-word=\"2340\" data-color=\"108\"><a href=\"#\">\u0440\u0430\u0437\u043d\u043e\u0442\u0438\u043f\u043d\u043e\u0439</a></span> <span data-word=\"58\" data-color=\"63\"><a href=\"#\">\u0438\u043d\u0444\u043e\u0440\u043c\u0430\u0446\u0438\u0438</a></span> \u0438\u00a0<span data-word=\"2361\" data-color=\"80\"><a href=\"#\">\u043d\u0435\u043e\u0434\u043d\u043e\u0440\u043e\u0434\u043d\u044b\u0445</a></span> \u0432\u044b\u0431\u043e\u0440\u043e\u043a, <span data-word=\"205\" data-color=\"63\"><a href=\"#\">\u043f\u043e\u043b\u0443\u0447\u0430\u0435\u043c\u044b\u0445</a></span> \u0432\u00a0\u0440\u0435\u0437\u0443\u043b\u044c\u0442\u0430\u0442\u0435 <span data-word=\"2420\" data-color=\"92\"><a href=\"#\">\u0437\u0430\u043f\u043e\u043b\u043d\u0435\u043d\u0438\u044f</a></span> <span data-word=\"1252\" data-color=\"108\"><a href=\"#\">\u043f\u0440\u043e\u043f\u0443\u0441\u043a\u043e\u0432</a></span> <span data-word=\"3\" data-color=\"63\"><a href=\"#\">\u0434\u0430\u043d\u043d\u044b\u0445</a></span>.</p>\n",
        "<p>\u0420\u0430\u0431\u043e\u0442\u0430 <span data-word=\"226\" data-color=\"63\"><a href=\"#\">\u0432\u044b\u043f\u043e\u043b\u043d\u0435\u043d\u0430</a></span> \u043f\u0440\u0438 <span data-word=\"460\" data-color=\"63\"><a href=\"#\">\u043f\u043e\u0434\u0434\u0435\u0440\u0436\u043a\u0435</a></span> <span data-word=\"582\" data-color=\"110\"><a href=\"#\">\u0420\u0424\u0424\u0418</a></span>, <span data-word=\"534\" data-color=\"110\"><a href=\"#\">\u043f\u0440\u043e\u0435\u043a\u0442</a></span> 07-01-00006.</p>\n",
        "<p><span>1</span> \u041d\u0435\u043f\u0430\u0440\u0430\u043c\u0435\u0442\u0440\u0438\u0447\u0435\u0441\u043a\u0438\u0435 <span data-word=\"18\" data-color=\"63\"><a href=\"#\">\u0441\u0438\u0441\u0442\u0435\u043c\u044b</a></span> <span data-word=\"47\" data-color=\"63\"><a href=\"#\">\u043a\u043b\u0430\u0441\u0441\u0438\u0444\u0438\u043a\u0430\u0446\u0438\u0438</a></span> / \u0410.\u0412.\u00a0\u041b\u0430\u043f\u043a\u043e, \u0412.\u0410.\u00a0\u041b\u0430\u043f\u043a\u043e, \u041c.\u0418.\u00a0\u0421\u043e\u043a\u043e\u043b\u043e\u0432, \u0421.\u0412.\u00a0\u0427\u0435\u043d\u0446\u043e\u0432. \u2014 \u041d\u043e\u0432\u043e\u0441\u0438\u0431\u0438\u0440\u0441\u043a:\u00a0\u041d\u0430\u0443\u043a\u0430, 2000. \u2014 240\u00a0\u0441. \u041e\u0431\u0443\u0447\u0430\u044e\u0449\u0438\u0435\u0441\u044f <span data-word=\"18\" data-color=\"63\"><a href=\"#\">\u0441\u0438\u0441\u0442\u0435\u043c\u044b</a></span> \u043e\u0431\u0440\u0430\u0431\u043e\u0442\u043a\u0438 <span data-word=\"58\" data-color=\"63\"><a href=\"#\">\u0438\u043d\u0444\u043e\u0440\u043c\u0430\u0446\u0438\u0438</a></span> \u0438 <span data-word=\"447\" data-color=\"63\"><a href=\"#\">\u043f\u0440\u0438\u043d\u044f\u0442\u0438\u044f</a></span> <span data-word=\"10\" data-color=\"63\"><a href=\"#\">\u0440\u0435\u0448\u0435\u043d\u0438\u0439</a></span> / \u0410.\u0412.\u00a0\u041b\u0430\u043f\u043a\u043e, \u0421.\u0412.\u00a0\u0427\u0435\u043d\u0446\u043e\u0432, \u0421.\u0418.\u00a0\u041a\u0440\u043e\u0445\u043e\u0432, \u041b.\u0410.\u00a0\u0424\u0435\u043b\u044c\u0434\u043c\u0430\u043d. \u201c\u2014 \u041d\u043e\u0432\u043e\u0441\u0438\u0431\u0438\u0440\u0441\u043a: \u041d\u0430\u0443\u043a\u0430, 1996. \u201d\u2014 296\u00a0\u0441.</p>\n",
        "</body>\n"
       ]
      }
     ],
     "prompt_number": 12
    },
    {
     "cell_type": "code",
     "collapsed": false,
     "input": [
      "csses = !ls web/static/docsdata/*/*.css\n",
      "for css in ProgressBar(csses):\n",
      "    parts = css.split('/')\n",
      "    repl = '/static/docsdata/%s/%s' % (parts[3], parts[4].replace('.css', '.png'))\n",
      "    !sed -i \"s|display: inline-block;||g\" '{css}'\n",
      "    !sed -i \"s|url('.*|url('{repl}');|g\" '{css}'\n",
      "    !sed -i \"s|background-image|display: inline-block; \\nbackground-image|g\" '{css}'\n",
      "#     !cat {css}\n",
      "#     break"
     ],
     "language": "python",
     "metadata": {},
     "outputs": []
    },
    {
     "cell_type": "code",
     "collapsed": false,
     "input": [
      "filename"
     ],
     "language": "python",
     "metadata": {},
     "outputs": [
      {
       "metadata": {},
       "output_type": "pyout",
       "prompt_number": 11,
       "text": [
        "'2007-MMRO13/lapko_MM_2'"
       ]
      }
     ],
     "prompt_number": 11
    }
   ],
   "metadata": {}
  }
 ]
}