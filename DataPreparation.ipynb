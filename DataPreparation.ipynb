{
 "metadata": {
  "name": "",
  "signature": "sha256:6d87063754e77ad1f483c6acdea99a190dbabbad44b83be4e45b18ac7eaf379f"
 },
 "nbformat": 3,
 "nbformat_minor": 0,
 "worksheets": [
  {
   "cells": [
    {
     "cell_type": "code",
     "collapsed": false,
     "input": [
      "import codecs\n",
      "import numpy as np\n",
      "import scipy.sparse\n",
      "import sys\n",
      "import comp_exp\n",
      "import py_artm\n",
      "import h5py\n",
      "sys.path.append('/home/alexander/strijov/MLAlgorithms/Group174/Plavin2014TopicsNumberOptimization/code')\n",
      "from utils import *\n",
      "from ggplot_utils import *\n",
      "from IPython.display import display\n",
      "from functools import partial\n",
      "from itertools import count, groupby\n",
      "from ipy_progressbar import ProgressBar\n",
      "from itertools import starmap\n",
      "import codecs\n",
      "from pprint import pprint\n",
      "from recordtype import recordtype\n",
      "\n",
      "from rpy2.robjects import pandas2ri\n",
      "pandas2ri.activate()\n",
      "import rpy2.robjects as robj\n",
      "from rpy2.robjects.lib import ggplot2 as gg\n",
      "from rpy2.ipython.ggplot import ggplot as iggplot\n",
      "from rpy2.robjects.packages import importr\n",
      "rbase = importr('base')\n",
      "\n",
      "%matplotlib inline\n",
      "%load_ext rpy2.ipython.rmagic\n",
      "\n",
      "from ggplot_utils import *\n",
      "MyGGPlot.latex_enabled = False"
     ],
     "language": "python",
     "metadata": {},
     "outputs": [
      {
       "output_type": "stream",
       "stream": "stdout",
       "text": [
        "The rpy2.ipython.rmagic extension is already loaded. To reload it, use:\n",
        "  %reload_ext rpy2.ipython.rmagic\n"
       ]
      }
     ],
     "prompt_number": 173
    },
    {
     "cell_type": "code",
     "collapsed": false,
     "input": [
      "ds = []\n",
      "ws = []\n",
      "cnts = []\n",
      "\n",
      "with open('MMRO.txt') as nwdf:\n",
      "    D = int(nwdf.readline())\n",
      "    W = int(nwdf.readline())\n",
      "    \n",
      "    for line in nwdf:\n",
      "        d, w, cnt = map(int, line.split())\n",
      "        ds.append(d)\n",
      "        ws.append(w)\n",
      "        cnts.append(cnt)\n",
      "        \n",
      "nwd = scipy.sparse.coo_matrix((cnts, (ws, ds))).astype(np.float32)"
     ],
     "language": "python",
     "metadata": {},
     "outputs": [],
     "prompt_number": 118
    },
    {
     "cell_type": "code",
     "collapsed": false,
     "input": [
      "tau = 0.2\n",
      "t_init = 150\n",
      "\n",
      "em = py_artm.plsa.PlsaEmRational(nwd,\n",
      "                                 t_init,\n",
      "                                 [py_artm.quantities.Perplexity(), py_artm.quantities.TopicsLeft(),\n",
      "                                  py_artm.stop_conditions.ValueBounds('topics_left', lo=2)])\n",
      "em.iterate(200, quiet=1)"
     ],
     "language": "python",
     "metadata": {},
     "outputs": []
    },
    {
     "cell_type": "code",
     "collapsed": false,
     "input": [
      "with codecs.open('authors.txt', encoding='utf-8') as authf:\n",
      "    lines = [line.strip() for line in authf]\n",
      "    docinfos = []\n",
      "    i = 0\n",
      "    while i < len(lines):\n",
      "        assert int(lines[i]) * 3 == i\n",
      "        assert int(lines[i]) == len(docinfos)\n",
      "        i += 1\n",
      "        docinfo = []\n",
      "        while i < len(lines) and not lines[i].isdigit():\n",
      "            docinfo.append(lines[i])\n",
      "            i += 1\n",
      "        assert len(docinfo) == 2\n",
      "        docinfos.append(tuple(docinfo))\n",
      "    docinfos = np.array(docinfos, dtype=h5py.special_dtype(vlen=unicode))"
     ],
     "language": "python",
     "metadata": {},
     "outputs": [],
     "prompt_number": 373
    },
    {
     "cell_type": "code",
     "collapsed": false,
     "input": [
      "with codecs.open('dictionary.txt', encoding='utf-8') as dictf:\n",
      "    assert nwd.shape[0] == int(dictf.readline().strip()[1:])\n",
      "    indwords = [line.strip().split(' ', 1) for line in dictf]\n",
      "    indwords[723] = ['723', '']\n",
      "    assert all(int(ind) == i for i, (ind, w) in enumerate(indwords))\n",
      "    words = [w.lower() for ind, w in indwords]"
     ],
     "language": "python",
     "metadata": {},
     "outputs": [],
     "prompt_number": 275
    },
    {
     "cell_type": "code",
     "collapsed": false,
     "input": [
      "words_dict = {word: w for w, word in enumerate(words)}"
     ],
     "language": "python",
     "metadata": {},
     "outputs": [],
     "prompt_number": 276
    },
    {
     "cell_type": "code",
     "collapsed": false,
     "input": [
      "with codecs.open('MMROwithOrder.txt', encoding='utf-8') as docsf:\n",
      "    lines = [line.strip() for line in docsf]\n",
      "    docs = []\n",
      "    i = 0\n",
      "    while i < len(lines):\n",
      "        assert int(lines[i]) == len(docs)\n",
      "        i += 1\n",
      "        doc = []\n",
      "        while i < len(lines) and not lines[i].isdigit():\n",
      "            doc.append(lines[i].lower().split(' ', 1))\n",
      "            if len(doc[-1]) == 1:\n",
      "                doc[-1].append(None)\n",
      "            assert len(doc[-1]) == 2\n",
      "            try:\n",
      "                doc[-1][1] = words_dict[doc[-1][1]]\n",
      "            except KeyError:\n",
      "                doc[-1][1] = -1\n",
      "            i += 1\n",
      "        docs.append(np.array(map(tuple, doc), dtype=[('word', h5py.special_dtype(vlen=unicode)), ('w', np.int32)]))"
     ],
     "language": "python",
     "metadata": {},
     "outputs": [],
     "prompt_number": 336
    },
    {
     "cell_type": "code",
     "collapsed": false,
     "input": [
      "with h5py.File('data.hdf', mode='w') as f:\n",
      "    f.create_dataset('p_wt', data=em.phi)\n",
      "    f.create_dataset('p_td', data=em.theta)\n",
      "    f.create_dataset('p_wd', data=np.dot(em.phi, em.theta))\n",
      "    f.create_dataset('n_wd', data=em.nwd.A, dtype=np.int32)\n",
      "    f.create_dataset('dictionary', data=np.array(words, dtype=h5py.special_dtype(vlen=unicode)))\n",
      "    f.create_dataset('docinfo', data=docinfos)\n",
      "    \n",
      "    docs_group = f.create_group('documents')\n",
      "    for i, doc in enumerate(docs):\n",
      "        docs_group.create_dataset('%d' % i, data=doc)"
     ],
     "language": "python",
     "metadata": {},
     "outputs": [],
     "prompt_number": 376
    },
    {
     "cell_type": "code",
     "collapsed": false,
     "input": [
      "d = 21\n",
      "\n",
      "with h5py.File('data.hdf', mode='r') as h5f:    \n",
      "    print h5f['docinfo'][...][d][1]"
     ],
     "language": "python",
     "metadata": {},
     "outputs": [
      {
       "output_type": "stream",
       "stream": "stdout",
       "text": [
        "\u0410\u043b\u0433\u043e\u0440\u0438\u0442\u043c \u043b\u043e\u043a\u0430\u043b\u044c\u043d\u043e\u0433\u043e \u043f\u043e\u0438\u0441\u043a\u0430 \u0434\u043b\u044f \u0437\u0430\u0434\u0430\u0447\u0438 \u043a\u043e\u043d\u043a\u0443\u0440\u0435\u043d\u0442\u043d\u043e\u0433\u043e \u0440\u0430\u0437\u043c\u0435\u0449\u0435\u043d\u0438\u044f \u043f\u0440\u0435\u0434\u043f\u0440\u0438\u044f\u0442\u0438\u0439\n"
       ]
      }
     ],
     "prompt_number": 379
    },
    {
     "cell_type": "code",
     "collapsed": false,
     "input": [
      "!ls -lh"
     ],
     "language": "python",
     "metadata": {},
     "outputs": [
      {
       "output_type": "stream",
       "stream": "stdout",
       "text": [
        "total 244M\r\n",
        "-rw-r--r-- 1 alexander alexander 185M Sep 10 12:03 data.hdf\r\n",
        "-rw-r--r-- 1 alexander alexander 6.5K Sep 10 12:04 DataPreparation.ipynb\r\n",
        "-rw-r--r-- 1 alexander alexander 309K Sep  9 15:09 dictionary.txt\r\n",
        "-rw-r--r-- 1 alexander alexander 566K Sep  9 15:08 fulldict.txt\r\n",
        "-rw-r--r-- 1 alexander alexander  26M Sep  9 15:39 MMROlog.txt\r\n",
        "-rw-r--r-- 1 alexander alexander 3.0M Sep  5 08:22 MMRO.txt\r\n",
        "-rw-r--r-- 1 alexander alexander  30M Sep  9 15:39 MMROwithOrder.txt\r\n",
        "drwxr-xr-x 4 alexander alexander 4.0K Sep 10 11:53 web\r\n"
       ]
      }
     ],
     "prompt_number": 254
    }
   ],
   "metadata": {}
  }
 ]
}